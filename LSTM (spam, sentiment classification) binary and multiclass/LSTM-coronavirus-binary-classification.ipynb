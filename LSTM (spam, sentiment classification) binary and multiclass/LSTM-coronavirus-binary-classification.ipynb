{
 "cells": [
  {
   "cell_type": "code",
   "execution_count": 1,
   "id": "5d106116",
   "metadata": {
    "execution": {
     "iopub.execute_input": "2022-03-05T23:36:47.615492Z",
     "iopub.status.busy": "2022-03-05T23:36:47.614922Z",
     "iopub.status.idle": "2022-03-05T23:36:50.403735Z",
     "shell.execute_reply": "2022-03-05T23:36:50.402946Z",
     "shell.execute_reply.started": "2022-03-05T22:25:22.852671Z"
    },
    "papermill": {
     "duration": 2.811379,
     "end_time": "2022-03-05T23:36:50.403883",
     "exception": false,
     "start_time": "2022-03-05T23:36:47.592504",
     "status": "completed"
    },
    "tags": []
   },
   "outputs": [],
   "source": [
    "import torch\n",
    "import torch.nn as nn\n",
    "import torch.optim as optim\n",
    "import torch.nn.functional as F\n",
    "import itertools\n",
    "from torch.utils.data import Dataset\n",
    "from torch.utils.data import DataLoader\n",
    "from sklearn.metrics import roc_curve \n",
    "import numpy as np\n",
    "import pandas as pd\n",
    "\n",
    "import string\n",
    "from nltk.corpus import stopwords\n",
    "\n",
    "from sklearn.model_selection import train_test_split\n",
    "import tqdm"
   ]
  },
  {
   "cell_type": "markdown",
   "id": "1616f526",
   "metadata": {
    "papermill": {
     "duration": 0.014443,
     "end_time": "2022-03-05T23:36:50.432398",
     "exception": false,
     "start_time": "2022-03-05T23:36:50.417955",
     "status": "completed"
    },
    "tags": []
   },
   "source": [
    "# 1. Preprocessing"
   ]
  },
  {
   "cell_type": "code",
   "execution_count": 2,
   "id": "67fa3ea0",
   "metadata": {
    "execution": {
     "iopub.execute_input": "2022-03-05T23:36:50.467952Z",
     "iopub.status.busy": "2022-03-05T23:36:50.467242Z",
     "iopub.status.idle": "2022-03-05T23:36:50.470727Z",
     "shell.execute_reply": "2022-03-05T23:36:50.470301Z",
     "shell.execute_reply.started": "2022-03-05T22:47:33.107881Z"
    },
    "papermill": {
     "duration": 0.024814,
     "end_time": "2022-03-05T23:36:50.470836",
     "exception": false,
     "start_time": "2022-03-05T23:36:50.446022",
     "status": "completed"
    },
    "tags": []
   },
   "outputs": [],
   "source": [
    "# We define utility functions for text processing.\n",
    "\n",
    "def removePunctuation(text):\n",
    "    \"\"\"\n",
    "    Remove punctuation symbols and convert text to lowercase\n",
    "    \"\"\"\n",
    "    return text.lower().translate(str.maketrans('', '', string.punctuation))\n",
    "\n",
    "def removeStopWords(text):\n",
    "    \"\"\"\n",
    "    Filter words that are not found in stop words\n",
    "    \"\"\"\n",
    "    return \" \".join([word for word in text.split() if word not in stopwords.words(\"english\")])\n",
    "\n",
    "def buildDictionary(texts):\n",
    "    \"\"\"\n",
    "    Build the dictionary of words where key is the word and value is the index.\n",
    "    \"\"\"\n",
    "    hashmap = {}\n",
    "    for text in texts:\n",
    "        for word in text.split():\n",
    "            hashmap[word] = hashmap.get(word, 0) + 1\n",
    "    return {w:i+1 for i, w in enumerate(list(hashmap.keys()))}\n",
    "\n",
    "def calculateMaxSeqLen(texts):\n",
    "    \"\"\"\n",
    "    Calculates the maximum sequence length found in the corpus\n",
    "    \"\"\"\n",
    "    max_len = float('-inf')\n",
    "    for text in texts:\n",
    "        if len(text.split()) > max_len:\n",
    "            max_len = len(text.split())\n",
    "            \n",
    "    return max_len"
   ]
  },
  {
   "cell_type": "code",
   "execution_count": 3,
   "id": "ac89e8d0",
   "metadata": {
    "execution": {
     "iopub.execute_input": "2022-03-05T23:36:50.502816Z",
     "iopub.status.busy": "2022-03-05T23:36:50.502157Z",
     "iopub.status.idle": "2022-03-05T23:37:03.086236Z",
     "shell.execute_reply": "2022-03-05T23:37:03.085419Z"
    },
    "papermill": {
     "duration": 12.602015,
     "end_time": "2022-03-05T23:37:03.086375",
     "exception": false,
     "start_time": "2022-03-05T23:36:50.484360",
     "status": "completed"
    },
    "tags": []
   },
   "outputs": [],
   "source": [
    "# Load the *.csv* file and filter the features that are useful for the problem:\n",
    "data = pd.read_csv(\"C:/datasets/coronavirus/preprocessed_data.csv\")"
   ]
  },
  {
   "cell_type": "code",
   "execution_count": 6,
   "id": "31f239fc",
   "metadata": {
    "execution": {
     "iopub.execute_input": "2022-03-05T23:36:50.502816Z",
     "iopub.status.busy": "2022-03-05T23:36:50.502157Z",
     "iopub.status.idle": "2022-03-05T23:37:03.086236Z",
     "shell.execute_reply": "2022-03-05T23:37:03.085419Z"
    },
    "papermill": {
     "duration": 12.602015,
     "end_time": "2022-03-05T23:37:03.086375",
     "exception": false,
     "start_time": "2022-03-05T23:36:50.484360",
     "status": "completed"
    },
    "tags": []
   },
   "outputs": [],
   "source": [
    "data = pd.concat((data[data[\"Sentiment\"] == 0], data[data[\"Sentiment\"] == 4]), axis=0)"
   ]
  },
  {
   "cell_type": "code",
   "execution_count": 8,
   "id": "11f58f23",
   "metadata": {
    "execution": {
     "iopub.execute_input": "2022-03-05T23:36:50.502816Z",
     "iopub.status.busy": "2022-03-05T23:36:50.502157Z",
     "iopub.status.idle": "2022-03-05T23:37:03.086236Z",
     "shell.execute_reply": "2022-03-05T23:37:03.085419Z"
    },
    "papermill": {
     "duration": 12.602015,
     "end_time": "2022-03-05T23:37:03.086375",
     "exception": false,
     "start_time": "2022-03-05T23:36:50.484360",
     "status": "completed"
    },
    "tags": []
   },
   "outputs": [],
   "source": [
    "data[\"Sentiment\"] = data[\"Sentiment\"].replace(4, 1)"
   ]
  },
  {
   "cell_type": "code",
   "execution_count": 9,
   "id": "279fb3ef",
   "metadata": {
    "execution": {
     "iopub.execute_input": "2022-03-05T23:36:50.502816Z",
     "iopub.status.busy": "2022-03-05T23:36:50.502157Z",
     "iopub.status.idle": "2022-03-05T23:37:03.086236Z",
     "shell.execute_reply": "2022-03-05T23:37:03.085419Z"
    },
    "papermill": {
     "duration": 12.602015,
     "end_time": "2022-03-05T23:37:03.086375",
     "exception": false,
     "start_time": "2022-03-05T23:36:50.484360",
     "status": "completed"
    },
    "tags": []
   },
   "outputs": [
    {
     "data": {
      "text/plain": [
       "0    6624\n",
       "1    5481\n",
       "Name: Sentiment, dtype: int64"
      ]
     },
     "execution_count": 9,
     "metadata": {},
     "output_type": "execute_result"
    }
   ],
   "source": [
    "data[\"Sentiment\"].value_counts()"
   ]
  },
  {
   "cell_type": "code",
   "execution_count": 10,
   "id": "352fef7e",
   "metadata": {
    "execution": {
     "iopub.execute_input": "2022-03-05T23:36:50.502816Z",
     "iopub.status.busy": "2022-03-05T23:36:50.502157Z",
     "iopub.status.idle": "2022-03-05T23:37:03.086236Z",
     "shell.execute_reply": "2022-03-05T23:37:03.085419Z"
    },
    "papermill": {
     "duration": 12.602015,
     "end_time": "2022-03-05T23:37:03.086375",
     "exception": false,
     "start_time": "2022-03-05T23:36:50.484360",
     "status": "completed"
    },
    "tags": []
   },
   "outputs": [],
   "source": [
    "# Text preprocessing. Remove punctuation symbols and stop words:\n",
    "# data[\"OriginalTweet\"] = data[\"OriginalTweet\"].apply(lambda x: removePunctuation(x))\n",
    "# data[\"OriginalTweet\"] = data[\"OriginalTweet\"].apply(lambda x: removeStopWords(x))"
   ]
  },
  {
   "cell_type": "code",
   "execution_count": 11,
   "id": "17881799",
   "metadata": {
    "execution": {
     "iopub.execute_input": "2022-03-05T23:37:03.137389Z",
     "iopub.status.busy": "2022-03-05T23:37:03.127393Z",
     "iopub.status.idle": "2022-03-05T23:37:03.161258Z",
     "shell.execute_reply": "2022-03-05T23:37:03.160556Z",
     "shell.execute_reply.started": "2022-03-05T22:47:35.755764Z"
    },
    "papermill": {
     "duration": 0.060689,
     "end_time": "2022-03-05T23:37:03.161411",
     "exception": false,
     "start_time": "2022-03-05T23:37:03.100722",
     "status": "completed"
    },
    "tags": []
   },
   "outputs": [
    {
     "name": "stdout",
     "output_type": "stream",
     "text": [
      "Number of words in dictionary: 35674\n",
      "Maximum sequence lenght: 45\n"
     ]
    }
   ],
   "source": [
    "dictionary = buildDictionary(data[\"OriginalTweet\"])\n",
    "max_seq_len = calculateMaxSeqLen(data[\"OriginalTweet\"])\n",
    "\n",
    "print(f\"Number of words in dictionary: {len(dictionary)}\")\n",
    "print(f\"Maximum sequence lenght: {max_seq_len}\")"
   ]
  },
  {
   "cell_type": "code",
   "execution_count": 12,
   "id": "1ccd9997",
   "metadata": {
    "execution": {
     "iopub.execute_input": "2022-03-05T23:37:03.193272Z",
     "iopub.status.busy": "2022-03-05T23:37:03.192490Z",
     "iopub.status.idle": "2022-03-05T23:37:03.203080Z",
     "shell.execute_reply": "2022-03-05T23:37:03.202656Z",
     "shell.execute_reply.started": "2022-03-05T23:07:00.606833Z"
    },
    "papermill": {
     "duration": 0.026668,
     "end_time": "2022-03-05T23:37:03.203185",
     "exception": false,
     "start_time": "2022-03-05T23:37:03.176517",
     "status": "completed"
    },
    "tags": []
   },
   "outputs": [
    {
     "data": {
      "text/plain": [
       "0    0.547212\n",
       "1    0.452788\n",
       "Name: Sentiment, dtype: float64"
      ]
     },
     "execution_count": 12,
     "metadata": {},
     "output_type": "execute_result"
    }
   ],
   "source": [
    "data[\"Sentiment\"].value_counts() / len(data)"
   ]
  },
  {
   "cell_type": "code",
   "execution_count": 13,
   "id": "e82b0890",
   "metadata": {
    "execution": {
     "iopub.execute_input": "2022-03-05T23:37:03.193272Z",
     "iopub.status.busy": "2022-03-05T23:37:03.192490Z",
     "iopub.status.idle": "2022-03-05T23:37:03.203080Z",
     "shell.execute_reply": "2022-03-05T23:37:03.202656Z",
     "shell.execute_reply.started": "2022-03-05T23:07:00.606833Z"
    },
    "papermill": {
     "duration": 0.026668,
     "end_time": "2022-03-05T23:37:03.203185",
     "exception": false,
     "start_time": "2022-03-05T23:37:03.176517",
     "status": "completed"
    },
    "tags": []
   },
   "outputs": [
    {
     "data": {
      "text/html": [
       "<div>\n",
       "<style scoped>\n",
       "    .dataframe tbody tr th:only-of-type {\n",
       "        vertical-align: middle;\n",
       "    }\n",
       "\n",
       "    .dataframe tbody tr th {\n",
       "        vertical-align: top;\n",
       "    }\n",
       "\n",
       "    .dataframe thead th {\n",
       "        text-align: right;\n",
       "    }\n",
       "</style>\n",
       "<table border=\"1\" class=\"dataframe\">\n",
       "  <thead>\n",
       "    <tr style=\"text-align: right;\">\n",
       "      <th></th>\n",
       "      <th>OriginalTweet</th>\n",
       "      <th>Sentiment</th>\n",
       "    </tr>\n",
       "  </thead>\n",
       "  <tbody>\n",
       "    <tr>\n",
       "      <th>11</th>\n",
       "      <td>due covid19 situation increased demand food pr...</td>\n",
       "      <td>0</td>\n",
       "    </tr>\n",
       "    <tr>\n",
       "      <th>12</th>\n",
       "      <td>horningsea caring community letâs look less c...</td>\n",
       "      <td>0</td>\n",
       "    </tr>\n",
       "    <tr>\n",
       "      <th>18</th>\n",
       "      <td>amazon glitch stymies whole foods fresh grocer...</td>\n",
       "      <td>0</td>\n",
       "    </tr>\n",
       "    <tr>\n",
       "      <th>22</th>\n",
       "      <td>amazing cheap deals covid2019 going help trial...</td>\n",
       "      <td>0</td>\n",
       "    </tr>\n",
       "    <tr>\n",
       "      <th>23</th>\n",
       "      <td>amazing cheap deals covid2019 going help trial...</td>\n",
       "      <td>0</td>\n",
       "    </tr>\n",
       "    <tr>\n",
       "      <th>...</th>\n",
       "      <td>...</td>\n",
       "      <td>...</td>\n",
       "    </tr>\n",
       "    <tr>\n",
       "      <th>41115</th>\n",
       "      <td>food banks equipped 30 unemployment rate feder...</td>\n",
       "      <td>1</td>\n",
       "    </tr>\n",
       "    <tr>\n",
       "      <th>41128</th>\n",
       "      <td>covid19 pandemic global oil price wars economi...</td>\n",
       "      <td>1</td>\n",
       "    </tr>\n",
       "    <tr>\n",
       "      <th>41130</th>\n",
       "      <td>squeo works meat department kroger supermarket...</td>\n",
       "      <td>1</td>\n",
       "    </tr>\n",
       "    <tr>\n",
       "      <th>41133</th>\n",
       "      <td>singaporean politician slammed woman snapped s...</td>\n",
       "      <td>1</td>\n",
       "    </tr>\n",
       "    <tr>\n",
       "      <th>41153</th>\n",
       "      <td>response complaint provided citing covid19 rel...</td>\n",
       "      <td>1</td>\n",
       "    </tr>\n",
       "  </tbody>\n",
       "</table>\n",
       "<p>12105 rows × 2 columns</p>\n",
       "</div>"
      ],
      "text/plain": [
       "                                           OriginalTweet  Sentiment\n",
       "11     due covid19 situation increased demand food pr...          0\n",
       "12     horningsea caring community letâs look less c...          0\n",
       "18     amazon glitch stymies whole foods fresh grocer...          0\n",
       "22     amazing cheap deals covid2019 going help trial...          0\n",
       "23     amazing cheap deals covid2019 going help trial...          0\n",
       "...                                                  ...        ...\n",
       "41115  food banks equipped 30 unemployment rate feder...          1\n",
       "41128  covid19 pandemic global oil price wars economi...          1\n",
       "41130  squeo works meat department kroger supermarket...          1\n",
       "41133  singaporean politician slammed woman snapped s...          1\n",
       "41153  response complaint provided citing covid19 rel...          1\n",
       "\n",
       "[12105 rows x 2 columns]"
      ]
     },
     "execution_count": 13,
     "metadata": {},
     "output_type": "execute_result"
    }
   ],
   "source": [
    "data"
   ]
  },
  {
   "cell_type": "code",
   "execution_count": 15,
   "id": "07dcc1b5",
   "metadata": {
    "execution": {
     "iopub.execute_input": "2022-03-05T23:37:03.193272Z",
     "iopub.status.busy": "2022-03-05T23:37:03.192490Z",
     "iopub.status.idle": "2022-03-05T23:37:03.203080Z",
     "shell.execute_reply": "2022-03-05T23:37:03.202656Z",
     "shell.execute_reply.started": "2022-03-05T23:07:00.606833Z"
    },
    "papermill": {
     "duration": 0.026668,
     "end_time": "2022-03-05T23:37:03.203185",
     "exception": false,
     "start_time": "2022-03-05T23:37:03.176517",
     "status": "completed"
    },
    "tags": []
   },
   "outputs": [],
   "source": [
    "# Split data into training and testing\n",
    "x_train, x_valid, y_train, y_valid = train_test_split(data[\"OriginalTweet\"], data[\"Sentiment\"], test_size=0.3, stratify=data[\"Sentiment\"])"
   ]
  },
  {
   "cell_type": "markdown",
   "id": "938ed3fe",
   "metadata": {
    "papermill": {
     "duration": 0.013899,
     "end_time": "2022-03-05T23:37:03.231400",
     "exception": false,
     "start_time": "2022-03-05T23:37:03.217501",
     "status": "completed"
    },
    "tags": []
   },
   "source": [
    "# 2. Data loaders"
   ]
  },
  {
   "cell_type": "code",
   "execution_count": 16,
   "id": "74b7a3f5",
   "metadata": {
    "execution": {
     "iopub.execute_input": "2022-03-05T23:37:03.266298Z",
     "iopub.status.busy": "2022-03-05T23:37:03.265540Z",
     "iopub.status.idle": "2022-03-05T23:37:03.267884Z",
     "shell.execute_reply": "2022-03-05T23:37:03.267450Z",
     "shell.execute_reply.started": "2022-03-05T23:22:46.626159Z"
    },
    "papermill": {
     "duration": 0.020388,
     "end_time": "2022-03-05T23:37:03.267992",
     "exception": false,
     "start_time": "2022-03-05T23:37:03.247604",
     "status": "completed"
    },
    "tags": []
   },
   "outputs": [
    {
     "data": {
      "text/plain": [
       "0    1987\n",
       "1    1645\n",
       "Name: Sentiment, dtype: int64"
      ]
     },
     "execution_count": 16,
     "metadata": {},
     "output_type": "execute_result"
    }
   ],
   "source": [
    "y_valid.value_counts()"
   ]
  },
  {
   "cell_type": "code",
   "execution_count": 17,
   "id": "9223271f",
   "metadata": {
    "execution": {
     "iopub.execute_input": "2022-03-05T23:37:03.266298Z",
     "iopub.status.busy": "2022-03-05T23:37:03.265540Z",
     "iopub.status.idle": "2022-03-05T23:37:03.267884Z",
     "shell.execute_reply": "2022-03-05T23:37:03.267450Z",
     "shell.execute_reply.started": "2022-03-05T23:22:46.626159Z"
    },
    "papermill": {
     "duration": 0.020388,
     "end_time": "2022-03-05T23:37:03.267992",
     "exception": false,
     "start_time": "2022-03-05T23:37:03.247604",
     "status": "completed"
    },
    "tags": []
   },
   "outputs": [
    {
     "data": {
      "text/plain": [
       "0    4637\n",
       "1    3836\n",
       "Name: Sentiment, dtype: int64"
      ]
     },
     "execution_count": 17,
     "metadata": {},
     "output_type": "execute_result"
    }
   ],
   "source": [
    "y_train.value_counts()"
   ]
  },
  {
   "cell_type": "code",
   "execution_count": 19,
   "id": "a5a1483a",
   "metadata": {
    "execution": {
     "iopub.execute_input": "2022-03-05T23:37:03.266298Z",
     "iopub.status.busy": "2022-03-05T23:37:03.265540Z",
     "iopub.status.idle": "2022-03-05T23:37:03.267884Z",
     "shell.execute_reply": "2022-03-05T23:37:03.267450Z",
     "shell.execute_reply.started": "2022-03-05T23:22:46.626159Z"
    },
    "papermill": {
     "duration": 0.020388,
     "end_time": "2022-03-05T23:37:03.267992",
     "exception": false,
     "start_time": "2022-03-05T23:37:03.247604",
     "status": "completed"
    },
    "tags": []
   },
   "outputs": [],
   "source": [
    "BATCH_SIZE = 64\n",
    "LEARNING_RATE = 0.001\n",
    "DROPOUT = 0.5\n",
    "INPUT_SIZE = len(dictionary) + 1\n",
    "EPOCHS = 30"
   ]
  },
  {
   "cell_type": "code",
   "execution_count": 20,
   "id": "e68fde33",
   "metadata": {
    "execution": {
     "iopub.execute_input": "2022-03-05T23:37:03.303669Z",
     "iopub.status.busy": "2022-03-05T23:37:03.303034Z",
     "iopub.status.idle": "2022-03-05T23:37:03.305240Z",
     "shell.execute_reply": "2022-03-05T23:37:03.305601Z",
     "shell.execute_reply.started": "2022-03-05T23:08:21.742035Z"
    },
    "papermill": {
     "duration": 0.023543,
     "end_time": "2022-03-05T23:37:03.305753",
     "exception": false,
     "start_time": "2022-03-05T23:37:03.282210",
     "status": "completed"
    },
    "tags": []
   },
   "outputs": [],
   "source": [
    "class DataHandler(Dataset):\n",
    "    \"\"\"\n",
    "    Iterator generator for data loader construction\n",
    "    \"\"\"\n",
    "    \n",
    "    @staticmethod\n",
    "    def tokenizer(X, max_seq_len, dicitionary):\n",
    "        \"\"\"\n",
    "        Given a sequence of words, tokenize each word with \n",
    "        use of `dictionary` and apply padding considering `max_seq_len`\n",
    "        \"\"\"\n",
    "        sequences = []\n",
    "        for x in X:\n",
    "            sequence = [0] * max_seq_len\n",
    "            for idx, word in enumerate(x.split()):\n",
    "                sequence[idx] = dictionary[word]\n",
    "            sequences.append(sequence)\n",
    "            \n",
    "        return np.array(sequences)\n",
    "    \n",
    "    def __init__(self, x, y, max_seq_len, dictionary):\n",
    "        self.x = self.tokenizer(x, max_seq_len, dictionary)\n",
    "        self.y = y.to_numpy()\n",
    "        \n",
    "    def __len__(self):\n",
    "        return len(self.x)\n",
    "    \n",
    "    def __getitem__(self, idx):\n",
    "        return self.x[idx], self.y[idx]"
   ]
  },
  {
   "cell_type": "code",
   "execution_count": 21,
   "id": "f078953b",
   "metadata": {
    "execution": {
     "iopub.execute_input": "2022-03-05T23:37:03.383601Z",
     "iopub.status.busy": "2022-03-05T23:37:03.357714Z",
     "iopub.status.idle": "2022-03-05T23:37:03.398823Z",
     "shell.execute_reply": "2022-03-05T23:37:03.398339Z",
     "shell.execute_reply.started": "2022-03-05T23:08:32.591922Z"
    },
    "papermill": {
     "duration": 0.079154,
     "end_time": "2022-03-05T23:37:03.398945",
     "exception": false,
     "start_time": "2022-03-05T23:37:03.319791",
     "status": "completed"
    },
    "tags": []
   },
   "outputs": [],
   "source": [
    "# Initialize iterator objects for the data loader\n",
    "train = DataHandler(x_train, y_train, max_seq_len, dictionary)\n",
    "valid = DataHandler(x_valid, y_valid, max_seq_len, dictionary)"
   ]
  },
  {
   "cell_type": "code",
   "execution_count": 22,
   "id": "92af8103",
   "metadata": {
    "execution": {
     "iopub.execute_input": "2022-03-05T23:37:03.383601Z",
     "iopub.status.busy": "2022-03-05T23:37:03.357714Z",
     "iopub.status.idle": "2022-03-05T23:37:03.398823Z",
     "shell.execute_reply": "2022-03-05T23:37:03.398339Z",
     "shell.execute_reply.started": "2022-03-05T23:08:32.591922Z"
    },
    "papermill": {
     "duration": 0.079154,
     "end_time": "2022-03-05T23:37:03.398945",
     "exception": false,
     "start_time": "2022-03-05T23:37:03.319791",
     "status": "completed"
    },
    "tags": []
   },
   "outputs": [],
   "source": [
    "# Initialize data loaders\n",
    "loader_training = DataLoader(train, batch_size=BATCH_SIZE, shuffle=False)\n",
    "loader_valid = DataLoader(valid, batch_size=BATCH_SIZE, shuffle=False)"
   ]
  },
  {
   "cell_type": "code",
   "execution_count": 23,
   "id": "f5dc49c3",
   "metadata": {
    "execution": {
     "iopub.execute_input": "2022-03-05T23:37:03.383601Z",
     "iopub.status.busy": "2022-03-05T23:37:03.357714Z",
     "iopub.status.idle": "2022-03-05T23:37:03.398823Z",
     "shell.execute_reply": "2022-03-05T23:37:03.398339Z",
     "shell.execute_reply.started": "2022-03-05T23:08:32.591922Z"
    },
    "papermill": {
     "duration": 0.079154,
     "end_time": "2022-03-05T23:37:03.398945",
     "exception": false,
     "start_time": "2022-03-05T23:37:03.319791",
     "status": "completed"
    },
    "tags": []
   },
   "outputs": [],
   "source": [
    "txt1 = iter(loader_valid)"
   ]
  },
  {
   "cell_type": "code",
   "execution_count": 24,
   "id": "58f24f65",
   "metadata": {
    "execution": {
     "iopub.execute_input": "2022-03-05T23:37:03.383601Z",
     "iopub.status.busy": "2022-03-05T23:37:03.357714Z",
     "iopub.status.idle": "2022-03-05T23:37:03.398823Z",
     "shell.execute_reply": "2022-03-05T23:37:03.398339Z",
     "shell.execute_reply.started": "2022-03-05T23:08:32.591922Z"
    },
    "papermill": {
     "duration": 0.079154,
     "end_time": "2022-03-05T23:37:03.398945",
     "exception": false,
     "start_time": "2022-03-05T23:37:03.319791",
     "status": "completed"
    },
    "tags": []
   },
   "outputs": [],
   "source": [
    "x, y = next(txt1)"
   ]
  },
  {
   "cell_type": "code",
   "execution_count": 25,
   "id": "65da4d49",
   "metadata": {
    "execution": {
     "iopub.execute_input": "2022-03-05T23:37:03.383601Z",
     "iopub.status.busy": "2022-03-05T23:37:03.357714Z",
     "iopub.status.idle": "2022-03-05T23:37:03.398823Z",
     "shell.execute_reply": "2022-03-05T23:37:03.398339Z",
     "shell.execute_reply.started": "2022-03-05T23:08:32.591922Z"
    },
    "papermill": {
     "duration": 0.079154,
     "end_time": "2022-03-05T23:37:03.398945",
     "exception": false,
     "start_time": "2022-03-05T23:37:03.319791",
     "status": "completed"
    },
    "tags": []
   },
   "outputs": [
    {
     "data": {
      "text/plain": [
       "{'due': 1,\n",
       " 'covid19': 2,\n",
       " 'situation': 3,\n",
       " 'increased': 4,\n",
       " 'demand': 5,\n",
       " 'food': 6,\n",
       " 'products': 7,\n",
       " 'wait': 8,\n",
       " 'time': 9,\n",
       " 'may': 10,\n",
       " 'longer': 11,\n",
       " 'online': 12,\n",
       " 'orders': 13,\n",
       " 'particularly': 14,\n",
       " 'beef': 15,\n",
       " 'share': 16,\n",
       " 'freezer': 17,\n",
       " 'packs': 18,\n",
       " 'thank': 19,\n",
       " 'patience': 20,\n",
       " 'horningsea': 21,\n",
       " 'caring': 22,\n",
       " 'community': 23,\n",
       " 'letâ\\x92s': 24,\n",
       " 'look': 25,\n",
       " 'less': 26,\n",
       " 'capable': 27,\n",
       " 'village': 28,\n",
       " 'ensure': 29,\n",
       " 'stay': 30,\n",
       " 'healthy': 31,\n",
       " 'bringing': 32,\n",
       " 'shopping': 33,\n",
       " 'doors': 34,\n",
       " 'help': 35,\n",
       " 'self': 36,\n",
       " 'isolation': 37,\n",
       " 'symptoms': 38,\n",
       " 'exposed': 39,\n",
       " 'somebody': 40,\n",
       " 'httpstcolsgrxxhjhh': 41,\n",
       " 'amazon': 42,\n",
       " 'glitch': 43,\n",
       " 'stymies': 44,\n",
       " 'whole': 45,\n",
       " 'foods': 46,\n",
       " 'fresh': 47,\n",
       " 'grocery': 48,\n",
       " 'deliveries': 49,\n",
       " 'â\\x93as': 50,\n",
       " 'spread': 51,\n",
       " 'weâ\\x92ve': 52,\n",
       " 'seen': 53,\n",
       " 'significant': 54,\n",
       " 'increase': 55,\n",
       " 'people': 56,\n",
       " 'groceriesâ\\x94': 57,\n",
       " 'spokeswoman': 58,\n",
       " 'said': 59,\n",
       " 'statement': 60,\n",
       " 'â\\x93today': 61,\n",
       " 'resulted': 62,\n",
       " 'systems': 63,\n",
       " 'impact': 64,\n",
       " 'affecting': 65,\n",
       " 'httpstcotbzz2mc3b3': 66,\n",
       " 'amazing': 67,\n",
       " 'cheap': 68,\n",
       " 'deals': 69,\n",
       " 'covid2019': 70,\n",
       " 'going': 71,\n",
       " 'trials': 72,\n",
       " 'monthly': 73,\n",
       " 'yearly': 74,\n",
       " 'resonable': 75,\n",
       " 'prices': 76,\n",
       " 'subscriptions': 77,\n",
       " 'dm': 78,\n",
       " 'us': 79,\n",
       " 'bestiptv': 80,\n",
       " 'iptv': 81,\n",
       " 'service': 82,\n",
       " 'iptvdeals': 83,\n",
       " 'football': 84,\n",
       " 'hd': 85,\n",
       " 'movies': 86,\n",
       " 'adult': 87,\n",
       " 'cinema': 88,\n",
       " 'hotmovies': 89,\n",
       " 'iptvnew': 90,\n",
       " 'iptv2020': 91,\n",
       " 'iptvlinks': 92,\n",
       " '18movies': 93,\n",
       " 'uk': 94,\n",
       " 'consumer': 95,\n",
       " 'poll': 96,\n",
       " 'indicates': 97,\n",
       " 'majority': 98,\n",
       " 'expect': 99,\n",
       " 'covid19s': 100,\n",
       " 'last': 101,\n",
       " '412': 102,\n",
       " 'months': 103,\n",
       " '12': 104,\n",
       " 'march': 105,\n",
       " 'next': 106,\n",
       " 'tracker': 107,\n",
       " 'see': 108,\n",
       " 'full': 109,\n",
       " 'results': 110,\n",
       " 'retailx': 111,\n",
       " 'coronavirus': 112,\n",
       " 'confidence': 113,\n",
       " 'httpstcok3ujlcjqdb': 114,\n",
       " 'httpstco9g3kgqixj8': 115,\n",
       " 'hole': 116,\n",
       " 'images': 117,\n",
       " 'nicest': 118,\n",
       " 'store': 119,\n",
       " 'one': 120,\n",
       " 'richest': 121,\n",
       " 'neighborhoods': 122,\n",
       " 'united': 123,\n",
       " 'states': 124,\n",
       " 'httpstcownqsomtkvi': 125,\n",
       " 'breakingnews': 126,\n",
       " 'breaking': 127,\n",
       " 'coronavirusoutbreak': 128,\n",
       " 'collapse': 129,\n",
       " 'fun': 130,\n",
       " 'fact': 131,\n",
       " 'cough': 132,\n",
       " 'get': 133,\n",
       " 'aisle': 134,\n",
       " 'pretty': 135,\n",
       " 'quickly': 136,\n",
       " 'provide': 137,\n",
       " 'safe': 138,\n",
       " 'experience': 139,\n",
       " 'customers': 140,\n",
       " 'environment': 141,\n",
       " 'associates': 142,\n",
       " 'placed': 143,\n",
       " 'httpstcodcsxhuj3u0': 144,\n",
       " 'jlmco': 145,\n",
       " 'jlmcobrand': 146,\n",
       " 'coronapocolypse': 147,\n",
       " 'shoponline': 148,\n",
       " 'httpstcorinkwskers': 149,\n",
       " 'please': 150,\n",
       " 'know': 151,\n",
       " 'someone': 152,\n",
       " '65': 153,\n",
       " 'living': 154,\n",
       " 'struggling': 155,\n",
       " '2': 156,\n",
       " 'local': 157,\n",
       " 'supermarket': 158,\n",
       " 'issues': 159,\n",
       " 'around': 160,\n",
       " '19': 161,\n",
       " 'offering': 162,\n",
       " 'free': 163,\n",
       " 'soups': 164,\n",
       " 'nationwide': 165,\n",
       " 'anyone': 166,\n",
       " 'need': 167,\n",
       " 'plus': 168,\n",
       " 'freezable': 169,\n",
       " 'never': 170,\n",
       " 'thought': 171,\n",
       " 'id': 172,\n",
       " 'say': 173,\n",
       " '2019': 174,\n",
       " 'come': 175,\n",
       " 'back': 176,\n",
       " 'peoplearelosingtheirminds': 177,\n",
       " 'stopthemadness': 178,\n",
       " 'stoppanicbuying': 179,\n",
       " 'morning': 180,\n",
       " 'everyone': 181,\n",
       " 'great': 182,\n",
       " 'day': 183,\n",
       " 'bekind': 184,\n",
       " 'mufc': 185,\n",
       " 'mufcfamily': 186,\n",
       " 'outbreak': 187,\n",
       " 'entire': 188,\n",
       " 'world': 189,\n",
       " 'retail': 190,\n",
       " 'shops': 191,\n",
       " 'malaysia': 192,\n",
       " 'facing': 193,\n",
       " 'challenges': 194,\n",
       " 'near': 195,\n",
       " 'future': 196,\n",
       " 'surprise': 197,\n",
       " 'way': 198,\n",
       " 'many': 199,\n",
       " 'lost': 200,\n",
       " 'jobs': 201,\n",
       " 'malaysia2020': 202,\n",
       " 'feeling': 203,\n",
       " 'like': 204,\n",
       " 'ethical': 205,\n",
       " 'still': 206,\n",
       " 'stuff': 207,\n",
       " 'order': 208,\n",
       " 'etc': 209,\n",
       " 'ship': 210,\n",
       " 'care': 211,\n",
       " 'packages': 212,\n",
       " 'loved': 213,\n",
       " 'ones': 214,\n",
       " 'wages': 215,\n",
       " 'either': 216,\n",
       " 'illness': 217,\n",
       " 'virus': 218,\n",
       " 'economic': 219,\n",
       " 'mean': 220,\n",
       " 'urge': 221,\n",
       " 'support': 222,\n",
       " 'bill': 223,\n",
       " 'includes': 224,\n",
       " 'banks': 225,\n",
       " 'flexibility': 226,\n",
       " 'school': 227,\n",
       " 'meals': 228,\n",
       " 'canned': 229,\n",
       " 'toxic': 230,\n",
       " 'chemicals': 231,\n",
       " 'bought': 232,\n",
       " 'hand': 233,\n",
       " 'sanitizers': 234,\n",
       " 'stock': 235,\n",
       " 'yet': 236,\n",
       " 'fruit': 237,\n",
       " 'vegetables': 238,\n",
       " 'herbs': 239,\n",
       " 'fully': 240,\n",
       " 'stocked': 241,\n",
       " 'shows': 242,\n",
       " 'humans': 243,\n",
       " 'idea': 244,\n",
       " 'immune': 245,\n",
       " 'system': 246,\n",
       " 'works': 247,\n",
       " 'quarantinelife': 248,\n",
       " 'called': 249,\n",
       " 'mum': 250,\n",
       " 'dad': 251,\n",
       " '70': 252,\n",
       " 'offered': 253,\n",
       " 'might': 254,\n",
       " 'sometimes': 255,\n",
       " 'forget': 256,\n",
       " 'always': 257,\n",
       " 'easy': 258,\n",
       " 'far': 259,\n",
       " 'parents': 260,\n",
       " 'tech': 261,\n",
       " 'really': 262,\n",
       " 'useful': 263,\n",
       " 'sure': 264,\n",
       " 'within': 265,\n",
       " 'week': 266,\n",
       " 'two': 267,\n",
       " 'supply': 268,\n",
       " 'chains': 269,\n",
       " 'dry': 270,\n",
       " 'counties': 271,\n",
       " 'effected': 272,\n",
       " 'possibly': 273,\n",
       " 'go': 274,\n",
       " 'lockdown': 275,\n",
       " 'would': 276,\n",
       " 'government': 277,\n",
       " 'introduce': 278,\n",
       " 'form': 279,\n",
       " 'rationing': 280,\n",
       " 'eat': 281,\n",
       " 'somehow': 282,\n",
       " 'dont': 283,\n",
       " 'think': 284,\n",
       " 'worried': 285,\n",
       " 'panicking': 286,\n",
       " 'plan': 287,\n",
       " 'gt': 288,\n",
       " 'youre': 289,\n",
       " 'panic': 290,\n",
       " 'buying': 291,\n",
       " 'focus': 292,\n",
       " 'important': 293,\n",
       " 'best': 294,\n",
       " 'opportunity': 295,\n",
       " 'positive': 296,\n",
       " 'outcome': 297,\n",
       " 'create': 298,\n",
       " 'structure': 299,\n",
       " 'reduce': 300,\n",
       " 'key': 301,\n",
       " 'decisions': 302,\n",
       " 'flourish': 303,\n",
       " 'employees': 304,\n",
       " 'working': 305,\n",
       " 'hard': 306,\n",
       " 'making': 307,\n",
       " 'getting': 308,\n",
       " 'kind': 309,\n",
       " 'itâ\\x92s': 310,\n",
       " 'fault': 311,\n",
       " 'short': 312,\n",
       " 'supplies': 313,\n",
       " 'corona': 314,\n",
       " 'â': 315,\n",
       " 'httpstcoqc0unevqej': 316,\n",
       " 'end': 317,\n",
       " 'bootsuk': 318,\n",
       " 'surgical': 319,\n",
       " 'spirit': 320,\n",
       " 'wont': 321,\n",
       " 'receiving': 322,\n",
       " 'supposed': 323,\n",
       " 'disinfect': 324,\n",
       " 'hands': 325,\n",
       " 'httpstcoiqipuz50sc': 326,\n",
       " 'love': 327,\n",
       " 'stores': 328,\n",
       " 'set': 329,\n",
       " 'hour': 330,\n",
       " 'preferably': 331,\n",
       " 'elderly': 332,\n",
       " 'population': 333,\n",
       " 'compromised': 334,\n",
       " 'use': 335,\n",
       " 'thatâ\\x92s': 336,\n",
       " 'good': 337,\n",
       " 'clear': 338,\n",
       " 'thinking': 339,\n",
       " 'brianschatz': 340,\n",
       " 'maziehirono': 341,\n",
       " 'nygovcuomo': 342,\n",
       " 'govinslee': 343,\n",
       " 'httpstcotmqh0csein': 344,\n",
       " 'currently': 345,\n",
       " 'isolating': 346,\n",
       " 'iâ\\x92m': 347,\n",
       " 'symptomatic': 348,\n",
       " 'neighbour': 349,\n",
       " 'friend': 350,\n",
       " 'iâ\\x92ve': 351,\n",
       " 'done': 352,\n",
       " 'agreed': 353,\n",
       " 'phone': 354,\n",
       " 'calling': 355,\n",
       " 'daily': 356,\n",
       " 'even': 357,\n",
       " 'attempt': 358,\n",
       " 'skype': 359,\n",
       " 'video': 360,\n",
       " 'call': 361,\n",
       " 'unitedagainstdementia': 362,\n",
       " 'alzheimerssoc': 363,\n",
       " 'fyi': 364,\n",
       " 'chinese': 365,\n",
       " 'notice': 366,\n",
       " 'nasty': 367,\n",
       " 'mentions': 368,\n",
       " 'supporting': 369,\n",
       " 'industries': 370,\n",
       " 'market': 371,\n",
       " 'trump': 372,\n",
       " 'trying': 373,\n",
       " 'cut': 374,\n",
       " 'medicare': 375,\n",
       " 'amp': 376,\n",
       " 'social': 377,\n",
       " 'security': 378,\n",
       " 'benefits': 379,\n",
       " 'stamps': 380,\n",
       " 'remove': 381,\n",
       " 'pre': 382,\n",
       " 'existing': 383,\n",
       " 'conditions': 384,\n",
       " 'coverage': 385,\n",
       " 'aca': 386,\n",
       " 'happy': 387,\n",
       " 'n': 388,\n",
       " 'friends': 389,\n",
       " 'uneasy': 390,\n",
       " 'thats': 391,\n",
       " 'lets': 392,\n",
       " 'small': 393,\n",
       " 'business': 394,\n",
       " 'whether': 395,\n",
       " 'youâ\\x92re': 396,\n",
       " 'orderingâ': 397,\n",
       " 'httpstcoaibxmekdro': 398,\n",
       " 'spark': 399,\n",
       " 'manila': 400,\n",
       " 'centre': 401,\n",
       " 'closing': 402,\n",
       " 'prevent': 403,\n",
       " 'covid': 404,\n",
       " 'calls': 405,\n",
       " 'routed': 406,\n",
       " 'nz': 407,\n",
       " 'based': 408,\n",
       " 'deskers': 409,\n",
       " 'instead': 410,\n",
       " 'asking': 411,\n",
       " 'myspark': 412,\n",
       " 'app': 413,\n",
       " 'visit': 414,\n",
       " 'feel': 415,\n",
       " 'lottery': 416,\n",
       " 'much': 417,\n",
       " 'worth': 418,\n",
       " 'stockmarket': 419,\n",
       " 'toiletpaper': 420,\n",
       " 'arizona': 421,\n",
       " 'foxnews': 422,\n",
       " 'fox10phoenix': 423,\n",
       " 'httpstcopljct49ik7': 424,\n",
       " 'first': 425,\n",
       " 'make': 426,\n",
       " 'effort': 427,\n",
       " 'could': 428,\n",
       " 'win': 429,\n",
       " 'pr': 430,\n",
       " 'game': 431,\n",
       " 'real': 432,\n",
       " 'difference': 433,\n",
       " 'httpstco6tqo57lt0q': 434,\n",
       " 'northgateglzmrk': 435,\n",
       " 'taking': 436,\n",
       " 'abuelosas': 437,\n",
       " 'httpstconwmxyoomhf': 438,\n",
       " 'person': 439,\n",
       " 'doesnâ\\x92t': 440,\n",
       " 'capability': 441,\n",
       " 'encourage': 442,\n",
       " 'relative': 443,\n",
       " 'acquaintance': 444,\n",
       " 'city': 445,\n",
       " 'state': 446,\n",
       " 'country': 447,\n",
       " 'alternate': 448,\n",
       " 'pick': 449,\n",
       " 'ive': 450,\n",
       " 'bs': 451,\n",
       " 'pop': 452,\n",
       " 'facebook': 453,\n",
       " 'various': 454,\n",
       " 'groups': 455,\n",
       " 'cannot': 456,\n",
       " 'toll': 457,\n",
       " 'number': 458,\n",
       " 'infant': 459,\n",
       " 'formula': 460,\n",
       " 'tell': 461,\n",
       " 'find': 462,\n",
       " 'theyll': 463,\n",
       " 'send': 464,\n",
       " 'case': 465,\n",
       " 'hoax': 466,\n",
       " 'httpstco2cyxheacez': 467,\n",
       " 'httpstcor9skybyiht': 468,\n",
       " 'businesses': 469,\n",
       " 'chicagos': 470,\n",
       " 'department': 471,\n",
       " 'affairs': 472,\n",
       " 'protection': 473,\n",
       " 'bacp': 474,\n",
       " 'soliciting': 475,\n",
       " 'feedback': 476,\n",
       " 'develop': 477,\n",
       " 'resources': 478,\n",
       " 'measures': 479,\n",
       " 'impacted': 480,\n",
       " 'fill': 481,\n",
       " 'survey': 482,\n",
       " 'asap': 483,\n",
       " 'taken': 484,\n",
       " 'henk': 485,\n",
       " 'zwoferink': 486,\n",
       " 'saturday': 487,\n",
       " 'wã¶rgl': 488,\n",
       " 'black': 489,\n",
       " 'beauty': 490,\n",
       " 'hauled': 491,\n",
       " 'train': 492,\n",
       " 'tourists': 493,\n",
       " 'home': 494,\n",
       " 'colleagues': 495,\n",
       " 'workinghard': 496,\n",
       " 'keep': 497,\n",
       " 'running': 498,\n",
       " 'respecting': 499,\n",
       " 'everyones': 500,\n",
       " 'safety': 501,\n",
       " 'pleasure': 502,\n",
       " 'work': 503,\n",
       " 'dedicatedpeople': 504,\n",
       " 'httpstcoeoxt7q43zb': 505,\n",
       " 'corrections': 506,\n",
       " 'currency': 507,\n",
       " 'rate': 508,\n",
       " 'oil': 509,\n",
       " 'interest': 510,\n",
       " 'changes': 511,\n",
       " 'fluctuations': 512,\n",
       " 'coronavirusindia': 513,\n",
       " 'lifestyle': 514,\n",
       " 'correction': 515,\n",
       " 'wisdom': 516,\n",
       " 'collectiveness': 517,\n",
       " 'respect': 518,\n",
       " 'nature': 519,\n",
       " 'reciprocate': 520,\n",
       " 'joining': 521,\n",
       " 'uaes': 522,\n",
       " 'efforts': 523,\n",
       " 'contain': 524,\n",
       " 'considering': 525,\n",
       " 'wellbeing': 526,\n",
       " 'mall': 527,\n",
       " 'visitors': 528,\n",
       " 'gym': 529,\n",
       " 'play': 530,\n",
       " 'areas': 531,\n",
       " 'amusement': 532,\n",
       " 'centres': 533,\n",
       " 'closed': 534,\n",
       " 'lulu': 535,\n",
       " 'hypermarket': 536,\n",
       " 'operating': 537,\n",
       " 'routine': 538,\n",
       " 'httpstcosvotbu6znu': 539,\n",
       " 'gtmassgovernor': 540,\n",
       " 'announces': 541,\n",
       " '10m': 542,\n",
       " 'loan': 543,\n",
       " 'fund': 544,\n",
       " 'administered': 545,\n",
       " 'massgcc': 546,\n",
       " 'financial': 547,\n",
       " 'relief': 548,\n",
       " '75k': 549,\n",
       " 'mabased': 550,\n",
       " 'including': 551,\n",
       " 'nonprofits': 552,\n",
       " 'lt50': 553,\n",
       " 'parttime': 554,\n",
       " 'mabiz': 555,\n",
       " 'release': 556,\n",
       " 'httpstconxrdh25i8r': 557,\n",
       " 'apply': 558,\n",
       " 'httpstcow2vjdowrcg': 559,\n",
       " 'httpstcosp6straxlq': 560,\n",
       " 'fear': 561,\n",
       " 'mind': 562,\n",
       " 'killer': 563,\n",
       " 'pres': 564,\n",
       " 'private': 565,\n",
       " 'sector': 566,\n",
       " 'access': 567,\n",
       " 'turn': 568,\n",
       " 'cnn': 569,\n",
       " 'resist': 570,\n",
       " 'herd': 571,\n",
       " 'mentality': 572,\n",
       " 'coronaviruspandemic': 573,\n",
       " 'heath': 574,\n",
       " 'httpstco1hw3xzvks5': 575,\n",
       " 'delivery': 576,\n",
       " 'fee': 577,\n",
       " 'seniors': 578,\n",
       " 'ordering': 579,\n",
       " 'onlinegtgtgtgtgtgt': 580,\n",
       " 'la': 581,\n",
       " 'habra': 582,\n",
       " 'offers': 583,\n",
       " 'special': 584,\n",
       " 'hours': 585,\n",
       " 'shoppers': 586,\n",
       " 'older': 587,\n",
       " 'amid': 588,\n",
       " 'crisis': 589,\n",
       " 'httpstco4wqe7vzr3m': 590,\n",
       " 'whats': 591,\n",
       " 'medical': 592,\n",
       " 'hospital': 593,\n",
       " 'staff': 594,\n",
       " 'normally': 595,\n",
       " 'something': 596,\n",
       " 'along': 597,\n",
       " 'lines': 598,\n",
       " 'pizza': 599,\n",
       " 'doesnt': 600,\n",
       " 'seem': 601,\n",
       " 'read': 602,\n",
       " 'participating': 603,\n",
       " 'runs': 604,\n",
       " 'era': 605,\n",
       " 'lean': 606,\n",
       " 'difficult': 607,\n",
       " 'accommodate': 608,\n",
       " 'huge': 609,\n",
       " 'discrete': 610,\n",
       " 'surges': 611,\n",
       " 'chain': 612,\n",
       " 'strong': 613,\n",
       " 'via': 614,\n",
       " 'nytimes': 615,\n",
       " 'httpstco6tt8tql1sd': 616,\n",
       " 'learn': 617,\n",
       " 'consumers': 618,\n",
       " 'drink': 619,\n",
       " 'health': 620,\n",
       " 'wellness': 621,\n",
       " 'reacting': 622,\n",
       " 'pandemic': 623,\n",
       " 'httpstco0cscqx1nz5': 624,\n",
       " 'marketresearch': 625,\n",
       " 'consumerinsights': 626,\n",
       " 'mountain': 627,\n",
       " 'america': 628,\n",
       " 'members': 629,\n",
       " 'youve': 630,\n",
       " 'financially': 631,\n",
       " 'mountainamericacu': 632,\n",
       " 'options': 633,\n",
       " 'unique': 634,\n",
       " 'httpstcozxghde3rtx': 635,\n",
       " 'httpstcovbbedg864u': 636,\n",
       " 'mpe': 637,\n",
       " 'prepared': 638,\n",
       " 'continue': 639,\n",
       " 'providing': 640,\n",
       " 'reliable': 641,\n",
       " 'electric': 642,\n",
       " 'adopts': 643,\n",
       " 'employee': 644,\n",
       " 'httpstcoexnype4gex': 645,\n",
       " 'httpstcognjqugg05t': 646,\n",
       " 'long': 647,\n",
       " 'dream': 648,\n",
       " 'reid': 649,\n",
       " 'distillery': 650,\n",
       " 'overstate': 651,\n",
       " 'ways': 652,\n",
       " 'enjoy': 653,\n",
       " 'gin': 654,\n",
       " 'open': 655,\n",
       " 'everyday': 656,\n",
       " '11am': 657,\n",
       " '11pm': 658,\n",
       " 'httpstcoupjxfogqs8': 659,\n",
       " 'gaisss': 660,\n",
       " 'thisand': 661,\n",
       " 'limit': 662,\n",
       " 'outside': 663,\n",
       " 'pleasepleasealways': 664,\n",
       " 'wash': 665,\n",
       " 'handsalways': 666,\n",
       " 'sanitizer': 667,\n",
       " 'ready': 668,\n",
       " 'stopthespread': 669,\n",
       " 'research': 670,\n",
       " 'shown': 671,\n",
       " 'faster': 672,\n",
       " 'authorities': 673,\n",
       " 'moved': 674,\n",
       " 'implement': 675,\n",
       " 'kinds': 676,\n",
       " 'socialdistancing': 677,\n",
       " 'designed': 678,\n",
       " 'slow': 679,\n",
       " 'transmission': 680,\n",
       " 'disease': 681,\n",
       " 'lives': 682,\n",
       " 'saved': 683,\n",
       " 'npr': 684,\n",
       " 'httpstco0qcnwnswgm': 685,\n",
       " 'amazes': 686,\n",
       " 'mei': 687,\n",
       " 'everything': 688,\n",
       " 'gone': 689,\n",
       " 'single': 690,\n",
       " 'wearing': 691,\n",
       " 'facemask': 692,\n",
       " '200': 693,\n",
       " 'rolls': 694,\n",
       " 'toilet': 695,\n",
       " 'paper': 696,\n",
       " 'catching': 697,\n",
       " 'take': 698,\n",
       " 'proper': 699,\n",
       " 'precautions': 700,\n",
       " 'httpstcolnof0xfsx4': 701,\n",
       " 'reading': 702,\n",
       " 'hopefully': 703,\n",
       " 'nothing': 704,\n",
       " 'else': 705,\n",
       " 'public': 706,\n",
       " 'wish': 707,\n",
       " 'consider': 708,\n",
       " 'locally': 709,\n",
       " 'course': 710,\n",
       " 'survive': 711,\n",
       " 'httpstcocn9o6qkzfo': 712,\n",
       " 'loving': 713,\n",
       " 'quiet': 714,\n",
       " 'tube': 715,\n",
       " 'atm': 716,\n",
       " 'terrible': 717,\n",
       " 'yes': 718,\n",
       " 'fantastic': 719,\n",
       " 'level': 720,\n",
       " 'utility': 721,\n",
       " 'â£250': 722,\n",
       " 'ticket': 723,\n",
       " 'welfare': 724,\n",
       " 'odisha': 725,\n",
       " 'effective': 726,\n",
       " 'steps': 727,\n",
       " 'marketing': 728,\n",
       " 'hoarding': 729,\n",
       " 'protective': 730,\n",
       " 'masks': 731,\n",
       " 'odishanews': 732,\n",
       " 'ommcomnews': 733,\n",
       " 'httpstcovbiqm3zp1q': 734,\n",
       " 'lvmh': 735,\n",
       " 'converting': 736,\n",
       " 'perfume': 737,\n",
       " 'factories': 738,\n",
       " 'leaders': 739,\n",
       " 'ikeas': 740,\n",
       " 'ecommerce': 741,\n",
       " 'strategy': 742,\n",
       " 'americas': 743,\n",
       " 'retailers': 744,\n",
       " 'start': 745,\n",
       " 'crowd': 746,\n",
       " 'control': 747,\n",
       " 'ulta': 748,\n",
       " 'stops': 749,\n",
       " 'services': 750,\n",
       " 'dtc': 751,\n",
       " 'coronapocalypse': 752,\n",
       " 'httpstcorafj2l2ceq': 753,\n",
       " 'httpstcowfrpxc3qfi': 754,\n",
       " 'stockup': 755,\n",
       " 'compassion': 756,\n",
       " 'tissue': 757,\n",
       " 'papers': 758,\n",
       " 'coronaoutbreak': 759,\n",
       " 'falsepanic': 760,\n",
       " 'worldshutdown': 761,\n",
       " 'well': 762,\n",
       " 'movement': 763,\n",
       " 'download': 764,\n",
       " 'applications': 765,\n",
       " 'smartphones': 766,\n",
       " 'easier': 767,\n",
       " 'recover': 768,\n",
       " 'timefind': 769,\n",
       " 'restaurant': 770,\n",
       " 'deliver': 771,\n",
       " 'wake': 772,\n",
       " 'agencies': 773,\n",
       " 'secure': 774,\n",
       " 'allotments': 775,\n",
       " 'cattle': 776,\n",
       " 'sheep': 777,\n",
       " 'plates': 778,\n",
       " 'additional': 779,\n",
       " 'details': 780,\n",
       " 'shared': 781,\n",
       " 'become': 782,\n",
       " 'available': 783,\n",
       " 'reach': 784,\n",
       " 'questions': 785,\n",
       " 'concerns': 786,\n",
       " 'texas': 787,\n",
       " 'hotline': 788,\n",
       " '682': 789,\n",
       " '2367601': 790,\n",
       " 'spoken': 791,\n",
       " 'registered': 792,\n",
       " 'nurse': 793,\n",
       " 'able': 794,\n",
       " 'answer': 795,\n",
       " 'resource': 796,\n",
       " 'prevention': 797,\n",
       " 'better': 798,\n",
       " 'cure': 799,\n",
       " 'beat': 800,\n",
       " '1wash': 801,\n",
       " 'frequently': 802,\n",
       " 'soap': 803,\n",
       " '2wear': 804,\n",
       " 'clean': 805,\n",
       " 'cloth': 806,\n",
       " 'cover': 807,\n",
       " 'mouth': 808,\n",
       " 'crowded': 809,\n",
       " 'place': 810,\n",
       " '3try': 811,\n",
       " 'meter': 812,\n",
       " 'distance': 813,\n",
       " 'strangers': 814,\n",
       " '4': 815,\n",
       " 'homemade': 816,\n",
       " 'possible': 817,\n",
       " 'httpstcoqiggycpxz6': 818,\n",
       " 'right': 819,\n",
       " 'companies': 820,\n",
       " 'started': 821,\n",
       " 'sales': 822,\n",
       " '50': 823,\n",
       " 'website': 824,\n",
       " 'type': 825,\n",
       " 'lol': 826,\n",
       " 'remain': 827,\n",
       " 'communities': 828,\n",
       " 'spending': 829,\n",
       " 'patterns': 830,\n",
       " 'corporate': 831,\n",
       " 'heres': 832,\n",
       " 'regions': 833,\n",
       " 'asset': 834,\n",
       " 'managements': 835,\n",
       " 'perspective': 836,\n",
       " 'markets': 837,\n",
       " 'react': 838,\n",
       " 'httpstcoswf2zg7zaq': 839,\n",
       " 'httpstcozm5gjzxezc': 840,\n",
       " 'mintelnews': 841,\n",
       " 'newzealand': 842,\n",
       " 'exports': 843,\n",
       " 'canada': 844,\n",
       " 'surging': 845,\n",
       " 'previously': 846,\n",
       " 'china': 847,\n",
       " 'rerouted': 848,\n",
       " 'month': 849,\n",
       " '48': 850,\n",
       " 'httpstcorychqmimus': 851,\n",
       " 'thanks': 852,\n",
       " 'cptpp': 853,\n",
       " 'arbitrage': 854,\n",
       " 'new': 855,\n",
       " 'zealand': 856,\n",
       " 'packers': 857,\n",
       " 'profitable': 858,\n",
       " 'father': 859,\n",
       " 'put': 860,\n",
       " 'restriction': 861,\n",
       " 'bank': 862,\n",
       " 'gas': 863,\n",
       " 'station': 864,\n",
       " 'hang': 865,\n",
       " 'del': 866,\n",
       " 'taco': 867,\n",
       " 'pass': 868,\n",
       " 'diligent': 869,\n",
       " 'appreciative': 870,\n",
       " 'httpstcozpaaxeij1k': 871,\n",
       " 'sanitized': 872,\n",
       " 'minimise': 873,\n",
       " 'chances': 874,\n",
       " 'contracting': 875,\n",
       " 'deadly': 876,\n",
       " 'enough': 877,\n",
       " 'large': 878,\n",
       " 'portable': 879,\n",
       " 'face': 880,\n",
       " 'httpstcowdkjbyijfs': 881,\n",
       " 'doorstep': 882,\n",
       " '1hr': 883,\n",
       " 'kampala': 884,\n",
       " 'httpstcoo8hgrxtgcg': 885,\n",
       " 'thoughts': 886,\n",
       " 'raw': 887,\n",
       " 'prognosis': 888,\n",
       " 'according': 889,\n",
       " '1': 890,\n",
       " 'sitting': 891,\n",
       " 'internet': 892,\n",
       " 'traffic': 893,\n",
       " 'growing': 894,\n",
       " 'earn': 895,\n",
       " 'lot': 896,\n",
       " '3': 897,\n",
       " 'raise': 898,\n",
       " 'tools': 899,\n",
       " 'powerup': 900,\n",
       " 'remote': 901,\n",
       " 'workflow': 902,\n",
       " 'bitcoin': 903,\n",
       " 'falling': 904,\n",
       " 'technology': 905,\n",
       " 'survived': 906,\n",
       " 'supremecourt': 907,\n",
       " 'today': 908,\n",
       " 'atleast': 909,\n",
       " 'carry': 910,\n",
       " 'mask': 911,\n",
       " 'chant': 912,\n",
       " 'httpstcoa1lvklhuky': 913,\n",
       " 'shopkeepers': 914,\n",
       " 'selling': 915,\n",
       " 'highly': 916,\n",
       " 'rs': 917,\n",
       " '100': 918,\n",
       " 'actual': 919,\n",
       " 'cost': 920,\n",
       " '5': 921,\n",
       " '10': 922,\n",
       " 'kindly': 923,\n",
       " 'variety': 924,\n",
       " 'earth': 925,\n",
       " 'request': 926,\n",
       " 'cmopb': 927,\n",
       " 'punjab': 928,\n",
       " 'coronavirusoutbreaks': 929,\n",
       " 'practice': 930,\n",
       " 'distancing': 931,\n",
       " 'occupation': 932,\n",
       " 'allow': 933,\n",
       " 'monitor': 934,\n",
       " 'area': 935,\n",
       " 'required': 936,\n",
       " 'assist': 937,\n",
       " 'needed': 938,\n",
       " 'greatest': 939,\n",
       " 'unknowingly': 940,\n",
       " 'restaurants': 941,\n",
       " 'coffee': 942,\n",
       " 'entertainment': 943,\n",
       " 'venues': 944,\n",
       " 'optometrists': 945,\n",
       " 'bodegas': 946,\n",
       " 'non': 947,\n",
       " 'profits': 948,\n",
       " 'field': 949,\n",
       " 'veterinarian': 950,\n",
       " 'offices': 951,\n",
       " 'dentists': 952,\n",
       " 'mailing': 953,\n",
       " 'centers': 954,\n",
       " 'ups': 955,\n",
       " 'dinner': 956,\n",
       " 'till': 957,\n",
       " 'kid': 958,\n",
       " 'friendly': 959,\n",
       " 'picky': 960,\n",
       " 'eater': 961,\n",
       " 'approved': 962,\n",
       " 'mealplan': 963,\n",
       " 'mealprep': 964,\n",
       " 'howtokeeppeoplehome': 965,\n",
       " 'schoolclosure': 966,\n",
       " 'httpstcopl7s0gonuy': 967,\n",
       " 'changing': 968,\n",
       " 'purchase': 969,\n",
       " 'habits': 970,\n",
       " 'rapidly': 971,\n",
       " 'globally': 972,\n",
       " 'news': 973,\n",
       " 'actions': 974,\n",
       " 'transitions': 975,\n",
       " 'pantry': 976,\n",
       " 'prep': 977,\n",
       " 'quarantine': 978,\n",
       " 'supplychainmanagement': 979,\n",
       " 'httpstcofphpnlpjye': 980,\n",
       " 'smart': 981,\n",
       " 'device': 982,\n",
       " 'kuwait': 983,\n",
       " 'tons': 984,\n",
       " 'sites': 985,\n",
       " 'needs': 986,\n",
       " 'finger': 987,\n",
       " 'tips': 988,\n",
       " 'trust': 989,\n",
       " 'follow': 990,\n",
       " 'law': 991,\n",
       " 'thankingkuwaitcorona': 992,\n",
       " 'part': 993,\n",
       " 'slowing': 994,\n",
       " 'result': 995,\n",
       " '401': 996,\n",
       " 'richmond': 997,\n",
       " 'shop': 998,\n",
       " 'httpstcod5x7rxw0cs': 999,\n",
       " 'staythefuckhome': 1000,\n",
       " ...}"
      ]
     },
     "execution_count": 25,
     "metadata": {},
     "output_type": "execute_result"
    }
   ],
   "source": [
    "dictionary"
   ]
  },
  {
   "cell_type": "code",
   "execution_count": 26,
   "id": "c50a721f",
   "metadata": {
    "execution": {
     "iopub.execute_input": "2022-03-05T23:37:03.383601Z",
     "iopub.status.busy": "2022-03-05T23:37:03.357714Z",
     "iopub.status.idle": "2022-03-05T23:37:03.398823Z",
     "shell.execute_reply": "2022-03-05T23:37:03.398339Z",
     "shell.execute_reply.started": "2022-03-05T23:08:32.591922Z"
    },
    "papermill": {
     "duration": 0.079154,
     "end_time": "2022-03-05T23:37:03.398945",
     "exception": false,
     "start_time": "2022-03-05T23:37:03.319791",
     "status": "completed"
    },
    "tags": []
   },
   "outputs": [
    {
     "data": {
      "text/plain": [
       "['shortages',\n",
       " 'food',\n",
       " 'riots',\n",
       " 'water',\n",
       " 'hygiene',\n",
       " 'disasters',\n",
       " 'near',\n",
       " 'future',\n",
       " 'threats']"
      ]
     },
     "execution_count": 26,
     "metadata": {},
     "output_type": "execute_result"
    }
   ],
   "source": [
    "x_valid.reset_index()[\"OriginalTweet\"].loc[0].split() "
   ]
  },
  {
   "cell_type": "code",
   "execution_count": 27,
   "id": "fa0c5b54",
   "metadata": {
    "execution": {
     "iopub.execute_input": "2022-03-05T23:37:03.383601Z",
     "iopub.status.busy": "2022-03-05T23:37:03.357714Z",
     "iopub.status.idle": "2022-03-05T23:37:03.398823Z",
     "shell.execute_reply": "2022-03-05T23:37:03.398339Z",
     "shell.execute_reply.started": "2022-03-05T23:08:32.591922Z"
    },
    "papermill": {
     "duration": 0.079154,
     "end_time": "2022-03-05T23:37:03.398945",
     "exception": false,
     "start_time": "2022-03-05T23:37:03.319791",
     "status": "completed"
    },
    "tags": []
   },
   "outputs": [
    {
     "name": "stdout",
     "output_type": "stream",
     "text": [
      "4152\n",
      "6\n",
      "24111\n",
      "1273\n",
      "2238\n",
      "24245\n",
      "195\n",
      "196\n",
      "26314\n"
     ]
    }
   ],
   "source": [
    "for word in x_valid.reset_index()[\"OriginalTweet\"].loc[0].split() :\n",
    "    print(dictionary[word])"
   ]
  },
  {
   "cell_type": "code",
   "execution_count": 28,
   "id": "753eb913",
   "metadata": {
    "execution": {
     "iopub.execute_input": "2022-03-05T23:37:03.383601Z",
     "iopub.status.busy": "2022-03-05T23:37:03.357714Z",
     "iopub.status.idle": "2022-03-05T23:37:03.398823Z",
     "shell.execute_reply": "2022-03-05T23:37:03.398339Z",
     "shell.execute_reply.started": "2022-03-05T23:08:32.591922Z"
    },
    "papermill": {
     "duration": 0.079154,
     "end_time": "2022-03-05T23:37:03.398945",
     "exception": false,
     "start_time": "2022-03-05T23:37:03.319791",
     "status": "completed"
    },
    "tags": []
   },
   "outputs": [
    {
     "data": {
      "text/plain": [
       "tensor([ 4152,     6, 24111,  1273,  2238, 24245,   195,   196, 26314,     0,\n",
       "            0,     0,     0,     0,     0,     0,     0,     0,     0,     0,\n",
       "            0,     0,     0,     0,     0,     0,     0,     0,     0,     0,\n",
       "            0,     0,     0,     0,     0,     0,     0,     0,     0,     0,\n",
       "            0,     0,     0,     0,     0], dtype=torch.int32)"
      ]
     },
     "execution_count": 28,
     "metadata": {},
     "output_type": "execute_result"
    }
   ],
   "source": [
    "x[0]"
   ]
  },
  {
   "cell_type": "code",
   "execution_count": 29,
   "id": "a0a6d67f",
   "metadata": {
    "execution": {
     "iopub.execute_input": "2022-03-05T23:37:03.383601Z",
     "iopub.status.busy": "2022-03-05T23:37:03.357714Z",
     "iopub.status.idle": "2022-03-05T23:37:03.398823Z",
     "shell.execute_reply": "2022-03-05T23:37:03.398339Z",
     "shell.execute_reply.started": "2022-03-05T23:08:32.591922Z"
    },
    "papermill": {
     "duration": 0.079154,
     "end_time": "2022-03-05T23:37:03.398945",
     "exception": false,
     "start_time": "2022-03-05T23:37:03.319791",
     "status": "completed"
    },
    "tags": []
   },
   "outputs": [
    {
     "data": {
      "text/plain": [
       "1"
      ]
     },
     "execution_count": 29,
     "metadata": {},
     "output_type": "execute_result"
    }
   ],
   "source": [
    "y_valid.reset_index()[\"Sentiment\"].loc[0]"
   ]
  },
  {
   "cell_type": "code",
   "execution_count": 30,
   "id": "cd222bfe",
   "metadata": {
    "execution": {
     "iopub.execute_input": "2022-03-05T23:37:03.383601Z",
     "iopub.status.busy": "2022-03-05T23:37:03.357714Z",
     "iopub.status.idle": "2022-03-05T23:37:03.398823Z",
     "shell.execute_reply": "2022-03-05T23:37:03.398339Z",
     "shell.execute_reply.started": "2022-03-05T23:08:32.591922Z"
    },
    "papermill": {
     "duration": 0.079154,
     "end_time": "2022-03-05T23:37:03.398945",
     "exception": false,
     "start_time": "2022-03-05T23:37:03.319791",
     "status": "completed"
    },
    "tags": []
   },
   "outputs": [
    {
     "data": {
      "text/plain": [
       "1"
      ]
     },
     "execution_count": 30,
     "metadata": {},
     "output_type": "execute_result"
    }
   ],
   "source": [
    "y[0].item()"
   ]
  },
  {
   "cell_type": "markdown",
   "id": "ad2866d6",
   "metadata": {
    "papermill": {
     "duration": 0.014335,
     "end_time": "2022-03-05T23:37:03.427502",
     "exception": false,
     "start_time": "2022-03-05T23:37:03.413167",
     "status": "completed"
    },
    "tags": []
   },
   "source": [
    "# 3. Model"
   ]
  },
  {
   "cell_type": "code",
   "execution_count": 31,
   "id": "a512a861",
   "metadata": {
    "execution": {
     "iopub.execute_input": "2022-03-05T23:37:03.466333Z",
     "iopub.status.busy": "2022-03-05T23:37:03.465518Z",
     "iopub.status.idle": "2022-03-05T23:37:03.467416Z",
     "shell.execute_reply": "2022-03-05T23:37:03.467814Z",
     "shell.execute_reply.started": "2022-03-05T23:20:44.372994Z"
    },
    "papermill": {
     "duration": 0.026245,
     "end_time": "2022-03-05T23:37:03.467936",
     "exception": false,
     "start_time": "2022-03-05T23:37:03.441691",
     "status": "completed"
    },
    "tags": []
   },
   "outputs": [
    {
     "data": {
      "text/plain": [
       "(torch.Size([64, 45]), 64)"
      ]
     },
     "execution_count": 31,
     "metadata": {},
     "output_type": "execute_result"
    }
   ],
   "source": [
    "x.shape, len(y)"
   ]
  },
  {
   "cell_type": "code",
   "execution_count": 40,
   "id": "45c25314",
   "metadata": {
    "execution": {
     "iopub.execute_input": "2022-03-05T23:37:03.466333Z",
     "iopub.status.busy": "2022-03-05T23:37:03.465518Z",
     "iopub.status.idle": "2022-03-05T23:37:03.467416Z",
     "shell.execute_reply": "2022-03-05T23:37:03.467814Z",
     "shell.execute_reply.started": "2022-03-05T23:20:44.372994Z"
    },
    "papermill": {
     "duration": 0.026245,
     "end_time": "2022-03-05T23:37:03.467936",
     "exception": false,
     "start_time": "2022-03-05T23:37:03.441691",
     "status": "completed"
    },
    "tags": []
   },
   "outputs": [
    {
     "name": "stdout",
     "output_type": "stream",
     "text": [
      "TextClassifier(\n",
      "  (dropout): Dropout(p=0.5, inplace=False)\n",
      "  (embedding): Embedding(35675, 50, padding_idx=0)\n",
      "  (lstm): LSTM(50, 64, batch_first=True)\n",
      "  (fc1): Linear(in_features=64, out_features=256, bias=True)\n",
      "  (fc2): Linear(in_features=256, out_features=1, bias=True)\n",
      ")\n"
     ]
    }
   ],
   "source": [
    "EMBEDDING_DIM = 50\n",
    "HIDDEN_DIM = 64\n",
    "LSTM_LAYERS = 1\n",
    "\n",
    "class TextClassifier(nn.ModuleList):\n",
    "    \"\"\"\n",
    "    LSTM Network definition\n",
    "    \"\"\"\n",
    "    def __init__(self):\n",
    "        super(TextClassifier, self).__init__()\n",
    "\n",
    "        self.batch_size = BATCH_SIZE\n",
    "        self.embedding_dim = EMBEDDING_DIM\n",
    "        self.hidden_dim = HIDDEN_DIM\n",
    "        self.LSTM_layers = LSTM_LAYERS\n",
    "        self.input_size = INPUT_SIZE\n",
    "\n",
    "        self.dropout = nn.Dropout(DROPOUT)\n",
    "        self.embedding = nn.Embedding(num_embeddings=self.input_size, embedding_dim=self.embedding_dim, padding_idx=0)\n",
    "        self.lstm = nn.LSTM(input_size=self.embedding_dim, hidden_size=self.hidden_dim, num_layers=self.LSTM_layers, batch_first=True, bidirectional=False)\n",
    "        self.fc1 = nn.Linear(in_features=self.hidden_dim, out_features=256)\n",
    "        self.fc2 = nn.Linear(256, 1)\n",
    "    \n",
    "\n",
    "    def forward(self, x):\n",
    "\n",
    "        h = torch.zeros((self.LSTM_layers, x.size(0), self.hidden_dim)).to(device)\n",
    "        c = torch.zeros((self.LSTM_layers, x.size(0), self.hidden_dim)).to(device)\n",
    "        \n",
    "        torch.nn.init.xavier_normal_(h)\n",
    "        torch.nn.init.xavier_normal_(c)\n",
    "        \n",
    "        embedded = self.embedding(x)\n",
    "        out, (hidden, cell) = self.lstm(embedded, (h, c))\n",
    "        out = self.dropout(out)\n",
    "        out = torch.relu_(self.fc1(out[:,-1,:]))\n",
    "        out = self.dropout(out)\n",
    "        out = torch.sigmoid(self.fc2(out))\n",
    "        return out.squeeze()\n",
    "\n",
    "# Identify device\n",
    "device = torch.device('cuda' if torch.cuda.is_available() else 'cpu')\n",
    "\n",
    "# Model initialization\n",
    "model = TextClassifier().to(device)\n",
    "print(model)"
   ]
  },
  {
   "cell_type": "code",
   "execution_count": 41,
   "id": "65a1b049",
   "metadata": {
    "execution": {
     "iopub.execute_input": "2022-03-05T23:37:03.586794Z",
     "iopub.status.busy": "2022-03-05T23:37:03.586192Z",
     "iopub.status.idle": "2022-03-05T23:37:07.128124Z",
     "shell.execute_reply": "2022-03-05T23:37:07.127243Z",
     "shell.execute_reply.started": "2022-03-05T23:20:44.868691Z"
    },
    "papermill": {
     "duration": 3.560563,
     "end_time": "2022-03-05T23:37:07.128273",
     "exception": false,
     "start_time": "2022-03-05T23:37:03.567710",
     "status": "completed"
    },
    "tags": []
   },
   "outputs": [
    {
     "data": {
      "text/plain": [
       "torch.Size([64, 45])"
      ]
     },
     "execution_count": 41,
     "metadata": {},
     "output_type": "execute_result"
    }
   ],
   "source": [
    "x.shape"
   ]
  },
  {
   "cell_type": "code",
   "execution_count": 42,
   "id": "94dce69a",
   "metadata": {
    "execution": {
     "iopub.execute_input": "2022-03-05T23:37:03.586794Z",
     "iopub.status.busy": "2022-03-05T23:37:03.586192Z",
     "iopub.status.idle": "2022-03-05T23:37:07.128124Z",
     "shell.execute_reply": "2022-03-05T23:37:07.127243Z",
     "shell.execute_reply.started": "2022-03-05T23:20:44.868691Z"
    },
    "papermill": {
     "duration": 3.560563,
     "end_time": "2022-03-05T23:37:07.128273",
     "exception": false,
     "start_time": "2022-03-05T23:37:03.567710",
     "status": "completed"
    },
    "tags": []
   },
   "outputs": [
    {
     "data": {
      "text/plain": [
       "torch.Size([64])"
      ]
     },
     "execution_count": 42,
     "metadata": {},
     "output_type": "execute_result"
    }
   ],
   "source": [
    "y.shape"
   ]
  },
  {
   "cell_type": "code",
   "execution_count": 43,
   "id": "762d4d9a",
   "metadata": {
    "execution": {
     "iopub.execute_input": "2022-03-05T23:37:03.586794Z",
     "iopub.status.busy": "2022-03-05T23:37:03.586192Z",
     "iopub.status.idle": "2022-03-05T23:37:07.128124Z",
     "shell.execute_reply": "2022-03-05T23:37:07.127243Z",
     "shell.execute_reply.started": "2022-03-05T23:20:44.868691Z"
    },
    "papermill": {
     "duration": 3.560563,
     "end_time": "2022-03-05T23:37:07.128273",
     "exception": false,
     "start_time": "2022-03-05T23:37:03.567710",
     "status": "completed"
    },
    "tags": []
   },
   "outputs": [
    {
     "data": {
      "text/plain": [
       "torch.Size([64])"
      ]
     },
     "execution_count": 43,
     "metadata": {},
     "output_type": "execute_result"
    }
   ],
   "source": [
    "model(x.cuda()).shape"
   ]
  },
  {
   "cell_type": "code",
   "execution_count": 44,
   "id": "53ccac1b",
   "metadata": {
    "execution": {
     "iopub.execute_input": "2022-03-05T23:37:03.586794Z",
     "iopub.status.busy": "2022-03-05T23:37:03.586192Z",
     "iopub.status.idle": "2022-03-05T23:37:07.128124Z",
     "shell.execute_reply": "2022-03-05T23:37:07.127243Z",
     "shell.execute_reply.started": "2022-03-05T23:20:44.868691Z"
    },
    "papermill": {
     "duration": 3.560563,
     "end_time": "2022-03-05T23:37:07.128273",
     "exception": false,
     "start_time": "2022-03-05T23:37:03.567710",
     "status": "completed"
    },
    "tags": []
   },
   "outputs": [],
   "source": [
    "# Optimizer initialization\n",
    "optimizer = optim.Adam(model.parameters(), lr=0.001)\n",
    "criterion = torch.nn.BCELoss()"
   ]
  },
  {
   "cell_type": "code",
   "execution_count": 45,
   "id": "fab59a95",
   "metadata": {
    "execution": {
     "iopub.execute_input": "2022-03-05T23:37:07.163020Z",
     "iopub.status.busy": "2022-03-05T23:37:07.162221Z",
     "iopub.status.idle": "2022-03-05T23:37:07.164181Z",
     "shell.execute_reply": "2022-03-05T23:37:07.164589Z",
     "shell.execute_reply.started": "2022-03-05T23:20:48.324670Z"
    },
    "papermill": {
     "duration": 0.021737,
     "end_time": "2022-03-05T23:37:07.164738",
     "exception": false,
     "start_time": "2022-03-05T23:37:07.143001",
     "status": "completed"
    },
    "tags": []
   },
   "outputs": [],
   "source": [
    "def calculate_accuracy_with_selected_threshold(grand_truth, predictions):\n",
    "    \"\"\"\n",
    "    Accuracy calcuation: (tp + tn) / N\n",
    "    \"\"\"\n",
    "    true_positives, true_negatives = 0, 0\n",
    "    fpr, tpr, thr = roc_curve(grand_truth, predictions)\n",
    "    roc = pd.DataFrame({'fpr':fpr, 'tpr':tpr, 'thr':thr});\n",
    "    roc['random'] = roc['fpr'].copy()\n",
    "    roc['diff'] = roc['tpr'] - roc['fpr']\n",
    "    roc = roc.sort_values('diff', ascending=False).reset_index().drop('index', axis=1)\n",
    "    \n",
    "    for true, pred in zip(grand_truth, predictions):\n",
    "        if (pred > roc.loc[0,'thr']) and (true == 1):\n",
    "            true_positives += 1\n",
    "        elif (pred < roc.loc[0,'thr']) and (true == 0):\n",
    "            true_negatives += 1\n",
    "    return (true_positives+true_negatives) / len(grand_truth)\n",
    "\n",
    "def calculate_accuray_with_point_five(grand_truth, predictions):\n",
    "    \"\"\"\n",
    "    Accuracy calcuation: (tp + tn) / N\n",
    "    \"\"\"\n",
    "    true_positives, true_negatives = 0, 0    \n",
    "    for true, pred in zip(grand_truth, predictions):\n",
    "        if (pred > 0.5) and (true == 1):\n",
    "            true_positives += 1\n",
    "        elif (pred < 0.5) and (true == 0):\n",
    "            true_negatives += 1\n",
    "    return (true_positives+true_negatives) / len(grand_truth)"
   ]
  },
  {
   "cell_type": "code",
   "execution_count": 49,
   "id": "1769f6b9",
   "metadata": {
    "execution": {
     "iopub.execute_input": "2022-03-05T23:37:07.196308Z",
     "iopub.status.busy": "2022-03-05T23:37:07.195495Z",
     "iopub.status.idle": "2022-03-05T23:37:16.643896Z",
     "shell.execute_reply": "2022-03-05T23:37:16.644314Z",
     "shell.execute_reply.started": "2022-03-05T23:21:09.145194Z"
    },
    "papermill": {
     "duration": 9.465388,
     "end_time": "2022-03-05T23:37:16.644460",
     "exception": false,
     "start_time": "2022-03-05T23:37:07.179072",
     "status": "completed"
    },
    "tags": []
   },
   "outputs": [],
   "source": [
    "# Optimizer initialization\n",
    "optimizer = optim.Adam(model.parameters(), lr=0.0001)\n",
    "criterion = torch.nn.BCELoss()"
   ]
  },
  {
   "cell_type": "code",
   "execution_count": 51,
   "id": "8edba82d",
   "metadata": {
    "execution": {
     "iopub.execute_input": "2022-03-05T23:37:07.196308Z",
     "iopub.status.busy": "2022-03-05T23:37:07.195495Z",
     "iopub.status.idle": "2022-03-05T23:37:16.643896Z",
     "shell.execute_reply": "2022-03-05T23:37:16.644314Z",
     "shell.execute_reply.started": "2022-03-05T23:21:09.145194Z"
    },
    "papermill": {
     "duration": 9.465388,
     "end_time": "2022-03-05T23:37:16.644460",
     "exception": false,
     "start_time": "2022-03-05T23:37:07.179072",
     "status": "completed"
    },
    "tags": []
   },
   "outputs": [
    {
     "name": "stderr",
     "output_type": "stream",
     "text": [
      "training epoch 1: 100%|█████████████████████████████████████████████████████████████| 133/133 [00:00<00:00, 145.34it/s]\n",
      "validation epoch 1: 100%|█████████████████████████████████████████████████████████████| 57/57 [00:00<00:00, 470.98it/s]\n"
     ]
    },
    {
     "name": "stdout",
     "output_type": "stream",
     "text": [
      "epoch: 1, loss: 0.00001, train: 0.99965, valid: 0.86151\n",
      "Valid metrics improved (0.860000 --> 0.861509).  Saving model ...\n",
      "=========================================\n"
     ]
    },
    {
     "name": "stderr",
     "output_type": "stream",
     "text": [
      "training epoch 2: 100%|█████████████████████████████████████████████████████████████| 133/133 [00:00<00:00, 203.44it/s]\n",
      "validation epoch 2: 100%|█████████████████████████████████████████████████████████████| 57/57 [00:00<00:00, 552.50it/s]\n"
     ]
    },
    {
     "name": "stdout",
     "output_type": "stream",
     "text": [
      "epoch: 2, loss: 0.00003, train: 0.99976, valid: 0.86178\n",
      "Valid metrics improved (0.861509 --> 0.861784).  Saving model ...\n",
      "=========================================\n"
     ]
    },
    {
     "name": "stderr",
     "output_type": "stream",
     "text": [
      "training epoch 3: 100%|█████████████████████████████████████████████████████████████| 133/133 [00:00<00:00, 190.03it/s]\n",
      "validation epoch 3: 100%|█████████████████████████████████████████████████████████████| 57/57 [00:00<00:00, 459.55it/s]\n"
     ]
    },
    {
     "name": "stdout",
     "output_type": "stream",
     "text": [
      "epoch: 3, loss: 0.00003, train: 0.99976, valid: 0.86151\n"
     ]
    },
    {
     "name": "stderr",
     "output_type": "stream",
     "text": [
      "training epoch 4: 100%|█████████████████████████████████████████████████████████████| 133/133 [00:00<00:00, 189.36it/s]\n",
      "validation epoch 4: 100%|█████████████████████████████████████████████████████████████| 57/57 [00:00<00:00, 488.85it/s]\n"
     ]
    },
    {
     "name": "stdout",
     "output_type": "stream",
     "text": [
      "epoch: 4, loss: 0.00001, train: 0.99976, valid: 0.86096\n"
     ]
    },
    {
     "name": "stderr",
     "output_type": "stream",
     "text": [
      "training epoch 5: 100%|█████████████████████████████████████████████████████████████| 133/133 [00:00<00:00, 193.75it/s]\n",
      "validation epoch 5: 100%|█████████████████████████████████████████████████████████████| 57/57 [00:00<00:00, 468.79it/s]\n"
     ]
    },
    {
     "name": "stdout",
     "output_type": "stream",
     "text": [
      "epoch: 5, loss: 0.00001, train: 0.99976, valid: 0.86151\n"
     ]
    },
    {
     "name": "stderr",
     "output_type": "stream",
     "text": [
      "training epoch 6: 100%|█████████████████████████████████████████████████████████████| 133/133 [00:00<00:00, 184.55it/s]\n",
      "validation epoch 6: 100%|█████████████████████████████████████████████████████████████| 57/57 [00:00<00:00, 536.81it/s]\n"
     ]
    },
    {
     "name": "stdout",
     "output_type": "stream",
     "text": [
      "epoch: 6, loss: 0.00000, train: 0.99976, valid: 0.86206\n",
      "Valid metrics improved (0.861784 --> 0.862059).  Saving model ...\n",
      "=========================================\n"
     ]
    },
    {
     "name": "stderr",
     "output_type": "stream",
     "text": [
      "training epoch 7: 100%|█████████████████████████████████████████████████████████████| 133/133 [00:00<00:00, 190.30it/s]\n",
      "validation epoch 7: 100%|█████████████████████████████████████████████████████████████| 57/57 [00:00<00:00, 557.86it/s]\n"
     ]
    },
    {
     "name": "stdout",
     "output_type": "stream",
     "text": [
      "epoch: 7, loss: 0.00017, train: 0.99976, valid: 0.86233\n",
      "Valid metrics improved (0.862059 --> 0.862335).  Saving model ...\n",
      "=========================================\n"
     ]
    },
    {
     "name": "stderr",
     "output_type": "stream",
     "text": [
      "training epoch 8: 100%|█████████████████████████████████████████████████████████████| 133/133 [00:00<00:00, 181.29it/s]\n",
      "validation epoch 8: 100%|█████████████████████████████████████████████████████████████| 57/57 [00:00<00:00, 539.37it/s]\n"
     ]
    },
    {
     "name": "stdout",
     "output_type": "stream",
     "text": [
      "epoch: 8, loss: 0.00000, train: 0.99976, valid: 0.86233\n",
      "Valid metrics improved (0.862335 --> 0.862335).  Saving model ...\n",
      "=========================================\n"
     ]
    },
    {
     "name": "stderr",
     "output_type": "stream",
     "text": [
      "training epoch 9: 100%|█████████████████████████████████████████████████████████████| 133/133 [00:00<00:00, 188.56it/s]\n",
      "validation epoch 9: 100%|█████████████████████████████████████████████████████████████| 57/57 [00:00<00:00, 433.65it/s]\n"
     ]
    },
    {
     "name": "stdout",
     "output_type": "stream",
     "text": [
      "epoch: 9, loss: 0.00002, train: 0.99976, valid: 0.86289\n",
      "Valid metrics improved (0.862335 --> 0.862885).  Saving model ...\n",
      "=========================================\n"
     ]
    },
    {
     "name": "stderr",
     "output_type": "stream",
     "text": [
      "training epoch 10: 100%|████████████████████████████████████████████████████████████| 133/133 [00:00<00:00, 190.44it/s]\n",
      "validation epoch 10: 100%|████████████████████████████████████████████████████████████| 57/57 [00:00<00:00, 495.21it/s]\n"
     ]
    },
    {
     "name": "stdout",
     "output_type": "stream",
     "text": [
      "epoch: 10, loss: 0.00003, train: 0.99976, valid: 0.86289\n",
      "Valid metrics improved (0.862885 --> 0.862885).  Saving model ...\n",
      "=========================================\n"
     ]
    },
    {
     "name": "stderr",
     "output_type": "stream",
     "text": [
      "training epoch 11: 100%|████████████████████████████████████████████████████████████| 133/133 [00:00<00:00, 191.88it/s]\n",
      "validation epoch 11: 100%|████████████████████████████████████████████████████████████| 57/57 [00:00<00:00, 482.86it/s]\n"
     ]
    },
    {
     "name": "stdout",
     "output_type": "stream",
     "text": [
      "epoch: 11, loss: 0.00002, train: 0.99976, valid: 0.86289\n",
      "Valid metrics improved (0.862885 --> 0.862885).  Saving model ...\n",
      "=========================================\n"
     ]
    },
    {
     "name": "stderr",
     "output_type": "stream",
     "text": [
      "training epoch 12: 100%|████████████████████████████████████████████████████████████| 133/133 [00:00<00:00, 188.71it/s]\n",
      "validation epoch 12: 100%|████████████████████████████████████████████████████████████| 57/57 [00:00<00:00, 497.49it/s]\n"
     ]
    },
    {
     "name": "stdout",
     "output_type": "stream",
     "text": [
      "epoch: 12, loss: 0.00004, train: 0.99976, valid: 0.86289\n",
      "Valid metrics improved (0.862885 --> 0.862885).  Saving model ...\n",
      "=========================================\n"
     ]
    },
    {
     "name": "stderr",
     "output_type": "stream",
     "text": [
      "training epoch 13: 100%|████████████████████████████████████████████████████████████| 133/133 [00:00<00:00, 190.72it/s]\n",
      "validation epoch 13: 100%|████████████████████████████████████████████████████████████| 57/57 [00:00<00:00, 547.02it/s]\n"
     ]
    },
    {
     "name": "stdout",
     "output_type": "stream",
     "text": [
      "epoch: 13, loss: 0.00004, train: 0.99976, valid: 0.86316\n",
      "Valid metrics improved (0.862885 --> 0.863161).  Saving model ...\n",
      "=========================================\n"
     ]
    },
    {
     "name": "stderr",
     "output_type": "stream",
     "text": [
      "training epoch 14: 100%|████████████████████████████████████████████████████████████| 133/133 [00:00<00:00, 186.20it/s]\n",
      "validation epoch 14: 100%|████████████████████████████████████████████████████████████| 57/57 [00:00<00:00, 542.06it/s]\n"
     ]
    },
    {
     "name": "stdout",
     "output_type": "stream",
     "text": [
      "epoch: 14, loss: 0.00005, train: 0.99976, valid: 0.86316\n",
      "Valid metrics improved (0.863161 --> 0.863161).  Saving model ...\n",
      "=========================================\n"
     ]
    },
    {
     "name": "stderr",
     "output_type": "stream",
     "text": [
      "training epoch 15: 100%|████████████████████████████████████████████████████████████| 133/133 [00:00<00:00, 191.52it/s]\n",
      "validation epoch 15: 100%|████████████████████████████████████████████████████████████| 57/57 [00:00<00:00, 557.86it/s]\n"
     ]
    },
    {
     "name": "stdout",
     "output_type": "stream",
     "text": [
      "epoch: 15, loss: 0.00002, train: 0.99976, valid: 0.86316\n",
      "Valid metrics improved (0.863161 --> 0.863161).  Saving model ...\n",
      "=========================================\n"
     ]
    },
    {
     "name": "stderr",
     "output_type": "stream",
     "text": [
      "training epoch 16: 100%|████████████████████████████████████████████████████████████| 133/133 [00:00<00:00, 191.52it/s]\n",
      "validation epoch 16: 100%|████████████████████████████████████████████████████████████| 57/57 [00:00<00:00, 504.02it/s]\n"
     ]
    },
    {
     "name": "stdout",
     "output_type": "stream",
     "text": [
      "epoch: 16, loss: 0.00003, train: 0.99976, valid: 0.86399\n",
      "Valid metrics improved (0.863161 --> 0.863987).  Saving model ...\n",
      "=========================================\n"
     ]
    },
    {
     "name": "stderr",
     "output_type": "stream",
     "text": [
      "training epoch 17: 100%|████████████████████████████████████████████████████████████| 133/133 [00:00<00:00, 193.47it/s]\n",
      "validation epoch 17: 100%|████████████████████████████████████████████████████████████| 57/57 [00:00<00:00, 455.90it/s]\n"
     ]
    },
    {
     "name": "stdout",
     "output_type": "stream",
     "text": [
      "epoch: 17, loss: 0.00005, train: 0.99976, valid: 0.86371\n"
     ]
    },
    {
     "name": "stderr",
     "output_type": "stream",
     "text": [
      "training epoch 18: 100%|████████████████████████████████████████████████████████████| 133/133 [00:00<00:00, 190.16it/s]\n",
      "validation epoch 18: 100%|████████████████████████████████████████████████████████████| 57/57 [00:00<00:00, 486.95it/s]\n"
     ]
    },
    {
     "name": "stdout",
     "output_type": "stream",
     "text": [
      "epoch: 18, loss: 0.00014, train: 0.99976, valid: 0.86399\n",
      "Valid metrics improved (0.863987 --> 0.863987).  Saving model ...\n",
      "=========================================\n"
     ]
    },
    {
     "name": "stderr",
     "output_type": "stream",
     "text": [
      "training epoch 19: 100%|████████████████████████████████████████████████████████████| 133/133 [00:00<00:00, 192.91it/s]\n",
      "validation epoch 19: 100%|████████████████████████████████████████████████████████████| 57/57 [00:00<00:00, 463.32it/s]\n"
     ]
    },
    {
     "name": "stdout",
     "output_type": "stream",
     "text": [
      "epoch: 19, loss: 0.00005, train: 0.99976, valid: 0.86261\n"
     ]
    },
    {
     "name": "stderr",
     "output_type": "stream",
     "text": [
      "training epoch 20: 100%|████████████████████████████████████████████████████████████| 133/133 [00:00<00:00, 186.85it/s]\n",
      "validation epoch 20: 100%|████████████████████████████████████████████████████████████| 57/57 [00:00<00:00, 495.26it/s]\n"
     ]
    },
    {
     "name": "stdout",
     "output_type": "stream",
     "text": [
      "epoch: 20, loss: 0.00010, train: 0.99976, valid: 0.86399\n",
      "Valid metrics improved (0.863987 --> 0.863987).  Saving model ...\n",
      "=========================================\n"
     ]
    },
    {
     "name": "stderr",
     "output_type": "stream",
     "text": [
      "training epoch 21: 100%|████████████████████████████████████████████████████████████| 133/133 [00:00<00:00, 188.04it/s]\n",
      "validation epoch 21: 100%|████████████████████████████████████████████████████████████| 57/57 [00:00<00:00, 524.57it/s]\n"
     ]
    },
    {
     "name": "stdout",
     "output_type": "stream",
     "text": [
      "epoch: 21, loss: 0.00005, train: 0.99976, valid: 0.86399\n",
      "Valid metrics improved (0.863987 --> 0.863987).  Saving model ...\n",
      "=========================================\n"
     ]
    },
    {
     "name": "stderr",
     "output_type": "stream",
     "text": [
      "training epoch 22: 100%|████████████████████████████████████████████████████████████| 133/133 [00:00<00:00, 191.11it/s]\n",
      "validation epoch 22: 100%|████████████████████████████████████████████████████████████| 57/57 [00:00<00:00, 512.96it/s]\n"
     ]
    },
    {
     "name": "stdout",
     "output_type": "stream",
     "text": [
      "epoch: 22, loss: 0.00020, train: 0.99976, valid: 0.86481\n",
      "Valid metrics improved (0.863987 --> 0.864813).  Saving model ...\n",
      "=========================================\n"
     ]
    },
    {
     "name": "stderr",
     "output_type": "stream",
     "text": [
      "training epoch 23: 100%|████████████████████████████████████████████████████████████| 133/133 [00:00<00:00, 192.08it/s]\n",
      "validation epoch 23: 100%|████████████████████████████████████████████████████████████| 57/57 [00:00<00:00, 541.87it/s]\n"
     ]
    },
    {
     "name": "stdout",
     "output_type": "stream",
     "text": [
      "epoch: 23, loss: 0.00011, train: 0.99976, valid: 0.86123\n"
     ]
    },
    {
     "name": "stderr",
     "output_type": "stream",
     "text": [
      "training epoch 24: 100%|████████████████████████████████████████████████████████████| 133/133 [00:00<00:00, 197.30it/s]\n",
      "validation epoch 24: 100%|████████████████████████████████████████████████████████████| 57/57 [00:00<00:00, 563.33it/s]\n"
     ]
    },
    {
     "name": "stdout",
     "output_type": "stream",
     "text": [
      "epoch: 24, loss: 0.00009, train: 0.99976, valid: 0.86206\n"
     ]
    },
    {
     "name": "stderr",
     "output_type": "stream",
     "text": [
      "training epoch 25: 100%|████████████████████████████████████████████████████████████| 133/133 [00:00<00:00, 192.91it/s]\n",
      "validation epoch 25: 100%|████████████████████████████████████████████████████████████| 57/57 [00:00<00:00, 531.88it/s]\n"
     ]
    },
    {
     "name": "stdout",
     "output_type": "stream",
     "text": [
      "epoch: 25, loss: 0.00006, train: 0.99976, valid: 0.86178\n"
     ]
    },
    {
     "name": "stderr",
     "output_type": "stream",
     "text": [
      "training epoch 26: 100%|████████████████████████████████████████████████████████████| 133/133 [00:00<00:00, 185.43it/s]\n",
      "validation epoch 26: 100%|████████████████████████████████████████████████████████████| 57/57 [00:00<00:00, 510.62it/s]\n"
     ]
    },
    {
     "name": "stdout",
     "output_type": "stream",
     "text": [
      "epoch: 26, loss: 0.00008, train: 0.99976, valid: 0.86178\n"
     ]
    },
    {
     "name": "stderr",
     "output_type": "stream",
     "text": [
      "training epoch 27: 100%|████████████████████████████████████████████████████████████| 133/133 [00:00<00:00, 176.06it/s]\n",
      "validation epoch 27: 100%|████████████████████████████████████████████████████████████| 57/57 [00:00<00:00, 448.90it/s]\n"
     ]
    },
    {
     "name": "stdout",
     "output_type": "stream",
     "text": [
      "epoch: 27, loss: 0.00010, train: 0.99976, valid: 0.86178\n"
     ]
    },
    {
     "name": "stderr",
     "output_type": "stream",
     "text": [
      "training epoch 28: 100%|████████████████████████████████████████████████████████████| 133/133 [00:00<00:00, 194.15it/s]\n",
      "validation epoch 28: 100%|████████████████████████████████████████████████████████████| 57/57 [00:00<00:00, 522.36it/s]\n"
     ]
    },
    {
     "name": "stdout",
     "output_type": "stream",
     "text": [
      "epoch: 28, loss: 0.00060, train: 0.99976, valid: 0.86233\n"
     ]
    },
    {
     "name": "stderr",
     "output_type": "stream",
     "text": [
      "training epoch 29: 100%|████████████████████████████████████████████████████████████| 133/133 [00:00<00:00, 194.86it/s]\n",
      "validation epoch 29: 100%|████████████████████████████████████████████████████████████| 57/57 [00:00<00:00, 544.64it/s]\n"
     ]
    },
    {
     "name": "stdout",
     "output_type": "stream",
     "text": [
      "epoch: 29, loss: 0.00045, train: 0.99976, valid: 0.86206\n"
     ]
    },
    {
     "name": "stderr",
     "output_type": "stream",
     "text": [
      "training epoch 30: 100%|████████████████████████████████████████████████████████████| 133/133 [00:00<00:00, 195.72it/s]\n",
      "validation epoch 30: 100%|████████████████████████████████████████████████████████████| 57/57 [00:00<00:00, 539.52it/s]\n"
     ]
    },
    {
     "name": "stdout",
     "output_type": "stream",
     "text": [
      "epoch: 30, loss: 0.00002, train: 0.99976, valid: 0.85986\n"
     ]
    },
    {
     "name": "stderr",
     "output_type": "stream",
     "text": [
      "training epoch 31: 100%|████████████████████████████████████████████████████████████| 133/133 [00:00<00:00, 202.98it/s]\n",
      "validation epoch 31: 100%|████████████████████████████████████████████████████████████| 57/57 [00:00<00:00, 463.38it/s]\n"
     ]
    },
    {
     "name": "stdout",
     "output_type": "stream",
     "text": [
      "epoch: 31, loss: 0.00007, train: 0.99976, valid: 0.86233\n"
     ]
    },
    {
     "name": "stderr",
     "output_type": "stream",
     "text": [
      "training epoch 32: 100%|████████████████████████████████████████████████████████████| 133/133 [00:00<00:00, 189.69it/s]\n",
      "validation epoch 32: 100%|████████████████████████████████████████████████████████████| 57/57 [00:00<00:00, 557.86it/s]\n"
     ]
    },
    {
     "name": "stdout",
     "output_type": "stream",
     "text": [
      "epoch: 32, loss: 0.00026, train: 0.99976, valid: 0.86206\n"
     ]
    },
    {
     "name": "stderr",
     "output_type": "stream",
     "text": [
      "training epoch 33: 100%|████████████████████████████████████████████████████████████| 133/133 [00:00<00:00, 199.35it/s]\n",
      "validation epoch 33: 100%|████████████████████████████████████████████████████████████| 57/57 [00:00<00:00, 560.59it/s]\n"
     ]
    },
    {
     "name": "stdout",
     "output_type": "stream",
     "text": [
      "epoch: 33, loss: 0.00005, train: 0.99976, valid: 0.86261\n"
     ]
    },
    {
     "name": "stderr",
     "output_type": "stream",
     "text": [
      "training epoch 34: 100%|████████████████████████████████████████████████████████████| 133/133 [00:00<00:00, 199.65it/s]\n",
      "validation epoch 34: 100%|████████████████████████████████████████████████████████████| 57/57 [00:00<00:00, 574.39it/s]\n"
     ]
    },
    {
     "name": "stdout",
     "output_type": "stream",
     "text": [
      "epoch: 34, loss: 0.00026, train: 0.99976, valid: 0.86344\n"
     ]
    },
    {
     "name": "stderr",
     "output_type": "stream",
     "text": [
      "training epoch 35: 100%|████████████████████████████████████████████████████████████| 133/133 [00:00<00:00, 198.82it/s]\n",
      "validation epoch 35: 100%|████████████████████████████████████████████████████████████| 57/57 [00:00<00:00, 519.86it/s]\n"
     ]
    },
    {
     "name": "stdout",
     "output_type": "stream",
     "text": [
      "epoch: 35, loss: 0.00047, train: 0.99976, valid: 0.86344\n"
     ]
    },
    {
     "name": "stderr",
     "output_type": "stream",
     "text": [
      "training epoch 36: 100%|████████████████████████████████████████████████████████████| 133/133 [00:00<00:00, 204.53it/s]\n",
      "validation epoch 36: 100%|████████████████████████████████████████████████████████████| 57/57 [00:00<00:00, 531.90it/s]\n"
     ]
    },
    {
     "name": "stdout",
     "output_type": "stream",
     "text": [
      "epoch: 36, loss: 0.00052, train: 0.99976, valid: 0.86344\n"
     ]
    },
    {
     "name": "stderr",
     "output_type": "stream",
     "text": [
      "training epoch 37: 100%|████████████████████████████████████████████████████████████| 133/133 [00:00<00:00, 201.91it/s]\n",
      "validation epoch 37: 100%|████████████████████████████████████████████████████████████| 57/57 [00:00<00:00, 478.69it/s]\n"
     ]
    },
    {
     "name": "stdout",
     "output_type": "stream",
     "text": [
      "epoch: 37, loss: 0.00007, train: 0.99976, valid: 0.86481\n",
      "Valid metrics improved (0.864813 --> 0.864813).  Saving model ...\n",
      "=========================================\n"
     ]
    },
    {
     "name": "stderr",
     "output_type": "stream",
     "text": [
      "training epoch 38: 100%|████████████████████████████████████████████████████████████| 133/133 [00:00<00:00, 196.29it/s]\n",
      "validation epoch 38: 100%|████████████████████████████████████████████████████████████| 57/57 [00:00<00:00, 508.49it/s]\n"
     ]
    },
    {
     "name": "stdout",
     "output_type": "stream",
     "text": [
      "epoch: 38, loss: 0.00023, train: 0.99976, valid: 0.86344\n"
     ]
    },
    {
     "name": "stderr",
     "output_type": "stream",
     "text": [
      "training epoch 39: 100%|████████████████████████████████████████████████████████████| 133/133 [00:00<00:00, 197.75it/s]\n",
      "validation epoch 39: 100%|████████████████████████████████████████████████████████████| 57/57 [00:00<00:00, 490.26it/s]\n"
     ]
    },
    {
     "name": "stdout",
     "output_type": "stream",
     "text": [
      "epoch: 39, loss: 0.00045, train: 0.99976, valid: 0.86261\n"
     ]
    },
    {
     "name": "stderr",
     "output_type": "stream",
     "text": [
      "training epoch 40: 100%|████████████████████████████████████████████████████████████| 133/133 [00:00<00:00, 200.85it/s]\n",
      "validation epoch 40: 100%|████████████████████████████████████████████████████████████| 57/57 [00:00<00:00, 534.33it/s]\n"
     ]
    },
    {
     "name": "stdout",
     "output_type": "stream",
     "text": [
      "epoch: 40, loss: 0.00038, train: 0.99976, valid: 0.86316\n"
     ]
    },
    {
     "name": "stderr",
     "output_type": "stream",
     "text": [
      "training epoch 41: 100%|████████████████████████████████████████████████████████████| 133/133 [00:00<00:00, 199.81it/s]\n",
      "validation epoch 41: 100%|████████████████████████████████████████████████████████████| 57/57 [00:00<00:00, 527.16it/s]\n"
     ]
    },
    {
     "name": "stdout",
     "output_type": "stream",
     "text": [
      "epoch: 41, loss: 0.00005, train: 0.99976, valid: 0.86316\n"
     ]
    },
    {
     "name": "stderr",
     "output_type": "stream",
     "text": [
      "training epoch 42: 100%|████████████████████████████████████████████████████████████| 133/133 [00:00<00:00, 195.57it/s]\n",
      "validation epoch 42: 100%|████████████████████████████████████████████████████████████| 57/57 [00:00<00:00, 529.59it/s]\n"
     ]
    },
    {
     "name": "stdout",
     "output_type": "stream",
     "text": [
      "epoch: 42, loss: 0.00077, train: 0.99976, valid: 0.86261\n"
     ]
    },
    {
     "name": "stderr",
     "output_type": "stream",
     "text": [
      "training epoch 43: 100%|████████████████████████████████████████████████████████████| 133/133 [00:00<00:00, 197.15it/s]\n",
      "validation epoch 43: 100%|████████████████████████████████████████████████████████████| 57/57 [00:00<00:00, 560.58it/s]\n"
     ]
    },
    {
     "name": "stdout",
     "output_type": "stream",
     "text": [
      "epoch: 43, loss: 0.00008, train: 0.99976, valid: 0.86233\n"
     ]
    },
    {
     "name": "stderr",
     "output_type": "stream",
     "text": [
      "training epoch 44: 100%|████████████████████████████████████████████████████████████| 133/133 [00:00<00:00, 205.03it/s]\n",
      "validation epoch 44: 100%|████████████████████████████████████████████████████████████| 57/57 [00:00<00:00, 571.53it/s]\n"
     ]
    },
    {
     "name": "stdout",
     "output_type": "stream",
     "text": [
      "epoch: 44, loss: 0.00027, train: 0.99976, valid: 0.86206\n"
     ]
    },
    {
     "name": "stderr",
     "output_type": "stream",
     "text": [
      "training epoch 45: 100%|████████████████████████████████████████████████████████████| 133/133 [00:00<00:00, 202.22it/s]\n",
      "validation epoch 45: 100%|████████████████████████████████████████████████████████████| 57/57 [00:00<00:00, 560.38it/s]\n"
     ]
    },
    {
     "name": "stdout",
     "output_type": "stream",
     "text": [
      "epoch: 45, loss: 0.00007, train: 0.99976, valid: 0.86289\n"
     ]
    },
    {
     "name": "stderr",
     "output_type": "stream",
     "text": [
      "training epoch 46: 100%|████████████████████████████████████████████████████████████| 133/133 [00:00<00:00, 199.61it/s]\n",
      "validation epoch 46: 100%|████████████████████████████████████████████████████████████| 57/57 [00:00<00:00, 547.23it/s]\n"
     ]
    },
    {
     "name": "stdout",
     "output_type": "stream",
     "text": [
      "epoch: 46, loss: 0.00024, train: 0.99976, valid: 0.86371\n"
     ]
    },
    {
     "name": "stderr",
     "output_type": "stream",
     "text": [
      "training epoch 47: 100%|████████████████████████████████████████████████████████████| 133/133 [00:00<00:00, 203.62it/s]\n",
      "validation epoch 47: 100%|████████████████████████████████████████████████████████████| 57/57 [00:00<00:00, 549.85it/s]\n"
     ]
    },
    {
     "name": "stdout",
     "output_type": "stream",
     "text": [
      "epoch: 47, loss: 0.00034, train: 0.99976, valid: 0.86344\n"
     ]
    },
    {
     "name": "stderr",
     "output_type": "stream",
     "text": [
      "training epoch 48: 100%|████████████████████████████████████████████████████████████| 133/133 [00:00<00:00, 188.84it/s]\n",
      "validation epoch 48: 100%|████████████████████████████████████████████████████████████| 57/57 [00:00<00:00, 536.82it/s]\n"
     ]
    },
    {
     "name": "stdout",
     "output_type": "stream",
     "text": [
      "epoch: 48, loss: 0.00022, train: 0.99976, valid: 0.86178\n"
     ]
    },
    {
     "name": "stderr",
     "output_type": "stream",
     "text": [
      "training epoch 49: 100%|████████████████████████████████████████████████████████████| 133/133 [00:00<00:00, 190.68it/s]\n",
      "validation epoch 49: 100%|████████████████████████████████████████████████████████████| 57/57 [00:00<00:00, 495.34it/s]\n"
     ]
    },
    {
     "name": "stdout",
     "output_type": "stream",
     "text": [
      "epoch: 49, loss: 0.00032, train: 0.99976, valid: 0.86178\n"
     ]
    },
    {
     "name": "stderr",
     "output_type": "stream",
     "text": [
      "training epoch 50: 100%|████████████████████████████████████████████████████████████| 133/133 [00:00<00:00, 193.52it/s]\n",
      "validation epoch 50: 100%|████████████████████████████████████████████████████████████| 57/57 [00:00<00:00, 532.03it/s]\n"
     ]
    },
    {
     "name": "stdout",
     "output_type": "stream",
     "text": [
      "epoch: 50, loss: 0.00005, train: 0.99976, valid: 0.86344\n"
     ]
    }
   ],
   "source": [
    "# Training\n",
    "EPOCHS = 50\n",
    "valid_accuracy_min = 0.86\n",
    "for epoch in range(EPOCHS):\n",
    "    model.train()\n",
    "    train_predictions = []\n",
    "    for x_batch, y_batch in tqdm.tqdm(loader_training, desc=f\"training epoch {epoch+1}\"):\n",
    "        \n",
    "        x = x_batch.type(torch.LongTensor).to(device)\n",
    "        y = y_batch.type(torch.FloatTensor).to(device)\n",
    "        \n",
    "        y_pred = model(x)\n",
    "        \n",
    "        loss = criterion(y_pred, y)\n",
    "        \n",
    "        optimizer.zero_grad()\n",
    "        loss.backward()\n",
    "        optimizer.step()\n",
    "        \n",
    "        # Save predictions for metrics calculation\n",
    "        train_predictions += list(y_pred.squeeze().cpu().detach().numpy())\n",
    "    \n",
    "    # Evaluation\n",
    "    with torch.no_grad():\n",
    "        model.eval()\n",
    "        valid_predictions = []\n",
    "        for x_batch, y_batch in tqdm.tqdm(loader_valid, desc=f\"validation epoch {epoch+1}\"):\n",
    "            x = x_batch.type(torch.LongTensor).to(device)\n",
    "            y = y_batch.type(torch.FloatTensor).to(device)\n",
    "            \n",
    "            y_pred = model(x)\n",
    "            # Save predictions for metrics calculation\n",
    "            valid_predictions += list(y_pred.squeeze().cpu().detach().numpy())\n",
    "\n",
    "    train_accuracy = calculate_accuracy_with_selected_threshold(y_train, train_predictions)\n",
    "    valid_accuracy = calculate_accuracy_with_selected_threshold(y_valid, valid_predictions)\n",
    "    print(f\"epoch: {epoch+1}, loss: {loss.item():.5f}, train: {train_accuracy:.5f}, valid: {valid_accuracy:.5f}\")\n",
    "    if valid_accuracy >= valid_accuracy_min:\n",
    "        print('Valid metrics improved ({:.6f} --> {:.6f}).  Saving model ...'.format(valid_accuracy_min,valid_accuracy))\n",
    "        # change the name, for saving multiple files\n",
    "        torch.save(model.state_dict(), 'text_clf.pt')\n",
    "        valid_accuracy_min = valid_accuracy\n",
    "        print(\"=========================================\")"
   ]
  },
  {
   "cell_type": "code",
   "execution_count": 52,
   "id": "e3a0a08d",
   "metadata": {
    "execution": {
     "iopub.execute_input": "2022-03-05T23:37:07.196308Z",
     "iopub.status.busy": "2022-03-05T23:37:07.195495Z",
     "iopub.status.idle": "2022-03-05T23:37:16.643896Z",
     "shell.execute_reply": "2022-03-05T23:37:16.644314Z",
     "shell.execute_reply.started": "2022-03-05T23:21:09.145194Z"
    },
    "papermill": {
     "duration": 9.465388,
     "end_time": "2022-03-05T23:37:16.644460",
     "exception": false,
     "start_time": "2022-03-05T23:37:07.179072",
     "status": "completed"
    },
    "tags": []
   },
   "outputs": [
    {
     "data": {
      "text/plain": [
       "<All keys matched successfully>"
      ]
     },
     "execution_count": 52,
     "metadata": {},
     "output_type": "execute_result"
    }
   ],
   "source": [
    "model.load_state_dict(torch.load('text_clf.pt'))"
   ]
  },
  {
   "cell_type": "code",
   "execution_count": 53,
   "id": "4499749f",
   "metadata": {},
   "outputs": [
    {
     "name": "stdout",
     "output_type": "stream",
     "text": [
      "valid: 0.86289\n"
     ]
    }
   ],
   "source": [
    "with torch.no_grad():\n",
    "    model.eval()\n",
    "    valid_predictions = []\n",
    "    for x_batch, y_batch in loader_valid:\n",
    "        x = x_batch.type(torch.LongTensor).to(device)\n",
    "        y = y_batch.type(torch.FloatTensor).to(device)\n",
    "\n",
    "        y_pred = model(x)\n",
    "        # Save predictions for metrics calculation\n",
    "        valid_predictions += list(y_pred.squeeze().cpu().detach().numpy())\n",
    "        \n",
    "    valid_accuracy = calculate_accuracy_with_selected_threshold(y_valid, valid_predictions)\n",
    "    print(f\"valid: {valid_accuracy:.5f}\")"
   ]
  },
  {
   "cell_type": "code",
   "execution_count": 54,
   "id": "7c7a7574",
   "metadata": {},
   "outputs": [
    {
     "name": "stdout",
     "output_type": "stream",
     "text": [
      "valid: 0.86289\n"
     ]
    }
   ],
   "source": [
    "with torch.no_grad():\n",
    "    model.eval()\n",
    "    valid_predictions = []\n",
    "    for x_batch, y_batch in loader_valid:\n",
    "        x = x_batch.type(torch.LongTensor).to(device)\n",
    "        y = y_batch.type(torch.FloatTensor).to(device)\n",
    "\n",
    "        y_pred = model(x)\n",
    "        # Save predictions for metrics calculation\n",
    "        valid_predictions += list(y_pred.squeeze().cpu().detach().numpy())\n",
    "        \n",
    "    valid_accuracy = calculate_accuray_with_point_five(y_valid, valid_predictions)\n",
    "    print(f\"valid: {valid_accuracy:.5f}\")"
   ]
  },
  {
   "cell_type": "code",
   "execution_count": 55,
   "id": "29d0d26e",
   "metadata": {},
   "outputs": [
    {
     "data": {
      "text/plain": [
       "<AxesSubplot:xlabel='fpr'>"
      ]
     },
     "execution_count": 55,
     "metadata": {},
     "output_type": "execute_result"
    },
    {
     "data": {
      "image/png": "[encoded data removed]",
      "text/plain": [
       "<Figure size 600x400 with 1 Axes>"
      ]
     },
     "metadata": {},
     "output_type": "display_data"
    }
   ],
   "source": [
    "fpr, tpr, thr = roc_curve(y_valid, valid_predictions)\n",
    "roc = pd.DataFrame({'fpr':fpr, 'tpr':tpr, 'thr':thr});\n",
    "roc['random'] = roc['fpr'].copy()\n",
    "roc['diff'] = roc['tpr'] - roc['fpr']\n",
    "roc.plot(x='fpr', y=['tpr','random'], figsize=(6,4), grid=True)"
   ]
  },
  {
   "cell_type": "code",
   "execution_count": 56,
   "id": "96985fdd",
   "metadata": {},
   "outputs": [],
   "source": [
    "roc = roc.sort_values('diff', ascending=False).reset_index().drop('index', axis=1)"
   ]
  },
  {
   "cell_type": "code",
   "execution_count": 57,
   "id": "e451bcd6",
   "metadata": {},
   "outputs": [
    {
     "data": {
      "text/plain": [
       "fpr       0.122295\n",
       "tpr       0.846201\n",
       "thr       0.387153\n",
       "random    0.122295\n",
       "diff      0.723906\n",
       "Name: 0, dtype: float64"
      ]
     },
     "execution_count": 57,
     "metadata": {},
     "output_type": "execute_result"
    }
   ],
   "source": [
    "roc.loc[0]"
   ]
  },
  {
   "cell_type": "code",
   "execution_count": 58,
   "id": "c2512aa0",
   "metadata": {},
   "outputs": [
    {
     "data": {
      "text/html": [
       "<div>\n",
       "<style scoped>\n",
       "    .dataframe tbody tr th:only-of-type {\n",
       "        vertical-align: middle;\n",
       "    }\n",
       "\n",
       "    .dataframe tbody tr th {\n",
       "        vertical-align: top;\n",
       "    }\n",
       "\n",
       "    .dataframe thead th {\n",
       "        text-align: right;\n",
       "    }\n",
       "</style>\n",
       "<table border=\"1\" class=\"dataframe\">\n",
       "  <thead>\n",
       "    <tr style=\"text-align: right;\">\n",
       "      <th></th>\n",
       "      <th>fpr</th>\n",
       "      <th>tpr</th>\n",
       "      <th>thr</th>\n",
       "      <th>random</th>\n",
       "      <th>diff</th>\n",
       "    </tr>\n",
       "  </thead>\n",
       "  <tbody>\n",
       "    <tr>\n",
       "      <th>7</th>\n",
       "      <td>0.120282</td>\n",
       "      <td>0.843161</td>\n",
       "      <td>0.499659</td>\n",
       "      <td>0.120282</td>\n",
       "      <td>0.722879</td>\n",
       "    </tr>\n",
       "    <tr>\n",
       "      <th>8</th>\n",
       "      <td>0.119779</td>\n",
       "      <td>0.842553</td>\n",
       "      <td>0.542046</td>\n",
       "      <td>0.119779</td>\n",
       "      <td>0.722775</td>\n",
       "    </tr>\n",
       "    <tr>\n",
       "      <th>10</th>\n",
       "      <td>0.120282</td>\n",
       "      <td>0.842553</td>\n",
       "      <td>0.506882</td>\n",
       "      <td>0.120282</td>\n",
       "      <td>0.722271</td>\n",
       "    </tr>\n",
       "    <tr>\n",
       "      <th>13</th>\n",
       "      <td>0.121288</td>\n",
       "      <td>0.843161</td>\n",
       "      <td>0.463053</td>\n",
       "      <td>0.121288</td>\n",
       "      <td>0.721873</td>\n",
       "    </tr>\n",
       "  </tbody>\n",
       "</table>\n",
       "</div>"
      ],
      "text/plain": [
       "         fpr       tpr       thr    random      diff\n",
       "7   0.120282  0.843161  0.499659  0.120282  0.722879\n",
       "8   0.119779  0.842553  0.542046  0.119779  0.722775\n",
       "10  0.120282  0.842553  0.506882  0.120282  0.722271\n",
       "13  0.121288  0.843161  0.463053  0.121288  0.721873"
      ]
     },
     "execution_count": 58,
     "metadata": {},
     "output_type": "execute_result"
    }
   ],
   "source": [
    "roc.query('thr < 0.55 & thr > 0.45 ')"
   ]
  },
  {
   "cell_type": "code",
   "execution_count": 59,
   "id": "e360aba3",
   "metadata": {},
   "outputs": [
    {
     "data": {
      "text/plain": [
       "0.3871532"
      ]
     },
     "execution_count": 59,
     "metadata": {},
     "output_type": "execute_result"
    }
   ],
   "source": [
    "roc.loc[0,'thr']"
   ]
  },
  {
   "cell_type": "code",
   "execution_count": null,
   "id": "6cf28543",
   "metadata": {},
   "outputs": [],
   "source": []
  }
 ],
 "metadata": {
  "kernelspec": {
   "display_name": "Python 3 (ipykernel)",
   "language": "python",
   "name": "python3"
  },
  "language_info": {
   "codemirror_mode": {
    "name": "ipython",
    "version": 3
   },
   "file_extension": ".py",
   "mimetype": "text/x-python",
   "name": "python",
   "nbconvert_exporter": "python",
   "pygments_lexer": "ipython3",
   "version": "3.9.13"
  },
  "papermill": {
   "default_parameters": {},
   "duration": 39.330232,
   "end_time": "2022-03-05T23:37:18.820869",
   "environment_variables": {},
   "exception": null,
   "input_path": "__notebook__.ipynb",
   "output_path": "__notebook__.ipynb",
   "parameters": {},
   "start_time": "2022-03-05T23:36:39.490637",
   "version": "2.3.3"
  }
 },
 "nbformat": 4,
 "nbformat_minor": 5
}
