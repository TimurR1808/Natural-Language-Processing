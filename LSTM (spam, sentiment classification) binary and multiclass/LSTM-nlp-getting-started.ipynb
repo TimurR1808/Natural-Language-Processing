{
 "cells": [
  {
   "cell_type": "code",
   "execution_count": 1,
   "id": "5d106116",
   "metadata": {
    "execution": {
     "iopub.execute_input": "2022-03-05T23:36:47.615492Z",
     "iopub.status.busy": "2022-03-05T23:36:47.614922Z",
     "iopub.status.idle": "2022-03-05T23:36:50.403735Z",
     "shell.execute_reply": "2022-03-05T23:36:50.402946Z",
     "shell.execute_reply.started": "2022-03-05T22:25:22.852671Z"
    },
    "papermill": {
     "duration": 2.811379,
     "end_time": "2022-03-05T23:36:50.403883",
     "exception": false,
     "start_time": "2022-03-05T23:36:47.592504",
     "status": "completed"
    },
    "tags": []
   },
   "outputs": [],
   "source": [
    "import torch\n",
    "import torch.nn as nn\n",
    "import torch.optim as optim\n",
    "import torch.nn.functional as F\n",
    "import itertools\n",
    "from torch.utils.data import Dataset\n",
    "from torch.utils.data import DataLoader\n",
    "from sklearn.metrics import roc_curve \n",
    "import numpy as np\n",
    "import pandas as pd\n",
    "\n",
    "import string\n",
    "from nltk.corpus import stopwords\n",
    "\n",
    "from sklearn.model_selection import train_test_split\n",
    "import tqdm"
   ]
  },
  {
   "cell_type": "markdown",
   "id": "1616f526",
   "metadata": {
    "papermill": {
     "duration": 0.014443,
     "end_time": "2022-03-05T23:36:50.432398",
     "exception": false,
     "start_time": "2022-03-05T23:36:50.417955",
     "status": "completed"
    },
    "tags": []
   },
   "source": [
    "# 1. Preprocessing"
   ]
  },
  {
   "cell_type": "code",
   "execution_count": 2,
   "id": "67fa3ea0",
   "metadata": {
    "execution": {
     "iopub.execute_input": "2022-03-05T23:36:50.467952Z",
     "iopub.status.busy": "2022-03-05T23:36:50.467242Z",
     "iopub.status.idle": "2022-03-05T23:36:50.470727Z",
     "shell.execute_reply": "2022-03-05T23:36:50.470301Z",
     "shell.execute_reply.started": "2022-03-05T22:47:33.107881Z"
    },
    "papermill": {
     "duration": 0.024814,
     "end_time": "2022-03-05T23:36:50.470836",
     "exception": false,
     "start_time": "2022-03-05T23:36:50.446022",
     "status": "completed"
    },
    "tags": []
   },
   "outputs": [],
   "source": [
    "# We define utility functions for text processing.\n",
    "\n",
    "def removePunctuation(text):\n",
    "    \"\"\"\n",
    "    Remove punctuation symbols and convert text to lowercase\n",
    "    \"\"\"\n",
    "    return text.lower().translate(str.maketrans('', '', string.punctuation))\n",
    "\n",
    "def removeStopWords(text):\n",
    "    \"\"\"\n",
    "    Filter words that are not found in stop words\n",
    "    \"\"\"\n",
    "    return \" \".join([word for word in text.split() if word not in stopwords.words(\"english\")])\n",
    "\n",
    "def buildDictionary(texts):\n",
    "    \"\"\"\n",
    "    Build the dictionary of words where key is the word and value is the index.\n",
    "    \"\"\"\n",
    "    hashmap = {}\n",
    "    for text in texts:\n",
    "        for word in text.split():\n",
    "            hashmap[word] = hashmap.get(word, 0) + 1\n",
    "    return {w:i+1 for i, w in enumerate(list(hashmap.keys()))}\n",
    "\n",
    "def calculateMaxSeqLen(texts):\n",
    "    \"\"\"\n",
    "    Calculates the maximum sequence length found in the corpus\n",
    "    \"\"\"\n",
    "    max_len = float('-inf')\n",
    "    for text in texts:\n",
    "        if len(text.split()) > max_len:\n",
    "            max_len = len(text.split())\n",
    "            \n",
    "    return max_len"
   ]
  },
  {
   "cell_type": "code",
   "execution_count": 3,
   "id": "ac89e8d0",
   "metadata": {
    "execution": {
     "iopub.execute_input": "2022-03-05T23:36:50.502816Z",
     "iopub.status.busy": "2022-03-05T23:36:50.502157Z",
     "iopub.status.idle": "2022-03-05T23:37:03.086236Z",
     "shell.execute_reply": "2022-03-05T23:37:03.085419Z"
    },
    "papermill": {
     "duration": 12.602015,
     "end_time": "2022-03-05T23:37:03.086375",
     "exception": false,
     "start_time": "2022-03-05T23:36:50.484360",
     "status": "completed"
    },
    "tags": []
   },
   "outputs": [],
   "source": [
    "# Load the *.csv* file and filter the features that are useful for the problem:\n",
    "data = pd.read_csv(\"C:/datasets/nlp-getting-started/train.csv\")"
   ]
  },
  {
   "cell_type": "code",
   "execution_count": 4,
   "id": "31f239fc",
   "metadata": {
    "execution": {
     "iopub.execute_input": "2022-03-05T23:36:50.502816Z",
     "iopub.status.busy": "2022-03-05T23:36:50.502157Z",
     "iopub.status.idle": "2022-03-05T23:37:03.086236Z",
     "shell.execute_reply": "2022-03-05T23:37:03.085419Z"
    },
    "papermill": {
     "duration": 12.602015,
     "end_time": "2022-03-05T23:37:03.086375",
     "exception": false,
     "start_time": "2022-03-05T23:36:50.484360",
     "status": "completed"
    },
    "tags": []
   },
   "outputs": [],
   "source": [
    "data = data[[\"text\",\"target\"]]"
   ]
  },
  {
   "cell_type": "code",
   "execution_count": 5,
   "id": "fd51678b",
   "metadata": {
    "execution": {
     "iopub.execute_input": "2022-03-05T23:36:50.502816Z",
     "iopub.status.busy": "2022-03-05T23:36:50.502157Z",
     "iopub.status.idle": "2022-03-05T23:37:03.086236Z",
     "shell.execute_reply": "2022-03-05T23:37:03.085419Z"
    },
    "papermill": {
     "duration": 12.602015,
     "end_time": "2022-03-05T23:37:03.086375",
     "exception": false,
     "start_time": "2022-03-05T23:36:50.484360",
     "status": "completed"
    },
    "tags": []
   },
   "outputs": [
    {
     "data": {
      "text/html": [
       "<div>\n",
       "<style scoped>\n",
       "    .dataframe tbody tr th:only-of-type {\n",
       "        vertical-align: middle;\n",
       "    }\n",
       "\n",
       "    .dataframe tbody tr th {\n",
       "        vertical-align: top;\n",
       "    }\n",
       "\n",
       "    .dataframe thead th {\n",
       "        text-align: right;\n",
       "    }\n",
       "</style>\n",
       "<table border=\"1\" class=\"dataframe\">\n",
       "  <thead>\n",
       "    <tr style=\"text-align: right;\">\n",
       "      <th></th>\n",
       "      <th>text</th>\n",
       "      <th>target</th>\n",
       "    </tr>\n",
       "  </thead>\n",
       "  <tbody>\n",
       "    <tr>\n",
       "      <th>0</th>\n",
       "      <td>Our Deeds are the Reason of this #earthquake M...</td>\n",
       "      <td>1</td>\n",
       "    </tr>\n",
       "    <tr>\n",
       "      <th>1</th>\n",
       "      <td>Forest fire near La Ronge Sask. Canada</td>\n",
       "      <td>1</td>\n",
       "    </tr>\n",
       "    <tr>\n",
       "      <th>2</th>\n",
       "      <td>All residents asked to 'shelter in place' are ...</td>\n",
       "      <td>1</td>\n",
       "    </tr>\n",
       "    <tr>\n",
       "      <th>3</th>\n",
       "      <td>13,000 people receive #wildfires evacuation or...</td>\n",
       "      <td>1</td>\n",
       "    </tr>\n",
       "    <tr>\n",
       "      <th>4</th>\n",
       "      <td>Just got sent this photo from Ruby #Alaska as ...</td>\n",
       "      <td>1</td>\n",
       "    </tr>\n",
       "    <tr>\n",
       "      <th>...</th>\n",
       "      <td>...</td>\n",
       "      <td>...</td>\n",
       "    </tr>\n",
       "    <tr>\n",
       "      <th>7608</th>\n",
       "      <td>Two giant cranes holding a bridge collapse int...</td>\n",
       "      <td>1</td>\n",
       "    </tr>\n",
       "    <tr>\n",
       "      <th>7609</th>\n",
       "      <td>@aria_ahrary @TheTawniest The out of control w...</td>\n",
       "      <td>1</td>\n",
       "    </tr>\n",
       "    <tr>\n",
       "      <th>7610</th>\n",
       "      <td>M1.94 [01:04 UTC]?5km S of Volcano Hawaii. htt...</td>\n",
       "      <td>1</td>\n",
       "    </tr>\n",
       "    <tr>\n",
       "      <th>7611</th>\n",
       "      <td>Police investigating after an e-bike collided ...</td>\n",
       "      <td>1</td>\n",
       "    </tr>\n",
       "    <tr>\n",
       "      <th>7612</th>\n",
       "      <td>The Latest: More Homes Razed by Northern Calif...</td>\n",
       "      <td>1</td>\n",
       "    </tr>\n",
       "  </tbody>\n",
       "</table>\n",
       "<p>7613 rows × 2 columns</p>\n",
       "</div>"
      ],
      "text/plain": [
       "                                                   text  target\n",
       "0     Our Deeds are the Reason of this #earthquake M...       1\n",
       "1                Forest fire near La Ronge Sask. Canada       1\n",
       "2     All residents asked to 'shelter in place' are ...       1\n",
       "3     13,000 people receive #wildfires evacuation or...       1\n",
       "4     Just got sent this photo from Ruby #Alaska as ...       1\n",
       "...                                                 ...     ...\n",
       "7608  Two giant cranes holding a bridge collapse int...       1\n",
       "7609  @aria_ahrary @TheTawniest The out of control w...       1\n",
       "7610  M1.94 [01:04 UTC]?5km S of Volcano Hawaii. htt...       1\n",
       "7611  Police investigating after an e-bike collided ...       1\n",
       "7612  The Latest: More Homes Razed by Northern Calif...       1\n",
       "\n",
       "[7613 rows x 2 columns]"
      ]
     },
     "execution_count": 5,
     "metadata": {},
     "output_type": "execute_result"
    }
   ],
   "source": [
    "data"
   ]
  },
  {
   "cell_type": "code",
   "execution_count": 6,
   "id": "279fb3ef",
   "metadata": {
    "execution": {
     "iopub.execute_input": "2022-03-05T23:36:50.502816Z",
     "iopub.status.busy": "2022-03-05T23:36:50.502157Z",
     "iopub.status.idle": "2022-03-05T23:37:03.086236Z",
     "shell.execute_reply": "2022-03-05T23:37:03.085419Z"
    },
    "papermill": {
     "duration": 12.602015,
     "end_time": "2022-03-05T23:37:03.086375",
     "exception": false,
     "start_time": "2022-03-05T23:36:50.484360",
     "status": "completed"
    },
    "tags": []
   },
   "outputs": [
    {
     "data": {
      "text/plain": [
       "0    4342\n",
       "1    3271\n",
       "Name: target, dtype: int64"
      ]
     },
     "execution_count": 6,
     "metadata": {},
     "output_type": "execute_result"
    }
   ],
   "source": [
    "data[\"target\"].value_counts()"
   ]
  },
  {
   "cell_type": "code",
   "execution_count": null,
   "id": "352fef7e",
   "metadata": {
    "execution": {
     "iopub.execute_input": "2022-03-05T23:36:50.502816Z",
     "iopub.status.busy": "2022-03-05T23:36:50.502157Z",
     "iopub.status.idle": "2022-03-05T23:37:03.086236Z",
     "shell.execute_reply": "2022-03-05T23:37:03.085419Z"
    },
    "papermill": {
     "duration": 12.602015,
     "end_time": "2022-03-05T23:37:03.086375",
     "exception": false,
     "start_time": "2022-03-05T23:36:50.484360",
     "status": "completed"
    },
    "tags": []
   },
   "outputs": [],
   "source": [
    "# Text preprocessing. Remove punctuation symbols and stop words:\n",
    "data[\"text\"] = data[\"text\"].apply(lambda x: removePunctuation(x))\n",
    "data[\"text\"] = data[\"text\"].apply(lambda x: removeStopWords(x))"
   ]
  },
  {
   "cell_type": "code",
   "execution_count": null,
   "id": "17881799",
   "metadata": {
    "execution": {
     "iopub.execute_input": "2022-03-05T23:37:03.137389Z",
     "iopub.status.busy": "2022-03-05T23:37:03.127393Z",
     "iopub.status.idle": "2022-03-05T23:37:03.161258Z",
     "shell.execute_reply": "2022-03-05T23:37:03.160556Z",
     "shell.execute_reply.started": "2022-03-05T22:47:35.755764Z"
    },
    "papermill": {
     "duration": 0.060689,
     "end_time": "2022-03-05T23:37:03.161411",
     "exception": false,
     "start_time": "2022-03-05T23:37:03.100722",
     "status": "completed"
    },
    "tags": []
   },
   "outputs": [],
   "source": [
    "dictionary = buildDictionary(data[\"text\"])\n",
    "max_seq_len = calculateMaxSeqLen(data[\"text\"])\n",
    "\n",
    "print(f\"Number of words in dictionary: {len(dictionary)}\")\n",
    "print(f\"Maximum sequence lenght: {max_seq_len}\")"
   ]
  },
  {
   "cell_type": "code",
   "execution_count": null,
   "id": "1ccd9997",
   "metadata": {
    "execution": {
     "iopub.execute_input": "2022-03-05T23:37:03.193272Z",
     "iopub.status.busy": "2022-03-05T23:37:03.192490Z",
     "iopub.status.idle": "2022-03-05T23:37:03.203080Z",
     "shell.execute_reply": "2022-03-05T23:37:03.202656Z",
     "shell.execute_reply.started": "2022-03-05T23:07:00.606833Z"
    },
    "papermill": {
     "duration": 0.026668,
     "end_time": "2022-03-05T23:37:03.203185",
     "exception": false,
     "start_time": "2022-03-05T23:37:03.176517",
     "status": "completed"
    },
    "tags": []
   },
   "outputs": [],
   "source": [
    "data[\"target\"].value_counts() / len(data)"
   ]
  },
  {
   "cell_type": "code",
   "execution_count": null,
   "id": "e82b0890",
   "metadata": {
    "execution": {
     "iopub.execute_input": "2022-03-05T23:37:03.193272Z",
     "iopub.status.busy": "2022-03-05T23:37:03.192490Z",
     "iopub.status.idle": "2022-03-05T23:37:03.203080Z",
     "shell.execute_reply": "2022-03-05T23:37:03.202656Z",
     "shell.execute_reply.started": "2022-03-05T23:07:00.606833Z"
    },
    "papermill": {
     "duration": 0.026668,
     "end_time": "2022-03-05T23:37:03.203185",
     "exception": false,
     "start_time": "2022-03-05T23:37:03.176517",
     "status": "completed"
    },
    "tags": []
   },
   "outputs": [],
   "source": [
    "data"
   ]
  },
  {
   "cell_type": "code",
   "execution_count": null,
   "id": "07dcc1b5",
   "metadata": {
    "execution": {
     "iopub.execute_input": "2022-03-05T23:37:03.193272Z",
     "iopub.status.busy": "2022-03-05T23:37:03.192490Z",
     "iopub.status.idle": "2022-03-05T23:37:03.203080Z",
     "shell.execute_reply": "2022-03-05T23:37:03.202656Z",
     "shell.execute_reply.started": "2022-03-05T23:07:00.606833Z"
    },
    "papermill": {
     "duration": 0.026668,
     "end_time": "2022-03-05T23:37:03.203185",
     "exception": false,
     "start_time": "2022-03-05T23:37:03.176517",
     "status": "completed"
    },
    "tags": []
   },
   "outputs": [],
   "source": [
    "# Split data into training and testing\n",
    "x_train, x_valid, y_train, y_valid = train_test_split(data[\"text\"], data[\"target\"], test_size=0.3, stratify=data[\"target\"])"
   ]
  },
  {
   "cell_type": "markdown",
   "id": "938ed3fe",
   "metadata": {
    "papermill": {
     "duration": 0.013899,
     "end_time": "2022-03-05T23:37:03.231400",
     "exception": false,
     "start_time": "2022-03-05T23:37:03.217501",
     "status": "completed"
    },
    "tags": []
   },
   "source": [
    "# 2. Data loaders"
   ]
  },
  {
   "cell_type": "code",
   "execution_count": null,
   "id": "74b7a3f5",
   "metadata": {
    "execution": {
     "iopub.execute_input": "2022-03-05T23:37:03.266298Z",
     "iopub.status.busy": "2022-03-05T23:37:03.265540Z",
     "iopub.status.idle": "2022-03-05T23:37:03.267884Z",
     "shell.execute_reply": "2022-03-05T23:37:03.267450Z",
     "shell.execute_reply.started": "2022-03-05T23:22:46.626159Z"
    },
    "papermill": {
     "duration": 0.020388,
     "end_time": "2022-03-05T23:37:03.267992",
     "exception": false,
     "start_time": "2022-03-05T23:37:03.247604",
     "status": "completed"
    },
    "tags": []
   },
   "outputs": [],
   "source": [
    "y_valid.value_counts()"
   ]
  },
  {
   "cell_type": "code",
   "execution_count": null,
   "id": "9223271f",
   "metadata": {
    "execution": {
     "iopub.execute_input": "2022-03-05T23:37:03.266298Z",
     "iopub.status.busy": "2022-03-05T23:37:03.265540Z",
     "iopub.status.idle": "2022-03-05T23:37:03.267884Z",
     "shell.execute_reply": "2022-03-05T23:37:03.267450Z",
     "shell.execute_reply.started": "2022-03-05T23:22:46.626159Z"
    },
    "papermill": {
     "duration": 0.020388,
     "end_time": "2022-03-05T23:37:03.267992",
     "exception": false,
     "start_time": "2022-03-05T23:37:03.247604",
     "status": "completed"
    },
    "tags": []
   },
   "outputs": [],
   "source": [
    "y_train.value_counts()"
   ]
  },
  {
   "cell_type": "code",
   "execution_count": null,
   "id": "a5a1483a",
   "metadata": {
    "execution": {
     "iopub.execute_input": "2022-03-05T23:37:03.266298Z",
     "iopub.status.busy": "2022-03-05T23:37:03.265540Z",
     "iopub.status.idle": "2022-03-05T23:37:03.267884Z",
     "shell.execute_reply": "2022-03-05T23:37:03.267450Z",
     "shell.execute_reply.started": "2022-03-05T23:22:46.626159Z"
    },
    "papermill": {
     "duration": 0.020388,
     "end_time": "2022-03-05T23:37:03.267992",
     "exception": false,
     "start_time": "2022-03-05T23:37:03.247604",
     "status": "completed"
    },
    "tags": []
   },
   "outputs": [],
   "source": [
    "BATCH_SIZE = 64\n",
    "LEARNING_RATE = 0.001\n",
    "DROPOUT = 0.4\n",
    "INPUT_SIZE = len(dictionary) + 1"
   ]
  },
  {
   "cell_type": "code",
   "execution_count": null,
   "id": "e68fde33",
   "metadata": {
    "execution": {
     "iopub.execute_input": "2022-03-05T23:37:03.303669Z",
     "iopub.status.busy": "2022-03-05T23:37:03.303034Z",
     "iopub.status.idle": "2022-03-05T23:37:03.305240Z",
     "shell.execute_reply": "2022-03-05T23:37:03.305601Z",
     "shell.execute_reply.started": "2022-03-05T23:08:21.742035Z"
    },
    "papermill": {
     "duration": 0.023543,
     "end_time": "2022-03-05T23:37:03.305753",
     "exception": false,
     "start_time": "2022-03-05T23:37:03.282210",
     "status": "completed"
    },
    "tags": []
   },
   "outputs": [],
   "source": [
    "class DataHandler(Dataset):\n",
    "    \"\"\"\n",
    "    Iterator generator for data loader construction\n",
    "    \"\"\"\n",
    "    \n",
    "    @staticmethod\n",
    "    def tokenizer(X, max_seq_len, dicitionary):\n",
    "        \"\"\"\n",
    "        Given a sequence of words, tokenize each word with \n",
    "        use of `dictionary` and apply padding considering `max_seq_len`\n",
    "        \"\"\"\n",
    "        sequences = []\n",
    "        for x in X:\n",
    "            sequence = [0] * max_seq_len\n",
    "            for idx, word in enumerate(x.split()):\n",
    "                sequence[idx] = dictionary[word]\n",
    "            sequences.append(sequence)\n",
    "            \n",
    "        return np.array(sequences)\n",
    "    \n",
    "    def __init__(self, x, y, max_seq_len, dictionary):\n",
    "        self.x = self.tokenizer(x, max_seq_len, dictionary)\n",
    "        self.y = y.to_numpy()\n",
    "        \n",
    "    def __len__(self):\n",
    "        return len(self.x)\n",
    "    \n",
    "    def __getitem__(self, idx):\n",
    "        return self.x[idx], self.y[idx]"
   ]
  },
  {
   "cell_type": "code",
   "execution_count": null,
   "id": "f078953b",
   "metadata": {
    "execution": {
     "iopub.execute_input": "2022-03-05T23:37:03.383601Z",
     "iopub.status.busy": "2022-03-05T23:37:03.357714Z",
     "iopub.status.idle": "2022-03-05T23:37:03.398823Z",
     "shell.execute_reply": "2022-03-05T23:37:03.398339Z",
     "shell.execute_reply.started": "2022-03-05T23:08:32.591922Z"
    },
    "papermill": {
     "duration": 0.079154,
     "end_time": "2022-03-05T23:37:03.398945",
     "exception": false,
     "start_time": "2022-03-05T23:37:03.319791",
     "status": "completed"
    },
    "tags": []
   },
   "outputs": [],
   "source": [
    "# Initialize iterator objects for the data loader\n",
    "train = DataHandler(x_train, y_train, max_seq_len, dictionary)\n",
    "valid = DataHandler(x_valid, y_valid, max_seq_len, dictionary)"
   ]
  },
  {
   "cell_type": "code",
   "execution_count": null,
   "id": "92af8103",
   "metadata": {
    "execution": {
     "iopub.execute_input": "2022-03-05T23:37:03.383601Z",
     "iopub.status.busy": "2022-03-05T23:37:03.357714Z",
     "iopub.status.idle": "2022-03-05T23:37:03.398823Z",
     "shell.execute_reply": "2022-03-05T23:37:03.398339Z",
     "shell.execute_reply.started": "2022-03-05T23:08:32.591922Z"
    },
    "papermill": {
     "duration": 0.079154,
     "end_time": "2022-03-05T23:37:03.398945",
     "exception": false,
     "start_time": "2022-03-05T23:37:03.319791",
     "status": "completed"
    },
    "tags": []
   },
   "outputs": [],
   "source": [
    "# Initialize data loaders\n",
    "loader_training = DataLoader(train, batch_size=BATCH_SIZE, shuffle=False)\n",
    "loader_valid = DataLoader(valid, batch_size=BATCH_SIZE, shuffle=False)"
   ]
  },
  {
   "cell_type": "code",
   "execution_count": null,
   "id": "f5dc49c3",
   "metadata": {
    "execution": {
     "iopub.execute_input": "2022-03-05T23:37:03.383601Z",
     "iopub.status.busy": "2022-03-05T23:37:03.357714Z",
     "iopub.status.idle": "2022-03-05T23:37:03.398823Z",
     "shell.execute_reply": "2022-03-05T23:37:03.398339Z",
     "shell.execute_reply.started": "2022-03-05T23:08:32.591922Z"
    },
    "papermill": {
     "duration": 0.079154,
     "end_time": "2022-03-05T23:37:03.398945",
     "exception": false,
     "start_time": "2022-03-05T23:37:03.319791",
     "status": "completed"
    },
    "tags": []
   },
   "outputs": [],
   "source": [
    "txt1 = iter(loader_valid)"
   ]
  },
  {
   "cell_type": "code",
   "execution_count": null,
   "id": "58f24f65",
   "metadata": {
    "execution": {
     "iopub.execute_input": "2022-03-05T23:37:03.383601Z",
     "iopub.status.busy": "2022-03-05T23:37:03.357714Z",
     "iopub.status.idle": "2022-03-05T23:37:03.398823Z",
     "shell.execute_reply": "2022-03-05T23:37:03.398339Z",
     "shell.execute_reply.started": "2022-03-05T23:08:32.591922Z"
    },
    "papermill": {
     "duration": 0.079154,
     "end_time": "2022-03-05T23:37:03.398945",
     "exception": false,
     "start_time": "2022-03-05T23:37:03.319791",
     "status": "completed"
    },
    "tags": []
   },
   "outputs": [],
   "source": [
    "x, y = next(txt1)"
   ]
  },
  {
   "cell_type": "code",
   "execution_count": null,
   "id": "65da4d49",
   "metadata": {
    "execution": {
     "iopub.execute_input": "2022-03-05T23:37:03.383601Z",
     "iopub.status.busy": "2022-03-05T23:37:03.357714Z",
     "iopub.status.idle": "2022-03-05T23:37:03.398823Z",
     "shell.execute_reply": "2022-03-05T23:37:03.398339Z",
     "shell.execute_reply.started": "2022-03-05T23:08:32.591922Z"
    },
    "papermill": {
     "duration": 0.079154,
     "end_time": "2022-03-05T23:37:03.398945",
     "exception": false,
     "start_time": "2022-03-05T23:37:03.319791",
     "status": "completed"
    },
    "tags": []
   },
   "outputs": [],
   "source": [
    "dictionary"
   ]
  },
  {
   "cell_type": "code",
   "execution_count": null,
   "id": "c50a721f",
   "metadata": {
    "execution": {
     "iopub.execute_input": "2022-03-05T23:37:03.383601Z",
     "iopub.status.busy": "2022-03-05T23:37:03.357714Z",
     "iopub.status.idle": "2022-03-05T23:37:03.398823Z",
     "shell.execute_reply": "2022-03-05T23:37:03.398339Z",
     "shell.execute_reply.started": "2022-03-05T23:08:32.591922Z"
    },
    "papermill": {
     "duration": 0.079154,
     "end_time": "2022-03-05T23:37:03.398945",
     "exception": false,
     "start_time": "2022-03-05T23:37:03.319791",
     "status": "completed"
    },
    "tags": []
   },
   "outputs": [],
   "source": [
    "x_valid.reset_index()[\"text\"].loc[0].split() "
   ]
  },
  {
   "cell_type": "code",
   "execution_count": null,
   "id": "fa0c5b54",
   "metadata": {
    "execution": {
     "iopub.execute_input": "2022-03-05T23:37:03.383601Z",
     "iopub.status.busy": "2022-03-05T23:37:03.357714Z",
     "iopub.status.idle": "2022-03-05T23:37:03.398823Z",
     "shell.execute_reply": "2022-03-05T23:37:03.398339Z",
     "shell.execute_reply.started": "2022-03-05T23:08:32.591922Z"
    },
    "papermill": {
     "duration": 0.079154,
     "end_time": "2022-03-05T23:37:03.398945",
     "exception": false,
     "start_time": "2022-03-05T23:37:03.319791",
     "status": "completed"
    },
    "tags": []
   },
   "outputs": [],
   "source": [
    "for word in x_valid.reset_index()[\"text\"].loc[0].split() :\n",
    "    print(dictionary[word])"
   ]
  },
  {
   "cell_type": "code",
   "execution_count": null,
   "id": "753eb913",
   "metadata": {
    "execution": {
     "iopub.execute_input": "2022-03-05T23:37:03.383601Z",
     "iopub.status.busy": "2022-03-05T23:37:03.357714Z",
     "iopub.status.idle": "2022-03-05T23:37:03.398823Z",
     "shell.execute_reply": "2022-03-05T23:37:03.398339Z",
     "shell.execute_reply.started": "2022-03-05T23:08:32.591922Z"
    },
    "papermill": {
     "duration": 0.079154,
     "end_time": "2022-03-05T23:37:03.398945",
     "exception": false,
     "start_time": "2022-03-05T23:37:03.319791",
     "status": "completed"
    },
    "tags": []
   },
   "outputs": [],
   "source": [
    "x[0]"
   ]
  },
  {
   "cell_type": "code",
   "execution_count": null,
   "id": "a0a6d67f",
   "metadata": {
    "execution": {
     "iopub.execute_input": "2022-03-05T23:37:03.383601Z",
     "iopub.status.busy": "2022-03-05T23:37:03.357714Z",
     "iopub.status.idle": "2022-03-05T23:37:03.398823Z",
     "shell.execute_reply": "2022-03-05T23:37:03.398339Z",
     "shell.execute_reply.started": "2022-03-05T23:08:32.591922Z"
    },
    "papermill": {
     "duration": 0.079154,
     "end_time": "2022-03-05T23:37:03.398945",
     "exception": false,
     "start_time": "2022-03-05T23:37:03.319791",
     "status": "completed"
    },
    "tags": []
   },
   "outputs": [],
   "source": [
    "y_valid.reset_index()[\"target\"].loc[0]"
   ]
  },
  {
   "cell_type": "code",
   "execution_count": null,
   "id": "cd222bfe",
   "metadata": {
    "execution": {
     "iopub.execute_input": "2022-03-05T23:37:03.383601Z",
     "iopub.status.busy": "2022-03-05T23:37:03.357714Z",
     "iopub.status.idle": "2022-03-05T23:37:03.398823Z",
     "shell.execute_reply": "2022-03-05T23:37:03.398339Z",
     "shell.execute_reply.started": "2022-03-05T23:08:32.591922Z"
    },
    "papermill": {
     "duration": 0.079154,
     "end_time": "2022-03-05T23:37:03.398945",
     "exception": false,
     "start_time": "2022-03-05T23:37:03.319791",
     "status": "completed"
    },
    "tags": []
   },
   "outputs": [],
   "source": [
    "y[0].item()"
   ]
  },
  {
   "cell_type": "markdown",
   "id": "ad2866d6",
   "metadata": {
    "papermill": {
     "duration": 0.014335,
     "end_time": "2022-03-05T23:37:03.427502",
     "exception": false,
     "start_time": "2022-03-05T23:37:03.413167",
     "status": "completed"
    },
    "tags": []
   },
   "source": [
    "# 3. Model"
   ]
  },
  {
   "cell_type": "code",
   "execution_count": null,
   "id": "a512a861",
   "metadata": {
    "execution": {
     "iopub.execute_input": "2022-03-05T23:37:03.466333Z",
     "iopub.status.busy": "2022-03-05T23:37:03.465518Z",
     "iopub.status.idle": "2022-03-05T23:37:03.467416Z",
     "shell.execute_reply": "2022-03-05T23:37:03.467814Z",
     "shell.execute_reply.started": "2022-03-05T23:20:44.372994Z"
    },
    "papermill": {
     "duration": 0.026245,
     "end_time": "2022-03-05T23:37:03.467936",
     "exception": false,
     "start_time": "2022-03-05T23:37:03.441691",
     "status": "completed"
    },
    "tags": []
   },
   "outputs": [],
   "source": [
    "x.shape, len(y)"
   ]
  },
  {
   "cell_type": "code",
   "execution_count": null,
   "id": "45c25314",
   "metadata": {
    "execution": {
     "iopub.execute_input": "2022-03-05T23:37:03.466333Z",
     "iopub.status.busy": "2022-03-05T23:37:03.465518Z",
     "iopub.status.idle": "2022-03-05T23:37:03.467416Z",
     "shell.execute_reply": "2022-03-05T23:37:03.467814Z",
     "shell.execute_reply.started": "2022-03-05T23:20:44.372994Z"
    },
    "papermill": {
     "duration": 0.026245,
     "end_time": "2022-03-05T23:37:03.467936",
     "exception": false,
     "start_time": "2022-03-05T23:37:03.441691",
     "status": "completed"
    },
    "tags": []
   },
   "outputs": [],
   "source": [
    "EMBEDDING_DIM = 100\n",
    "HIDDEN_DIM = 128\n",
    "LSTM_LAYERS = 1\n",
    "\n",
    "class TextClassifier(nn.ModuleList):\n",
    "    \"\"\"\n",
    "    LSTM Network definition\n",
    "    \"\"\"\n",
    "    def __init__(self):\n",
    "        super(TextClassifier, self).__init__()\n",
    "\n",
    "        self.batch_size = BATCH_SIZE\n",
    "        self.embedding_dim = EMBEDDING_DIM\n",
    "        self.hidden_dim = HIDDEN_DIM\n",
    "        self.LSTM_layers = LSTM_LAYERS\n",
    "        self.input_size = INPUT_SIZE\n",
    "\n",
    "        self.dropout = nn.Dropout(DROPOUT)\n",
    "        self.embedding = nn.Embedding(num_embeddings=self.input_size, embedding_dim=self.embedding_dim, padding_idx=0)\n",
    "        self.lstm = nn.LSTM(input_size=self.embedding_dim, hidden_size=self.hidden_dim, num_layers=self.LSTM_layers, batch_first=True, bidirectional=False)\n",
    "        self.fc1 = nn.Linear(in_features=self.hidden_dim, out_features=256)\n",
    "        self.fc2 = nn.Linear(256, 1)\n",
    "    \n",
    "\n",
    "    def forward(self, x):\n",
    "\n",
    "        h = torch.zeros((self.LSTM_layers, x.size(0), self.hidden_dim)).to(device)\n",
    "        c = torch.zeros((self.LSTM_layers, x.size(0), self.hidden_dim)).to(device)\n",
    "        \n",
    "        torch.nn.init.xavier_normal_(h)\n",
    "        torch.nn.init.xavier_normal_(c)\n",
    "        \n",
    "        embedded = self.embedding(x)\n",
    "        out, (hidden, cell) = self.lstm(embedded, (h, c))\n",
    "        out = self.dropout(out)\n",
    "        out = torch.relu_(self.fc1(out[:,-1,:]))\n",
    "        out = self.dropout(out)\n",
    "        out = torch.sigmoid(self.fc2(out))\n",
    "        return out.squeeze()\n",
    "\n",
    "# Identify device\n",
    "device = torch.device('cuda' if torch.cuda.is_available() else 'cpu')\n",
    "\n",
    "# Model initialization\n",
    "model = TextClassifier().to(device)\n",
    "print(model)"
   ]
  },
  {
   "cell_type": "code",
   "execution_count": null,
   "id": "65a1b049",
   "metadata": {
    "execution": {
     "iopub.execute_input": "2022-03-05T23:37:03.586794Z",
     "iopub.status.busy": "2022-03-05T23:37:03.586192Z",
     "iopub.status.idle": "2022-03-05T23:37:07.128124Z",
     "shell.execute_reply": "2022-03-05T23:37:07.127243Z",
     "shell.execute_reply.started": "2022-03-05T23:20:44.868691Z"
    },
    "papermill": {
     "duration": 3.560563,
     "end_time": "2022-03-05T23:37:07.128273",
     "exception": false,
     "start_time": "2022-03-05T23:37:03.567710",
     "status": "completed"
    },
    "tags": []
   },
   "outputs": [],
   "source": [
    "x.shape"
   ]
  },
  {
   "cell_type": "code",
   "execution_count": null,
   "id": "94dce69a",
   "metadata": {
    "execution": {
     "iopub.execute_input": "2022-03-05T23:37:03.586794Z",
     "iopub.status.busy": "2022-03-05T23:37:03.586192Z",
     "iopub.status.idle": "2022-03-05T23:37:07.128124Z",
     "shell.execute_reply": "2022-03-05T23:37:07.127243Z",
     "shell.execute_reply.started": "2022-03-05T23:20:44.868691Z"
    },
    "papermill": {
     "duration": 3.560563,
     "end_time": "2022-03-05T23:37:07.128273",
     "exception": false,
     "start_time": "2022-03-05T23:37:03.567710",
     "status": "completed"
    },
    "tags": []
   },
   "outputs": [],
   "source": [
    "y.shape"
   ]
  },
  {
   "cell_type": "code",
   "execution_count": null,
   "id": "762d4d9a",
   "metadata": {
    "execution": {
     "iopub.execute_input": "2022-03-05T23:37:03.586794Z",
     "iopub.status.busy": "2022-03-05T23:37:03.586192Z",
     "iopub.status.idle": "2022-03-05T23:37:07.128124Z",
     "shell.execute_reply": "2022-03-05T23:37:07.127243Z",
     "shell.execute_reply.started": "2022-03-05T23:20:44.868691Z"
    },
    "papermill": {
     "duration": 3.560563,
     "end_time": "2022-03-05T23:37:07.128273",
     "exception": false,
     "start_time": "2022-03-05T23:37:03.567710",
     "status": "completed"
    },
    "tags": []
   },
   "outputs": [],
   "source": [
    "model(x.cuda()).shape"
   ]
  },
  {
   "cell_type": "code",
   "execution_count": null,
   "id": "53ccac1b",
   "metadata": {
    "execution": {
     "iopub.execute_input": "2022-03-05T23:37:03.586794Z",
     "iopub.status.busy": "2022-03-05T23:37:03.586192Z",
     "iopub.status.idle": "2022-03-05T23:37:07.128124Z",
     "shell.execute_reply": "2022-03-05T23:37:07.127243Z",
     "shell.execute_reply.started": "2022-03-05T23:20:44.868691Z"
    },
    "papermill": {
     "duration": 3.560563,
     "end_time": "2022-03-05T23:37:07.128273",
     "exception": false,
     "start_time": "2022-03-05T23:37:03.567710",
     "status": "completed"
    },
    "tags": []
   },
   "outputs": [],
   "source": [
    "# Optimizer initialization\n",
    "optimizer = optim.Adam(model.parameters(), lr=0.001)\n",
    "criterion = torch.nn.BCELoss()"
   ]
  },
  {
   "cell_type": "code",
   "execution_count": null,
   "id": "fab59a95",
   "metadata": {
    "execution": {
     "iopub.execute_input": "2022-03-05T23:37:07.163020Z",
     "iopub.status.busy": "2022-03-05T23:37:07.162221Z",
     "iopub.status.idle": "2022-03-05T23:37:07.164181Z",
     "shell.execute_reply": "2022-03-05T23:37:07.164589Z",
     "shell.execute_reply.started": "2022-03-05T23:20:48.324670Z"
    },
    "papermill": {
     "duration": 0.021737,
     "end_time": "2022-03-05T23:37:07.164738",
     "exception": false,
     "start_time": "2022-03-05T23:37:07.143001",
     "status": "completed"
    },
    "tags": []
   },
   "outputs": [],
   "source": [
    "def calculate_accuracy_with_selected_threshold(grand_truth, predictions):\n",
    "    \"\"\"\n",
    "    Accuracy calcuation: (tp + tn) / N\n",
    "    \"\"\"\n",
    "    true_positives, true_negatives = 0, 0\n",
    "    fpr, tpr, thr = roc_curve(grand_truth, predictions)\n",
    "    roc = pd.DataFrame({'fpr':fpr, 'tpr':tpr, 'thr':thr});\n",
    "    roc['random'] = roc['fpr'].copy()\n",
    "    roc['diff'] = roc['tpr'] - roc['fpr']\n",
    "    roc = roc.sort_values('diff', ascending=False).reset_index().drop('index', axis=1)\n",
    "    \n",
    "    for true, pred in zip(grand_truth, predictions):\n",
    "        if (pred > roc.loc[0,'thr']) and (true == 1):\n",
    "            true_positives += 1\n",
    "        elif (pred < roc.loc[0,'thr']) and (true == 0):\n",
    "            true_negatives += 1\n",
    "    return (true_positives+true_negatives) / len(grand_truth)\n",
    "\n",
    "def calculate_accuray_with_point_five(grand_truth, predictions):\n",
    "    \"\"\"\n",
    "    Accuracy calcuation: (tp + tn) / N\n",
    "    \"\"\"\n",
    "    true_positives, true_negatives = 0, 0    \n",
    "    for true, pred in zip(grand_truth, predictions):\n",
    "        if (pred > 0.5) and (true == 1):\n",
    "            true_positives += 1\n",
    "        elif (pred < 0.5) and (true == 0):\n",
    "            true_negatives += 1\n",
    "    return (true_positives+true_negatives) / len(grand_truth)"
   ]
  },
  {
   "cell_type": "code",
   "execution_count": null,
   "id": "8edba82d",
   "metadata": {
    "execution": {
     "iopub.execute_input": "2022-03-05T23:37:07.196308Z",
     "iopub.status.busy": "2022-03-05T23:37:07.195495Z",
     "iopub.status.idle": "2022-03-05T23:37:16.643896Z",
     "shell.execute_reply": "2022-03-05T23:37:16.644314Z",
     "shell.execute_reply.started": "2022-03-05T23:21:09.145194Z"
    },
    "papermill": {
     "duration": 9.465388,
     "end_time": "2022-03-05T23:37:16.644460",
     "exception": false,
     "start_time": "2022-03-05T23:37:07.179072",
     "status": "completed"
    },
    "tags": []
   },
   "outputs": [],
   "source": [
    "# Training\n",
    "EPOCHS = 15\n",
    "valid_accuracy_min = 0\n",
    "for epoch in range(EPOCHS):\n",
    "    model.train()\n",
    "    train_predictions = []\n",
    "    for x_batch, y_batch in tqdm.tqdm(loader_training, desc=f\"training epoch {epoch+1}\"):\n",
    "        \n",
    "        x = x_batch.type(torch.LongTensor).to(device)\n",
    "        y = y_batch.type(torch.FloatTensor).to(device)\n",
    "        \n",
    "        y_pred = model(x)\n",
    "        \n",
    "        loss = criterion(y_pred, y)\n",
    "        \n",
    "        optimizer.zero_grad()\n",
    "        loss.backward()\n",
    "        optimizer.step()\n",
    "        \n",
    "        # Save predictions for metrics calculation\n",
    "        train_predictions += list(y_pred.squeeze().cpu().detach().numpy())\n",
    "    \n",
    "    # Evaluation\n",
    "    with torch.no_grad():\n",
    "        model.eval()\n",
    "        valid_predictions = []\n",
    "        for x_batch, y_batch in tqdm.tqdm(loader_valid, desc=f\"validation epoch {epoch+1}\"):\n",
    "            x = x_batch.type(torch.LongTensor).to(device)\n",
    "            y = y_batch.type(torch.FloatTensor).to(device)\n",
    "            \n",
    "            y_pred = model(x)\n",
    "            # Save predictions for metrics calculation\n",
    "            valid_predictions += list(y_pred.squeeze().cpu().detach().numpy())\n",
    "\n",
    "    train_accuracy = calculate_accuracy_with_selected_threshold(y_train, train_predictions)\n",
    "    valid_accuracy = calculate_accuracy_with_selected_threshold(y_valid, valid_predictions)\n",
    "    print(f\"epoch: {epoch+1}, loss: {loss.item():.5f}, train: {train_accuracy:.5f}, valid: {valid_accuracy:.5f}\")\n",
    "    if valid_accuracy >= valid_accuracy_min:\n",
    "        print('Valid metrics improved ({:.6f} --> {:.6f}).  Saving model ...'.format(valid_accuracy_min,valid_accuracy))\n",
    "        # change the name, for saving multiple files\n",
    "        torch.save(model.state_dict(), 'text_clf.pt')\n",
    "        valid_accuracy_min = valid_accuracy\n",
    "        print(\"=========================================\")"
   ]
  },
  {
   "cell_type": "code",
   "execution_count": null,
   "id": "e3a0a08d",
   "metadata": {
    "execution": {
     "iopub.execute_input": "2022-03-05T23:37:07.196308Z",
     "iopub.status.busy": "2022-03-05T23:37:07.195495Z",
     "iopub.status.idle": "2022-03-05T23:37:16.643896Z",
     "shell.execute_reply": "2022-03-05T23:37:16.644314Z",
     "shell.execute_reply.started": "2022-03-05T23:21:09.145194Z"
    },
    "papermill": {
     "duration": 9.465388,
     "end_time": "2022-03-05T23:37:16.644460",
     "exception": false,
     "start_time": "2022-03-05T23:37:07.179072",
     "status": "completed"
    },
    "tags": []
   },
   "outputs": [],
   "source": [
    "model.load_state_dict(torch.load('text_clf.pt'))"
   ]
  },
  {
   "cell_type": "code",
   "execution_count": null,
   "id": "4499749f",
   "metadata": {},
   "outputs": [],
   "source": [
    "with torch.no_grad():\n",
    "    model.eval()\n",
    "    valid_predictions = []\n",
    "    for x_batch, y_batch in loader_valid:\n",
    "        x = x_batch.type(torch.LongTensor).to(device)\n",
    "        y = y_batch.type(torch.FloatTensor).to(device)\n",
    "\n",
    "        y_pred = model(x)\n",
    "        # Save predictions for metrics calculation\n",
    "        valid_predictions += list(y_pred.squeeze().cpu().detach().numpy())\n",
    "        \n",
    "    valid_accuracy = calculate_accuracy_with_selected_threshold(y_valid, valid_predictions)\n",
    "    print(f\"valid accuracy: {valid_accuracy:.5f}\")"
   ]
  },
  {
   "cell_type": "code",
   "execution_count": null,
   "id": "29d0d26e",
   "metadata": {},
   "outputs": [],
   "source": [
    "fpr, tpr, thr = roc_curve(y_valid, valid_predictions)\n",
    "roc = pd.DataFrame({'fpr':fpr, 'tpr':tpr, 'thr':thr});\n",
    "roc['random'] = roc['fpr'].copy()\n",
    "roc['diff'] = roc['tpr'] - roc['fpr']\n",
    "roc.plot(x='fpr', y=['tpr','random'], figsize=(6,4), grid=True)"
   ]
  },
  {
   "cell_type": "code",
   "execution_count": null,
   "id": "96985fdd",
   "metadata": {},
   "outputs": [],
   "source": [
    "roc = roc.sort_values('diff', ascending=False).reset_index().drop('index', axis=1)"
   ]
  },
  {
   "cell_type": "code",
   "execution_count": null,
   "id": "e451bcd6",
   "metadata": {},
   "outputs": [],
   "source": [
    "roc"
   ]
  },
  {
   "cell_type": "code",
   "execution_count": null,
   "id": "e360aba3",
   "metadata": {},
   "outputs": [],
   "source": [
    "roc.loc[0,'thr']"
   ]
  }
 ],
 "metadata": {
  "kernelspec": {
   "display_name": "Python 3 (ipykernel)",
   "language": "python",
   "name": "python3"
  },
  "language_info": {
   "codemirror_mode": {
    "name": "ipython",
    "version": 3
   },
   "file_extension": ".py",
   "mimetype": "text/x-python",
   "name": "python",
   "nbconvert_exporter": "python",
   "pygments_lexer": "ipython3",
   "version": "3.9.13"
  },
  "papermill": {
   "default_parameters": {},
   "duration": 39.330232,
   "end_time": "2022-03-05T23:37:18.820869",
   "environment_variables": {},
   "exception": null,
   "input_path": "__notebook__.ipynb",
   "output_path": "__notebook__.ipynb",
   "parameters": {},
   "start_time": "2022-03-05T23:36:39.490637",
   "version": "2.3.3"
  }
 },
 "nbformat": 4,
 "nbformat_minor": 5
}
