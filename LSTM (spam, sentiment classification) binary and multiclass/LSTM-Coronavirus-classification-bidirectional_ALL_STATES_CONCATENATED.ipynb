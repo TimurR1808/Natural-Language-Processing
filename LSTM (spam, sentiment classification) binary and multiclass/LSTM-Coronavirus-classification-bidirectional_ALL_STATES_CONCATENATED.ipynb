{
 "cells": [
  {
   "cell_type": "code",
   "execution_count": 1,
   "id": "5d106116",
   "metadata": {
    "execution": {
     "iopub.execute_input": "2022-03-05T23:36:47.615492Z",
     "iopub.status.busy": "2022-03-05T23:36:47.614922Z",
     "iopub.status.idle": "2022-03-05T23:36:50.403735Z",
     "shell.execute_reply": "2022-03-05T23:36:50.402946Z",
     "shell.execute_reply.started": "2022-03-05T22:25:22.852671Z"
    },
    "papermill": {
     "duration": 2.811379,
     "end_time": "2022-03-05T23:36:50.403883",
     "exception": false,
     "start_time": "2022-03-05T23:36:47.592504",
     "status": "completed"
    },
    "tags": []
   },
   "outputs": [],
   "source": [
    "import torch\n",
    "import torch.nn as nn\n",
    "import torch.optim as optim\n",
    "import torch.nn.functional as F\n",
    "import itertools\n",
    "from torch.utils.data import Dataset\n",
    "from torch.utils.data import DataLoader\n",
    "from sklearn.metrics import roc_curve \n",
    "import numpy as np\n",
    "import pandas as pd\n",
    "\n",
    "import string\n",
    "from nltk.corpus import stopwords\n",
    "from nltk.stem import WordNetLemmatizer \n",
    "lemmatizer = WordNetLemmatizer()\n",
    "\n",
    "from sklearn.model_selection import train_test_split\n",
    "import tqdm"
   ]
  },
  {
   "cell_type": "markdown",
   "id": "1616f526",
   "metadata": {
    "papermill": {
     "duration": 0.014443,
     "end_time": "2022-03-05T23:36:50.432398",
     "exception": false,
     "start_time": "2022-03-05T23:36:50.417955",
     "status": "completed"
    },
    "tags": []
   },
   "source": [
    "# 1. Preprocessing"
   ]
  },
  {
   "cell_type": "code",
   "execution_count": 2,
   "id": "67fa3ea0",
   "metadata": {
    "execution": {
     "iopub.execute_input": "2022-03-05T23:36:50.467952Z",
     "iopub.status.busy": "2022-03-05T23:36:50.467242Z",
     "iopub.status.idle": "2022-03-05T23:36:50.470727Z",
     "shell.execute_reply": "2022-03-05T23:36:50.470301Z",
     "shell.execute_reply.started": "2022-03-05T22:47:33.107881Z"
    },
    "papermill": {
     "duration": 0.024814,
     "end_time": "2022-03-05T23:36:50.470836",
     "exception": false,
     "start_time": "2022-03-05T23:36:50.446022",
     "status": "completed"
    },
    "tags": []
   },
   "outputs": [],
   "source": [
    "# We define utility functions for text processing.\n",
    "\n",
    "def removePunctuation(text):\n",
    "    \"\"\"\n",
    "    Remove punctuation symbols and convert text to lowercase\n",
    "    \"\"\"\n",
    "    return text.lower().translate(str.maketrans('', '', string.punctuation))\n",
    "\n",
    "def removeStopWords(text):\n",
    "    \"\"\"\n",
    "    Filter words that are not found in stop words\n",
    "    \"\"\"\n",
    "    return \" \".join([word for word in text.split() if word not in stopwords.words(\"english\")])\n",
    "\n",
    "def buildDictionary(texts):\n",
    "    \"\"\"\n",
    "    Build the dictionary of words where key is the word and value is the index.\n",
    "    \"\"\"\n",
    "    hashmap = {}\n",
    "    for text in texts:\n",
    "        for word in text.split():\n",
    "            hashmap[word] = hashmap.get(word, 0) + 1\n",
    "    return {w:i+1 for i, w in enumerate(list(hashmap.keys()))}\n",
    "\n",
    "def calculateMaxSeqLen(texts):\n",
    "    \"\"\"\n",
    "    Calculates the maximum sequence length found in the corpus\n",
    "    \"\"\"\n",
    "    max_len = float('-inf')\n",
    "    for text in texts:\n",
    "        if len(text.split()) > max_len:\n",
    "            max_len = len(text.split())\n",
    "            \n",
    "    return max_len\n",
    "\n",
    "def lemmatize(text):\n",
    "    \"\"\"\n",
    "    Filter words that are not found in stop words\n",
    "    \"\"\"\n",
    "    return \" \".join([lemmatizer.lemmatize(word) for word in text.split()])"
   ]
  },
  {
   "cell_type": "code",
   "execution_count": 3,
   "id": "ac89e8d0",
   "metadata": {
    "execution": {
     "iopub.execute_input": "2022-03-05T23:36:50.502816Z",
     "iopub.status.busy": "2022-03-05T23:36:50.502157Z",
     "iopub.status.idle": "2022-03-05T23:37:03.086236Z",
     "shell.execute_reply": "2022-03-05T23:37:03.085419Z"
    },
    "papermill": {
     "duration": 12.602015,
     "end_time": "2022-03-05T23:37:03.086375",
     "exception": false,
     "start_time": "2022-03-05T23:36:50.484360",
     "status": "completed"
    },
    "tags": []
   },
   "outputs": [],
   "source": [
    "# Load the *.csv* file and filter the features that are useful for the problem:\n",
    "data = pd.read_csv(\"C:/datasets/coronavirus/Corona_NLP_train.csv\")"
   ]
  },
  {
   "cell_type": "code",
   "execution_count": 4,
   "id": "279fb3ef",
   "metadata": {
    "execution": {
     "iopub.execute_input": "2022-03-05T23:36:50.502816Z",
     "iopub.status.busy": "2022-03-05T23:36:50.502157Z",
     "iopub.status.idle": "2022-03-05T23:37:03.086236Z",
     "shell.execute_reply": "2022-03-05T23:37:03.085419Z"
    },
    "papermill": {
     "duration": 12.602015,
     "end_time": "2022-03-05T23:37:03.086375",
     "exception": false,
     "start_time": "2022-03-05T23:36:50.484360",
     "status": "completed"
    },
    "tags": []
   },
   "outputs": [
    {
     "data": {
      "text/html": [
       "<div>\n",
       "<style scoped>\n",
       "    .dataframe tbody tr th:only-of-type {\n",
       "        vertical-align: middle;\n",
       "    }\n",
       "\n",
       "    .dataframe tbody tr th {\n",
       "        vertical-align: top;\n",
       "    }\n",
       "\n",
       "    .dataframe thead th {\n",
       "        text-align: right;\n",
       "    }\n",
       "</style>\n",
       "<table border=\"1\" class=\"dataframe\">\n",
       "  <thead>\n",
       "    <tr style=\"text-align: right;\">\n",
       "      <th></th>\n",
       "      <th>UserName</th>\n",
       "      <th>ScreenName</th>\n",
       "      <th>Location</th>\n",
       "      <th>TweetAt</th>\n",
       "      <th>OriginalTweet</th>\n",
       "      <th>Sentiment</th>\n",
       "    </tr>\n",
       "  </thead>\n",
       "  <tbody>\n",
       "    <tr>\n",
       "      <th>0</th>\n",
       "      <td>3799</td>\n",
       "      <td>48751</td>\n",
       "      <td>London</td>\n",
       "      <td>16-03-2020</td>\n",
       "      <td>menyrbie philgahan chrisitv httpstcoifz9fan2pa...</td>\n",
       "      <td>Neutral</td>\n",
       "    </tr>\n",
       "    <tr>\n",
       "      <th>1</th>\n",
       "      <td>3800</td>\n",
       "      <td>48752</td>\n",
       "      <td>UK</td>\n",
       "      <td>16-03-2020</td>\n",
       "      <td>advice talk neighbours family exchange phone n...</td>\n",
       "      <td>Positive</td>\n",
       "    </tr>\n",
       "    <tr>\n",
       "      <th>2</th>\n",
       "      <td>3801</td>\n",
       "      <td>48753</td>\n",
       "      <td>Vagabonds</td>\n",
       "      <td>16-03-2020</td>\n",
       "      <td>coronavirus australia woolworths give elderly ...</td>\n",
       "      <td>Positive</td>\n",
       "    </tr>\n",
       "    <tr>\n",
       "      <th>3</th>\n",
       "      <td>3802</td>\n",
       "      <td>48754</td>\n",
       "      <td>NaN</td>\n",
       "      <td>16-03-2020</td>\n",
       "      <td>food stock one empty please dont panic enough ...</td>\n",
       "      <td>Positive</td>\n",
       "    </tr>\n",
       "    <tr>\n",
       "      <th>4</th>\n",
       "      <td>3803</td>\n",
       "      <td>48755</td>\n",
       "      <td>NaN</td>\n",
       "      <td>16-03-2020</td>\n",
       "      <td>ready go supermarket covid19 outbreak im paran...</td>\n",
       "      <td>Extremely Negative</td>\n",
       "    </tr>\n",
       "    <tr>\n",
       "      <th>...</th>\n",
       "      <td>...</td>\n",
       "      <td>...</td>\n",
       "      <td>...</td>\n",
       "      <td>...</td>\n",
       "      <td>...</td>\n",
       "      <td>...</td>\n",
       "    </tr>\n",
       "    <tr>\n",
       "      <th>41152</th>\n",
       "      <td>44951</td>\n",
       "      <td>89903</td>\n",
       "      <td>Wellington City, New Zealand</td>\n",
       "      <td>14-04-2020</td>\n",
       "      <td>airline pilots offering stock supermarket shel...</td>\n",
       "      <td>Neutral</td>\n",
       "    </tr>\n",
       "    <tr>\n",
       "      <th>41153</th>\n",
       "      <td>44952</td>\n",
       "      <td>89904</td>\n",
       "      <td>NaN</td>\n",
       "      <td>14-04-2020</td>\n",
       "      <td>response complaint provided citing covid19 rel...</td>\n",
       "      <td>Extremely Negative</td>\n",
       "    </tr>\n",
       "    <tr>\n",
       "      <th>41154</th>\n",
       "      <td>44953</td>\n",
       "      <td>89905</td>\n",
       "      <td>NaN</td>\n",
       "      <td>14-04-2020</td>\n",
       "      <td>know itâs getting tough kameronwilds rationin...</td>\n",
       "      <td>Positive</td>\n",
       "    </tr>\n",
       "    <tr>\n",
       "      <th>41155</th>\n",
       "      <td>44954</td>\n",
       "      <td>89906</td>\n",
       "      <td>NaN</td>\n",
       "      <td>14-04-2020</td>\n",
       "      <td>wrong smell hand sanitizer starting turn coron...</td>\n",
       "      <td>Neutral</td>\n",
       "    </tr>\n",
       "    <tr>\n",
       "      <th>41156</th>\n",
       "      <td>44955</td>\n",
       "      <td>89907</td>\n",
       "      <td>i love you so much || he/him</td>\n",
       "      <td>14-04-2020</td>\n",
       "      <td>tartiicat well newused rift going 70000 amazon...</td>\n",
       "      <td>Negative</td>\n",
       "    </tr>\n",
       "  </tbody>\n",
       "</table>\n",
       "<p>41157 rows × 6 columns</p>\n",
       "</div>"
      ],
      "text/plain": [
       "       UserName  ScreenName                      Location     TweetAt  \\\n",
       "0          3799       48751                        London  16-03-2020   \n",
       "1          3800       48752                            UK  16-03-2020   \n",
       "2          3801       48753                     Vagabonds  16-03-2020   \n",
       "3          3802       48754                           NaN  16-03-2020   \n",
       "4          3803       48755                           NaN  16-03-2020   \n",
       "...         ...         ...                           ...         ...   \n",
       "41152     44951       89903  Wellington City, New Zealand  14-04-2020   \n",
       "41153     44952       89904                           NaN  14-04-2020   \n",
       "41154     44953       89905                           NaN  14-04-2020   \n",
       "41155     44954       89906                           NaN  14-04-2020   \n",
       "41156     44955       89907  i love you so much || he/him  14-04-2020   \n",
       "\n",
       "                                           OriginalTweet           Sentiment  \n",
       "0      menyrbie philgahan chrisitv httpstcoifz9fan2pa...             Neutral  \n",
       "1      advice talk neighbours family exchange phone n...            Positive  \n",
       "2      coronavirus australia woolworths give elderly ...            Positive  \n",
       "3      food stock one empty please dont panic enough ...            Positive  \n",
       "4      ready go supermarket covid19 outbreak im paran...  Extremely Negative  \n",
       "...                                                  ...                 ...  \n",
       "41152  airline pilots offering stock supermarket shel...             Neutral  \n",
       "41153  response complaint provided citing covid19 rel...  Extremely Negative  \n",
       "41154  know itâs getting tough kameronwilds rationin...            Positive  \n",
       "41155  wrong smell hand sanitizer starting turn coron...             Neutral  \n",
       "41156  tartiicat well newused rift going 70000 amazon...            Negative  \n",
       "\n",
       "[41157 rows x 6 columns]"
      ]
     },
     "execution_count": 4,
     "metadata": {},
     "output_type": "execute_result"
    }
   ],
   "source": [
    "data"
   ]
  },
  {
   "cell_type": "code",
   "execution_count": 5,
   "id": "352fef7e",
   "metadata": {
    "execution": {
     "iopub.execute_input": "2022-03-05T23:36:50.502816Z",
     "iopub.status.busy": "2022-03-05T23:36:50.502157Z",
     "iopub.status.idle": "2022-03-05T23:37:03.086236Z",
     "shell.execute_reply": "2022-03-05T23:37:03.085419Z"
    },
    "papermill": {
     "duration": 12.602015,
     "end_time": "2022-03-05T23:37:03.086375",
     "exception": false,
     "start_time": "2022-03-05T23:36:50.484360",
     "status": "completed"
    },
    "tags": []
   },
   "outputs": [],
   "source": [
    "# Text preprocessing. Remove punctuation symbols and stop words:\n",
    "# data[\"OriginalTweet\"] = data[\"OriginalTweet\"].apply(lambda x: removePunctuation(x))\n",
    "# data[\"OriginalTweet\"] = data[\"OriginalTweet\"].apply(lambda x: removeStopWords(x))\n",
    "data[\"OriginalTweet\"] = data[\"OriginalTweet\"].apply(lambda x: lemmatize(x))"
   ]
  },
  {
   "cell_type": "code",
   "execution_count": 6,
   "id": "139c6a15",
   "metadata": {
    "execution": {
     "iopub.execute_input": "2022-03-05T23:37:03.137389Z",
     "iopub.status.busy": "2022-03-05T23:37:03.127393Z",
     "iopub.status.idle": "2022-03-05T23:37:03.161258Z",
     "shell.execute_reply": "2022-03-05T23:37:03.160556Z",
     "shell.execute_reply.started": "2022-03-05T22:47:35.755764Z"
    },
    "papermill": {
     "duration": 0.060689,
     "end_time": "2022-03-05T23:37:03.161411",
     "exception": false,
     "start_time": "2022-03-05T23:37:03.100722",
     "status": "completed"
    },
    "tags": []
   },
   "outputs": [
    {
     "data": {
      "text/plain": [
       "Positive              11422\n",
       "Negative               9917\n",
       "Neutral                7713\n",
       "Extremely Positive     6624\n",
       "Extremely Negative     5481\n",
       "Name: Sentiment, dtype: int64"
      ]
     },
     "execution_count": 6,
     "metadata": {},
     "output_type": "execute_result"
    }
   ],
   "source": [
    "data[\"Sentiment\"].value_counts()"
   ]
  },
  {
   "cell_type": "code",
   "execution_count": 7,
   "id": "6ba67ef0",
   "metadata": {
    "execution": {
     "iopub.execute_input": "2022-03-05T23:37:03.137389Z",
     "iopub.status.busy": "2022-03-05T23:37:03.127393Z",
     "iopub.status.idle": "2022-03-05T23:37:03.161258Z",
     "shell.execute_reply": "2022-03-05T23:37:03.160556Z",
     "shell.execute_reply.started": "2022-03-05T22:47:35.755764Z"
    },
    "papermill": {
     "duration": 0.060689,
     "end_time": "2022-03-05T23:37:03.161411",
     "exception": false,
     "start_time": "2022-03-05T23:37:03.100722",
     "status": "completed"
    },
    "tags": []
   },
   "outputs": [],
   "source": [
    "data[\"Sentiment\"] = data[\"Sentiment\"].replace(\"Extremely Positive\", 2)\n",
    "data[\"Sentiment\"] = data[\"Sentiment\"].replace(\"Positive\", 2)\n",
    "data[\"Sentiment\"] = data[\"Sentiment\"].replace(\"Neutral\", 1)\n",
    "data[\"Sentiment\"] = data[\"Sentiment\"].replace(\"Negative\", 0)\n",
    "data[\"Sentiment\"] = data[\"Sentiment\"].replace(\"Extremely Negative\", 0)"
   ]
  },
  {
   "cell_type": "code",
   "execution_count": 8,
   "id": "c5fd527f",
   "metadata": {
    "execution": {
     "iopub.execute_input": "2022-03-05T23:37:03.137389Z",
     "iopub.status.busy": "2022-03-05T23:37:03.127393Z",
     "iopub.status.idle": "2022-03-05T23:37:03.161258Z",
     "shell.execute_reply": "2022-03-05T23:37:03.160556Z",
     "shell.execute_reply.started": "2022-03-05T22:47:35.755764Z"
    },
    "papermill": {
     "duration": 0.060689,
     "end_time": "2022-03-05T23:37:03.161411",
     "exception": false,
     "start_time": "2022-03-05T23:37:03.100722",
     "status": "completed"
    },
    "tags": []
   },
   "outputs": [],
   "source": [
    "classes = [\"Negative\", \"Neutral\", \"Positive\"]"
   ]
  },
  {
   "cell_type": "code",
   "execution_count": 9,
   "id": "ee0106c0",
   "metadata": {
    "execution": {
     "iopub.execute_input": "2022-03-05T23:37:03.137389Z",
     "iopub.status.busy": "2022-03-05T23:37:03.127393Z",
     "iopub.status.idle": "2022-03-05T23:37:03.161258Z",
     "shell.execute_reply": "2022-03-05T23:37:03.160556Z",
     "shell.execute_reply.started": "2022-03-05T22:47:35.755764Z"
    },
    "papermill": {
     "duration": 0.060689,
     "end_time": "2022-03-05T23:37:03.161411",
     "exception": false,
     "start_time": "2022-03-05T23:37:03.100722",
     "status": "completed"
    },
    "tags": []
   },
   "outputs": [
    {
     "data": {
      "text/plain": [
       "2    18046\n",
       "0    15398\n",
       "1     7713\n",
       "Name: Sentiment, dtype: int64"
      ]
     },
     "execution_count": 9,
     "metadata": {},
     "output_type": "execute_result"
    }
   ],
   "source": [
    "data[\"Sentiment\"].value_counts()"
   ]
  },
  {
   "cell_type": "code",
   "execution_count": 10,
   "id": "ae50cef5",
   "metadata": {
    "execution": {
     "iopub.execute_input": "2022-03-05T23:37:03.137389Z",
     "iopub.status.busy": "2022-03-05T23:37:03.127393Z",
     "iopub.status.idle": "2022-03-05T23:37:03.161258Z",
     "shell.execute_reply": "2022-03-05T23:37:03.160556Z",
     "shell.execute_reply.started": "2022-03-05T22:47:35.755764Z"
    },
    "papermill": {
     "duration": 0.060689,
     "end_time": "2022-03-05T23:37:03.161411",
     "exception": false,
     "start_time": "2022-03-05T23:37:03.100722",
     "status": "completed"
    },
    "tags": []
   },
   "outputs": [],
   "source": [
    "data = data[[\"OriginalTweet\", \"Sentiment\"]]"
   ]
  },
  {
   "cell_type": "code",
   "execution_count": 11,
   "id": "17881799",
   "metadata": {
    "execution": {
     "iopub.execute_input": "2022-03-05T23:37:03.137389Z",
     "iopub.status.busy": "2022-03-05T23:37:03.127393Z",
     "iopub.status.idle": "2022-03-05T23:37:03.161258Z",
     "shell.execute_reply": "2022-03-05T23:37:03.160556Z",
     "shell.execute_reply.started": "2022-03-05T22:47:35.755764Z"
    },
    "papermill": {
     "duration": 0.060689,
     "end_time": "2022-03-05T23:37:03.161411",
     "exception": false,
     "start_time": "2022-03-05T23:37:03.100722",
     "status": "completed"
    },
    "tags": []
   },
   "outputs": [
    {
     "name": "stdout",
     "output_type": "stream",
     "text": [
      "Number of words in dictionary: 83193\n",
      "Maximum sequence lenght: 46\n"
     ]
    }
   ],
   "source": [
    "dictionary = buildDictionary(data[\"OriginalTweet\"])\n",
    "max_seq_len = calculateMaxSeqLen(data[\"OriginalTweet\"])\n",
    "\n",
    "print(f\"Number of words in dictionary: {len(dictionary)}\")\n",
    "print(f\"Maximum sequence lenght: {max_seq_len}\")"
   ]
  },
  {
   "cell_type": "code",
   "execution_count": 12,
   "id": "1ccd9997",
   "metadata": {
    "execution": {
     "iopub.execute_input": "2022-03-05T23:37:03.193272Z",
     "iopub.status.busy": "2022-03-05T23:37:03.192490Z",
     "iopub.status.idle": "2022-03-05T23:37:03.203080Z",
     "shell.execute_reply": "2022-03-05T23:37:03.202656Z",
     "shell.execute_reply.started": "2022-03-05T23:07:00.606833Z"
    },
    "papermill": {
     "duration": 0.026668,
     "end_time": "2022-03-05T23:37:03.203185",
     "exception": false,
     "start_time": "2022-03-05T23:37:03.176517",
     "status": "completed"
    },
    "tags": []
   },
   "outputs": [
    {
     "data": {
      "text/plain": [
       "2    0.438467\n",
       "0    0.374128\n",
       "1    0.187404\n",
       "Name: Sentiment, dtype: float64"
      ]
     },
     "execution_count": 12,
     "metadata": {},
     "output_type": "execute_result"
    }
   ],
   "source": [
    "data[\"Sentiment\"].value_counts() / len(data)"
   ]
  },
  {
   "cell_type": "code",
   "execution_count": 13,
   "id": "e82b0890",
   "metadata": {
    "execution": {
     "iopub.execute_input": "2022-03-05T23:37:03.193272Z",
     "iopub.status.busy": "2022-03-05T23:37:03.192490Z",
     "iopub.status.idle": "2022-03-05T23:37:03.203080Z",
     "shell.execute_reply": "2022-03-05T23:37:03.202656Z",
     "shell.execute_reply.started": "2022-03-05T23:07:00.606833Z"
    },
    "papermill": {
     "duration": 0.026668,
     "end_time": "2022-03-05T23:37:03.203185",
     "exception": false,
     "start_time": "2022-03-05T23:37:03.176517",
     "status": "completed"
    },
    "tags": []
   },
   "outputs": [
    {
     "data": {
      "text/html": [
       "<div>\n",
       "<style scoped>\n",
       "    .dataframe tbody tr th:only-of-type {\n",
       "        vertical-align: middle;\n",
       "    }\n",
       "\n",
       "    .dataframe tbody tr th {\n",
       "        vertical-align: top;\n",
       "    }\n",
       "\n",
       "    .dataframe thead th {\n",
       "        text-align: right;\n",
       "    }\n",
       "</style>\n",
       "<table border=\"1\" class=\"dataframe\">\n",
       "  <thead>\n",
       "    <tr style=\"text-align: right;\">\n",
       "      <th></th>\n",
       "      <th>OriginalTweet</th>\n",
       "      <th>Sentiment</th>\n",
       "    </tr>\n",
       "  </thead>\n",
       "  <tbody>\n",
       "    <tr>\n",
       "      <th>0</th>\n",
       "      <td>menyrbie philgahan chrisitv httpstcoifz9fan2pa...</td>\n",
       "      <td>1</td>\n",
       "    </tr>\n",
       "    <tr>\n",
       "      <th>1</th>\n",
       "      <td>advice talk neighbour family exchange phone nu...</td>\n",
       "      <td>2</td>\n",
       "    </tr>\n",
       "    <tr>\n",
       "      <th>2</th>\n",
       "      <td>coronavirus australia woolworth give elderly d...</td>\n",
       "      <td>2</td>\n",
       "    </tr>\n",
       "    <tr>\n",
       "      <th>3</th>\n",
       "      <td>food stock one empty please dont panic enough ...</td>\n",
       "      <td>2</td>\n",
       "    </tr>\n",
       "    <tr>\n",
       "      <th>4</th>\n",
       "      <td>ready go supermarket covid19 outbreak im paran...</td>\n",
       "      <td>0</td>\n",
       "    </tr>\n",
       "    <tr>\n",
       "      <th>...</th>\n",
       "      <td>...</td>\n",
       "      <td>...</td>\n",
       "    </tr>\n",
       "    <tr>\n",
       "      <th>41152</th>\n",
       "      <td>airline pilot offering stock supermarket shelf...</td>\n",
       "      <td>1</td>\n",
       "    </tr>\n",
       "    <tr>\n",
       "      <th>41153</th>\n",
       "      <td>response complaint provided citing covid19 rel...</td>\n",
       "      <td>0</td>\n",
       "    </tr>\n",
       "    <tr>\n",
       "      <th>41154</th>\n",
       "      <td>know itâs getting tough kameronwilds rationin...</td>\n",
       "      <td>2</td>\n",
       "    </tr>\n",
       "    <tr>\n",
       "      <th>41155</th>\n",
       "      <td>wrong smell hand sanitizer starting turn coron...</td>\n",
       "      <td>1</td>\n",
       "    </tr>\n",
       "    <tr>\n",
       "      <th>41156</th>\n",
       "      <td>tartiicat well newused rift going 70000 amazon...</td>\n",
       "      <td>0</td>\n",
       "    </tr>\n",
       "  </tbody>\n",
       "</table>\n",
       "<p>41157 rows × 2 columns</p>\n",
       "</div>"
      ],
      "text/plain": [
       "                                           OriginalTweet  Sentiment\n",
       "0      menyrbie philgahan chrisitv httpstcoifz9fan2pa...          1\n",
       "1      advice talk neighbour family exchange phone nu...          2\n",
       "2      coronavirus australia woolworth give elderly d...          2\n",
       "3      food stock one empty please dont panic enough ...          2\n",
       "4      ready go supermarket covid19 outbreak im paran...          0\n",
       "...                                                  ...        ...\n",
       "41152  airline pilot offering stock supermarket shelf...          1\n",
       "41153  response complaint provided citing covid19 rel...          0\n",
       "41154  know itâs getting tough kameronwilds rationin...          2\n",
       "41155  wrong smell hand sanitizer starting turn coron...          1\n",
       "41156  tartiicat well newused rift going 70000 amazon...          0\n",
       "\n",
       "[41157 rows x 2 columns]"
      ]
     },
     "execution_count": 13,
     "metadata": {},
     "output_type": "execute_result"
    }
   ],
   "source": [
    "data"
   ]
  },
  {
   "cell_type": "code",
   "execution_count": 14,
   "id": "07dcc1b5",
   "metadata": {
    "execution": {
     "iopub.execute_input": "2022-03-05T23:37:03.193272Z",
     "iopub.status.busy": "2022-03-05T23:37:03.192490Z",
     "iopub.status.idle": "2022-03-05T23:37:03.203080Z",
     "shell.execute_reply": "2022-03-05T23:37:03.202656Z",
     "shell.execute_reply.started": "2022-03-05T23:07:00.606833Z"
    },
    "papermill": {
     "duration": 0.026668,
     "end_time": "2022-03-05T23:37:03.203185",
     "exception": false,
     "start_time": "2022-03-05T23:37:03.176517",
     "status": "completed"
    },
    "tags": []
   },
   "outputs": [],
   "source": [
    "# Split data into training and testing\n",
    "x_train, x_valid, y_train, y_valid = train_test_split(data[\"OriginalTweet\"], data[\"Sentiment\"], test_size=0.2, stratify=data[\"Sentiment\"])"
   ]
  },
  {
   "cell_type": "markdown",
   "id": "938ed3fe",
   "metadata": {
    "papermill": {
     "duration": 0.013899,
     "end_time": "2022-03-05T23:37:03.231400",
     "exception": false,
     "start_time": "2022-03-05T23:37:03.217501",
     "status": "completed"
    },
    "tags": []
   },
   "source": [
    "# 2. Data loaders"
   ]
  },
  {
   "cell_type": "code",
   "execution_count": 15,
   "id": "74b7a3f5",
   "metadata": {
    "execution": {
     "iopub.execute_input": "2022-03-05T23:37:03.266298Z",
     "iopub.status.busy": "2022-03-05T23:37:03.265540Z",
     "iopub.status.idle": "2022-03-05T23:37:03.267884Z",
     "shell.execute_reply": "2022-03-05T23:37:03.267450Z",
     "shell.execute_reply.started": "2022-03-05T23:22:46.626159Z"
    },
    "papermill": {
     "duration": 0.020388,
     "end_time": "2022-03-05T23:37:03.267992",
     "exception": false,
     "start_time": "2022-03-05T23:37:03.247604",
     "status": "completed"
    },
    "tags": []
   },
   "outputs": [
    {
     "data": {
      "text/plain": [
       "2    3609\n",
       "0    3080\n",
       "1    1543\n",
       "Name: Sentiment, dtype: int64"
      ]
     },
     "execution_count": 15,
     "metadata": {},
     "output_type": "execute_result"
    }
   ],
   "source": [
    "y_valid.value_counts()"
   ]
  },
  {
   "cell_type": "code",
   "execution_count": 16,
   "id": "9223271f",
   "metadata": {
    "execution": {
     "iopub.execute_input": "2022-03-05T23:37:03.266298Z",
     "iopub.status.busy": "2022-03-05T23:37:03.265540Z",
     "iopub.status.idle": "2022-03-05T23:37:03.267884Z",
     "shell.execute_reply": "2022-03-05T23:37:03.267450Z",
     "shell.execute_reply.started": "2022-03-05T23:22:46.626159Z"
    },
    "papermill": {
     "duration": 0.020388,
     "end_time": "2022-03-05T23:37:03.267992",
     "exception": false,
     "start_time": "2022-03-05T23:37:03.247604",
     "status": "completed"
    },
    "tags": []
   },
   "outputs": [
    {
     "data": {
      "text/plain": [
       "2    14437\n",
       "0    12318\n",
       "1     6170\n",
       "Name: Sentiment, dtype: int64"
      ]
     },
     "execution_count": 16,
     "metadata": {},
     "output_type": "execute_result"
    }
   ],
   "source": [
    "y_train.value_counts()"
   ]
  },
  {
   "cell_type": "code",
   "execution_count": 17,
   "id": "a5a1483a",
   "metadata": {
    "execution": {
     "iopub.execute_input": "2022-03-05T23:37:03.266298Z",
     "iopub.status.busy": "2022-03-05T23:37:03.265540Z",
     "iopub.status.idle": "2022-03-05T23:37:03.267884Z",
     "shell.execute_reply": "2022-03-05T23:37:03.267450Z",
     "shell.execute_reply.started": "2022-03-05T23:22:46.626159Z"
    },
    "papermill": {
     "duration": 0.020388,
     "end_time": "2022-03-05T23:37:03.267992",
     "exception": false,
     "start_time": "2022-03-05T23:37:03.247604",
     "status": "completed"
    },
    "tags": []
   },
   "outputs": [],
   "source": [
    "BATCH_SIZE = 64\n",
    "LEARNING_RATE = 0.001\n",
    "DROPOUT = 0.5\n",
    "INPUT_SIZE = len(dictionary) + 1\n",
    "EPOCHS = 30"
   ]
  },
  {
   "cell_type": "code",
   "execution_count": 18,
   "id": "e68fde33",
   "metadata": {
    "execution": {
     "iopub.execute_input": "2022-03-05T23:37:03.303669Z",
     "iopub.status.busy": "2022-03-05T23:37:03.303034Z",
     "iopub.status.idle": "2022-03-05T23:37:03.305240Z",
     "shell.execute_reply": "2022-03-05T23:37:03.305601Z",
     "shell.execute_reply.started": "2022-03-05T23:08:21.742035Z"
    },
    "papermill": {
     "duration": 0.023543,
     "end_time": "2022-03-05T23:37:03.305753",
     "exception": false,
     "start_time": "2022-03-05T23:37:03.282210",
     "status": "completed"
    },
    "tags": []
   },
   "outputs": [],
   "source": [
    "class DataHandler(Dataset):\n",
    "    \"\"\"\n",
    "    Iterator generator for data loader construction\n",
    "    \"\"\"\n",
    "    \n",
    "    @staticmethod\n",
    "    def tokenizer(X, max_seq_len, dicitionary):\n",
    "        \"\"\"\n",
    "        Given a sequence of words, tokenize each word with \n",
    "        use of `dictionary` and apply padding considering `max_seq_len`\n",
    "        \"\"\"\n",
    "        sequences = []\n",
    "        for x in X:\n",
    "            sequence = [0] * max_seq_len\n",
    "            for idx, word in enumerate(x.split()):\n",
    "                sequence[idx] = dictionary[word]\n",
    "            sequences.append(sequence)\n",
    "            \n",
    "        return np.array(sequences)\n",
    "    \n",
    "    def __init__(self, x, y, max_seq_len, dictionary):\n",
    "        self.x = self.tokenizer(x, max_seq_len, dictionary)\n",
    "        self.y = y.to_numpy()\n",
    "        \n",
    "    def __len__(self):\n",
    "        return len(self.x)\n",
    "    \n",
    "    def __getitem__(self, idx):\n",
    "        return self.x[idx], self.y[idx]"
   ]
  },
  {
   "cell_type": "code",
   "execution_count": 19,
   "id": "f078953b",
   "metadata": {
    "execution": {
     "iopub.execute_input": "2022-03-05T23:37:03.383601Z",
     "iopub.status.busy": "2022-03-05T23:37:03.357714Z",
     "iopub.status.idle": "2022-03-05T23:37:03.398823Z",
     "shell.execute_reply": "2022-03-05T23:37:03.398339Z",
     "shell.execute_reply.started": "2022-03-05T23:08:32.591922Z"
    },
    "papermill": {
     "duration": 0.079154,
     "end_time": "2022-03-05T23:37:03.398945",
     "exception": false,
     "start_time": "2022-03-05T23:37:03.319791",
     "status": "completed"
    },
    "tags": []
   },
   "outputs": [],
   "source": [
    "# Initialize iterator objects for the data loader\n",
    "train = DataHandler(x_train, y_train, max_seq_len, dictionary)\n",
    "valid = DataHandler(x_valid, y_valid, max_seq_len, dictionary)"
   ]
  },
  {
   "cell_type": "code",
   "execution_count": 20,
   "id": "92af8103",
   "metadata": {
    "execution": {
     "iopub.execute_input": "2022-03-05T23:37:03.383601Z",
     "iopub.status.busy": "2022-03-05T23:37:03.357714Z",
     "iopub.status.idle": "2022-03-05T23:37:03.398823Z",
     "shell.execute_reply": "2022-03-05T23:37:03.398339Z",
     "shell.execute_reply.started": "2022-03-05T23:08:32.591922Z"
    },
    "papermill": {
     "duration": 0.079154,
     "end_time": "2022-03-05T23:37:03.398945",
     "exception": false,
     "start_time": "2022-03-05T23:37:03.319791",
     "status": "completed"
    },
    "tags": []
   },
   "outputs": [],
   "source": [
    "# Initialize data loaders\n",
    "loader_training = DataLoader(train, batch_size=BATCH_SIZE, shuffle=False)\n",
    "loader_valid = DataLoader(valid, batch_size=BATCH_SIZE, shuffle=False)"
   ]
  },
  {
   "cell_type": "code",
   "execution_count": 21,
   "id": "f5dc49c3",
   "metadata": {
    "execution": {
     "iopub.execute_input": "2022-03-05T23:37:03.383601Z",
     "iopub.status.busy": "2022-03-05T23:37:03.357714Z",
     "iopub.status.idle": "2022-03-05T23:37:03.398823Z",
     "shell.execute_reply": "2022-03-05T23:37:03.398339Z",
     "shell.execute_reply.started": "2022-03-05T23:08:32.591922Z"
    },
    "papermill": {
     "duration": 0.079154,
     "end_time": "2022-03-05T23:37:03.398945",
     "exception": false,
     "start_time": "2022-03-05T23:37:03.319791",
     "status": "completed"
    },
    "tags": []
   },
   "outputs": [],
   "source": [
    "txt1 = iter(loader_valid)"
   ]
  },
  {
   "cell_type": "code",
   "execution_count": 22,
   "id": "58f24f65",
   "metadata": {
    "execution": {
     "iopub.execute_input": "2022-03-05T23:37:03.383601Z",
     "iopub.status.busy": "2022-03-05T23:37:03.357714Z",
     "iopub.status.idle": "2022-03-05T23:37:03.398823Z",
     "shell.execute_reply": "2022-03-05T23:37:03.398339Z",
     "shell.execute_reply.started": "2022-03-05T23:08:32.591922Z"
    },
    "papermill": {
     "duration": 0.079154,
     "end_time": "2022-03-05T23:37:03.398945",
     "exception": false,
     "start_time": "2022-03-05T23:37:03.319791",
     "status": "completed"
    },
    "tags": []
   },
   "outputs": [],
   "source": [
    "x, y = next(txt1)"
   ]
  },
  {
   "cell_type": "code",
   "execution_count": 23,
   "id": "65da4d49",
   "metadata": {
    "execution": {
     "iopub.execute_input": "2022-03-05T23:37:03.383601Z",
     "iopub.status.busy": "2022-03-05T23:37:03.357714Z",
     "iopub.status.idle": "2022-03-05T23:37:03.398823Z",
     "shell.execute_reply": "2022-03-05T23:37:03.398339Z",
     "shell.execute_reply.started": "2022-03-05T23:08:32.591922Z"
    },
    "papermill": {
     "duration": 0.079154,
     "end_time": "2022-03-05T23:37:03.398945",
     "exception": false,
     "start_time": "2022-03-05T23:37:03.319791",
     "status": "completed"
    },
    "tags": []
   },
   "outputs": [
    {
     "data": {
      "text/plain": [
       "{'menyrbie': 1,\n",
       " 'philgahan': 2,\n",
       " 'chrisitv': 3,\n",
       " 'httpstcoifz9fan2pa': 4,\n",
       " 'httpstcoxx6ghgfzcc': 5,\n",
       " 'httpstcoi2nlzdxno8': 6,\n",
       " 'advice': 7,\n",
       " 'talk': 8,\n",
       " 'neighbour': 9,\n",
       " 'family': 10,\n",
       " 'exchange': 11,\n",
       " 'phone': 12,\n",
       " 'number': 13,\n",
       " 'create': 14,\n",
       " 'contact': 15,\n",
       " 'list': 16,\n",
       " 'school': 17,\n",
       " 'employer': 18,\n",
       " 'chemist': 19,\n",
       " 'gp': 20,\n",
       " 'set': 21,\n",
       " 'online': 22,\n",
       " 'shopping': 23,\n",
       " 'account': 24,\n",
       " 'po': 25,\n",
       " 'adequate': 26,\n",
       " 'supply': 27,\n",
       " 'regular': 28,\n",
       " 'med': 29,\n",
       " 'order': 30,\n",
       " 'coronavirus': 31,\n",
       " 'australia': 32,\n",
       " 'woolworth': 33,\n",
       " 'give': 34,\n",
       " 'elderly': 35,\n",
       " 'disabled': 36,\n",
       " 'dedicated': 37,\n",
       " 'hour': 38,\n",
       " 'amid': 39,\n",
       " 'covid19': 40,\n",
       " 'outbreak': 41,\n",
       " 'httpstcobinca9vp8p': 42,\n",
       " 'food': 43,\n",
       " 'stock': 44,\n",
       " 'one': 45,\n",
       " 'empty': 46,\n",
       " 'please': 47,\n",
       " 'dont': 48,\n",
       " 'panic': 49,\n",
       " 'enough': 50,\n",
       " 'everyone': 51,\n",
       " 'take': 52,\n",
       " 'need': 53,\n",
       " 'stay': 54,\n",
       " 'calm': 55,\n",
       " 'safe': 56,\n",
       " 'covid19france': 57,\n",
       " 'confinement': 58,\n",
       " 'confinementotal': 59,\n",
       " 'confinementgeneral': 60,\n",
       " 'httpstcozrlg0z520j': 61,\n",
       " 'ready': 62,\n",
       " 'go': 63,\n",
       " 'supermarket': 64,\n",
       " 'im': 65,\n",
       " 'paranoid': 66,\n",
       " 'litteraly': 67,\n",
       " 'serious': 68,\n",
       " 'thing': 69,\n",
       " 'cause': 70,\n",
       " 'shortage': 71,\n",
       " 'coronavirusfrance': 72,\n",
       " 'restezchezvous': 73,\n",
       " 'stayathome': 74,\n",
       " 'httpstcousmualq72n': 75,\n",
       " 'news': 76,\n",
       " 'regionâ\\x92s': 77,\n",
       " 'first': 78,\n",
       " 'confirmed': 79,\n",
       " 'case': 80,\n",
       " 'came': 81,\n",
       " 'sullivan': 82,\n",
       " 'county': 83,\n",
       " 'last': 84,\n",
       " 'week': 85,\n",
       " 'people': 86,\n",
       " 'flocked': 87,\n",
       " 'area': 88,\n",
       " 'store': 89,\n",
       " 'purchase': 90,\n",
       " 'cleaning': 91,\n",
       " 'hand': 92,\n",
       " 'sanitizer': 93,\n",
       " 'toilet': 94,\n",
       " 'paper': 95,\n",
       " 'good': 96,\n",
       " 'timdodson': 97,\n",
       " 'report': 98,\n",
       " 'httpstcocfxch7a2lu': 99,\n",
       " 'cashier': 100,\n",
       " 'grocery': 101,\n",
       " 'sharing': 102,\n",
       " 'insight': 103,\n",
       " 'prove': 104,\n",
       " 'credibility': 105,\n",
       " 'commented': 106,\n",
       " 'civics': 107,\n",
       " 'class': 108,\n",
       " 'know': 109,\n",
       " 'talking': 110,\n",
       " 'httpstcoiefdnehgdo': 111,\n",
       " 'today': 112,\n",
       " 'didnt': 113,\n",
       " 'buy': 114,\n",
       " 'rebel': 115,\n",
       " 'toiletpapercrisis': 116,\n",
       " 'httpstcoevxkqlidaz': 117,\n",
       " 'due': 118,\n",
       " 'retail': 119,\n",
       " 'classroom': 120,\n",
       " 'atlanta': 121,\n",
       " 'open': 122,\n",
       " 'walkin': 123,\n",
       " 'business': 124,\n",
       " 'next': 125,\n",
       " 'two': 126,\n",
       " 'beginning': 127,\n",
       " 'monday': 128,\n",
       " 'march': 129,\n",
       " '16': 130,\n",
       " 'continue': 131,\n",
       " 'process': 132,\n",
       " 'normal': 133,\n",
       " 'thank': 134,\n",
       " 'understanding': 135,\n",
       " 'httpstcokw91zj5o5i': 136,\n",
       " 'corona': 137,\n",
       " 'preventionwe': 138,\n",
       " 'stop': 139,\n",
       " 'cash': 140,\n",
       " 'use': 141,\n",
       " 'payment': 142,\n",
       " 'method': 143,\n",
       " 'spread': 144,\n",
       " 'note': 145,\n",
       " 'also': 146,\n",
       " 'prefer': 147,\n",
       " 'home': 148,\n",
       " 'time': 149,\n",
       " 'fight': 150,\n",
       " 'covid': 151,\n",
       " '19': 152,\n",
       " 'govindia': 153,\n",
       " 'indiafightscorona': 154,\n",
       " 'month': 155,\n",
       " 'hasnt': 156,\n",
       " 'crowding': 157,\n",
       " 'restaurant': 158,\n",
       " 'however': 159,\n",
       " 'reducing': 160,\n",
       " 'closing': 161,\n",
       " 'mall': 162,\n",
       " 'mean': 163,\n",
       " 'using': 164,\n",
       " 'entrance': 165,\n",
       " 'dependent': 166,\n",
       " 'single': 167,\n",
       " 'manila': 168,\n",
       " 'lockdown': 169,\n",
       " 'covid2019': 170,\n",
       " 'philippine': 171,\n",
       " 'httpstcohxws9lanf9': 172,\n",
       " 'situation': 173,\n",
       " 'increased': 174,\n",
       " 'demand': 175,\n",
       " 'product': 176,\n",
       " 'wait': 177,\n",
       " 'may': 178,\n",
       " 'longer': 179,\n",
       " 'particularly': 180,\n",
       " 'beef': 181,\n",
       " 'share': 182,\n",
       " 'freezer': 183,\n",
       " 'pack': 184,\n",
       " 'patience': 185,\n",
       " 'horningsea': 186,\n",
       " 'caring': 187,\n",
       " 'community': 188,\n",
       " 'letâ\\x92s': 189,\n",
       " 'look': 190,\n",
       " 'le': 191,\n",
       " 'capable': 192,\n",
       " 'village': 193,\n",
       " 'ensure': 194,\n",
       " 'healthy': 195,\n",
       " 'bringing': 196,\n",
       " 'door': 197,\n",
       " 'help': 198,\n",
       " 'self': 199,\n",
       " 'isolation': 200,\n",
       " 'symptom': 201,\n",
       " 'exposed': 202,\n",
       " 'somebody': 203,\n",
       " 'httpstcolsgrxxhjhh': 204,\n",
       " 'ill': 205,\n",
       " 'amazon': 206,\n",
       " 'deliver': 207,\n",
       " 'whatever': 208,\n",
       " 'httpstco8ywakfjexc': 209,\n",
       " 'adara': 210,\n",
       " 'release': 211,\n",
       " 'resource': 212,\n",
       " 'center': 213,\n",
       " 'travel': 214,\n",
       " 'brand': 215,\n",
       " 'uptodate': 216,\n",
       " 'consumer': 217,\n",
       " 'behavior': 218,\n",
       " 'trend': 219,\n",
       " 'httpstcopna797jdkv': 220,\n",
       " 'httpstcodqox6usihz': 221,\n",
       " 'line': 222,\n",
       " 'unpredictable': 223,\n",
       " 'eating': 224,\n",
       " 'alternative': 225,\n",
       " 'find': 226,\n",
       " 'whether': 227,\n",
       " 'avoiding': 228,\n",
       " 'right': 229,\n",
       " 'httpstco9idzsis5oq': 230,\n",
       " 'httpstcozhbh898lf6': 231,\n",
       " '13': 232,\n",
       " 'httpstco51bl8p6vzh': 233,\n",
       " 'eyeonthearctic': 234,\n",
       " '16mar20': 235,\n",
       " 'russia': 236,\n",
       " 'surveillance': 237,\n",
       " 'watchdog': 238,\n",
       " 'reported': 239,\n",
       " 'high': 240,\n",
       " 'arctic': 241,\n",
       " 'man': 242,\n",
       " 'traveled': 243,\n",
       " 'iran': 244,\n",
       " '101': 245,\n",
       " 'observed': 246,\n",
       " 'httpstco4wnrrk9okc': 247,\n",
       " 'httpstcold05k5eyns': 248,\n",
       " 'glitch': 249,\n",
       " 'stymy': 250,\n",
       " 'whole': 251,\n",
       " 'fresh': 252,\n",
       " 'delivery': 253,\n",
       " 'â\\x93as': 254,\n",
       " 'weâ\\x92ve': 255,\n",
       " 'seen': 256,\n",
       " 'significant': 257,\n",
       " 'increase': 258,\n",
       " 'groceriesâ\\x94': 259,\n",
       " 'spokeswoman': 260,\n",
       " 'said': 261,\n",
       " 'statement': 262,\n",
       " 'â\\x93today': 263,\n",
       " 'resulted': 264,\n",
       " 'system': 265,\n",
       " 'impact': 266,\n",
       " 'affecting': 267,\n",
       " 'httpstcotbzz2mc3b3': 268,\n",
       " 'arent': 269,\n",
       " 'struggling': 270,\n",
       " 'consider': 271,\n",
       " 'donating': 272,\n",
       " 'bank': 273,\n",
       " 'nonprofit': 274,\n",
       " 'service': 275,\n",
       " 'job': 276,\n",
       " 'way': 277,\n",
       " 'life': 278,\n",
       " '100': 279,\n",
       " 'nation': 280,\n",
       " 'inficted': 281,\n",
       " 'world': 282,\n",
       " 'must': 283,\n",
       " 'play': 284,\n",
       " 'fair': 285,\n",
       " 'china': 286,\n",
       " 'goverments': 287,\n",
       " 'adopts': 288,\n",
       " 'new': 289,\n",
       " 'guilde': 290,\n",
       " 'safty': 291,\n",
       " 'chinese': 292,\n",
       " 'goverment': 293,\n",
       " 'guilty': 294,\n",
       " 'irosponcible': 295,\n",
       " 'global': 296,\n",
       " 'scale': 297,\n",
       " 'httpstcoavkrr9syff': 298,\n",
       " 'pandemic': 299,\n",
       " 'impacting': 300,\n",
       " 'decision': 301,\n",
       " 'sale': 302,\n",
       " 'according': 303,\n",
       " 'study': 304,\n",
       " 'amazing': 305,\n",
       " 'cheap': 306,\n",
       " 'deal': 307,\n",
       " 'going': 308,\n",
       " 'trial': 309,\n",
       " 'monthly': 310,\n",
       " 'yearly': 311,\n",
       " 'resonable': 312,\n",
       " 'price': 313,\n",
       " 'subscription': 314,\n",
       " 'dm': 315,\n",
       " 'u': 316,\n",
       " 'bestiptv': 317,\n",
       " 'iptv': 318,\n",
       " 'iptvdeals': 319,\n",
       " 'football': 320,\n",
       " 'hd': 321,\n",
       " 'movie': 322,\n",
       " 'adult': 323,\n",
       " 'cinema': 324,\n",
       " 'hotmovies': 325,\n",
       " 'iptvnew': 326,\n",
       " 'iptv2020': 327,\n",
       " 'iptvlinks': 328,\n",
       " '18movies': 329,\n",
       " '10downingstreet': 330,\n",
       " 'grantshapps': 331,\n",
       " 'done': 332,\n",
       " 'essential': 333,\n",
       " 'restocked': 334,\n",
       " 'buying': 335,\n",
       " 'actively': 336,\n",
       " 'discouraged': 337,\n",
       " 'cannot': 338,\n",
       " 'left': 339,\n",
       " 'checkout': 340,\n",
       " 'staff': 341,\n",
       " 'police': 342,\n",
       " 'action': 343,\n",
       " 'selfish': 344,\n",
       " 'profiteer': 345,\n",
       " 'uk': 346,\n",
       " 'poll': 347,\n",
       " 'indicates': 348,\n",
       " 'majority': 349,\n",
       " 'expect': 350,\n",
       " 'covid19s': 351,\n",
       " '412': 352,\n",
       " '12': 353,\n",
       " 'tracker': 354,\n",
       " 'see': 355,\n",
       " 'full': 356,\n",
       " 'result': 357,\n",
       " 'retailx': 358,\n",
       " 'confidence': 359,\n",
       " 'httpstcok3ujlcjqdb': 360,\n",
       " 'httpstco9g3kgqixj8': 361,\n",
       " 'preparation': 362,\n",
       " 'higher': 363,\n",
       " 'potential': 364,\n",
       " 'hunger': 365,\n",
       " 'coalition': 366,\n",
       " 'purchased': 367,\n",
       " '10': 368,\n",
       " 'percent': 369,\n",
       " 'implemented': 370,\n",
       " 'protocol': 371,\n",
       " 'httpstco5cecytlnyn': 372,\n",
       " 'morning': 373,\n",
       " 'tested': 374,\n",
       " 'positive': 375,\n",
       " 'feel': 376,\n",
       " 'ok': 377,\n",
       " 'far': 378,\n",
       " 'isolated': 379,\n",
       " 'since': 380,\n",
       " 'found': 381,\n",
       " 'possible': 382,\n",
       " 'exposure': 383,\n",
       " 'virus': 384,\n",
       " 'pragmatic': 385,\n",
       " 'keep': 386,\n",
       " 'updated': 387,\n",
       " 'iâ\\x92m': 388,\n",
       " 'httpstcolg7hvmzglz': 389,\n",
       " 'malicious': 390,\n",
       " 'nyc': 391,\n",
       " 'department': 392,\n",
       " 'worker': 393,\n",
       " 'protection': 394,\n",
       " 'dcwp': 395,\n",
       " 'page': 396,\n",
       " 'digitally': 397,\n",
       " 'file': 398,\n",
       " 'complaint': 399,\n",
       " 'click': 400,\n",
       " 'httpstcooex6y8mm2k': 401,\n",
       " 'wordovercharge': 402,\n",
       " 'httpstcomdmmobttop': 403,\n",
       " 'covidnyc': 404,\n",
       " '7sealsoftheend': 405,\n",
       " 'soon': 406,\n",
       " 'dwindling': 407,\n",
       " 'unlawful': 408,\n",
       " 'panicky': 409,\n",
       " 'breaking': 410,\n",
       " 'closed': 411,\n",
       " 'amp': 412,\n",
       " 'raid': 413,\n",
       " 'normally': 414,\n",
       " 'crisis': 415,\n",
       " 'massive': 416,\n",
       " 'stockupamplockup': 417,\n",
       " 'country': 418,\n",
       " 'shelf': 419,\n",
       " 'ensues': 420,\n",
       " 'hole': 421,\n",
       " 'image': 422,\n",
       " 'nicest': 423,\n",
       " 'richest': 424,\n",
       " 'neighborhood': 425,\n",
       " 'united': 426,\n",
       " 'state': 427,\n",
       " 'httpstcownqsomtkvi': 428,\n",
       " 'breakingnews': 429,\n",
       " 'coronavirusoutbreak': 430,\n",
       " 'collapse': 431,\n",
       " 'closure': 432,\n",
       " 'could': 433,\n",
       " 'explode': 434,\n",
       " 'via': 435,\n",
       " 'cnbc': 436,\n",
       " 'brickandmortar': 437,\n",
       " 'httpstcohqryrnxfhv': 438,\n",
       " 'httpstcog5uzn06gb6': 439,\n",
       " 'fun': 440,\n",
       " 'fact': 441,\n",
       " 'cough': 442,\n",
       " 'get': 443,\n",
       " 'aisle': 444,\n",
       " 'pretty': 445,\n",
       " 'quickly': 446,\n",
       " 'sorry': 447,\n",
       " 'say': 448,\n",
       " 'finfabuk': 449,\n",
       " 'event': 450,\n",
       " 'cancelled': 451,\n",
       " 'health': 452,\n",
       " 'wellbeing': 453,\n",
       " 'attendee': 454,\n",
       " 'speaker': 455,\n",
       " 'top': 456,\n",
       " 'priority': 457,\n",
       " 'apology': 458,\n",
       " 'disappointment': 459,\n",
       " 'faq': 460,\n",
       " 'answered': 461,\n",
       " 'link': 462,\n",
       " 'httpstcogddptudcvj': 463,\n",
       " 'went': 464,\n",
       " 'yesterday': 465,\n",
       " 'gone': 466,\n",
       " 'anything': 467,\n",
       " 'yes': 468,\n",
       " 'whats': 469,\n",
       " 'point': 470,\n",
       " 'posting': 471,\n",
       " 'photo': 472,\n",
       " 'load': 473,\n",
       " 'stuff': 474,\n",
       " 'parent': 475,\n",
       " 'kid': 476,\n",
       " 'sibling': 477,\n",
       " 'etc': 478,\n",
       " 'cant': 479,\n",
       " 'everything': 480,\n",
       " 'viral': 481,\n",
       " 'alr': 482,\n",
       " 'worried': 483,\n",
       " 'current': 484,\n",
       " 'finance': 485,\n",
       " 'published': 486,\n",
       " 'tip': 487,\n",
       " 'manage': 488,\n",
       " 'money': 489,\n",
       " 'challenging': 490,\n",
       " 'httpstco3jkk3cqxfq': 491,\n",
       " 'httpstcoebenurmmjs': 492,\n",
       " 'wife': 493,\n",
       " 'work': 494,\n",
       " 'retailampa': 495,\n",
       " 'customer': 496,\n",
       " 'coughing': 497,\n",
       " 'everywhere': 498,\n",
       " 'saying': 499,\n",
       " 'requested': 500,\n",
       " 'deep': 501,\n",
       " 'clean': 502,\n",
       " 'company': 503,\n",
       " 'objected': 504,\n",
       " 'cost': 505,\n",
       " 'recommending': 506,\n",
       " 'team': 507,\n",
       " 'spray': 508,\n",
       " 'disinfectantampclean': 509,\n",
       " 'gonna': 510,\n",
       " 'dieget': 511,\n",
       " 'sick': 512,\n",
       " 'capitalism': 513,\n",
       " 'like': 514,\n",
       " 'without': 515,\n",
       " 'judged': 516,\n",
       " 'httpstcokrtcgiuhqs': 517,\n",
       " 'provide': 518,\n",
       " 'experience': 519,\n",
       " 'environment': 520,\n",
       " 'associate': 521,\n",
       " 'placed': 522,\n",
       " 'httpstcodcsxhuj3u0': 523,\n",
       " 'jlmco': 524,\n",
       " 'jlmcobrand': 525,\n",
       " 'coronapocolypse': 526,\n",
       " 'shoponline': 527,\n",
       " 'httpstcorinkwskers': 528,\n",
       " 'curious': 529,\n",
       " 'think': 530,\n",
       " 'shopper': 531,\n",
       " 'lot': 532,\n",
       " 'bc': 533,\n",
       " 'theyre': 534,\n",
       " 'unable': 535,\n",
       " 'spooked': 536,\n",
       " 'extra': 537,\n",
       " 'pair': 538,\n",
       " 'shoe': 539,\n",
       " 'economy': 540,\n",
       " 'onlineshopping': 541,\n",
       " 'stayhome': 542,\n",
       " 'check': 543,\n",
       " 'video': 544,\n",
       " 'httpstco1ksn9brl02': 545,\n",
       " 'usa': 546,\n",
       " 'market': 547,\n",
       " 'die': 548,\n",
       " 'starvation': 549,\n",
       " 'houston': 550,\n",
       " 'nofood': 551,\n",
       " 'notoiletpaper': 552,\n",
       " 'nohandshakes': 553,\n",
       " 'nohandsanitizer': 554,\n",
       " 'totallockdown': 555,\n",
       " 'covid2019usa': 556,\n",
       " 'walmart': 557,\n",
       " 'httpstcoztn3imkgpd': 558,\n",
       " 'story': 559,\n",
       " 'clothes': 560,\n",
       " 'rise': 561,\n",
       " 'mysterious': 562,\n",
       " 'white': 563,\n",
       " 'patch': 564,\n",
       " 'forming': 565,\n",
       " 'quarantinelife': 566,\n",
       " 'imadethisup': 567,\n",
       " 'fakenews': 568,\n",
       " 'httpstco5z24hptt9m': 569,\n",
       " 'outside': 570,\n",
       " 'target': 571,\n",
       " 'south': 572,\n",
       " 'african': 573,\n",
       " 'basic': 574,\n",
       " 'hit': 575,\n",
       " 'httpstco6ngnfjmy89': 576,\n",
       " 'coronavirussa': 577,\n",
       " 'httpstcopziro10avf': 578,\n",
       " 'someone': 579,\n",
       " '65': 580,\n",
       " 'living': 581,\n",
       " '2': 582,\n",
       " 'local': 583,\n",
       " 'issue': 584,\n",
       " 'around': 585,\n",
       " 'offering': 586,\n",
       " 'free': 587,\n",
       " 'soup': 588,\n",
       " 'nationwide': 589,\n",
       " 'anyone': 590,\n",
       " 'plus': 591,\n",
       " 'freezable': 592,\n",
       " 'half': 593,\n",
       " 'completely': 594,\n",
       " 'calling': 595,\n",
       " 'dumb': 596,\n",
       " 'idiot': 597,\n",
       " 'lol': 598,\n",
       " 'never': 599,\n",
       " 'thought': 600,\n",
       " 'id': 601,\n",
       " '2019': 602,\n",
       " 'come': 603,\n",
       " 'back': 604,\n",
       " 'peoplearelosingtheirminds': 605,\n",
       " 'stopthemadness': 606,\n",
       " 'stoppanicbuying': 607,\n",
       " 'restriction': 608,\n",
       " 'sparking': 609,\n",
       " 'run': 610,\n",
       " 'cannabis': 611,\n",
       " 'yet': 612,\n",
       " 'stocking': 613,\n",
       " 'weekend': 614,\n",
       " 'preparing': 615,\n",
       " 'coming': 616,\n",
       " 'day': 617,\n",
       " 'httpstcowmqr8qwoig': 618,\n",
       " 'weâ\\x92re': 619,\n",
       " 'seeing': 620,\n",
       " 'previous': 621,\n",
       " 'epidemic': 622,\n",
       " 'fear': 623,\n",
       " 'racism': 624,\n",
       " 'medicine': 625,\n",
       " 'conspiracy': 626,\n",
       " 'theory': 627,\n",
       " 'proliferation': 628,\n",
       " 'quack': 629,\n",
       " 'cure': 630,\n",
       " 'httpstcopr8npkx41a': 631,\n",
       " 'remain': 632,\n",
       " 'emergency': 633,\n",
       " 'socialdistancing': 634,\n",
       " 'httpstcowtb0b1amon': 635,\n",
       " 'water': 636,\n",
       " 'utility': 637,\n",
       " 'shut': 638,\n",
       " 'middle': 639,\n",
       " 'close': 640,\n",
       " 'thier': 641,\n",
       " 'lose': 642,\n",
       " 'canâ\\x92t': 643,\n",
       " 'afford': 644,\n",
       " 'worth': 645,\n",
       " 'senatorromney': 646,\n",
       " 'httpstco0cv0793ols': 647,\n",
       " 'dear': 648,\n",
       " 'ive': 649,\n",
       " 'following': 650,\n",
       " 'social': 651,\n",
       " 'distancing': 652,\n",
       " 'rule': 653,\n",
       " 'staying': 654,\n",
       " 'prevent': 655,\n",
       " 'spent': 656,\n",
       " 'alarming': 657,\n",
       " 'amount': 658,\n",
       " 'submit': 659,\n",
       " 'expense': 660,\n",
       " 'reimbursement': 661,\n",
       " 'let': 662,\n",
       " 'intensified': 663,\n",
       " 'across': 664,\n",
       " 'several': 665,\n",
       " 'geography': 666,\n",
       " 'downward': 667,\n",
       " 'pressure': 668,\n",
       " 'continued': 669,\n",
       " 'well': 670,\n",
       " 'supplied': 671,\n",
       " 'negative': 672,\n",
       " 'resulting': 673,\n",
       " 'great': 674,\n",
       " 'bekind': 675,\n",
       " 'mufc': 676,\n",
       " 'mufcfamily': 677,\n",
       " 'important': 678,\n",
       " 'youre': 679,\n",
       " 'afraid': 680,\n",
       " 'worst': 681,\n",
       " 'scenario': 682,\n",
       " 'wash': 683,\n",
       " 'tub': 684,\n",
       " 'yall': 685,\n",
       " 'crazy': 686,\n",
       " 'clerk': 687,\n",
       " 'looked': 688,\n",
       " 'weary': 689,\n",
       " 'eye': 690,\n",
       " 'thanked': 691,\n",
       " 'realized': 692,\n",
       " 'thrust': 693,\n",
       " 'front': 694,\n",
       " 'panick': 695,\n",
       " 'breed': 696,\n",
       " 'responder': 697,\n",
       " 'working': 698,\n",
       " 'hard': 699,\n",
       " 'serve': 700,\n",
       " 'entire': 701,\n",
       " 'shop': 702,\n",
       " 'malaysia': 703,\n",
       " 'facing': 704,\n",
       " 'challenge': 705,\n",
       " 'near': 706,\n",
       " 'future': 707,\n",
       " 'surprise': 708,\n",
       " 'many': 709,\n",
       " 'lost': 710,\n",
       " 'malaysia2020': 711,\n",
       " 'httpstcobpodddprce': 712,\n",
       " 'corner': 713,\n",
       " 'scammer': 714,\n",
       " 'taking': 715,\n",
       " 'advantage': 716,\n",
       " 'cdc': 717,\n",
       " 'flu': 718,\n",
       " 'alert': 719,\n",
       " 'httpstcosk9qcjsnyl': 720,\n",
       " 'httpstcot7qejp3hys': 721,\n",
       " '4': 722,\n",
       " 'mask': 723,\n",
       " 'made': 724,\n",
       " 'medical': 725,\n",
       " 'personnel': 726,\n",
       " 'require': 727,\n",
       " 'onceobscure': 728,\n",
       " 'material': 729,\n",
       " 'called': 730,\n",
       " 'meltblown': 731,\n",
       " 'fabric': 732,\n",
       " 'httpstco3hcd9iiwox': 733,\n",
       " 'capitalizing': 734,\n",
       " 'packaged': 735,\n",
       " 'making': 736,\n",
       " 'opposed': 737,\n",
       " 'safety': 738,\n",
       " 'lockdowncanada': 739,\n",
       " 'feeling': 740,\n",
       " 'ethical': 741,\n",
       " 'still': 742,\n",
       " 'ship': 743,\n",
       " 'care': 744,\n",
       " 'package': 745,\n",
       " 'loved': 746,\n",
       " '2k': 747,\n",
       " 'told': 748,\n",
       " 'pymnts': 749,\n",
       " 'changed': 750,\n",
       " 'daily': 751,\n",
       " 'httpstcoybg8zupdf6': 752,\n",
       " 'bought': 753,\n",
       " 'house': 754,\n",
       " 'didnâ\\x92t': 755,\n",
       " 'tragic': 756,\n",
       " 'facebook': 757,\n",
       " 'group': 758,\n",
       " 'increasing': 759,\n",
       " 'itâ\\x92s': 760,\n",
       " 'frankly': 761,\n",
       " 'despicable': 762,\n",
       " 'totally': 763,\n",
       " 'void': 764,\n",
       " 'spirit': 765,\n",
       " 'nameandshame': 766,\n",
       " 'covid19uk': 767,\n",
       " 'liverpool': 768,\n",
       " 'httpstcosttakyqqiz': 769,\n",
       " 'bobjlowe': 770,\n",
       " 'sadly': 771,\n",
       " 'misinformed': 772,\n",
       " 'thinking': 773,\n",
       " 'diarrhoea': 774,\n",
       " 'therefore': 775,\n",
       " 'stockpile': 776,\n",
       " 'atm': 777,\n",
       " 'hygiene': 778,\n",
       " 'tinamccauley70': 779,\n",
       " 'yeah': 780,\n",
       " 'risky': 781,\n",
       " 'thatâ\\x92s': 782,\n",
       " 'really': 783,\n",
       " 'necessary': 784,\n",
       " 'cn': 785,\n",
       " 'mum': 786,\n",
       " 'live': 787,\n",
       " 'shielded': 788,\n",
       " '3': 789,\n",
       " 'hope': 790,\n",
       " 'kind': 791,\n",
       " 'word': 792,\n",
       " 'make': 793,\n",
       " 'sound': 794,\n",
       " 'anymore': 795,\n",
       " 'donâ\\x92t': 796,\n",
       " 'b': 797,\n",
       " 'necessity': 798,\n",
       " 'thereâ\\x92s': 799,\n",
       " 'nothing': 800,\n",
       " 'hi': 801,\n",
       " 'thanks': 802,\n",
       " 'scare': 803,\n",
       " 'sends': 804,\n",
       " 'seafood': 805,\n",
       " 'skyrocketing': 806,\n",
       " 'mumbai': 807,\n",
       " 'gtgt': 808,\n",
       " 'httpstcogb11efbyib': 809,\n",
       " 'coronavirusreachesdelhi': 810,\n",
       " 'coronavid19': 811,\n",
       " 'coronavirusupdates': 812,\n",
       " 'jhalakbollywood': 813,\n",
       " 'jhalakkollywood': 814,\n",
       " 'jhalaktollywood': 815,\n",
       " 'httpstcou5dg3lofyg': 816,\n",
       " 'pausing': 817,\n",
       " 'student': 818,\n",
       " 'loan': 819,\n",
       " 'addition': 820,\n",
       " 'halting': 821,\n",
       " 'interest': 822,\n",
       " 'accumulation': 823,\n",
       " 'stopping': 824,\n",
       " 'punitive': 825,\n",
       " 'collection': 826,\n",
       " 'would': 827,\n",
       " 'much': 828,\n",
       " 'needed': 829,\n",
       " 'immediate': 830,\n",
       " 'relief': 831,\n",
       " 'individual': 832,\n",
       " 'economic': 833,\n",
       " 'hardship': 834,\n",
       " 'balajis': 835,\n",
       " 'side': 836,\n",
       " 'tech': 837,\n",
       " 'already': 838,\n",
       " 'demostrated': 839,\n",
       " 'elisa': 840,\n",
       " 'test': 841,\n",
       " 'strip': 842,\n",
       " 'though': 843,\n",
       " 'detail': 844,\n",
       " 'lacking': 845,\n",
       " 'usfda': 846,\n",
       " 'deem': 847,\n",
       " 'waived': 848,\n",
       " 'doesnâ\\x92t': 849,\n",
       " 'easily': 850,\n",
       " 'wage': 851,\n",
       " 'either': 852,\n",
       " 'illness': 853,\n",
       " 'urge': 854,\n",
       " 'support': 855,\n",
       " 'bill': 856,\n",
       " 'includes': 857,\n",
       " 'flexibility': 858,\n",
       " 'meal': 859,\n",
       " 'ceo': 860,\n",
       " '79': 861,\n",
       " 'show': 862,\n",
       " 'saw': 863,\n",
       " 'young': 864,\n",
       " 'couple': 865,\n",
       " '300': 866,\n",
       " 'roll': 867,\n",
       " 'tp': 868,\n",
       " 'crap': 869,\n",
       " 'maybe': 870,\n",
       " 'httpstcohrbzmh95vq': 871,\n",
       " 'pose': 872,\n",
       " 'complex': 873,\n",
       " 'puzzle': 874,\n",
       " 'fooddelivery': 875,\n",
       " 'capacity': 876,\n",
       " 'buckle': 877,\n",
       " 'surging': 878,\n",
       " 'httpstco1c1cmlmqii': 879,\n",
       " 'wsj': 880,\n",
       " 'thejoshuaturner': 881,\n",
       " 'loreign83': 882,\n",
       " 'peanutastro': 883,\n",
       " 'myamigouk': 884,\n",
       " 'afneil': 885,\n",
       " 'borisjohnson': 886,\n",
       " 'patel4witham': 887,\n",
       " 'disgusting': 888,\n",
       " 'disgraceful': 889,\n",
       " 'charging': 890,\n",
       " 'inflated': 891,\n",
       " 'item': 892,\n",
       " 'government': 893,\n",
       " 'something': 894,\n",
       " 'abou': 895,\n",
       " 'retailer': 896,\n",
       " 'physical': 897,\n",
       " 'curtail': 898,\n",
       " 'agoing': 899,\n",
       " 'put': 900,\n",
       " 'additional': 901,\n",
       " 'omnichannel': 902,\n",
       " 'curbside': 903,\n",
       " 'pick': 904,\n",
       " 'httpstcokgydow3nrz': 905,\n",
       " 'ecommerce': 906,\n",
       " 'digital': 907,\n",
       " 'folk': 908,\n",
       " 'cal': 909,\n",
       " 'idea': 910,\n",
       " 'la': 911,\n",
       " 'habra': 912,\n",
       " 'offer': 913,\n",
       " 'special': 914,\n",
       " 'senior': 915,\n",
       " 'httpstconctxf8tgyf': 916,\n",
       " 'love': 917,\n",
       " 'hate': 918,\n",
       " 'head': 919,\n",
       " 'blip': 920,\n",
       " 'happening': 921,\n",
       " 'whinge': 922,\n",
       " 'wont': 923,\n",
       " 'spend': 924,\n",
       " 'common': 925,\n",
       " 'sense': 926,\n",
       " 'worldhealthorg2': 927,\n",
       " 'letter': 928,\n",
       " 'consumerdebt': 929,\n",
       " 'holding': 930,\n",
       " 'organization': 931,\n",
       " 'others': 932,\n",
       " 'precipice': 933,\n",
       " 'household': 934,\n",
       " 'suspend': 935,\n",
       " 'debt': 936,\n",
       " 'interestfees': 937,\n",
       " 'sixty': 938,\n",
       " 'response': 939,\n",
       " 'sign': 940,\n",
       " 'httpstcojmzzjomnt9': 941,\n",
       " 'httpstcoyr2tcpx1ee': 942,\n",
       " 'covid19aus': 943,\n",
       " 'wanted': 944,\n",
       " 'older': 945,\n",
       " 'australian': 946,\n",
       " 'mobile': 947,\n",
       " 'httpstcoydgx4lk8l0': 948,\n",
       " 'heard': 949,\n",
       " 'payer': 950,\n",
       " 'exec': 951,\n",
       " 'laying': 952,\n",
       " 'low': 953,\n",
       " 'hoping': 954,\n",
       " 'blow': 955,\n",
       " 'mind': 956,\n",
       " 'bogglingly': 957,\n",
       " 'stupid': 958,\n",
       " 'blue': 959,\n",
       " 'plan': 960,\n",
       " 'httpstcozr67d1u12q': 961,\n",
       " 'frank': 962,\n",
       " 'bread': 963,\n",
       " 'shelve': 964,\n",
       " 'worry': 965,\n",
       " 'pal': 966,\n",
       " 'iâ\\x92ve': 967,\n",
       " 'saved': 968,\n",
       " '1': 969,\n",
       " 'pat': 970,\n",
       " 'n': 971,\n",
       " 'bean': 972,\n",
       " 'disciplined': 973,\n",
       " 'got': 974,\n",
       " 'attempt': 975,\n",
       " 'lengthen': 976,\n",
       " 'runway': 977,\n",
       " 'marketing': 978,\n",
       " 'budget': 979,\n",
       " 'slashed': 980,\n",
       " 'hiring': 981,\n",
       " 'frozen': 982,\n",
       " 'staffing': 983,\n",
       " 'matrix': 984,\n",
       " 'redrawn': 985,\n",
       " 'dive': 986,\n",
       " 'startup': 987,\n",
       " 'battling': 988,\n",
       " 'â\\x93at': 989,\n",
       " 'distillery': 990,\n",
       " 'remains': 991,\n",
       " 'operation': 992,\n",
       " 'public': 993,\n",
       " 'tour': 994,\n",
       " 'hosting': 995,\n",
       " 'function': 996,\n",
       " 'httpstcolyzg2kfsm0': 997,\n",
       " 'hoard': 998,\n",
       " 'there': 999,\n",
       " 'absolutely': 1000,\n",
       " ...}"
      ]
     },
     "execution_count": 23,
     "metadata": {},
     "output_type": "execute_result"
    }
   ],
   "source": [
    "dictionary"
   ]
  },
  {
   "cell_type": "code",
   "execution_count": 24,
   "id": "c50a721f",
   "metadata": {
    "execution": {
     "iopub.execute_input": "2022-03-05T23:37:03.383601Z",
     "iopub.status.busy": "2022-03-05T23:37:03.357714Z",
     "iopub.status.idle": "2022-03-05T23:37:03.398823Z",
     "shell.execute_reply": "2022-03-05T23:37:03.398339Z",
     "shell.execute_reply.started": "2022-03-05T23:08:32.591922Z"
    },
    "papermill": {
     "duration": 0.079154,
     "end_time": "2022-03-05T23:37:03.398945",
     "exception": false,
     "start_time": "2022-03-05T23:37:03.319791",
     "status": "completed"
    },
    "tags": []
   },
   "outputs": [
    {
     "data": {
      "text/plain": [
       "['question',\n",
       " 'medical',\n",
       " 'expert',\n",
       " 'could',\n",
       " 'covid19',\n",
       " 'passed',\n",
       " 'standing',\n",
       " 'behind',\n",
       " 'smoker',\n",
       " 'amp',\n",
       " 'vapers',\n",
       " 'supermarket',\n",
       " 'queue',\n",
       " 'inhaling',\n",
       " 'exhaled',\n",
       " 'smokevapour',\n",
       " 'pas',\n",
       " 'open',\n",
       " 'place',\n",
       " 'output',\n",
       " 'easily',\n",
       " 'extends',\n",
       " 'beyond',\n",
       " '2m',\n",
       " 'banned',\n",
       " 'outside',\n",
       " 'temporarily',\n",
       " 'coronavirus']"
      ]
     },
     "execution_count": 24,
     "metadata": {},
     "output_type": "execute_result"
    }
   ],
   "source": [
    "x_valid.reset_index()[\"OriginalTweet\"].loc[0].split() "
   ]
  },
  {
   "cell_type": "code",
   "execution_count": 25,
   "id": "fa0c5b54",
   "metadata": {
    "execution": {
     "iopub.execute_input": "2022-03-05T23:37:03.383601Z",
     "iopub.status.busy": "2022-03-05T23:37:03.357714Z",
     "iopub.status.idle": "2022-03-05T23:37:03.398823Z",
     "shell.execute_reply": "2022-03-05T23:37:03.398339Z",
     "shell.execute_reply.started": "2022-03-05T23:08:32.591922Z"
    },
    "papermill": {
     "duration": 0.079154,
     "end_time": "2022-03-05T23:37:03.398945",
     "exception": false,
     "start_time": "2022-03-05T23:37:03.319791",
     "status": "completed"
    },
    "tags": []
   },
   "outputs": [
    {
     "name": "stdout",
     "output_type": "stream",
     "text": [
      "2050\n",
      "725\n",
      "3850\n",
      "433\n",
      "40\n",
      "4083\n",
      "2910\n",
      "3069\n",
      "8201\n",
      "412\n",
      "47337\n",
      "64\n",
      "1410\n",
      "8202\n",
      "56883\n",
      "56884\n",
      "2961\n",
      "122\n",
      "2115\n",
      "9220\n",
      "850\n",
      "12746\n",
      "2256\n",
      "27801\n",
      "3482\n",
      "570\n",
      "1250\n",
      "31\n"
     ]
    }
   ],
   "source": [
    "for word in x_valid.reset_index()[\"OriginalTweet\"].loc[0].split() :\n",
    "    print(dictionary[word])"
   ]
  },
  {
   "cell_type": "code",
   "execution_count": 26,
   "id": "753eb913",
   "metadata": {
    "execution": {
     "iopub.execute_input": "2022-03-05T23:37:03.383601Z",
     "iopub.status.busy": "2022-03-05T23:37:03.357714Z",
     "iopub.status.idle": "2022-03-05T23:37:03.398823Z",
     "shell.execute_reply": "2022-03-05T23:37:03.398339Z",
     "shell.execute_reply.started": "2022-03-05T23:08:32.591922Z"
    },
    "papermill": {
     "duration": 0.079154,
     "end_time": "2022-03-05T23:37:03.398945",
     "exception": false,
     "start_time": "2022-03-05T23:37:03.319791",
     "status": "completed"
    },
    "tags": []
   },
   "outputs": [
    {
     "data": {
      "text/plain": [
       "tensor([ 2050,   725,  3850,   433,    40,  4083,  2910,  3069,  8201,   412,\n",
       "        47337,    64,  1410,  8202, 56883, 56884,  2961,   122,  2115,  9220,\n",
       "          850, 12746,  2256, 27801,  3482,   570,  1250,    31,     0,     0,\n",
       "            0,     0,     0,     0,     0,     0,     0,     0,     0,     0,\n",
       "            0,     0,     0,     0,     0,     0], dtype=torch.int32)"
      ]
     },
     "execution_count": 26,
     "metadata": {},
     "output_type": "execute_result"
    }
   ],
   "source": [
    "x[0]"
   ]
  },
  {
   "cell_type": "code",
   "execution_count": 27,
   "id": "a0a6d67f",
   "metadata": {
    "execution": {
     "iopub.execute_input": "2022-03-05T23:37:03.383601Z",
     "iopub.status.busy": "2022-03-05T23:37:03.357714Z",
     "iopub.status.idle": "2022-03-05T23:37:03.398823Z",
     "shell.execute_reply": "2022-03-05T23:37:03.398339Z",
     "shell.execute_reply.started": "2022-03-05T23:08:32.591922Z"
    },
    "papermill": {
     "duration": 0.079154,
     "end_time": "2022-03-05T23:37:03.398945",
     "exception": false,
     "start_time": "2022-03-05T23:37:03.319791",
     "status": "completed"
    },
    "tags": []
   },
   "outputs": [
    {
     "data": {
      "text/plain": [
       "1"
      ]
     },
     "execution_count": 27,
     "metadata": {},
     "output_type": "execute_result"
    }
   ],
   "source": [
    "y_valid.reset_index()[\"Sentiment\"].loc[0]"
   ]
  },
  {
   "cell_type": "code",
   "execution_count": 28,
   "id": "cd222bfe",
   "metadata": {
    "execution": {
     "iopub.execute_input": "2022-03-05T23:37:03.383601Z",
     "iopub.status.busy": "2022-03-05T23:37:03.357714Z",
     "iopub.status.idle": "2022-03-05T23:37:03.398823Z",
     "shell.execute_reply": "2022-03-05T23:37:03.398339Z",
     "shell.execute_reply.started": "2022-03-05T23:08:32.591922Z"
    },
    "papermill": {
     "duration": 0.079154,
     "end_time": "2022-03-05T23:37:03.398945",
     "exception": false,
     "start_time": "2022-03-05T23:37:03.319791",
     "status": "completed"
    },
    "tags": []
   },
   "outputs": [
    {
     "data": {
      "text/plain": [
       "1"
      ]
     },
     "execution_count": 28,
     "metadata": {},
     "output_type": "execute_result"
    }
   ],
   "source": [
    "y[0].item()"
   ]
  },
  {
   "cell_type": "markdown",
   "id": "ad2866d6",
   "metadata": {
    "papermill": {
     "duration": 0.014335,
     "end_time": "2022-03-05T23:37:03.427502",
     "exception": false,
     "start_time": "2022-03-05T23:37:03.413167",
     "status": "completed"
    },
    "tags": []
   },
   "source": [
    "# 3. Model"
   ]
  },
  {
   "cell_type": "code",
   "execution_count": 29,
   "id": "a512a861",
   "metadata": {
    "execution": {
     "iopub.execute_input": "2022-03-05T23:37:03.466333Z",
     "iopub.status.busy": "2022-03-05T23:37:03.465518Z",
     "iopub.status.idle": "2022-03-05T23:37:03.467416Z",
     "shell.execute_reply": "2022-03-05T23:37:03.467814Z",
     "shell.execute_reply.started": "2022-03-05T23:20:44.372994Z"
    },
    "papermill": {
     "duration": 0.026245,
     "end_time": "2022-03-05T23:37:03.467936",
     "exception": false,
     "start_time": "2022-03-05T23:37:03.441691",
     "status": "completed"
    },
    "tags": []
   },
   "outputs": [
    {
     "data": {
      "text/plain": [
       "(torch.Size([64, 46]), 64)"
      ]
     },
     "execution_count": 29,
     "metadata": {},
     "output_type": "execute_result"
    }
   ],
   "source": [
    "x.shape, len(y)"
   ]
  },
  {
   "cell_type": "code",
   "execution_count": 30,
   "id": "a018efd0",
   "metadata": {
    "execution": {
     "iopub.execute_input": "2022-03-05T23:37:03.466333Z",
     "iopub.status.busy": "2022-03-05T23:37:03.465518Z",
     "iopub.status.idle": "2022-03-05T23:37:03.467416Z",
     "shell.execute_reply": "2022-03-05T23:37:03.467814Z",
     "shell.execute_reply.started": "2022-03-05T23:20:44.372994Z"
    },
    "papermill": {
     "duration": 0.026245,
     "end_time": "2022-03-05T23:37:03.467936",
     "exception": false,
     "start_time": "2022-03-05T23:37:03.441691",
     "status": "completed"
    },
    "tags": []
   },
   "outputs": [
    {
     "name": "stdout",
     "output_type": "stream",
     "text": [
      "TextClassifier(\n",
      "  (dropout): Dropout(p=0.5, inplace=False)\n",
      "  (embedding): Embedding(83194, 512, padding_idx=0)\n",
      "  (lstm): LSTM(512, 512, num_layers=2, batch_first=True, dropout=0.5, bidirectional=True)\n",
      "  (fc1): Linear(in_features=2048, out_features=512, bias=True)\n",
      "  (fc2): Linear(in_features=512, out_features=3, bias=True)\n",
      ")\n"
     ]
    }
   ],
   "source": [
    "EMBEDDING_DIM = 512\n",
    "HIDDEN_DIM = 512\n",
    "LSTM_LAYERS = 2\n",
    "\n",
    "class TextClassifier(nn.ModuleList):\n",
    "    \"\"\"\n",
    "    LSTM Network definition\n",
    "    \"\"\"\n",
    "    def __init__(self):\n",
    "        super(TextClassifier, self).__init__()\n",
    "\n",
    "        self.batch_size = BATCH_SIZE\n",
    "        self.embedding_dim = EMBEDDING_DIM\n",
    "        self.hidden_dim = HIDDEN_DIM\n",
    "        self.LSTM_layers = LSTM_LAYERS\n",
    "        self.input_size = INPUT_SIZE\n",
    "        self.max_seq_len = max_seq_len\n",
    "\n",
    "        self.dropout = nn.Dropout(DROPOUT)\n",
    "        self.embedding = nn.Embedding(num_embeddings=self.input_size, embedding_dim=self.embedding_dim, padding_idx=0)\n",
    "        \n",
    "        self.lstm = nn.LSTM(input_size=self.embedding_dim, hidden_size=self.hidden_dim, dropout=DROPOUT,\n",
    "                            num_layers=self.LSTM_layers, batch_first=True, bidirectional=True)\n",
    "        self.fc1 = nn.Linear(in_features=self.hidden_dim*4, out_features=512)\n",
    "        self.fc2 = nn.Linear(512, 3)\n",
    "    \n",
    "\n",
    "    def forward(self, x):        \n",
    "        embedded = self.embedding(x)\n",
    "\n",
    "        out, (hidden, cell) = self.lstm(embedded)\n",
    "\n",
    "        concat_hidden = torch.cat((hidden[0], hidden[1]), dim=1)\n",
    "        concat_cell = torch.cat((cell[0], cell[1]), dim=1)\n",
    "        all_states = torch.cat((concat_hidden, concat_cell), dim=1)\n",
    "        out = torch.relu_(self.fc1(all_states))\n",
    "        out = self.dropout(out)\n",
    "        out = self.fc2(out)\n",
    "        return out.squeeze()\n",
    "\n",
    "# Identify device\n",
    "device = torch.device('cuda' if torch.cuda.is_available() else 'cpu')\n",
    "\n",
    "# Model initialization\n",
    "model = TextClassifier().to(device)\n",
    "print(model)"
   ]
  },
  {
   "cell_type": "code",
   "execution_count": 31,
   "id": "65a1b049",
   "metadata": {
    "execution": {
     "iopub.execute_input": "2022-03-05T23:37:03.586794Z",
     "iopub.status.busy": "2022-03-05T23:37:03.586192Z",
     "iopub.status.idle": "2022-03-05T23:37:07.128124Z",
     "shell.execute_reply": "2022-03-05T23:37:07.127243Z",
     "shell.execute_reply.started": "2022-03-05T23:20:44.868691Z"
    },
    "papermill": {
     "duration": 3.560563,
     "end_time": "2022-03-05T23:37:07.128273",
     "exception": false,
     "start_time": "2022-03-05T23:37:03.567710",
     "status": "completed"
    },
    "tags": []
   },
   "outputs": [
    {
     "data": {
      "text/plain": [
       "torch.Size([64, 46])"
      ]
     },
     "execution_count": 31,
     "metadata": {},
     "output_type": "execute_result"
    }
   ],
   "source": [
    "x.shape"
   ]
  },
  {
   "cell_type": "code",
   "execution_count": 32,
   "id": "94dce69a",
   "metadata": {
    "execution": {
     "iopub.execute_input": "2022-03-05T23:37:03.586794Z",
     "iopub.status.busy": "2022-03-05T23:37:03.586192Z",
     "iopub.status.idle": "2022-03-05T23:37:07.128124Z",
     "shell.execute_reply": "2022-03-05T23:37:07.127243Z",
     "shell.execute_reply.started": "2022-03-05T23:20:44.868691Z"
    },
    "papermill": {
     "duration": 3.560563,
     "end_time": "2022-03-05T23:37:07.128273",
     "exception": false,
     "start_time": "2022-03-05T23:37:03.567710",
     "status": "completed"
    },
    "tags": []
   },
   "outputs": [
    {
     "data": {
      "text/plain": [
       "torch.Size([64])"
      ]
     },
     "execution_count": 32,
     "metadata": {},
     "output_type": "execute_result"
    }
   ],
   "source": [
    "y.shape"
   ]
  },
  {
   "cell_type": "code",
   "execution_count": 33,
   "id": "d87c756a",
   "metadata": {
    "execution": {
     "iopub.execute_input": "2022-03-05T23:37:03.586794Z",
     "iopub.status.busy": "2022-03-05T23:37:03.586192Z",
     "iopub.status.idle": "2022-03-05T23:37:07.128124Z",
     "shell.execute_reply": "2022-03-05T23:37:07.127243Z",
     "shell.execute_reply.started": "2022-03-05T23:20:44.868691Z"
    },
    "papermill": {
     "duration": 3.560563,
     "end_time": "2022-03-05T23:37:07.128273",
     "exception": false,
     "start_time": "2022-03-05T23:37:03.567710",
     "status": "completed"
    },
    "tags": []
   },
   "outputs": [
    {
     "data": {
      "text/plain": [
       "torch.Size([64, 3])"
      ]
     },
     "execution_count": 33,
     "metadata": {},
     "output_type": "execute_result"
    }
   ],
   "source": [
    "model(x.cuda()).shape"
   ]
  },
  {
   "cell_type": "code",
   "execution_count": 34,
   "id": "53ccac1b",
   "metadata": {
    "execution": {
     "iopub.execute_input": "2022-03-05T23:37:03.586794Z",
     "iopub.status.busy": "2022-03-05T23:37:03.586192Z",
     "iopub.status.idle": "2022-03-05T23:37:07.128124Z",
     "shell.execute_reply": "2022-03-05T23:37:07.127243Z",
     "shell.execute_reply.started": "2022-03-05T23:20:44.868691Z"
    },
    "papermill": {
     "duration": 3.560563,
     "end_time": "2022-03-05T23:37:07.128273",
     "exception": false,
     "start_time": "2022-03-05T23:37:03.567710",
     "status": "completed"
    },
    "tags": []
   },
   "outputs": [],
   "source": [
    "# Optimizer initialization\n",
    "optimizer = optim.Adam(model.parameters(), lr=0.001)\n",
    "criterion = torch.nn.CrossEntropyLoss()"
   ]
  },
  {
   "cell_type": "code",
   "execution_count": 35,
   "id": "fab59a95",
   "metadata": {
    "execution": {
     "iopub.execute_input": "2022-03-05T23:37:07.163020Z",
     "iopub.status.busy": "2022-03-05T23:37:07.162221Z",
     "iopub.status.idle": "2022-03-05T23:37:07.164181Z",
     "shell.execute_reply": "2022-03-05T23:37:07.164589Z",
     "shell.execute_reply.started": "2022-03-05T23:20:48.324670Z"
    },
    "papermill": {
     "duration": 0.021737,
     "end_time": "2022-03-05T23:37:07.164738",
     "exception": false,
     "start_time": "2022-03-05T23:37:07.143001",
     "status": "completed"
    },
    "tags": []
   },
   "outputs": [],
   "source": [
    "# def calculate_accuracy_with_selected_threshold(grand_truth, predictions):\n",
    "#     \"\"\"\n",
    "#     Accuracy calcuation: (tp + tn) / N\n",
    "#     \"\"\"\n",
    "#     true_positives, true_negatives = 0, 0\n",
    "#     fpr, tpr, thr = roc_curve(grand_truth, predictions)\n",
    "#     roc = pd.DataFrame({'fpr':fpr, 'tpr':tpr, 'thr':thr});\n",
    "#     roc['random'] = roc['fpr'].copy()\n",
    "#     roc['diff'] = roc['tpr'] - roc['fpr']\n",
    "#     roc = roc.sort_values('diff', ascending=False).reset_index().drop('index', axis=1)\n",
    "    \n",
    "#     for true, pred in zip(grand_truth, predictions):\n",
    "#         if (pred > roc.loc[0,'thr']) and (true == 1):\n",
    "#             true_positives += 1\n",
    "#         elif (pred < roc.loc[0,'thr']) and (true == 0):\n",
    "#             true_negatives += 1\n",
    "#     threshold = roc.loc[0,'thr']\n",
    "#     return ((true_positives+true_negatives) / len(grand_truth)), threshold\n",
    "\n",
    "# def calculate_accuray_with_point_five(grand_truth, predictions):\n",
    "#     \"\"\"\n",
    "#     Accuracy calcuation: (tp + tn) / N\n",
    "#     \"\"\"\n",
    "#     true_positives, true_negatives = 0, 0    \n",
    "#     for true, pred in zip(grand_truth, predictions):\n",
    "#         if (pred > 0.5) and (true == 1):\n",
    "#             true_positives += 1\n",
    "#         elif (pred < 0.5) and (true == 0):\n",
    "#             true_negatives += 1\n",
    "#     return (true_positives+true_negatives) / len(grand_truth)"
   ]
  },
  {
   "cell_type": "code",
   "execution_count": 36,
   "id": "8edba82d",
   "metadata": {
    "execution": {
     "iopub.execute_input": "2022-03-05T23:37:07.196308Z",
     "iopub.status.busy": "2022-03-05T23:37:07.195495Z",
     "iopub.status.idle": "2022-03-05T23:37:16.643896Z",
     "shell.execute_reply": "2022-03-05T23:37:16.644314Z",
     "shell.execute_reply.started": "2022-03-05T23:21:09.145194Z"
    },
    "papermill": {
     "duration": 9.465388,
     "end_time": "2022-03-05T23:37:16.644460",
     "exception": false,
     "start_time": "2022-03-05T23:37:07.179072",
     "status": "completed"
    },
    "tags": []
   },
   "outputs": [
    {
     "name": "stderr",
     "output_type": "stream",
     "text": [
      "training epoch 1: 100%|██████████████████████████████████████████████████████████████| 515/515 [00:49<00:00, 10.31it/s]\n",
      "validation epoch 1: 100%|████████████████████████████████████████████████████████████| 129/129 [00:04<00:00, 31.00it/s]\n"
     ]
    },
    {
     "name": "stdout",
     "output_type": "stream",
     "text": [
      "epoch: 1, train_loss: 0.80977, valid_loss: 0.66062\n",
      "Valid loss decreased (inf --> 0.660620).  Saving model ...\n",
      "=========================================\n"
     ]
    },
    {
     "name": "stderr",
     "output_type": "stream",
     "text": [
      "training epoch 2: 100%|██████████████████████████████████████████████████████████████| 515/515 [00:49<00:00, 10.36it/s]\n",
      "validation epoch 2: 100%|████████████████████████████████████████████████████████████| 129/129 [00:04<00:00, 31.22it/s]\n"
     ]
    },
    {
     "name": "stdout",
     "output_type": "stream",
     "text": [
      "epoch: 2, train_loss: 0.51025, valid_loss: 0.63703\n",
      "Valid loss decreased (0.660620 --> 0.637033).  Saving model ...\n",
      "=========================================\n"
     ]
    },
    {
     "name": "stderr",
     "output_type": "stream",
     "text": [
      "training epoch 3: 100%|██████████████████████████████████████████████████████████████| 515/515 [00:49<00:00, 10.40it/s]\n",
      "validation epoch 3: 100%|████████████████████████████████████████████████████████████| 129/129 [00:04<00:00, 31.34it/s]\n"
     ]
    },
    {
     "name": "stdout",
     "output_type": "stream",
     "text": [
      "epoch: 3, train_loss: 0.29983, valid_loss: 0.75533\n"
     ]
    },
    {
     "name": "stderr",
     "output_type": "stream",
     "text": [
      "training epoch 4:  98%|████████████████████████████████████████████████████████████▌ | 503/515 [00:48<00:01, 10.36it/s]\n"
     ]
    },
    {
     "ename": "KeyboardInterrupt",
     "evalue": "",
     "output_type": "error",
     "traceback": [
      "\u001b[1;31m---------------------------------------------------------------------------\u001b[0m",
      "\u001b[1;31mKeyboardInterrupt\u001b[0m                         Traceback (most recent call last)",
      "\u001b[1;32m~\\AppData\\Local\\Temp\\ipykernel_3740\\2930462553.py\u001b[0m in \u001b[0;36m<module>\u001b[1;34m\u001b[0m\n\u001b[0;32m     27\u001b[0m         \u001b[0moptimizer\u001b[0m\u001b[1;33m.\u001b[0m\u001b[0mstep\u001b[0m\u001b[1;33m(\u001b[0m\u001b[1;33m)\u001b[0m\u001b[1;33m\u001b[0m\u001b[1;33m\u001b[0m\u001b[0m\n\u001b[0;32m     28\u001b[0m \u001b[1;33m\u001b[0m\u001b[0m\n\u001b[1;32m---> 29\u001b[1;33m         \u001b[0mtrain_loss\u001b[0m \u001b[1;33m+=\u001b[0m \u001b[0mloss\u001b[0m\u001b[1;33m.\u001b[0m\u001b[0mitem\u001b[0m\u001b[1;33m(\u001b[0m\u001b[1;33m)\u001b[0m\u001b[1;33m\u001b[0m\u001b[1;33m\u001b[0m\u001b[0m\n\u001b[0m\u001b[0;32m     30\u001b[0m \u001b[1;33m\u001b[0m\u001b[0m\n\u001b[0;32m     31\u001b[0m     \u001b[1;31m# Evaluation\u001b[0m\u001b[1;33m\u001b[0m\u001b[1;33m\u001b[0m\u001b[0m\n",
      "\u001b[1;31mKeyboardInterrupt\u001b[0m: "
     ]
    }
   ],
   "source": [
    "# Training\n",
    "EPOCHS = 3\n",
    "valid_loss_min = np.Inf\n",
    "clip = 0.2\n",
    "for epoch in range(EPOCHS):\n",
    "    model.train()\n",
    "    train_predictions = []\n",
    "    train_loss = 0.0\n",
    "    valid_loss = 0.0\n",
    "    train_counter = 0\n",
    "    valid_counter = 0\n",
    "    \n",
    "    for x_batch, y_batch in tqdm.tqdm(loader_training, desc=f\"training epoch {epoch+1}\"):\n",
    "        \n",
    "        train_counter += 1\n",
    "        \n",
    "        x = x_batch.type(torch.LongTensor).to(device)\n",
    "        y = y_batch.type(torch.int64).to(device)\n",
    "        \n",
    "        y_pred = model(x)\n",
    "        \n",
    "        loss = criterion(y_pred, y)\n",
    "        \n",
    "        optimizer.zero_grad()\n",
    "        loss.backward()\n",
    "        nn.utils.clip_grad_norm_(model.parameters(), clip)\n",
    "        optimizer.step()\n",
    "        \n",
    "        train_loss += loss.item()\n",
    "    \n",
    "    # Evaluation\n",
    "    with torch.no_grad():\n",
    "        model.eval()\n",
    "        valid_predictions = []\n",
    "        for x_batch, y_batch in tqdm.tqdm(loader_valid, desc=f\"validation epoch {epoch+1}\"):\n",
    "            valid_counter += 1\n",
    "            x = x_batch.type(torch.LongTensor).to(device)\n",
    "            y = y_batch.type(torch.int64).to(device)\n",
    "            \n",
    "            y_pred = model(x)\n",
    "            \n",
    "            loss = criterion(y_pred, y)\n",
    "            valid_loss += loss.item()\n",
    "            \n",
    "    train_loss = train_loss / train_counter\n",
    "    valid_loss = valid_loss / valid_counter\n",
    "\n",
    "\n",
    "    print(f\"epoch: {epoch+1}, train_loss: {train_loss:.5f}, valid_loss: {valid_loss:.5f}\")\n",
    "    if valid_loss <= valid_loss_min:\n",
    "        print('Valid loss decreased ({:.6f} --> {:.6f}).  Saving model ...'.format(valid_loss_min,valid_loss))\n",
    "        # change the name, for saving multiple files\n",
    "        torch.save(model.state_dict(), 'text_clf.pt')\n",
    "        valid_loss_min = valid_loss\n",
    "        print(\"=========================================\")"
   ]
  },
  {
   "cell_type": "code",
   "execution_count": 37,
   "id": "e3a0a08d",
   "metadata": {
    "execution": {
     "iopub.execute_input": "2022-03-05T23:37:07.196308Z",
     "iopub.status.busy": "2022-03-05T23:37:07.195495Z",
     "iopub.status.idle": "2022-03-05T23:37:16.643896Z",
     "shell.execute_reply": "2022-03-05T23:37:16.644314Z",
     "shell.execute_reply.started": "2022-03-05T23:21:09.145194Z"
    },
    "papermill": {
     "duration": 9.465388,
     "end_time": "2022-03-05T23:37:16.644460",
     "exception": false,
     "start_time": "2022-03-05T23:37:07.179072",
     "status": "completed"
    },
    "tags": []
   },
   "outputs": [
    {
     "data": {
      "text/plain": [
       "<All keys matched successfully>"
      ]
     },
     "execution_count": 37,
     "metadata": {},
     "output_type": "execute_result"
    }
   ],
   "source": [
    "model.load_state_dict(torch.load('text_clf.pt'))"
   ]
  },
  {
   "cell_type": "code",
   "execution_count": 38,
   "id": "d0b9d815",
   "metadata": {},
   "outputs": [
    {
     "name": "stderr",
     "output_type": "stream",
     "text": [
      "accuracy calculation: 100%|██████████████████████████████████████████████████████████| 129/129 [00:05<00:00, 22.92it/s]"
     ]
    },
    {
     "name": "stdout",
     "output_type": "stream",
     "text": [
      "valid Loss: 0.637033\n",
      "\n",
      "valid Accuracy of Negative: 78% (2431/3080)\n",
      "valid Accuracy of Neutral: 65% (1005/1543)\n",
      "valid Accuracy of Positive: 79% (2876/3609)\n",
      "\n",
      "valid Accuracy (Overall): 76% (6312/8232)\n"
     ]
    },
    {
     "name": "stderr",
     "output_type": "stream",
     "text": [
      "\n"
     ]
    }
   ],
   "source": [
    "# track valid loss\n",
    "valid_loss = 0.0\n",
    "class_correct = list(0. for i in range(3))\n",
    "class_total = list(0. for i in range(3))\n",
    "valid_counter = 0\n",
    "\n",
    "with torch.no_grad():\n",
    "    model.eval()\n",
    "    # iterate over valid data\n",
    "    for data, target in tqdm.tqdm(loader_valid, desc=\"accuracy calculation\"):\n",
    "        valid_counter += 1\n",
    "        # move tensors to GPU if CUDA is available\n",
    "        data, target = data.cuda(), target.cuda()\n",
    "        # forward pass: compute predicted outputs by passing inputs to the model\n",
    "        output = model(data)\n",
    "        # calculate the batch loss\n",
    "        loss = criterion(output, target)\n",
    "        # update valid loss \n",
    "        valid_loss += loss.item()\n",
    "        # convert output probabilities to predicted class\n",
    "        _, pred = torch.max(output, 1)    \n",
    "        # compare predictions to true label\n",
    "        correct_tensor = pred.eq(target.data.view_as(pred))\n",
    "        correct = np.squeeze(correct_tensor.cpu().numpy())\n",
    "        # calculate valid accuracy for each object class\n",
    "        for i in range(target.shape[0]):\n",
    "            label = target.data[i]\n",
    "            class_correct[label] += correct[i].item()\n",
    "            class_total[label] += 1\n",
    "\n",
    "# average valid loss\n",
    "valid_loss = valid_loss / valid_counter\n",
    "print('valid Loss: {:.6f}\\n'.format(valid_loss))\n",
    "\n",
    "for i in range(3):\n",
    "    if class_total[i] > 0:\n",
    "        print('valid Accuracy of %5s: %2d%% (%2d/%2d)' % (\n",
    "            classes[i], 100 * class_correct[i] / class_total[i],\n",
    "            np.sum(class_correct[i]), np.sum(class_total[i])))\n",
    "    else:\n",
    "        print('valid Accuracy of %5s: N/A (no training examples)' % (classes[i]))\n",
    "\n",
    "print('\\nvalid Accuracy (Overall): %2d%% (%2d/%2d)' % (\n",
    "    100. * np.sum(class_correct) / np.sum(class_total),\n",
    "    np.sum(class_correct), np.sum(class_total)))"
   ]
  },
  {
   "cell_type": "code",
   "execution_count": null,
   "id": "46256e56",
   "metadata": {},
   "outputs": [],
   "source": []
  }
 ],
 "metadata": {
  "kernelspec": {
   "display_name": "Python 3 (ipykernel)",
   "language": "python",
   "name": "python3"
  },
  "language_info": {
   "codemirror_mode": {
    "name": "ipython",
    "version": 3
   },
   "file_extension": ".py",
   "mimetype": "text/x-python",
   "name": "python",
   "nbconvert_exporter": "python",
   "pygments_lexer": "ipython3",
   "version": "3.9.13"
  },
  "papermill": {
   "default_parameters": {},
   "duration": 39.330232,
   "end_time": "2022-03-05T23:37:18.820869",
   "environment_variables": {},
   "exception": null,
   "input_path": "__notebook__.ipynb",
   "output_path": "__notebook__.ipynb",
   "parameters": {},
   "start_time": "2022-03-05T23:36:39.490637",
   "version": "2.3.3"
  }
 },
 "nbformat": 4,
 "nbformat_minor": 5
}
