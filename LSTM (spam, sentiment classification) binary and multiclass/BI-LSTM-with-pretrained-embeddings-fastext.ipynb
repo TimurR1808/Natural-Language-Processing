{
 "cells": [
  {
   "cell_type": "code",
   "execution_count": 1,
   "metadata": {
    "execution": {
     "iopub.execute_input": "2022-11-13T10:37:34.747915Z",
     "iopub.status.busy": "2022-11-13T10:37:34.747009Z",
     "iopub.status.idle": "2022-11-13T10:37:34.758395Z",
     "shell.execute_reply": "2022-11-13T10:37:34.757395Z",
     "shell.execute_reply.started": "2022-11-13T10:37:34.747876Z"
    },
    "papermill": {
     "duration": 2.811379,
     "end_time": "2022-03-05T23:36:50.403883",
     "exception": false,
     "start_time": "2022-03-05T23:36:47.592504",
     "status": "completed"
    },
    "tags": []
   },
   "outputs": [],
   "source": [
    "import torch\n",
    "import torch.nn as nn\n",
    "import torch.optim as optim\n",
    "import torch.nn.functional as F\n",
    "import itertools\n",
    "from torch.utils.data import Dataset\n",
    "from torch.utils.data import DataLoader\n",
    "from sklearn.metrics import roc_curve \n",
    "import numpy as np\n",
    "import pandas as pd\n",
    "import io\n",
    "import string\n",
    "import os, re, csv, math, codecs\n",
    "from nltk.corpus import stopwords\n",
    "from nltk.tokenize import RegexpTokenizer \n",
    "\n",
    "from nltk.stem import WordNetLemmatizer \n",
    "lemmatizer = WordNetLemmatizer()\n",
    "\n",
    "from sklearn.model_selection import train_test_split\n",
    "import tqdm\n",
    "from sklearn import model_selection\n",
    "from sklearn import metrics\n",
    "import tensorflow as tf  # we use both tensorflow and pytorch (pytorch for main part) , tensorflow for tokenizer\n",
    "torch.manual_seed(1024);"
   ]
  },
  {
   "cell_type": "markdown",
   "metadata": {
    "papermill": {
     "duration": 0.014443,
     "end_time": "2022-03-05T23:36:50.432398",
     "exception": false,
     "start_time": "2022-03-05T23:36:50.417955",
     "status": "completed"
    },
    "tags": []
   },
   "source": [
    "# 1. Preprocessing"
   ]
  },
  {
   "cell_type": "code",
   "execution_count": 95,
   "metadata": {
    "execution": {
     "iopub.execute_input": "2022-11-13T10:37:34.760483Z",
     "iopub.status.busy": "2022-11-13T10:37:34.759855Z",
     "iopub.status.idle": "2022-11-13T10:37:34.770759Z",
     "shell.execute_reply": "2022-11-13T10:37:34.769833Z",
     "shell.execute_reply.started": "2022-11-13T10:37:34.760443Z"
    },
    "papermill": {
     "duration": 0.024814,
     "end_time": "2022-03-05T23:36:50.470836",
     "exception": false,
     "start_time": "2022-03-05T23:36:50.446022",
     "status": "completed"
    },
    "tags": []
   },
   "outputs": [],
   "source": [
    "# We define utility functions for text processing.\n",
    "\n",
    "def removePunctuation(text):\n",
    "    \"\"\"\n",
    "    Remove punctuation symbols and convert text to lowercase\n",
    "    \"\"\"\n",
    "    return text.lower().translate(str.maketrans('', '', string.punctuation))\n",
    "\n",
    "def removeStopWords(text):\n",
    "    \"\"\"\n",
    "    Filter words that are not found in stop words\n",
    "    \"\"\"\n",
    "    return \" \".join([word for word in text.split() if word not in stopwords.words(\"english\")])\n",
    "\n",
    "def buildDictionary(texts):\n",
    "    \"\"\"\n",
    "    Build the dictionary of words where key is the word and value is the index.\n",
    "    \"\"\"\n",
    "    hashmap = {}\n",
    "    for text in texts:\n",
    "        for word in text.split():\n",
    "            hashmap[word] = hashmap.get(word, 0) + 1\n",
    "    return {w:i+1 for i, w in enumerate(list(hashmap.keys()))}\n",
    "\n",
    "def calculateMaxSeqLen(texts):\n",
    "    \"\"\"\n",
    "    Calculates the maximum sequence length found in the corpus\n",
    "    \"\"\"\n",
    "    max_len = float('-inf')\n",
    "    for text in texts:\n",
    "        if len(text.split()) > max_len:\n",
    "            max_len = len(text.split())\n",
    "            \n",
    "    return max_len\n",
    "\n",
    "def lemmatize(text):\n",
    "    \"\"\"\n",
    "    Filter words that are not found in stop words\n",
    "    \"\"\"\n",
    "    return \" \".join([lemmatizer.lemmatize(word) for word in text.split()])\n",
    "\n",
    "def remove_certain_numbers(text):\n",
    "    return text.replace('20', ' ')\n",
    "\n",
    "def merge_two_columns_to_text(text1, text2):\n",
    "    return text1.split() + text2.loc[0].split()"
   ]
  },
  {
   "cell_type": "code",
   "execution_count": 4,
   "metadata": {
    "execution": {
     "iopub.execute_input": "2022-11-13T10:37:34.773928Z",
     "iopub.status.busy": "2022-11-13T10:37:34.773578Z",
     "iopub.status.idle": "2022-11-13T10:40:10.156567Z",
     "shell.execute_reply": "2022-11-13T10:40:10.155453Z",
     "shell.execute_reply.started": "2022-11-13T10:37:34.773894Z"
    },
    "papermill": {
     "duration": 12.602015,
     "end_time": "2022-03-05T23:37:03.086375",
     "exception": false,
     "start_time": "2022-03-05T23:36:50.48436",
     "status": "completed"
    },
    "tags": []
   },
   "outputs": [
    {
     "name": "stdout",
     "output_type": "stream",
     "text": [
      "loading word embeddings...\n"
     ]
    },
    {
     "name": "stderr",
     "output_type": "stream",
     "text": [
      "1999996it [03:54, 8516.02it/s]\n"
     ]
    }
   ],
   "source": [
    "#load fasttext embeddings\n",
    "print('loading word embeddings...')\n",
    "fasttext_embedding = {}\n",
    "f = codecs.open('C:/datasets/IDMB/fasttext/crawl-300d-2M.vec', encoding='utf-8')\n",
    "for line in tqdm.tqdm(f):\n",
    "    values = line.rstrip().rsplit(' ')\n",
    "    word = values[0]\n",
    "    coefs = np.asarray(values[1:], dtype='float32')\n",
    "    fasttext_embedding[word] = coefs\n",
    "f.close()"
   ]
  },
  {
   "cell_type": "code",
   "execution_count": 124,
   "metadata": {
    "execution": {
     "iopub.execute_input": "2022-11-13T10:40:10.158691Z",
     "iopub.status.busy": "2022-11-13T10:40:10.158308Z",
     "iopub.status.idle": "2022-11-13T10:40:10.196390Z",
     "shell.execute_reply": "2022-11-13T10:40:10.195442Z",
     "shell.execute_reply.started": "2022-11-13T10:40:10.158646Z"
    },
    "papermill": {
     "duration": 12.602015,
     "end_time": "2022-03-05T23:37:03.086375",
     "exception": false,
     "start_time": "2022-03-05T23:36:50.48436",
     "status": "completed"
    },
    "tags": []
   },
   "outputs": [],
   "source": [
    "# Load the *.csv* file and filter the features that are useful for the problem:\n",
    "data = pd.read_csv(\"C:/datasets/nlp-getting-started/train.csv\")\n",
    "sub = pd.read_csv(\"C:/datasets/nlp-getting-started/test.csv\")"
   ]
  },
  {
   "cell_type": "code",
   "execution_count": 125,
   "metadata": {
    "execution": {
     "iopub.execute_input": "2022-11-13T10:40:10.198084Z",
     "iopub.status.busy": "2022-11-13T10:40:10.197753Z",
     "iopub.status.idle": "2022-11-13T10:40:10.217559Z",
     "shell.execute_reply": "2022-11-13T10:40:10.216685Z",
     "shell.execute_reply.started": "2022-11-13T10:40:10.198051Z"
    },
    "papermill": {
     "duration": 12.602015,
     "end_time": "2022-03-05T23:37:03.086375",
     "exception": false,
     "start_time": "2022-03-05T23:36:50.48436",
     "status": "completed"
    },
    "tags": []
   },
   "outputs": [
    {
     "data": {
      "text/html": [
       "<div>\n",
       "<style scoped>\n",
       "    .dataframe tbody tr th:only-of-type {\n",
       "        vertical-align: middle;\n",
       "    }\n",
       "\n",
       "    .dataframe tbody tr th {\n",
       "        vertical-align: top;\n",
       "    }\n",
       "\n",
       "    .dataframe thead th {\n",
       "        text-align: right;\n",
       "    }\n",
       "</style>\n",
       "<table border=\"1\" class=\"dataframe\">\n",
       "  <thead>\n",
       "    <tr style=\"text-align: right;\">\n",
       "      <th></th>\n",
       "      <th>id</th>\n",
       "      <th>keyword</th>\n",
       "      <th>location</th>\n",
       "      <th>text</th>\n",
       "      <th>target</th>\n",
       "    </tr>\n",
       "  </thead>\n",
       "  <tbody>\n",
       "    <tr>\n",
       "      <th>0</th>\n",
       "      <td>1</td>\n",
       "      <td>NaN</td>\n",
       "      <td>NaN</td>\n",
       "      <td>Our Deeds are the Reason of this #earthquake M...</td>\n",
       "      <td>1</td>\n",
       "    </tr>\n",
       "    <tr>\n",
       "      <th>1</th>\n",
       "      <td>4</td>\n",
       "      <td>NaN</td>\n",
       "      <td>NaN</td>\n",
       "      <td>Forest fire near La Ronge Sask. Canada</td>\n",
       "      <td>1</td>\n",
       "    </tr>\n",
       "    <tr>\n",
       "      <th>2</th>\n",
       "      <td>5</td>\n",
       "      <td>NaN</td>\n",
       "      <td>NaN</td>\n",
       "      <td>All residents asked to 'shelter in place' are ...</td>\n",
       "      <td>1</td>\n",
       "    </tr>\n",
       "    <tr>\n",
       "      <th>3</th>\n",
       "      <td>6</td>\n",
       "      <td>NaN</td>\n",
       "      <td>NaN</td>\n",
       "      <td>13,000 people receive #wildfires evacuation or...</td>\n",
       "      <td>1</td>\n",
       "    </tr>\n",
       "    <tr>\n",
       "      <th>4</th>\n",
       "      <td>7</td>\n",
       "      <td>NaN</td>\n",
       "      <td>NaN</td>\n",
       "      <td>Just got sent this photo from Ruby #Alaska as ...</td>\n",
       "      <td>1</td>\n",
       "    </tr>\n",
       "    <tr>\n",
       "      <th>...</th>\n",
       "      <td>...</td>\n",
       "      <td>...</td>\n",
       "      <td>...</td>\n",
       "      <td>...</td>\n",
       "      <td>...</td>\n",
       "    </tr>\n",
       "    <tr>\n",
       "      <th>7608</th>\n",
       "      <td>10869</td>\n",
       "      <td>NaN</td>\n",
       "      <td>NaN</td>\n",
       "      <td>Two giant cranes holding a bridge collapse int...</td>\n",
       "      <td>1</td>\n",
       "    </tr>\n",
       "    <tr>\n",
       "      <th>7609</th>\n",
       "      <td>10870</td>\n",
       "      <td>NaN</td>\n",
       "      <td>NaN</td>\n",
       "      <td>@aria_ahrary @TheTawniest The out of control w...</td>\n",
       "      <td>1</td>\n",
       "    </tr>\n",
       "    <tr>\n",
       "      <th>7610</th>\n",
       "      <td>10871</td>\n",
       "      <td>NaN</td>\n",
       "      <td>NaN</td>\n",
       "      <td>M1.94 [01:04 UTC]?5km S of Volcano Hawaii. htt...</td>\n",
       "      <td>1</td>\n",
       "    </tr>\n",
       "    <tr>\n",
       "      <th>7611</th>\n",
       "      <td>10872</td>\n",
       "      <td>NaN</td>\n",
       "      <td>NaN</td>\n",
       "      <td>Police investigating after an e-bike collided ...</td>\n",
       "      <td>1</td>\n",
       "    </tr>\n",
       "    <tr>\n",
       "      <th>7612</th>\n",
       "      <td>10873</td>\n",
       "      <td>NaN</td>\n",
       "      <td>NaN</td>\n",
       "      <td>The Latest: More Homes Razed by Northern Calif...</td>\n",
       "      <td>1</td>\n",
       "    </tr>\n",
       "  </tbody>\n",
       "</table>\n",
       "<p>7613 rows × 5 columns</p>\n",
       "</div>"
      ],
      "text/plain": [
       "         id keyword location  \\\n",
       "0         1     NaN      NaN   \n",
       "1         4     NaN      NaN   \n",
       "2         5     NaN      NaN   \n",
       "3         6     NaN      NaN   \n",
       "4         7     NaN      NaN   \n",
       "...     ...     ...      ...   \n",
       "7608  10869     NaN      NaN   \n",
       "7609  10870     NaN      NaN   \n",
       "7610  10871     NaN      NaN   \n",
       "7611  10872     NaN      NaN   \n",
       "7612  10873     NaN      NaN   \n",
       "\n",
       "                                                   text  target  \n",
       "0     Our Deeds are the Reason of this #earthquake M...       1  \n",
       "1                Forest fire near La Ronge Sask. Canada       1  \n",
       "2     All residents asked to 'shelter in place' are ...       1  \n",
       "3     13,000 people receive #wildfires evacuation or...       1  \n",
       "4     Just got sent this photo from Ruby #Alaska as ...       1  \n",
       "...                                                 ...     ...  \n",
       "7608  Two giant cranes holding a bridge collapse int...       1  \n",
       "7609  @aria_ahrary @TheTawniest The out of control w...       1  \n",
       "7610  M1.94 [01:04 UTC]?5km S of Volcano Hawaii. htt...       1  \n",
       "7611  Police investigating after an e-bike collided ...       1  \n",
       "7612  The Latest: More Homes Razed by Northern Calif...       1  \n",
       "\n",
       "[7613 rows x 5 columns]"
      ]
     },
     "execution_count": 125,
     "metadata": {},
     "output_type": "execute_result"
    }
   ],
   "source": [
    "data"
   ]
  },
  {
   "cell_type": "code",
   "execution_count": 126,
   "metadata": {
    "execution": {
     "iopub.execute_input": "2022-11-13T10:40:10.219450Z",
     "iopub.status.busy": "2022-11-13T10:40:10.219108Z",
     "iopub.status.idle": "2022-11-13T10:40:10.233476Z",
     "shell.execute_reply": "2022-11-13T10:40:10.232015Z",
     "shell.execute_reply.started": "2022-11-13T10:40:10.219416Z"
    },
    "papermill": {
     "duration": 12.602015,
     "end_time": "2022-03-05T23:37:03.086375",
     "exception": false,
     "start_time": "2022-03-05T23:36:50.48436",
     "status": "completed"
    },
    "tags": []
   },
   "outputs": [],
   "source": [
    "data[\"keyword\"] = data[\"keyword\"].fillna(\" \")"
   ]
  },
  {
   "cell_type": "code",
   "execution_count": 127,
   "metadata": {
    "execution": {
     "iopub.execute_input": "2022-11-13T10:40:10.219450Z",
     "iopub.status.busy": "2022-11-13T10:40:10.219108Z",
     "iopub.status.idle": "2022-11-13T10:40:10.233476Z",
     "shell.execute_reply": "2022-11-13T10:40:10.232015Z",
     "shell.execute_reply.started": "2022-11-13T10:40:10.219416Z"
    },
    "papermill": {
     "duration": 12.602015,
     "end_time": "2022-03-05T23:37:03.086375",
     "exception": false,
     "start_time": "2022-03-05T23:36:50.48436",
     "status": "completed"
    },
    "tags": []
   },
   "outputs": [],
   "source": [
    "sub[\"keyword\"] = sub[\"keyword\"].fillna(\" \")"
   ]
  },
  {
   "cell_type": "code",
   "execution_count": 128,
   "metadata": {
    "execution": {
     "iopub.execute_input": "2022-11-13T10:40:10.236396Z",
     "iopub.status.busy": "2022-11-13T10:40:10.235764Z",
     "iopub.status.idle": "2022-11-13T10:40:31.281080Z",
     "shell.execute_reply": "2022-11-13T10:40:31.280072Z",
     "shell.execute_reply.started": "2022-11-13T10:40:10.236361Z"
    },
    "papermill": {
     "duration": 12.602015,
     "end_time": "2022-03-05T23:37:03.086375",
     "exception": false,
     "start_time": "2022-03-05T23:36:50.48436",
     "status": "completed"
    },
    "tags": []
   },
   "outputs": [],
   "source": [
    "# Text preprocessing. Remove punctuation symbols and stop words:\n",
    "data[\"keyword\"] = data[\"keyword\"].apply(lambda x: removePunctuation(x))\n",
    "data[\"keyword\"] = data[\"keyword\"].apply(lambda x: removeStopWords(x))\n",
    "data[\"keyword\"] = data[\"keyword\"].apply(lambda x: lemmatize(x))\n",
    "data[\"keyword\"] = data[\"keyword\"].apply(lambda x: remove_certain_numbers(x))\n",
    "# Text preprocessing. Remove punctuation symbols and stop words:\n",
    "sub[\"keyword\"] = sub[\"keyword\"].apply(lambda x: removePunctuation(x))\n",
    "sub[\"keyword\"] = sub[\"keyword\"].apply(lambda x: removeStopWords(x))\n",
    "sub[\"keyword\"] = sub[\"keyword\"].apply(lambda x: lemmatize(x))\n",
    "sub[\"keyword\"] = sub[\"keyword\"].apply(lambda x: remove_certain_numbers(x))"
   ]
  },
  {
   "cell_type": "code",
   "execution_count": 129,
   "metadata": {
    "execution": {
     "iopub.execute_input": "2022-11-13T10:40:10.236396Z",
     "iopub.status.busy": "2022-11-13T10:40:10.235764Z",
     "iopub.status.idle": "2022-11-13T10:40:31.281080Z",
     "shell.execute_reply": "2022-11-13T10:40:31.280072Z",
     "shell.execute_reply.started": "2022-11-13T10:40:10.236361Z"
    },
    "papermill": {
     "duration": 12.602015,
     "end_time": "2022-03-05T23:37:03.086375",
     "exception": false,
     "start_time": "2022-03-05T23:36:50.48436",
     "status": "completed"
    },
    "tags": []
   },
   "outputs": [],
   "source": [
    "# Text preprocessing. Remove punctuation symbols and stop words:\n",
    "data[\"text\"] = data[\"text\"].apply(lambda x: removePunctuation(x))\n",
    "data[\"text\"] = data[\"text\"].apply(lambda x: removeStopWords(x))\n",
    "data[\"text\"] = data[\"text\"].apply(lambda x: lemmatize(x))\n",
    "# Text preprocessing. Remove punctuation symbols and stop words:\n",
    "sub[\"text\"] = sub[\"text\"].apply(lambda x: removePunctuation(x))\n",
    "sub[\"text\"] = sub[\"text\"].apply(lambda x: removeStopWords(x))\n",
    "sub[\"text\"] = sub[\"text\"].apply(lambda x: lemmatize(x))"
   ]
  },
  {
   "cell_type": "code",
   "execution_count": 130,
   "metadata": {
    "execution": {
     "iopub.execute_input": "2022-11-13T10:40:31.283158Z",
     "iopub.status.busy": "2022-11-13T10:40:31.282757Z",
     "iopub.status.idle": "2022-11-13T10:40:31.291510Z",
     "shell.execute_reply": "2022-11-13T10:40:31.290282Z",
     "shell.execute_reply.started": "2022-11-13T10:40:31.283119Z"
    },
    "papermill": {
     "duration": 0.060689,
     "end_time": "2022-03-05T23:37:03.161411",
     "exception": false,
     "start_time": "2022-03-05T23:37:03.100722",
     "status": "completed"
    },
    "tags": []
   },
   "outputs": [
    {
     "data": {
      "text/plain": [
       "('armageddon',\n",
       " '=',\n",
       " ['armageddon',\n",
       "  'vladimir',\n",
       "  'putin',\n",
       "  'issue',\n",
       "  'major',\n",
       "  'warning',\n",
       "  'late',\n",
       "  'escape',\n",
       "  'armageddon',\n",
       "  'httptcogbxafy1m1c'])"
      ]
     },
     "execution_count": 130,
     "metadata": {},
     "output_type": "execute_result"
    }
   ],
   "source": [
    "data[\"keyword\"].loc[325], \"=\", (data[\"keyword\"].loc[325].split() + data[\"text\"].loc[325].split())"
   ]
  },
  {
   "cell_type": "code",
   "execution_count": 131,
   "metadata": {
    "execution": {
     "iopub.execute_input": "2022-11-13T10:40:31.283158Z",
     "iopub.status.busy": "2022-11-13T10:40:31.282757Z",
     "iopub.status.idle": "2022-11-13T10:40:31.291510Z",
     "shell.execute_reply": "2022-11-13T10:40:31.290282Z",
     "shell.execute_reply.started": "2022-11-13T10:40:31.283119Z"
    },
    "papermill": {
     "duration": 0.060689,
     "end_time": "2022-03-05T23:37:03.161411",
     "exception": false,
     "start_time": "2022-03-05T23:37:03.100722",
     "status": "completed"
    },
    "tags": []
   },
   "outputs": [],
   "source": [
    "data[\"text\"] = (data[\"keyword\"] + \" \" + data[\"text\"])"
   ]
  },
  {
   "cell_type": "code",
   "execution_count": 132,
   "metadata": {
    "execution": {
     "iopub.execute_input": "2022-11-13T10:40:31.283158Z",
     "iopub.status.busy": "2022-11-13T10:40:31.282757Z",
     "iopub.status.idle": "2022-11-13T10:40:31.291510Z",
     "shell.execute_reply": "2022-11-13T10:40:31.290282Z",
     "shell.execute_reply.started": "2022-11-13T10:40:31.283119Z"
    },
    "papermill": {
     "duration": 0.060689,
     "end_time": "2022-03-05T23:37:03.161411",
     "exception": false,
     "start_time": "2022-03-05T23:37:03.100722",
     "status": "completed"
    },
    "tags": []
   },
   "outputs": [
    {
     "data": {
      "text/plain": [
       "('wrecked',\n",
       " '=',\n",
       " ['bleeding',\n",
       "  'cramer',\n",
       "  'igers',\n",
       "  '3',\n",
       "  'word',\n",
       "  'wrecked',\n",
       "  'disney',\n",
       "  'stock',\n",
       "  'httptco4dgpbaivl7'])"
      ]
     },
     "execution_count": 132,
     "metadata": {},
     "output_type": "execute_result"
    }
   ],
   "source": [
    "sub[\"keyword\"].loc[3241], \"=\", (sub[\"keyword\"].loc[325].split() + sub[\"text\"].loc[3241].split())"
   ]
  },
  {
   "cell_type": "code",
   "execution_count": 133,
   "metadata": {
    "execution": {
     "iopub.execute_input": "2022-11-13T10:40:31.283158Z",
     "iopub.status.busy": "2022-11-13T10:40:31.282757Z",
     "iopub.status.idle": "2022-11-13T10:40:31.291510Z",
     "shell.execute_reply": "2022-11-13T10:40:31.290282Z",
     "shell.execute_reply.started": "2022-11-13T10:40:31.283119Z"
    },
    "papermill": {
     "duration": 0.060689,
     "end_time": "2022-03-05T23:37:03.161411",
     "exception": false,
     "start_time": "2022-03-05T23:37:03.100722",
     "status": "completed"
    },
    "tags": []
   },
   "outputs": [],
   "source": [
    "sub[\"text\"] = (sub[\"keyword\"] + \" \" + sub[\"text\"])"
   ]
  },
  {
   "cell_type": "code",
   "execution_count": 134,
   "metadata": {
    "execution": {
     "iopub.execute_input": "2022-11-13T10:40:31.283158Z",
     "iopub.status.busy": "2022-11-13T10:40:31.282757Z",
     "iopub.status.idle": "2022-11-13T10:40:31.291510Z",
     "shell.execute_reply": "2022-11-13T10:40:31.290282Z",
     "shell.execute_reply.started": "2022-11-13T10:40:31.283119Z"
    },
    "papermill": {
     "duration": 0.060689,
     "end_time": "2022-03-05T23:37:03.161411",
     "exception": false,
     "start_time": "2022-03-05T23:37:03.100722",
     "status": "completed"
    },
    "tags": []
   },
   "outputs": [
    {
     "data": {
      "text/plain": [
       "0    4342\n",
       "1    3271\n",
       "Name: target, dtype: int64"
      ]
     },
     "execution_count": 134,
     "metadata": {},
     "output_type": "execute_result"
    }
   ],
   "source": [
    "data[\"target\"].value_counts()"
   ]
  },
  {
   "cell_type": "code",
   "execution_count": 135,
   "metadata": {
    "execution": {
     "iopub.execute_input": "2022-11-13T10:40:31.297747Z",
     "iopub.status.busy": "2022-11-13T10:40:31.297145Z",
     "iopub.status.idle": "2022-11-13T10:40:31.303154Z",
     "shell.execute_reply": "2022-11-13T10:40:31.302096Z",
     "shell.execute_reply.started": "2022-11-13T10:40:31.297692Z"
    },
    "papermill": {
     "duration": 0.060689,
     "end_time": "2022-03-05T23:37:03.161411",
     "exception": false,
     "start_time": "2022-03-05T23:37:03.100722",
     "status": "completed"
    },
    "tags": []
   },
   "outputs": [],
   "source": [
    "sub[\"fake_target\"] = -1"
   ]
  },
  {
   "cell_type": "code",
   "execution_count": 136,
   "metadata": {
    "execution": {
     "iopub.execute_input": "2022-11-13T10:40:31.305378Z",
     "iopub.status.busy": "2022-11-13T10:40:31.304671Z",
     "iopub.status.idle": "2022-11-13T10:40:31.314672Z",
     "shell.execute_reply": "2022-11-13T10:40:31.313693Z",
     "shell.execute_reply.started": "2022-11-13T10:40:31.305336Z"
    },
    "papermill": {
     "duration": 0.060689,
     "end_time": "2022-03-05T23:37:03.161411",
     "exception": false,
     "start_time": "2022-03-05T23:37:03.100722",
     "status": "completed"
    },
    "tags": []
   },
   "outputs": [],
   "source": [
    "data = data[[\"text\", \"target\"]]\n",
    "sub = sub[[\"text\", \"fake_target\"]]"
   ]
  },
  {
   "cell_type": "code",
   "execution_count": 137,
   "metadata": {
    "execution": {
     "iopub.execute_input": "2022-11-13T10:40:31.316501Z",
     "iopub.status.busy": "2022-11-13T10:40:31.316149Z",
     "iopub.status.idle": "2022-11-13T10:40:31.358657Z",
     "shell.execute_reply": "2022-11-13T10:40:31.357668Z",
     "shell.execute_reply.started": "2022-11-13T10:40:31.316463Z"
    },
    "papermill": {
     "duration": 0.060689,
     "end_time": "2022-03-05T23:37:03.161411",
     "exception": false,
     "start_time": "2022-03-05T23:37:03.100722",
     "status": "completed"
    },
    "tags": []
   },
   "outputs": [
    {
     "name": "stdout",
     "output_type": "stream",
     "text": [
      "Number of words in dictionary: 21279\n",
      "Maximum sequence lenght: 26\n"
     ]
    }
   ],
   "source": [
    "dictionary = buildDictionary(data[\"text\"])\n",
    "max_seq_len = calculateMaxSeqLen(data[\"text\"])\n",
    "\n",
    "print(f\"Number of words in dictionary: {len(dictionary)}\")\n",
    "print(f\"Maximum sequence lenght: {max_seq_len}\")"
   ]
  },
  {
   "cell_type": "code",
   "execution_count": 138,
   "metadata": {
    "execution": {
     "iopub.execute_input": "2022-11-13T10:40:31.360516Z",
     "iopub.status.busy": "2022-11-13T10:40:31.359951Z",
     "iopub.status.idle": "2022-11-13T10:40:31.384263Z",
     "shell.execute_reply": "2022-11-13T10:40:31.383378Z",
     "shell.execute_reply.started": "2022-11-13T10:40:31.360480Z"
    },
    "papermill": {
     "duration": 0.026668,
     "end_time": "2022-03-05T23:37:03.203185",
     "exception": false,
     "start_time": "2022-03-05T23:37:03.176517",
     "status": "completed"
    },
    "tags": []
   },
   "outputs": [
    {
     "name": "stdout",
     "output_type": "stream",
     "text": [
      "Number of words in dictionary: 11861\n",
      "Maximum sequence lenght: 24\n"
     ]
    }
   ],
   "source": [
    "dictionary = buildDictionary(sub[\"text\"])\n",
    "max_seq_len = calculateMaxSeqLen(sub[\"text\"])\n",
    "\n",
    "print(f\"Number of words in dictionary: {len(dictionary)}\")\n",
    "print(f\"Maximum sequence lenght: {max_seq_len}\")"
   ]
  },
  {
   "cell_type": "code",
   "execution_count": 139,
   "metadata": {
    "execution": {
     "iopub.execute_input": "2022-11-13T10:40:31.385967Z",
     "iopub.status.busy": "2022-11-13T10:40:31.385610Z",
     "iopub.status.idle": "2022-11-13T10:40:31.396640Z",
     "shell.execute_reply": "2022-11-13T10:40:31.395750Z",
     "shell.execute_reply.started": "2022-11-13T10:40:31.385934Z"
    },
    "papermill": {
     "duration": 0.026668,
     "end_time": "2022-03-05T23:37:03.203185",
     "exception": false,
     "start_time": "2022-03-05T23:37:03.176517",
     "status": "completed"
    },
    "tags": []
   },
   "outputs": [
    {
     "data": {
      "text/plain": [
       "0    0.57034\n",
       "1    0.42966\n",
       "Name: target, dtype: float64"
      ]
     },
     "execution_count": 139,
     "metadata": {},
     "output_type": "execute_result"
    }
   ],
   "source": [
    "data[\"target\"].value_counts() / len(data)"
   ]
  },
  {
   "cell_type": "code",
   "execution_count": 140,
   "metadata": {
    "execution": {
     "iopub.execute_input": "2022-11-13T10:40:31.398642Z",
     "iopub.status.busy": "2022-11-13T10:40:31.398288Z",
     "iopub.status.idle": "2022-11-13T10:40:31.412258Z",
     "shell.execute_reply": "2022-11-13T10:40:31.410853Z",
     "shell.execute_reply.started": "2022-11-13T10:40:31.398608Z"
    },
    "papermill": {
     "duration": 0.026668,
     "end_time": "2022-03-05T23:37:03.203185",
     "exception": false,
     "start_time": "2022-03-05T23:37:03.176517",
     "status": "completed"
    },
    "tags": []
   },
   "outputs": [
    {
     "data": {
      "text/html": [
       "<div>\n",
       "<style scoped>\n",
       "    .dataframe tbody tr th:only-of-type {\n",
       "        vertical-align: middle;\n",
       "    }\n",
       "\n",
       "    .dataframe tbody tr th {\n",
       "        vertical-align: top;\n",
       "    }\n",
       "\n",
       "    .dataframe thead th {\n",
       "        text-align: right;\n",
       "    }\n",
       "</style>\n",
       "<table border=\"1\" class=\"dataframe\">\n",
       "  <thead>\n",
       "    <tr style=\"text-align: right;\">\n",
       "      <th></th>\n",
       "      <th>text</th>\n",
       "      <th>target</th>\n",
       "    </tr>\n",
       "  </thead>\n",
       "  <tbody>\n",
       "    <tr>\n",
       "      <th>0</th>\n",
       "      <td>deed reason earthquake may allah forgive u</td>\n",
       "      <td>1</td>\n",
       "    </tr>\n",
       "    <tr>\n",
       "      <th>1</th>\n",
       "      <td>forest fire near la ronge sask canada</td>\n",
       "      <td>1</td>\n",
       "    </tr>\n",
       "    <tr>\n",
       "      <th>2</th>\n",
       "      <td>resident asked shelter place notified officer...</td>\n",
       "      <td>1</td>\n",
       "    </tr>\n",
       "    <tr>\n",
       "      <th>3</th>\n",
       "      <td>13000 people receive wildfire evacuation orde...</td>\n",
       "      <td>1</td>\n",
       "    </tr>\n",
       "    <tr>\n",
       "      <th>4</th>\n",
       "      <td>got sent photo ruby alaska smoke wildfire pou...</td>\n",
       "      <td>1</td>\n",
       "    </tr>\n",
       "    <tr>\n",
       "      <th>...</th>\n",
       "      <td>...</td>\n",
       "      <td>...</td>\n",
       "    </tr>\n",
       "    <tr>\n",
       "      <th>7608</th>\n",
       "      <td>two giant crane holding bridge collapse nearb...</td>\n",
       "      <td>1</td>\n",
       "    </tr>\n",
       "    <tr>\n",
       "      <th>7609</th>\n",
       "      <td>ariaahrary thetawniest control wild fire cali...</td>\n",
       "      <td>1</td>\n",
       "    </tr>\n",
       "    <tr>\n",
       "      <th>7610</th>\n",
       "      <td>m194 0104 utc5km volcano hawaii httptcozdtoyd...</td>\n",
       "      <td>1</td>\n",
       "    </tr>\n",
       "    <tr>\n",
       "      <th>7611</th>\n",
       "      <td>police investigating ebike collided car littl...</td>\n",
       "      <td>1</td>\n",
       "    </tr>\n",
       "    <tr>\n",
       "      <th>7612</th>\n",
       "      <td>latest home razed northern california wildfir...</td>\n",
       "      <td>1</td>\n",
       "    </tr>\n",
       "  </tbody>\n",
       "</table>\n",
       "<p>7613 rows × 2 columns</p>\n",
       "</div>"
      ],
      "text/plain": [
       "                                                   text  target\n",
       "0            deed reason earthquake may allah forgive u       1\n",
       "1                 forest fire near la ronge sask canada       1\n",
       "2      resident asked shelter place notified officer...       1\n",
       "3      13000 people receive wildfire evacuation orde...       1\n",
       "4      got sent photo ruby alaska smoke wildfire pou...       1\n",
       "...                                                 ...     ...\n",
       "7608   two giant crane holding bridge collapse nearb...       1\n",
       "7609   ariaahrary thetawniest control wild fire cali...       1\n",
       "7610   m194 0104 utc5km volcano hawaii httptcozdtoyd...       1\n",
       "7611   police investigating ebike collided car littl...       1\n",
       "7612   latest home razed northern california wildfir...       1\n",
       "\n",
       "[7613 rows x 2 columns]"
      ]
     },
     "execution_count": 140,
     "metadata": {},
     "output_type": "execute_result"
    }
   ],
   "source": [
    "data"
   ]
  },
  {
   "cell_type": "code",
   "execution_count": 141,
   "metadata": {
    "execution": {
     "iopub.execute_input": "2022-11-13T10:40:31.414576Z",
     "iopub.status.busy": "2022-11-13T10:40:31.413934Z",
     "iopub.status.idle": "2022-11-13T10:40:31.422106Z",
     "shell.execute_reply": "2022-11-13T10:40:31.421044Z",
     "shell.execute_reply.started": "2022-11-13T10:40:31.414542Z"
    },
    "papermill": {
     "duration": 0.026668,
     "end_time": "2022-03-05T23:37:03.203185",
     "exception": false,
     "start_time": "2022-03-05T23:37:03.176517",
     "status": "completed"
    },
    "tags": []
   },
   "outputs": [],
   "source": [
    "class TweetDataset:\n",
    "    def __init__(self, reviews, targets):\n",
    "        \"\"\"\n",
    "        Argument:\n",
    "        reviews: a numpy array\n",
    "        targets: a vector array\n",
    "        \n",
    "        Return xtrain and ylabel in torch tensor datatype, stored in dictionary format\n",
    "        \"\"\"\n",
    "        self.reviews = reviews\n",
    "        self.target = targets\n",
    "    \n",
    "    def __len__(self):\n",
    "        # return length of dataset\n",
    "        return len(self.reviews)\n",
    "    \n",
    "    def __getitem__(self, index):\n",
    "        # given an idex (item), return review and target of that index in torch tensor\n",
    "        review = torch.tensor(self.reviews[index,:], dtype = torch.long)\n",
    "        target = torch.tensor(self.target[index], dtype = torch.float)\n",
    "        \n",
    "        return {'review': review,\n",
    "                'target': target}"
   ]
  },
  {
   "cell_type": "code",
   "execution_count": 142,
   "metadata": {
    "execution": {
     "iopub.execute_input": "2022-11-13T10:40:31.424109Z",
     "iopub.status.busy": "2022-11-13T10:40:31.423771Z",
     "iopub.status.idle": "2022-11-13T10:40:31.432910Z",
     "shell.execute_reply": "2022-11-13T10:40:31.431937Z",
     "shell.execute_reply.started": "2022-11-13T10:40:31.424075Z"
    },
    "papermill": {
     "duration": 0.026668,
     "end_time": "2022-03-05T23:37:03.203185",
     "exception": false,
     "start_time": "2022-03-05T23:37:03.176517",
     "status": "completed"
    },
    "tags": []
   },
   "outputs": [],
   "source": [
    "def create_embedding_matrix(word_index, embedding_dict=None, d_model=100):\n",
    "    \"\"\"\n",
    "     this function create the embedding matrix save in numpy array\n",
    "    :param word_index: a dictionary with word: index_value\n",
    "    :param embedding_dict: a dict with word embedding\n",
    "    :d_model: the dimension of word pretrained embedding, here I just set to 100, we will define again\n",
    "    :return a numpy array with embedding vectors for all known words\n",
    "    \"\"\"\n",
    "    embedding_matrix = np.zeros((len(word_index) + 1, d_model))\n",
    "    ## loop over all the words\n",
    "    for word, index in word_index.items():\n",
    "        if word in embedding_dict:\n",
    "            embedding_matrix[index] = embedding_dict[word]\n",
    "    return embedding_matrix"
   ]
  },
  {
   "cell_type": "code",
   "execution_count": 143,
   "metadata": {
    "execution": {
     "iopub.execute_input": "2022-11-13T10:40:31.434900Z",
     "iopub.status.busy": "2022-11-13T10:40:31.434509Z",
     "iopub.status.idle": "2022-11-13T10:40:31.796501Z",
     "shell.execute_reply": "2022-11-13T10:40:31.795501Z",
     "shell.execute_reply.started": "2022-11-13T10:40:31.434856Z"
    },
    "papermill": {
     "duration": 0.026668,
     "end_time": "2022-03-05T23:37:03.203185",
     "exception": false,
     "start_time": "2022-03-05T23:37:03.176517",
     "status": "completed"
    },
    "tags": []
   },
   "outputs": [],
   "source": [
    "# STEP 1: Tokenization\n",
    "# use tf.keras for tokenization,  \n",
    "tokenizer = tf.keras.preprocessing.text.Tokenizer()\n",
    "tokenizer.fit_on_texts(data[\"text\"].values.tolist() + sub[\"text\"].values.tolist())"
   ]
  },
  {
   "cell_type": "code",
   "execution_count": 144,
   "metadata": {
    "execution": {
     "iopub.execute_input": "2022-11-13T10:40:31.798433Z",
     "iopub.status.busy": "2022-11-13T10:40:31.798077Z",
     "iopub.status.idle": "2022-11-13T10:40:31.803973Z",
     "shell.execute_reply": "2022-11-13T10:40:31.802678Z",
     "shell.execute_reply.started": "2022-11-13T10:40:31.798393Z"
    }
   },
   "outputs": [],
   "source": [
    "import itertools"
   ]
  },
  {
   "cell_type": "code",
   "execution_count": 145,
   "metadata": {
    "execution": {
     "iopub.execute_input": "2022-11-13T10:40:31.806102Z",
     "iopub.status.busy": "2022-11-13T10:40:31.805685Z",
     "iopub.status.idle": "2022-11-13T10:40:31.875904Z",
     "shell.execute_reply": "2022-11-13T10:40:31.874789Z",
     "shell.execute_reply.started": "2022-11-13T10:40:31.806042Z"
    }
   },
   "outputs": [
    {
     "name": "stdout",
     "output_type": "stream",
     "text": [
      "Load Glove embedding\n"
     ]
    }
   ],
   "source": [
    "print('Load Glove embedding')\n",
    "embedding_matrix = create_embedding_matrix(tokenizer.word_index, embedding_dict=fasttext_embedding, d_model=300)"
   ]
  },
  {
   "cell_type": "code",
   "execution_count": 146,
   "metadata": {
    "execution": {
     "iopub.execute_input": "2022-11-13T10:40:31.877786Z",
     "iopub.status.busy": "2022-11-13T10:40:31.877439Z",
     "iopub.status.idle": "2022-11-13T10:40:31.884359Z",
     "shell.execute_reply": "2022-11-13T10:40:31.883366Z",
     "shell.execute_reply.started": "2022-11-13T10:40:31.877751Z"
    }
   },
   "outputs": [
    {
     "data": {
      "text/plain": [
       "(27612, 300)"
      ]
     },
     "execution_count": 146,
     "metadata": {},
     "output_type": "execute_result"
    }
   ],
   "source": [
    "embedding_matrix.shape"
   ]
  },
  {
   "cell_type": "code",
   "execution_count": 147,
   "metadata": {
    "execution": {
     "iopub.execute_input": "2022-11-13T10:40:31.886598Z",
     "iopub.status.busy": "2022-11-13T10:40:31.885917Z",
     "iopub.status.idle": "2022-11-13T10:40:31.898927Z",
     "shell.execute_reply": "2022-11-13T10:40:31.897849Z",
     "shell.execute_reply.started": "2022-11-13T10:40:31.886554Z"
    },
    "papermill": {
     "duration": 0.026668,
     "end_time": "2022-03-05T23:37:03.203185",
     "exception": false,
     "start_time": "2022-03-05T23:37:03.176517",
     "status": "completed"
    },
    "tags": []
   },
   "outputs": [],
   "source": [
    "# Split data into training and testing\n",
    "x_train, x_valid, y_train, y_valid = train_test_split(data[\"text\"], data[\"target\"], test_size=0.2, stratify=data[\"target\"], random_state=42)"
   ]
  },
  {
   "cell_type": "code",
   "execution_count": 148,
   "metadata": {
    "execution": {
     "iopub.execute_input": "2022-11-13T10:40:31.901312Z",
     "iopub.status.busy": "2022-11-13T10:40:31.900671Z",
     "iopub.status.idle": "2022-11-13T10:40:31.908336Z",
     "shell.execute_reply": "2022-11-13T10:40:31.907278Z",
     "shell.execute_reply.started": "2022-11-13T10:40:31.901277Z"
    },
    "papermill": {
     "duration": 0.026668,
     "end_time": "2022-03-05T23:37:03.203185",
     "exception": false,
     "start_time": "2022-03-05T23:37:03.176517",
     "status": "completed"
    },
    "tags": []
   },
   "outputs": [
    {
     "data": {
      "text/plain": [
       "Int64Index([6234,  326,  997, 7269, 2189, 3725, 4062, 5928, 5178, 5079,\n",
       "            ...\n",
       "            6128,  996, 5011, 3646, 5696, 3386, 3280,  305, 1648, 7569],\n",
       "           dtype='int64', length=6090)"
      ]
     },
     "execution_count": 148,
     "metadata": {},
     "output_type": "execute_result"
    }
   ],
   "source": [
    "x_train.index"
   ]
  },
  {
   "cell_type": "code",
   "execution_count": 149,
   "metadata": {
    "execution": {
     "iopub.execute_input": "2022-11-13T10:40:31.910227Z",
     "iopub.status.busy": "2022-11-13T10:40:31.909889Z",
     "iopub.status.idle": "2022-11-13T10:40:31.920803Z",
     "shell.execute_reply": "2022-11-13T10:40:31.919899Z",
     "shell.execute_reply.started": "2022-11-13T10:40:31.910194Z"
    },
    "papermill": {
     "duration": 0.026668,
     "end_time": "2022-03-05T23:37:03.203185",
     "exception": false,
     "start_time": "2022-03-05T23:37:03.176517",
     "status": "completed"
    },
    "tags": []
   },
   "outputs": [
    {
     "data": {
      "text/plain": [
       "Int64Index([4863, 1370, 3521,  178, 5859, 6837, 6167, 2905, 5412, 2227,\n",
       "            ...\n",
       "            5970, 6658, 6285, 5783, 7348, 6939, 2074, 3186, 4297, 2344],\n",
       "           dtype='int64', length=1523)"
      ]
     },
     "execution_count": 149,
     "metadata": {},
     "output_type": "execute_result"
    }
   ],
   "source": [
    "x_valid.index"
   ]
  },
  {
   "cell_type": "code",
   "execution_count": 150,
   "metadata": {
    "execution": {
     "iopub.execute_input": "2022-11-13T10:40:31.922844Z",
     "iopub.status.busy": "2022-11-13T10:40:31.922465Z",
     "iopub.status.idle": "2022-11-13T10:40:31.933852Z",
     "shell.execute_reply": "2022-11-13T10:40:31.932899Z",
     "shell.execute_reply.started": "2022-11-13T10:40:31.922808Z"
    },
    "papermill": {
     "duration": 0.026668,
     "end_time": "2022-03-05T23:37:03.203185",
     "exception": false,
     "start_time": "2022-03-05T23:37:03.176517",
     "status": "completed"
    },
    "tags": []
   },
   "outputs": [],
   "source": [
    "train_data = pd.concat((x_train, y_train), axis=1).reset_index(drop=True)\n",
    "valid_data = pd.concat((x_valid, y_valid), axis=1).reset_index(drop=True)\n",
    "sub_data = sub[[\"text\", \"fake_target\"]]"
   ]
  },
  {
   "cell_type": "code",
   "execution_count": 151,
   "metadata": {
    "execution": {
     "iopub.execute_input": "2022-11-13T10:40:31.936009Z",
     "iopub.status.busy": "2022-11-13T10:40:31.935417Z",
     "iopub.status.idle": "2022-11-13T10:40:32.104312Z",
     "shell.execute_reply": "2022-11-13T10:40:32.103455Z",
     "shell.execute_reply.started": "2022-11-13T10:40:31.935927Z"
    },
    "papermill": {
     "duration": 0.026668,
     "end_time": "2022-03-05T23:37:03.203185",
     "exception": false,
     "start_time": "2022-03-05T23:37:03.176517",
     "status": "completed"
    },
    "tags": []
   },
   "outputs": [],
   "source": [
    "xtrain = tokenizer.texts_to_sequences(train_data[\"text\"].values)\n",
    "xvalid = tokenizer.texts_to_sequences(valid_data[\"text\"].values)\n",
    "subdata = tokenizer.texts_to_sequences(sub_data[\"text\"].values)"
   ]
  },
  {
   "cell_type": "code",
   "execution_count": 152,
   "metadata": {
    "execution": {
     "iopub.execute_input": "2022-11-13T10:40:32.105928Z",
     "iopub.status.busy": "2022-11-13T10:40:32.105590Z",
     "iopub.status.idle": "2022-11-13T10:40:32.110693Z",
     "shell.execute_reply": "2022-11-13T10:40:32.109762Z",
     "shell.execute_reply.started": "2022-11-13T10:40:32.105895Z"
    },
    "papermill": {
     "duration": 0.026668,
     "end_time": "2022-03-05T23:37:03.203185",
     "exception": false,
     "start_time": "2022-03-05T23:37:03.176517",
     "status": "completed"
    },
    "tags": []
   },
   "outputs": [],
   "source": [
    "MAX_LEN = 25\n",
    "TRAIN_BATCH_SIZE = 64\n",
    "VALID_BATCH_SIZE = 64\n",
    "SUB_BATCH_SIZE = 64"
   ]
  },
  {
   "cell_type": "code",
   "execution_count": 153,
   "metadata": {
    "execution": {
     "iopub.execute_input": "2022-11-13T10:40:32.119177Z",
     "iopub.status.busy": "2022-11-13T10:40:32.118276Z",
     "iopub.status.idle": "2022-11-13T10:40:32.161330Z",
     "shell.execute_reply": "2022-11-13T10:40:32.160475Z",
     "shell.execute_reply.started": "2022-11-13T10:40:32.119142Z"
    },
    "papermill": {
     "duration": 0.026668,
     "end_time": "2022-03-05T23:37:03.203185",
     "exception": false,
     "start_time": "2022-03-05T23:37:03.176517",
     "status": "completed"
    },
    "tags": []
   },
   "outputs": [],
   "source": [
    "xtrain = tf.keras.preprocessing.sequence.pad_sequences(xtrain, maxlen=MAX_LEN)\n",
    "xvalid = tf.keras.preprocessing.sequence.pad_sequences(xvalid, maxlen=MAX_LEN)\n",
    "subdata = tf.keras.preprocessing.sequence.pad_sequences(subdata, maxlen=MAX_LEN)"
   ]
  },
  {
   "cell_type": "code",
   "execution_count": 154,
   "metadata": {
    "execution": {
     "iopub.execute_input": "2022-11-13T10:40:32.163253Z",
     "iopub.status.busy": "2022-11-13T10:40:32.162656Z",
     "iopub.status.idle": "2022-11-13T10:40:32.169222Z",
     "shell.execute_reply": "2022-11-13T10:40:32.167961Z",
     "shell.execute_reply.started": "2022-11-13T10:40:32.163217Z"
    },
    "papermill": {
     "duration": 0.026668,
     "end_time": "2022-03-05T23:37:03.203185",
     "exception": false,
     "start_time": "2022-03-05T23:37:03.176517",
     "status": "completed"
    },
    "tags": []
   },
   "outputs": [],
   "source": [
    "train_dataset = TweetDataset(reviews=xtrain, targets=train_data[\"target\"].values)"
   ]
  },
  {
   "cell_type": "code",
   "execution_count": 155,
   "metadata": {
    "execution": {
     "iopub.execute_input": "2022-11-13T10:40:32.171359Z",
     "iopub.status.busy": "2022-11-13T10:40:32.170763Z",
     "iopub.status.idle": "2022-11-13T10:40:32.180181Z",
     "shell.execute_reply": "2022-11-13T10:40:32.179157Z",
     "shell.execute_reply.started": "2022-11-13T10:40:32.171318Z"
    },
    "papermill": {
     "duration": 0.026668,
     "end_time": "2022-03-05T23:37:03.203185",
     "exception": false,
     "start_time": "2022-03-05T23:37:03.176517",
     "status": "completed"
    },
    "tags": []
   },
   "outputs": [],
   "source": [
    "valid_dataset = TweetDataset(reviews=xvalid, targets=valid_data[\"target\"].values)"
   ]
  },
  {
   "cell_type": "code",
   "execution_count": 156,
   "metadata": {
    "execution": {
     "iopub.execute_input": "2022-11-13T10:40:32.181839Z",
     "iopub.status.busy": "2022-11-13T10:40:32.181487Z",
     "iopub.status.idle": "2022-11-13T10:40:32.190204Z",
     "shell.execute_reply": "2022-11-13T10:40:32.189342Z",
     "shell.execute_reply.started": "2022-11-13T10:40:32.181814Z"
    },
    "papermill": {
     "duration": 0.026668,
     "end_time": "2022-03-05T23:37:03.203185",
     "exception": false,
     "start_time": "2022-03-05T23:37:03.176517",
     "status": "completed"
    },
    "tags": []
   },
   "outputs": [],
   "source": [
    "train_data_loader = torch.utils.data.DataLoader(train_dataset, batch_size = TRAIN_BATCH_SIZE, num_workers=0)"
   ]
  },
  {
   "cell_type": "code",
   "execution_count": 157,
   "metadata": {
    "execution": {
     "iopub.execute_input": "2022-11-13T10:40:32.191886Z",
     "iopub.status.busy": "2022-11-13T10:40:32.191559Z",
     "iopub.status.idle": "2022-11-13T10:40:32.201681Z",
     "shell.execute_reply": "2022-11-13T10:40:32.200525Z",
     "shell.execute_reply.started": "2022-11-13T10:40:32.191858Z"
    },
    "papermill": {
     "duration": 0.026668,
     "end_time": "2022-03-05T23:37:03.203185",
     "exception": false,
     "start_time": "2022-03-05T23:37:03.176517",
     "status": "completed"
    },
    "tags": []
   },
   "outputs": [],
   "source": [
    "valid_data_loader = torch.utils.data.DataLoader(valid_dataset, batch_size = VALID_BATCH_SIZE, num_workers=0)"
   ]
  },
  {
   "cell_type": "code",
   "execution_count": 158,
   "metadata": {
    "execution": {
     "iopub.execute_input": "2022-11-13T10:40:32.203635Z",
     "iopub.status.busy": "2022-11-13T10:40:32.203093Z",
     "iopub.status.idle": "2022-11-13T10:40:32.211856Z",
     "shell.execute_reply": "2022-11-13T10:40:32.210765Z",
     "shell.execute_reply.started": "2022-11-13T10:40:32.203600Z"
    },
    "papermill": {
     "duration": 0.026668,
     "end_time": "2022-03-05T23:37:03.203185",
     "exception": false,
     "start_time": "2022-03-05T23:37:03.176517",
     "status": "completed"
    },
    "tags": []
   },
   "outputs": [],
   "source": [
    "submission_dataset = TweetDataset(reviews=subdata, targets=sub_data[\"fake_target\"].values)"
   ]
  },
  {
   "cell_type": "code",
   "execution_count": 159,
   "metadata": {
    "execution": {
     "iopub.execute_input": "2022-11-13T10:40:32.215078Z",
     "iopub.status.busy": "2022-11-13T10:40:32.214810Z",
     "iopub.status.idle": "2022-11-13T10:40:32.222804Z",
     "shell.execute_reply": "2022-11-13T10:40:32.221772Z",
     "shell.execute_reply.started": "2022-11-13T10:40:32.215053Z"
    },
    "papermill": {
     "duration": 0.026668,
     "end_time": "2022-03-05T23:37:03.203185",
     "exception": false,
     "start_time": "2022-03-05T23:37:03.176517",
     "status": "completed"
    },
    "tags": []
   },
   "outputs": [],
   "source": [
    "submission_data_loader = torch.utils.data.DataLoader(submission_dataset, batch_size = SUB_BATCH_SIZE, num_workers=0)"
   ]
  },
  {
   "cell_type": "code",
   "execution_count": 160,
   "metadata": {
    "execution": {
     "iopub.execute_input": "2022-11-13T10:40:32.226220Z",
     "iopub.status.busy": "2022-11-13T10:40:32.224306Z",
     "iopub.status.idle": "2022-11-13T10:40:32.237670Z",
     "shell.execute_reply": "2022-11-13T10:40:32.236715Z",
     "shell.execute_reply.started": "2022-11-13T10:40:32.226184Z"
    },
    "papermill": {
     "duration": 0.026668,
     "end_time": "2022-03-05T23:37:03.203185",
     "exception": false,
     "start_time": "2022-03-05T23:37:03.176517",
     "status": "completed"
    },
    "tags": []
   },
   "outputs": [],
   "source": [
    "class LSTM(nn.Module):\n",
    "    def __init__(self, embedding_matrix):\n",
    "        \"\"\"\n",
    "        Given embedding_matrix: numpy array with vector for all words\n",
    "        return prediction ( in torch tensor format)\n",
    "        \"\"\"\n",
    "        super(LSTM, self).__init__()\n",
    "        # Number of words = number of rows in embedding matrix\n",
    "        num_words = embedding_matrix.shape[0]\n",
    "        # Dimension of embedding is num of columns in the matrix\n",
    "        embedding_dim = embedding_matrix.shape[1]\n",
    "        # Define an input embedding layer\n",
    "        self.embedding = nn.Embedding(\n",
    "                                      num_embeddings=num_words,\n",
    "                                      embedding_dim=embedding_dim)\n",
    "        # Embedding matrix actually is collection of parameter\n",
    "        self.embedding.weight = nn.Parameter(torch.tensor(embedding_matrix, dtype = torch.float32))\n",
    "        # Because we use pretrained embedding (GLove, Fastext,etc) so we turn off requires_grad-meaning we do not train gradient on embedding weight\n",
    "        self.embedding.weight.requires_grad = False\n",
    "        # LSTM with hidden_size = 128\n",
    "        self.dropout = nn.Dropout(0.5)\n",
    "        self.lstm = nn.LSTM(\n",
    "                            embedding_dim, \n",
    "                            hidden_size=512,\n",
    "                            num_layers=5,\n",
    "                            dropout=0.6,\n",
    "                            bidirectional=True,\n",
    "                            batch_first=True,\n",
    "                             )\n",
    "        # Input(512) because we use bi-directional LSTM ==> hidden_size*2 + maxpooling **2  = 128*4 = 512, will be explained more on forward method\n",
    "        self.relu = nn.ReLU()\n",
    "        self.sigmoid = nn.Sigmoid()\n",
    "        self.fc1 = nn.Linear(2048, 1024)\n",
    "        self.fc2 = nn.Linear(1024, 1)\n",
    "        \n",
    "    def forward(self, x):\n",
    "        # pass input (tokens) through embedding layer\n",
    "        x = self.embedding(x)\n",
    "        # fit embedding to LSTM\n",
    "        hidden, _ = self.lstm(x)\n",
    "        # apply mean and max pooling on lstm output\n",
    "        avg_pool= torch.mean(hidden, 1)\n",
    "        max_pool, index_max_pool = torch.max(hidden, 1)\n",
    "        # concat avg_pool and max_pool ( so we have 256 size, also because this is bidirectional ==> 256*2 = 512)\n",
    "        out = torch.cat((avg_pool, max_pool), 1)\n",
    "        # fit out to self.out to conduct dimensionality reduction from 512 to 1\n",
    "        out = self.relu(self.fc1(out))\n",
    "        out = self.sigmoid(self.fc2(out))\n",
    "        # return output\n",
    "        return out.squeeze()"
   ]
  },
  {
   "cell_type": "code",
   "execution_count": 169,
   "metadata": {
    "execution": {
     "iopub.execute_input": "2022-11-13T11:42:20.856667Z",
     "iopub.status.busy": "2022-11-13T11:42:20.855670Z",
     "iopub.status.idle": "2022-11-13T11:42:21.200022Z",
     "shell.execute_reply": "2022-11-13T11:42:21.199022Z",
     "shell.execute_reply.started": "2022-11-13T11:42:20.856632Z"
    },
    "papermill": {
     "duration": 0.026668,
     "end_time": "2022-03-05T23:37:03.203185",
     "exception": false,
     "start_time": "2022-03-05T23:37:03.176517",
     "status": "completed"
    },
    "tags": []
   },
   "outputs": [],
   "source": [
    "device = torch.device('cuda')\n",
    "# feed embedding matrix to lstm\n",
    "model = LSTM(embedding_matrix)\n",
    "# set model to cuda device\n",
    "model.to(device)\n",
    "# initialize Adam optimizer\n",
    "optimizer = optim.Adam(model.parameters(), lr=1e-3)\n",
    "criterion = nn.BCELoss()"
   ]
  },
  {
   "cell_type": "code",
   "execution_count": 170,
   "metadata": {
    "execution": {
     "iopub.execute_input": "2022-11-13T10:44:59.297715Z",
     "iopub.status.busy": "2022-11-13T10:44:59.297093Z",
     "iopub.status.idle": "2022-11-13T10:44:59.303221Z",
     "shell.execute_reply": "2022-11-13T10:44:59.302237Z",
     "shell.execute_reply.started": "2022-11-13T10:44:59.297679Z"
    },
    "papermill": {
     "duration": 0.026668,
     "end_time": "2022-03-05T23:37:03.203185",
     "exception": false,
     "start_time": "2022-03-05T23:37:03.176517",
     "status": "completed"
    },
    "tags": []
   },
   "outputs": [
    {
     "name": "stdout",
     "output_type": "stream",
     "text": [
      "LSTM(\n",
      "  (embedding): Embedding(27612, 300)\n",
      "  (dropout): Dropout(p=0.5, inplace=False)\n",
      "  (lstm): LSTM(300, 512, num_layers=5, batch_first=True, dropout=0.6, bidirectional=True)\n",
      "  (relu): ReLU()\n",
      "  (sigmoid): Sigmoid()\n",
      "  (fc1): Linear(in_features=2048, out_features=1024, bias=True)\n",
      "  (fc2): Linear(in_features=1024, out_features=1, bias=True)\n",
      ")\n"
     ]
    }
   ],
   "source": [
    "print(model)"
   ]
  },
  {
   "cell_type": "code",
   "execution_count": 171,
   "metadata": {
    "execution": {
     "iopub.execute_input": "2022-11-13T10:44:59.305285Z",
     "iopub.status.busy": "2022-11-13T10:44:59.304456Z",
     "iopub.status.idle": "2022-11-13T10:44:59.314374Z",
     "shell.execute_reply": "2022-11-13T10:44:59.313421Z",
     "shell.execute_reply.started": "2022-11-13T10:44:59.305249Z"
    },
    "papermill": {
     "duration": 0.026668,
     "end_time": "2022-03-05T23:37:03.203185",
     "exception": false,
     "start_time": "2022-03-05T23:37:03.176517",
     "status": "completed"
    },
    "tags": []
   },
   "outputs": [],
   "source": [
    "itr = iter(train_data_loader)"
   ]
  },
  {
   "cell_type": "code",
   "execution_count": 172,
   "metadata": {
    "execution": {
     "iopub.execute_input": "2022-11-13T10:44:59.665539Z",
     "iopub.status.busy": "2022-11-13T10:44:59.664894Z",
     "iopub.status.idle": "2022-11-13T10:44:59.672239Z",
     "shell.execute_reply": "2022-11-13T10:44:59.671243Z",
     "shell.execute_reply.started": "2022-11-13T10:44:59.665506Z"
    },
    "papermill": {
     "duration": 0.026668,
     "end_time": "2022-03-05T23:37:03.203185",
     "exception": false,
     "start_time": "2022-03-05T23:37:03.176517",
     "status": "completed"
    },
    "tags": []
   },
   "outputs": [],
   "source": [
    "daa = next(itr)"
   ]
  },
  {
   "cell_type": "code",
   "execution_count": 173,
   "metadata": {
    "execution": {
     "iopub.execute_input": "2022-11-13T10:44:59.844851Z",
     "iopub.status.busy": "2022-11-13T10:44:59.844514Z",
     "iopub.status.idle": "2022-11-13T10:44:59.851671Z",
     "shell.execute_reply": "2022-11-13T10:44:59.850550Z",
     "shell.execute_reply.started": "2022-11-13T10:44:59.844820Z"
    },
    "papermill": {
     "duration": 0.026668,
     "end_time": "2022-03-05T23:37:03.203185",
     "exception": false,
     "start_time": "2022-03-05T23:37:03.176517",
     "status": "completed"
    },
    "tags": []
   },
   "outputs": [
    {
     "data": {
      "text/plain": [
       "torch.Size([64, 25])"
      ]
     },
     "execution_count": 173,
     "metadata": {},
     "output_type": "execute_result"
    }
   ],
   "source": [
    "x = daa['review']; x.shape"
   ]
  },
  {
   "cell_type": "code",
   "execution_count": 174,
   "metadata": {
    "execution": {
     "iopub.execute_input": "2022-11-13T10:45:00.051871Z",
     "iopub.status.busy": "2022-11-13T10:45:00.051448Z",
     "iopub.status.idle": "2022-11-13T10:45:00.075753Z",
     "shell.execute_reply": "2022-11-13T10:45:00.074659Z",
     "shell.execute_reply.started": "2022-11-13T10:45:00.051832Z"
    },
    "papermill": {
     "duration": 0.026668,
     "end_time": "2022-03-05T23:37:03.203185",
     "exception": false,
     "start_time": "2022-03-05T23:37:03.176517",
     "status": "completed"
    },
    "tags": []
   },
   "outputs": [
    {
     "data": {
      "text/plain": [
       "torch.Size([64])"
      ]
     },
     "execution_count": 174,
     "metadata": {},
     "output_type": "execute_result"
    }
   ],
   "source": [
    "model(x.cuda()).shape"
   ]
  },
  {
   "cell_type": "code",
   "execution_count": 175,
   "metadata": {
    "execution": {
     "iopub.execute_input": "2022-11-13T10:45:00.226328Z",
     "iopub.status.busy": "2022-11-13T10:45:00.223423Z",
     "iopub.status.idle": "2022-11-13T10:45:00.240204Z",
     "shell.execute_reply": "2022-11-13T10:45:00.239051Z",
     "shell.execute_reply.started": "2022-11-13T10:45:00.226290Z"
    },
    "papermill": {
     "duration": 0.026668,
     "end_time": "2022-03-05T23:37:03.203185",
     "exception": false,
     "start_time": "2022-03-05T23:37:03.176517",
     "status": "completed"
    },
    "tags": []
   },
   "outputs": [],
   "source": [
    "def calculate_accuracy_with_selected_threshold(grand_truth, predictions):\n",
    "    \"\"\"\n",
    "    Accuracy calcuation: (tp + tn) / N\n",
    "    \"\"\"\n",
    "    true_positives, true_negatives = 0, 0\n",
    "    fpr, tpr, thr = roc_curve(grand_truth, predictions)\n",
    "    roc = pd.DataFrame({'fpr':fpr, 'tpr':tpr, 'thr':thr});\n",
    "    roc['random'] = roc['fpr'].copy()\n",
    "    roc['diff'] = roc['tpr'] - roc['fpr']\n",
    "    roc = roc.sort_values('diff', ascending=False).reset_index().drop('index', axis=1)\n",
    "    \n",
    "    for true, pred in zip(grand_truth, predictions):\n",
    "        if (pred > roc.loc[0,'thr']) and (true == 1):\n",
    "            true_positives += 1\n",
    "        elif (pred < roc.loc[0,'thr']) and (true == 0):\n",
    "            true_negatives += 1\n",
    "    return (true_positives+true_negatives) / len(grand_truth)\n",
    "\n",
    "def calculate_accuray_with_point_five(grand_truth, predictions):\n",
    "    \"\"\"\n",
    "    Accuracy calcuation: (tp + tn) / N\n",
    "    \"\"\"\n",
    "    true_positives, true_negatives = 0, 0    \n",
    "    for true, pred in zip(grand_truth, predictions):\n",
    "        if (pred > 0.5) and (true == 1):\n",
    "            true_positives += 1\n",
    "        elif (pred < 0.5) and (true == 0):\n",
    "            true_negatives += 1\n",
    "    return (true_positives+true_negatives) / len(grand_truth)"
   ]
  },
  {
   "cell_type": "code",
   "execution_count": 190,
   "metadata": {
    "execution": {
     "iopub.execute_input": "2022-11-13T11:42:31.148789Z",
     "iopub.status.busy": "2022-11-13T11:42:31.148395Z",
     "iopub.status.idle": "2022-11-13T11:42:51.035158Z",
     "shell.execute_reply": "2022-11-13T11:42:51.033714Z",
     "shell.execute_reply.started": "2022-11-13T11:42:31.148752Z"
    },
    "papermill": {
     "duration": 0.026668,
     "end_time": "2022-03-05T23:37:03.203185",
     "exception": false,
     "start_time": "2022-03-05T23:37:03.176517",
     "status": "completed"
    },
    "tags": []
   },
   "outputs": [
    {
     "name": "stderr",
     "output_type": "stream",
     "text": [
      "training epoch 1: 100%|████████████████████████████████████████████████████████████████| 96/96 [00:10<00:00,  9.03it/s]\n",
      "validation epoch 1: 100%|██████████████████████████████████████████████████████████████| 24/24 [00:00<00:00, 25.88it/s]\n"
     ]
    },
    {
     "name": "stdout",
     "output_type": "stream",
     "text": [
      "epoch: 1, train_accuracy: 0.85599, valid_accuracy: 0.82928\n"
     ]
    },
    {
     "name": "stderr",
     "output_type": "stream",
     "text": [
      "training epoch 2:  17%|██████████▋                                                     | 16/96 [00:01<00:09,  8.57it/s]\n"
     ]
    },
    {
     "ename": "KeyboardInterrupt",
     "evalue": "",
     "output_type": "error",
     "traceback": [
      "\u001b[1;31m---------------------------------------------------------------------------\u001b[0m",
      "\u001b[1;31mKeyboardInterrupt\u001b[0m                         Traceback (most recent call last)",
      "\u001b[1;32m~\\AppData\\Local\\Temp\\ipykernel_5728\\1643064428.py\u001b[0m in \u001b[0;36m<module>\u001b[1;34m\u001b[0m\n\u001b[0;32m     26\u001b[0m \u001b[1;33m\u001b[0m\u001b[0m\n\u001b[0;32m     27\u001b[0m         \u001b[1;31m# Save predictions for metrics calculation\u001b[0m\u001b[1;33m\u001b[0m\u001b[1;33m\u001b[0m\u001b[0m\n\u001b[1;32m---> 28\u001b[1;33m         \u001b[0my_train\u001b[0m \u001b[1;33m+=\u001b[0m \u001b[0mlist\u001b[0m\u001b[1;33m(\u001b[0m\u001b[0my\u001b[0m\u001b[1;33m.\u001b[0m\u001b[0mcpu\u001b[0m\u001b[1;33m(\u001b[0m\u001b[1;33m)\u001b[0m\u001b[1;33m.\u001b[0m\u001b[0mdetach\u001b[0m\u001b[1;33m(\u001b[0m\u001b[1;33m)\u001b[0m\u001b[1;33m.\u001b[0m\u001b[0mnumpy\u001b[0m\u001b[1;33m(\u001b[0m\u001b[1;33m)\u001b[0m\u001b[1;33m)\u001b[0m\u001b[1;33m\u001b[0m\u001b[1;33m\u001b[0m\u001b[0m\n\u001b[0m\u001b[0;32m     29\u001b[0m         \u001b[0mtrain_predictions\u001b[0m \u001b[1;33m+=\u001b[0m \u001b[0mlist\u001b[0m\u001b[1;33m(\u001b[0m\u001b[0my_pred\u001b[0m\u001b[1;33m.\u001b[0m\u001b[0msqueeze\u001b[0m\u001b[1;33m(\u001b[0m\u001b[1;33m)\u001b[0m\u001b[1;33m.\u001b[0m\u001b[0mcpu\u001b[0m\u001b[1;33m(\u001b[0m\u001b[1;33m)\u001b[0m\u001b[1;33m.\u001b[0m\u001b[0mdetach\u001b[0m\u001b[1;33m(\u001b[0m\u001b[1;33m)\u001b[0m\u001b[1;33m.\u001b[0m\u001b[0mnumpy\u001b[0m\u001b[1;33m(\u001b[0m\u001b[1;33m)\u001b[0m\u001b[1;33m)\u001b[0m\u001b[1;33m\u001b[0m\u001b[1;33m\u001b[0m\u001b[0m\n\u001b[0;32m     30\u001b[0m \u001b[1;33m\u001b[0m\u001b[0m\n",
      "\u001b[1;31mKeyboardInterrupt\u001b[0m: "
     ]
    }
   ],
   "source": [
    "# # Training\n",
    "EPOCHS = 5\n",
    "valid_accuracy_min = 0.831911\n",
    "\n",
    "for epoch in range(EPOCHS):\n",
    "#     if epoch > 5:\n",
    "#         optimizer = optim.Adam(model.parameters(), lr=3e-5)\n",
    "    model.load_state_dict(torch.load('text_clf_1.pt'))\n",
    "    optimizer = optim.Adam(model.parameters(), lr=1e-4)\n",
    "\n",
    "    model.train()\n",
    "    y_train = []\n",
    "    train_predictions = []\n",
    "    for data in tqdm.tqdm(train_data_loader, desc=f\"training epoch {epoch+1}\"):\n",
    "      \n",
    "        x = data['review'].type(torch.LongTensor).to(device)\n",
    "        y = data['target'].type(torch.FloatTensor).to(device)\n",
    "        \n",
    "        y_pred = model(x)\n",
    "        loss = criterion(y_pred, y)\n",
    "        \n",
    "        optimizer.zero_grad()\n",
    "        loss.backward()\n",
    "        nn.utils.clip_grad_norm_(model.parameters(), max_norm=2.0, norm_type=2)\n",
    "        optimizer.step()\n",
    "        \n",
    "        # Save predictions for metrics calculation\n",
    "        y_train += list(y.cpu().detach().numpy())\n",
    "        train_predictions += list(y_pred.squeeze().cpu().detach().numpy())\n",
    "  \n",
    "    # Evaluation\n",
    "    with torch.no_grad():\n",
    "        model.eval()\n",
    "        y_valid = []\n",
    "        valid_predictions = []\n",
    "        for data in tqdm.tqdm(valid_data_loader, desc=f\"validation epoch {epoch+1}\"):\n",
    "            x = data['review'].type(torch.LongTensor).to(device)\n",
    "            y = data['target'].type(torch.FloatTensor).to(device)\n",
    "           \n",
    "            y_pred = model(x)\n",
    "            \n",
    "            loss = criterion(y_pred, y)\n",
    "            y_valid += list(y.cpu().detach().numpy())\n",
    "            valid_predictions += list(y_pred.squeeze().cpu().detach().numpy())\n",
    "            \n",
    "    train_accuracy = calculate_accuracy_with_selected_threshold(y_train, train_predictions)\n",
    "    valid_accuracy = calculate_accuracy_with_selected_threshold(y_valid, valid_predictions)\n",
    "\n",
    "\n",
    "    print(f\"epoch: {epoch+1}, train_accuracy: {train_accuracy:.5f}, valid_accuracy: {valid_accuracy:.5f}\")\n",
    "    if valid_accuracy >= valid_accuracy_min:\n",
    "        print('Valid accuracy increased ({:.6f} --> {:.6f}).  Saving model ...'.format(valid_accuracy_min,valid_accuracy))\n",
    "        # change the name, for saving multiple files\n",
    "        torch.save(model.state_dict(), 'text_clf_1.pt')\n",
    "        valid_accuracy_min = valid_accuracy\n",
    "        print(\"=========================================\")"
   ]
  },
  {
   "cell_type": "code",
   "execution_count": 177,
   "metadata": {
    "execution": {
     "iopub.execute_input": "2022-11-13T11:42:56.336791Z",
     "iopub.status.busy": "2022-11-13T11:42:56.336373Z",
     "iopub.status.idle": "2022-11-13T11:42:56.461122Z",
     "shell.execute_reply": "2022-11-13T11:42:56.459985Z",
     "shell.execute_reply.started": "2022-11-13T11:42:56.336731Z"
    }
   },
   "outputs": [
    {
     "data": {
      "text/plain": [
       "<All keys matched successfully>"
      ]
     },
     "execution_count": 177,
     "metadata": {},
     "output_type": "execute_result"
    }
   ],
   "source": [
    "model.load_state_dict(torch.load('text_clf_1.pt'))"
   ]
  },
  {
   "cell_type": "code",
   "execution_count": 178,
   "metadata": {
    "execution": {
     "iopub.execute_input": "2022-11-13T11:42:56.658270Z",
     "iopub.status.busy": "2022-11-13T11:42:56.657320Z",
     "iopub.status.idle": "2022-11-13T11:42:57.165442Z",
     "shell.execute_reply": "2022-11-13T11:42:57.164384Z",
     "shell.execute_reply.started": "2022-11-13T11:42:56.658229Z"
    }
   },
   "outputs": [
    {
     "name": "stderr",
     "output_type": "stream",
     "text": [
      "validation epoch 18: 100%|█████████████████████████████████████████████████████████████| 24/24 [00:01<00:00, 21.34it/s]"
     ]
    },
    {
     "name": "stdout",
     "output_type": "stream",
     "text": [
      "valid accuracy: 0.83191\n"
     ]
    },
    {
     "name": "stderr",
     "output_type": "stream",
     "text": [
      "\n"
     ]
    }
   ],
   "source": [
    "with torch.no_grad():\n",
    "    model.eval()\n",
    "    valid_predictions = []\n",
    "    y_valid = []\n",
    "    for data in tqdm.tqdm(valid_data_loader, desc=f\"validation epoch {epoch+1}\"):\n",
    "        x = data['review'].type(torch.LongTensor).to(device)\n",
    "        y = data['target'].type(torch.FloatTensor).to(device)\n",
    "\n",
    "        y_pred = model(x)\n",
    "\n",
    "        loss = criterion(y_pred, y)\n",
    "        y_valid += list(y.cpu().detach().numpy())\n",
    "        valid_predictions += list(y_pred.squeeze().cpu().detach().numpy())\n",
    "        \n",
    "    valid_accuracy = calculate_accuracy_with_selected_threshold(y_valid, valid_predictions)\n",
    "    print(f\"valid accuracy: {valid_accuracy:.5f}\")"
   ]
  },
  {
   "cell_type": "code",
   "execution_count": 179,
   "metadata": {
    "execution": {
     "iopub.execute_input": "2022-11-13T11:42:58.444227Z",
     "iopub.status.busy": "2022-11-13T11:42:58.443852Z",
     "iopub.status.idle": "2022-11-13T11:42:58.674397Z",
     "shell.execute_reply": "2022-11-13T11:42:58.673484Z",
     "shell.execute_reply.started": "2022-11-13T11:42:58.444193Z"
    }
   },
   "outputs": [
    {
     "data": {
      "text/plain": [
       "<AxesSubplot:xlabel='fpr'>"
      ]
     },
     "execution_count": 179,
     "metadata": {},
     "output_type": "execute_result"
    },
    {
     "data": {
      "image/png": "[encoded data removed]",
      "text/plain": [
       "<Figure size 600x400 with 1 Axes>"
      ]
     },
     "metadata": {},
     "output_type": "display_data"
    }
   ],
   "source": [
    "fpr, tpr, thr = roc_curve(y_valid, valid_predictions)\n",
    "roc = pd.DataFrame({'fpr':fpr, 'tpr':tpr, 'thr':thr});\n",
    "roc['random'] = roc['fpr'].copy()\n",
    "roc['diff'] = roc['tpr'] - roc['fpr']\n",
    "roc.plot(x='fpr', y=['tpr','random'], figsize=(6,4), grid=True)"
   ]
  },
  {
   "cell_type": "code",
   "execution_count": 180,
   "metadata": {
    "execution": {
     "iopub.execute_input": "2022-11-13T11:42:58.902807Z",
     "iopub.status.busy": "2022-11-13T11:42:58.902495Z",
     "iopub.status.idle": "2022-11-13T11:42:58.910565Z",
     "shell.execute_reply": "2022-11-13T11:42:58.909671Z",
     "shell.execute_reply.started": "2022-11-13T11:42:58.902779Z"
    }
   },
   "outputs": [],
   "source": [
    "roc = roc.sort_values('diff', ascending=False).reset_index().drop('index', axis=1)"
   ]
  },
  {
   "cell_type": "code",
   "execution_count": 181,
   "metadata": {
    "execution": {
     "iopub.execute_input": "2022-11-13T11:42:59.326044Z",
     "iopub.status.busy": "2022-11-13T11:42:59.325667Z",
     "iopub.status.idle": "2022-11-13T11:42:59.341139Z",
     "shell.execute_reply": "2022-11-13T11:42:59.340008Z",
     "shell.execute_reply.started": "2022-11-13T11:42:59.326010Z"
    }
   },
   "outputs": [
    {
     "data": {
      "text/html": [
       "<div>\n",
       "<style scoped>\n",
       "    .dataframe tbody tr th:only-of-type {\n",
       "        vertical-align: middle;\n",
       "    }\n",
       "\n",
       "    .dataframe tbody tr th {\n",
       "        vertical-align: top;\n",
       "    }\n",
       "\n",
       "    .dataframe thead th {\n",
       "        text-align: right;\n",
       "    }\n",
       "</style>\n",
       "<table border=\"1\" class=\"dataframe\">\n",
       "  <thead>\n",
       "    <tr style=\"text-align: right;\">\n",
       "      <th></th>\n",
       "      <th>fpr</th>\n",
       "      <th>tpr</th>\n",
       "      <th>thr</th>\n",
       "      <th>random</th>\n",
       "      <th>diff</th>\n",
       "    </tr>\n",
       "  </thead>\n",
       "  <tbody>\n",
       "    <tr>\n",
       "      <th>0</th>\n",
       "      <td>0.101266</td>\n",
       "      <td>0.744648</td>\n",
       "      <td>0.672169</td>\n",
       "      <td>0.101266</td>\n",
       "      <td>0.643382</td>\n",
       "    </tr>\n",
       "    <tr>\n",
       "      <th>1</th>\n",
       "      <td>0.115075</td>\n",
       "      <td>0.756881</td>\n",
       "      <td>0.608390</td>\n",
       "      <td>0.115075</td>\n",
       "      <td>0.641806</td>\n",
       "    </tr>\n",
       "    <tr>\n",
       "      <th>2</th>\n",
       "      <td>0.110472</td>\n",
       "      <td>0.749235</td>\n",
       "      <td>0.631889</td>\n",
       "      <td>0.110472</td>\n",
       "      <td>0.638764</td>\n",
       "    </tr>\n",
       "    <tr>\n",
       "      <th>3</th>\n",
       "      <td>0.108170</td>\n",
       "      <td>0.746177</td>\n",
       "      <td>0.653027</td>\n",
       "      <td>0.108170</td>\n",
       "      <td>0.638007</td>\n",
       "    </tr>\n",
       "    <tr>\n",
       "      <th>4</th>\n",
       "      <td>0.112773</td>\n",
       "      <td>0.750765</td>\n",
       "      <td>0.620625</td>\n",
       "      <td>0.112773</td>\n",
       "      <td>0.637991</td>\n",
       "    </tr>\n",
       "    <tr>\n",
       "      <th>...</th>\n",
       "      <td>...</td>\n",
       "      <td>...</td>\n",
       "      <td>...</td>\n",
       "      <td>...</td>\n",
       "      <td>...</td>\n",
       "    </tr>\n",
       "    <tr>\n",
       "      <th>430</th>\n",
       "      <td>0.994246</td>\n",
       "      <td>0.996942</td>\n",
       "      <td>0.055094</td>\n",
       "      <td>0.994246</td>\n",
       "      <td>0.002696</td>\n",
       "    </tr>\n",
       "    <tr>\n",
       "      <th>431</th>\n",
       "      <td>0.000000</td>\n",
       "      <td>0.001529</td>\n",
       "      <td>0.995158</td>\n",
       "      <td>0.000000</td>\n",
       "      <td>0.001529</td>\n",
       "    </tr>\n",
       "    <tr>\n",
       "      <th>432</th>\n",
       "      <td>0.000000</td>\n",
       "      <td>0.000000</td>\n",
       "      <td>1.995158</td>\n",
       "      <td>0.000000</td>\n",
       "      <td>0.000000</td>\n",
       "    </tr>\n",
       "    <tr>\n",
       "      <th>433</th>\n",
       "      <td>1.000000</td>\n",
       "      <td>1.000000</td>\n",
       "      <td>0.053560</td>\n",
       "      <td>1.000000</td>\n",
       "      <td>0.000000</td>\n",
       "    </tr>\n",
       "    <tr>\n",
       "      <th>434</th>\n",
       "      <td>1.000000</td>\n",
       "      <td>0.998471</td>\n",
       "      <td>0.054314</td>\n",
       "      <td>1.000000</td>\n",
       "      <td>-0.001529</td>\n",
       "    </tr>\n",
       "  </tbody>\n",
       "</table>\n",
       "<p>435 rows × 5 columns</p>\n",
       "</div>"
      ],
      "text/plain": [
       "          fpr       tpr       thr    random      diff\n",
       "0    0.101266  0.744648  0.672169  0.101266  0.643382\n",
       "1    0.115075  0.756881  0.608390  0.115075  0.641806\n",
       "2    0.110472  0.749235  0.631889  0.110472  0.638764\n",
       "3    0.108170  0.746177  0.653027  0.108170  0.638007\n",
       "4    0.112773  0.750765  0.620625  0.112773  0.637991\n",
       "..        ...       ...       ...       ...       ...\n",
       "430  0.994246  0.996942  0.055094  0.994246  0.002696\n",
       "431  0.000000  0.001529  0.995158  0.000000  0.001529\n",
       "432  0.000000  0.000000  1.995158  0.000000  0.000000\n",
       "433  1.000000  1.000000  0.053560  1.000000  0.000000\n",
       "434  1.000000  0.998471  0.054314  1.000000 -0.001529\n",
       "\n",
       "[435 rows x 5 columns]"
      ]
     },
     "execution_count": 181,
     "metadata": {},
     "output_type": "execute_result"
    }
   ],
   "source": [
    " roc"
   ]
  },
  {
   "cell_type": "code",
   "execution_count": 182,
   "metadata": {
    "execution": {
     "iopub.execute_input": "2022-11-13T11:42:59.538861Z",
     "iopub.status.busy": "2022-11-13T11:42:59.538326Z",
     "iopub.status.idle": "2022-11-13T11:42:59.545653Z",
     "shell.execute_reply": "2022-11-13T11:42:59.544591Z",
     "shell.execute_reply.started": "2022-11-13T11:42:59.538822Z"
    }
   },
   "outputs": [
    {
     "data": {
      "text/plain": [
       "0.6721694"
      ]
     },
     "execution_count": 182,
     "metadata": {},
     "output_type": "execute_result"
    }
   ],
   "source": [
    "roc.loc[0,'thr']"
   ]
  },
  {
   "cell_type": "code",
   "execution_count": 183,
   "metadata": {
    "execution": {
     "iopub.execute_input": "2022-11-13T11:42:59.735761Z",
     "iopub.status.busy": "2022-11-13T11:42:59.735085Z",
     "iopub.status.idle": "2022-11-13T11:42:59.742135Z",
     "shell.execute_reply": "2022-11-13T11:42:59.741200Z",
     "shell.execute_reply.started": "2022-11-13T11:42:59.735696Z"
    }
   },
   "outputs": [
    {
     "data": {
      "text/plain": [
       "(1523, 1523)"
      ]
     },
     "execution_count": 183,
     "metadata": {},
     "output_type": "execute_result"
    }
   ],
   "source": [
    "len(y_valid), len(valid_predictions)"
   ]
  },
  {
   "cell_type": "code",
   "execution_count": 184,
   "metadata": {
    "execution": {
     "iopub.execute_input": "2022-11-13T11:42:59.947668Z",
     "iopub.status.busy": "2022-11-13T11:42:59.947397Z",
     "iopub.status.idle": "2022-11-13T11:43:00.825550Z",
     "shell.execute_reply": "2022-11-13T11:43:00.824522Z",
     "shell.execute_reply.started": "2022-11-13T11:42:59.947643Z"
    }
   },
   "outputs": [
    {
     "name": "stderr",
     "output_type": "stream",
     "text": [
      "predictioning: 100%|███████████████████████████████████████████████████████████████████| 51/51 [00:02<00:00, 22.58it/s]\n"
     ]
    }
   ],
   "source": [
    "with torch.no_grad():\n",
    "    model.eval()\n",
    "    sub_predictions = []\n",
    "    for data in tqdm.tqdm(submission_data_loader, desc=f\"predictioning\"):\n",
    "        x = data['review'].type(torch.LongTensor).to(device)\n",
    "        y_pred = model(x)\n",
    "        sub_predictions += list(y_pred.squeeze().cpu().detach().numpy())"
   ]
  },
  {
   "cell_type": "code",
   "execution_count": 185,
   "metadata": {
    "execution": {
     "iopub.execute_input": "2022-11-13T11:43:00.828250Z",
     "iopub.status.busy": "2022-11-13T11:43:00.827595Z",
     "iopub.status.idle": "2022-11-13T11:43:00.834773Z",
     "shell.execute_reply": "2022-11-13T11:43:00.833798Z",
     "shell.execute_reply.started": "2022-11-13T11:43:00.828210Z"
    }
   },
   "outputs": [
    {
     "data": {
      "text/plain": [
       "3263"
      ]
     },
     "execution_count": 185,
     "metadata": {},
     "output_type": "execute_result"
    }
   ],
   "source": [
    "len(sub_predictions)"
   ]
  },
  {
   "cell_type": "code",
   "execution_count": 186,
   "metadata": {
    "execution": {
     "iopub.execute_input": "2022-11-13T11:43:00.837053Z",
     "iopub.status.busy": "2022-11-13T11:43:00.836384Z",
     "iopub.status.idle": "2022-11-13T11:43:00.846070Z",
     "shell.execute_reply": "2022-11-13T11:43:00.844994Z",
     "shell.execute_reply.started": "2022-11-13T11:43:00.837012Z"
    }
   },
   "outputs": [
    {
     "data": {
      "text/plain": [
       "array([1, 0, 1, ..., 1, 1, 0], dtype=int64)"
      ]
     },
     "execution_count": 186,
     "metadata": {},
     "output_type": "execute_result"
    }
   ],
   "source": [
    "(np.array(sub_predictions) > roc.loc[0,'thr']).astype(\"int64\")"
   ]
  },
  {
   "cell_type": "code",
   "execution_count": 188,
   "metadata": {
    "execution": {
     "iopub.execute_input": "2022-11-13T11:43:00.848853Z",
     "iopub.status.busy": "2022-11-13T11:43:00.848347Z",
     "iopub.status.idle": "2022-11-13T11:43:00.870950Z",
     "shell.execute_reply": "2022-11-13T11:43:00.870183Z",
     "shell.execute_reply.started": "2022-11-13T11:43:00.848810Z"
    }
   },
   "outputs": [
    {
     "data": {
      "text/html": [
       "<div>\n",
       "<style scoped>\n",
       "    .dataframe tbody tr th:only-of-type {\n",
       "        vertical-align: middle;\n",
       "    }\n",
       "\n",
       "    .dataframe tbody tr th {\n",
       "        vertical-align: top;\n",
       "    }\n",
       "\n",
       "    .dataframe thead th {\n",
       "        text-align: right;\n",
       "    }\n",
       "</style>\n",
       "<table border=\"1\" class=\"dataframe\">\n",
       "  <thead>\n",
       "    <tr style=\"text-align: right;\">\n",
       "      <th></th>\n",
       "      <th>id</th>\n",
       "      <th>target</th>\n",
       "    </tr>\n",
       "  </thead>\n",
       "  <tbody>\n",
       "    <tr>\n",
       "      <th>0</th>\n",
       "      <td>0</td>\n",
       "      <td>1</td>\n",
       "    </tr>\n",
       "    <tr>\n",
       "      <th>1</th>\n",
       "      <td>2</td>\n",
       "      <td>0</td>\n",
       "    </tr>\n",
       "    <tr>\n",
       "      <th>2</th>\n",
       "      <td>3</td>\n",
       "      <td>1</td>\n",
       "    </tr>\n",
       "    <tr>\n",
       "      <th>3</th>\n",
       "      <td>9</td>\n",
       "      <td>1</td>\n",
       "    </tr>\n",
       "    <tr>\n",
       "      <th>4</th>\n",
       "      <td>11</td>\n",
       "      <td>1</td>\n",
       "    </tr>\n",
       "    <tr>\n",
       "      <th>...</th>\n",
       "      <td>...</td>\n",
       "      <td>...</td>\n",
       "    </tr>\n",
       "    <tr>\n",
       "      <th>3258</th>\n",
       "      <td>10861</td>\n",
       "      <td>1</td>\n",
       "    </tr>\n",
       "    <tr>\n",
       "      <th>3259</th>\n",
       "      <td>10865</td>\n",
       "      <td>1</td>\n",
       "    </tr>\n",
       "    <tr>\n",
       "      <th>3260</th>\n",
       "      <td>10868</td>\n",
       "      <td>1</td>\n",
       "    </tr>\n",
       "    <tr>\n",
       "      <th>3261</th>\n",
       "      <td>10874</td>\n",
       "      <td>1</td>\n",
       "    </tr>\n",
       "    <tr>\n",
       "      <th>3262</th>\n",
       "      <td>10875</td>\n",
       "      <td>0</td>\n",
       "    </tr>\n",
       "  </tbody>\n",
       "</table>\n",
       "<p>3263 rows × 2 columns</p>\n",
       "</div>"
      ],
      "text/plain": [
       "         id  target\n",
       "0         0       1\n",
       "1         2       0\n",
       "2         3       1\n",
       "3         9       1\n",
       "4        11       1\n",
       "...     ...     ...\n",
       "3258  10861       1\n",
       "3259  10865       1\n",
       "3260  10868       1\n",
       "3261  10874       1\n",
       "3262  10875       0\n",
       "\n",
       "[3263 rows x 2 columns]"
      ]
     },
     "execution_count": 188,
     "metadata": {},
     "output_type": "execute_result"
    }
   ],
   "source": [
    "predictions = (np.array(sub_predictions) > roc.loc[0,'thr']).astype(\"int64\")\n",
    "\n",
    "sample_sumbission = pd.read_csv('C:/datasets/nlp-getting-started/sample_submission.csv') \n",
    "\n",
    "sample_sumbission['target'] = predictions\n",
    "\n",
    "sample_sumbission.to_csv('C:/datasets/nlp-getting-started/submis1.csv', index=False)\n",
    "\n",
    "pd.read_csv('C:/datasets/nlp-getting-started/submis1.csv')"
   ]
  },
  {
   "cell_type": "code",
   "execution_count": null,
   "metadata": {},
   "outputs": [],
   "source": []
  },
  {
   "cell_type": "code",
   "execution_count": null,
   "metadata": {},
   "outputs": [],
   "source": []
  },
  {
   "cell_type": "code",
   "execution_count": null,
   "metadata": {},
   "outputs": [],
   "source": []
  },
  {
   "cell_type": "code",
   "execution_count": null,
   "metadata": {},
   "outputs": [],
   "source": []
  },
  {
   "cell_type": "code",
   "execution_count": null,
   "metadata": {},
   "outputs": [],
   "source": []
  }
 ],
 "metadata": {
  "kernelspec": {
   "display_name": "Python 3 (ipykernel)",
   "language": "python",
   "name": "python3"
  },
  "language_info": {
   "codemirror_mode": {
    "name": "ipython",
    "version": 3
   },
   "file_extension": ".py",
   "mimetype": "text/x-python",
   "name": "python",
   "nbconvert_exporter": "python",
   "pygments_lexer": "ipython3",
   "version": "3.9.13"
  }
 },
 "nbformat": 4,
 "nbformat_minor": 4
}
