{
 "cells": [
  {
   "cell_type": "code",
   "execution_count": 1,
   "id": "5d106116",
   "metadata": {
    "execution": {
     "iopub.execute_input": "2022-03-05T23:36:47.615492Z",
     "iopub.status.busy": "2022-03-05T23:36:47.614922Z",
     "iopub.status.idle": "2022-03-05T23:36:50.403735Z",
     "shell.execute_reply": "2022-03-05T23:36:50.402946Z",
     "shell.execute_reply.started": "2022-03-05T22:25:22.852671Z"
    },
    "papermill": {
     "duration": 2.811379,
     "end_time": "2022-03-05T23:36:50.403883",
     "exception": false,
     "start_time": "2022-03-05T23:36:47.592504",
     "status": "completed"
    },
    "tags": []
   },
   "outputs": [],
   "source": [
    "import torch\n",
    "import torch.nn as nn\n",
    "import torch.optim as optim\n",
    "import torch.nn.functional as F\n",
    "import itertools\n",
    "from torch.utils.data import Dataset\n",
    "from torch.utils.data import DataLoader\n",
    "from sklearn.metrics import roc_curve \n",
    "import numpy as np\n",
    "import pandas as pd\n",
    "\n",
    "import string\n",
    "from nltk.corpus import stopwords\n",
    "\n",
    "from sklearn.model_selection import train_test_split\n",
    "import tqdm"
   ]
  },
  {
   "cell_type": "markdown",
   "id": "1616f526",
   "metadata": {
    "papermill": {
     "duration": 0.014443,
     "end_time": "2022-03-05T23:36:50.432398",
     "exception": false,
     "start_time": "2022-03-05T23:36:50.417955",
     "status": "completed"
    },
    "tags": []
   },
   "source": [
    "# 1. Preprocessing"
   ]
  },
  {
   "cell_type": "code",
   "execution_count": 2,
   "id": "67fa3ea0",
   "metadata": {
    "execution": {
     "iopub.execute_input": "2022-03-05T23:36:50.467952Z",
     "iopub.status.busy": "2022-03-05T23:36:50.467242Z",
     "iopub.status.idle": "2022-03-05T23:36:50.470727Z",
     "shell.execute_reply": "2022-03-05T23:36:50.470301Z",
     "shell.execute_reply.started": "2022-03-05T22:47:33.107881Z"
    },
    "papermill": {
     "duration": 0.024814,
     "end_time": "2022-03-05T23:36:50.470836",
     "exception": false,
     "start_time": "2022-03-05T23:36:50.446022",
     "status": "completed"
    },
    "tags": []
   },
   "outputs": [],
   "source": [
    "# We define utility functions for text processing.\n",
    "\n",
    "def removePunctuation(text):\n",
    "    \"\"\"\n",
    "    Remove punctuation symbols and convert text to lowercase\n",
    "    \"\"\"\n",
    "    return text.lower().translate(str.maketrans('', '', string.punctuation))\n",
    "\n",
    "def removeStopWords(text):\n",
    "    \"\"\"\n",
    "    Filter words that are not found in stop words\n",
    "    \"\"\"\n",
    "    return \" \".join([word for word in text.split() if word not in stopwords.words(\"english\")])\n",
    "\n",
    "def buildDictionary(texts):\n",
    "    \"\"\"\n",
    "    Build the dictionary of words where key is the word and value is the index.\n",
    "    \"\"\"\n",
    "    hashmap = {}\n",
    "    for text in texts:\n",
    "        for word in text.split():\n",
    "            hashmap[word] = hashmap.get(word, 0) + 1\n",
    "    return {w:i+1 for i, w in enumerate(list(hashmap.keys()))}\n",
    "\n",
    "def calculateMaxSeqLen(texts):\n",
    "    \"\"\"\n",
    "    Calculates the maximum sequence length found in the corpus\n",
    "    \"\"\"\n",
    "    max_len = float('-inf')\n",
    "    for text in texts:\n",
    "        if len(text.split()) > max_len:\n",
    "            max_len = len(text.split())\n",
    "            \n",
    "    return max_len"
   ]
  },
  {
   "cell_type": "code",
   "execution_count": 3,
   "id": "ac89e8d0",
   "metadata": {
    "execution": {
     "iopub.execute_input": "2022-03-05T23:36:50.502816Z",
     "iopub.status.busy": "2022-03-05T23:36:50.502157Z",
     "iopub.status.idle": "2022-03-05T23:37:03.086236Z",
     "shell.execute_reply": "2022-03-05T23:37:03.085419Z"
    },
    "papermill": {
     "duration": 12.602015,
     "end_time": "2022-03-05T23:37:03.086375",
     "exception": false,
     "start_time": "2022-03-05T23:36:50.484360",
     "status": "completed"
    },
    "tags": []
   },
   "outputs": [],
   "source": [
    "# Load the *.csv* file and filter the features that are useful for the problem:\n",
    "data = pd.read_csv(\"C:/datasets/nlp-getting-started/train.csv\")"
   ]
  },
  {
   "cell_type": "code",
   "execution_count": 4,
   "id": "31f239fc",
   "metadata": {
    "execution": {
     "iopub.execute_input": "2022-03-05T23:36:50.502816Z",
     "iopub.status.busy": "2022-03-05T23:36:50.502157Z",
     "iopub.status.idle": "2022-03-05T23:37:03.086236Z",
     "shell.execute_reply": "2022-03-05T23:37:03.085419Z"
    },
    "papermill": {
     "duration": 12.602015,
     "end_time": "2022-03-05T23:37:03.086375",
     "exception": false,
     "start_time": "2022-03-05T23:36:50.484360",
     "status": "completed"
    },
    "tags": []
   },
   "outputs": [],
   "source": [
    "data = data[[\"text\",\"target\"]]"
   ]
  },
  {
   "cell_type": "code",
   "execution_count": 5,
   "id": "b1c9bb85",
   "metadata": {
    "execution": {
     "iopub.execute_input": "2022-03-05T23:36:50.502816Z",
     "iopub.status.busy": "2022-03-05T23:36:50.502157Z",
     "iopub.status.idle": "2022-03-05T23:37:03.086236Z",
     "shell.execute_reply": "2022-03-05T23:37:03.085419Z"
    },
    "papermill": {
     "duration": 12.602015,
     "end_time": "2022-03-05T23:37:03.086375",
     "exception": false,
     "start_time": "2022-03-05T23:36:50.484360",
     "status": "completed"
    },
    "tags": []
   },
   "outputs": [
    {
     "data": {
      "text/html": [
       "<div>\n",
       "<style scoped>\n",
       "    .dataframe tbody tr th:only-of-type {\n",
       "        vertical-align: middle;\n",
       "    }\n",
       "\n",
       "    .dataframe tbody tr th {\n",
       "        vertical-align: top;\n",
       "    }\n",
       "\n",
       "    .dataframe thead th {\n",
       "        text-align: right;\n",
       "    }\n",
       "</style>\n",
       "<table border=\"1\" class=\"dataframe\">\n",
       "  <thead>\n",
       "    <tr style=\"text-align: right;\">\n",
       "      <th></th>\n",
       "      <th>text</th>\n",
       "      <th>target</th>\n",
       "    </tr>\n",
       "  </thead>\n",
       "  <tbody>\n",
       "    <tr>\n",
       "      <th>0</th>\n",
       "      <td>Our Deeds are the Reason of this #earthquake M...</td>\n",
       "      <td>1</td>\n",
       "    </tr>\n",
       "    <tr>\n",
       "      <th>1</th>\n",
       "      <td>Forest fire near La Ronge Sask. Canada</td>\n",
       "      <td>1</td>\n",
       "    </tr>\n",
       "    <tr>\n",
       "      <th>2</th>\n",
       "      <td>All residents asked to 'shelter in place' are ...</td>\n",
       "      <td>1</td>\n",
       "    </tr>\n",
       "    <tr>\n",
       "      <th>3</th>\n",
       "      <td>13,000 people receive #wildfires evacuation or...</td>\n",
       "      <td>1</td>\n",
       "    </tr>\n",
       "    <tr>\n",
       "      <th>4</th>\n",
       "      <td>Just got sent this photo from Ruby #Alaska as ...</td>\n",
       "      <td>1</td>\n",
       "    </tr>\n",
       "    <tr>\n",
       "      <th>...</th>\n",
       "      <td>...</td>\n",
       "      <td>...</td>\n",
       "    </tr>\n",
       "    <tr>\n",
       "      <th>7608</th>\n",
       "      <td>Two giant cranes holding a bridge collapse int...</td>\n",
       "      <td>1</td>\n",
       "    </tr>\n",
       "    <tr>\n",
       "      <th>7609</th>\n",
       "      <td>@aria_ahrary @TheTawniest The out of control w...</td>\n",
       "      <td>1</td>\n",
       "    </tr>\n",
       "    <tr>\n",
       "      <th>7610</th>\n",
       "      <td>M1.94 [01:04 UTC]?5km S of Volcano Hawaii. htt...</td>\n",
       "      <td>1</td>\n",
       "    </tr>\n",
       "    <tr>\n",
       "      <th>7611</th>\n",
       "      <td>Police investigating after an e-bike collided ...</td>\n",
       "      <td>1</td>\n",
       "    </tr>\n",
       "    <tr>\n",
       "      <th>7612</th>\n",
       "      <td>The Latest: More Homes Razed by Northern Calif...</td>\n",
       "      <td>1</td>\n",
       "    </tr>\n",
       "  </tbody>\n",
       "</table>\n",
       "<p>7613 rows × 2 columns</p>\n",
       "</div>"
      ],
      "text/plain": [
       "                                                   text  target\n",
       "0     Our Deeds are the Reason of this #earthquake M...       1\n",
       "1                Forest fire near La Ronge Sask. Canada       1\n",
       "2     All residents asked to 'shelter in place' are ...       1\n",
       "3     13,000 people receive #wildfires evacuation or...       1\n",
       "4     Just got sent this photo from Ruby #Alaska as ...       1\n",
       "...                                                 ...     ...\n",
       "7608  Two giant cranes holding a bridge collapse int...       1\n",
       "7609  @aria_ahrary @TheTawniest The out of control w...       1\n",
       "7610  M1.94 [01:04 UTC]?5km S of Volcano Hawaii. htt...       1\n",
       "7611  Police investigating after an e-bike collided ...       1\n",
       "7612  The Latest: More Homes Razed by Northern Calif...       1\n",
       "\n",
       "[7613 rows x 2 columns]"
      ]
     },
     "execution_count": 5,
     "metadata": {},
     "output_type": "execute_result"
    }
   ],
   "source": [
    "data"
   ]
  },
  {
   "cell_type": "code",
   "execution_count": 6,
   "id": "279fb3ef",
   "metadata": {
    "execution": {
     "iopub.execute_input": "2022-03-05T23:36:50.502816Z",
     "iopub.status.busy": "2022-03-05T23:36:50.502157Z",
     "iopub.status.idle": "2022-03-05T23:37:03.086236Z",
     "shell.execute_reply": "2022-03-05T23:37:03.085419Z"
    },
    "papermill": {
     "duration": 12.602015,
     "end_time": "2022-03-05T23:37:03.086375",
     "exception": false,
     "start_time": "2022-03-05T23:36:50.484360",
     "status": "completed"
    },
    "tags": []
   },
   "outputs": [
    {
     "data": {
      "text/plain": [
       "0    4342\n",
       "1    3271\n",
       "Name: target, dtype: int64"
      ]
     },
     "execution_count": 6,
     "metadata": {},
     "output_type": "execute_result"
    }
   ],
   "source": [
    "data[\"target\"].value_counts()"
   ]
  },
  {
   "cell_type": "code",
   "execution_count": 7,
   "id": "352fef7e",
   "metadata": {
    "execution": {
     "iopub.execute_input": "2022-03-05T23:36:50.502816Z",
     "iopub.status.busy": "2022-03-05T23:36:50.502157Z",
     "iopub.status.idle": "2022-03-05T23:37:03.086236Z",
     "shell.execute_reply": "2022-03-05T23:37:03.085419Z"
    },
    "papermill": {
     "duration": 12.602015,
     "end_time": "2022-03-05T23:37:03.086375",
     "exception": false,
     "start_time": "2022-03-05T23:36:50.484360",
     "status": "completed"
    },
    "tags": []
   },
   "outputs": [],
   "source": [
    "# Text preprocessing. Remove punctuation symbols and stop words:\n",
    "data[\"text\"] = data[\"text\"].apply(lambda x: removePunctuation(x))\n",
    "data[\"text\"] = data[\"text\"].apply(lambda x: removeStopWords(x))"
   ]
  },
  {
   "cell_type": "code",
   "execution_count": 8,
   "id": "17881799",
   "metadata": {
    "execution": {
     "iopub.execute_input": "2022-03-05T23:37:03.137389Z",
     "iopub.status.busy": "2022-03-05T23:37:03.127393Z",
     "iopub.status.idle": "2022-03-05T23:37:03.161258Z",
     "shell.execute_reply": "2022-03-05T23:37:03.160556Z",
     "shell.execute_reply.started": "2022-03-05T22:47:35.755764Z"
    },
    "papermill": {
     "duration": 0.060689,
     "end_time": "2022-03-05T23:37:03.161411",
     "exception": false,
     "start_time": "2022-03-05T23:37:03.100722",
     "status": "completed"
    },
    "tags": []
   },
   "outputs": [
    {
     "name": "stdout",
     "output_type": "stream",
     "text": [
      "Number of words in dictionary: 22564\n",
      "Maximum sequence lenght: 25\n"
     ]
    }
   ],
   "source": [
    "dictionary = buildDictionary(data[\"text\"])\n",
    "max_seq_len = calculateMaxSeqLen(data[\"text\"])\n",
    "\n",
    "print(f\"Number of words in dictionary: {len(dictionary)}\")\n",
    "print(f\"Maximum sequence lenght: {max_seq_len}\")"
   ]
  },
  {
   "cell_type": "code",
   "execution_count": 9,
   "id": "1ccd9997",
   "metadata": {
    "execution": {
     "iopub.execute_input": "2022-03-05T23:37:03.193272Z",
     "iopub.status.busy": "2022-03-05T23:37:03.192490Z",
     "iopub.status.idle": "2022-03-05T23:37:03.203080Z",
     "shell.execute_reply": "2022-03-05T23:37:03.202656Z",
     "shell.execute_reply.started": "2022-03-05T23:07:00.606833Z"
    },
    "papermill": {
     "duration": 0.026668,
     "end_time": "2022-03-05T23:37:03.203185",
     "exception": false,
     "start_time": "2022-03-05T23:37:03.176517",
     "status": "completed"
    },
    "tags": []
   },
   "outputs": [
    {
     "data": {
      "text/plain": [
       "0    0.57034\n",
       "1    0.42966\n",
       "Name: target, dtype: float64"
      ]
     },
     "execution_count": 9,
     "metadata": {},
     "output_type": "execute_result"
    }
   ],
   "source": [
    "data[\"target\"].value_counts() / len(data)"
   ]
  },
  {
   "cell_type": "code",
   "execution_count": 10,
   "id": "e82b0890",
   "metadata": {
    "execution": {
     "iopub.execute_input": "2022-03-05T23:37:03.193272Z",
     "iopub.status.busy": "2022-03-05T23:37:03.192490Z",
     "iopub.status.idle": "2022-03-05T23:37:03.203080Z",
     "shell.execute_reply": "2022-03-05T23:37:03.202656Z",
     "shell.execute_reply.started": "2022-03-05T23:07:00.606833Z"
    },
    "papermill": {
     "duration": 0.026668,
     "end_time": "2022-03-05T23:37:03.203185",
     "exception": false,
     "start_time": "2022-03-05T23:37:03.176517",
     "status": "completed"
    },
    "tags": []
   },
   "outputs": [
    {
     "data": {
      "text/html": [
       "<div>\n",
       "<style scoped>\n",
       "    .dataframe tbody tr th:only-of-type {\n",
       "        vertical-align: middle;\n",
       "    }\n",
       "\n",
       "    .dataframe tbody tr th {\n",
       "        vertical-align: top;\n",
       "    }\n",
       "\n",
       "    .dataframe thead th {\n",
       "        text-align: right;\n",
       "    }\n",
       "</style>\n",
       "<table border=\"1\" class=\"dataframe\">\n",
       "  <thead>\n",
       "    <tr style=\"text-align: right;\">\n",
       "      <th></th>\n",
       "      <th>text</th>\n",
       "      <th>target</th>\n",
       "    </tr>\n",
       "  </thead>\n",
       "  <tbody>\n",
       "    <tr>\n",
       "      <th>0</th>\n",
       "      <td>deeds reason earthquake may allah forgive us</td>\n",
       "      <td>1</td>\n",
       "    </tr>\n",
       "    <tr>\n",
       "      <th>1</th>\n",
       "      <td>forest fire near la ronge sask canada</td>\n",
       "      <td>1</td>\n",
       "    </tr>\n",
       "    <tr>\n",
       "      <th>2</th>\n",
       "      <td>residents asked shelter place notified officer...</td>\n",
       "      <td>1</td>\n",
       "    </tr>\n",
       "    <tr>\n",
       "      <th>3</th>\n",
       "      <td>13000 people receive wildfires evacuation orde...</td>\n",
       "      <td>1</td>\n",
       "    </tr>\n",
       "    <tr>\n",
       "      <th>4</th>\n",
       "      <td>got sent photo ruby alaska smoke wildfires pou...</td>\n",
       "      <td>1</td>\n",
       "    </tr>\n",
       "    <tr>\n",
       "      <th>...</th>\n",
       "      <td>...</td>\n",
       "      <td>...</td>\n",
       "    </tr>\n",
       "    <tr>\n",
       "      <th>7608</th>\n",
       "      <td>two giant cranes holding bridge collapse nearb...</td>\n",
       "      <td>1</td>\n",
       "    </tr>\n",
       "    <tr>\n",
       "      <th>7609</th>\n",
       "      <td>ariaahrary thetawniest control wild fires cali...</td>\n",
       "      <td>1</td>\n",
       "    </tr>\n",
       "    <tr>\n",
       "      <th>7610</th>\n",
       "      <td>m194 0104 utc5km volcano hawaii httptcozdtoyd8ebj</td>\n",
       "      <td>1</td>\n",
       "    </tr>\n",
       "    <tr>\n",
       "      <th>7611</th>\n",
       "      <td>police investigating ebike collided car little...</td>\n",
       "      <td>1</td>\n",
       "    </tr>\n",
       "    <tr>\n",
       "      <th>7612</th>\n",
       "      <td>latest homes razed northern california wildfir...</td>\n",
       "      <td>1</td>\n",
       "    </tr>\n",
       "  </tbody>\n",
       "</table>\n",
       "<p>7613 rows × 2 columns</p>\n",
       "</div>"
      ],
      "text/plain": [
       "                                                   text  target\n",
       "0          deeds reason earthquake may allah forgive us       1\n",
       "1                 forest fire near la ronge sask canada       1\n",
       "2     residents asked shelter place notified officer...       1\n",
       "3     13000 people receive wildfires evacuation orde...       1\n",
       "4     got sent photo ruby alaska smoke wildfires pou...       1\n",
       "...                                                 ...     ...\n",
       "7608  two giant cranes holding bridge collapse nearb...       1\n",
       "7609  ariaahrary thetawniest control wild fires cali...       1\n",
       "7610  m194 0104 utc5km volcano hawaii httptcozdtoyd8ebj       1\n",
       "7611  police investigating ebike collided car little...       1\n",
       "7612  latest homes razed northern california wildfir...       1\n",
       "\n",
       "[7613 rows x 2 columns]"
      ]
     },
     "execution_count": 10,
     "metadata": {},
     "output_type": "execute_result"
    }
   ],
   "source": [
    "data"
   ]
  },
  {
   "cell_type": "code",
   "execution_count": 11,
   "id": "07dcc1b5",
   "metadata": {
    "execution": {
     "iopub.execute_input": "2022-03-05T23:37:03.193272Z",
     "iopub.status.busy": "2022-03-05T23:37:03.192490Z",
     "iopub.status.idle": "2022-03-05T23:37:03.203080Z",
     "shell.execute_reply": "2022-03-05T23:37:03.202656Z",
     "shell.execute_reply.started": "2022-03-05T23:07:00.606833Z"
    },
    "papermill": {
     "duration": 0.026668,
     "end_time": "2022-03-05T23:37:03.203185",
     "exception": false,
     "start_time": "2022-03-05T23:37:03.176517",
     "status": "completed"
    },
    "tags": []
   },
   "outputs": [],
   "source": [
    "# Split data into training and testing\n",
    "x_train, x_valid, y_train, y_valid = train_test_split(data[\"text\"], data[\"target\"], test_size=0.3, stratify=data[\"target\"])"
   ]
  },
  {
   "cell_type": "markdown",
   "id": "938ed3fe",
   "metadata": {
    "papermill": {
     "duration": 0.013899,
     "end_time": "2022-03-05T23:37:03.231400",
     "exception": false,
     "start_time": "2022-03-05T23:37:03.217501",
     "status": "completed"
    },
    "tags": []
   },
   "source": [
    "# 2. Data loaders"
   ]
  },
  {
   "cell_type": "code",
   "execution_count": 12,
   "id": "74b7a3f5",
   "metadata": {
    "execution": {
     "iopub.execute_input": "2022-03-05T23:37:03.266298Z",
     "iopub.status.busy": "2022-03-05T23:37:03.265540Z",
     "iopub.status.idle": "2022-03-05T23:37:03.267884Z",
     "shell.execute_reply": "2022-03-05T23:37:03.267450Z",
     "shell.execute_reply.started": "2022-03-05T23:22:46.626159Z"
    },
    "papermill": {
     "duration": 0.020388,
     "end_time": "2022-03-05T23:37:03.267992",
     "exception": false,
     "start_time": "2022-03-05T23:37:03.247604",
     "status": "completed"
    },
    "tags": []
   },
   "outputs": [
    {
     "data": {
      "text/plain": [
       "0    1303\n",
       "1     981\n",
       "Name: target, dtype: int64"
      ]
     },
     "execution_count": 12,
     "metadata": {},
     "output_type": "execute_result"
    }
   ],
   "source": [
    "y_valid.value_counts()"
   ]
  },
  {
   "cell_type": "code",
   "execution_count": 13,
   "id": "9223271f",
   "metadata": {
    "execution": {
     "iopub.execute_input": "2022-03-05T23:37:03.266298Z",
     "iopub.status.busy": "2022-03-05T23:37:03.265540Z",
     "iopub.status.idle": "2022-03-05T23:37:03.267884Z",
     "shell.execute_reply": "2022-03-05T23:37:03.267450Z",
     "shell.execute_reply.started": "2022-03-05T23:22:46.626159Z"
    },
    "papermill": {
     "duration": 0.020388,
     "end_time": "2022-03-05T23:37:03.267992",
     "exception": false,
     "start_time": "2022-03-05T23:37:03.247604",
     "status": "completed"
    },
    "tags": []
   },
   "outputs": [
    {
     "data": {
      "text/plain": [
       "0    3039\n",
       "1    2290\n",
       "Name: target, dtype: int64"
      ]
     },
     "execution_count": 13,
     "metadata": {},
     "output_type": "execute_result"
    }
   ],
   "source": [
    "y_train.value_counts()"
   ]
  },
  {
   "cell_type": "code",
   "execution_count": 14,
   "id": "a5a1483a",
   "metadata": {
    "execution": {
     "iopub.execute_input": "2022-03-05T23:37:03.266298Z",
     "iopub.status.busy": "2022-03-05T23:37:03.265540Z",
     "iopub.status.idle": "2022-03-05T23:37:03.267884Z",
     "shell.execute_reply": "2022-03-05T23:37:03.267450Z",
     "shell.execute_reply.started": "2022-03-05T23:22:46.626159Z"
    },
    "papermill": {
     "duration": 0.020388,
     "end_time": "2022-03-05T23:37:03.267992",
     "exception": false,
     "start_time": "2022-03-05T23:37:03.247604",
     "status": "completed"
    },
    "tags": []
   },
   "outputs": [],
   "source": [
    "BATCH_SIZE = 64\n",
    "LEARNING_RATE = 0.001\n",
    "DROPOUT = 0.4\n",
    "INPUT_SIZE = len(dictionary) + 1"
   ]
  },
  {
   "cell_type": "code",
   "execution_count": 15,
   "id": "e68fde33",
   "metadata": {
    "execution": {
     "iopub.execute_input": "2022-03-05T23:37:03.303669Z",
     "iopub.status.busy": "2022-03-05T23:37:03.303034Z",
     "iopub.status.idle": "2022-03-05T23:37:03.305240Z",
     "shell.execute_reply": "2022-03-05T23:37:03.305601Z",
     "shell.execute_reply.started": "2022-03-05T23:08:21.742035Z"
    },
    "papermill": {
     "duration": 0.023543,
     "end_time": "2022-03-05T23:37:03.305753",
     "exception": false,
     "start_time": "2022-03-05T23:37:03.282210",
     "status": "completed"
    },
    "tags": []
   },
   "outputs": [],
   "source": [
    "class DataHandler(Dataset):\n",
    "    \"\"\"\n",
    "    Iterator generator for data loader construction\n",
    "    \"\"\"\n",
    "    \n",
    "    @staticmethod\n",
    "    def tokenizer(X, max_seq_len, dicitionary):\n",
    "        \"\"\"\n",
    "        Given a sequence of words, tokenize each word with \n",
    "        use of `dictionary` and apply padding considering `max_seq_len`\n",
    "        \"\"\"\n",
    "        sequences = []\n",
    "        for x in X:\n",
    "            sequence = [0] * max_seq_len\n",
    "            for idx, word in enumerate(x.split()):\n",
    "                sequence[idx] = dictionary[word]\n",
    "            sequences.append(sequence)\n",
    "            \n",
    "        return np.array(sequences)\n",
    "    \n",
    "    def __init__(self, x, y, max_seq_len, dictionary):\n",
    "        self.x = self.tokenizer(x, max_seq_len, dictionary)\n",
    "        self.y = y.to_numpy()\n",
    "        \n",
    "    def __len__(self):\n",
    "        return len(self.x)\n",
    "    \n",
    "    def __getitem__(self, idx):\n",
    "        return self.x[idx], self.y[idx]"
   ]
  },
  {
   "cell_type": "code",
   "execution_count": 16,
   "id": "f078953b",
   "metadata": {
    "execution": {
     "iopub.execute_input": "2022-03-05T23:37:03.383601Z",
     "iopub.status.busy": "2022-03-05T23:37:03.357714Z",
     "iopub.status.idle": "2022-03-05T23:37:03.398823Z",
     "shell.execute_reply": "2022-03-05T23:37:03.398339Z",
     "shell.execute_reply.started": "2022-03-05T23:08:32.591922Z"
    },
    "papermill": {
     "duration": 0.079154,
     "end_time": "2022-03-05T23:37:03.398945",
     "exception": false,
     "start_time": "2022-03-05T23:37:03.319791",
     "status": "completed"
    },
    "tags": []
   },
   "outputs": [],
   "source": [
    "# Initialize iterator objects for the data loader\n",
    "train = DataHandler(x_train, y_train, max_seq_len, dictionary)\n",
    "valid = DataHandler(x_valid, y_valid, max_seq_len, dictionary)"
   ]
  },
  {
   "cell_type": "code",
   "execution_count": 17,
   "id": "92af8103",
   "metadata": {
    "execution": {
     "iopub.execute_input": "2022-03-05T23:37:03.383601Z",
     "iopub.status.busy": "2022-03-05T23:37:03.357714Z",
     "iopub.status.idle": "2022-03-05T23:37:03.398823Z",
     "shell.execute_reply": "2022-03-05T23:37:03.398339Z",
     "shell.execute_reply.started": "2022-03-05T23:08:32.591922Z"
    },
    "papermill": {
     "duration": 0.079154,
     "end_time": "2022-03-05T23:37:03.398945",
     "exception": false,
     "start_time": "2022-03-05T23:37:03.319791",
     "status": "completed"
    },
    "tags": []
   },
   "outputs": [],
   "source": [
    "# Initialize data loaders\n",
    "loader_training = DataLoader(train, batch_size=BATCH_SIZE, shuffle=False)\n",
    "loader_valid = DataLoader(valid, batch_size=BATCH_SIZE, shuffle=False)"
   ]
  },
  {
   "cell_type": "code",
   "execution_count": 18,
   "id": "f5dc49c3",
   "metadata": {
    "execution": {
     "iopub.execute_input": "2022-03-05T23:37:03.383601Z",
     "iopub.status.busy": "2022-03-05T23:37:03.357714Z",
     "iopub.status.idle": "2022-03-05T23:37:03.398823Z",
     "shell.execute_reply": "2022-03-05T23:37:03.398339Z",
     "shell.execute_reply.started": "2022-03-05T23:08:32.591922Z"
    },
    "papermill": {
     "duration": 0.079154,
     "end_time": "2022-03-05T23:37:03.398945",
     "exception": false,
     "start_time": "2022-03-05T23:37:03.319791",
     "status": "completed"
    },
    "tags": []
   },
   "outputs": [],
   "source": [
    "txt1 = iter(loader_valid)"
   ]
  },
  {
   "cell_type": "code",
   "execution_count": 19,
   "id": "58f24f65",
   "metadata": {
    "execution": {
     "iopub.execute_input": "2022-03-05T23:37:03.383601Z",
     "iopub.status.busy": "2022-03-05T23:37:03.357714Z",
     "iopub.status.idle": "2022-03-05T23:37:03.398823Z",
     "shell.execute_reply": "2022-03-05T23:37:03.398339Z",
     "shell.execute_reply.started": "2022-03-05T23:08:32.591922Z"
    },
    "papermill": {
     "duration": 0.079154,
     "end_time": "2022-03-05T23:37:03.398945",
     "exception": false,
     "start_time": "2022-03-05T23:37:03.319791",
     "status": "completed"
    },
    "tags": []
   },
   "outputs": [],
   "source": [
    "x, y = next(txt1)"
   ]
  },
  {
   "cell_type": "code",
   "execution_count": 20,
   "id": "65da4d49",
   "metadata": {
    "execution": {
     "iopub.execute_input": "2022-03-05T23:37:03.383601Z",
     "iopub.status.busy": "2022-03-05T23:37:03.357714Z",
     "iopub.status.idle": "2022-03-05T23:37:03.398823Z",
     "shell.execute_reply": "2022-03-05T23:37:03.398339Z",
     "shell.execute_reply.started": "2022-03-05T23:08:32.591922Z"
    },
    "papermill": {
     "duration": 0.079154,
     "end_time": "2022-03-05T23:37:03.398945",
     "exception": false,
     "start_time": "2022-03-05T23:37:03.319791",
     "status": "completed"
    },
    "tags": []
   },
   "outputs": [
    {
     "data": {
      "text/plain": [
       "{'deeds': 1,\n",
       " 'reason': 2,\n",
       " 'earthquake': 3,\n",
       " 'may': 4,\n",
       " 'allah': 5,\n",
       " 'forgive': 6,\n",
       " 'us': 7,\n",
       " 'forest': 8,\n",
       " 'fire': 9,\n",
       " 'near': 10,\n",
       " 'la': 11,\n",
       " 'ronge': 12,\n",
       " 'sask': 13,\n",
       " 'canada': 14,\n",
       " 'residents': 15,\n",
       " 'asked': 16,\n",
       " 'shelter': 17,\n",
       " 'place': 18,\n",
       " 'notified': 19,\n",
       " 'officers': 20,\n",
       " 'evacuation': 21,\n",
       " 'orders': 22,\n",
       " 'expected': 23,\n",
       " '13000': 24,\n",
       " 'people': 25,\n",
       " 'receive': 26,\n",
       " 'wildfires': 27,\n",
       " 'california': 28,\n",
       " 'got': 29,\n",
       " 'sent': 30,\n",
       " 'photo': 31,\n",
       " 'ruby': 32,\n",
       " 'alaska': 33,\n",
       " 'smoke': 34,\n",
       " 'pours': 35,\n",
       " 'school': 36,\n",
       " 'rockyfire': 37,\n",
       " 'update': 38,\n",
       " 'hwy': 39,\n",
       " '20': 40,\n",
       " 'closed': 41,\n",
       " 'directions': 42,\n",
       " 'due': 43,\n",
       " 'lake': 44,\n",
       " 'county': 45,\n",
       " 'cafire': 46,\n",
       " 'flood': 47,\n",
       " 'disaster': 48,\n",
       " 'heavy': 49,\n",
       " 'rain': 50,\n",
       " 'causes': 51,\n",
       " 'flash': 52,\n",
       " 'flooding': 53,\n",
       " 'streets': 54,\n",
       " 'manitou': 55,\n",
       " 'colorado': 56,\n",
       " 'springs': 57,\n",
       " 'areas': 58,\n",
       " 'im': 59,\n",
       " 'top': 60,\n",
       " 'hill': 61,\n",
       " 'see': 62,\n",
       " 'woods': 63,\n",
       " 'theres': 64,\n",
       " 'emergency': 65,\n",
       " 'happening': 66,\n",
       " 'building': 67,\n",
       " 'across': 68,\n",
       " 'street': 69,\n",
       " 'afraid': 70,\n",
       " 'tornado': 71,\n",
       " 'coming': 72,\n",
       " 'area': 73,\n",
       " 'three': 74,\n",
       " 'died': 75,\n",
       " 'heat': 76,\n",
       " 'wave': 77,\n",
       " 'far': 78,\n",
       " 'haha': 79,\n",
       " 'south': 80,\n",
       " 'tampa': 81,\n",
       " 'getting': 82,\n",
       " 'flooded': 83,\n",
       " 'hah': 84,\n",
       " 'wait': 85,\n",
       " 'second': 86,\n",
       " 'live': 87,\n",
       " 'gonna': 88,\n",
       " 'fvck': 89,\n",
       " 'raining': 90,\n",
       " 'florida': 91,\n",
       " 'tampabay': 92,\n",
       " '18': 93,\n",
       " '19': 94,\n",
       " 'days': 95,\n",
       " 'ive': 96,\n",
       " 'lost': 97,\n",
       " 'count': 98,\n",
       " 'bago': 99,\n",
       " 'myanmar': 100,\n",
       " 'arrived': 101,\n",
       " 'damage': 102,\n",
       " 'bus': 103,\n",
       " '80': 104,\n",
       " 'multi': 105,\n",
       " 'car': 106,\n",
       " 'crash': 107,\n",
       " 'breaking': 108,\n",
       " 'whats': 109,\n",
       " 'man': 110,\n",
       " 'love': 111,\n",
       " 'fruits': 112,\n",
       " 'summer': 113,\n",
       " 'lovely': 114,\n",
       " 'fast': 115,\n",
       " 'goooooooaaaaaal': 116,\n",
       " 'ridiculous': 117,\n",
       " 'london': 118,\n",
       " 'cool': 119,\n",
       " 'skiing': 120,\n",
       " 'wonderful': 121,\n",
       " 'day': 122,\n",
       " 'looooool': 123,\n",
       " 'wayi': 124,\n",
       " 'cant': 125,\n",
       " 'eat': 126,\n",
       " 'shit': 127,\n",
       " 'nyc': 128,\n",
       " 'last': 129,\n",
       " 'week': 130,\n",
       " 'girlfriend': 131,\n",
       " 'cooool': 132,\n",
       " 'like': 133,\n",
       " 'pasta': 134,\n",
       " 'end': 135,\n",
       " 'bbcmtd': 136,\n",
       " 'wholesale': 137,\n",
       " 'markets': 138,\n",
       " 'ablaze': 139,\n",
       " 'httptcolhyxeohy6c': 140,\n",
       " 'always': 141,\n",
       " 'try': 142,\n",
       " 'bring': 143,\n",
       " 'metal': 144,\n",
       " 'rt': 145,\n",
       " 'httptcoyao1e0xngw': 146,\n",
       " 'africanbaze': 147,\n",
       " 'newsnigeria': 148,\n",
       " 'flag': 149,\n",
       " 'set': 150,\n",
       " 'aba': 151,\n",
       " 'httptco2nndbgwyei': 152,\n",
       " 'crying': 153,\n",
       " 'plus': 154,\n",
       " 'side': 155,\n",
       " 'look': 156,\n",
       " 'sky': 157,\n",
       " 'night': 158,\n",
       " 'httptcoqqsmshaj3n': 159,\n",
       " 'phdsquares': 160,\n",
       " 'mufc': 161,\n",
       " 'theyve': 162,\n",
       " 'built': 163,\n",
       " 'much': 164,\n",
       " 'hype': 165,\n",
       " 'around': 166,\n",
       " 'new': 167,\n",
       " 'acquisitions': 168,\n",
       " 'doubt': 169,\n",
       " 'epl': 170,\n",
       " 'season': 171,\n",
       " 'inec': 172,\n",
       " 'office': 173,\n",
       " 'abia': 174,\n",
       " 'httptco3imaomknna': 175,\n",
       " 'barbados': 176,\n",
       " 'bridgetown': 177,\n",
       " 'jamaica': 178,\n",
       " '\\x89ûò': 179,\n",
       " 'two': 180,\n",
       " 'cars': 181,\n",
       " 'santa': 182,\n",
       " 'cruz': 183,\n",
       " '\\x89ûó': 184,\n",
       " 'head': 185,\n",
       " 'st': 186,\n",
       " 'elizabeth': 187,\n",
       " 'police': 188,\n",
       " 'superintende': 189,\n",
       " 'httptcowdueaj8q4j': 190,\n",
       " 'lord': 191,\n",
       " 'check': 192,\n",
       " 'httptcoroi2nsmejj': 193,\n",
       " 'httptco3tj8zjin21': 194,\n",
       " 'httptcoyduixefipe': 195,\n",
       " 'httptcolxtjc87kls': 196,\n",
       " 'nsfw': 197,\n",
       " 'outside': 198,\n",
       " 'youre': 199,\n",
       " 'alive': 200,\n",
       " 'dead': 201,\n",
       " 'inside': 202,\n",
       " 'awesome': 203,\n",
       " 'time': 204,\n",
       " 'visiting': 205,\n",
       " 'cfc': 206,\n",
       " 'ancop': 207,\n",
       " 'site': 208,\n",
       " 'thanks': 209,\n",
       " 'tita': 210,\n",
       " 'vida': 211,\n",
       " 'taking': 212,\n",
       " 'care': 213,\n",
       " 'soooo': 214,\n",
       " 'pumped': 215,\n",
       " 'southridgelife': 216,\n",
       " 'wanted': 217,\n",
       " 'chicago': 218,\n",
       " 'preaching': 219,\n",
       " 'hotel': 220,\n",
       " 'httptcoo9qknbfofx': 221,\n",
       " 'gained': 222,\n",
       " '3': 223,\n",
       " 'followers': 224,\n",
       " 'know': 225,\n",
       " 'stats': 226,\n",
       " 'grow': 227,\n",
       " 'httptcotiyulif5c6': 228,\n",
       " 'west': 229,\n",
       " 'burned': 230,\n",
       " 'thousands': 231,\n",
       " 'alone': 232,\n",
       " 'httptcovl5tbr3wbr': 233,\n",
       " 'perfect': 234,\n",
       " 'tracklist': 235,\n",
       " 'life': 236,\n",
       " 'leave': 237,\n",
       " 'first': 238,\n",
       " 'retainers': 239,\n",
       " 'quite': 240,\n",
       " 'weird': 241,\n",
       " 'better': 242,\n",
       " 'get': 243,\n",
       " 'used': 244,\n",
       " 'wear': 245,\n",
       " 'every': 246,\n",
       " 'single': 247,\n",
       " 'next': 248,\n",
       " 'year': 249,\n",
       " 'least': 250,\n",
       " 'deputies': 251,\n",
       " 'shot': 252,\n",
       " 'brighton': 253,\n",
       " 'home': 254,\n",
       " 'httptcogwnrhmso8k': 255,\n",
       " 'wife': 256,\n",
       " 'six': 257,\n",
       " 'years': 258,\n",
       " 'jail': 259,\n",
       " 'setting': 260,\n",
       " 'niece': 261,\n",
       " 'httptcoev1ahoucza': 262,\n",
       " 'superintendent': 263,\n",
       " 'lanford': 264,\n",
       " 'salmon': 265,\n",
       " 'r': 266,\n",
       " 'httptcovplr5hka2u': 267,\n",
       " 'httptcosxhw2tnnlf': 268,\n",
       " 'arsonist': 269,\n",
       " 'deliberately': 270,\n",
       " 'black': 271,\n",
       " 'church': 272,\n",
       " 'north': 273,\n",
       " 'carolinaåêablaze': 274,\n",
       " 'httptcopcxarbh9an': 275,\n",
       " 'noches': 276,\n",
       " 'elbestia': 277,\n",
       " 'alexissanchez': 278,\n",
       " 'happy': 279,\n",
       " 'teammates': 280,\n",
       " 'training': 281,\n",
       " 'hard': 282,\n",
       " 'goodnight': 283,\n",
       " 'gunners': 284,\n",
       " 'httptcouc4j4jhvgr': 285,\n",
       " 'kurds': 286,\n",
       " 'trampling': 287,\n",
       " 'turkmen': 288,\n",
       " 'later': 289,\n",
       " 'others': 290,\n",
       " 'vandalized': 291,\n",
       " 'offices': 292,\n",
       " 'front': 293,\n",
       " 'diyala': 294,\n",
       " 'httptco4izfdyc3cg': 295,\n",
       " 'truck': 296,\n",
       " 'r21': 297,\n",
       " 'voortrekker': 298,\n",
       " 'ave': 299,\n",
       " 'tambo': 300,\n",
       " 'intl': 301,\n",
       " 'cargo': 302,\n",
       " 'section': 303,\n",
       " 'httptco8kscqkfkkf': 304,\n",
       " 'hearts': 305,\n",
       " 'city': 306,\n",
       " 'gift': 307,\n",
       " 'skyline': 308,\n",
       " 'kiss': 309,\n",
       " 'upon': 310,\n",
       " 'lips': 311,\n",
       " '\\x89û': 312,\n",
       " 'httpstcocyompz1a0z': 313,\n",
       " 'tonight': 314,\n",
       " 'los': 315,\n",
       " 'angeles': 316,\n",
       " 'expecting': 317,\n",
       " 'ig': 318,\n",
       " 'fb': 319,\n",
       " 'filled': 320,\n",
       " 'sunset': 321,\n",
       " 'shots': 322,\n",
       " 'peeps': 323,\n",
       " 'httptcoicsjgz9te1': 324,\n",
       " 'climate': 325,\n",
       " 'energy': 326,\n",
       " 'httptco9fxmn0l0bd': 327,\n",
       " 'revel': 328,\n",
       " 'wmv': 329,\n",
       " 'videos': 330,\n",
       " 'means': 331,\n",
       " 'mac': 332,\n",
       " 'farewell': 333,\n",
       " 'en': 334,\n",
       " 'route': 335,\n",
       " 'dvd': 336,\n",
       " 'gtxrwm': 337,\n",
       " 'progressive': 338,\n",
       " 'greetings': 339,\n",
       " 'month': 340,\n",
       " 'students': 341,\n",
       " 'would': 342,\n",
       " 'pens': 343,\n",
       " 'torch': 344,\n",
       " 'publications': 345,\n",
       " 'httptco9fxpixqujt': 346,\n",
       " 'rene': 347,\n",
       " 'amp': 348,\n",
       " 'jacinta': 349,\n",
       " 'secret': 350,\n",
       " '2k13': 351,\n",
       " 'fallen': 352,\n",
       " 'skies': 353,\n",
       " 'edit': 354,\n",
       " 'mar': 355,\n",
       " '30': 356,\n",
       " '2013': 357,\n",
       " 'httpstco7mlmsuzv1z': 358,\n",
       " 'navista7': 359,\n",
       " 'steve': 360,\n",
       " 'fires': 361,\n",
       " 'something': 362,\n",
       " 'else': 363,\n",
       " 'tinderbox': 364,\n",
       " 'clown': 365,\n",
       " 'hood': 366,\n",
       " 'news24680': 367,\n",
       " 'nowplaying': 368,\n",
       " 'ian': 369,\n",
       " 'buff': 370,\n",
       " 'magnitude': 371,\n",
       " 'httptcoav2jsjfftc': 372,\n",
       " 'edm': 373,\n",
       " 'nxwestmidlands': 374,\n",
       " 'huge': 375,\n",
       " 'httptcorwzbfvnxer': 376,\n",
       " 'talk': 377,\n",
       " 'go': 378,\n",
       " 'dont': 379,\n",
       " 'make': 380,\n",
       " 'work': 381,\n",
       " 'kids': 382,\n",
       " 'cuz': 383,\n",
       " 'bicycle': 384,\n",
       " 'accident': 385,\n",
       " 'split': 386,\n",
       " 'testicles': 387,\n",
       " 'impossible': 388,\n",
       " 'michael': 389,\n",
       " 'father': 390,\n",
       " 'i24': 391,\n",
       " 'w': 392,\n",
       " 'nashvilletraffic': 393,\n",
       " 'traffic': 394,\n",
       " 'moving': 395,\n",
       " '8m': 396,\n",
       " 'slower': 397,\n",
       " 'usual': 398,\n",
       " 'httpstco0ghk693egj': 399,\n",
       " 'center': 400,\n",
       " 'lane': 401,\n",
       " 'blocked': 402,\n",
       " 'santaclara': 403,\n",
       " 'us101': 404,\n",
       " 'nb': 405,\n",
       " 'great': 406,\n",
       " 'america': 407,\n",
       " 'pkwy': 408,\n",
       " 'bayarea': 409,\n",
       " 'httptcopmlohzurwr': 410,\n",
       " 'httptcogkye6gjtk5': 411,\n",
       " 'personalinjury': 412,\n",
       " 'read': 413,\n",
       " 'advice': 414,\n",
       " 'solicitor': 415,\n",
       " 'help': 416,\n",
       " 'otleyhour': 417,\n",
       " 'stlouis': 418,\n",
       " 'caraccidentlawyer': 419,\n",
       " 'speeding': 420,\n",
       " 'among': 421,\n",
       " 'teen': 422,\n",
       " 'accidents': 423,\n",
       " 'httpstcok4zomof319': 424,\n",
       " 'httpstcos2kxvm0cba': 425,\n",
       " 'tee\\x89û': 426,\n",
       " 'reported': 427,\n",
       " 'motor': 428,\n",
       " 'vehicle': 429,\n",
       " 'curry': 430,\n",
       " 'herman': 431,\n",
       " 'rd': 432,\n",
       " 'stephenson': 433,\n",
       " 'involving': 434,\n",
       " 'overturned': 435,\n",
       " 'please': 436,\n",
       " 'use': 437,\n",
       " 'httptcoybjezkurw1': 438,\n",
       " 'bigrigradio': 439,\n",
       " 'awareness': 440,\n",
       " 'i77': 441,\n",
       " 'mile': 442,\n",
       " 'marker': 443,\n",
       " '31': 444,\n",
       " 'mooresville': 445,\n",
       " 'iredell': 446,\n",
       " 'ramp': 447,\n",
       " '86': 448,\n",
       " '118': 449,\n",
       " 'pm': 450,\n",
       " 'sleepjunkies': 451,\n",
       " 'sleeping': 452,\n",
       " 'pills': 453,\n",
       " 'double': 454,\n",
       " 'risk': 455,\n",
       " 'httptco7s9nm1fict': 456,\n",
       " 'knew': 457,\n",
       " 'gon': 458,\n",
       " 'happen': 459,\n",
       " 'httpstcoysxun5vceh': 460,\n",
       " 'n': 461,\n",
       " 'cabrillo': 462,\n",
       " 'hwymagellan': 463,\n",
       " 'av': 464,\n",
       " 'mir': 465,\n",
       " '080615': 466,\n",
       " '110358': 467,\n",
       " '40': 468,\n",
       " 'congestion': 469,\n",
       " 'pastor': 470,\n",
       " 'scene': 471,\n",
       " 'accidentwho': 472,\n",
       " 'owner': 473,\n",
       " 'range': 474,\n",
       " 'rover': 475,\n",
       " 'mom': 476,\n",
       " 'didnt': 477,\n",
       " 'wished': 478,\n",
       " 'spilt': 479,\n",
       " 'mayonnaise': 480,\n",
       " 'horrible': 481,\n",
       " 'past': 482,\n",
       " 'sunday': 483,\n",
       " 'finally': 484,\n",
       " 'able': 485,\n",
       " 'thank': 486,\n",
       " 'god': 487,\n",
       " 'pissed': 488,\n",
       " 'donnie': 489,\n",
       " 'tell': 490,\n",
       " 'another': 491,\n",
       " 'truckcrash': 492,\n",
       " 'overturns': 493,\n",
       " 'fortworth': 494,\n",
       " 'interstate': 495,\n",
       " 'httptcors22lj4qfp': 496,\n",
       " 'click': 497,\n",
       " 'youve': 498,\n",
       " 'crashgthttptcold0uniyw4k': 499,\n",
       " 'ashville': 500,\n",
       " '23': 501,\n",
       " 'sb': 502,\n",
       " 'sr': 503,\n",
       " '752': 504,\n",
       " 'httptcohylmo0wgfi': 505,\n",
       " 'carolina': 506,\n",
       " 'motorcyclist': 507,\n",
       " 'dies': 508,\n",
       " 'i540': 509,\n",
       " 'crossed': 510,\n",
       " 'median': 511,\n",
       " 'motorcycle': 512,\n",
       " 'rider': 513,\n",
       " 'traveling': 514,\n",
       " 'httptcop18lzrlmy6': 515,\n",
       " 'fyi': 516,\n",
       " 'cadfyi': 517,\n",
       " 'property': 518,\n",
       " 'damagenhs999': 519,\n",
       " 'piner': 520,\n",
       " 'rdhorndale': 521,\n",
       " 'dr': 522,\n",
       " 'naayf': 523,\n",
       " 'turning': 524,\n",
       " 'onto': 525,\n",
       " 'chandanee': 526,\n",
       " 'magu': 527,\n",
       " 'mma': 528,\n",
       " 'taxi': 529,\n",
       " 'rammed': 530,\n",
       " 'halfway': 531,\n",
       " 'turned': 532,\n",
       " 'everyone': 533,\n",
       " 'conf\\x89û': 534,\n",
       " 'left': 535,\n",
       " 'manchester': 536,\n",
       " '293': 537,\n",
       " 'eddy': 538,\n",
       " 'stop': 539,\n",
       " 'back': 540,\n",
       " 'nh3a': 541,\n",
       " 'delay': 542,\n",
       " '4': 543,\n",
       " 'mins': 544,\n",
       " 'httptcooia5fxi4gm': 545,\n",
       " 'damagewpd1600': 546,\n",
       " '17th': 547,\n",
       " '862015209': 548,\n",
       " 'injury': 549,\n",
       " '2781': 550,\n",
       " 'willis': 551,\n",
       " 'foreman': 552,\n",
       " 'httptcovckit6edev': 553,\n",
       " 'aashiqui': 554,\n",
       " 'actress': 555,\n",
       " 'anu': 556,\n",
       " 'aggarwal': 557,\n",
       " 'nearfatal': 558,\n",
       " 'httptco6otfp31lqw': 559,\n",
       " 'suffield': 560,\n",
       " 'alberta': 561,\n",
       " 'httpstcobptmlf4p10': 562,\n",
       " '9': 563,\n",
       " 'backup': 564,\n",
       " 'southaccident': 565,\n",
       " 'blocking': 566,\n",
       " 'right': 567,\n",
       " '2': 568,\n",
       " 'lanes': 569,\n",
       " 'exit': 570,\n",
       " 'langtree': 571,\n",
       " 'rdconsider': 572,\n",
       " 'nc': 573,\n",
       " '115': 574,\n",
       " '150': 575,\n",
       " '16': 576,\n",
       " 'alternate': 577,\n",
       " 'changed': 578,\n",
       " 'determine': 579,\n",
       " 'options': 580,\n",
       " 'financially': 581,\n",
       " 'support': 582,\n",
       " 'plans': 583,\n",
       " 'ongoing': 584,\n",
       " 'treatment': 585,\n",
       " 'deadly': 586,\n",
       " 'happened': 587,\n",
       " 'hagerstown': 588,\n",
       " 'today': 589,\n",
       " 'ill': 590,\n",
       " 'details': 591,\n",
       " '5': 592,\n",
       " 'your4state': 593,\n",
       " 'whag': 594,\n",
       " 'flowri': 595,\n",
       " 'marinading': 596,\n",
       " 'even': 597,\n",
       " 'fucking': 598,\n",
       " 'mfs': 599,\n",
       " 'drive': 600,\n",
       " 'norwaymfa': 601,\n",
       " 'bahrain': 602,\n",
       " 'previously': 603,\n",
       " 'road': 604,\n",
       " 'killed': 605,\n",
       " 'explosion': 606,\n",
       " 'httpstcogfjfgtodad': 607,\n",
       " 'still': 608,\n",
       " 'heard': 609,\n",
       " 'leaders': 610,\n",
       " 'kenya': 611,\n",
       " 'forward': 612,\n",
       " 'comment': 613,\n",
       " 'issue': 614,\n",
       " 'disciplinary': 615,\n",
       " 'measuresarrestpastornganga': 616,\n",
       " 'aftershockdelo': 617,\n",
       " 'scuf': 618,\n",
       " 'ps': 619,\n",
       " 'game': 620,\n",
       " 'cya': 621,\n",
       " 'effort': 622,\n",
       " 'gets': 623,\n",
       " 'painful': 624,\n",
       " 'win': 625,\n",
       " 'roger': 626,\n",
       " 'bannister': 627,\n",
       " '320': 628,\n",
       " 'ir': 629,\n",
       " 'icemoon': 630,\n",
       " 'aftershock': 631,\n",
       " 'httptcoynxnvvkcda': 632,\n",
       " 'djicemoon': 633,\n",
       " 'dubstep': 634,\n",
       " 'trapmusic': 635,\n",
       " 'dnb': 636,\n",
       " 'dance': 637,\n",
       " 'ices\\x89û': 638,\n",
       " 'httptcoweqpesenku': 639,\n",
       " 'victory': 640,\n",
       " 'bargain': 641,\n",
       " 'basement': 642,\n",
       " 'prices': 643,\n",
       " 'dwight': 644,\n",
       " 'david': 645,\n",
       " 'eisenhower': 646,\n",
       " 'httptcovam5podgyw': 647,\n",
       " 'httptcozevakjapcz': 648,\n",
       " 'nobody': 649,\n",
       " 'remembers': 650,\n",
       " 'came': 651,\n",
       " 'charles': 652,\n",
       " 'schulz': 653,\n",
       " 'speaking': 654,\n",
       " 'someone': 655,\n",
       " 'using': 656,\n",
       " 'xb1': 657,\n",
       " 'also': 658,\n",
       " 'harder': 659,\n",
       " 'conflict': 660,\n",
       " 'glorious': 661,\n",
       " 'triumph': 662,\n",
       " 'thomas': 663,\n",
       " 'paine': 664,\n",
       " 'growingupspoiled': 665,\n",
       " 'going': 666,\n",
       " 'clay': 667,\n",
       " 'pigeon': 668,\n",
       " 'shooting': 669,\n",
       " 'guess': 670,\n",
       " 'one': 671,\n",
       " 'actually': 672,\n",
       " 'wants': 673,\n",
       " 'free': 674,\n",
       " 'tc': 675,\n",
       " 'terrifying': 676,\n",
       " 'best': 677,\n",
       " 'roller': 678,\n",
       " 'coaster': 679,\n",
       " 'ever': 680,\n",
       " 'disclaimer': 681,\n",
       " 'httpstcoxmwodfmtui': 682,\n",
       " 'httptcom4jdzmgjow': 683,\n",
       " 'httptcon0uhasfkbv': 684,\n",
       " 'httptcoe14epzhoth': 685,\n",
       " 'httptco22a9d5do6q': 686,\n",
       " 'kjfordays': 687,\n",
       " 'seeing': 688,\n",
       " 'issues': 689,\n",
       " 'httptcothyzomvwu0': 690,\n",
       " 'httptco83joo0xk29': 691,\n",
       " 'wisdomwed': 692,\n",
       " 'bonus': 693,\n",
       " 'minute': 694,\n",
       " 'daily': 695,\n",
       " 'habits': 696,\n",
       " 'could': 697,\n",
       " 'really': 698,\n",
       " 'improve': 699,\n",
       " 'many': 700,\n",
       " 'already': 701,\n",
       " 'lifehacks': 702,\n",
       " 'httptcotbm9fqb8cw': 703,\n",
       " 'protect': 704,\n",
       " 'profit': 705,\n",
       " 'global': 706,\n",
       " 'financial': 707,\n",
       " 'meltdown': 708,\n",
       " 'wiedemer': 709,\n",
       " 'http': 710,\n",
       " 'httptcowztz4hgmvq': 711,\n",
       " 'moment': 712,\n",
       " 'scary': 713,\n",
       " 'guy': 714,\n",
       " 'behind': 715,\n",
       " 'screaming': 716,\n",
       " 'bloody': 717,\n",
       " 'murder': 718,\n",
       " 'silverwood': 719,\n",
       " '\\x89ã¢': 720,\n",
       " '2010': 721,\n",
       " 'full\\x89ã¢': 722,\n",
       " 'streaming': 723,\n",
       " 'youtube': 724,\n",
       " 'httptcovve3usesgf': 725,\n",
       " 'gtgt': 726,\n",
       " '15': 727,\n",
       " 'book': 728,\n",
       " 'httptcof6ntuc734z': 729,\n",
       " 'esquireattire': 730,\n",
       " 'sometimes': 731,\n",
       " 'face': 732,\n",
       " 'difficulties': 733,\n",
       " 'wrong': 734,\n",
       " 'joel': 735,\n",
       " 'osteen': 736,\n",
       " 'thing': 737,\n",
       " 'stands': 738,\n",
       " 'dream': 739,\n",
       " 'belief': 740,\n",
       " 'possible': 741,\n",
       " 'brown': 742,\n",
       " 'praise': 743,\n",
       " 'ministry': 744,\n",
       " 'tells': 745,\n",
       " 'wdyouth': 746,\n",
       " 'biblestudy': 747,\n",
       " 'httpstcoujk0e5gbcc': 748,\n",
       " 'remembering': 749,\n",
       " 'die': 750,\n",
       " 'way': 751,\n",
       " 'avoid': 752,\n",
       " 'trap': 753,\n",
       " 'thinking': 754,\n",
       " 'lose': 755,\n",
       " 'jobs': 756,\n",
       " 'tried': 757,\n",
       " 'orange': 758,\n",
       " 'never': 759,\n",
       " 'onfireanders': 760,\n",
       " 'bb': 761,\n",
       " 'httpstcojv8ppkhjy7': 762,\n",
       " 'kick': 763,\n",
       " 'want': 764,\n",
       " 'making': 765,\n",
       " 'say': 766,\n",
       " 'cannot': 767,\n",
       " 'done': 768,\n",
       " 'interrupt': 769,\n",
       " 'george': 770,\n",
       " 'bernard': 771,\n",
       " 'shaw': 772,\n",
       " 'oyster': 773,\n",
       " 'shell': 774,\n",
       " 'andrew': 775,\n",
       " 'carnegie': 776,\n",
       " 'anyone': 777,\n",
       " 'need': 778,\n",
       " 'pu': 779,\n",
       " 'play': 780,\n",
       " 'hybrid': 781,\n",
       " 'slayer': 782,\n",
       " 'ps4': 783,\n",
       " 'eu': 784,\n",
       " 'hmu': 785,\n",
       " 'cod8sandscrims': 786,\n",
       " 'empirikgaming': 787,\n",
       " 'codawscrims': 788,\n",
       " '4tpkotc': 789,\n",
       " '4tpfa': 790,\n",
       " 'aftershockorg': 791,\n",
       " 'experts': 792,\n",
       " 'france': 793,\n",
       " 'begin': 794,\n",
       " 'examining': 795,\n",
       " 'airplane': 796,\n",
       " 'debris': 797,\n",
       " 'found': 798,\n",
       " 'reunion': 799,\n",
       " 'island': 800,\n",
       " 'french': 801,\n",
       " 'air': 802,\n",
       " 'httptcoyvvpznzmxg': 803,\n",
       " 'news': 804,\n",
       " 'strict': 805,\n",
       " 'liability': 806,\n",
       " 'context': 807,\n",
       " 'pilot': 808,\n",
       " 'error': 809,\n",
       " 'common': 810,\n",
       " 'component': 811,\n",
       " 'aviation': 812,\n",
       " 'cr': 813,\n",
       " 'httptco6cz3bohrd4': 814,\n",
       " 'crobscarla': 815,\n",
       " 'lifetime': 816,\n",
       " 'odds': 817,\n",
       " 'dying': 818,\n",
       " '1': 819,\n",
       " '8015': 820,\n",
       " 'wedn': 821,\n",
       " 'httptcobkpfpogysi': 822,\n",
       " 'alexalltimelow': 823,\n",
       " 'awwww': 824,\n",
       " 'theyre': 825,\n",
       " 'cuties': 826,\n",
       " 'good': 827,\n",
       " 'job': 828,\n",
       " 'family': 829,\n",
       " 'members': 830,\n",
       " 'osama': 831,\n",
       " 'bin': 832,\n",
       " 'laden': 833,\n",
       " 'ironic': 834,\n",
       " 'mhmmm': 835,\n",
       " 'gov': 836,\n",
       " 'suspect': 837,\n",
       " 'goes': 838,\n",
       " 'engine': 839,\n",
       " 'httptcotyjxrfd3st': 840,\n",
       " 'via': 841,\n",
       " 'wings': 842,\n",
       " '29072015': 843,\n",
       " 'httptcoi7kztevb2v': 844,\n",
       " 'cessna': 845,\n",
       " 'ocampo': 846,\n",
       " 'coahuila': 847,\n",
       " 'mexico': 848,\n",
       " 'july': 849,\n",
       " '29': 850,\n",
       " '2015': 851,\n",
       " 'four': 852,\n",
       " 'men': 853,\n",
       " 'including': 854,\n",
       " 'state': 855,\n",
       " 'government': 856,\n",
       " 'official': 857,\n",
       " 'watchthevideo': 858,\n",
       " 'httptcop64xrvgjik': 859,\n",
       " 'httptcolsmx2vwr3j': 860,\n",
       " 'wednesday\\x89û': 861,\n",
       " 'wednesday': 862,\n",
       " 'began': 863,\n",
       " 'kca': 864,\n",
       " 'votejkt48id': 865,\n",
       " 'mbataweel': 866,\n",
       " 'rip': 867,\n",
       " 'binladen': 868,\n",
       " 'airplanes': 869,\n",
       " 'almost': 870,\n",
       " 'coworker': 871,\n",
       " 'nudes': 872,\n",
       " 'mode': 873,\n",
       " 'mickinyman': 874,\n",
       " 'theatlantic': 875,\n",
       " 'might': 876,\n",
       " 'wreck': 877,\n",
       " 'politics': 878,\n",
       " 'httptcotagzbcxfj0': 879,\n",
       " 'mlb': 880,\n",
       " 'unbelievably': 881,\n",
       " 'insane': 882,\n",
       " 'airport': 883,\n",
       " 'aircraft': 884,\n",
       " 'aeroplane': 885,\n",
       " 'runway': 886,\n",
       " 'freaky\\x89û': 887,\n",
       " 'httpstcocezhq7czll': 888,\n",
       " 'airplaneåê29072015': 889,\n",
       " 'httptcowq3wjsgphl': 890,\n",
       " 'httptcotfcdronra6': 891,\n",
       " 'usama': 892,\n",
       " 'ladins': 893,\n",
       " 'naturally': 894,\n",
       " 'plane': 895,\n",
       " 'festival': 896,\n",
       " 'httpstcokq9ae6ap2b': 897,\n",
       " 'death': 898,\n",
       " 'carfest': 899,\n",
       " 'httptcogibyqhhkpk': 900,\n",
       " 'dtn': 901,\n",
       " 'brazil': 902,\n",
       " 'exp': 903,\n",
       " 'httptcom9ig3wq8lq': 904,\n",
       " 'httptcov4smaeslk5': 905,\n",
       " '\\x89ûïairplane\\x89û\\x9d': 906,\n",
       " 'wtf': 907,\n",
       " 'can\\x89ûªt': 908,\n",
       " 'believe': 909,\n",
       " 'eyes': 910,\n",
       " 'httptco6ffylajwps': 911,\n",
       " 'nicole': 912,\n",
       " 'fletcher': 913,\n",
       " 'victim': 914,\n",
       " 'crashed': 915,\n",
       " 'times': 916,\n",
       " 'ago': 917,\n",
       " 'little': 918,\n",
       " 'bit': 919,\n",
       " 'trauma': 920,\n",
       " 'although': 921,\n",
       " 'shes': 922,\n",
       " 'omg': 923,\n",
       " 'httptcoxdxdprcpns': 924,\n",
       " 'bro': 925,\n",
       " 'jetengine': 926,\n",
       " 'turbojet': 927,\n",
       " 'boing': 928,\n",
       " 'g90': 929,\n",
       " 'httptcokxxnszp6nk': 930,\n",
       " 'phone': 931,\n",
       " 'looks': 932,\n",
       " 'ship': 933,\n",
       " 'terrible': 934,\n",
       " 'statistically': 935,\n",
       " 'cop': 936,\n",
       " 'crashes': 937,\n",
       " 'house': 938,\n",
       " 'colombia': 939,\n",
       " '12': 940,\n",
       " 'httpstcozhjlflbhzl': 941,\n",
       " 'httpstcoiecc1jdoub': 942,\n",
       " 'drone': 943,\n",
       " 'cause': 944,\n",
       " 'pilots': 945,\n",
       " 'worried': 946,\n",
       " 'drones': 947,\n",
       " 'esp': 948,\n",
       " 'close': 949,\n",
       " 'vicinity': 950,\n",
       " 'airports': 951,\n",
       " 'httptcokz35rgngjf': 952,\n",
       " 'early': 953,\n",
       " 'wake': 954,\n",
       " 'call': 955,\n",
       " 'sister': 956,\n",
       " 'begging': 957,\n",
       " 'come': 958,\n",
       " 'ride': 959,\n",
       " 'wher': 960,\n",
       " 'ambulance': 961,\n",
       " 'hospital': 962,\n",
       " 'rodkiai': 963,\n",
       " 'httptcoay6zzcupnz': 964,\n",
       " 'twelve': 965,\n",
       " 'feared': 966,\n",
       " 'pakistani': 967,\n",
       " 'helicopter': 968,\n",
       " 'httptcosc9dns41mc': 969,\n",
       " 'ambulances': 970,\n",
       " 'serious': 971,\n",
       " 'lorry': 972,\n",
       " 'httptco9pfeaqeski': 973,\n",
       " 'httptcofntg70rnkx': 974,\n",
       " 'emsne\\x89û': 975,\n",
       " 'reuters': 976,\n",
       " 'httptcomdnugvubwn': 977,\n",
       " 'yugvani': 978,\n",
       " 'leading': 979,\n",
       " 'services': 980,\n",
       " 'boss': 981,\n",
       " 'welcomes': 982,\n",
       " 'charity': 983,\n",
       " 'httptcomj2jq2psv6': 984,\n",
       " 'travelling': 985,\n",
       " 'aberystwythshrewsbury': 986,\n",
       " 'incident': 987,\n",
       " 'halt': 988,\n",
       " 'shrews': 989,\n",
       " 'httptcoxum8ylcb4q': 990,\n",
       " 'sprinter': 991,\n",
       " 'automatic': 992,\n",
       " 'frontline': 993,\n",
       " 'choice': 994,\n",
       " '14': 995,\n",
       " 'lez': 996,\n",
       " 'compliant': 997,\n",
       " 'ebay': 998,\n",
       " 'httptco4evttqpeia': 999,\n",
       " 'nanotech': 1000,\n",
       " ...}"
      ]
     },
     "execution_count": 20,
     "metadata": {},
     "output_type": "execute_result"
    }
   ],
   "source": [
    "dictionary"
   ]
  },
  {
   "cell_type": "code",
   "execution_count": 21,
   "id": "c50a721f",
   "metadata": {
    "execution": {
     "iopub.execute_input": "2022-03-05T23:37:03.383601Z",
     "iopub.status.busy": "2022-03-05T23:37:03.357714Z",
     "iopub.status.idle": "2022-03-05T23:37:03.398823Z",
     "shell.execute_reply": "2022-03-05T23:37:03.398339Z",
     "shell.execute_reply.started": "2022-03-05T23:08:32.591922Z"
    },
    "papermill": {
     "duration": 0.079154,
     "end_time": "2022-03-05T23:37:03.398945",
     "exception": false,
     "start_time": "2022-03-05T23:37:03.319791",
     "status": "completed"
    },
    "tags": []
   },
   "outputs": [
    {
     "data": {
      "text/plain": [
       "['looks', 'like', 'mudslide', 'poor', 'thing', 'greatbritishbakeoff']"
      ]
     },
     "execution_count": 21,
     "metadata": {},
     "output_type": "execute_result"
    }
   ],
   "source": [
    "x_valid.reset_index()[\"text\"].loc[0].split() "
   ]
  },
  {
   "cell_type": "code",
   "execution_count": 22,
   "id": "fa0c5b54",
   "metadata": {
    "execution": {
     "iopub.execute_input": "2022-03-05T23:37:03.383601Z",
     "iopub.status.busy": "2022-03-05T23:37:03.357714Z",
     "iopub.status.idle": "2022-03-05T23:37:03.398823Z",
     "shell.execute_reply": "2022-03-05T23:37:03.398339Z",
     "shell.execute_reply.started": "2022-03-05T23:08:32.591922Z"
    },
    "papermill": {
     "duration": 0.079154,
     "end_time": "2022-03-05T23:37:03.398945",
     "exception": false,
     "start_time": "2022-03-05T23:37:03.319791",
     "status": "completed"
    },
    "tags": []
   },
   "outputs": [
    {
     "name": "stdout",
     "output_type": "stream",
     "text": [
      "932\n",
      "133\n",
      "16873\n",
      "1437\n",
      "737\n",
      "14922\n"
     ]
    }
   ],
   "source": [
    "for word in x_valid.reset_index()[\"text\"].loc[0].split() :\n",
    "    print(dictionary[word])"
   ]
  },
  {
   "cell_type": "code",
   "execution_count": 23,
   "id": "753eb913",
   "metadata": {
    "execution": {
     "iopub.execute_input": "2022-03-05T23:37:03.383601Z",
     "iopub.status.busy": "2022-03-05T23:37:03.357714Z",
     "iopub.status.idle": "2022-03-05T23:37:03.398823Z",
     "shell.execute_reply": "2022-03-05T23:37:03.398339Z",
     "shell.execute_reply.started": "2022-03-05T23:08:32.591922Z"
    },
    "papermill": {
     "duration": 0.079154,
     "end_time": "2022-03-05T23:37:03.398945",
     "exception": false,
     "start_time": "2022-03-05T23:37:03.319791",
     "status": "completed"
    },
    "tags": []
   },
   "outputs": [
    {
     "data": {
      "text/plain": [
       "tensor([  932,   133, 16873,  1437,   737, 14922,     0,     0,     0,     0,\n",
       "            0,     0,     0,     0,     0,     0,     0,     0,     0,     0,\n",
       "            0,     0,     0,     0,     0], dtype=torch.int32)"
      ]
     },
     "execution_count": 23,
     "metadata": {},
     "output_type": "execute_result"
    }
   ],
   "source": [
    "x[0]"
   ]
  },
  {
   "cell_type": "code",
   "execution_count": 24,
   "id": "a0a6d67f",
   "metadata": {
    "execution": {
     "iopub.execute_input": "2022-03-05T23:37:03.383601Z",
     "iopub.status.busy": "2022-03-05T23:37:03.357714Z",
     "iopub.status.idle": "2022-03-05T23:37:03.398823Z",
     "shell.execute_reply": "2022-03-05T23:37:03.398339Z",
     "shell.execute_reply.started": "2022-03-05T23:08:32.591922Z"
    },
    "papermill": {
     "duration": 0.079154,
     "end_time": "2022-03-05T23:37:03.398945",
     "exception": false,
     "start_time": "2022-03-05T23:37:03.319791",
     "status": "completed"
    },
    "tags": []
   },
   "outputs": [
    {
     "data": {
      "text/plain": [
       "1"
      ]
     },
     "execution_count": 24,
     "metadata": {},
     "output_type": "execute_result"
    }
   ],
   "source": [
    "y_valid.reset_index()[\"target\"].loc[0]"
   ]
  },
  {
   "cell_type": "code",
   "execution_count": 25,
   "id": "cd222bfe",
   "metadata": {
    "execution": {
     "iopub.execute_input": "2022-03-05T23:37:03.383601Z",
     "iopub.status.busy": "2022-03-05T23:37:03.357714Z",
     "iopub.status.idle": "2022-03-05T23:37:03.398823Z",
     "shell.execute_reply": "2022-03-05T23:37:03.398339Z",
     "shell.execute_reply.started": "2022-03-05T23:08:32.591922Z"
    },
    "papermill": {
     "duration": 0.079154,
     "end_time": "2022-03-05T23:37:03.398945",
     "exception": false,
     "start_time": "2022-03-05T23:37:03.319791",
     "status": "completed"
    },
    "tags": []
   },
   "outputs": [
    {
     "data": {
      "text/plain": [
       "1"
      ]
     },
     "execution_count": 25,
     "metadata": {},
     "output_type": "execute_result"
    }
   ],
   "source": [
    "y[0].item()"
   ]
  },
  {
   "cell_type": "markdown",
   "id": "ad2866d6",
   "metadata": {
    "papermill": {
     "duration": 0.014335,
     "end_time": "2022-03-05T23:37:03.427502",
     "exception": false,
     "start_time": "2022-03-05T23:37:03.413167",
     "status": "completed"
    },
    "tags": []
   },
   "source": [
    "# 3. Model"
   ]
  },
  {
   "cell_type": "code",
   "execution_count": 26,
   "id": "a512a861",
   "metadata": {
    "execution": {
     "iopub.execute_input": "2022-03-05T23:37:03.466333Z",
     "iopub.status.busy": "2022-03-05T23:37:03.465518Z",
     "iopub.status.idle": "2022-03-05T23:37:03.467416Z",
     "shell.execute_reply": "2022-03-05T23:37:03.467814Z",
     "shell.execute_reply.started": "2022-03-05T23:20:44.372994Z"
    },
    "papermill": {
     "duration": 0.026245,
     "end_time": "2022-03-05T23:37:03.467936",
     "exception": false,
     "start_time": "2022-03-05T23:37:03.441691",
     "status": "completed"
    },
    "tags": []
   },
   "outputs": [
    {
     "data": {
      "text/plain": [
       "(torch.Size([64, 25]), 64)"
      ]
     },
     "execution_count": 26,
     "metadata": {},
     "output_type": "execute_result"
    }
   ],
   "source": [
    "x.shape, len(y)"
   ]
  },
  {
   "cell_type": "code",
   "execution_count": 27,
   "id": "b573e086",
   "metadata": {
    "execution": {
     "iopub.execute_input": "2022-03-05T23:37:03.466333Z",
     "iopub.status.busy": "2022-03-05T23:37:03.465518Z",
     "iopub.status.idle": "2022-03-05T23:37:03.467416Z",
     "shell.execute_reply": "2022-03-05T23:37:03.467814Z",
     "shell.execute_reply.started": "2022-03-05T23:20:44.372994Z"
    },
    "papermill": {
     "duration": 0.026245,
     "end_time": "2022-03-05T23:37:03.467936",
     "exception": false,
     "start_time": "2022-03-05T23:37:03.441691",
     "status": "completed"
    },
    "tags": []
   },
   "outputs": [
    {
     "name": "stdout",
     "output_type": "stream",
     "text": [
      "TextClassifier(\n",
      "  (dropout): Dropout(p=0.4, inplace=False)\n",
      "  (embedding): Embedding(22565, 100, padding_idx=0)\n",
      "  (lstm): LSTM(100, 128, batch_first=True, bidirectional=True)\n",
      "  (fc1): Linear(in_features=256, out_features=256, bias=True)\n",
      "  (fc2): Linear(in_features=256, out_features=1, bias=True)\n",
      ")\n"
     ]
    }
   ],
   "source": [
    "EMBEDDING_DIM = 100\n",
    "HIDDEN_DIM = 128\n",
    "LSTM_LAYERS = 1\n",
    "\n",
    "class TextClassifier(nn.ModuleList):\n",
    "    \"\"\"\n",
    "    LSTM Network definition\n",
    "    \"\"\"\n",
    "    def __init__(self):\n",
    "        super(TextClassifier, self).__init__()\n",
    "\n",
    "        self.batch_size = BATCH_SIZE\n",
    "        self.embedding_dim = EMBEDDING_DIM\n",
    "        self.hidden_dim = HIDDEN_DIM\n",
    "        self.LSTM_layers = LSTM_LAYERS\n",
    "        self.input_size = INPUT_SIZE\n",
    "\n",
    "        self.dropout = nn.Dropout(DROPOUT)\n",
    "        self.embedding = nn.Embedding(num_embeddings=self.input_size, embedding_dim=self.embedding_dim, padding_idx=0)\n",
    "        self.lstm = nn.LSTM(input_size=self.embedding_dim, hidden_size=self.hidden_dim, \n",
    "                            num_layers=self.LSTM_layers, batch_first=True, bidirectional=True)\n",
    "        self.fc1 = nn.Linear(in_features=self.hidden_dim*2, out_features=256)\n",
    "        self.fc2 = nn.Linear(256, 1)\n",
    "    \n",
    "\n",
    "    def forward(self, x):\n",
    "\n",
    "#         h = torch.zeros((self.LSTM_layers, x.size(0), self.hidden_dim)).to(device)\n",
    "#         c = torch.zeros((self.LSTM_layers, x.size(0), self.hidden_dim)).to(device)\n",
    "        \n",
    "#         torch.nn.init.xavier_normal_(h)\n",
    "#         torch.nn.init.xavier_normal_(c)\n",
    "        \n",
    "        embedded = self.embedding(x)\n",
    "        out, (hidden, cell) = self.lstm(embedded)\n",
    "        out = self.dropout(out)\n",
    "        concat_hidden = torch.cat((hidden[0], hidden[1]), dim=1)\n",
    "        out = torch.relu_(self.fc1(concat_hidden))\n",
    "        out = self.dropout(out)\n",
    "        out = torch.sigmoid(self.fc2(out))\n",
    "        return out.squeeze()\n",
    "\n",
    "# Identify device\n",
    "device = torch.device('cuda' if torch.cuda.is_available() else 'cpu')\n",
    "\n",
    "# Model initialization\n",
    "model = TextClassifier().to(device)\n",
    "print(model)"
   ]
  },
  {
   "cell_type": "code",
   "execution_count": 28,
   "id": "65a1b049",
   "metadata": {
    "execution": {
     "iopub.execute_input": "2022-03-05T23:37:03.586794Z",
     "iopub.status.busy": "2022-03-05T23:37:03.586192Z",
     "iopub.status.idle": "2022-03-05T23:37:07.128124Z",
     "shell.execute_reply": "2022-03-05T23:37:07.127243Z",
     "shell.execute_reply.started": "2022-03-05T23:20:44.868691Z"
    },
    "papermill": {
     "duration": 3.560563,
     "end_time": "2022-03-05T23:37:07.128273",
     "exception": false,
     "start_time": "2022-03-05T23:37:03.567710",
     "status": "completed"
    },
    "tags": []
   },
   "outputs": [
    {
     "data": {
      "text/plain": [
       "torch.Size([64, 25])"
      ]
     },
     "execution_count": 28,
     "metadata": {},
     "output_type": "execute_result"
    }
   ],
   "source": [
    "x.shape"
   ]
  },
  {
   "cell_type": "code",
   "execution_count": 29,
   "id": "94dce69a",
   "metadata": {
    "execution": {
     "iopub.execute_input": "2022-03-05T23:37:03.586794Z",
     "iopub.status.busy": "2022-03-05T23:37:03.586192Z",
     "iopub.status.idle": "2022-03-05T23:37:07.128124Z",
     "shell.execute_reply": "2022-03-05T23:37:07.127243Z",
     "shell.execute_reply.started": "2022-03-05T23:20:44.868691Z"
    },
    "papermill": {
     "duration": 3.560563,
     "end_time": "2022-03-05T23:37:07.128273",
     "exception": false,
     "start_time": "2022-03-05T23:37:03.567710",
     "status": "completed"
    },
    "tags": []
   },
   "outputs": [
    {
     "data": {
      "text/plain": [
       "torch.Size([64])"
      ]
     },
     "execution_count": 29,
     "metadata": {},
     "output_type": "execute_result"
    }
   ],
   "source": [
    "y.shape"
   ]
  },
  {
   "cell_type": "code",
   "execution_count": 30,
   "id": "e1fde558",
   "metadata": {
    "execution": {
     "iopub.execute_input": "2022-03-05T23:37:03.586794Z",
     "iopub.status.busy": "2022-03-05T23:37:03.586192Z",
     "iopub.status.idle": "2022-03-05T23:37:07.128124Z",
     "shell.execute_reply": "2022-03-05T23:37:07.127243Z",
     "shell.execute_reply.started": "2022-03-05T23:20:44.868691Z"
    },
    "papermill": {
     "duration": 3.560563,
     "end_time": "2022-03-05T23:37:07.128273",
     "exception": false,
     "start_time": "2022-03-05T23:37:03.567710",
     "status": "completed"
    },
    "tags": []
   },
   "outputs": [
    {
     "data": {
      "text/plain": [
       "torch.Size([64])"
      ]
     },
     "execution_count": 30,
     "metadata": {},
     "output_type": "execute_result"
    }
   ],
   "source": [
    "model(x.cuda()).shape"
   ]
  },
  {
   "cell_type": "code",
   "execution_count": 31,
   "id": "53ccac1b",
   "metadata": {
    "execution": {
     "iopub.execute_input": "2022-03-05T23:37:03.586794Z",
     "iopub.status.busy": "2022-03-05T23:37:03.586192Z",
     "iopub.status.idle": "2022-03-05T23:37:07.128124Z",
     "shell.execute_reply": "2022-03-05T23:37:07.127243Z",
     "shell.execute_reply.started": "2022-03-05T23:20:44.868691Z"
    },
    "papermill": {
     "duration": 3.560563,
     "end_time": "2022-03-05T23:37:07.128273",
     "exception": false,
     "start_time": "2022-03-05T23:37:03.567710",
     "status": "completed"
    },
    "tags": []
   },
   "outputs": [],
   "source": [
    "# Optimizer initialization\n",
    "optimizer = optim.Adam(model.parameters(), lr=0.001)\n",
    "criterion = torch.nn.BCELoss()"
   ]
  },
  {
   "cell_type": "code",
   "execution_count": 32,
   "id": "fab59a95",
   "metadata": {
    "execution": {
     "iopub.execute_input": "2022-03-05T23:37:07.163020Z",
     "iopub.status.busy": "2022-03-05T23:37:07.162221Z",
     "iopub.status.idle": "2022-03-05T23:37:07.164181Z",
     "shell.execute_reply": "2022-03-05T23:37:07.164589Z",
     "shell.execute_reply.started": "2022-03-05T23:20:48.324670Z"
    },
    "papermill": {
     "duration": 0.021737,
     "end_time": "2022-03-05T23:37:07.164738",
     "exception": false,
     "start_time": "2022-03-05T23:37:07.143001",
     "status": "completed"
    },
    "tags": []
   },
   "outputs": [],
   "source": [
    "def calculate_accuracy_with_selected_threshold(grand_truth, predictions):\n",
    "    \"\"\"\n",
    "    Accuracy calcuation: (tp + tn) / N\n",
    "    \"\"\"\n",
    "    true_positives, true_negatives = 0, 0\n",
    "    fpr, tpr, thr = roc_curve(grand_truth, predictions)\n",
    "    roc = pd.DataFrame({'fpr':fpr, 'tpr':tpr, 'thr':thr});\n",
    "    roc['random'] = roc['fpr'].copy()\n",
    "    roc['diff'] = roc['tpr'] - roc['fpr']\n",
    "    roc = roc.sort_values('diff', ascending=False).reset_index().drop('index', axis=1)\n",
    "    \n",
    "    for true, pred in zip(grand_truth, predictions):\n",
    "        if (pred > roc.loc[0,'thr']) and (true == 1):\n",
    "            true_positives += 1\n",
    "        elif (pred < roc.loc[0,'thr']) and (true == 0):\n",
    "            true_negatives += 1\n",
    "    return (true_positives+true_negatives) / len(grand_truth)\n",
    "\n",
    "def calculate_accuray_with_point_five(grand_truth, predictions):\n",
    "    \"\"\"\n",
    "    Accuracy calcuation: (tp + tn) / N\n",
    "    \"\"\"\n",
    "    true_positives, true_negatives = 0, 0    \n",
    "    for true, pred in zip(grand_truth, predictions):\n",
    "        if (pred > 0.5) and (true == 1):\n",
    "            true_positives += 1\n",
    "        elif (pred < 0.5) and (true == 0):\n",
    "            true_negatives += 1\n",
    "    return (true_positives+true_negatives) / len(grand_truth)"
   ]
  },
  {
   "cell_type": "code",
   "execution_count": 33,
   "id": "8edba82d",
   "metadata": {
    "execution": {
     "iopub.execute_input": "2022-03-05T23:37:07.196308Z",
     "iopub.status.busy": "2022-03-05T23:37:07.195495Z",
     "iopub.status.idle": "2022-03-05T23:37:16.643896Z",
     "shell.execute_reply": "2022-03-05T23:37:16.644314Z",
     "shell.execute_reply.started": "2022-03-05T23:21:09.145194Z"
    },
    "papermill": {
     "duration": 9.465388,
     "end_time": "2022-03-05T23:37:16.644460",
     "exception": false,
     "start_time": "2022-03-05T23:37:07.179072",
     "status": "completed"
    },
    "tags": []
   },
   "outputs": [
    {
     "name": "stderr",
     "output_type": "stream",
     "text": [
      "training epoch 1: 100%|███████████████████████████████████████████████████████████████| 84/84 [00:00<00:00, 137.24it/s]\n",
      "validation epoch 1: 100%|█████████████████████████████████████████████████████████████| 36/36 [00:00<00:00, 398.80it/s]\n"
     ]
    },
    {
     "name": "stdout",
     "output_type": "stream",
     "text": [
      "epoch: 1, loss: 0.74258, train: 0.58623, valid: 0.67907\n",
      "Valid metrics improved (0.000000 --> 0.679072).  Saving model ...\n",
      "=========================================\n"
     ]
    },
    {
     "name": "stderr",
     "output_type": "stream",
     "text": [
      "training epoch 2: 100%|███████████████████████████████████████████████████████████████| 84/84 [00:00<00:00, 162.53it/s]\n",
      "validation epoch 2: 100%|█████████████████████████████████████████████████████████████| 36/36 [00:00<00:00, 285.75it/s]\n"
     ]
    },
    {
     "name": "stdout",
     "output_type": "stream",
     "text": [
      "epoch: 2, loss: 0.45050, train: 0.75267, valid: 0.73555\n",
      "Valid metrics improved (0.679072 --> 0.735552).  Saving model ...\n",
      "=========================================\n"
     ]
    },
    {
     "name": "stderr",
     "output_type": "stream",
     "text": [
      "training epoch 3: 100%|███████████████████████████████████████████████████████████████| 84/84 [00:00<00:00, 174.59it/s]\n",
      "validation epoch 3: 100%|█████████████████████████████████████████████████████████████| 36/36 [00:00<00:00, 422.08it/s]\n"
     ]
    },
    {
     "name": "stdout",
     "output_type": "stream",
     "text": [
      "epoch: 3, loss: 0.11772, train: 0.84444, valid: 0.74299\n",
      "Valid metrics improved (0.735552 --> 0.742995).  Saving model ...\n",
      "=========================================\n"
     ]
    },
    {
     "name": "stderr",
     "output_type": "stream",
     "text": [
      "training epoch 4: 100%|███████████████████████████████████████████████████████████████| 84/84 [00:00<00:00, 182.29it/s]\n",
      "validation epoch 4: 100%|█████████████████████████████████████████████████████████████| 36/36 [00:00<00:00, 394.46it/s]\n"
     ]
    },
    {
     "name": "stdout",
     "output_type": "stream",
     "text": [
      "epoch: 4, loss: 0.02100, train: 0.91124, valid: 0.74343\n",
      "Valid metrics improved (0.742995 --> 0.743433).  Saving model ...\n",
      "=========================================\n"
     ]
    },
    {
     "name": "stderr",
     "output_type": "stream",
     "text": [
      "training epoch 5: 100%|███████████████████████████████████████████████████████████████| 84/84 [00:00<00:00, 183.07it/s]\n",
      "validation epoch 5: 100%|█████████████████████████████████████████████████████████████| 36/36 [00:00<00:00, 409.78it/s]\n"
     ]
    },
    {
     "name": "stdout",
     "output_type": "stream",
     "text": [
      "epoch: 5, loss: 0.00925, train: 0.95496, valid: 0.75306\n",
      "Valid metrics improved (0.743433 --> 0.753065).  Saving model ...\n",
      "=========================================\n"
     ]
    },
    {
     "name": "stderr",
     "output_type": "stream",
     "text": [
      "training epoch 6: 100%|███████████████████████████████████████████████████████████████| 84/84 [00:00<00:00, 163.84it/s]\n",
      "validation epoch 6: 100%|█████████████████████████████████████████████████████████████| 36/36 [00:00<00:00, 414.48it/s]\n"
     ]
    },
    {
     "name": "stdout",
     "output_type": "stream",
     "text": [
      "epoch: 6, loss: 0.00512, train: 0.96697, valid: 0.74956\n"
     ]
    },
    {
     "name": "stderr",
     "output_type": "stream",
     "text": [
      "training epoch 7: 100%|███████████████████████████████████████████████████████████████| 84/84 [00:00<00:00, 180.92it/s]\n",
      "validation epoch 7: 100%|█████████████████████████████████████████████████████████████| 36/36 [00:00<00:00, 412.07it/s]\n"
     ]
    },
    {
     "name": "stdout",
     "output_type": "stream",
     "text": [
      "epoch: 7, loss: 0.00533, train: 0.97692, valid: 0.75438\n",
      "Valid metrics improved (0.753065 --> 0.754378).  Saving model ...\n",
      "=========================================\n"
     ]
    },
    {
     "name": "stderr",
     "output_type": "stream",
     "text": [
      "training epoch 8: 100%|███████████████████████████████████████████████████████████████| 84/84 [00:00<00:00, 183.68it/s]\n",
      "validation epoch 8: 100%|█████████████████████████████████████████████████████████████| 36/36 [00:00<00:00, 419.54it/s]\n"
     ]
    },
    {
     "name": "stdout",
     "output_type": "stream",
     "text": [
      "epoch: 8, loss: 0.00322, train: 0.98330, valid: 0.74212\n"
     ]
    },
    {
     "name": "stderr",
     "output_type": "stream",
     "text": [
      "training epoch 9: 100%|███████████████████████████████████████████████████████████████| 84/84 [00:00<00:00, 177.14it/s]\n",
      "validation epoch 9: 100%|█████████████████████████████████████████████████████████████| 36/36 [00:00<00:00, 434.62it/s]\n"
     ]
    },
    {
     "name": "stdout",
     "output_type": "stream",
     "text": [
      "epoch: 9, loss: 0.00071, train: 0.98799, valid: 0.75744\n",
      "Valid metrics improved (0.754378 --> 0.757443).  Saving model ...\n",
      "=========================================\n"
     ]
    },
    {
     "name": "stderr",
     "output_type": "stream",
     "text": [
      "training epoch 10: 100%|██████████████████████████████████████████████████████████████| 84/84 [00:00<00:00, 182.30it/s]\n",
      "validation epoch 10: 100%|████████████████████████████████████████████████████████████| 36/36 [00:00<00:00, 419.27it/s]\n"
     ]
    },
    {
     "name": "stdout",
     "output_type": "stream",
     "text": [
      "epoch: 10, loss: 0.00045, train: 0.98949, valid: 0.74825\n"
     ]
    },
    {
     "name": "stderr",
     "output_type": "stream",
     "text": [
      "training epoch 11: 100%|██████████████████████████████████████████████████████████████| 84/84 [00:00<00:00, 178.46it/s]\n",
      "validation epoch 11: 100%|████████████████████████████████████████████████████████████| 36/36 [00:00<00:00, 426.63it/s]\n"
     ]
    },
    {
     "name": "stdout",
     "output_type": "stream",
     "text": [
      "epoch: 11, loss: 0.00025, train: 0.99231, valid: 0.74737\n"
     ]
    },
    {
     "name": "stderr",
     "output_type": "stream",
     "text": [
      "training epoch 12: 100%|██████████████████████████████████████████████████████████████| 84/84 [00:00<00:00, 182.71it/s]\n",
      "validation epoch 12: 100%|████████████████████████████████████████████████████████████| 36/36 [00:00<00:00, 403.24it/s]\n"
     ]
    },
    {
     "name": "stdout",
     "output_type": "stream",
     "text": [
      "epoch: 12, loss: 0.00014, train: 0.99324, valid: 0.74694\n"
     ]
    },
    {
     "name": "stderr",
     "output_type": "stream",
     "text": [
      "training epoch 13: 100%|██████████████████████████████████████████████████████████████| 84/84 [00:00<00:00, 182.67it/s]\n",
      "validation epoch 13: 100%|████████████████████████████████████████████████████████████| 36/36 [00:00<00:00, 412.19it/s]\n"
     ]
    },
    {
     "name": "stdout",
     "output_type": "stream",
     "text": [
      "epoch: 13, loss: 0.00022, train: 0.99212, valid: 0.74694\n"
     ]
    },
    {
     "name": "stderr",
     "output_type": "stream",
     "text": [
      "training epoch 14: 100%|██████████████████████████████████████████████████████████████| 84/84 [00:00<00:00, 179.96it/s]\n",
      "validation epoch 14: 100%|████████████████████████████████████████████████████████████| 36/36 [00:00<00:00, 426.58it/s]\n"
     ]
    },
    {
     "name": "stdout",
     "output_type": "stream",
     "text": [
      "epoch: 14, loss: 0.00038, train: 0.99062, valid: 0.74081\n"
     ]
    },
    {
     "name": "stderr",
     "output_type": "stream",
     "text": [
      "training epoch 15: 100%|██████████████████████████████████████████████████████████████| 84/84 [00:00<00:00, 175.66it/s]\n",
      "validation epoch 15: 100%|████████████████████████████████████████████████████████████| 36/36 [00:00<00:00, 416.99it/s]\n"
     ]
    },
    {
     "name": "stdout",
     "output_type": "stream",
     "text": [
      "epoch: 15, loss: 0.00018, train: 0.99343, valid: 0.74475\n"
     ]
    },
    {
     "name": "stderr",
     "output_type": "stream",
     "text": [
      "training epoch 16: 100%|██████████████████████████████████████████████████████████████| 84/84 [00:00<00:00, 183.86it/s]\n",
      "validation epoch 16: 100%|████████████████████████████████████████████████████████████| 36/36 [00:00<00:00, 416.93it/s]\n"
     ]
    },
    {
     "name": "stdout",
     "output_type": "stream",
     "text": [
      "epoch: 16, loss: 0.00004, train: 0.99381, valid: 0.74737\n"
     ]
    },
    {
     "name": "stderr",
     "output_type": "stream",
     "text": [
      "training epoch 17: 100%|██████████████████████████████████████████████████████████████| 84/84 [00:00<00:00, 183.88it/s]\n",
      "validation epoch 17: 100%|████████████████████████████████████████████████████████████| 36/36 [00:00<00:00, 421.65it/s]\n"
     ]
    },
    {
     "name": "stdout",
     "output_type": "stream",
     "text": [
      "epoch: 17, loss: 0.00003, train: 0.99437, valid: 0.74299\n"
     ]
    },
    {
     "name": "stderr",
     "output_type": "stream",
     "text": [
      "training epoch 18: 100%|██████████████████████████████████████████████████████████████| 84/84 [00:00<00:00, 184.88it/s]\n",
      "validation epoch 18: 100%|████████████████████████████████████████████████████████████| 36/36 [00:00<00:00, 389.98it/s]\n"
     ]
    },
    {
     "name": "stdout",
     "output_type": "stream",
     "text": [
      "epoch: 18, loss: 0.00001, train: 0.99456, valid: 0.74256\n"
     ]
    },
    {
     "name": "stderr",
     "output_type": "stream",
     "text": [
      "training epoch 19: 100%|██████████████████████████████████████████████████████████████| 84/84 [00:00<00:00, 182.67it/s]\n",
      "validation epoch 19: 100%|████████████████████████████████████████████████████████████| 36/36 [00:00<00:00, 414.42it/s]\n"
     ]
    },
    {
     "name": "stdout",
     "output_type": "stream",
     "text": [
      "epoch: 19, loss: 0.00001, train: 0.99456, valid: 0.74562\n"
     ]
    },
    {
     "name": "stderr",
     "output_type": "stream",
     "text": [
      "training epoch 20: 100%|██████████████████████████████████████████████████████████████| 84/84 [00:00<00:00, 175.86it/s]\n",
      "validation epoch 20: 100%|████████████████████████████████████████████████████████████| 36/36 [00:00<00:00, 424.10it/s]\n"
     ]
    },
    {
     "name": "stdout",
     "output_type": "stream",
     "text": [
      "epoch: 20, loss: 0.00001, train: 0.99606, valid: 0.74562\n"
     ]
    },
    {
     "name": "stderr",
     "output_type": "stream",
     "text": [
      "training epoch 21: 100%|██████████████████████████████████████████████████████████████| 84/84 [00:00<00:00, 182.67it/s]\n",
      "validation epoch 21: 100%|████████████████████████████████████████████████████████████| 36/36 [00:00<00:00, 416.81it/s]\n"
     ]
    },
    {
     "name": "stdout",
     "output_type": "stream",
     "text": [
      "epoch: 21, loss: 0.00000, train: 0.99681, valid: 0.74475\n"
     ]
    },
    {
     "name": "stderr",
     "output_type": "stream",
     "text": [
      "training epoch 22: 100%|██████████████████████████████████████████████████████████████| 84/84 [00:00<00:00, 184.89it/s]\n",
      "validation epoch 22: 100%|████████████████████████████████████████████████████████████| 36/36 [00:00<00:00, 405.18it/s]\n"
     ]
    },
    {
     "name": "stdout",
     "output_type": "stream",
     "text": [
      "epoch: 22, loss: 0.00000, train: 0.99643, valid: 0.74168\n"
     ]
    },
    {
     "name": "stderr",
     "output_type": "stream",
     "text": [
      "training epoch 23: 100%|██████████████████████████████████████████████████████████████| 84/84 [00:00<00:00, 183.68it/s]\n",
      "validation epoch 23: 100%|████████████████████████████████████████████████████████████| 36/36 [00:00<00:00, 421.65it/s]\n"
     ]
    },
    {
     "name": "stdout",
     "output_type": "stream",
     "text": [
      "epoch: 23, loss: 0.00001, train: 0.99625, valid: 0.74124\n"
     ]
    },
    {
     "name": "stderr",
     "output_type": "stream",
     "text": [
      "training epoch 24: 100%|██████████████████████████████████████████████████████████████| 84/84 [00:00<00:00, 176.23it/s]\n",
      "validation epoch 24: 100%|████████████████████████████████████████████████████████████| 36/36 [00:00<00:00, 419.36it/s]\n"
     ]
    },
    {
     "name": "stdout",
     "output_type": "stream",
     "text": [
      "epoch: 24, loss: 0.00002, train: 0.99662, valid: 0.74212\n"
     ]
    },
    {
     "name": "stderr",
     "output_type": "stream",
     "text": [
      "training epoch 25: 100%|██████████████████████████████████████████████████████████████| 84/84 [00:00<00:00, 178.26it/s]\n",
      "validation epoch 25: 100%|████████████████████████████████████████████████████████████| 36/36 [00:00<00:00, 366.57it/s]\n"
     ]
    },
    {
     "name": "stdout",
     "output_type": "stream",
     "text": [
      "epoch: 25, loss: 0.00001, train: 0.99700, valid: 0.74037\n"
     ]
    },
    {
     "name": "stderr",
     "output_type": "stream",
     "text": [
      "training epoch 26: 100%|██████████████████████████████████████████████████████████████| 84/84 [00:00<00:00, 168.85it/s]\n",
      "validation epoch 26: 100%|████████████████████████████████████████████████████████████| 36/36 [00:00<00:00, 417.13it/s]\n"
     ]
    },
    {
     "name": "stdout",
     "output_type": "stream",
     "text": [
      "epoch: 26, loss: 0.00001, train: 0.99662, valid: 0.74081\n"
     ]
    },
    {
     "name": "stderr",
     "output_type": "stream",
     "text": [
      "training epoch 27: 100%|██████████████████████████████████████████████████████████████| 84/84 [00:00<00:00, 182.14it/s]\n",
      "validation epoch 27: 100%|████████████████████████████████████████████████████████████| 36/36 [00:00<00:00, 426.76it/s]\n"
     ]
    },
    {
     "name": "stdout",
     "output_type": "stream",
     "text": [
      "epoch: 27, loss: 0.00001, train: 0.99719, valid: 0.73993\n"
     ]
    },
    {
     "name": "stderr",
     "output_type": "stream",
     "text": [
      "training epoch 28: 100%|██████████████████████████████████████████████████████████████| 84/84 [00:00<00:00, 179.97it/s]\n",
      "validation epoch 28: 100%|████████████████████████████████████████████████████████████| 36/36 [00:00<00:00, 431.84it/s]\n"
     ]
    },
    {
     "name": "stdout",
     "output_type": "stream",
     "text": [
      "epoch: 28, loss: 0.00001, train: 0.99737, valid: 0.73949\n"
     ]
    },
    {
     "name": "stderr",
     "output_type": "stream",
     "text": [
      "training epoch 29: 100%|██████████████████████████████████████████████████████████████| 84/84 [00:00<00:00, 181.91it/s]\n",
      "validation epoch 29: 100%|████████████████████████████████████████████████████████████| 36/36 [00:00<00:00, 429.25it/s]\n"
     ]
    },
    {
     "name": "stdout",
     "output_type": "stream",
     "text": [
      "epoch: 29, loss: 0.00001, train: 0.99737, valid: 0.73862\n"
     ]
    },
    {
     "name": "stderr",
     "output_type": "stream",
     "text": [
      "training epoch 30: 100%|██████████████████████████████████████████████████████████████| 84/84 [00:00<00:00, 182.09it/s]\n",
      "validation epoch 30: 100%|████████████████████████████████████████████████████████████| 36/36 [00:00<00:00, 412.06it/s]\n"
     ]
    },
    {
     "name": "stdout",
     "output_type": "stream",
     "text": [
      "epoch: 30, loss: 0.00001, train: 0.99700, valid: 0.73818\n"
     ]
    },
    {
     "name": "stderr",
     "output_type": "stream",
     "text": [
      "training epoch 31: 100%|██████████████████████████████████████████████████████████████| 84/84 [00:00<00:00, 180.56it/s]\n",
      "validation epoch 31: 100%|████████████████████████████████████████████████████████████| 36/36 [00:00<00:00, 416.85it/s]\n"
     ]
    },
    {
     "name": "stdout",
     "output_type": "stream",
     "text": [
      "epoch: 31, loss: 0.00000, train: 0.99700, valid: 0.73862\n"
     ]
    },
    {
     "name": "stderr",
     "output_type": "stream",
     "text": [
      "training epoch 32: 100%|██████████████████████████████████████████████████████████████| 84/84 [00:00<00:00, 180.53it/s]\n",
      "validation epoch 32: 100%|████████████████████████████████████████████████████████████| 36/36 [00:00<00:00, 418.11it/s]\n"
     ]
    },
    {
     "name": "stdout",
     "output_type": "stream",
     "text": [
      "epoch: 32, loss: 0.00000, train: 0.99719, valid: 0.73862\n"
     ]
    },
    {
     "name": "stderr",
     "output_type": "stream",
     "text": [
      "training epoch 33: 100%|██████████████████████████████████████████████████████████████| 84/84 [00:00<00:00, 183.88it/s]\n",
      "validation epoch 33: 100%|████████████████████████████████████████████████████████████| 36/36 [00:00<00:00, 416.95it/s]\n"
     ]
    },
    {
     "name": "stdout",
     "output_type": "stream",
     "text": [
      "epoch: 33, loss: 0.00001, train: 0.99700, valid: 0.73774\n"
     ]
    },
    {
     "name": "stderr",
     "output_type": "stream",
     "text": [
      "training epoch 34: 100%|██████████████████████████████████████████████████████████████| 84/84 [00:00<00:00, 167.33it/s]\n",
      "validation epoch 34: 100%|████████████████████████████████████████████████████████████| 36/36 [00:00<00:00, 419.39it/s]\n"
     ]
    },
    {
     "name": "stdout",
     "output_type": "stream",
     "text": [
      "epoch: 34, loss: 0.00001, train: 0.99681, valid: 0.73774\n"
     ]
    },
    {
     "name": "stderr",
     "output_type": "stream",
     "text": [
      "training epoch 35: 100%|██████████████████████████████████████████████████████████████| 84/84 [00:00<00:00, 182.49it/s]\n",
      "validation epoch 35: 100%|████████████████████████████████████████████████████████████| 36/36 [00:00<00:00, 429.28it/s]\n"
     ]
    },
    {
     "name": "stdout",
     "output_type": "stream",
     "text": [
      "epoch: 35, loss: 0.00000, train: 0.99662, valid: 0.73905\n"
     ]
    },
    {
     "name": "stderr",
     "output_type": "stream",
     "text": [
      "training epoch 36: 100%|██████████████████████████████████████████████████████████████| 84/84 [00:00<00:00, 183.28it/s]\n",
      "validation epoch 36: 100%|████████████████████████████████████████████████████████████| 36/36 [00:00<00:00, 398.50it/s]\n"
     ]
    },
    {
     "name": "stdout",
     "output_type": "stream",
     "text": [
      "epoch: 36, loss: 0.00000, train: 0.99700, valid: 0.73993\n"
     ]
    },
    {
     "name": "stderr",
     "output_type": "stream",
     "text": [
      "training epoch 37: 100%|██████████████████████████████████████████████████████████████| 84/84 [00:00<00:00, 183.11it/s]\n",
      "validation epoch 37: 100%|████████████████████████████████████████████████████████████| 36/36 [00:00<00:00, 419.32it/s]\n"
     ]
    },
    {
     "name": "stdout",
     "output_type": "stream",
     "text": [
      "epoch: 37, loss: 0.00000, train: 0.99737, valid: 0.74037\n"
     ]
    },
    {
     "name": "stderr",
     "output_type": "stream",
     "text": [
      "training epoch 38: 100%|██████████████████████████████████████████████████████████████| 84/84 [00:00<00:00, 182.09it/s]\n",
      "validation epoch 38: 100%|████████████████████████████████████████████████████████████| 36/36 [00:00<00:00, 407.48it/s]\n"
     ]
    },
    {
     "name": "stdout",
     "output_type": "stream",
     "text": [
      "epoch: 38, loss: 0.00000, train: 0.99700, valid: 0.73949\n"
     ]
    },
    {
     "name": "stderr",
     "output_type": "stream",
     "text": [
      "training epoch 39: 100%|██████████████████████████████████████████████████████████████| 84/84 [00:00<00:00, 184.48it/s]\n",
      "validation epoch 39: 100%|████████████████████████████████████████████████████████████| 36/36 [00:00<00:00, 409.74it/s]\n"
     ]
    },
    {
     "name": "stdout",
     "output_type": "stream",
     "text": [
      "epoch: 39, loss: 0.00000, train: 0.99700, valid: 0.74037\n"
     ]
    },
    {
     "name": "stderr",
     "output_type": "stream",
     "text": [
      "training epoch 40: 100%|██████████████████████████████████████████████████████████████| 84/84 [00:00<00:00, 184.07it/s]\n",
      "validation epoch 40: 100%|████████████████████████████████████████████████████████████| 36/36 [00:00<00:00, 400.71it/s]\n"
     ]
    },
    {
     "name": "stdout",
     "output_type": "stream",
     "text": [
      "epoch: 40, loss: 0.00000, train: 0.99719, valid: 0.73643\n"
     ]
    },
    {
     "name": "stderr",
     "output_type": "stream",
     "text": [
      "training epoch 41: 100%|██████████████████████████████████████████████████████████████| 84/84 [00:00<00:00, 181.94it/s]\n",
      "validation epoch 41: 100%|████████████████████████████████████████████████████████████| 36/36 [00:00<00:00, 409.88it/s]\n"
     ]
    },
    {
     "name": "stdout",
     "output_type": "stream",
     "text": [
      "epoch: 41, loss: 0.00000, train: 0.99737, valid: 0.73818\n"
     ]
    },
    {
     "name": "stderr",
     "output_type": "stream",
     "text": [
      "training epoch 42: 100%|██████████████████████████████████████████████████████████████| 84/84 [00:00<00:00, 183.49it/s]\n",
      "validation epoch 42: 100%|████████████████████████████████████████████████████████████| 36/36 [00:00<00:00, 409.74it/s]\n"
     ]
    },
    {
     "name": "stdout",
     "output_type": "stream",
     "text": [
      "epoch: 42, loss: 0.00000, train: 0.99700, valid: 0.73905\n"
     ]
    },
    {
     "name": "stderr",
     "output_type": "stream",
     "text": [
      "training epoch 43: 100%|██████████████████████████████████████████████████████████████| 84/84 [00:00<00:00, 184.87it/s]\n",
      "validation epoch 43: 100%|████████████████████████████████████████████████████████████| 36/36 [00:00<00:00, 405.18it/s]\n"
     ]
    },
    {
     "name": "stdout",
     "output_type": "stream",
     "text": [
      "epoch: 43, loss: 0.00000, train: 0.99719, valid: 0.73380\n"
     ]
    },
    {
     "name": "stderr",
     "output_type": "stream",
     "text": [
      "training epoch 44: 100%|██████████████████████████████████████████████████████████████| 84/84 [00:00<00:00, 180.74it/s]\n",
      "validation epoch 44: 100%|████████████████████████████████████████████████████████████| 36/36 [00:00<00:00, 426.75it/s]\n"
     ]
    },
    {
     "name": "stdout",
     "output_type": "stream",
     "text": [
      "epoch: 44, loss: 0.00000, train: 0.99719, valid: 0.73424\n"
     ]
    },
    {
     "name": "stderr",
     "output_type": "stream",
     "text": [
      "training epoch 45: 100%|██████████████████████████████████████████████████████████████| 84/84 [00:00<00:00, 176.11it/s]\n",
      "validation epoch 45: 100%|████████████████████████████████████████████████████████████| 36/36 [00:00<00:00, 416.99it/s]\n"
     ]
    },
    {
     "name": "stdout",
     "output_type": "stream",
     "text": [
      "epoch: 45, loss: 0.00000, train: 0.99737, valid: 0.73862\n"
     ]
    },
    {
     "name": "stderr",
     "output_type": "stream",
     "text": [
      "training epoch 46: 100%|██████████████████████████████████████████████████████████████| 84/84 [00:00<00:00, 183.87it/s]\n",
      "validation epoch 46: 100%|████████████████████████████████████████████████████████████| 36/36 [00:00<00:00, 409.76it/s]\n"
     ]
    },
    {
     "name": "stdout",
     "output_type": "stream",
     "text": [
      "epoch: 46, loss: 0.00000, train: 0.99700, valid: 0.73862\n"
     ]
    },
    {
     "name": "stderr",
     "output_type": "stream",
     "text": [
      "training epoch 47: 100%|██████████████████████████████████████████████████████████████| 84/84 [00:00<00:00, 181.13it/s]\n",
      "validation epoch 47: 100%|████████████████████████████████████████████████████████████| 36/36 [00:00<00:00, 392.08it/s]\n"
     ]
    },
    {
     "name": "stdout",
     "output_type": "stream",
     "text": [
      "epoch: 47, loss: 0.00000, train: 0.99719, valid: 0.73862\n"
     ]
    },
    {
     "name": "stderr",
     "output_type": "stream",
     "text": [
      "training epoch 48: 100%|██████████████████████████████████████████████████████████████| 84/84 [00:00<00:00, 183.67it/s]\n",
      "validation epoch 48: 100%|████████████████████████████████████████████████████████████| 36/36 [00:00<00:00, 421.66it/s]\n"
     ]
    },
    {
     "name": "stdout",
     "output_type": "stream",
     "text": [
      "epoch: 48, loss: 0.00001, train: 0.99700, valid: 0.74168\n"
     ]
    },
    {
     "name": "stderr",
     "output_type": "stream",
     "text": [
      "training epoch 49: 100%|██████████████████████████████████████████████████████████████| 84/84 [00:00<00:00, 183.48it/s]\n",
      "validation epoch 49: 100%|████████████████████████████████████████████████████████████| 36/36 [00:00<00:00, 394.33it/s]\n"
     ]
    },
    {
     "name": "stdout",
     "output_type": "stream",
     "text": [
      "epoch: 49, loss: 0.07690, train: 0.96228, valid: 0.75044\n"
     ]
    },
    {
     "name": "stderr",
     "output_type": "stream",
     "text": [
      "training epoch 50: 100%|██████████████████████████████████████████████████████████████| 84/84 [00:00<00:00, 184.08it/s]\n",
      "validation epoch 50: 100%|████████████████████████████████████████████████████████████| 36/36 [00:00<00:00, 375.75it/s]\n"
     ]
    },
    {
     "name": "stdout",
     "output_type": "stream",
     "text": [
      "epoch: 50, loss: 0.00399, train: 0.98518, valid: 0.74212\n"
     ]
    }
   ],
   "source": [
    "# Training\n",
    "EPOCHS = 50\n",
    "valid_accuracy_min = 0\n",
    "for epoch in range(EPOCHS):\n",
    "    model.train()\n",
    "    train_predictions = []\n",
    "    for x_batch, y_batch in tqdm.tqdm(loader_training, desc=f\"training epoch {epoch+1}\"):\n",
    "        \n",
    "        x = x_batch.type(torch.LongTensor).to(device)\n",
    "        y = y_batch.type(torch.FloatTensor).to(device)\n",
    "        \n",
    "        y_pred = model(x)\n",
    "        \n",
    "        loss = criterion(y_pred, y)\n",
    "        \n",
    "        optimizer.zero_grad()\n",
    "        loss.backward()\n",
    "        optimizer.step()\n",
    "        \n",
    "        # Save predictions for metrics calculation\n",
    "        train_predictions += list(y_pred.squeeze().cpu().detach().numpy())\n",
    "    \n",
    "    # Evaluation\n",
    "    with torch.no_grad():\n",
    "        model.eval()\n",
    "        valid_predictions = []\n",
    "        for x_batch, y_batch in tqdm.tqdm(loader_valid, desc=f\"validation epoch {epoch+1}\"):\n",
    "            x = x_batch.type(torch.LongTensor).to(device)\n",
    "            y = y_batch.type(torch.FloatTensor).to(device)\n",
    "            \n",
    "            y_pred = model(x)\n",
    "            # Save predictions for metrics calculation\n",
    "            valid_predictions += list(y_pred.squeeze().cpu().detach().numpy())\n",
    "\n",
    "    train_accuracy = calculate_accuracy_with_selected_threshold(y_train, train_predictions)\n",
    "    valid_accuracy = calculate_accuracy_with_selected_threshold(y_valid, valid_predictions)\n",
    "    print(f\"epoch: {epoch+1}, loss: {loss.item():.5f}, train: {train_accuracy:.5f}, valid: {valid_accuracy:.5f}\")\n",
    "    if valid_accuracy >= valid_accuracy_min:\n",
    "        print('Valid metrics improved ({:.6f} --> {:.6f}).  Saving model ...'.format(valid_accuracy_min,valid_accuracy))\n",
    "        # change the name, for saving multiple files\n",
    "        torch.save(model.state_dict(), 'text_clf.pt')\n",
    "        valid_accuracy_min = valid_accuracy\n",
    "        print(\"=========================================\")"
   ]
  },
  {
   "cell_type": "code",
   "execution_count": 40,
   "id": "e3a0a08d",
   "metadata": {
    "execution": {
     "iopub.execute_input": "2022-03-05T23:37:07.196308Z",
     "iopub.status.busy": "2022-03-05T23:37:07.195495Z",
     "iopub.status.idle": "2022-03-05T23:37:16.643896Z",
     "shell.execute_reply": "2022-03-05T23:37:16.644314Z",
     "shell.execute_reply.started": "2022-03-05T23:21:09.145194Z"
    },
    "papermill": {
     "duration": 9.465388,
     "end_time": "2022-03-05T23:37:16.644460",
     "exception": false,
     "start_time": "2022-03-05T23:37:07.179072",
     "status": "completed"
    },
    "tags": []
   },
   "outputs": [
    {
     "data": {
      "text/plain": [
       "<All keys matched successfully>"
      ]
     },
     "execution_count": 40,
     "metadata": {},
     "output_type": "execute_result"
    }
   ],
   "source": [
    "model.load_state_dict(torch.load('text_clf.pt'))"
   ]
  },
  {
   "cell_type": "code",
   "execution_count": 41,
   "id": "4499749f",
   "metadata": {},
   "outputs": [
    {
     "name": "stdout",
     "output_type": "stream",
     "text": [
      "valid accuracy: 0.75744\n"
     ]
    }
   ],
   "source": [
    "with torch.no_grad():\n",
    "    model.eval()\n",
    "    valid_predictions = []\n",
    "    for x_batch, y_batch in loader_valid:\n",
    "        x = x_batch.type(torch.LongTensor).to(device)\n",
    "        y = y_batch.type(torch.FloatTensor).to(device)\n",
    "\n",
    "        y_pred = model(x)\n",
    "        # Save predictions for metrics calculation\n",
    "        valid_predictions += list(y_pred.squeeze().cpu().detach().numpy())\n",
    "        \n",
    "    valid_accuracy = calculate_accuracy_with_selected_threshold(y_valid, valid_predictions)\n",
    "    print(f\"valid accuracy: {valid_accuracy:.5f}\")"
   ]
  },
  {
   "cell_type": "code",
   "execution_count": 42,
   "id": "29d0d26e",
   "metadata": {},
   "outputs": [
    {
     "data": {
      "text/plain": [
       "<AxesSubplot:xlabel='fpr'>"
      ]
     },
     "execution_count": 42,
     "metadata": {},
     "output_type": "execute_result"
    },
    {
     "data": {
      "image/png": "[encoded data removed]",
      "text/plain": [
       "<Figure size 600x400 with 1 Axes>"
      ]
     },
     "metadata": {},
     "output_type": "display_data"
    }
   ],
   "source": [
    "fpr, tpr, thr = roc_curve(y_valid, valid_predictions)\n",
    "roc = pd.DataFrame({'fpr':fpr, 'tpr':tpr, 'thr':thr});\n",
    "roc['random'] = roc['fpr'].copy()\n",
    "roc['diff'] = roc['tpr'] - roc['fpr']\n",
    "roc.plot(x='fpr', y=['tpr','random'], figsize=(6,4), grid=True)"
   ]
  },
  {
   "cell_type": "code",
   "execution_count": 43,
   "id": "96985fdd",
   "metadata": {},
   "outputs": [],
   "source": [
    "roc = roc.sort_values('diff', ascending=False).reset_index().drop('index', axis=1)"
   ]
  },
  {
   "cell_type": "code",
   "execution_count": 44,
   "id": "e451bcd6",
   "metadata": {},
   "outputs": [
    {
     "data": {
      "text/html": [
       "<div>\n",
       "<style scoped>\n",
       "    .dataframe tbody tr th:only-of-type {\n",
       "        vertical-align: middle;\n",
       "    }\n",
       "\n",
       "    .dataframe tbody tr th {\n",
       "        vertical-align: top;\n",
       "    }\n",
       "\n",
       "    .dataframe thead th {\n",
       "        text-align: right;\n",
       "    }\n",
       "</style>\n",
       "<table border=\"1\" class=\"dataframe\">\n",
       "  <thead>\n",
       "    <tr style=\"text-align: right;\">\n",
       "      <th></th>\n",
       "      <th>fpr</th>\n",
       "      <th>tpr</th>\n",
       "      <th>thr</th>\n",
       "      <th>random</th>\n",
       "      <th>diff</th>\n",
       "    </tr>\n",
       "  </thead>\n",
       "  <tbody>\n",
       "    <tr>\n",
       "      <th>0</th>\n",
       "      <td>0.118189</td>\n",
       "      <td>0.593272</td>\n",
       "      <td>9.506674e-01</td>\n",
       "      <td>0.118189</td>\n",
       "      <td>0.475083</td>\n",
       "    </tr>\n",
       "    <tr>\n",
       "      <th>1</th>\n",
       "      <td>0.164236</td>\n",
       "      <td>0.639144</td>\n",
       "      <td>7.972897e-01</td>\n",
       "      <td>0.164236</td>\n",
       "      <td>0.474907</td>\n",
       "    </tr>\n",
       "    <tr>\n",
       "      <th>2</th>\n",
       "      <td>0.120491</td>\n",
       "      <td>0.595311</td>\n",
       "      <td>9.465433e-01</td>\n",
       "      <td>0.120491</td>\n",
       "      <td>0.474820</td>\n",
       "    </tr>\n",
       "    <tr>\n",
       "      <th>3</th>\n",
       "      <td>0.163469</td>\n",
       "      <td>0.638124</td>\n",
       "      <td>8.048190e-01</td>\n",
       "      <td>0.163469</td>\n",
       "      <td>0.474655</td>\n",
       "    </tr>\n",
       "    <tr>\n",
       "      <th>4</th>\n",
       "      <td>0.119724</td>\n",
       "      <td>0.594292</td>\n",
       "      <td>9.472815e-01</td>\n",
       "      <td>0.119724</td>\n",
       "      <td>0.474568</td>\n",
       "    </tr>\n",
       "    <tr>\n",
       "      <th>...</th>\n",
       "      <td>...</td>\n",
       "      <td>...</td>\n",
       "      <td>...</td>\n",
       "      <td>...</td>\n",
       "      <td>...</td>\n",
       "    </tr>\n",
       "    <tr>\n",
       "      <th>782</th>\n",
       "      <td>0.997698</td>\n",
       "      <td>0.997961</td>\n",
       "      <td>7.415540e-07</td>\n",
       "      <td>0.997698</td>\n",
       "      <td>0.000264</td>\n",
       "    </tr>\n",
       "    <tr>\n",
       "      <th>783</th>\n",
       "      <td>0.000000</td>\n",
       "      <td>0.000000</td>\n",
       "      <td>2.000000e+00</td>\n",
       "      <td>0.000000</td>\n",
       "      <td>0.000000</td>\n",
       "    </tr>\n",
       "    <tr>\n",
       "      <th>784</th>\n",
       "      <td>1.000000</td>\n",
       "      <td>1.000000</td>\n",
       "      <td>9.410272e-08</td>\n",
       "      <td>1.000000</td>\n",
       "      <td>0.000000</td>\n",
       "    </tr>\n",
       "    <tr>\n",
       "      <th>785</th>\n",
       "      <td>0.997698</td>\n",
       "      <td>0.996942</td>\n",
       "      <td>8.003059e-07</td>\n",
       "      <td>0.997698</td>\n",
       "      <td>-0.000756</td>\n",
       "    </tr>\n",
       "    <tr>\n",
       "      <th>786</th>\n",
       "      <td>1.000000</td>\n",
       "      <td>0.997961</td>\n",
       "      <td>4.118492e-07</td>\n",
       "      <td>1.000000</td>\n",
       "      <td>-0.002039</td>\n",
       "    </tr>\n",
       "  </tbody>\n",
       "</table>\n",
       "<p>787 rows × 5 columns</p>\n",
       "</div>"
      ],
      "text/plain": [
       "          fpr       tpr           thr    random      diff\n",
       "0    0.118189  0.593272  9.506674e-01  0.118189  0.475083\n",
       "1    0.164236  0.639144  7.972897e-01  0.164236  0.474907\n",
       "2    0.120491  0.595311  9.465433e-01  0.120491  0.474820\n",
       "3    0.163469  0.638124  8.048190e-01  0.163469  0.474655\n",
       "4    0.119724  0.594292  9.472815e-01  0.119724  0.474568\n",
       "..        ...       ...           ...       ...       ...\n",
       "782  0.997698  0.997961  7.415540e-07  0.997698  0.000264\n",
       "783  0.000000  0.000000  2.000000e+00  0.000000  0.000000\n",
       "784  1.000000  1.000000  9.410272e-08  1.000000  0.000000\n",
       "785  0.997698  0.996942  8.003059e-07  0.997698 -0.000756\n",
       "786  1.000000  0.997961  4.118492e-07  1.000000 -0.002039\n",
       "\n",
       "[787 rows x 5 columns]"
      ]
     },
     "execution_count": 44,
     "metadata": {},
     "output_type": "execute_result"
    }
   ],
   "source": [
    "roc"
   ]
  },
  {
   "cell_type": "code",
   "execution_count": 45,
   "id": "e360aba3",
   "metadata": {},
   "outputs": [
    {
     "data": {
      "text/plain": [
       "0.9506674"
      ]
     },
     "execution_count": 45,
     "metadata": {},
     "output_type": "execute_result"
    }
   ],
   "source": [
    "roc.loc[0,'thr']"
   ]
  },
  {
   "cell_type": "code",
   "execution_count": null,
   "id": "5b9f790a",
   "metadata": {},
   "outputs": [],
   "source": []
  }
 ],
 "metadata": {
  "kernelspec": {
   "display_name": "Python 3 (ipykernel)",
   "language": "python",
   "name": "python3"
  },
  "language_info": {
   "codemirror_mode": {
    "name": "ipython",
    "version": 3
   },
   "file_extension": ".py",
   "mimetype": "text/x-python",
   "name": "python",
   "nbconvert_exporter": "python",
   "pygments_lexer": "ipython3",
   "version": "3.9.13"
  },
  "papermill": {
   "default_parameters": {},
   "duration": 39.330232,
   "end_time": "2022-03-05T23:37:18.820869",
   "environment_variables": {},
   "exception": null,
   "input_path": "__notebook__.ipynb",
   "output_path": "__notebook__.ipynb",
   "parameters": {},
   "start_time": "2022-03-05T23:36:39.490637",
   "version": "2.3.3"
  }
 },
 "nbformat": 4,
 "nbformat_minor": 5
}
