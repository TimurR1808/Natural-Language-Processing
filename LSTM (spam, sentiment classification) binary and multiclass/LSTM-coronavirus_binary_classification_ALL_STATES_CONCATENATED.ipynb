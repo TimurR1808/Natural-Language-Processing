{
 "cells": [
  {
   "cell_type": "code",
   "execution_count": 1,
   "id": "5d106116",
   "metadata": {
    "execution": {
     "iopub.execute_input": "2022-03-05T23:36:47.615492Z",
     "iopub.status.busy": "2022-03-05T23:36:47.614922Z",
     "iopub.status.idle": "2022-03-05T23:36:50.403735Z",
     "shell.execute_reply": "2022-03-05T23:36:50.402946Z",
     "shell.execute_reply.started": "2022-03-05T22:25:22.852671Z"
    },
    "papermill": {
     "duration": 2.811379,
     "end_time": "2022-03-05T23:36:50.403883",
     "exception": false,
     "start_time": "2022-03-05T23:36:47.592504",
     "status": "completed"
    },
    "tags": []
   },
   "outputs": [],
   "source": [
    "import torch\n",
    "import torch.nn as nn\n",
    "import torch.optim as optim\n",
    "import torch.nn.functional as F\n",
    "import itertools\n",
    "from torch.utils.data import Dataset\n",
    "from torch.utils.data import DataLoader\n",
    "from sklearn.metrics import roc_curve \n",
    "import numpy as np\n",
    "import pandas as pd\n",
    "\n",
    "import string\n",
    "from nltk.corpus import stopwords\n",
    "\n",
    "from sklearn.model_selection import train_test_split\n",
    "import tqdm"
   ]
  },
  {
   "cell_type": "markdown",
   "id": "1616f526",
   "metadata": {
    "papermill": {
     "duration": 0.014443,
     "end_time": "2022-03-05T23:36:50.432398",
     "exception": false,
     "start_time": "2022-03-05T23:36:50.417955",
     "status": "completed"
    },
    "tags": []
   },
   "source": [
    "# 1. Preprocessing"
   ]
  },
  {
   "cell_type": "code",
   "execution_count": 2,
   "id": "67fa3ea0",
   "metadata": {
    "execution": {
     "iopub.execute_input": "2022-03-05T23:36:50.467952Z",
     "iopub.status.busy": "2022-03-05T23:36:50.467242Z",
     "iopub.status.idle": "2022-03-05T23:36:50.470727Z",
     "shell.execute_reply": "2022-03-05T23:36:50.470301Z",
     "shell.execute_reply.started": "2022-03-05T22:47:33.107881Z"
    },
    "papermill": {
     "duration": 0.024814,
     "end_time": "2022-03-05T23:36:50.470836",
     "exception": false,
     "start_time": "2022-03-05T23:36:50.446022",
     "status": "completed"
    },
    "tags": []
   },
   "outputs": [],
   "source": [
    "# We define utility functions for text processing.\n",
    "\n",
    "def removePunctuation(text):\n",
    "    \"\"\"\n",
    "    Remove punctuation symbols and convert text to lowercase\n",
    "    \"\"\"\n",
    "    return text.lower().translate(str.maketrans('', '', string.punctuation))\n",
    "\n",
    "def removeStopWords(text):\n",
    "    \"\"\"\n",
    "    Filter words that are not found in stop words\n",
    "    \"\"\"\n",
    "    return \" \".join([word for word in text.split() if word not in stopwords.words(\"english\")])\n",
    "\n",
    "def buildDictionary(texts):\n",
    "    \"\"\"\n",
    "    Build the dictionary of words where key is the word and value is the index.\n",
    "    \"\"\"\n",
    "    hashmap = {}\n",
    "    for text in texts:\n",
    "        for word in text.split():\n",
    "            hashmap[word] = hashmap.get(word, 0) + 1\n",
    "    return {w:i+1 for i, w in enumerate(list(hashmap.keys()))}\n",
    "\n",
    "def calculateMaxSeqLen(texts):\n",
    "    \"\"\"\n",
    "    Calculates the maximum sequence length found in the corpus\n",
    "    \"\"\"\n",
    "    max_len = float('-inf')\n",
    "    for text in texts:\n",
    "        if len(text.split()) > max_len:\n",
    "            max_len = len(text.split())\n",
    "            \n",
    "    return max_len"
   ]
  },
  {
   "cell_type": "code",
   "execution_count": 3,
   "id": "ac89e8d0",
   "metadata": {
    "execution": {
     "iopub.execute_input": "2022-03-05T23:36:50.502816Z",
     "iopub.status.busy": "2022-03-05T23:36:50.502157Z",
     "iopub.status.idle": "2022-03-05T23:37:03.086236Z",
     "shell.execute_reply": "2022-03-05T23:37:03.085419Z"
    },
    "papermill": {
     "duration": 12.602015,
     "end_time": "2022-03-05T23:37:03.086375",
     "exception": false,
     "start_time": "2022-03-05T23:36:50.484360",
     "status": "completed"
    },
    "tags": []
   },
   "outputs": [],
   "source": [
    "# Load the *.csv* file and filter the features that are useful for the problem:\n",
    "data = pd.read_csv(\"C:/datasets/coronavirus/preprocessed_data.csv\")"
   ]
  },
  {
   "cell_type": "code",
   "execution_count": 4,
   "id": "31f239fc",
   "metadata": {
    "execution": {
     "iopub.execute_input": "2022-03-05T23:36:50.502816Z",
     "iopub.status.busy": "2022-03-05T23:36:50.502157Z",
     "iopub.status.idle": "2022-03-05T23:37:03.086236Z",
     "shell.execute_reply": "2022-03-05T23:37:03.085419Z"
    },
    "papermill": {
     "duration": 12.602015,
     "end_time": "2022-03-05T23:37:03.086375",
     "exception": false,
     "start_time": "2022-03-05T23:36:50.484360",
     "status": "completed"
    },
    "tags": []
   },
   "outputs": [],
   "source": [
    "data = pd.concat((data[data[\"Sentiment\"] == 0], data[data[\"Sentiment\"] == 4]), axis=0)"
   ]
  },
  {
   "cell_type": "code",
   "execution_count": 5,
   "id": "11f58f23",
   "metadata": {
    "execution": {
     "iopub.execute_input": "2022-03-05T23:36:50.502816Z",
     "iopub.status.busy": "2022-03-05T23:36:50.502157Z",
     "iopub.status.idle": "2022-03-05T23:37:03.086236Z",
     "shell.execute_reply": "2022-03-05T23:37:03.085419Z"
    },
    "papermill": {
     "duration": 12.602015,
     "end_time": "2022-03-05T23:37:03.086375",
     "exception": false,
     "start_time": "2022-03-05T23:36:50.484360",
     "status": "completed"
    },
    "tags": []
   },
   "outputs": [],
   "source": [
    "data[\"Sentiment\"] = data[\"Sentiment\"].replace(4, 1)"
   ]
  },
  {
   "cell_type": "code",
   "execution_count": 6,
   "id": "279fb3ef",
   "metadata": {
    "execution": {
     "iopub.execute_input": "2022-03-05T23:36:50.502816Z",
     "iopub.status.busy": "2022-03-05T23:36:50.502157Z",
     "iopub.status.idle": "2022-03-05T23:37:03.086236Z",
     "shell.execute_reply": "2022-03-05T23:37:03.085419Z"
    },
    "papermill": {
     "duration": 12.602015,
     "end_time": "2022-03-05T23:37:03.086375",
     "exception": false,
     "start_time": "2022-03-05T23:36:50.484360",
     "status": "completed"
    },
    "tags": []
   },
   "outputs": [
    {
     "data": {
      "text/plain": [
       "0    6624\n",
       "1    5481\n",
       "Name: Sentiment, dtype: int64"
      ]
     },
     "execution_count": 6,
     "metadata": {},
     "output_type": "execute_result"
    }
   ],
   "source": [
    "data[\"Sentiment\"].value_counts()"
   ]
  },
  {
   "cell_type": "code",
   "execution_count": 7,
   "id": "352fef7e",
   "metadata": {
    "execution": {
     "iopub.execute_input": "2022-03-05T23:36:50.502816Z",
     "iopub.status.busy": "2022-03-05T23:36:50.502157Z",
     "iopub.status.idle": "2022-03-05T23:37:03.086236Z",
     "shell.execute_reply": "2022-03-05T23:37:03.085419Z"
    },
    "papermill": {
     "duration": 12.602015,
     "end_time": "2022-03-05T23:37:03.086375",
     "exception": false,
     "start_time": "2022-03-05T23:36:50.484360",
     "status": "completed"
    },
    "tags": []
   },
   "outputs": [],
   "source": [
    "# Text preprocessing. Remove punctuation symbols and stop words:\n",
    "# data[\"OriginalTweet\"] = data[\"OriginalTweet\"].apply(lambda x: removePunctuation(x))\n",
    "# data[\"OriginalTweet\"] = data[\"OriginalTweet\"].apply(lambda x: removeStopWords(x))"
   ]
  },
  {
   "cell_type": "code",
   "execution_count": 8,
   "id": "17881799",
   "metadata": {
    "execution": {
     "iopub.execute_input": "2022-03-05T23:37:03.137389Z",
     "iopub.status.busy": "2022-03-05T23:37:03.127393Z",
     "iopub.status.idle": "2022-03-05T23:37:03.161258Z",
     "shell.execute_reply": "2022-03-05T23:37:03.160556Z",
     "shell.execute_reply.started": "2022-03-05T22:47:35.755764Z"
    },
    "papermill": {
     "duration": 0.060689,
     "end_time": "2022-03-05T23:37:03.161411",
     "exception": false,
     "start_time": "2022-03-05T23:37:03.100722",
     "status": "completed"
    },
    "tags": []
   },
   "outputs": [
    {
     "name": "stdout",
     "output_type": "stream",
     "text": [
      "Number of words in dictionary: 35674\n",
      "Maximum sequence lenght: 45\n"
     ]
    }
   ],
   "source": [
    "dictionary = buildDictionary(data[\"OriginalTweet\"])\n",
    "max_seq_len = calculateMaxSeqLen(data[\"OriginalTweet\"])\n",
    "\n",
    "print(f\"Number of words in dictionary: {len(dictionary)}\")\n",
    "print(f\"Maximum sequence lenght: {max_seq_len}\")"
   ]
  },
  {
   "cell_type": "code",
   "execution_count": 9,
   "id": "1ccd9997",
   "metadata": {
    "execution": {
     "iopub.execute_input": "2022-03-05T23:37:03.193272Z",
     "iopub.status.busy": "2022-03-05T23:37:03.192490Z",
     "iopub.status.idle": "2022-03-05T23:37:03.203080Z",
     "shell.execute_reply": "2022-03-05T23:37:03.202656Z",
     "shell.execute_reply.started": "2022-03-05T23:07:00.606833Z"
    },
    "papermill": {
     "duration": 0.026668,
     "end_time": "2022-03-05T23:37:03.203185",
     "exception": false,
     "start_time": "2022-03-05T23:37:03.176517",
     "status": "completed"
    },
    "tags": []
   },
   "outputs": [
    {
     "data": {
      "text/plain": [
       "0    0.547212\n",
       "1    0.452788\n",
       "Name: Sentiment, dtype: float64"
      ]
     },
     "execution_count": 9,
     "metadata": {},
     "output_type": "execute_result"
    }
   ],
   "source": [
    "data[\"Sentiment\"].value_counts() / len(data)"
   ]
  },
  {
   "cell_type": "code",
   "execution_count": 10,
   "id": "e82b0890",
   "metadata": {
    "execution": {
     "iopub.execute_input": "2022-03-05T23:37:03.193272Z",
     "iopub.status.busy": "2022-03-05T23:37:03.192490Z",
     "iopub.status.idle": "2022-03-05T23:37:03.203080Z",
     "shell.execute_reply": "2022-03-05T23:37:03.202656Z",
     "shell.execute_reply.started": "2022-03-05T23:07:00.606833Z"
    },
    "papermill": {
     "duration": 0.026668,
     "end_time": "2022-03-05T23:37:03.203185",
     "exception": false,
     "start_time": "2022-03-05T23:37:03.176517",
     "status": "completed"
    },
    "tags": []
   },
   "outputs": [
    {
     "data": {
      "text/html": [
       "<div>\n",
       "<style scoped>\n",
       "    .dataframe tbody tr th:only-of-type {\n",
       "        vertical-align: middle;\n",
       "    }\n",
       "\n",
       "    .dataframe tbody tr th {\n",
       "        vertical-align: top;\n",
       "    }\n",
       "\n",
       "    .dataframe thead th {\n",
       "        text-align: right;\n",
       "    }\n",
       "</style>\n",
       "<table border=\"1\" class=\"dataframe\">\n",
       "  <thead>\n",
       "    <tr style=\"text-align: right;\">\n",
       "      <th></th>\n",
       "      <th>OriginalTweet</th>\n",
       "      <th>Sentiment</th>\n",
       "    </tr>\n",
       "  </thead>\n",
       "  <tbody>\n",
       "    <tr>\n",
       "      <th>11</th>\n",
       "      <td>due covid19 situation increased demand food pr...</td>\n",
       "      <td>0</td>\n",
       "    </tr>\n",
       "    <tr>\n",
       "      <th>12</th>\n",
       "      <td>horningsea caring community letâs look less c...</td>\n",
       "      <td>0</td>\n",
       "    </tr>\n",
       "    <tr>\n",
       "      <th>18</th>\n",
       "      <td>amazon glitch stymies whole foods fresh grocer...</td>\n",
       "      <td>0</td>\n",
       "    </tr>\n",
       "    <tr>\n",
       "      <th>22</th>\n",
       "      <td>amazing cheap deals covid2019 going help trial...</td>\n",
       "      <td>0</td>\n",
       "    </tr>\n",
       "    <tr>\n",
       "      <th>23</th>\n",
       "      <td>amazing cheap deals covid2019 going help trial...</td>\n",
       "      <td>0</td>\n",
       "    </tr>\n",
       "    <tr>\n",
       "      <th>...</th>\n",
       "      <td>...</td>\n",
       "      <td>...</td>\n",
       "    </tr>\n",
       "    <tr>\n",
       "      <th>41115</th>\n",
       "      <td>food banks equipped 30 unemployment rate feder...</td>\n",
       "      <td>1</td>\n",
       "    </tr>\n",
       "    <tr>\n",
       "      <th>41128</th>\n",
       "      <td>covid19 pandemic global oil price wars economi...</td>\n",
       "      <td>1</td>\n",
       "    </tr>\n",
       "    <tr>\n",
       "      <th>41130</th>\n",
       "      <td>squeo works meat department kroger supermarket...</td>\n",
       "      <td>1</td>\n",
       "    </tr>\n",
       "    <tr>\n",
       "      <th>41133</th>\n",
       "      <td>singaporean politician slammed woman snapped s...</td>\n",
       "      <td>1</td>\n",
       "    </tr>\n",
       "    <tr>\n",
       "      <th>41153</th>\n",
       "      <td>response complaint provided citing covid19 rel...</td>\n",
       "      <td>1</td>\n",
       "    </tr>\n",
       "  </tbody>\n",
       "</table>\n",
       "<p>12105 rows × 2 columns</p>\n",
       "</div>"
      ],
      "text/plain": [
       "                                           OriginalTweet  Sentiment\n",
       "11     due covid19 situation increased demand food pr...          0\n",
       "12     horningsea caring community letâs look less c...          0\n",
       "18     amazon glitch stymies whole foods fresh grocer...          0\n",
       "22     amazing cheap deals covid2019 going help trial...          0\n",
       "23     amazing cheap deals covid2019 going help trial...          0\n",
       "...                                                  ...        ...\n",
       "41115  food banks equipped 30 unemployment rate feder...          1\n",
       "41128  covid19 pandemic global oil price wars economi...          1\n",
       "41130  squeo works meat department kroger supermarket...          1\n",
       "41133  singaporean politician slammed woman snapped s...          1\n",
       "41153  response complaint provided citing covid19 rel...          1\n",
       "\n",
       "[12105 rows x 2 columns]"
      ]
     },
     "execution_count": 10,
     "metadata": {},
     "output_type": "execute_result"
    }
   ],
   "source": [
    "data"
   ]
  },
  {
   "cell_type": "code",
   "execution_count": 11,
   "id": "07dcc1b5",
   "metadata": {
    "execution": {
     "iopub.execute_input": "2022-03-05T23:37:03.193272Z",
     "iopub.status.busy": "2022-03-05T23:37:03.192490Z",
     "iopub.status.idle": "2022-03-05T23:37:03.203080Z",
     "shell.execute_reply": "2022-03-05T23:37:03.202656Z",
     "shell.execute_reply.started": "2022-03-05T23:07:00.606833Z"
    },
    "papermill": {
     "duration": 0.026668,
     "end_time": "2022-03-05T23:37:03.203185",
     "exception": false,
     "start_time": "2022-03-05T23:37:03.176517",
     "status": "completed"
    },
    "tags": []
   },
   "outputs": [],
   "source": [
    "# Split data into training and testing\n",
    "x_train, x_valid, y_train, y_valid = train_test_split(data[\"OriginalTweet\"], data[\"Sentiment\"], test_size=0.3, stratify=data[\"Sentiment\"])"
   ]
  },
  {
   "cell_type": "markdown",
   "id": "938ed3fe",
   "metadata": {
    "papermill": {
     "duration": 0.013899,
     "end_time": "2022-03-05T23:37:03.231400",
     "exception": false,
     "start_time": "2022-03-05T23:37:03.217501",
     "status": "completed"
    },
    "tags": []
   },
   "source": [
    "# 2. Data loaders"
   ]
  },
  {
   "cell_type": "code",
   "execution_count": 12,
   "id": "74b7a3f5",
   "metadata": {
    "execution": {
     "iopub.execute_input": "2022-03-05T23:37:03.266298Z",
     "iopub.status.busy": "2022-03-05T23:37:03.265540Z",
     "iopub.status.idle": "2022-03-05T23:37:03.267884Z",
     "shell.execute_reply": "2022-03-05T23:37:03.267450Z",
     "shell.execute_reply.started": "2022-03-05T23:22:46.626159Z"
    },
    "papermill": {
     "duration": 0.020388,
     "end_time": "2022-03-05T23:37:03.267992",
     "exception": false,
     "start_time": "2022-03-05T23:37:03.247604",
     "status": "completed"
    },
    "tags": []
   },
   "outputs": [
    {
     "data": {
      "text/plain": [
       "0    1987\n",
       "1    1645\n",
       "Name: Sentiment, dtype: int64"
      ]
     },
     "execution_count": 12,
     "metadata": {},
     "output_type": "execute_result"
    }
   ],
   "source": [
    "y_valid.value_counts()"
   ]
  },
  {
   "cell_type": "code",
   "execution_count": 13,
   "id": "9223271f",
   "metadata": {
    "execution": {
     "iopub.execute_input": "2022-03-05T23:37:03.266298Z",
     "iopub.status.busy": "2022-03-05T23:37:03.265540Z",
     "iopub.status.idle": "2022-03-05T23:37:03.267884Z",
     "shell.execute_reply": "2022-03-05T23:37:03.267450Z",
     "shell.execute_reply.started": "2022-03-05T23:22:46.626159Z"
    },
    "papermill": {
     "duration": 0.020388,
     "end_time": "2022-03-05T23:37:03.267992",
     "exception": false,
     "start_time": "2022-03-05T23:37:03.247604",
     "status": "completed"
    },
    "tags": []
   },
   "outputs": [
    {
     "data": {
      "text/plain": [
       "0    4637\n",
       "1    3836\n",
       "Name: Sentiment, dtype: int64"
      ]
     },
     "execution_count": 13,
     "metadata": {},
     "output_type": "execute_result"
    }
   ],
   "source": [
    "y_train.value_counts()"
   ]
  },
  {
   "cell_type": "code",
   "execution_count": 14,
   "id": "a5a1483a",
   "metadata": {
    "execution": {
     "iopub.execute_input": "2022-03-05T23:37:03.266298Z",
     "iopub.status.busy": "2022-03-05T23:37:03.265540Z",
     "iopub.status.idle": "2022-03-05T23:37:03.267884Z",
     "shell.execute_reply": "2022-03-05T23:37:03.267450Z",
     "shell.execute_reply.started": "2022-03-05T23:22:46.626159Z"
    },
    "papermill": {
     "duration": 0.020388,
     "end_time": "2022-03-05T23:37:03.267992",
     "exception": false,
     "start_time": "2022-03-05T23:37:03.247604",
     "status": "completed"
    },
    "tags": []
   },
   "outputs": [],
   "source": [
    "BATCH_SIZE = 64\n",
    "LEARNING_RATE = 0.001\n",
    "DROPOUT = 0.5\n",
    "INPUT_SIZE = len(dictionary) + 1\n",
    "EPOCHS = 30"
   ]
  },
  {
   "cell_type": "code",
   "execution_count": 15,
   "id": "e68fde33",
   "metadata": {
    "execution": {
     "iopub.execute_input": "2022-03-05T23:37:03.303669Z",
     "iopub.status.busy": "2022-03-05T23:37:03.303034Z",
     "iopub.status.idle": "2022-03-05T23:37:03.305240Z",
     "shell.execute_reply": "2022-03-05T23:37:03.305601Z",
     "shell.execute_reply.started": "2022-03-05T23:08:21.742035Z"
    },
    "papermill": {
     "duration": 0.023543,
     "end_time": "2022-03-05T23:37:03.305753",
     "exception": false,
     "start_time": "2022-03-05T23:37:03.282210",
     "status": "completed"
    },
    "tags": []
   },
   "outputs": [],
   "source": [
    "class DataHandler(Dataset):\n",
    "    \"\"\"\n",
    "    Iterator generator for data loader construction\n",
    "    \"\"\"\n",
    "    \n",
    "    @staticmethod\n",
    "    def tokenizer(X, max_seq_len, dicitionary):\n",
    "        \"\"\"\n",
    "        Given a sequence of words, tokenize each word with \n",
    "        use of `dictionary` and apply padding considering `max_seq_len`\n",
    "        \"\"\"\n",
    "        sequences = []\n",
    "        for x in X:\n",
    "            sequence = [0] * max_seq_len\n",
    "            for idx, word in enumerate(x.split()):\n",
    "                sequence[idx] = dictionary[word]\n",
    "            sequences.append(sequence)\n",
    "            \n",
    "        return np.array(sequences)\n",
    "    \n",
    "    def __init__(self, x, y, max_seq_len, dictionary):\n",
    "        self.x = self.tokenizer(x, max_seq_len, dictionary)\n",
    "        self.y = y.to_numpy()\n",
    "        \n",
    "    def __len__(self):\n",
    "        return len(self.x)\n",
    "    \n",
    "    def __getitem__(self, idx):\n",
    "        return self.x[idx], self.y[idx]"
   ]
  },
  {
   "cell_type": "code",
   "execution_count": 16,
   "id": "f078953b",
   "metadata": {
    "execution": {
     "iopub.execute_input": "2022-03-05T23:37:03.383601Z",
     "iopub.status.busy": "2022-03-05T23:37:03.357714Z",
     "iopub.status.idle": "2022-03-05T23:37:03.398823Z",
     "shell.execute_reply": "2022-03-05T23:37:03.398339Z",
     "shell.execute_reply.started": "2022-03-05T23:08:32.591922Z"
    },
    "papermill": {
     "duration": 0.079154,
     "end_time": "2022-03-05T23:37:03.398945",
     "exception": false,
     "start_time": "2022-03-05T23:37:03.319791",
     "status": "completed"
    },
    "tags": []
   },
   "outputs": [],
   "source": [
    "# Initialize iterator objects for the data loader\n",
    "train = DataHandler(x_train, y_train, max_seq_len, dictionary)\n",
    "valid = DataHandler(x_valid, y_valid, max_seq_len, dictionary)"
   ]
  },
  {
   "cell_type": "code",
   "execution_count": 17,
   "id": "92af8103",
   "metadata": {
    "execution": {
     "iopub.execute_input": "2022-03-05T23:37:03.383601Z",
     "iopub.status.busy": "2022-03-05T23:37:03.357714Z",
     "iopub.status.idle": "2022-03-05T23:37:03.398823Z",
     "shell.execute_reply": "2022-03-05T23:37:03.398339Z",
     "shell.execute_reply.started": "2022-03-05T23:08:32.591922Z"
    },
    "papermill": {
     "duration": 0.079154,
     "end_time": "2022-03-05T23:37:03.398945",
     "exception": false,
     "start_time": "2022-03-05T23:37:03.319791",
     "status": "completed"
    },
    "tags": []
   },
   "outputs": [],
   "source": [
    "# Initialize data loaders\n",
    "loader_training = DataLoader(train, batch_size=BATCH_SIZE, shuffle=False)\n",
    "loader_valid = DataLoader(valid, batch_size=BATCH_SIZE, shuffle=False)"
   ]
  },
  {
   "cell_type": "code",
   "execution_count": 18,
   "id": "f5dc49c3",
   "metadata": {
    "execution": {
     "iopub.execute_input": "2022-03-05T23:37:03.383601Z",
     "iopub.status.busy": "2022-03-05T23:37:03.357714Z",
     "iopub.status.idle": "2022-03-05T23:37:03.398823Z",
     "shell.execute_reply": "2022-03-05T23:37:03.398339Z",
     "shell.execute_reply.started": "2022-03-05T23:08:32.591922Z"
    },
    "papermill": {
     "duration": 0.079154,
     "end_time": "2022-03-05T23:37:03.398945",
     "exception": false,
     "start_time": "2022-03-05T23:37:03.319791",
     "status": "completed"
    },
    "tags": []
   },
   "outputs": [],
   "source": [
    "txt1 = iter(loader_valid)"
   ]
  },
  {
   "cell_type": "code",
   "execution_count": 19,
   "id": "58f24f65",
   "metadata": {
    "execution": {
     "iopub.execute_input": "2022-03-05T23:37:03.383601Z",
     "iopub.status.busy": "2022-03-05T23:37:03.357714Z",
     "iopub.status.idle": "2022-03-05T23:37:03.398823Z",
     "shell.execute_reply": "2022-03-05T23:37:03.398339Z",
     "shell.execute_reply.started": "2022-03-05T23:08:32.591922Z"
    },
    "papermill": {
     "duration": 0.079154,
     "end_time": "2022-03-05T23:37:03.398945",
     "exception": false,
     "start_time": "2022-03-05T23:37:03.319791",
     "status": "completed"
    },
    "tags": []
   },
   "outputs": [],
   "source": [
    "x, y = next(txt1)"
   ]
  },
  {
   "cell_type": "code",
   "execution_count": 20,
   "id": "65da4d49",
   "metadata": {
    "execution": {
     "iopub.execute_input": "2022-03-05T23:37:03.383601Z",
     "iopub.status.busy": "2022-03-05T23:37:03.357714Z",
     "iopub.status.idle": "2022-03-05T23:37:03.398823Z",
     "shell.execute_reply": "2022-03-05T23:37:03.398339Z",
     "shell.execute_reply.started": "2022-03-05T23:08:32.591922Z"
    },
    "papermill": {
     "duration": 0.079154,
     "end_time": "2022-03-05T23:37:03.398945",
     "exception": false,
     "start_time": "2022-03-05T23:37:03.319791",
     "status": "completed"
    },
    "tags": []
   },
   "outputs": [
    {
     "data": {
      "text/plain": [
       "{'due': 1,\n",
       " 'covid19': 2,\n",
       " 'situation': 3,\n",
       " 'increased': 4,\n",
       " 'demand': 5,\n",
       " 'food': 6,\n",
       " 'products': 7,\n",
       " 'wait': 8,\n",
       " 'time': 9,\n",
       " 'may': 10,\n",
       " 'longer': 11,\n",
       " 'online': 12,\n",
       " 'orders': 13,\n",
       " 'particularly': 14,\n",
       " 'beef': 15,\n",
       " 'share': 16,\n",
       " 'freezer': 17,\n",
       " 'packs': 18,\n",
       " 'thank': 19,\n",
       " 'patience': 20,\n",
       " 'horningsea': 21,\n",
       " 'caring': 22,\n",
       " 'community': 23,\n",
       " 'letâ\\x92s': 24,\n",
       " 'look': 25,\n",
       " 'less': 26,\n",
       " 'capable': 27,\n",
       " 'village': 28,\n",
       " 'ensure': 29,\n",
       " 'stay': 30,\n",
       " 'healthy': 31,\n",
       " 'bringing': 32,\n",
       " 'shopping': 33,\n",
       " 'doors': 34,\n",
       " 'help': 35,\n",
       " 'self': 36,\n",
       " 'isolation': 37,\n",
       " 'symptoms': 38,\n",
       " 'exposed': 39,\n",
       " 'somebody': 40,\n",
       " 'httpstcolsgrxxhjhh': 41,\n",
       " 'amazon': 42,\n",
       " 'glitch': 43,\n",
       " 'stymies': 44,\n",
       " 'whole': 45,\n",
       " 'foods': 46,\n",
       " 'fresh': 47,\n",
       " 'grocery': 48,\n",
       " 'deliveries': 49,\n",
       " 'â\\x93as': 50,\n",
       " 'spread': 51,\n",
       " 'weâ\\x92ve': 52,\n",
       " 'seen': 53,\n",
       " 'significant': 54,\n",
       " 'increase': 55,\n",
       " 'people': 56,\n",
       " 'groceriesâ\\x94': 57,\n",
       " 'spokeswoman': 58,\n",
       " 'said': 59,\n",
       " 'statement': 60,\n",
       " 'â\\x93today': 61,\n",
       " 'resulted': 62,\n",
       " 'systems': 63,\n",
       " 'impact': 64,\n",
       " 'affecting': 65,\n",
       " 'httpstcotbzz2mc3b3': 66,\n",
       " 'amazing': 67,\n",
       " 'cheap': 68,\n",
       " 'deals': 69,\n",
       " 'covid2019': 70,\n",
       " 'going': 71,\n",
       " 'trials': 72,\n",
       " 'monthly': 73,\n",
       " 'yearly': 74,\n",
       " 'resonable': 75,\n",
       " 'prices': 76,\n",
       " 'subscriptions': 77,\n",
       " 'dm': 78,\n",
       " 'us': 79,\n",
       " 'bestiptv': 80,\n",
       " 'iptv': 81,\n",
       " 'service': 82,\n",
       " 'iptvdeals': 83,\n",
       " 'football': 84,\n",
       " 'hd': 85,\n",
       " 'movies': 86,\n",
       " 'adult': 87,\n",
       " 'cinema': 88,\n",
       " 'hotmovies': 89,\n",
       " 'iptvnew': 90,\n",
       " 'iptv2020': 91,\n",
       " 'iptvlinks': 92,\n",
       " '18movies': 93,\n",
       " 'uk': 94,\n",
       " 'consumer': 95,\n",
       " 'poll': 96,\n",
       " 'indicates': 97,\n",
       " 'majority': 98,\n",
       " 'expect': 99,\n",
       " 'covid19s': 100,\n",
       " 'last': 101,\n",
       " '412': 102,\n",
       " 'months': 103,\n",
       " '12': 104,\n",
       " 'march': 105,\n",
       " 'next': 106,\n",
       " 'tracker': 107,\n",
       " 'see': 108,\n",
       " 'full': 109,\n",
       " 'results': 110,\n",
       " 'retailx': 111,\n",
       " 'coronavirus': 112,\n",
       " 'confidence': 113,\n",
       " 'httpstcok3ujlcjqdb': 114,\n",
       " 'httpstco9g3kgqixj8': 115,\n",
       " 'hole': 116,\n",
       " 'images': 117,\n",
       " 'nicest': 118,\n",
       " 'store': 119,\n",
       " 'one': 120,\n",
       " 'richest': 121,\n",
       " 'neighborhoods': 122,\n",
       " 'united': 123,\n",
       " 'states': 124,\n",
       " 'httpstcownqsomtkvi': 125,\n",
       " 'breakingnews': 126,\n",
       " 'breaking': 127,\n",
       " 'coronavirusoutbreak': 128,\n",
       " 'collapse': 129,\n",
       " 'fun': 130,\n",
       " 'fact': 131,\n",
       " 'cough': 132,\n",
       " 'get': 133,\n",
       " 'aisle': 134,\n",
       " 'pretty': 135,\n",
       " 'quickly': 136,\n",
       " 'provide': 137,\n",
       " 'safe': 138,\n",
       " 'experience': 139,\n",
       " 'customers': 140,\n",
       " 'environment': 141,\n",
       " 'associates': 142,\n",
       " 'placed': 143,\n",
       " 'httpstcodcsxhuj3u0': 144,\n",
       " 'jlmco': 145,\n",
       " 'jlmcobrand': 146,\n",
       " 'coronapocolypse': 147,\n",
       " 'shoponline': 148,\n",
       " 'httpstcorinkwskers': 149,\n",
       " 'please': 150,\n",
       " 'know': 151,\n",
       " 'someone': 152,\n",
       " '65': 153,\n",
       " 'living': 154,\n",
       " 'struggling': 155,\n",
       " '2': 156,\n",
       " 'local': 157,\n",
       " 'supermarket': 158,\n",
       " 'issues': 159,\n",
       " 'around': 160,\n",
       " '19': 161,\n",
       " 'offering': 162,\n",
       " 'free': 163,\n",
       " 'soups': 164,\n",
       " 'nationwide': 165,\n",
       " 'anyone': 166,\n",
       " 'need': 167,\n",
       " 'plus': 168,\n",
       " 'freezable': 169,\n",
       " 'never': 170,\n",
       " 'thought': 171,\n",
       " 'id': 172,\n",
       " 'say': 173,\n",
       " '2019': 174,\n",
       " 'come': 175,\n",
       " 'back': 176,\n",
       " 'peoplearelosingtheirminds': 177,\n",
       " 'stopthemadness': 178,\n",
       " 'stoppanicbuying': 179,\n",
       " 'morning': 180,\n",
       " 'everyone': 181,\n",
       " 'great': 182,\n",
       " 'day': 183,\n",
       " 'bekind': 184,\n",
       " 'mufc': 185,\n",
       " 'mufcfamily': 186,\n",
       " 'outbreak': 187,\n",
       " 'entire': 188,\n",
       " 'world': 189,\n",
       " 'retail': 190,\n",
       " 'shops': 191,\n",
       " 'malaysia': 192,\n",
       " 'facing': 193,\n",
       " 'challenges': 194,\n",
       " 'near': 195,\n",
       " 'future': 196,\n",
       " 'surprise': 197,\n",
       " 'way': 198,\n",
       " 'many': 199,\n",
       " 'lost': 200,\n",
       " 'jobs': 201,\n",
       " 'malaysia2020': 202,\n",
       " 'feeling': 203,\n",
       " 'like': 204,\n",
       " 'ethical': 205,\n",
       " 'still': 206,\n",
       " 'stuff': 207,\n",
       " 'order': 208,\n",
       " 'etc': 209,\n",
       " 'ship': 210,\n",
       " 'care': 211,\n",
       " 'packages': 212,\n",
       " 'loved': 213,\n",
       " 'ones': 214,\n",
       " 'wages': 215,\n",
       " 'either': 216,\n",
       " 'illness': 217,\n",
       " 'virus': 218,\n",
       " 'economic': 219,\n",
       " 'mean': 220,\n",
       " 'urge': 221,\n",
       " 'support': 222,\n",
       " 'bill': 223,\n",
       " 'includes': 224,\n",
       " 'banks': 225,\n",
       " 'flexibility': 226,\n",
       " 'school': 227,\n",
       " 'meals': 228,\n",
       " 'canned': 229,\n",
       " 'toxic': 230,\n",
       " 'chemicals': 231,\n",
       " 'bought': 232,\n",
       " 'hand': 233,\n",
       " 'sanitizers': 234,\n",
       " 'stock': 235,\n",
       " 'yet': 236,\n",
       " 'fruit': 237,\n",
       " 'vegetables': 238,\n",
       " 'herbs': 239,\n",
       " 'fully': 240,\n",
       " 'stocked': 241,\n",
       " 'shows': 242,\n",
       " 'humans': 243,\n",
       " 'idea': 244,\n",
       " 'immune': 245,\n",
       " 'system': 246,\n",
       " 'works': 247,\n",
       " 'quarantinelife': 248,\n",
       " 'called': 249,\n",
       " 'mum': 250,\n",
       " 'dad': 251,\n",
       " '70': 252,\n",
       " 'offered': 253,\n",
       " 'might': 254,\n",
       " 'sometimes': 255,\n",
       " 'forget': 256,\n",
       " 'always': 257,\n",
       " 'easy': 258,\n",
       " 'far': 259,\n",
       " 'parents': 260,\n",
       " 'tech': 261,\n",
       " 'really': 262,\n",
       " 'useful': 263,\n",
       " 'sure': 264,\n",
       " 'within': 265,\n",
       " 'week': 266,\n",
       " 'two': 267,\n",
       " 'supply': 268,\n",
       " 'chains': 269,\n",
       " 'dry': 270,\n",
       " 'counties': 271,\n",
       " 'effected': 272,\n",
       " 'possibly': 273,\n",
       " 'go': 274,\n",
       " 'lockdown': 275,\n",
       " 'would': 276,\n",
       " 'government': 277,\n",
       " 'introduce': 278,\n",
       " 'form': 279,\n",
       " 'rationing': 280,\n",
       " 'eat': 281,\n",
       " 'somehow': 282,\n",
       " 'dont': 283,\n",
       " 'think': 284,\n",
       " 'worried': 285,\n",
       " 'panicking': 286,\n",
       " 'plan': 287,\n",
       " 'gt': 288,\n",
       " 'youre': 289,\n",
       " 'panic': 290,\n",
       " 'buying': 291,\n",
       " 'focus': 292,\n",
       " 'important': 293,\n",
       " 'best': 294,\n",
       " 'opportunity': 295,\n",
       " 'positive': 296,\n",
       " 'outcome': 297,\n",
       " 'create': 298,\n",
       " 'structure': 299,\n",
       " 'reduce': 300,\n",
       " 'key': 301,\n",
       " 'decisions': 302,\n",
       " 'flourish': 303,\n",
       " 'employees': 304,\n",
       " 'working': 305,\n",
       " 'hard': 306,\n",
       " 'making': 307,\n",
       " 'getting': 308,\n",
       " 'kind': 309,\n",
       " 'itâ\\x92s': 310,\n",
       " 'fault': 311,\n",
       " 'short': 312,\n",
       " 'supplies': 313,\n",
       " 'corona': 314,\n",
       " 'â': 315,\n",
       " 'httpstcoqc0unevqej': 316,\n",
       " 'end': 317,\n",
       " 'bootsuk': 318,\n",
       " 'surgical': 319,\n",
       " 'spirit': 320,\n",
       " 'wont': 321,\n",
       " 'receiving': 322,\n",
       " 'supposed': 323,\n",
       " 'disinfect': 324,\n",
       " 'hands': 325,\n",
       " 'httpstcoiqipuz50sc': 326,\n",
       " 'love': 327,\n",
       " 'stores': 328,\n",
       " 'set': 329,\n",
       " 'hour': 330,\n",
       " 'preferably': 331,\n",
       " 'elderly': 332,\n",
       " 'population': 333,\n",
       " 'compromised': 334,\n",
       " 'use': 335,\n",
       " 'thatâ\\x92s': 336,\n",
       " 'good': 337,\n",
       " 'clear': 338,\n",
       " 'thinking': 339,\n",
       " 'brianschatz': 340,\n",
       " 'maziehirono': 341,\n",
       " 'nygovcuomo': 342,\n",
       " 'govinslee': 343,\n",
       " 'httpstcotmqh0csein': 344,\n",
       " 'currently': 345,\n",
       " 'isolating': 346,\n",
       " 'iâ\\x92m': 347,\n",
       " 'symptomatic': 348,\n",
       " 'neighbour': 349,\n",
       " 'friend': 350,\n",
       " 'iâ\\x92ve': 351,\n",
       " 'done': 352,\n",
       " 'agreed': 353,\n",
       " 'phone': 354,\n",
       " 'calling': 355,\n",
       " 'daily': 356,\n",
       " 'even': 357,\n",
       " 'attempt': 358,\n",
       " 'skype': 359,\n",
       " 'video': 360,\n",
       " 'call': 361,\n",
       " 'unitedagainstdementia': 362,\n",
       " 'alzheimerssoc': 363,\n",
       " 'fyi': 364,\n",
       " 'chinese': 365,\n",
       " 'notice': 366,\n",
       " 'nasty': 367,\n",
       " 'mentions': 368,\n",
       " 'supporting': 369,\n",
       " 'industries': 370,\n",
       " 'market': 371,\n",
       " 'trump': 372,\n",
       " 'trying': 373,\n",
       " 'cut': 374,\n",
       " 'medicare': 375,\n",
       " 'amp': 376,\n",
       " 'social': 377,\n",
       " 'security': 378,\n",
       " 'benefits': 379,\n",
       " 'stamps': 380,\n",
       " 'remove': 381,\n",
       " 'pre': 382,\n",
       " 'existing': 383,\n",
       " 'conditions': 384,\n",
       " 'coverage': 385,\n",
       " 'aca': 386,\n",
       " 'happy': 387,\n",
       " 'n': 388,\n",
       " 'friends': 389,\n",
       " 'uneasy': 390,\n",
       " 'thats': 391,\n",
       " 'lets': 392,\n",
       " 'small': 393,\n",
       " 'business': 394,\n",
       " 'whether': 395,\n",
       " 'youâ\\x92re': 396,\n",
       " 'orderingâ': 397,\n",
       " 'httpstcoaibxmekdro': 398,\n",
       " 'spark': 399,\n",
       " 'manila': 400,\n",
       " 'centre': 401,\n",
       " 'closing': 402,\n",
       " 'prevent': 403,\n",
       " 'covid': 404,\n",
       " 'calls': 405,\n",
       " 'routed': 406,\n",
       " 'nz': 407,\n",
       " 'based': 408,\n",
       " 'deskers': 409,\n",
       " 'instead': 410,\n",
       " 'asking': 411,\n",
       " 'myspark': 412,\n",
       " 'app': 413,\n",
       " 'visit': 414,\n",
       " 'feel': 415,\n",
       " 'lottery': 416,\n",
       " 'much': 417,\n",
       " 'worth': 418,\n",
       " 'stockmarket': 419,\n",
       " 'toiletpaper': 420,\n",
       " 'arizona': 421,\n",
       " 'foxnews': 422,\n",
       " 'fox10phoenix': 423,\n",
       " 'httpstcopljct49ik7': 424,\n",
       " 'first': 425,\n",
       " 'make': 426,\n",
       " 'effort': 427,\n",
       " 'could': 428,\n",
       " 'win': 429,\n",
       " 'pr': 430,\n",
       " 'game': 431,\n",
       " 'real': 432,\n",
       " 'difference': 433,\n",
       " 'httpstco6tqo57lt0q': 434,\n",
       " 'northgateglzmrk': 435,\n",
       " 'taking': 436,\n",
       " 'abuelosas': 437,\n",
       " 'httpstconwmxyoomhf': 438,\n",
       " 'person': 439,\n",
       " 'doesnâ\\x92t': 440,\n",
       " 'capability': 441,\n",
       " 'encourage': 442,\n",
       " 'relative': 443,\n",
       " 'acquaintance': 444,\n",
       " 'city': 445,\n",
       " 'state': 446,\n",
       " 'country': 447,\n",
       " 'alternate': 448,\n",
       " 'pick': 449,\n",
       " 'ive': 450,\n",
       " 'bs': 451,\n",
       " 'pop': 452,\n",
       " 'facebook': 453,\n",
       " 'various': 454,\n",
       " 'groups': 455,\n",
       " 'cannot': 456,\n",
       " 'toll': 457,\n",
       " 'number': 458,\n",
       " 'infant': 459,\n",
       " 'formula': 460,\n",
       " 'tell': 461,\n",
       " 'find': 462,\n",
       " 'theyll': 463,\n",
       " 'send': 464,\n",
       " 'case': 465,\n",
       " 'hoax': 466,\n",
       " 'httpstco2cyxheacez': 467,\n",
       " 'httpstcor9skybyiht': 468,\n",
       " 'businesses': 469,\n",
       " 'chicagos': 470,\n",
       " 'department': 471,\n",
       " 'affairs': 472,\n",
       " 'protection': 473,\n",
       " 'bacp': 474,\n",
       " 'soliciting': 475,\n",
       " 'feedback': 476,\n",
       " 'develop': 477,\n",
       " 'resources': 478,\n",
       " 'measures': 479,\n",
       " 'impacted': 480,\n",
       " 'fill': 481,\n",
       " 'survey': 482,\n",
       " 'asap': 483,\n",
       " 'taken': 484,\n",
       " 'henk': 485,\n",
       " 'zwoferink': 486,\n",
       " 'saturday': 487,\n",
       " 'wã¶rgl': 488,\n",
       " 'black': 489,\n",
       " 'beauty': 490,\n",
       " 'hauled': 491,\n",
       " 'train': 492,\n",
       " 'tourists': 493,\n",
       " 'home': 494,\n",
       " 'colleagues': 495,\n",
       " 'workinghard': 496,\n",
       " 'keep': 497,\n",
       " 'running': 498,\n",
       " 'respecting': 499,\n",
       " 'everyones': 500,\n",
       " 'safety': 501,\n",
       " 'pleasure': 502,\n",
       " 'work': 503,\n",
       " 'dedicatedpeople': 504,\n",
       " 'httpstcoeoxt7q43zb': 505,\n",
       " 'corrections': 506,\n",
       " 'currency': 507,\n",
       " 'rate': 508,\n",
       " 'oil': 509,\n",
       " 'interest': 510,\n",
       " 'changes': 511,\n",
       " 'fluctuations': 512,\n",
       " 'coronavirusindia': 513,\n",
       " 'lifestyle': 514,\n",
       " 'correction': 515,\n",
       " 'wisdom': 516,\n",
       " 'collectiveness': 517,\n",
       " 'respect': 518,\n",
       " 'nature': 519,\n",
       " 'reciprocate': 520,\n",
       " 'joining': 521,\n",
       " 'uaes': 522,\n",
       " 'efforts': 523,\n",
       " 'contain': 524,\n",
       " 'considering': 525,\n",
       " 'wellbeing': 526,\n",
       " 'mall': 527,\n",
       " 'visitors': 528,\n",
       " 'gym': 529,\n",
       " 'play': 530,\n",
       " 'areas': 531,\n",
       " 'amusement': 532,\n",
       " 'centres': 533,\n",
       " 'closed': 534,\n",
       " 'lulu': 535,\n",
       " 'hypermarket': 536,\n",
       " 'operating': 537,\n",
       " 'routine': 538,\n",
       " 'httpstcosvotbu6znu': 539,\n",
       " 'gtmassgovernor': 540,\n",
       " 'announces': 541,\n",
       " '10m': 542,\n",
       " 'loan': 543,\n",
       " 'fund': 544,\n",
       " 'administered': 545,\n",
       " 'massgcc': 546,\n",
       " 'financial': 547,\n",
       " 'relief': 548,\n",
       " '75k': 549,\n",
       " 'mabased': 550,\n",
       " 'including': 551,\n",
       " 'nonprofits': 552,\n",
       " 'lt50': 553,\n",
       " 'parttime': 554,\n",
       " 'mabiz': 555,\n",
       " 'release': 556,\n",
       " 'httpstconxrdh25i8r': 557,\n",
       " 'apply': 558,\n",
       " 'httpstcow2vjdowrcg': 559,\n",
       " 'httpstcosp6straxlq': 560,\n",
       " 'fear': 561,\n",
       " 'mind': 562,\n",
       " 'killer': 563,\n",
       " 'pres': 564,\n",
       " 'private': 565,\n",
       " 'sector': 566,\n",
       " 'access': 567,\n",
       " 'turn': 568,\n",
       " 'cnn': 569,\n",
       " 'resist': 570,\n",
       " 'herd': 571,\n",
       " 'mentality': 572,\n",
       " 'coronaviruspandemic': 573,\n",
       " 'heath': 574,\n",
       " 'httpstco1hw3xzvks5': 575,\n",
       " 'delivery': 576,\n",
       " 'fee': 577,\n",
       " 'seniors': 578,\n",
       " 'ordering': 579,\n",
       " 'onlinegtgtgtgtgtgt': 580,\n",
       " 'la': 581,\n",
       " 'habra': 582,\n",
       " 'offers': 583,\n",
       " 'special': 584,\n",
       " 'hours': 585,\n",
       " 'shoppers': 586,\n",
       " 'older': 587,\n",
       " 'amid': 588,\n",
       " 'crisis': 589,\n",
       " 'httpstco4wqe7vzr3m': 590,\n",
       " 'whats': 591,\n",
       " 'medical': 592,\n",
       " 'hospital': 593,\n",
       " 'staff': 594,\n",
       " 'normally': 595,\n",
       " 'something': 596,\n",
       " 'along': 597,\n",
       " 'lines': 598,\n",
       " 'pizza': 599,\n",
       " 'doesnt': 600,\n",
       " 'seem': 601,\n",
       " 'read': 602,\n",
       " 'participating': 603,\n",
       " 'runs': 604,\n",
       " 'era': 605,\n",
       " 'lean': 606,\n",
       " 'difficult': 607,\n",
       " 'accommodate': 608,\n",
       " 'huge': 609,\n",
       " 'discrete': 610,\n",
       " 'surges': 611,\n",
       " 'chain': 612,\n",
       " 'strong': 613,\n",
       " 'via': 614,\n",
       " 'nytimes': 615,\n",
       " 'httpstco6tt8tql1sd': 616,\n",
       " 'learn': 617,\n",
       " 'consumers': 618,\n",
       " 'drink': 619,\n",
       " 'health': 620,\n",
       " 'wellness': 621,\n",
       " 'reacting': 622,\n",
       " 'pandemic': 623,\n",
       " 'httpstco0cscqx1nz5': 624,\n",
       " 'marketresearch': 625,\n",
       " 'consumerinsights': 626,\n",
       " 'mountain': 627,\n",
       " 'america': 628,\n",
       " 'members': 629,\n",
       " 'youve': 630,\n",
       " 'financially': 631,\n",
       " 'mountainamericacu': 632,\n",
       " 'options': 633,\n",
       " 'unique': 634,\n",
       " 'httpstcozxghde3rtx': 635,\n",
       " 'httpstcovbbedg864u': 636,\n",
       " 'mpe': 637,\n",
       " 'prepared': 638,\n",
       " 'continue': 639,\n",
       " 'providing': 640,\n",
       " 'reliable': 641,\n",
       " 'electric': 642,\n",
       " 'adopts': 643,\n",
       " 'employee': 644,\n",
       " 'httpstcoexnype4gex': 645,\n",
       " 'httpstcognjqugg05t': 646,\n",
       " 'long': 647,\n",
       " 'dream': 648,\n",
       " 'reid': 649,\n",
       " 'distillery': 650,\n",
       " 'overstate': 651,\n",
       " 'ways': 652,\n",
       " 'enjoy': 653,\n",
       " 'gin': 654,\n",
       " 'open': 655,\n",
       " 'everyday': 656,\n",
       " '11am': 657,\n",
       " '11pm': 658,\n",
       " 'httpstcoupjxfogqs8': 659,\n",
       " 'gaisss': 660,\n",
       " 'thisand': 661,\n",
       " 'limit': 662,\n",
       " 'outside': 663,\n",
       " 'pleasepleasealways': 664,\n",
       " 'wash': 665,\n",
       " 'handsalways': 666,\n",
       " 'sanitizer': 667,\n",
       " 'ready': 668,\n",
       " 'stopthespread': 669,\n",
       " 'research': 670,\n",
       " 'shown': 671,\n",
       " 'faster': 672,\n",
       " 'authorities': 673,\n",
       " 'moved': 674,\n",
       " 'implement': 675,\n",
       " 'kinds': 676,\n",
       " 'socialdistancing': 677,\n",
       " 'designed': 678,\n",
       " 'slow': 679,\n",
       " 'transmission': 680,\n",
       " 'disease': 681,\n",
       " 'lives': 682,\n",
       " 'saved': 683,\n",
       " 'npr': 684,\n",
       " 'httpstco0qcnwnswgm': 685,\n",
       " 'amazes': 686,\n",
       " 'mei': 687,\n",
       " 'everything': 688,\n",
       " 'gone': 689,\n",
       " 'single': 690,\n",
       " 'wearing': 691,\n",
       " 'facemask': 692,\n",
       " '200': 693,\n",
       " 'rolls': 694,\n",
       " 'toilet': 695,\n",
       " 'paper': 696,\n",
       " 'catching': 697,\n",
       " 'take': 698,\n",
       " 'proper': 699,\n",
       " 'precautions': 700,\n",
       " 'httpstcolnof0xfsx4': 701,\n",
       " 'reading': 702,\n",
       " 'hopefully': 703,\n",
       " 'nothing': 704,\n",
       " 'else': 705,\n",
       " 'public': 706,\n",
       " 'wish': 707,\n",
       " 'consider': 708,\n",
       " 'locally': 709,\n",
       " 'course': 710,\n",
       " 'survive': 711,\n",
       " 'httpstcocn9o6qkzfo': 712,\n",
       " 'loving': 713,\n",
       " 'quiet': 714,\n",
       " 'tube': 715,\n",
       " 'atm': 716,\n",
       " 'terrible': 717,\n",
       " 'yes': 718,\n",
       " 'fantastic': 719,\n",
       " 'level': 720,\n",
       " 'utility': 721,\n",
       " 'â£250': 722,\n",
       " 'ticket': 723,\n",
       " 'welfare': 724,\n",
       " 'odisha': 725,\n",
       " 'effective': 726,\n",
       " 'steps': 727,\n",
       " 'marketing': 728,\n",
       " 'hoarding': 729,\n",
       " 'protective': 730,\n",
       " 'masks': 731,\n",
       " 'odishanews': 732,\n",
       " 'ommcomnews': 733,\n",
       " 'httpstcovbiqm3zp1q': 734,\n",
       " 'lvmh': 735,\n",
       " 'converting': 736,\n",
       " 'perfume': 737,\n",
       " 'factories': 738,\n",
       " 'leaders': 739,\n",
       " 'ikeas': 740,\n",
       " 'ecommerce': 741,\n",
       " 'strategy': 742,\n",
       " 'americas': 743,\n",
       " 'retailers': 744,\n",
       " 'start': 745,\n",
       " 'crowd': 746,\n",
       " 'control': 747,\n",
       " 'ulta': 748,\n",
       " 'stops': 749,\n",
       " 'services': 750,\n",
       " 'dtc': 751,\n",
       " 'coronapocalypse': 752,\n",
       " 'httpstcorafj2l2ceq': 753,\n",
       " 'httpstcowfrpxc3qfi': 754,\n",
       " 'stockup': 755,\n",
       " 'compassion': 756,\n",
       " 'tissue': 757,\n",
       " 'papers': 758,\n",
       " 'coronaoutbreak': 759,\n",
       " 'falsepanic': 760,\n",
       " 'worldshutdown': 761,\n",
       " 'well': 762,\n",
       " 'movement': 763,\n",
       " 'download': 764,\n",
       " 'applications': 765,\n",
       " 'smartphones': 766,\n",
       " 'easier': 767,\n",
       " 'recover': 768,\n",
       " 'timefind': 769,\n",
       " 'restaurant': 770,\n",
       " 'deliver': 771,\n",
       " 'wake': 772,\n",
       " 'agencies': 773,\n",
       " 'secure': 774,\n",
       " 'allotments': 775,\n",
       " 'cattle': 776,\n",
       " 'sheep': 777,\n",
       " 'plates': 778,\n",
       " 'additional': 779,\n",
       " 'details': 780,\n",
       " 'shared': 781,\n",
       " 'become': 782,\n",
       " 'available': 783,\n",
       " 'reach': 784,\n",
       " 'questions': 785,\n",
       " 'concerns': 786,\n",
       " 'texas': 787,\n",
       " 'hotline': 788,\n",
       " '682': 789,\n",
       " '2367601': 790,\n",
       " 'spoken': 791,\n",
       " 'registered': 792,\n",
       " 'nurse': 793,\n",
       " 'able': 794,\n",
       " 'answer': 795,\n",
       " 'resource': 796,\n",
       " 'prevention': 797,\n",
       " 'better': 798,\n",
       " 'cure': 799,\n",
       " 'beat': 800,\n",
       " '1wash': 801,\n",
       " 'frequently': 802,\n",
       " 'soap': 803,\n",
       " '2wear': 804,\n",
       " 'clean': 805,\n",
       " 'cloth': 806,\n",
       " 'cover': 807,\n",
       " 'mouth': 808,\n",
       " 'crowded': 809,\n",
       " 'place': 810,\n",
       " '3try': 811,\n",
       " 'meter': 812,\n",
       " 'distance': 813,\n",
       " 'strangers': 814,\n",
       " '4': 815,\n",
       " 'homemade': 816,\n",
       " 'possible': 817,\n",
       " 'httpstcoqiggycpxz6': 818,\n",
       " 'right': 819,\n",
       " 'companies': 820,\n",
       " 'started': 821,\n",
       " 'sales': 822,\n",
       " '50': 823,\n",
       " 'website': 824,\n",
       " 'type': 825,\n",
       " 'lol': 826,\n",
       " 'remain': 827,\n",
       " 'communities': 828,\n",
       " 'spending': 829,\n",
       " 'patterns': 830,\n",
       " 'corporate': 831,\n",
       " 'heres': 832,\n",
       " 'regions': 833,\n",
       " 'asset': 834,\n",
       " 'managements': 835,\n",
       " 'perspective': 836,\n",
       " 'markets': 837,\n",
       " 'react': 838,\n",
       " 'httpstcoswf2zg7zaq': 839,\n",
       " 'httpstcozm5gjzxezc': 840,\n",
       " 'mintelnews': 841,\n",
       " 'newzealand': 842,\n",
       " 'exports': 843,\n",
       " 'canada': 844,\n",
       " 'surging': 845,\n",
       " 'previously': 846,\n",
       " 'china': 847,\n",
       " 'rerouted': 848,\n",
       " 'month': 849,\n",
       " '48': 850,\n",
       " 'httpstcorychqmimus': 851,\n",
       " 'thanks': 852,\n",
       " 'cptpp': 853,\n",
       " 'arbitrage': 854,\n",
       " 'new': 855,\n",
       " 'zealand': 856,\n",
       " 'packers': 857,\n",
       " 'profitable': 858,\n",
       " 'father': 859,\n",
       " 'put': 860,\n",
       " 'restriction': 861,\n",
       " 'bank': 862,\n",
       " 'gas': 863,\n",
       " 'station': 864,\n",
       " 'hang': 865,\n",
       " 'del': 866,\n",
       " 'taco': 867,\n",
       " 'pass': 868,\n",
       " 'diligent': 869,\n",
       " 'appreciative': 870,\n",
       " 'httpstcozpaaxeij1k': 871,\n",
       " 'sanitized': 872,\n",
       " 'minimise': 873,\n",
       " 'chances': 874,\n",
       " 'contracting': 875,\n",
       " 'deadly': 876,\n",
       " 'enough': 877,\n",
       " 'large': 878,\n",
       " 'portable': 879,\n",
       " 'face': 880,\n",
       " 'httpstcowdkjbyijfs': 881,\n",
       " 'doorstep': 882,\n",
       " '1hr': 883,\n",
       " 'kampala': 884,\n",
       " 'httpstcoo8hgrxtgcg': 885,\n",
       " 'thoughts': 886,\n",
       " 'raw': 887,\n",
       " 'prognosis': 888,\n",
       " 'according': 889,\n",
       " '1': 890,\n",
       " 'sitting': 891,\n",
       " 'internet': 892,\n",
       " 'traffic': 893,\n",
       " 'growing': 894,\n",
       " 'earn': 895,\n",
       " 'lot': 896,\n",
       " '3': 897,\n",
       " 'raise': 898,\n",
       " 'tools': 899,\n",
       " 'powerup': 900,\n",
       " 'remote': 901,\n",
       " 'workflow': 902,\n",
       " 'bitcoin': 903,\n",
       " 'falling': 904,\n",
       " 'technology': 905,\n",
       " 'survived': 906,\n",
       " 'supremecourt': 907,\n",
       " 'today': 908,\n",
       " 'atleast': 909,\n",
       " 'carry': 910,\n",
       " 'mask': 911,\n",
       " 'chant': 912,\n",
       " 'httpstcoa1lvklhuky': 913,\n",
       " 'shopkeepers': 914,\n",
       " 'selling': 915,\n",
       " 'highly': 916,\n",
       " 'rs': 917,\n",
       " '100': 918,\n",
       " 'actual': 919,\n",
       " 'cost': 920,\n",
       " '5': 921,\n",
       " '10': 922,\n",
       " 'kindly': 923,\n",
       " 'variety': 924,\n",
       " 'earth': 925,\n",
       " 'request': 926,\n",
       " 'cmopb': 927,\n",
       " 'punjab': 928,\n",
       " 'coronavirusoutbreaks': 929,\n",
       " 'practice': 930,\n",
       " 'distancing': 931,\n",
       " 'occupation': 932,\n",
       " 'allow': 933,\n",
       " 'monitor': 934,\n",
       " 'area': 935,\n",
       " 'required': 936,\n",
       " 'assist': 937,\n",
       " 'needed': 938,\n",
       " 'greatest': 939,\n",
       " 'unknowingly': 940,\n",
       " 'restaurants': 941,\n",
       " 'coffee': 942,\n",
       " 'entertainment': 943,\n",
       " 'venues': 944,\n",
       " 'optometrists': 945,\n",
       " 'bodegas': 946,\n",
       " 'non': 947,\n",
       " 'profits': 948,\n",
       " 'field': 949,\n",
       " 'veterinarian': 950,\n",
       " 'offices': 951,\n",
       " 'dentists': 952,\n",
       " 'mailing': 953,\n",
       " 'centers': 954,\n",
       " 'ups': 955,\n",
       " 'dinner': 956,\n",
       " 'till': 957,\n",
       " 'kid': 958,\n",
       " 'friendly': 959,\n",
       " 'picky': 960,\n",
       " 'eater': 961,\n",
       " 'approved': 962,\n",
       " 'mealplan': 963,\n",
       " 'mealprep': 964,\n",
       " 'howtokeeppeoplehome': 965,\n",
       " 'schoolclosure': 966,\n",
       " 'httpstcopl7s0gonuy': 967,\n",
       " 'changing': 968,\n",
       " 'purchase': 969,\n",
       " 'habits': 970,\n",
       " 'rapidly': 971,\n",
       " 'globally': 972,\n",
       " 'news': 973,\n",
       " 'actions': 974,\n",
       " 'transitions': 975,\n",
       " 'pantry': 976,\n",
       " 'prep': 977,\n",
       " 'quarantine': 978,\n",
       " 'supplychainmanagement': 979,\n",
       " 'httpstcofphpnlpjye': 980,\n",
       " 'smart': 981,\n",
       " 'device': 982,\n",
       " 'kuwait': 983,\n",
       " 'tons': 984,\n",
       " 'sites': 985,\n",
       " 'needs': 986,\n",
       " 'finger': 987,\n",
       " 'tips': 988,\n",
       " 'trust': 989,\n",
       " 'follow': 990,\n",
       " 'law': 991,\n",
       " 'thankingkuwaitcorona': 992,\n",
       " 'part': 993,\n",
       " 'slowing': 994,\n",
       " 'result': 995,\n",
       " '401': 996,\n",
       " 'richmond': 997,\n",
       " 'shop': 998,\n",
       " 'httpstcod5x7rxw0cs': 999,\n",
       " 'staythefuckhome': 1000,\n",
       " ...}"
      ]
     },
     "execution_count": 20,
     "metadata": {},
     "output_type": "execute_result"
    }
   ],
   "source": [
    "dictionary"
   ]
  },
  {
   "cell_type": "code",
   "execution_count": 21,
   "id": "c50a721f",
   "metadata": {
    "execution": {
     "iopub.execute_input": "2022-03-05T23:37:03.383601Z",
     "iopub.status.busy": "2022-03-05T23:37:03.357714Z",
     "iopub.status.idle": "2022-03-05T23:37:03.398823Z",
     "shell.execute_reply": "2022-03-05T23:37:03.398339Z",
     "shell.execute_reply.started": "2022-03-05T23:08:32.591922Z"
    },
    "papermill": {
     "duration": 0.079154,
     "end_time": "2022-03-05T23:37:03.398945",
     "exception": false,
     "start_time": "2022-03-05T23:37:03.319791",
     "status": "completed"
    },
    "tags": []
   },
   "outputs": [
    {
     "data": {
      "text/plain": [
       "['coronavirus',\n",
       " 'got',\n",
       " 'old',\n",
       " 'ladies',\n",
       " 'grocery',\n",
       " 'store',\n",
       " 'elbowing',\n",
       " 'whatâ\\x92s',\n",
       " 'instead',\n",
       " 'hug',\n",
       " 'hand',\n",
       " 'shake',\n",
       " 'say',\n",
       " 'hi',\n",
       " 'funny',\n",
       " 'thing',\n",
       " 'still',\n",
       " 'touching',\n",
       " 'person',\n",
       " 'lol']"
      ]
     },
     "execution_count": 21,
     "metadata": {},
     "output_type": "execute_result"
    }
   ],
   "source": [
    "x_valid.reset_index()[\"OriginalTweet\"].loc[0].split() "
   ]
  },
  {
   "cell_type": "code",
   "execution_count": 22,
   "id": "fa0c5b54",
   "metadata": {
    "execution": {
     "iopub.execute_input": "2022-03-05T23:37:03.383601Z",
     "iopub.status.busy": "2022-03-05T23:37:03.357714Z",
     "iopub.status.idle": "2022-03-05T23:37:03.398823Z",
     "shell.execute_reply": "2022-03-05T23:37:03.398339Z",
     "shell.execute_reply.started": "2022-03-05T23:08:32.591922Z"
    },
    "papermill": {
     "duration": 0.079154,
     "end_time": "2022-03-05T23:37:03.398945",
     "exception": false,
     "start_time": "2022-03-05T23:37:03.319791",
     "status": "completed"
    },
    "tags": []
   },
   "outputs": [
    {
     "name": "stdout",
     "output_type": "stream",
     "text": [
      "112\n",
      "3081\n",
      "2921\n",
      "2648\n",
      "48\n",
      "119\n",
      "4603\n",
      "1734\n",
      "410\n",
      "2987\n",
      "233\n",
      "4604\n",
      "173\n",
      "2496\n",
      "2372\n",
      "1020\n",
      "206\n",
      "2933\n",
      "439\n",
      "826\n"
     ]
    }
   ],
   "source": [
    "for word in x_valid.reset_index()[\"OriginalTweet\"].loc[0].split() :\n",
    "    print(dictionary[word])"
   ]
  },
  {
   "cell_type": "code",
   "execution_count": 23,
   "id": "753eb913",
   "metadata": {
    "execution": {
     "iopub.execute_input": "2022-03-05T23:37:03.383601Z",
     "iopub.status.busy": "2022-03-05T23:37:03.357714Z",
     "iopub.status.idle": "2022-03-05T23:37:03.398823Z",
     "shell.execute_reply": "2022-03-05T23:37:03.398339Z",
     "shell.execute_reply.started": "2022-03-05T23:08:32.591922Z"
    },
    "papermill": {
     "duration": 0.079154,
     "end_time": "2022-03-05T23:37:03.398945",
     "exception": false,
     "start_time": "2022-03-05T23:37:03.319791",
     "status": "completed"
    },
    "tags": []
   },
   "outputs": [
    {
     "data": {
      "text/plain": [
       "tensor([ 112, 3081, 2921, 2648,   48,  119, 4603, 1734,  410, 2987,  233, 4604,\n",
       "         173, 2496, 2372, 1020,  206, 2933,  439,  826,    0,    0,    0,    0,\n",
       "           0,    0,    0,    0,    0,    0,    0,    0,    0,    0,    0,    0,\n",
       "           0,    0,    0,    0,    0,    0,    0,    0,    0],\n",
       "       dtype=torch.int32)"
      ]
     },
     "execution_count": 23,
     "metadata": {},
     "output_type": "execute_result"
    }
   ],
   "source": [
    "x[0]"
   ]
  },
  {
   "cell_type": "code",
   "execution_count": 24,
   "id": "a0a6d67f",
   "metadata": {
    "execution": {
     "iopub.execute_input": "2022-03-05T23:37:03.383601Z",
     "iopub.status.busy": "2022-03-05T23:37:03.357714Z",
     "iopub.status.idle": "2022-03-05T23:37:03.398823Z",
     "shell.execute_reply": "2022-03-05T23:37:03.398339Z",
     "shell.execute_reply.started": "2022-03-05T23:08:32.591922Z"
    },
    "papermill": {
     "duration": 0.079154,
     "end_time": "2022-03-05T23:37:03.398945",
     "exception": false,
     "start_time": "2022-03-05T23:37:03.319791",
     "status": "completed"
    },
    "tags": []
   },
   "outputs": [
    {
     "data": {
      "text/plain": [
       "0"
      ]
     },
     "execution_count": 24,
     "metadata": {},
     "output_type": "execute_result"
    }
   ],
   "source": [
    "y_valid.reset_index()[\"Sentiment\"].loc[0]"
   ]
  },
  {
   "cell_type": "code",
   "execution_count": 25,
   "id": "cd222bfe",
   "metadata": {
    "execution": {
     "iopub.execute_input": "2022-03-05T23:37:03.383601Z",
     "iopub.status.busy": "2022-03-05T23:37:03.357714Z",
     "iopub.status.idle": "2022-03-05T23:37:03.398823Z",
     "shell.execute_reply": "2022-03-05T23:37:03.398339Z",
     "shell.execute_reply.started": "2022-03-05T23:08:32.591922Z"
    },
    "papermill": {
     "duration": 0.079154,
     "end_time": "2022-03-05T23:37:03.398945",
     "exception": false,
     "start_time": "2022-03-05T23:37:03.319791",
     "status": "completed"
    },
    "tags": []
   },
   "outputs": [
    {
     "data": {
      "text/plain": [
       "0"
      ]
     },
     "execution_count": 25,
     "metadata": {},
     "output_type": "execute_result"
    }
   ],
   "source": [
    "y[0].item()"
   ]
  },
  {
   "cell_type": "markdown",
   "id": "ad2866d6",
   "metadata": {
    "papermill": {
     "duration": 0.014335,
     "end_time": "2022-03-05T23:37:03.427502",
     "exception": false,
     "start_time": "2022-03-05T23:37:03.413167",
     "status": "completed"
    },
    "tags": []
   },
   "source": [
    "# 3. Model"
   ]
  },
  {
   "cell_type": "code",
   "execution_count": 26,
   "id": "a512a861",
   "metadata": {
    "execution": {
     "iopub.execute_input": "2022-03-05T23:37:03.466333Z",
     "iopub.status.busy": "2022-03-05T23:37:03.465518Z",
     "iopub.status.idle": "2022-03-05T23:37:03.467416Z",
     "shell.execute_reply": "2022-03-05T23:37:03.467814Z",
     "shell.execute_reply.started": "2022-03-05T23:20:44.372994Z"
    },
    "papermill": {
     "duration": 0.026245,
     "end_time": "2022-03-05T23:37:03.467936",
     "exception": false,
     "start_time": "2022-03-05T23:37:03.441691",
     "status": "completed"
    },
    "tags": []
   },
   "outputs": [
    {
     "data": {
      "text/plain": [
       "(torch.Size([64, 45]), 64)"
      ]
     },
     "execution_count": 26,
     "metadata": {},
     "output_type": "execute_result"
    }
   ],
   "source": [
    "x.shape, len(y)"
   ]
  },
  {
   "cell_type": "code",
   "execution_count": 27,
   "id": "a018efd0",
   "metadata": {
    "execution": {
     "iopub.execute_input": "2022-03-05T23:37:03.466333Z",
     "iopub.status.busy": "2022-03-05T23:37:03.465518Z",
     "iopub.status.idle": "2022-03-05T23:37:03.467416Z",
     "shell.execute_reply": "2022-03-05T23:37:03.467814Z",
     "shell.execute_reply.started": "2022-03-05T23:20:44.372994Z"
    },
    "papermill": {
     "duration": 0.026245,
     "end_time": "2022-03-05T23:37:03.467936",
     "exception": false,
     "start_time": "2022-03-05T23:37:03.441691",
     "status": "completed"
    },
    "tags": []
   },
   "outputs": [
    {
     "name": "stdout",
     "output_type": "stream",
     "text": [
      "TextClassifier(\n",
      "  (dropout): Dropout(p=0.5, inplace=False)\n",
      "  (embedding): Embedding(35675, 256, padding_idx=0)\n",
      "  (lstm): LSTM(256, 512, num_layers=2, batch_first=True, bidirectional=True)\n",
      "  (fc1): Linear(in_features=2048, out_features=512, bias=True)\n",
      "  (fc2): Linear(in_features=512, out_features=1, bias=True)\n",
      ")\n"
     ]
    }
   ],
   "source": [
    "EMBEDDING_DIM = 256\n",
    "HIDDEN_DIM = 512\n",
    "LSTM_LAYERS = 2\n",
    "\n",
    "class TextClassifier(nn.ModuleList):\n",
    "    \"\"\"\n",
    "    LSTM Network definition\n",
    "    \"\"\"\n",
    "    def __init__(self):\n",
    "        super(TextClassifier, self).__init__()\n",
    "\n",
    "        self.batch_size = BATCH_SIZE\n",
    "        self.embedding_dim = EMBEDDING_DIM\n",
    "        self.hidden_dim = HIDDEN_DIM\n",
    "        self.LSTM_layers = LSTM_LAYERS\n",
    "        self.input_size = INPUT_SIZE\n",
    "\n",
    "        self.dropout = nn.Dropout(DROPOUT)\n",
    "        self.embedding = nn.Embedding(num_embeddings=self.input_size, embedding_dim=self.embedding_dim, padding_idx=0)\n",
    "        self.lstm = nn.LSTM(input_size=self.embedding_dim, hidden_size=self.hidden_dim, \n",
    "                            num_layers=self.LSTM_layers, batch_first=True, bidirectional=True)\n",
    "        self.fc1 = nn.Linear(in_features=self.hidden_dim*4, out_features=512)\n",
    "        self.fc2 = nn.Linear(512, 1)\n",
    "    \n",
    "\n",
    "    def forward(self, x):        \n",
    "        embedded = self.embedding(x)\n",
    "        out, (hidden, cell) = self.lstm(embedded)\n",
    "        out = self.dropout(out)\n",
    "        concat_hidden = torch.cat((hidden[0], hidden[1]), dim=1)\n",
    "        concat_cell = torch.cat((cell[0], cell[1]), dim=1)\n",
    "        all_states = torch.cat((concat_hidden, concat_cell), dim=1)\n",
    "        out = torch.relu_(self.fc1(all_states))\n",
    "        out = self.dropout(out)\n",
    "        out = torch.sigmoid(self.fc2(out))\n",
    "        return out.squeeze()\n",
    "\n",
    "# Identify device\n",
    "device = torch.device('cuda' if torch.cuda.is_available() else 'cpu')\n",
    "\n",
    "# Model initialization\n",
    "model = TextClassifier().to(device)\n",
    "print(model)"
   ]
  },
  {
   "cell_type": "code",
   "execution_count": 28,
   "id": "65a1b049",
   "metadata": {
    "execution": {
     "iopub.execute_input": "2022-03-05T23:37:03.586794Z",
     "iopub.status.busy": "2022-03-05T23:37:03.586192Z",
     "iopub.status.idle": "2022-03-05T23:37:07.128124Z",
     "shell.execute_reply": "2022-03-05T23:37:07.127243Z",
     "shell.execute_reply.started": "2022-03-05T23:20:44.868691Z"
    },
    "papermill": {
     "duration": 3.560563,
     "end_time": "2022-03-05T23:37:07.128273",
     "exception": false,
     "start_time": "2022-03-05T23:37:03.567710",
     "status": "completed"
    },
    "tags": []
   },
   "outputs": [
    {
     "data": {
      "text/plain": [
       "torch.Size([64, 45])"
      ]
     },
     "execution_count": 28,
     "metadata": {},
     "output_type": "execute_result"
    }
   ],
   "source": [
    "x.shape"
   ]
  },
  {
   "cell_type": "code",
   "execution_count": 29,
   "id": "94dce69a",
   "metadata": {
    "execution": {
     "iopub.execute_input": "2022-03-05T23:37:03.586794Z",
     "iopub.status.busy": "2022-03-05T23:37:03.586192Z",
     "iopub.status.idle": "2022-03-05T23:37:07.128124Z",
     "shell.execute_reply": "2022-03-05T23:37:07.127243Z",
     "shell.execute_reply.started": "2022-03-05T23:20:44.868691Z"
    },
    "papermill": {
     "duration": 3.560563,
     "end_time": "2022-03-05T23:37:07.128273",
     "exception": false,
     "start_time": "2022-03-05T23:37:03.567710",
     "status": "completed"
    },
    "tags": []
   },
   "outputs": [
    {
     "data": {
      "text/plain": [
       "torch.Size([64])"
      ]
     },
     "execution_count": 29,
     "metadata": {},
     "output_type": "execute_result"
    }
   ],
   "source": [
    "y.shape"
   ]
  },
  {
   "cell_type": "code",
   "execution_count": 30,
   "id": "d87c756a",
   "metadata": {
    "execution": {
     "iopub.execute_input": "2022-03-05T23:37:03.586794Z",
     "iopub.status.busy": "2022-03-05T23:37:03.586192Z",
     "iopub.status.idle": "2022-03-05T23:37:07.128124Z",
     "shell.execute_reply": "2022-03-05T23:37:07.127243Z",
     "shell.execute_reply.started": "2022-03-05T23:20:44.868691Z"
    },
    "papermill": {
     "duration": 3.560563,
     "end_time": "2022-03-05T23:37:07.128273",
     "exception": false,
     "start_time": "2022-03-05T23:37:03.567710",
     "status": "completed"
    },
    "tags": []
   },
   "outputs": [
    {
     "data": {
      "text/plain": [
       "torch.Size([64])"
      ]
     },
     "execution_count": 30,
     "metadata": {},
     "output_type": "execute_result"
    }
   ],
   "source": [
    "model(x.cuda()).shape"
   ]
  },
  {
   "cell_type": "code",
   "execution_count": 31,
   "id": "53ccac1b",
   "metadata": {
    "execution": {
     "iopub.execute_input": "2022-03-05T23:37:03.586794Z",
     "iopub.status.busy": "2022-03-05T23:37:03.586192Z",
     "iopub.status.idle": "2022-03-05T23:37:07.128124Z",
     "shell.execute_reply": "2022-03-05T23:37:07.127243Z",
     "shell.execute_reply.started": "2022-03-05T23:20:44.868691Z"
    },
    "papermill": {
     "duration": 3.560563,
     "end_time": "2022-03-05T23:37:07.128273",
     "exception": false,
     "start_time": "2022-03-05T23:37:03.567710",
     "status": "completed"
    },
    "tags": []
   },
   "outputs": [],
   "source": [
    "# Optimizer initialization\n",
    "optimizer = optim.Adam(model.parameters(), lr=0.001)\n",
    "criterion = torch.nn.BCELoss()"
   ]
  },
  {
   "cell_type": "code",
   "execution_count": 32,
   "id": "fab59a95",
   "metadata": {
    "execution": {
     "iopub.execute_input": "2022-03-05T23:37:07.163020Z",
     "iopub.status.busy": "2022-03-05T23:37:07.162221Z",
     "iopub.status.idle": "2022-03-05T23:37:07.164181Z",
     "shell.execute_reply": "2022-03-05T23:37:07.164589Z",
     "shell.execute_reply.started": "2022-03-05T23:20:48.324670Z"
    },
    "papermill": {
     "duration": 0.021737,
     "end_time": "2022-03-05T23:37:07.164738",
     "exception": false,
     "start_time": "2022-03-05T23:37:07.143001",
     "status": "completed"
    },
    "tags": []
   },
   "outputs": [],
   "source": [
    "def calculate_accuracy_with_selected_threshold(grand_truth, predictions):\n",
    "    \"\"\"\n",
    "    Accuracy calcuation: (tp + tn) / N\n",
    "    \"\"\"\n",
    "    true_positives, true_negatives = 0, 0\n",
    "    fpr, tpr, thr = roc_curve(grand_truth, predictions)\n",
    "    roc = pd.DataFrame({'fpr':fpr, 'tpr':tpr, 'thr':thr});\n",
    "    roc['random'] = roc['fpr'].copy()\n",
    "    roc['diff'] = roc['tpr'] - roc['fpr']\n",
    "    roc = roc.sort_values('diff', ascending=False).reset_index().drop('index', axis=1)\n",
    "    \n",
    "    for true, pred in zip(grand_truth, predictions):\n",
    "        if (pred > roc.loc[0,'thr']) and (true == 1):\n",
    "            true_positives += 1\n",
    "        elif (pred < roc.loc[0,'thr']) and (true == 0):\n",
    "            true_negatives += 1\n",
    "    return (true_positives+true_negatives) / len(grand_truth)\n",
    "\n",
    "def calculate_accuray_with_point_five(grand_truth, predictions):\n",
    "    \"\"\"\n",
    "    Accuracy calcuation: (tp + tn) / N\n",
    "    \"\"\"\n",
    "    true_positives, true_negatives = 0, 0    \n",
    "    for true, pred in zip(grand_truth, predictions):\n",
    "        if (pred > 0.5) and (true == 1):\n",
    "            true_positives += 1\n",
    "        elif (pred < 0.5) and (true == 0):\n",
    "            true_negatives += 1\n",
    "    return (true_positives+true_negatives) / len(grand_truth)"
   ]
  },
  {
   "cell_type": "code",
   "execution_count": 33,
   "id": "8edba82d",
   "metadata": {
    "execution": {
     "iopub.execute_input": "2022-03-05T23:37:07.196308Z",
     "iopub.status.busy": "2022-03-05T23:37:07.195495Z",
     "iopub.status.idle": "2022-03-05T23:37:16.643896Z",
     "shell.execute_reply": "2022-03-05T23:37:16.644314Z",
     "shell.execute_reply.started": "2022-03-05T23:21:09.145194Z"
    },
    "papermill": {
     "duration": 9.465388,
     "end_time": "2022-03-05T23:37:16.644460",
     "exception": false,
     "start_time": "2022-03-05T23:37:07.179072",
     "status": "completed"
    },
    "tags": []
   },
   "outputs": [
    {
     "name": "stderr",
     "output_type": "stream",
     "text": [
      "training epoch 1: 100%|██████████████████████████████████████████████████████████████| 133/133 [00:09<00:00, 14.06it/s]\n",
      "validation epoch 1: 100%|██████████████████████████████████████████████████████████████| 57/57 [00:01<00:00, 35.66it/s]\n"
     ]
    },
    {
     "name": "stdout",
     "output_type": "stream",
     "text": [
      "epoch: 1, loss: 0.34329, train: 0.74661, valid: 0.84169\n",
      "Valid metrics improved (0.000000 --> 0.841685).  Saving model ...\n",
      "=========================================\n"
     ]
    },
    {
     "name": "stderr",
     "output_type": "stream",
     "text": [
      "training epoch 2: 100%|██████████████████████████████████████████████████████████████| 133/133 [00:09<00:00, 14.26it/s]\n",
      "validation epoch 2: 100%|██████████████████████████████████████████████████████████████| 57/57 [00:01<00:00, 35.51it/s]\n"
     ]
    },
    {
     "name": "stdout",
     "output_type": "stream",
     "text": [
      "epoch: 2, loss: 0.06079, train: 0.89118, valid: 0.87390\n",
      "Valid metrics improved (0.841685 --> 0.873899).  Saving model ...\n",
      "=========================================\n"
     ]
    },
    {
     "name": "stderr",
     "output_type": "stream",
     "text": [
      "training epoch 3: 100%|██████████████████████████████████████████████████████████████| 133/133 [00:09<00:00, 14.23it/s]\n",
      "validation epoch 3: 100%|██████████████████████████████████████████████████████████████| 57/57 [00:01<00:00, 35.52it/s]\n"
     ]
    },
    {
     "name": "stdout",
     "output_type": "stream",
     "text": [
      "epoch: 3, loss: 0.15875, train: 0.95704, valid: 0.82930\n"
     ]
    },
    {
     "name": "stderr",
     "output_type": "stream",
     "text": [
      "training epoch 4: 100%|██████████████████████████████████████████████████████████████| 133/133 [00:09<00:00, 14.21it/s]\n",
      "validation epoch 4: 100%|██████████████████████████████████████████████████████████████| 57/57 [00:01<00:00, 34.86it/s]\n"
     ]
    },
    {
     "name": "stdout",
     "output_type": "stream",
     "text": [
      "epoch: 4, loss: 0.00104, train: 0.97250, valid: 0.89069\n",
      "Valid metrics improved (0.873899 --> 0.890694).  Saving model ...\n",
      "=========================================\n"
     ]
    },
    {
     "name": "stderr",
     "output_type": "stream",
     "text": [
      "training epoch 5: 100%|██████████████████████████████████████████████████████████████| 133/133 [00:09<00:00, 14.23it/s]\n",
      "validation epoch 5: 100%|██████████████████████████████████████████████████████████████| 57/57 [00:01<00:00, 35.53it/s]\n"
     ]
    },
    {
     "name": "stdout",
     "output_type": "stream",
     "text": [
      "epoch: 5, loss: 0.00370, train: 0.98619, valid: 0.88601\n"
     ]
    },
    {
     "name": "stderr",
     "output_type": "stream",
     "text": [
      "training epoch 6: 100%|██████████████████████████████████████████████████████████████| 133/133 [00:09<00:00, 14.20it/s]\n",
      "validation epoch 6: 100%|██████████████████████████████████████████████████████████████| 57/57 [00:01<00:00, 35.51it/s]\n"
     ]
    },
    {
     "name": "stdout",
     "output_type": "stream",
     "text": [
      "epoch: 6, loss: 0.05569, train: 0.98879, valid: 0.87252\n"
     ]
    },
    {
     "name": "stderr",
     "output_type": "stream",
     "text": [
      "training epoch 7: 100%|██████████████████████████████████████████████████████████████| 133/133 [00:09<00:00, 14.20it/s]\n",
      "validation epoch 7: 100%|██████████████████████████████████████████████████████████████| 57/57 [00:01<00:00, 35.49it/s]\n"
     ]
    },
    {
     "name": "stdout",
     "output_type": "stream",
     "text": [
      "epoch: 7, loss: 0.00001, train: 0.99611, valid: 0.89758\n",
      "Valid metrics improved (0.890694 --> 0.897577).  Saving model ...\n",
      "=========================================\n"
     ]
    },
    {
     "name": "stderr",
     "output_type": "stream",
     "text": [
      "training epoch 8: 100%|██████████████████████████████████████████████████████████████| 133/133 [00:09<00:00, 14.22it/s]\n",
      "validation epoch 8: 100%|██████████████████████████████████████████████████████████████| 57/57 [00:01<00:00, 35.52it/s]\n"
     ]
    },
    {
     "name": "stdout",
     "output_type": "stream",
     "text": [
      "epoch: 8, loss: 0.00000, train: 0.99965, valid: 0.90061\n",
      "Valid metrics improved (0.897577 --> 0.900606).  Saving model ...\n",
      "=========================================\n"
     ]
    },
    {
     "name": "stderr",
     "output_type": "stream",
     "text": [
      "training epoch 9: 100%|██████████████████████████████████████████████████████████████| 133/133 [00:09<00:00, 14.21it/s]\n",
      "validation epoch 9: 100%|██████████████████████████████████████████████████████████████| 57/57 [00:01<00:00, 35.51it/s]\n"
     ]
    },
    {
     "name": "stdout",
     "output_type": "stream",
     "text": [
      "epoch: 9, loss: 0.00000, train: 0.99953, valid: 0.89317\n"
     ]
    },
    {
     "name": "stderr",
     "output_type": "stream",
     "text": [
      "training epoch 10: 100%|█████████████████████████████████████████████████████████████| 133/133 [00:09<00:00, 14.22it/s]\n",
      "validation epoch 10: 100%|█████████████████████████████████████████████████████████████| 57/57 [00:01<00:00, 35.53it/s]\n"
     ]
    },
    {
     "name": "stdout",
     "output_type": "stream",
     "text": [
      "epoch: 10, loss: 0.00004, train: 0.99764, valid: 0.89097\n"
     ]
    },
    {
     "name": "stderr",
     "output_type": "stream",
     "text": [
      "training epoch 11: 100%|█████████████████████████████████████████████████████████████| 133/133 [00:09<00:00, 14.22it/s]\n",
      "validation epoch 11: 100%|█████████████████████████████████████████████████████████████| 57/57 [00:01<00:00, 35.55it/s]\n"
     ]
    },
    {
     "name": "stdout",
     "output_type": "stream",
     "text": [
      "epoch: 11, loss: 0.00027, train: 0.99516, valid: 0.89620\n"
     ]
    },
    {
     "name": "stderr",
     "output_type": "stream",
     "text": [
      "training epoch 12: 100%|█████████████████████████████████████████████████████████████| 133/133 [00:09<00:00, 14.22it/s]\n",
      "validation epoch 12: 100%|█████████████████████████████████████████████████████████████| 57/57 [00:01<00:00, 35.52it/s]\n"
     ]
    },
    {
     "name": "stdout",
     "output_type": "stream",
     "text": [
      "epoch: 12, loss: 0.00001, train: 0.99681, valid: 0.89868\n"
     ]
    },
    {
     "name": "stderr",
     "output_type": "stream",
     "text": [
      "training epoch 13: 100%|█████████████████████████████████████████████████████████████| 133/133 [00:09<00:00, 14.23it/s]\n",
      "validation epoch 13: 100%|█████████████████████████████████████████████████████████████| 57/57 [00:01<00:00, 35.53it/s]\n"
     ]
    },
    {
     "name": "stdout",
     "output_type": "stream",
     "text": [
      "epoch: 13, loss: 0.00000, train: 0.99870, valid: 0.90336\n",
      "Valid metrics improved (0.900606 --> 0.903359).  Saving model ...\n",
      "=========================================\n"
     ]
    },
    {
     "name": "stderr",
     "output_type": "stream",
     "text": [
      "training epoch 14: 100%|█████████████████████████████████████████████████████████████| 133/133 [00:09<00:00, 14.25it/s]\n",
      "validation epoch 14: 100%|█████████████████████████████████████████████████████████████| 57/57 [00:01<00:00, 35.54it/s]\n"
     ]
    },
    {
     "name": "stdout",
     "output_type": "stream",
     "text": [
      "epoch: 14, loss: 0.00000, train: 0.99988, valid: 0.90061\n"
     ]
    },
    {
     "name": "stderr",
     "output_type": "stream",
     "text": [
      "training epoch 15: 100%|█████████████████████████████████████████████████████████████| 133/133 [00:09<00:00, 14.25it/s]\n",
      "validation epoch 15: 100%|█████████████████████████████████████████████████████████████| 57/57 [00:01<00:00, 35.61it/s]\n"
     ]
    },
    {
     "name": "stdout",
     "output_type": "stream",
     "text": [
      "epoch: 15, loss: 0.00000, train: 0.99988, valid: 0.90088\n"
     ]
    },
    {
     "name": "stderr",
     "output_type": "stream",
     "text": [
      "training epoch 16: 100%|█████████████████████████████████████████████████████████████| 133/133 [00:09<00:00, 14.24it/s]\n",
      "validation epoch 16: 100%|█████████████████████████████████████████████████████████████| 57/57 [00:01<00:00, 35.62it/s]\n"
     ]
    },
    {
     "name": "stdout",
     "output_type": "stream",
     "text": [
      "epoch: 16, loss: 0.00000, train: 0.99988, valid: 0.90088\n"
     ]
    },
    {
     "name": "stderr",
     "output_type": "stream",
     "text": [
      "training epoch 17: 100%|█████████████████████████████████████████████████████████████| 133/133 [00:09<00:00, 14.25it/s]\n",
      "validation epoch 17: 100%|█████████████████████████████████████████████████████████████| 57/57 [00:01<00:00, 35.59it/s]\n"
     ]
    },
    {
     "name": "stdout",
     "output_type": "stream",
     "text": [
      "epoch: 17, loss: 0.00000, train: 0.99988, valid: 0.90198\n"
     ]
    },
    {
     "name": "stderr",
     "output_type": "stream",
     "text": [
      "training epoch 18: 100%|█████████████████████████████████████████████████████████████| 133/133 [00:09<00:00, 14.24it/s]\n",
      "validation epoch 18: 100%|█████████████████████████████████████████████████████████████| 57/57 [00:01<00:00, 35.53it/s]\n"
     ]
    },
    {
     "name": "stdout",
     "output_type": "stream",
     "text": [
      "epoch: 18, loss: 0.00000, train: 0.99988, valid: 0.90363\n",
      "Valid metrics improved (0.903359 --> 0.903634).  Saving model ...\n",
      "=========================================\n"
     ]
    },
    {
     "name": "stderr",
     "output_type": "stream",
     "text": [
      "training epoch 19: 100%|█████████████████████████████████████████████████████████████| 133/133 [00:09<00:00, 14.25it/s]\n",
      "validation epoch 19: 100%|█████████████████████████████████████████████████████████████| 57/57 [00:01<00:00, 35.62it/s]\n"
     ]
    },
    {
     "name": "stdout",
     "output_type": "stream",
     "text": [
      "epoch: 19, loss: 0.00000, train: 0.99988, valid: 0.90391\n",
      "Valid metrics improved (0.903634 --> 0.903910).  Saving model ...\n",
      "=========================================\n"
     ]
    },
    {
     "name": "stderr",
     "output_type": "stream",
     "text": [
      "training epoch 20: 100%|█████████████████████████████████████████████████████████████| 133/133 [00:09<00:00, 14.25it/s]\n",
      "validation epoch 20: 100%|█████████████████████████████████████████████████████████████| 57/57 [00:01<00:00, 35.51it/s]\n"
     ]
    },
    {
     "name": "stdout",
     "output_type": "stream",
     "text": [
      "epoch: 20, loss: 0.00000, train: 0.99988, valid: 0.90419\n",
      "Valid metrics improved (0.903910 --> 0.904185).  Saving model ...\n",
      "=========================================\n"
     ]
    },
    {
     "name": "stderr",
     "output_type": "stream",
     "text": [
      "training epoch 21: 100%|█████████████████████████████████████████████████████████████| 133/133 [00:09<00:00, 14.26it/s]\n",
      "validation epoch 21: 100%|█████████████████████████████████████████████████████████████| 57/57 [00:01<00:00, 35.60it/s]\n"
     ]
    },
    {
     "name": "stdout",
     "output_type": "stream",
     "text": [
      "epoch: 21, loss: 0.00000, train: 0.99988, valid: 0.90391\n"
     ]
    },
    {
     "name": "stderr",
     "output_type": "stream",
     "text": [
      "training epoch 22: 100%|█████████████████████████████████████████████████████████████| 133/133 [00:09<00:00, 14.26it/s]\n",
      "validation epoch 22: 100%|█████████████████████████████████████████████████████████████| 57/57 [00:01<00:00, 35.56it/s]\n"
     ]
    },
    {
     "name": "stdout",
     "output_type": "stream",
     "text": [
      "epoch: 22, loss: 0.00000, train: 0.99988, valid: 0.90419\n",
      "Valid metrics improved (0.904185 --> 0.904185).  Saving model ...\n",
      "=========================================\n"
     ]
    },
    {
     "name": "stderr",
     "output_type": "stream",
     "text": [
      "training epoch 23: 100%|█████████████████████████████████████████████████████████████| 133/133 [00:09<00:00, 14.26it/s]\n",
      "validation epoch 23: 100%|█████████████████████████████████████████████████████████████| 57/57 [00:01<00:00, 35.56it/s]\n"
     ]
    },
    {
     "name": "stdout",
     "output_type": "stream",
     "text": [
      "epoch: 23, loss: 0.00000, train: 0.99988, valid: 0.90474\n",
      "Valid metrics improved (0.904185 --> 0.904736).  Saving model ...\n",
      "=========================================\n"
     ]
    },
    {
     "name": "stderr",
     "output_type": "stream",
     "text": [
      "training epoch 24: 100%|█████████████████████████████████████████████████████████████| 133/133 [00:09<00:00, 14.24it/s]\n",
      "validation epoch 24: 100%|█████████████████████████████████████████████████████████████| 57/57 [00:01<00:00, 35.55it/s]\n"
     ]
    },
    {
     "name": "stdout",
     "output_type": "stream",
     "text": [
      "epoch: 24, loss: 0.00000, train: 0.99988, valid: 0.90446\n"
     ]
    },
    {
     "name": "stderr",
     "output_type": "stream",
     "text": [
      "training epoch 25: 100%|█████████████████████████████████████████████████████████████| 133/133 [00:09<00:00, 14.26it/s]\n",
      "validation epoch 25: 100%|█████████████████████████████████████████████████████████████| 57/57 [00:01<00:00, 35.56it/s]\n"
     ]
    },
    {
     "name": "stdout",
     "output_type": "stream",
     "text": [
      "epoch: 25, loss: 0.00000, train: 0.99988, valid: 0.90474\n",
      "Valid metrics improved (0.904736 --> 0.904736).  Saving model ...\n",
      "=========================================\n"
     ]
    },
    {
     "name": "stderr",
     "output_type": "stream",
     "text": [
      "training epoch 26: 100%|█████████████████████████████████████████████████████████████| 133/133 [00:09<00:00, 14.26it/s]\n",
      "validation epoch 26: 100%|█████████████████████████████████████████████████████████████| 57/57 [00:01<00:00, 35.56it/s]\n"
     ]
    },
    {
     "name": "stdout",
     "output_type": "stream",
     "text": [
      "epoch: 26, loss: 0.00000, train: 0.99988, valid: 0.90474\n",
      "Valid metrics improved (0.904736 --> 0.904736).  Saving model ...\n",
      "=========================================\n"
     ]
    },
    {
     "name": "stderr",
     "output_type": "stream",
     "text": [
      "training epoch 27: 100%|█████████████████████████████████████████████████████████████| 133/133 [00:09<00:00, 14.26it/s]\n",
      "validation epoch 27: 100%|█████████████████████████████████████████████████████████████| 57/57 [00:01<00:00, 35.59it/s]\n"
     ]
    },
    {
     "name": "stdout",
     "output_type": "stream",
     "text": [
      "epoch: 27, loss: 0.00000, train: 0.99988, valid: 0.90474\n",
      "Valid metrics improved (0.904736 --> 0.904736).  Saving model ...\n",
      "=========================================\n"
     ]
    },
    {
     "name": "stderr",
     "output_type": "stream",
     "text": [
      "training epoch 28: 100%|█████████████████████████████████████████████████████████████| 133/133 [00:09<00:00, 14.26it/s]\n",
      "validation epoch 28: 100%|█████████████████████████████████████████████████████████████| 57/57 [00:01<00:00, 35.56it/s]\n"
     ]
    },
    {
     "name": "stdout",
     "output_type": "stream",
     "text": [
      "epoch: 28, loss: 0.00000, train: 0.99988, valid: 0.90556\n",
      "Valid metrics improved (0.904736 --> 0.905562).  Saving model ...\n",
      "=========================================\n"
     ]
    },
    {
     "name": "stderr",
     "output_type": "stream",
     "text": [
      "training epoch 29: 100%|█████████████████████████████████████████████████████████████| 133/133 [00:09<00:00, 14.24it/s]\n",
      "validation epoch 29: 100%|█████████████████████████████████████████████████████████████| 57/57 [00:01<00:00, 35.57it/s]\n"
     ]
    },
    {
     "name": "stdout",
     "output_type": "stream",
     "text": [
      "epoch: 29, loss: 0.00000, train: 0.99988, valid: 0.90584\n",
      "Valid metrics improved (0.905562 --> 0.905837).  Saving model ...\n",
      "=========================================\n"
     ]
    },
    {
     "name": "stderr",
     "output_type": "stream",
     "text": [
      "training epoch 30: 100%|█████████████████████████████████████████████████████████████| 133/133 [00:09<00:00, 14.26it/s]\n",
      "validation epoch 30: 100%|█████████████████████████████████████████████████████████████| 57/57 [00:01<00:00, 35.60it/s]\n"
     ]
    },
    {
     "name": "stdout",
     "output_type": "stream",
     "text": [
      "epoch: 30, loss: 0.00000, train: 0.99988, valid: 0.90584\n",
      "Valid metrics improved (0.905837 --> 0.905837).  Saving model ...\n",
      "=========================================\n"
     ]
    },
    {
     "name": "stderr",
     "output_type": "stream",
     "text": [
      "training epoch 31: 100%|█████████████████████████████████████████████████████████████| 133/133 [00:09<00:00, 14.28it/s]\n",
      "validation epoch 31: 100%|█████████████████████████████████████████████████████████████| 57/57 [00:01<00:00, 35.60it/s]\n"
     ]
    },
    {
     "name": "stdout",
     "output_type": "stream",
     "text": [
      "epoch: 31, loss: 0.00000, train: 0.99988, valid: 0.90584\n",
      "Valid metrics improved (0.905837 --> 0.905837).  Saving model ...\n",
      "=========================================\n"
     ]
    },
    {
     "name": "stderr",
     "output_type": "stream",
     "text": [
      "training epoch 32: 100%|█████████████████████████████████████████████████████████████| 133/133 [00:09<00:00, 14.28it/s]\n",
      "validation epoch 32: 100%|█████████████████████████████████████████████████████████████| 57/57 [00:01<00:00, 35.59it/s]\n"
     ]
    },
    {
     "name": "stdout",
     "output_type": "stream",
     "text": [
      "epoch: 32, loss: 0.00000, train: 0.99988, valid: 0.90639\n",
      "Valid metrics improved (0.905837 --> 0.906388).  Saving model ...\n",
      "=========================================\n"
     ]
    },
    {
     "name": "stderr",
     "output_type": "stream",
     "text": [
      "training epoch 33: 100%|█████████████████████████████████████████████████████████████| 133/133 [00:09<00:00, 14.28it/s]\n",
      "validation epoch 33: 100%|█████████████████████████████████████████████████████████████| 57/57 [00:01<00:00, 35.55it/s]\n"
     ]
    },
    {
     "name": "stdout",
     "output_type": "stream",
     "text": [
      "epoch: 33, loss: 0.00000, train: 0.99988, valid: 0.90584\n"
     ]
    },
    {
     "name": "stderr",
     "output_type": "stream",
     "text": [
      "training epoch 34: 100%|█████████████████████████████████████████████████████████████| 133/133 [00:09<00:00, 14.27it/s]\n",
      "validation epoch 34: 100%|█████████████████████████████████████████████████████████████| 57/57 [00:01<00:00, 35.56it/s]\n"
     ]
    },
    {
     "name": "stdout",
     "output_type": "stream",
     "text": [
      "epoch: 34, loss: 0.00000, train: 0.99988, valid: 0.90556\n"
     ]
    },
    {
     "name": "stderr",
     "output_type": "stream",
     "text": [
      "training epoch 35: 100%|█████████████████████████████████████████████████████████████| 133/133 [00:09<00:00, 14.27it/s]\n",
      "validation epoch 35: 100%|█████████████████████████████████████████████████████████████| 57/57 [00:01<00:00, 35.61it/s]\n"
     ]
    },
    {
     "name": "stdout",
     "output_type": "stream",
     "text": [
      "epoch: 35, loss: 0.00000, train: 0.99988, valid: 0.90529\n"
     ]
    },
    {
     "name": "stderr",
     "output_type": "stream",
     "text": [
      "training epoch 36: 100%|█████████████████████████████████████████████████████████████| 133/133 [00:09<00:00, 14.27it/s]\n",
      "validation epoch 36: 100%|█████████████████████████████████████████████████████████████| 57/57 [00:01<00:00, 35.57it/s]\n"
     ]
    },
    {
     "name": "stdout",
     "output_type": "stream",
     "text": [
      "epoch: 36, loss: 0.00000, train: 0.99988, valid: 0.90529\n"
     ]
    },
    {
     "name": "stderr",
     "output_type": "stream",
     "text": [
      "training epoch 37: 100%|█████████████████████████████████████████████████████████████| 133/133 [00:09<00:00, 14.27it/s]\n",
      "validation epoch 37: 100%|█████████████████████████████████████████████████████████████| 57/57 [00:01<00:00, 35.54it/s]\n"
     ]
    },
    {
     "name": "stdout",
     "output_type": "stream",
     "text": [
      "epoch: 37, loss: 0.00000, train: 0.99988, valid: 0.90611\n"
     ]
    },
    {
     "name": "stderr",
     "output_type": "stream",
     "text": [
      "training epoch 38: 100%|█████████████████████████████████████████████████████████████| 133/133 [00:09<00:00, 14.27it/s]\n",
      "validation epoch 38: 100%|█████████████████████████████████████████████████████████████| 57/57 [00:01<00:00, 35.51it/s]\n"
     ]
    },
    {
     "name": "stdout",
     "output_type": "stream",
     "text": [
      "epoch: 38, loss: 0.00000, train: 0.99988, valid: 0.90611\n"
     ]
    },
    {
     "name": "stderr",
     "output_type": "stream",
     "text": [
      "training epoch 39: 100%|█████████████████████████████████████████████████████████████| 133/133 [00:09<00:00, 14.26it/s]\n",
      "validation epoch 39: 100%|█████████████████████████████████████████████████████████████| 57/57 [00:01<00:00, 35.53it/s]\n"
     ]
    },
    {
     "name": "stdout",
     "output_type": "stream",
     "text": [
      "epoch: 39, loss: 0.00000, train: 0.99988, valid: 0.90611\n"
     ]
    },
    {
     "name": "stderr",
     "output_type": "stream",
     "text": [
      "training epoch 40: 100%|█████████████████████████████████████████████████████████████| 133/133 [00:09<00:00, 14.25it/s]\n",
      "validation epoch 40: 100%|█████████████████████████████████████████████████████████████| 57/57 [00:01<00:00, 35.49it/s]\n"
     ]
    },
    {
     "name": "stdout",
     "output_type": "stream",
     "text": [
      "epoch: 40, loss: 0.00000, train: 0.99988, valid: 0.90529\n"
     ]
    },
    {
     "name": "stderr",
     "output_type": "stream",
     "text": [
      "training epoch 41: 100%|█████████████████████████████████████████████████████████████| 133/133 [00:09<00:00, 14.26it/s]\n",
      "validation epoch 41: 100%|█████████████████████████████████████████████████████████████| 57/57 [00:01<00:00, 35.54it/s]\n"
     ]
    },
    {
     "name": "stdout",
     "output_type": "stream",
     "text": [
      "epoch: 41, loss: 0.00000, train: 0.99988, valid: 0.90529\n"
     ]
    },
    {
     "name": "stderr",
     "output_type": "stream",
     "text": [
      "training epoch 42: 100%|█████████████████████████████████████████████████████████████| 133/133 [00:09<00:00, 14.26it/s]\n",
      "validation epoch 42: 100%|█████████████████████████████████████████████████████████████| 57/57 [00:01<00:00, 35.56it/s]\n"
     ]
    },
    {
     "name": "stdout",
     "output_type": "stream",
     "text": [
      "epoch: 42, loss: 0.00000, train: 0.99988, valid: 0.90529\n"
     ]
    },
    {
     "name": "stderr",
     "output_type": "stream",
     "text": [
      "training epoch 43: 100%|█████████████████████████████████████████████████████████████| 133/133 [00:09<00:00, 14.26it/s]\n",
      "validation epoch 43: 100%|█████████████████████████████████████████████████████████████| 57/57 [00:01<00:00, 35.54it/s]\n"
     ]
    },
    {
     "name": "stdout",
     "output_type": "stream",
     "text": [
      "epoch: 43, loss: 0.00000, train: 0.99988, valid: 0.90611\n"
     ]
    },
    {
     "name": "stderr",
     "output_type": "stream",
     "text": [
      "training epoch 44: 100%|█████████████████████████████████████████████████████████████| 133/133 [00:09<00:00, 14.27it/s]\n",
      "validation epoch 44: 100%|█████████████████████████████████████████████████████████████| 57/57 [00:01<00:00, 35.53it/s]\n"
     ]
    },
    {
     "name": "stdout",
     "output_type": "stream",
     "text": [
      "epoch: 44, loss: 0.00000, train: 0.99988, valid: 0.90611\n"
     ]
    },
    {
     "name": "stderr",
     "output_type": "stream",
     "text": [
      "training epoch 45: 100%|█████████████████████████████████████████████████████████████| 133/133 [00:09<00:00, 14.26it/s]\n",
      "validation epoch 45: 100%|█████████████████████████████████████████████████████████████| 57/57 [00:01<00:00, 35.52it/s]\n"
     ]
    },
    {
     "name": "stdout",
     "output_type": "stream",
     "text": [
      "epoch: 45, loss: 0.00000, train: 0.99988, valid: 0.90584\n"
     ]
    },
    {
     "name": "stderr",
     "output_type": "stream",
     "text": [
      "training epoch 46: 100%|█████████████████████████████████████████████████████████████| 133/133 [00:09<00:00, 14.27it/s]\n",
      "validation epoch 46: 100%|█████████████████████████████████████████████████████████████| 57/57 [00:01<00:00, 35.54it/s]\n"
     ]
    },
    {
     "name": "stdout",
     "output_type": "stream",
     "text": [
      "epoch: 46, loss: 0.00000, train: 0.99988, valid: 0.90584\n"
     ]
    },
    {
     "name": "stderr",
     "output_type": "stream",
     "text": [
      "training epoch 47: 100%|█████████████████████████████████████████████████████████████| 133/133 [00:09<00:00, 14.27it/s]\n",
      "validation epoch 47: 100%|█████████████████████████████████████████████████████████████| 57/57 [00:01<00:00, 35.57it/s]\n"
     ]
    },
    {
     "name": "stdout",
     "output_type": "stream",
     "text": [
      "epoch: 47, loss: 0.00000, train: 0.99988, valid: 0.90611\n"
     ]
    },
    {
     "name": "stderr",
     "output_type": "stream",
     "text": [
      "training epoch 48: 100%|█████████████████████████████████████████████████████████████| 133/133 [00:09<00:00, 14.27it/s]\n",
      "validation epoch 48: 100%|█████████████████████████████████████████████████████████████| 57/57 [00:01<00:00, 35.54it/s]\n"
     ]
    },
    {
     "name": "stdout",
     "output_type": "stream",
     "text": [
      "epoch: 48, loss: 0.00000, train: 0.99988, valid: 0.90639\n",
      "Valid metrics improved (0.906388 --> 0.906388).  Saving model ...\n",
      "=========================================\n"
     ]
    },
    {
     "name": "stderr",
     "output_type": "stream",
     "text": [
      "training epoch 49: 100%|█████████████████████████████████████████████████████████████| 133/133 [00:09<00:00, 14.27it/s]\n",
      "validation epoch 49: 100%|█████████████████████████████████████████████████████████████| 57/57 [00:01<00:00, 35.53it/s]\n"
     ]
    },
    {
     "name": "stdout",
     "output_type": "stream",
     "text": [
      "epoch: 49, loss: 0.00000, train: 0.99988, valid: 0.90639\n",
      "Valid metrics improved (0.906388 --> 0.906388).  Saving model ...\n",
      "=========================================\n"
     ]
    },
    {
     "name": "stderr",
     "output_type": "stream",
     "text": [
      "training epoch 50: 100%|█████████████████████████████████████████████████████████████| 133/133 [00:09<00:00, 14.27it/s]\n",
      "validation epoch 50: 100%|█████████████████████████████████████████████████████████████| 57/57 [00:01<00:00, 35.55it/s]\n"
     ]
    },
    {
     "name": "stdout",
     "output_type": "stream",
     "text": [
      "epoch: 50, loss: 0.00000, train: 0.99988, valid: 0.90639\n",
      "Valid metrics improved (0.906388 --> 0.906388).  Saving model ...\n",
      "=========================================\n"
     ]
    }
   ],
   "source": [
    "# Training\n",
    "EPOCHS = 50\n",
    "valid_accuracy_min = 0\n",
    "for epoch in range(EPOCHS):\n",
    "    model.train()\n",
    "    train_predictions = []\n",
    "    for x_batch, y_batch in tqdm.tqdm(loader_training, desc=f\"training epoch {epoch+1}\"):\n",
    "        \n",
    "        x = x_batch.type(torch.LongTensor).to(device)\n",
    "        y = y_batch.type(torch.FloatTensor).to(device)\n",
    "        \n",
    "        y_pred = model(x)\n",
    "        \n",
    "        loss = criterion(y_pred, y)\n",
    "        \n",
    "        optimizer.zero_grad()\n",
    "        loss.backward()\n",
    "        optimizer.step()\n",
    "        \n",
    "        # Save predictions for metrics calculation\n",
    "        train_predictions += list(y_pred.squeeze().cpu().detach().numpy())\n",
    "    \n",
    "    # Evaluation\n",
    "    with torch.no_grad():\n",
    "        model.eval()\n",
    "        valid_predictions = []\n",
    "        for x_batch, y_batch in tqdm.tqdm(loader_valid, desc=f\"validation epoch {epoch+1}\"):\n",
    "            x = x_batch.type(torch.LongTensor).to(device)\n",
    "            y = y_batch.type(torch.FloatTensor).to(device)\n",
    "            \n",
    "            y_pred = model(x)\n",
    "            # Save predictions for metrics calculation\n",
    "            valid_predictions += list(y_pred.squeeze().cpu().detach().numpy())\n",
    "\n",
    "    train_accuracy = calculate_accuracy_with_selected_threshold(y_train, train_predictions)\n",
    "    valid_accuracy = calculate_accuracy_with_selected_threshold(y_valid, valid_predictions)\n",
    "    print(f\"epoch: {epoch+1}, loss: {loss.item():.5f}, train: {train_accuracy:.5f}, valid: {valid_accuracy:.5f}\")\n",
    "    if valid_accuracy >= valid_accuracy_min:\n",
    "        print('Valid metrics improved ({:.6f} --> {:.6f}).  Saving model ...'.format(valid_accuracy_min,valid_accuracy))\n",
    "        # change the name, for saving multiple files\n",
    "        torch.save(model.state_dict(), 'text_clf.pt')\n",
    "        valid_accuracy_min = valid_accuracy\n",
    "        print(\"=========================================\")"
   ]
  },
  {
   "cell_type": "code",
   "execution_count": 40,
   "id": "e3a0a08d",
   "metadata": {
    "execution": {
     "iopub.execute_input": "2022-03-05T23:37:07.196308Z",
     "iopub.status.busy": "2022-03-05T23:37:07.195495Z",
     "iopub.status.idle": "2022-03-05T23:37:16.643896Z",
     "shell.execute_reply": "2022-03-05T23:37:16.644314Z",
     "shell.execute_reply.started": "2022-03-05T23:21:09.145194Z"
    },
    "papermill": {
     "duration": 9.465388,
     "end_time": "2022-03-05T23:37:16.644460",
     "exception": false,
     "start_time": "2022-03-05T23:37:07.179072",
     "status": "completed"
    },
    "tags": []
   },
   "outputs": [
    {
     "data": {
      "text/plain": [
       "<All keys matched successfully>"
      ]
     },
     "execution_count": 40,
     "metadata": {},
     "output_type": "execute_result"
    }
   ],
   "source": [
    "model.load_state_dict(torch.load('text_clf.pt'))"
   ]
  },
  {
   "cell_type": "code",
   "execution_count": 41,
   "id": "4499749f",
   "metadata": {},
   "outputs": [
    {
     "name": "stdout",
     "output_type": "stream",
     "text": [
      "valid accuracy: 0.90639\n"
     ]
    }
   ],
   "source": [
    "with torch.no_grad():\n",
    "    model.eval()\n",
    "    valid_predictions = []\n",
    "    for x_batch, y_batch in loader_valid:\n",
    "        x = x_batch.type(torch.LongTensor).to(device)\n",
    "        y = y_batch.type(torch.FloatTensor).to(device)\n",
    "\n",
    "        y_pred = model(x)\n",
    "        # Save predictions for metrics calculation\n",
    "        valid_predictions += list(y_pred.squeeze().cpu().detach().numpy())\n",
    "        \n",
    "    valid_accuracy = calculate_accuracy_with_selected_threshold(y_valid, valid_predictions)\n",
    "    print(f\"valid accuracy: {valid_accuracy:.5f}\")"
   ]
  },
  {
   "cell_type": "code",
   "execution_count": 42,
   "id": "29d0d26e",
   "metadata": {},
   "outputs": [
    {
     "data": {
      "text/plain": [
       "<AxesSubplot:xlabel='fpr'>"
      ]
     },
     "execution_count": 42,
     "metadata": {},
     "output_type": "execute_result"
    },
    {
     "data": {
      "image/png": "[encoded data removed]",
      "text/plain": [
       "<Figure size 600x400 with 1 Axes>"
      ]
     },
     "metadata": {},
     "output_type": "display_data"
    }
   ],
   "source": [
    "fpr, tpr, thr = roc_curve(y_valid, valid_predictions)\n",
    "roc = pd.DataFrame({'fpr':fpr, 'tpr':tpr, 'thr':thr});\n",
    "roc['random'] = roc['fpr'].copy()\n",
    "roc['diff'] = roc['tpr'] - roc['fpr']\n",
    "roc.plot(x='fpr', y=['tpr','random'], figsize=(6,4), grid=True)"
   ]
  },
  {
   "cell_type": "code",
   "execution_count": 43,
   "id": "96985fdd",
   "metadata": {},
   "outputs": [],
   "source": [
    "roc = roc.sort_values('diff', ascending=False).reset_index().drop('index', axis=1)"
   ]
  },
  {
   "cell_type": "code",
   "execution_count": 44,
   "id": "e451bcd6",
   "metadata": {},
   "outputs": [
    {
     "data": {
      "text/html": [
       "<div>\n",
       "<style scoped>\n",
       "    .dataframe tbody tr th:only-of-type {\n",
       "        vertical-align: middle;\n",
       "    }\n",
       "\n",
       "    .dataframe tbody tr th {\n",
       "        vertical-align: top;\n",
       "    }\n",
       "\n",
       "    .dataframe thead th {\n",
       "        text-align: right;\n",
       "    }\n",
       "</style>\n",
       "<table border=\"1\" class=\"dataframe\">\n",
       "  <thead>\n",
       "    <tr style=\"text-align: right;\">\n",
       "      <th></th>\n",
       "      <th>fpr</th>\n",
       "      <th>tpr</th>\n",
       "      <th>thr</th>\n",
       "      <th>random</th>\n",
       "      <th>diff</th>\n",
       "    </tr>\n",
       "  </thead>\n",
       "  <tbody>\n",
       "    <tr>\n",
       "      <th>0</th>\n",
       "      <td>0.084046</td>\n",
       "      <td>0.895441</td>\n",
       "      <td>8.948165e-01</td>\n",
       "      <td>0.084046</td>\n",
       "      <td>0.811394</td>\n",
       "    </tr>\n",
       "    <tr>\n",
       "      <th>1</th>\n",
       "      <td>0.096125</td>\n",
       "      <td>0.906991</td>\n",
       "      <td>3.739784e-01</td>\n",
       "      <td>0.096125</td>\n",
       "      <td>0.810866</td>\n",
       "    </tr>\n",
       "    <tr>\n",
       "      <th>2</th>\n",
       "      <td>0.095622</td>\n",
       "      <td>0.906383</td>\n",
       "      <td>4.066698e-01</td>\n",
       "      <td>0.095622</td>\n",
       "      <td>0.810761</td>\n",
       "    </tr>\n",
       "    <tr>\n",
       "      <th>3</th>\n",
       "      <td>0.093608</td>\n",
       "      <td>0.903951</td>\n",
       "      <td>5.118250e-01</td>\n",
       "      <td>0.093608</td>\n",
       "      <td>0.810343</td>\n",
       "    </tr>\n",
       "    <tr>\n",
       "      <th>4</th>\n",
       "      <td>0.090589</td>\n",
       "      <td>0.900912</td>\n",
       "      <td>7.248901e-01</td>\n",
       "      <td>0.090589</td>\n",
       "      <td>0.810323</td>\n",
       "    </tr>\n",
       "    <tr>\n",
       "      <th>...</th>\n",
       "      <td>...</td>\n",
       "      <td>...</td>\n",
       "      <td>...</td>\n",
       "      <td>...</td>\n",
       "      <td>...</td>\n",
       "    </tr>\n",
       "    <tr>\n",
       "      <th>372</th>\n",
       "      <td>0.901359</td>\n",
       "      <td>0.998784</td>\n",
       "      <td>2.598422e-19</td>\n",
       "      <td>0.901359</td>\n",
       "      <td>0.097425</td>\n",
       "    </tr>\n",
       "    <tr>\n",
       "      <th>373</th>\n",
       "      <td>0.955712</td>\n",
       "      <td>1.000000</td>\n",
       "      <td>2.926914e-21</td>\n",
       "      <td>0.955712</td>\n",
       "      <td>0.044288</td>\n",
       "    </tr>\n",
       "    <tr>\n",
       "      <th>374</th>\n",
       "      <td>0.955712</td>\n",
       "      <td>0.999392</td>\n",
       "      <td>3.060857e-21</td>\n",
       "      <td>0.955712</td>\n",
       "      <td>0.043680</td>\n",
       "    </tr>\n",
       "    <tr>\n",
       "      <th>375</th>\n",
       "      <td>0.000000</td>\n",
       "      <td>0.000000</td>\n",
       "      <td>2.000000e+00</td>\n",
       "      <td>0.000000</td>\n",
       "      <td>0.000000</td>\n",
       "    </tr>\n",
       "    <tr>\n",
       "      <th>376</th>\n",
       "      <td>1.000000</td>\n",
       "      <td>1.000000</td>\n",
       "      <td>3.736007e-35</td>\n",
       "      <td>1.000000</td>\n",
       "      <td>0.000000</td>\n",
       "    </tr>\n",
       "  </tbody>\n",
       "</table>\n",
       "<p>377 rows × 5 columns</p>\n",
       "</div>"
      ],
      "text/plain": [
       "          fpr       tpr           thr    random      diff\n",
       "0    0.084046  0.895441  8.948165e-01  0.084046  0.811394\n",
       "1    0.096125  0.906991  3.739784e-01  0.096125  0.810866\n",
       "2    0.095622  0.906383  4.066698e-01  0.095622  0.810761\n",
       "3    0.093608  0.903951  5.118250e-01  0.093608  0.810343\n",
       "4    0.090589  0.900912  7.248901e-01  0.090589  0.810323\n",
       "..        ...       ...           ...       ...       ...\n",
       "372  0.901359  0.998784  2.598422e-19  0.901359  0.097425\n",
       "373  0.955712  1.000000  2.926914e-21  0.955712  0.044288\n",
       "374  0.955712  0.999392  3.060857e-21  0.955712  0.043680\n",
       "375  0.000000  0.000000  2.000000e+00  0.000000  0.000000\n",
       "376  1.000000  1.000000  3.736007e-35  1.000000  0.000000\n",
       "\n",
       "[377 rows x 5 columns]"
      ]
     },
     "execution_count": 44,
     "metadata": {},
     "output_type": "execute_result"
    }
   ],
   "source": [
    "roc"
   ]
  },
  {
   "cell_type": "code",
   "execution_count": 45,
   "id": "e360aba3",
   "metadata": {},
   "outputs": [
    {
     "data": {
      "text/plain": [
       "0.89481646"
      ]
     },
     "execution_count": 45,
     "metadata": {},
     "output_type": "execute_result"
    }
   ],
   "source": [
    "roc.loc[0,'thr']"
   ]
  },
  {
   "cell_type": "code",
   "execution_count": null,
   "id": "e074d0de",
   "metadata": {},
   "outputs": [],
   "source": []
  }
 ],
 "metadata": {
  "kernelspec": {
   "display_name": "Python 3 (ipykernel)",
   "language": "python",
   "name": "python3"
  },
  "language_info": {
   "codemirror_mode": {
    "name": "ipython",
    "version": 3
   },
   "file_extension": ".py",
   "mimetype": "text/x-python",
   "name": "python",
   "nbconvert_exporter": "python",
   "pygments_lexer": "ipython3",
   "version": "3.9.13"
  },
  "papermill": {
   "default_parameters": {},
   "duration": 39.330232,
   "end_time": "2022-03-05T23:37:18.820869",
   "environment_variables": {},
   "exception": null,
   "input_path": "__notebook__.ipynb",
   "output_path": "__notebook__.ipynb",
   "parameters": {},
   "start_time": "2022-03-05T23:36:39.490637",
   "version": "2.3.3"
  }
 },
 "nbformat": 4,
 "nbformat_minor": 5
}
