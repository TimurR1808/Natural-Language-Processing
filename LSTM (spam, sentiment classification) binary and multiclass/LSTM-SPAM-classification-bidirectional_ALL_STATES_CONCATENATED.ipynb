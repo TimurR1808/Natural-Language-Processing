{
 "cells": [
  {
   "cell_type": "code",
   "execution_count": 1,
   "id": "5d106116",
   "metadata": {
    "execution": {
     "iopub.execute_input": "2022-03-05T23:36:47.615492Z",
     "iopub.status.busy": "2022-03-05T23:36:47.614922Z",
     "iopub.status.idle": "2022-03-05T23:36:50.403735Z",
     "shell.execute_reply": "2022-03-05T23:36:50.402946Z",
     "shell.execute_reply.started": "2022-03-05T22:25:22.852671Z"
    },
    "papermill": {
     "duration": 2.811379,
     "end_time": "2022-03-05T23:36:50.403883",
     "exception": false,
     "start_time": "2022-03-05T23:36:47.592504",
     "status": "completed"
    },
    "tags": []
   },
   "outputs": [],
   "source": [
    "import torch\n",
    "import torch.nn as nn\n",
    "import torch.optim as optim\n",
    "import torch.nn.functional as F\n",
    "import itertools\n",
    "from torch.utils.data import Dataset\n",
    "from torch.utils.data import DataLoader\n",
    "from sklearn.metrics import roc_curve \n",
    "import numpy as np\n",
    "import pandas as pd\n",
    "\n",
    "import string\n",
    "from nltk.corpus import stopwords\n",
    "\n",
    "from sklearn.model_selection import train_test_split\n",
    "import tqdm"
   ]
  },
  {
   "cell_type": "markdown",
   "id": "1616f526",
   "metadata": {
    "papermill": {
     "duration": 0.014443,
     "end_time": "2022-03-05T23:36:50.432398",
     "exception": false,
     "start_time": "2022-03-05T23:36:50.417955",
     "status": "completed"
    },
    "tags": []
   },
   "source": [
    "# 1. Preprocessing"
   ]
  },
  {
   "cell_type": "code",
   "execution_count": 2,
   "id": "67fa3ea0",
   "metadata": {
    "execution": {
     "iopub.execute_input": "2022-03-05T23:36:50.467952Z",
     "iopub.status.busy": "2022-03-05T23:36:50.467242Z",
     "iopub.status.idle": "2022-03-05T23:36:50.470727Z",
     "shell.execute_reply": "2022-03-05T23:36:50.470301Z",
     "shell.execute_reply.started": "2022-03-05T22:47:33.107881Z"
    },
    "papermill": {
     "duration": 0.024814,
     "end_time": "2022-03-05T23:36:50.470836",
     "exception": false,
     "start_time": "2022-03-05T23:36:50.446022",
     "status": "completed"
    },
    "tags": []
   },
   "outputs": [],
   "source": [
    "# We define utility functions for text processing.\n",
    "\n",
    "def removePunctuation(text):\n",
    "    \"\"\"\n",
    "    Remove punctuation symbols and convert text to lowercase\n",
    "    \"\"\"\n",
    "    return text.lower().translate(str.maketrans('', '', string.punctuation))\n",
    "\n",
    "def removeStopWords(text):\n",
    "    \"\"\"\n",
    "    Filter words that are not found in stop words\n",
    "    \"\"\"\n",
    "    return \" \".join([word for word in text.split() if word not in stopwords.words(\"english\")])\n",
    "\n",
    "def buildDictionary(texts):\n",
    "    \"\"\"\n",
    "    Build the dictionary of words where key is the word and value is the index.\n",
    "    \"\"\"\n",
    "    hashmap = {}\n",
    "    for text in texts:\n",
    "        for word in text.split():\n",
    "            hashmap[word] = hashmap.get(word, 0) + 1\n",
    "    return {w:i+1 for i, w in enumerate(list(hashmap.keys()))}\n",
    "\n",
    "def calculateMaxSeqLen(texts):\n",
    "    \"\"\"\n",
    "    Calculates the maximum sequence length found in the corpus\n",
    "    \"\"\"\n",
    "    max_len = float('-inf')\n",
    "    for text in texts:\n",
    "        if len(text.split()) > max_len:\n",
    "            max_len = len(text.split())\n",
    "            \n",
    "    return max_len"
   ]
  },
  {
   "cell_type": "code",
   "execution_count": 3,
   "id": "ac89e8d0",
   "metadata": {
    "execution": {
     "iopub.execute_input": "2022-03-05T23:36:50.502816Z",
     "iopub.status.busy": "2022-03-05T23:36:50.502157Z",
     "iopub.status.idle": "2022-03-05T23:37:03.086236Z",
     "shell.execute_reply": "2022-03-05T23:37:03.085419Z"
    },
    "papermill": {
     "duration": 12.602015,
     "end_time": "2022-03-05T23:37:03.086375",
     "exception": false,
     "start_time": "2022-03-05T23:36:50.484360",
     "status": "completed"
    },
    "tags": []
   },
   "outputs": [],
   "source": [
    "# Load the *.csv* file and filter the features that are useful for the problem:\n",
    "data = pd.read_csv(\"C:/datasets/SMS/spam.csv\", encoding=\"latin-1\")"
   ]
  },
  {
   "cell_type": "code",
   "execution_count": 4,
   "id": "279fb3ef",
   "metadata": {
    "execution": {
     "iopub.execute_input": "2022-03-05T23:36:50.502816Z",
     "iopub.status.busy": "2022-03-05T23:36:50.502157Z",
     "iopub.status.idle": "2022-03-05T23:37:03.086236Z",
     "shell.execute_reply": "2022-03-05T23:37:03.085419Z"
    },
    "papermill": {
     "duration": 12.602015,
     "end_time": "2022-03-05T23:37:03.086375",
     "exception": false,
     "start_time": "2022-03-05T23:36:50.484360",
     "status": "completed"
    },
    "tags": []
   },
   "outputs": [
    {
     "data": {
      "text/plain": [
       "ham     4825\n",
       "spam     747\n",
       "Name: target, dtype: int64"
      ]
     },
     "execution_count": 4,
     "metadata": {},
     "output_type": "execute_result"
    }
   ],
   "source": [
    "data[\"target\"].value_counts()"
   ]
  },
  {
   "cell_type": "code",
   "execution_count": 5,
   "id": "352fef7e",
   "metadata": {
    "execution": {
     "iopub.execute_input": "2022-03-05T23:36:50.502816Z",
     "iopub.status.busy": "2022-03-05T23:36:50.502157Z",
     "iopub.status.idle": "2022-03-05T23:37:03.086236Z",
     "shell.execute_reply": "2022-03-05T23:37:03.085419Z"
    },
    "papermill": {
     "duration": 12.602015,
     "end_time": "2022-03-05T23:37:03.086375",
     "exception": false,
     "start_time": "2022-03-05T23:36:50.484360",
     "status": "completed"
    },
    "tags": []
   },
   "outputs": [],
   "source": [
    "# Text preprocessing. Remove punctuation symbols and stop words:\n",
    "# data[\"text\"] = data[\"text\"].apply(lambda x: removePunctuation(x))\n",
    "# data[\"text\"] = data[\"text\"].apply(lambda x: removeStopWords(x))"
   ]
  },
  {
   "cell_type": "code",
   "execution_count": 6,
   "id": "2a42ca82",
   "metadata": {
    "execution": {
     "iopub.execute_input": "2022-03-05T23:37:03.137389Z",
     "iopub.status.busy": "2022-03-05T23:37:03.127393Z",
     "iopub.status.idle": "2022-03-05T23:37:03.161258Z",
     "shell.execute_reply": "2022-03-05T23:37:03.160556Z",
     "shell.execute_reply.started": "2022-03-05T22:47:35.755764Z"
    },
    "papermill": {
     "duration": 0.060689,
     "end_time": "2022-03-05T23:37:03.161411",
     "exception": false,
     "start_time": "2022-03-05T23:37:03.100722",
     "status": "completed"
    },
    "tags": []
   },
   "outputs": [],
   "source": [
    "data[\"text\"] = data[\"text\"].astype(\"str\")"
   ]
  },
  {
   "cell_type": "code",
   "execution_count": 7,
   "id": "17881799",
   "metadata": {
    "execution": {
     "iopub.execute_input": "2022-03-05T23:37:03.137389Z",
     "iopub.status.busy": "2022-03-05T23:37:03.127393Z",
     "iopub.status.idle": "2022-03-05T23:37:03.161258Z",
     "shell.execute_reply": "2022-03-05T23:37:03.160556Z",
     "shell.execute_reply.started": "2022-03-05T22:47:35.755764Z"
    },
    "papermill": {
     "duration": 0.060689,
     "end_time": "2022-03-05T23:37:03.161411",
     "exception": false,
     "start_time": "2022-03-05T23:37:03.100722",
     "status": "completed"
    },
    "tags": []
   },
   "outputs": [
    {
     "name": "stdout",
     "output_type": "stream",
     "text": [
      "Number of words in dictionary: 9431\n",
      "Maximum sequence lenght: 80\n"
     ]
    }
   ],
   "source": [
    "dictionary = buildDictionary(data[\"text\"])\n",
    "max_seq_len = calculateMaxSeqLen(data[\"text\"])\n",
    "\n",
    "print(f\"Number of words in dictionary: {len(dictionary)}\")\n",
    "print(f\"Maximum sequence lenght: {max_seq_len}\")"
   ]
  },
  {
   "cell_type": "code",
   "execution_count": 8,
   "id": "1070b828",
   "metadata": {
    "execution": {
     "iopub.execute_input": "2022-03-05T23:37:03.193272Z",
     "iopub.status.busy": "2022-03-05T23:37:03.192490Z",
     "iopub.status.idle": "2022-03-05T23:37:03.203080Z",
     "shell.execute_reply": "2022-03-05T23:37:03.202656Z",
     "shell.execute_reply.started": "2022-03-05T23:07:00.606833Z"
    },
    "papermill": {
     "duration": 0.026668,
     "end_time": "2022-03-05T23:37:03.203185",
     "exception": false,
     "start_time": "2022-03-05T23:37:03.176517",
     "status": "completed"
    },
    "tags": []
   },
   "outputs": [],
   "source": [
    "data[\"target\"] = data[\"target\"].replace(\"ham\", 0)\n",
    "data[\"target\"] = data[\"target\"].replace(\"spam\", 1)"
   ]
  },
  {
   "cell_type": "code",
   "execution_count": 9,
   "id": "1ccd9997",
   "metadata": {
    "execution": {
     "iopub.execute_input": "2022-03-05T23:37:03.193272Z",
     "iopub.status.busy": "2022-03-05T23:37:03.192490Z",
     "iopub.status.idle": "2022-03-05T23:37:03.203080Z",
     "shell.execute_reply": "2022-03-05T23:37:03.202656Z",
     "shell.execute_reply.started": "2022-03-05T23:07:00.606833Z"
    },
    "papermill": {
     "duration": 0.026668,
     "end_time": "2022-03-05T23:37:03.203185",
     "exception": false,
     "start_time": "2022-03-05T23:37:03.176517",
     "status": "completed"
    },
    "tags": []
   },
   "outputs": [
    {
     "data": {
      "text/plain": [
       "0    0.865937\n",
       "1    0.134063\n",
       "Name: target, dtype: float64"
      ]
     },
     "execution_count": 9,
     "metadata": {},
     "output_type": "execute_result"
    }
   ],
   "source": [
    "data[\"target\"].value_counts() / len(data)"
   ]
  },
  {
   "cell_type": "code",
   "execution_count": 10,
   "id": "e82b0890",
   "metadata": {
    "execution": {
     "iopub.execute_input": "2022-03-05T23:37:03.193272Z",
     "iopub.status.busy": "2022-03-05T23:37:03.192490Z",
     "iopub.status.idle": "2022-03-05T23:37:03.203080Z",
     "shell.execute_reply": "2022-03-05T23:37:03.202656Z",
     "shell.execute_reply.started": "2022-03-05T23:07:00.606833Z"
    },
    "papermill": {
     "duration": 0.026668,
     "end_time": "2022-03-05T23:37:03.203185",
     "exception": false,
     "start_time": "2022-03-05T23:37:03.176517",
     "status": "completed"
    },
    "tags": []
   },
   "outputs": [
    {
     "data": {
      "text/html": [
       "<div>\n",
       "<style scoped>\n",
       "    .dataframe tbody tr th:only-of-type {\n",
       "        vertical-align: middle;\n",
       "    }\n",
       "\n",
       "    .dataframe tbody tr th {\n",
       "        vertical-align: top;\n",
       "    }\n",
       "\n",
       "    .dataframe thead th {\n",
       "        text-align: right;\n",
       "    }\n",
       "</style>\n",
       "<table border=\"1\" class=\"dataframe\">\n",
       "  <thead>\n",
       "    <tr style=\"text-align: right;\">\n",
       "      <th></th>\n",
       "      <th>text</th>\n",
       "      <th>target</th>\n",
       "    </tr>\n",
       "  </thead>\n",
       "  <tbody>\n",
       "    <tr>\n",
       "      <th>0</th>\n",
       "      <td>go jurong point crazy available bugis n great ...</td>\n",
       "      <td>0</td>\n",
       "    </tr>\n",
       "    <tr>\n",
       "      <th>1</th>\n",
       "      <td>ok lar joking wif u oni</td>\n",
       "      <td>0</td>\n",
       "    </tr>\n",
       "    <tr>\n",
       "      <th>2</th>\n",
       "      <td>free entry 2 wkly comp win fa cup final tkts 2...</td>\n",
       "      <td>1</td>\n",
       "    </tr>\n",
       "    <tr>\n",
       "      <th>3</th>\n",
       "      <td>u dun say early hor u c already say</td>\n",
       "      <td>0</td>\n",
       "    </tr>\n",
       "    <tr>\n",
       "      <th>4</th>\n",
       "      <td>nah dont think goes usf lives around though</td>\n",
       "      <td>0</td>\n",
       "    </tr>\n",
       "    <tr>\n",
       "      <th>...</th>\n",
       "      <td>...</td>\n",
       "      <td>...</td>\n",
       "    </tr>\n",
       "    <tr>\n",
       "      <th>5567</th>\n",
       "      <td>2nd time tried 2 contact u u Ã¥Â£750 pound pri...</td>\n",
       "      <td>1</td>\n",
       "    </tr>\n",
       "    <tr>\n",
       "      <th>5568</th>\n",
       "      <td>Ã¬ b going esplanade fr home</td>\n",
       "      <td>0</td>\n",
       "    </tr>\n",
       "    <tr>\n",
       "      <th>5569</th>\n",
       "      <td>pity mood soany suggestions</td>\n",
       "      <td>0</td>\n",
       "    </tr>\n",
       "    <tr>\n",
       "      <th>5570</th>\n",
       "      <td>guy bitching acted like id interested buying s...</td>\n",
       "      <td>0</td>\n",
       "    </tr>\n",
       "    <tr>\n",
       "      <th>5571</th>\n",
       "      <td>rofl true name</td>\n",
       "      <td>0</td>\n",
       "    </tr>\n",
       "  </tbody>\n",
       "</table>\n",
       "<p>5572 rows × 2 columns</p>\n",
       "</div>"
      ],
      "text/plain": [
       "                                                   text  target\n",
       "0     go jurong point crazy available bugis n great ...       0\n",
       "1                               ok lar joking wif u oni       0\n",
       "2     free entry 2 wkly comp win fa cup final tkts 2...       1\n",
       "3                   u dun say early hor u c already say       0\n",
       "4           nah dont think goes usf lives around though       0\n",
       "...                                                 ...     ...\n",
       "5567  2nd time tried 2 contact u u Ã¥Â£750 pound pri...       1\n",
       "5568                       Ã¬ b going esplanade fr home       0\n",
       "5569                        pity mood soany suggestions       0\n",
       "5570  guy bitching acted like id interested buying s...       0\n",
       "5571                                     rofl true name       0\n",
       "\n",
       "[5572 rows x 2 columns]"
      ]
     },
     "execution_count": 10,
     "metadata": {},
     "output_type": "execute_result"
    }
   ],
   "source": [
    "data"
   ]
  },
  {
   "cell_type": "code",
   "execution_count": 11,
   "id": "07dcc1b5",
   "metadata": {
    "execution": {
     "iopub.execute_input": "2022-03-05T23:37:03.193272Z",
     "iopub.status.busy": "2022-03-05T23:37:03.192490Z",
     "iopub.status.idle": "2022-03-05T23:37:03.203080Z",
     "shell.execute_reply": "2022-03-05T23:37:03.202656Z",
     "shell.execute_reply.started": "2022-03-05T23:07:00.606833Z"
    },
    "papermill": {
     "duration": 0.026668,
     "end_time": "2022-03-05T23:37:03.203185",
     "exception": false,
     "start_time": "2022-03-05T23:37:03.176517",
     "status": "completed"
    },
    "tags": []
   },
   "outputs": [],
   "source": [
    "# Split data into training and testing\n",
    "x_train, x_valid, y_train, y_valid = train_test_split(data[\"text\"], data[\"target\"], test_size=0.2, stratify=data[\"target\"])"
   ]
  },
  {
   "cell_type": "markdown",
   "id": "938ed3fe",
   "metadata": {
    "papermill": {
     "duration": 0.013899,
     "end_time": "2022-03-05T23:37:03.231400",
     "exception": false,
     "start_time": "2022-03-05T23:37:03.217501",
     "status": "completed"
    },
    "tags": []
   },
   "source": [
    "# 2. Data loaders"
   ]
  },
  {
   "cell_type": "code",
   "execution_count": 12,
   "id": "74b7a3f5",
   "metadata": {
    "execution": {
     "iopub.execute_input": "2022-03-05T23:37:03.266298Z",
     "iopub.status.busy": "2022-03-05T23:37:03.265540Z",
     "iopub.status.idle": "2022-03-05T23:37:03.267884Z",
     "shell.execute_reply": "2022-03-05T23:37:03.267450Z",
     "shell.execute_reply.started": "2022-03-05T23:22:46.626159Z"
    },
    "papermill": {
     "duration": 0.020388,
     "end_time": "2022-03-05T23:37:03.267992",
     "exception": false,
     "start_time": "2022-03-05T23:37:03.247604",
     "status": "completed"
    },
    "tags": []
   },
   "outputs": [
    {
     "data": {
      "text/plain": [
       "0    966\n",
       "1    149\n",
       "Name: target, dtype: int64"
      ]
     },
     "execution_count": 12,
     "metadata": {},
     "output_type": "execute_result"
    }
   ],
   "source": [
    "y_valid.value_counts()"
   ]
  },
  {
   "cell_type": "code",
   "execution_count": 13,
   "id": "9223271f",
   "metadata": {
    "execution": {
     "iopub.execute_input": "2022-03-05T23:37:03.266298Z",
     "iopub.status.busy": "2022-03-05T23:37:03.265540Z",
     "iopub.status.idle": "2022-03-05T23:37:03.267884Z",
     "shell.execute_reply": "2022-03-05T23:37:03.267450Z",
     "shell.execute_reply.started": "2022-03-05T23:22:46.626159Z"
    },
    "papermill": {
     "duration": 0.020388,
     "end_time": "2022-03-05T23:37:03.267992",
     "exception": false,
     "start_time": "2022-03-05T23:37:03.247604",
     "status": "completed"
    },
    "tags": []
   },
   "outputs": [
    {
     "data": {
      "text/plain": [
       "0    3859\n",
       "1     598\n",
       "Name: target, dtype: int64"
      ]
     },
     "execution_count": 13,
     "metadata": {},
     "output_type": "execute_result"
    }
   ],
   "source": [
    "y_train.value_counts()"
   ]
  },
  {
   "cell_type": "code",
   "execution_count": 14,
   "id": "a5a1483a",
   "metadata": {
    "execution": {
     "iopub.execute_input": "2022-03-05T23:37:03.266298Z",
     "iopub.status.busy": "2022-03-05T23:37:03.265540Z",
     "iopub.status.idle": "2022-03-05T23:37:03.267884Z",
     "shell.execute_reply": "2022-03-05T23:37:03.267450Z",
     "shell.execute_reply.started": "2022-03-05T23:22:46.626159Z"
    },
    "papermill": {
     "duration": 0.020388,
     "end_time": "2022-03-05T23:37:03.267992",
     "exception": false,
     "start_time": "2022-03-05T23:37:03.247604",
     "status": "completed"
    },
    "tags": []
   },
   "outputs": [],
   "source": [
    "BATCH_SIZE = 64\n",
    "LEARNING_RATE = 0.001\n",
    "DROPOUT = 0.5\n",
    "INPUT_SIZE = len(dictionary) + 1\n",
    "EPOCHS = 30"
   ]
  },
  {
   "cell_type": "code",
   "execution_count": 15,
   "id": "e68fde33",
   "metadata": {
    "execution": {
     "iopub.execute_input": "2022-03-05T23:37:03.303669Z",
     "iopub.status.busy": "2022-03-05T23:37:03.303034Z",
     "iopub.status.idle": "2022-03-05T23:37:03.305240Z",
     "shell.execute_reply": "2022-03-05T23:37:03.305601Z",
     "shell.execute_reply.started": "2022-03-05T23:08:21.742035Z"
    },
    "papermill": {
     "duration": 0.023543,
     "end_time": "2022-03-05T23:37:03.305753",
     "exception": false,
     "start_time": "2022-03-05T23:37:03.282210",
     "status": "completed"
    },
    "tags": []
   },
   "outputs": [],
   "source": [
    "class DataHandler(Dataset):\n",
    "    \"\"\"\n",
    "    Iterator generator for data loader construction\n",
    "    \"\"\"\n",
    "    \n",
    "    @staticmethod\n",
    "    def tokenizer(X, max_seq_len, dicitionary):\n",
    "        \"\"\"\n",
    "        Given a sequence of words, tokenize each word with \n",
    "        use of `dictionary` and apply padding considering `max_seq_len`\n",
    "        \"\"\"\n",
    "        sequences = []\n",
    "        for x in X:\n",
    "            sequence = [0] * max_seq_len\n",
    "            for idx, word in enumerate(x.split()):\n",
    "                sequence[idx] = dictionary[word]\n",
    "            sequences.append(sequence)\n",
    "            \n",
    "        return np.array(sequences)\n",
    "    \n",
    "    def __init__(self, x, y, max_seq_len, dictionary):\n",
    "        self.x = self.tokenizer(x, max_seq_len, dictionary)\n",
    "        self.y = y.to_numpy()\n",
    "        \n",
    "    def __len__(self):\n",
    "        return len(self.x)\n",
    "    \n",
    "    def __getitem__(self, idx):\n",
    "        return self.x[idx], self.y[idx]"
   ]
  },
  {
   "cell_type": "code",
   "execution_count": 16,
   "id": "f078953b",
   "metadata": {
    "execution": {
     "iopub.execute_input": "2022-03-05T23:37:03.383601Z",
     "iopub.status.busy": "2022-03-05T23:37:03.357714Z",
     "iopub.status.idle": "2022-03-05T23:37:03.398823Z",
     "shell.execute_reply": "2022-03-05T23:37:03.398339Z",
     "shell.execute_reply.started": "2022-03-05T23:08:32.591922Z"
    },
    "papermill": {
     "duration": 0.079154,
     "end_time": "2022-03-05T23:37:03.398945",
     "exception": false,
     "start_time": "2022-03-05T23:37:03.319791",
     "status": "completed"
    },
    "tags": []
   },
   "outputs": [],
   "source": [
    "# Initialize iterator objects for the data loader\n",
    "train = DataHandler(x_train, y_train, max_seq_len, dictionary)\n",
    "valid = DataHandler(x_valid, y_valid, max_seq_len, dictionary)"
   ]
  },
  {
   "cell_type": "code",
   "execution_count": 17,
   "id": "92af8103",
   "metadata": {
    "execution": {
     "iopub.execute_input": "2022-03-05T23:37:03.383601Z",
     "iopub.status.busy": "2022-03-05T23:37:03.357714Z",
     "iopub.status.idle": "2022-03-05T23:37:03.398823Z",
     "shell.execute_reply": "2022-03-05T23:37:03.398339Z",
     "shell.execute_reply.started": "2022-03-05T23:08:32.591922Z"
    },
    "papermill": {
     "duration": 0.079154,
     "end_time": "2022-03-05T23:37:03.398945",
     "exception": false,
     "start_time": "2022-03-05T23:37:03.319791",
     "status": "completed"
    },
    "tags": []
   },
   "outputs": [],
   "source": [
    "# Initialize data loaders\n",
    "loader_training = DataLoader(train, batch_size=BATCH_SIZE, shuffle=False)\n",
    "loader_valid = DataLoader(valid, batch_size=BATCH_SIZE, shuffle=False)"
   ]
  },
  {
   "cell_type": "code",
   "execution_count": 18,
   "id": "f5dc49c3",
   "metadata": {
    "execution": {
     "iopub.execute_input": "2022-03-05T23:37:03.383601Z",
     "iopub.status.busy": "2022-03-05T23:37:03.357714Z",
     "iopub.status.idle": "2022-03-05T23:37:03.398823Z",
     "shell.execute_reply": "2022-03-05T23:37:03.398339Z",
     "shell.execute_reply.started": "2022-03-05T23:08:32.591922Z"
    },
    "papermill": {
     "duration": 0.079154,
     "end_time": "2022-03-05T23:37:03.398945",
     "exception": false,
     "start_time": "2022-03-05T23:37:03.319791",
     "status": "completed"
    },
    "tags": []
   },
   "outputs": [],
   "source": [
    "txt1 = iter(loader_valid)"
   ]
  },
  {
   "cell_type": "code",
   "execution_count": 19,
   "id": "58f24f65",
   "metadata": {
    "execution": {
     "iopub.execute_input": "2022-03-05T23:37:03.383601Z",
     "iopub.status.busy": "2022-03-05T23:37:03.357714Z",
     "iopub.status.idle": "2022-03-05T23:37:03.398823Z",
     "shell.execute_reply": "2022-03-05T23:37:03.398339Z",
     "shell.execute_reply.started": "2022-03-05T23:08:32.591922Z"
    },
    "papermill": {
     "duration": 0.079154,
     "end_time": "2022-03-05T23:37:03.398945",
     "exception": false,
     "start_time": "2022-03-05T23:37:03.319791",
     "status": "completed"
    },
    "tags": []
   },
   "outputs": [],
   "source": [
    "x, y = next(txt1)"
   ]
  },
  {
   "cell_type": "code",
   "execution_count": 20,
   "id": "65da4d49",
   "metadata": {
    "execution": {
     "iopub.execute_input": "2022-03-05T23:37:03.383601Z",
     "iopub.status.busy": "2022-03-05T23:37:03.357714Z",
     "iopub.status.idle": "2022-03-05T23:37:03.398823Z",
     "shell.execute_reply": "2022-03-05T23:37:03.398339Z",
     "shell.execute_reply.started": "2022-03-05T23:08:32.591922Z"
    },
    "papermill": {
     "duration": 0.079154,
     "end_time": "2022-03-05T23:37:03.398945",
     "exception": false,
     "start_time": "2022-03-05T23:37:03.319791",
     "status": "completed"
    },
    "tags": []
   },
   "outputs": [
    {
     "data": {
      "text/plain": [
       "{'go': 1,\n",
       " 'jurong': 2,\n",
       " 'point': 3,\n",
       " 'crazy': 4,\n",
       " 'available': 5,\n",
       " 'bugis': 6,\n",
       " 'n': 7,\n",
       " 'great': 8,\n",
       " 'world': 9,\n",
       " 'la': 10,\n",
       " 'e': 11,\n",
       " 'buffet': 12,\n",
       " 'cine': 13,\n",
       " 'got': 14,\n",
       " 'amore': 15,\n",
       " 'wat': 16,\n",
       " 'ok': 17,\n",
       " 'lar': 18,\n",
       " 'joking': 19,\n",
       " 'wif': 20,\n",
       " 'u': 21,\n",
       " 'oni': 22,\n",
       " 'free': 23,\n",
       " 'entry': 24,\n",
       " '2': 25,\n",
       " 'wkly': 26,\n",
       " 'comp': 27,\n",
       " 'win': 28,\n",
       " 'fa': 29,\n",
       " 'cup': 30,\n",
       " 'final': 31,\n",
       " 'tkts': 32,\n",
       " '21st': 33,\n",
       " 'may': 34,\n",
       " '2005': 35,\n",
       " 'text': 36,\n",
       " '87121': 37,\n",
       " 'receive': 38,\n",
       " 'questionstd': 39,\n",
       " 'txt': 40,\n",
       " 'ratetcs': 41,\n",
       " 'apply': 42,\n",
       " '08452810075over18s': 43,\n",
       " 'dun': 44,\n",
       " 'say': 45,\n",
       " 'early': 46,\n",
       " 'hor': 47,\n",
       " 'c': 48,\n",
       " 'already': 49,\n",
       " 'nah': 50,\n",
       " 'dont': 51,\n",
       " 'think': 52,\n",
       " 'goes': 53,\n",
       " 'usf': 54,\n",
       " 'lives': 55,\n",
       " 'around': 56,\n",
       " 'though': 57,\n",
       " 'freemsg': 58,\n",
       " 'hey': 59,\n",
       " 'darling': 60,\n",
       " '3': 61,\n",
       " 'weeks': 62,\n",
       " 'word': 63,\n",
       " 'back': 64,\n",
       " 'id': 65,\n",
       " 'like': 66,\n",
       " 'fun': 67,\n",
       " 'still': 68,\n",
       " 'tb': 69,\n",
       " 'xxx': 70,\n",
       " 'std': 71,\n",
       " 'chgs': 72,\n",
       " 'send': 73,\n",
       " 'Ã¥Â£150': 74,\n",
       " 'rcv': 75,\n",
       " 'even': 76,\n",
       " 'brother': 77,\n",
       " 'speak': 78,\n",
       " 'treat': 79,\n",
       " 'aids': 80,\n",
       " 'patent': 81,\n",
       " 'per': 82,\n",
       " 'request': 83,\n",
       " 'melle': 84,\n",
       " 'oru': 85,\n",
       " 'minnaminunginte': 86,\n",
       " 'nurungu': 87,\n",
       " 'vettam': 88,\n",
       " 'set': 89,\n",
       " 'callertune': 90,\n",
       " 'callers': 91,\n",
       " 'press': 92,\n",
       " '9': 93,\n",
       " 'copy': 94,\n",
       " 'friends': 95,\n",
       " 'winner': 96,\n",
       " 'valued': 97,\n",
       " 'network': 98,\n",
       " 'customer': 99,\n",
       " 'selected': 100,\n",
       " 'receivea': 101,\n",
       " 'Ã¥Â£900': 102,\n",
       " 'prize': 103,\n",
       " 'reward': 104,\n",
       " 'claim': 105,\n",
       " 'call': 106,\n",
       " '09061701461': 107,\n",
       " 'code': 108,\n",
       " 'kl341': 109,\n",
       " 'valid': 110,\n",
       " '12': 111,\n",
       " 'hours': 112,\n",
       " 'mobile': 113,\n",
       " '11': 114,\n",
       " 'months': 115,\n",
       " 'r': 116,\n",
       " 'entitled': 117,\n",
       " 'update': 118,\n",
       " 'latest': 119,\n",
       " 'colour': 120,\n",
       " 'mobiles': 121,\n",
       " 'camera': 122,\n",
       " 'co': 123,\n",
       " '08002986030': 124,\n",
       " 'im': 125,\n",
       " 'gonna': 126,\n",
       " 'home': 127,\n",
       " 'soon': 128,\n",
       " 'want': 129,\n",
       " 'talk': 130,\n",
       " 'stuff': 131,\n",
       " 'anymore': 132,\n",
       " 'tonight': 133,\n",
       " 'k': 134,\n",
       " 'ive': 135,\n",
       " 'cried': 136,\n",
       " 'enough': 137,\n",
       " 'today': 138,\n",
       " 'six': 139,\n",
       " 'chances': 140,\n",
       " 'cash': 141,\n",
       " '100': 142,\n",
       " '20000': 143,\n",
       " 'pounds': 144,\n",
       " 'csh11': 145,\n",
       " '87575': 146,\n",
       " 'cost': 147,\n",
       " '150pday': 148,\n",
       " '6days': 149,\n",
       " '16': 150,\n",
       " 'tsandcs': 151,\n",
       " 'reply': 152,\n",
       " 'hl': 153,\n",
       " '4': 154,\n",
       " 'info': 155,\n",
       " 'urgent': 156,\n",
       " '1': 157,\n",
       " 'week': 158,\n",
       " 'membership': 159,\n",
       " 'Ã¥Â£100000': 160,\n",
       " 'jackpot': 161,\n",
       " '81010': 162,\n",
       " 'tc': 163,\n",
       " 'wwwdbuknet': 164,\n",
       " 'lccltd': 165,\n",
       " 'pobox': 166,\n",
       " '4403ldnw1a7rw18': 167,\n",
       " 'searching': 168,\n",
       " 'right': 169,\n",
       " 'words': 170,\n",
       " 'thank': 171,\n",
       " 'breather': 172,\n",
       " 'promise': 173,\n",
       " 'wont': 174,\n",
       " 'take': 175,\n",
       " 'help': 176,\n",
       " 'granted': 177,\n",
       " 'fulfil': 178,\n",
       " 'wonderful': 179,\n",
       " 'blessing': 180,\n",
       " 'times': 181,\n",
       " 'date': 182,\n",
       " 'sunday': 183,\n",
       " 'xxxmobilemovieclub': 184,\n",
       " 'use': 185,\n",
       " 'credit': 186,\n",
       " 'click': 187,\n",
       " 'wap': 188,\n",
       " 'link': 189,\n",
       " 'next': 190,\n",
       " 'message': 191,\n",
       " 'httpwap': 192,\n",
       " 'xxxmobilemovieclubcomnqjkgighjjgcbl': 193,\n",
       " 'oh': 194,\n",
       " 'kim': 195,\n",
       " 'watching': 196,\n",
       " 'eh': 197,\n",
       " 'remember': 198,\n",
       " 'spell': 199,\n",
       " 'name': 200,\n",
       " 'yes': 201,\n",
       " 'v': 202,\n",
       " 'naughty': 203,\n",
       " 'make': 204,\n",
       " 'wet': 205,\n",
       " 'fine': 206,\n",
       " 'thatÃ¥Ãµs': 207,\n",
       " 'way': 208,\n",
       " 'feel': 209,\n",
       " 'gota': 210,\n",
       " 'b': 211,\n",
       " 'england': 212,\n",
       " 'macedonia': 213,\n",
       " 'miss': 214,\n",
       " 'goalsteam': 215,\n",
       " 'news': 216,\n",
       " 'ur': 217,\n",
       " 'national': 218,\n",
       " 'team': 219,\n",
       " '87077': 220,\n",
       " 'eg': 221,\n",
       " 'trywales': 222,\n",
       " 'scotland': 223,\n",
       " '4txtÃ¬Â¼120': 224,\n",
       " 'poboxox36504w45wq': 225,\n",
       " 'seriously': 226,\n",
       " 'iÂ\\x89Ã»Ã·m': 227,\n",
       " 'going': 228,\n",
       " 'try': 229,\n",
       " 'ha': 230,\n",
       " 'Ã¬': 231,\n",
       " 'pay': 232,\n",
       " 'first': 233,\n",
       " 'da': 234,\n",
       " 'stock': 235,\n",
       " 'comin': 236,\n",
       " 'aft': 237,\n",
       " 'finish': 238,\n",
       " 'lunch': 239,\n",
       " 'str': 240,\n",
       " 'lor': 241,\n",
       " 'ard': 242,\n",
       " 'smth': 243,\n",
       " 'ffffffffff': 244,\n",
       " 'alright': 245,\n",
       " 'meet': 246,\n",
       " 'sooner': 247,\n",
       " 'forced': 248,\n",
       " 'eat': 249,\n",
       " 'slice': 250,\n",
       " 'really': 251,\n",
       " 'hungry': 252,\n",
       " 'tho': 253,\n",
       " 'sucks': 254,\n",
       " 'mark': 255,\n",
       " 'getting': 256,\n",
       " 'worried': 257,\n",
       " 'knows': 258,\n",
       " 'sick': 259,\n",
       " 'turn': 260,\n",
       " 'pizza': 261,\n",
       " 'lol': 262,\n",
       " 'always': 263,\n",
       " 'convincing': 264,\n",
       " 'catch': 265,\n",
       " 'bus': 266,\n",
       " 'frying': 267,\n",
       " 'egg': 268,\n",
       " 'tea': 269,\n",
       " 'eating': 270,\n",
       " 'moms': 271,\n",
       " 'left': 272,\n",
       " 'dinner': 273,\n",
       " 'love': 274,\n",
       " 'amp': 275,\n",
       " 'packing': 276,\n",
       " 'car': 277,\n",
       " 'ill': 278,\n",
       " 'let': 279,\n",
       " 'know': 280,\n",
       " 'theres': 281,\n",
       " 'room': 282,\n",
       " 'ahhh': 283,\n",
       " 'work': 284,\n",
       " 'vaguely': 285,\n",
       " 'wait': 286,\n",
       " 'thats': 287,\n",
       " 'clear': 288,\n",
       " 'sure': 289,\n",
       " 'sarcastic': 290,\n",
       " 'x': 291,\n",
       " 'doesnt': 292,\n",
       " 'live': 293,\n",
       " 'us': 294,\n",
       " 'yeah': 295,\n",
       " 'apologetic': 296,\n",
       " 'fallen': 297,\n",
       " 'actin': 298,\n",
       " 'spoilt': 299,\n",
       " 'child': 300,\n",
       " 'caught': 301,\n",
       " 'till': 302,\n",
       " 'badly': 303,\n",
       " 'cheers': 304,\n",
       " 'tell': 305,\n",
       " 'anything': 306,\n",
       " 'fear': 307,\n",
       " 'fainting': 308,\n",
       " 'housework': 309,\n",
       " 'quick': 310,\n",
       " 'cuppa': 311,\n",
       " 'thanks': 312,\n",
       " 'subscription': 313,\n",
       " 'ringtone': 314,\n",
       " 'uk': 315,\n",
       " 'charged': 316,\n",
       " 'Ã¥Â£5month': 317,\n",
       " 'please': 318,\n",
       " 'confirm': 319,\n",
       " 'replying': 320,\n",
       " 'yup': 321,\n",
       " 'look': 322,\n",
       " 'timings': 323,\n",
       " 'msg': 324,\n",
       " 'xuhui': 325,\n",
       " 'learn': 326,\n",
       " '2nd': 327,\n",
       " 'lesson': 328,\n",
       " '8am': 329,\n",
       " 'oops': 330,\n",
       " 'roommates': 331,\n",
       " 'done': 332,\n",
       " 'see': 333,\n",
       " 'letter': 334,\n",
       " 'decide': 335,\n",
       " 'hello': 336,\n",
       " 'hows': 337,\n",
       " 'saturday': 338,\n",
       " 'texting': 339,\n",
       " 'youd': 340,\n",
       " 'decided': 341,\n",
       " 'tomo': 342,\n",
       " 'trying': 343,\n",
       " 'invite': 344,\n",
       " 'pls': 345,\n",
       " 'ahead': 346,\n",
       " 'watts': 347,\n",
       " 'wanted': 348,\n",
       " 'weekend': 349,\n",
       " 'abiola': 350,\n",
       " 'forget': 351,\n",
       " 'need': 352,\n",
       " 'crave': 353,\n",
       " 'sweet': 354,\n",
       " 'arabian': 355,\n",
       " 'steed': 356,\n",
       " 'mmmmmm': 357,\n",
       " 'yummy': 358,\n",
       " '07732584351': 359,\n",
       " 'rodger': 360,\n",
       " 'burns': 361,\n",
       " 'tried': 362,\n",
       " 'sms': 363,\n",
       " 'nokia': 364,\n",
       " 'camcorder': 365,\n",
       " '08000930705': 366,\n",
       " 'delivery': 367,\n",
       " 'tomorrow': 368,\n",
       " 'seeing': 369,\n",
       " 'hope': 370,\n",
       " 'man': 371,\n",
       " 'well': 372,\n",
       " 'endowed': 373,\n",
       " 'ltgt': 374,\n",
       " 'inches': 375,\n",
       " 'callsmessagesmissed': 376,\n",
       " 'calls': 377,\n",
       " 'didnt': 378,\n",
       " 'get': 379,\n",
       " 'hep': 380,\n",
       " 'immunisation': 381,\n",
       " 'nigeria': 382,\n",
       " 'fair': 383,\n",
       " 'hopefully': 384,\n",
       " 'tyler': 385,\n",
       " 'cant': 386,\n",
       " 'could': 387,\n",
       " 'maybe': 388,\n",
       " 'ask': 389,\n",
       " 'bit': 390,\n",
       " 'stubborn': 391,\n",
       " 'hospital': 392,\n",
       " 'kept': 393,\n",
       " 'telling': 394,\n",
       " 'weak': 395,\n",
       " 'sucker': 396,\n",
       " 'hospitals': 397,\n",
       " 'suckers': 398,\n",
       " 'thinked': 399,\n",
       " 'time': 400,\n",
       " 'saw': 401,\n",
       " 'class': 402,\n",
       " 'gram': 403,\n",
       " 'usually': 404,\n",
       " 'runs': 405,\n",
       " 'half': 406,\n",
       " 'eighth': 407,\n",
       " 'smarter': 408,\n",
       " 'gets': 409,\n",
       " 'almost': 410,\n",
       " 'whole': 411,\n",
       " 'second': 412,\n",
       " 'fyi': 413,\n",
       " 'ride': 414,\n",
       " 'morning': 415,\n",
       " 'hes': 416,\n",
       " 'crashing': 417,\n",
       " 'place': 418,\n",
       " 'wow': 419,\n",
       " 'never': 420,\n",
       " 'realized': 421,\n",
       " 'embarassed': 422,\n",
       " 'accomodations': 423,\n",
       " 'thought': 424,\n",
       " 'liked': 425,\n",
       " 'since': 426,\n",
       " 'best': 427,\n",
       " 'seemed': 428,\n",
       " 'happy': 429,\n",
       " 'cave': 430,\n",
       " 'sorry': 431,\n",
       " 'give': 432,\n",
       " 'offered': 433,\n",
       " 'embarassing': 434,\n",
       " 'ac': 435,\n",
       " 'sptv': 436,\n",
       " 'new': 437,\n",
       " 'jersey': 438,\n",
       " 'devils': 439,\n",
       " 'detroit': 440,\n",
       " 'red': 441,\n",
       " 'wings': 442,\n",
       " 'play': 443,\n",
       " 'ice': 444,\n",
       " 'hockey': 445,\n",
       " 'correct': 446,\n",
       " 'incorrect': 447,\n",
       " 'end': 448,\n",
       " 'mallika': 449,\n",
       " 'sherawat': 450,\n",
       " 'yesterday': 451,\n",
       " 'find': 452,\n",
       " 'lturlgt': 453,\n",
       " 'congrats': 454,\n",
       " 'year': 455,\n",
       " 'special': 456,\n",
       " 'cinema': 457,\n",
       " 'pass': 458,\n",
       " '09061209465': 459,\n",
       " 'suprman': 460,\n",
       " 'matrix3': 461,\n",
       " 'starwars3': 462,\n",
       " 'etc': 463,\n",
       " 'bx420ip45we': 464,\n",
       " '150pm': 465,\n",
       " 'later': 466,\n",
       " 'meeting': 467,\n",
       " 'reached': 468,\n",
       " 'yesgauti': 469,\n",
       " 'sehwag': 470,\n",
       " 'odi': 471,\n",
       " 'series': 472,\n",
       " 'pick': 473,\n",
       " 'burger': 474,\n",
       " 'move': 475,\n",
       " 'pain': 476,\n",
       " 'killing': 477,\n",
       " 'good': 478,\n",
       " 'joke': 479,\n",
       " 'girls': 480,\n",
       " 'situation': 481,\n",
       " 'seekers': 482,\n",
       " 'part': 483,\n",
       " 'checking': 484,\n",
       " 'iq': 485,\n",
       " 'took': 486,\n",
       " 'forever': 487,\n",
       " 'come': 488,\n",
       " 'double': 489,\n",
       " 'check': 490,\n",
       " 'hair': 491,\n",
       " 'dresser': 492,\n",
       " 'said': 493,\n",
       " 'wun': 494,\n",
       " 'cut': 495,\n",
       " 'short': 496,\n",
       " 'nice': 497,\n",
       " 'pleased': 498,\n",
       " 'advise': 499,\n",
       " 'following': 500,\n",
       " 'recent': 501,\n",
       " 'review': 502,\n",
       " 'mob': 503,\n",
       " 'awarded': 504,\n",
       " 'Ã¥Â£1500': 505,\n",
       " 'bonus': 506,\n",
       " '09066364589': 507,\n",
       " 'song': 508,\n",
       " 'dedicated': 509,\n",
       " 'day': 510,\n",
       " 'dedicate': 511,\n",
       " 'valuable': 512,\n",
       " 'frnds': 513,\n",
       " 'rply': 514,\n",
       " 'complimentary': 515,\n",
       " 'trip': 516,\n",
       " 'eurodisinc': 517,\n",
       " 'trav': 518,\n",
       " 'acoentry41': 519,\n",
       " 'Ã¥Â£1000': 520,\n",
       " 'dis': 521,\n",
       " '186Ã¥Â£150morefrmmob': 522,\n",
       " 'shracomorsglsuplt10': 523,\n",
       " 'ls1': 524,\n",
       " '3aj': 525,\n",
       " 'hear': 526,\n",
       " 'divorce': 527,\n",
       " 'barbie': 528,\n",
       " 'comes': 529,\n",
       " 'kens': 530,\n",
       " 'plane': 531,\n",
       " 'month': 532,\n",
       " 'wah': 533,\n",
       " 'lucky': 534,\n",
       " 'save': 535,\n",
       " 'money': 536,\n",
       " 'hee': 537,\n",
       " 'finished': 538,\n",
       " 'hi': 539,\n",
       " 'babe': 540,\n",
       " 'wanna': 541,\n",
       " 'something': 542,\n",
       " 'xx': 543,\n",
       " 'kkwhere': 544,\n",
       " 'youhow': 545,\n",
       " 'performed': 546,\n",
       " 'waiting': 547,\n",
       " 'machan': 548,\n",
       " 'cool': 549,\n",
       " 'gentleman': 550,\n",
       " 'dignity': 551,\n",
       " 'respect': 552,\n",
       " 'peoples': 553,\n",
       " 'much': 554,\n",
       " 'shy': 555,\n",
       " 'pa': 556,\n",
       " 'operate': 557,\n",
       " 'looking': 558,\n",
       " 'job': 559,\n",
       " 'tas': 560,\n",
       " 'earn': 561,\n",
       " 'ah': 562,\n",
       " 'stop': 563,\n",
       " 'urgnt': 564,\n",
       " 'real': 565,\n",
       " 'yo': 566,\n",
       " 'tickets': 567,\n",
       " 'one': 568,\n",
       " 'jacket': 569,\n",
       " 'used': 570,\n",
       " 'multis': 571,\n",
       " 'started': 572,\n",
       " 'requests': 573,\n",
       " 'came': 574,\n",
       " 'bed': 575,\n",
       " 'coins': 576,\n",
       " 'factory': 577,\n",
       " 'gotta': 578,\n",
       " 'nitros': 579,\n",
       " 'ela': 580,\n",
       " 'kanoil': 581,\n",
       " 'download': 582,\n",
       " 'wen': 583,\n",
       " 'donÂ\\x89Ã»Ã·t': 584,\n",
       " 'stand': 585,\n",
       " 'close': 586,\n",
       " 'youÂ\\x89Ã»Ã·ll': 587,\n",
       " 'another': 588,\n",
       " 'night': 589,\n",
       " 'spent': 590,\n",
       " 'late': 591,\n",
       " 'afternoon': 592,\n",
       " 'casualty': 593,\n",
       " 'means': 594,\n",
       " 'havent': 595,\n",
       " 'stuff42moro': 596,\n",
       " 'includes': 597,\n",
       " 'sheets': 598,\n",
       " 'smile': 599,\n",
       " 'pleasure': 600,\n",
       " 'trouble': 601,\n",
       " 'pours': 602,\n",
       " 'rain': 603,\n",
       " 'sum1': 604,\n",
       " 'hurts': 605,\n",
       " 'becoz': 606,\n",
       " 'someone': 607,\n",
       " 'loves': 608,\n",
       " 'smiling': 609,\n",
       " 'service': 610,\n",
       " 'representative': 611,\n",
       " '0800': 612,\n",
       " '169': 613,\n",
       " '6031': 614,\n",
       " '10am9pm': 615,\n",
       " 'guaranteed': 616,\n",
       " 'Ã¥Â£5000': 617,\n",
       " 'planning': 618,\n",
       " 'buy': 619,\n",
       " 'lido': 620,\n",
       " '530': 621,\n",
       " 'show': 622,\n",
       " 'collected': 623,\n",
       " 'simply': 624,\n",
       " 'password': 625,\n",
       " 'mix': 626,\n",
       " '85069': 627,\n",
       " 'verify': 628,\n",
       " 'usher': 629,\n",
       " 'britney': 630,\n",
       " 'fml': 631,\n",
       " 'telugu': 632,\n",
       " 'moviewat': 633,\n",
       " 'abt': 634,\n",
       " 'loads': 635,\n",
       " 'loans': 636,\n",
       " 'wk': 637,\n",
       " 'hols': 638,\n",
       " 'run': 639,\n",
       " 'forgot': 640,\n",
       " 'hairdressers': 641,\n",
       " 'appointment': 642,\n",
       " 'four': 643,\n",
       " 'shower': 644,\n",
       " 'beforehand': 645,\n",
       " 'cause': 646,\n",
       " 'prob': 647,\n",
       " 'ham': 648,\n",
       " 'nothing': 649,\n",
       " 'else': 650,\n",
       " 'okay': 651,\n",
       " 'price': 652,\n",
       " 'long': 653,\n",
       " 'legal': 654,\n",
       " 'ave': 655,\n",
       " 'ams': 656,\n",
       " 'gone': 657,\n",
       " '4the': 658,\n",
       " 'driving': 659,\n",
       " 'test': 660,\n",
       " 'yet': 661,\n",
       " 'youre': 662,\n",
       " 'mean': 663,\n",
       " 'guess': 664,\n",
       " 'gave': 665,\n",
       " 'boston': 666,\n",
       " 'men': 667,\n",
       " 'changed': 668,\n",
       " 'search': 669,\n",
       " 'location': 670,\n",
       " 'nyc': 671,\n",
       " 'cuz': 672,\n",
       " 'signin': 673,\n",
       " 'page': 674,\n",
       " 'says': 675,\n",
       " 'umma': 676,\n",
       " 'life': 677,\n",
       " 'vava': 678,\n",
       " 'lot': 679,\n",
       " 'dear': 680,\n",
       " 'wishes': 681,\n",
       " 'birthday': 682,\n",
       " 'making': 683,\n",
       " 'truly': 684,\n",
       " 'memorable': 685,\n",
       " 'aight': 686,\n",
       " 'hit': 687,\n",
       " 'would': 688,\n",
       " 'ip': 689,\n",
       " 'address': 690,\n",
       " 'considering': 691,\n",
       " 'computer': 692,\n",
       " 'isnt': 693,\n",
       " 'minecraft': 694,\n",
       " 'server': 695,\n",
       " 'grumpy': 696,\n",
       " 'old': 697,\n",
       " 'people': 698,\n",
       " 'mom': 699,\n",
       " 'better': 700,\n",
       " 'lying': 701,\n",
       " 'jokes': 702,\n",
       " 'worry': 703,\n",
       " 'busy': 704,\n",
       " 'plural': 705,\n",
       " 'noun': 706,\n",
       " 'research': 707,\n",
       " 'dinnermsg': 708,\n",
       " 'cos': 709,\n",
       " 'things': 710,\n",
       " 'scared': 711,\n",
       " 'mah': 712,\n",
       " 'loud': 713,\n",
       " 'gent': 714,\n",
       " 'contact': 715,\n",
       " 'last': 716,\n",
       " 'weekends': 717,\n",
       " 'draw': 718,\n",
       " 'shows': 719,\n",
       " '09064012160': 720,\n",
       " 'k52': 721,\n",
       " '12hrs': 722,\n",
       " '150ppm': 723,\n",
       " 'wa': 724,\n",
       " 'openin': 725,\n",
       " 'sentence': 726,\n",
       " 'formal': 727,\n",
       " 'anyway': 728,\n",
       " 'juz': 729,\n",
       " 'tt': 730,\n",
       " 'eatin': 731,\n",
       " 'puttin': 732,\n",
       " 'weighthaha': 733,\n",
       " 'anythin': 734,\n",
       " 'happened': 735,\n",
       " 'entered': 736,\n",
       " 'cabin': 737,\n",
       " 'bday': 738,\n",
       " 'boss': 739,\n",
       " 'felt': 740,\n",
       " 'askd': 741,\n",
       " 'invited': 742,\n",
       " 'apartment': 743,\n",
       " 'went': 744,\n",
       " 'specially': 745,\n",
       " 'holiday': 746,\n",
       " 'flights': 747,\n",
       " 'inc': 748,\n",
       " 'operator': 749,\n",
       " '0871277810910pmin': 750,\n",
       " '18': 751,\n",
       " 'goodo': 752,\n",
       " 'must': 753,\n",
       " 'friday': 754,\n",
       " 'eggpotato': 755,\n",
       " 'ratio': 756,\n",
       " 'tortilla': 757,\n",
       " 'needed': 758,\n",
       " 'hmmmy': 759,\n",
       " 'uncle': 760,\n",
       " 'informed': 761,\n",
       " 'paying': 762,\n",
       " 'school': 763,\n",
       " 'directly': 764,\n",
       " 'food': 765,\n",
       " 'private': 766,\n",
       " '2004': 767,\n",
       " 'account': 768,\n",
       " 'statement': 769,\n",
       " '07742676969': 770,\n",
       " '786': 771,\n",
       " 'unredeemed': 772,\n",
       " 'points': 773,\n",
       " '08719180248': 774,\n",
       " 'identifier': 775,\n",
       " '45239': 776,\n",
       " 'expires': 777,\n",
       " 'Ã¥Â£2000': 778,\n",
       " 'caller': 779,\n",
       " '5903': 780,\n",
       " 'landline': 781,\n",
       " '09064019788': 782,\n",
       " 'box42wr29c': 783,\n",
       " 'applespairsall': 784,\n",
       " 'malarky': 785,\n",
       " 'todays': 786,\n",
       " 'voda': 787,\n",
       " 'numbers': 788,\n",
       " 'ending': 789,\n",
       " '7548': 790,\n",
       " '350': 791,\n",
       " 'award': 792,\n",
       " 'match': 793,\n",
       " '08712300220': 794,\n",
       " 'quoting': 795,\n",
       " '4041': 796,\n",
       " 'standard': 797,\n",
       " 'rates': 798,\n",
       " 'app': 799,\n",
       " 'sao': 800,\n",
       " 'mu': 801,\n",
       " 'Ã¬Ã¯': 802,\n",
       " 'predict': 803,\n",
       " 'Ã¬ll': 804,\n",
       " 'buying': 805,\n",
       " 'knowyetunde': 806,\n",
       " 'hasnt': 807,\n",
       " 'sent': 808,\n",
       " 'bother': 809,\n",
       " 'sending': 810,\n",
       " 'involve': 811,\n",
       " 'shouldnt': 812,\n",
       " 'imposed': 813,\n",
       " 'apologise': 814,\n",
       " 'girl': 815,\n",
       " 'del': 816,\n",
       " 'bak': 817,\n",
       " 'sum': 818,\n",
       " 'lucyxx': 819,\n",
       " 'kkhow': 820,\n",
       " 'tmorrowpls': 821,\n",
       " 'accomodate': 822,\n",
       " 'answer': 823,\n",
       " 'question': 824,\n",
       " 'sunshine': 825,\n",
       " 'quiz': 826,\n",
       " 'q': 827,\n",
       " 'top': 828,\n",
       " 'sony': 829,\n",
       " 'dvd': 830,\n",
       " 'player': 831,\n",
       " 'country': 832,\n",
       " 'algarve': 833,\n",
       " 'ansr': 834,\n",
       " '82277': 835,\n",
       " 'sptyrone': 836,\n",
       " 'laid': 837,\n",
       " 'dogging': 838,\n",
       " 'locations': 839,\n",
       " 'direct': 840,\n",
       " 'join': 841,\n",
       " 'uks': 842,\n",
       " 'largest': 843,\n",
       " 'bt': 844,\n",
       " 'txting': 845,\n",
       " 'gravel': 846,\n",
       " '69888': 847,\n",
       " 'nt': 848,\n",
       " 'ec2a': 849,\n",
       " '31pmsg150p': 850,\n",
       " 'haf': 851,\n",
       " 'msn': 852,\n",
       " 'yijuehotmailcom': 853,\n",
       " 'rooms': 854,\n",
       " 'befor': 855,\n",
       " 'activities': 856,\n",
       " 'youll': 857,\n",
       " 'msgs': 858,\n",
       " 'chat': 859,\n",
       " 'svc': 860,\n",
       " 'hardcore': 861,\n",
       " 'services': 862,\n",
       " '69988': 863,\n",
       " 'age': 864,\n",
       " 'yr': 865,\n",
       " 'lazy': 866,\n",
       " 'type': 867,\n",
       " 'lect': 868,\n",
       " 'pouch': 869,\n",
       " 'sir': 870,\n",
       " 'mail': 871,\n",
       " 'swt': 872,\n",
       " 'nver': 873,\n",
       " 'tired': 874,\n",
       " 'little': 875,\n",
       " 'lovable': 876,\n",
       " 'persons': 877,\n",
       " 'cozsomtimes': 878,\n",
       " 'occupy': 879,\n",
       " 'biggest': 880,\n",
       " 'hearts': 881,\n",
       " 'gud': 882,\n",
       " 'ni8': 883,\n",
       " 'open': 884,\n",
       " 'ya': 885,\n",
       " 'dot': 886,\n",
       " 'whats': 887,\n",
       " 'staff': 888,\n",
       " 'taking': 889,\n",
       " 'replied': 890,\n",
       " 'randy': 891,\n",
       " 'sexy': 892,\n",
       " 'female': 893,\n",
       " 'local': 894,\n",
       " 'luv': 895,\n",
       " 'netcollex': 896,\n",
       " 'ltd': 897,\n",
       " '08700621170150p': 898,\n",
       " 'ummmawill': 899,\n",
       " 'inour': 900,\n",
       " 'begin': 901,\n",
       " 'qatar': 902,\n",
       " 'pray': 903,\n",
       " 'hard': 904,\n",
       " 'ki': 905,\n",
       " 'deleted': 906,\n",
       " 'sindu': 907,\n",
       " 'birla': 908,\n",
       " 'soft': 909,\n",
       " 'wine': 910,\n",
       " 'flowing': 911,\n",
       " 'nevering': 912,\n",
       " 'thk': 913,\n",
       " 'plaza': 914,\n",
       " 'typical': 915,\n",
       " 'everywhere': 916,\n",
       " 'dirt': 917,\n",
       " 'floor': 918,\n",
       " 'windows': 919,\n",
       " 'shirt': 920,\n",
       " 'sometimes': 921,\n",
       " 'mouth': 922,\n",
       " 'dream': 923,\n",
       " 'without': 924,\n",
       " 'chores': 925,\n",
       " 'joy': 926,\n",
       " 'lots': 927,\n",
       " 'tv': 928,\n",
       " 'exist': 929,\n",
       " 'hail': 930,\n",
       " 'mist': 931,\n",
       " 'become': 932,\n",
       " 'aaooooright': 933,\n",
       " 'leaving': 934,\n",
       " 'house': 935,\n",
       " 'interview': 936,\n",
       " 'boy': 937,\n",
       " 'meare': 938,\n",
       " 'missing': 939,\n",
       " 'annoncement': 940,\n",
       " 'years': 941,\n",
       " '07046744435': 942,\n",
       " 'arrange': 943,\n",
       " '0871277810810': 944,\n",
       " 'keep': 945,\n",
       " 'safe': 946,\n",
       " 'envy': 947,\n",
       " 'everyone': 948,\n",
       " 'sees': 949,\n",
       " 'parentsi': 950,\n",
       " 'hand': 951,\n",
       " 'excited': 952,\n",
       " 'spend': 953,\n",
       " 'bootydelious': 954,\n",
       " '32f': 955,\n",
       " 'inviting': 956,\n",
       " 'friend': 957,\n",
       " 'yes434': 958,\n",
       " 'no434': 959,\n",
       " 'wwwsmsacubootydelious': 960,\n",
       " 'frnd': 961,\n",
       " '62468': 962,\n",
       " 'bangbabes': 963,\n",
       " 'order': 964,\n",
       " 'content': 965,\n",
       " 'goto': 966,\n",
       " 'bangb': 967,\n",
       " 'internetservice': 968,\n",
       " 'menu': 969,\n",
       " 'cultures': 970,\n",
       " 'module': 971,\n",
       " '09061701939': 972,\n",
       " 's89': 973,\n",
       " 'avoid': 974,\n",
       " 'missunderstding': 975,\n",
       " 'wit': 976,\n",
       " 'beloved': 977,\n",
       " 'ones': 978,\n",
       " 'escape': 979,\n",
       " 'fancy': 980,\n",
       " 'bridge': 981,\n",
       " 'needs': 982,\n",
       " 'lager': 983,\n",
       " 'completely': 984,\n",
       " 'formclark': 985,\n",
       " 'also': 986,\n",
       " 'utter': 987,\n",
       " 'waste': 988,\n",
       " 'axis': 989,\n",
       " 'bank': 990,\n",
       " 'hmmm': 991,\n",
       " 'hop': 992,\n",
       " 'muz': 993,\n",
       " 'discuss': 994,\n",
       " 'liao': 995,\n",
       " 'coming': 996,\n",
       " 'bloody': 997,\n",
       " 'hell': 998,\n",
       " 'believe': 999,\n",
       " 'surname': 1000,\n",
       " ...}"
      ]
     },
     "execution_count": 20,
     "metadata": {},
     "output_type": "execute_result"
    }
   ],
   "source": [
    "dictionary"
   ]
  },
  {
   "cell_type": "code",
   "execution_count": 21,
   "id": "c50a721f",
   "metadata": {
    "execution": {
     "iopub.execute_input": "2022-03-05T23:37:03.383601Z",
     "iopub.status.busy": "2022-03-05T23:37:03.357714Z",
     "iopub.status.idle": "2022-03-05T23:37:03.398823Z",
     "shell.execute_reply": "2022-03-05T23:37:03.398339Z",
     "shell.execute_reply.started": "2022-03-05T23:08:32.591922Z"
    },
    "papermill": {
     "duration": 0.079154,
     "end_time": "2022-03-05T23:37:03.398945",
     "exception": false,
     "start_time": "2022-03-05T23:37:03.319791",
     "status": "completed"
    },
    "tags": []
   },
   "outputs": [
    {
     "data": {
      "text/plain": [
       "['yes', 'princess', 'going', 'make', 'moan']"
      ]
     },
     "execution_count": 21,
     "metadata": {},
     "output_type": "execute_result"
    }
   ],
   "source": [
    "x_valid.reset_index()[\"text\"].loc[0].split() "
   ]
  },
  {
   "cell_type": "code",
   "execution_count": 22,
   "id": "fa0c5b54",
   "metadata": {
    "execution": {
     "iopub.execute_input": "2022-03-05T23:37:03.383601Z",
     "iopub.status.busy": "2022-03-05T23:37:03.357714Z",
     "iopub.status.idle": "2022-03-05T23:37:03.398823Z",
     "shell.execute_reply": "2022-03-05T23:37:03.398339Z",
     "shell.execute_reply.started": "2022-03-05T23:08:32.591922Z"
    },
    "papermill": {
     "duration": 0.079154,
     "end_time": "2022-03-05T23:37:03.398945",
     "exception": false,
     "start_time": "2022-03-05T23:37:03.319791",
     "status": "completed"
    },
    "tags": []
   },
   "outputs": [
    {
     "name": "stdout",
     "output_type": "stream",
     "text": [
      "201\n",
      "1986\n",
      "228\n",
      "204\n",
      "2021\n"
     ]
    }
   ],
   "source": [
    "for word in x_valid.reset_index()[\"text\"].loc[0].split() :\n",
    "    print(dictionary[word])"
   ]
  },
  {
   "cell_type": "code",
   "execution_count": 23,
   "id": "753eb913",
   "metadata": {
    "execution": {
     "iopub.execute_input": "2022-03-05T23:37:03.383601Z",
     "iopub.status.busy": "2022-03-05T23:37:03.357714Z",
     "iopub.status.idle": "2022-03-05T23:37:03.398823Z",
     "shell.execute_reply": "2022-03-05T23:37:03.398339Z",
     "shell.execute_reply.started": "2022-03-05T23:08:32.591922Z"
    },
    "papermill": {
     "duration": 0.079154,
     "end_time": "2022-03-05T23:37:03.398945",
     "exception": false,
     "start_time": "2022-03-05T23:37:03.319791",
     "status": "completed"
    },
    "tags": []
   },
   "outputs": [
    {
     "data": {
      "text/plain": [
       "tensor([ 201, 1986,  228,  204, 2021,    0,    0,    0,    0,    0,    0,    0,\n",
       "           0,    0,    0,    0,    0,    0,    0,    0,    0,    0,    0,    0,\n",
       "           0,    0,    0,    0,    0,    0,    0,    0,    0,    0,    0,    0,\n",
       "           0,    0,    0,    0,    0,    0,    0,    0,    0,    0,    0,    0,\n",
       "           0,    0,    0,    0,    0,    0,    0,    0,    0,    0,    0,    0,\n",
       "           0,    0,    0,    0,    0,    0,    0,    0,    0,    0,    0,    0,\n",
       "           0,    0,    0,    0,    0,    0,    0,    0], dtype=torch.int32)"
      ]
     },
     "execution_count": 23,
     "metadata": {},
     "output_type": "execute_result"
    }
   ],
   "source": [
    "x[0]"
   ]
  },
  {
   "cell_type": "code",
   "execution_count": 24,
   "id": "a0a6d67f",
   "metadata": {
    "execution": {
     "iopub.execute_input": "2022-03-05T23:37:03.383601Z",
     "iopub.status.busy": "2022-03-05T23:37:03.357714Z",
     "iopub.status.idle": "2022-03-05T23:37:03.398823Z",
     "shell.execute_reply": "2022-03-05T23:37:03.398339Z",
     "shell.execute_reply.started": "2022-03-05T23:08:32.591922Z"
    },
    "papermill": {
     "duration": 0.079154,
     "end_time": "2022-03-05T23:37:03.398945",
     "exception": false,
     "start_time": "2022-03-05T23:37:03.319791",
     "status": "completed"
    },
    "tags": []
   },
   "outputs": [
    {
     "data": {
      "text/plain": [
       "0"
      ]
     },
     "execution_count": 24,
     "metadata": {},
     "output_type": "execute_result"
    }
   ],
   "source": [
    "y_valid.reset_index()[\"target\"].loc[0]"
   ]
  },
  {
   "cell_type": "code",
   "execution_count": 25,
   "id": "cd222bfe",
   "metadata": {
    "execution": {
     "iopub.execute_input": "2022-03-05T23:37:03.383601Z",
     "iopub.status.busy": "2022-03-05T23:37:03.357714Z",
     "iopub.status.idle": "2022-03-05T23:37:03.398823Z",
     "shell.execute_reply": "2022-03-05T23:37:03.398339Z",
     "shell.execute_reply.started": "2022-03-05T23:08:32.591922Z"
    },
    "papermill": {
     "duration": 0.079154,
     "end_time": "2022-03-05T23:37:03.398945",
     "exception": false,
     "start_time": "2022-03-05T23:37:03.319791",
     "status": "completed"
    },
    "tags": []
   },
   "outputs": [
    {
     "data": {
      "text/plain": [
       "0"
      ]
     },
     "execution_count": 25,
     "metadata": {},
     "output_type": "execute_result"
    }
   ],
   "source": [
    "y[0].item()"
   ]
  },
  {
   "cell_type": "markdown",
   "id": "ad2866d6",
   "metadata": {
    "papermill": {
     "duration": 0.014335,
     "end_time": "2022-03-05T23:37:03.427502",
     "exception": false,
     "start_time": "2022-03-05T23:37:03.413167",
     "status": "completed"
    },
    "tags": []
   },
   "source": [
    "# 3. Model"
   ]
  },
  {
   "cell_type": "code",
   "execution_count": 26,
   "id": "a512a861",
   "metadata": {
    "execution": {
     "iopub.execute_input": "2022-03-05T23:37:03.466333Z",
     "iopub.status.busy": "2022-03-05T23:37:03.465518Z",
     "iopub.status.idle": "2022-03-05T23:37:03.467416Z",
     "shell.execute_reply": "2022-03-05T23:37:03.467814Z",
     "shell.execute_reply.started": "2022-03-05T23:20:44.372994Z"
    },
    "papermill": {
     "duration": 0.026245,
     "end_time": "2022-03-05T23:37:03.467936",
     "exception": false,
     "start_time": "2022-03-05T23:37:03.441691",
     "status": "completed"
    },
    "tags": []
   },
   "outputs": [
    {
     "data": {
      "text/plain": [
       "(torch.Size([64, 80]), 64)"
      ]
     },
     "execution_count": 26,
     "metadata": {},
     "output_type": "execute_result"
    }
   ],
   "source": [
    "x.shape, len(y)"
   ]
  },
  {
   "cell_type": "code",
   "execution_count": 27,
   "id": "a018efd0",
   "metadata": {
    "execution": {
     "iopub.execute_input": "2022-03-05T23:37:03.466333Z",
     "iopub.status.busy": "2022-03-05T23:37:03.465518Z",
     "iopub.status.idle": "2022-03-05T23:37:03.467416Z",
     "shell.execute_reply": "2022-03-05T23:37:03.467814Z",
     "shell.execute_reply.started": "2022-03-05T23:20:44.372994Z"
    },
    "papermill": {
     "duration": 0.026245,
     "end_time": "2022-03-05T23:37:03.467936",
     "exception": false,
     "start_time": "2022-03-05T23:37:03.441691",
     "status": "completed"
    },
    "tags": []
   },
   "outputs": [
    {
     "name": "stdout",
     "output_type": "stream",
     "text": [
      "TextClassifier(\n",
      "  (dropout): Dropout(p=0.5, inplace=False)\n",
      "  (embedding): Embedding(9432, 256, padding_idx=0)\n",
      "  (lstm): LSTM(256, 512, num_layers=2, batch_first=True, bidirectional=True)\n",
      "  (fc1): Linear(in_features=2048, out_features=512, bias=True)\n",
      "  (fc2): Linear(in_features=512, out_features=1, bias=True)\n",
      ")\n"
     ]
    }
   ],
   "source": [
    "EMBEDDING_DIM = 256\n",
    "HIDDEN_DIM = 512\n",
    "LSTM_LAYERS = 2\n",
    "\n",
    "class TextClassifier(nn.ModuleList):\n",
    "    \"\"\"\n",
    "    LSTM Network definition\n",
    "    \"\"\"\n",
    "    def __init__(self):\n",
    "        super(TextClassifier, self).__init__()\n",
    "\n",
    "        self.batch_size = BATCH_SIZE\n",
    "        self.embedding_dim = EMBEDDING_DIM\n",
    "        self.hidden_dim = HIDDEN_DIM\n",
    "        self.LSTM_layers = LSTM_LAYERS\n",
    "        self.input_size = INPUT_SIZE\n",
    "\n",
    "        self.dropout = nn.Dropout(DROPOUT)\n",
    "        self.embedding = nn.Embedding(num_embeddings=self.input_size, embedding_dim=self.embedding_dim, padding_idx=0)\n",
    "        self.lstm = nn.LSTM(input_size=self.embedding_dim, hidden_size=self.hidden_dim, \n",
    "                            num_layers=self.LSTM_layers, batch_first=True, bidirectional=True)\n",
    "        self.fc1 = nn.Linear(in_features=self.hidden_dim*4, out_features=512)\n",
    "        self.fc2 = nn.Linear(512, 1)\n",
    "    \n",
    "\n",
    "    def forward(self, x):        \n",
    "        embedded = self.embedding(x)\n",
    "        out, (hidden, cell) = self.lstm(embedded)\n",
    "        out = self.dropout(out)\n",
    "        concat_hidden = torch.cat((hidden[0], hidden[1]), dim=1)\n",
    "        concat_cell = torch.cat((cell[0], cell[1]), dim=1)\n",
    "        all_states = torch.cat((concat_hidden, concat_cell), dim=1)\n",
    "        out = torch.relu_(self.fc1(all_states))\n",
    "        out = self.dropout(out)\n",
    "        out = torch.sigmoid(self.fc2(out))\n",
    "        return out.squeeze()\n",
    "\n",
    "# Identify device\n",
    "device = torch.device('cuda' if torch.cuda.is_available() else 'cpu')\n",
    "\n",
    "# Model initialization\n",
    "model = TextClassifier().to(device)\n",
    "print(model)"
   ]
  },
  {
   "cell_type": "code",
   "execution_count": 28,
   "id": "65a1b049",
   "metadata": {
    "execution": {
     "iopub.execute_input": "2022-03-05T23:37:03.586794Z",
     "iopub.status.busy": "2022-03-05T23:37:03.586192Z",
     "iopub.status.idle": "2022-03-05T23:37:07.128124Z",
     "shell.execute_reply": "2022-03-05T23:37:07.127243Z",
     "shell.execute_reply.started": "2022-03-05T23:20:44.868691Z"
    },
    "papermill": {
     "duration": 3.560563,
     "end_time": "2022-03-05T23:37:07.128273",
     "exception": false,
     "start_time": "2022-03-05T23:37:03.567710",
     "status": "completed"
    },
    "tags": []
   },
   "outputs": [
    {
     "data": {
      "text/plain": [
       "torch.Size([64, 80])"
      ]
     },
     "execution_count": 28,
     "metadata": {},
     "output_type": "execute_result"
    }
   ],
   "source": [
    "x.shape"
   ]
  },
  {
   "cell_type": "code",
   "execution_count": 29,
   "id": "94dce69a",
   "metadata": {
    "execution": {
     "iopub.execute_input": "2022-03-05T23:37:03.586794Z",
     "iopub.status.busy": "2022-03-05T23:37:03.586192Z",
     "iopub.status.idle": "2022-03-05T23:37:07.128124Z",
     "shell.execute_reply": "2022-03-05T23:37:07.127243Z",
     "shell.execute_reply.started": "2022-03-05T23:20:44.868691Z"
    },
    "papermill": {
     "duration": 3.560563,
     "end_time": "2022-03-05T23:37:07.128273",
     "exception": false,
     "start_time": "2022-03-05T23:37:03.567710",
     "status": "completed"
    },
    "tags": []
   },
   "outputs": [
    {
     "data": {
      "text/plain": [
       "torch.Size([64])"
      ]
     },
     "execution_count": 29,
     "metadata": {},
     "output_type": "execute_result"
    }
   ],
   "source": [
    "y.shape"
   ]
  },
  {
   "cell_type": "code",
   "execution_count": 30,
   "id": "d87c756a",
   "metadata": {
    "execution": {
     "iopub.execute_input": "2022-03-05T23:37:03.586794Z",
     "iopub.status.busy": "2022-03-05T23:37:03.586192Z",
     "iopub.status.idle": "2022-03-05T23:37:07.128124Z",
     "shell.execute_reply": "2022-03-05T23:37:07.127243Z",
     "shell.execute_reply.started": "2022-03-05T23:20:44.868691Z"
    },
    "papermill": {
     "duration": 3.560563,
     "end_time": "2022-03-05T23:37:07.128273",
     "exception": false,
     "start_time": "2022-03-05T23:37:03.567710",
     "status": "completed"
    },
    "tags": []
   },
   "outputs": [
    {
     "data": {
      "text/plain": [
       "torch.Size([64])"
      ]
     },
     "execution_count": 30,
     "metadata": {},
     "output_type": "execute_result"
    }
   ],
   "source": [
    "model(x.cuda()).shape"
   ]
  },
  {
   "cell_type": "code",
   "execution_count": 31,
   "id": "53ccac1b",
   "metadata": {
    "execution": {
     "iopub.execute_input": "2022-03-05T23:37:03.586794Z",
     "iopub.status.busy": "2022-03-05T23:37:03.586192Z",
     "iopub.status.idle": "2022-03-05T23:37:07.128124Z",
     "shell.execute_reply": "2022-03-05T23:37:07.127243Z",
     "shell.execute_reply.started": "2022-03-05T23:20:44.868691Z"
    },
    "papermill": {
     "duration": 3.560563,
     "end_time": "2022-03-05T23:37:07.128273",
     "exception": false,
     "start_time": "2022-03-05T23:37:03.567710",
     "status": "completed"
    },
    "tags": []
   },
   "outputs": [],
   "source": [
    "# Optimizer initialization\n",
    "optimizer = optim.Adam(model.parameters(), lr=0.001)\n",
    "criterion = torch.nn.BCELoss()"
   ]
  },
  {
   "cell_type": "code",
   "execution_count": 32,
   "id": "fab59a95",
   "metadata": {
    "execution": {
     "iopub.execute_input": "2022-03-05T23:37:07.163020Z",
     "iopub.status.busy": "2022-03-05T23:37:07.162221Z",
     "iopub.status.idle": "2022-03-05T23:37:07.164181Z",
     "shell.execute_reply": "2022-03-05T23:37:07.164589Z",
     "shell.execute_reply.started": "2022-03-05T23:20:48.324670Z"
    },
    "papermill": {
     "duration": 0.021737,
     "end_time": "2022-03-05T23:37:07.164738",
     "exception": false,
     "start_time": "2022-03-05T23:37:07.143001",
     "status": "completed"
    },
    "tags": []
   },
   "outputs": [],
   "source": [
    "def calculate_accuracy_with_selected_threshold(grand_truth, predictions):\n",
    "    \"\"\"\n",
    "    Accuracy calcuation: (tp + tn) / N\n",
    "    \"\"\"\n",
    "    true_positives, true_negatives = 0, 0\n",
    "    fpr, tpr, thr = roc_curve(grand_truth, predictions)\n",
    "    roc = pd.DataFrame({'fpr':fpr, 'tpr':tpr, 'thr':thr});\n",
    "    roc['random'] = roc['fpr'].copy()\n",
    "    roc['diff'] = roc['tpr'] - roc['fpr']\n",
    "    roc = roc.sort_values('diff', ascending=False).reset_index().drop('index', axis=1)\n",
    "    \n",
    "    for true, pred in zip(grand_truth, predictions):\n",
    "        if (pred > roc.loc[0,'thr']) and (true == 1):\n",
    "            true_positives += 1\n",
    "        elif (pred < roc.loc[0,'thr']) and (true == 0):\n",
    "            true_negatives += 1\n",
    "    threshold = roc.loc[0,'thr']\n",
    "    return ((true_positives+true_negatives) / len(grand_truth)), threshold\n",
    "\n",
    "def calculate_accuray_with_point_five(grand_truth, predictions):\n",
    "    \"\"\"\n",
    "    Accuracy calcuation: (tp + tn) / N\n",
    "    \"\"\"\n",
    "    true_positives, true_negatives = 0, 0    \n",
    "    for true, pred in zip(grand_truth, predictions):\n",
    "        if (pred > 0.5) and (true == 1):\n",
    "            true_positives += 1\n",
    "        elif (pred < 0.5) and (true == 0):\n",
    "            true_negatives += 1\n",
    "    return (true_positives+true_negatives) / len(grand_truth)"
   ]
  },
  {
   "cell_type": "code",
   "execution_count": 33,
   "id": "8edba82d",
   "metadata": {
    "execution": {
     "iopub.execute_input": "2022-03-05T23:37:07.196308Z",
     "iopub.status.busy": "2022-03-05T23:37:07.195495Z",
     "iopub.status.idle": "2022-03-05T23:37:16.643896Z",
     "shell.execute_reply": "2022-03-05T23:37:16.644314Z",
     "shell.execute_reply.started": "2022-03-05T23:21:09.145194Z"
    },
    "papermill": {
     "duration": 9.465388,
     "end_time": "2022-03-05T23:37:16.644460",
     "exception": false,
     "start_time": "2022-03-05T23:37:07.179072",
     "status": "completed"
    },
    "tags": []
   },
   "outputs": [
    {
     "name": "stderr",
     "output_type": "stream",
     "text": [
      "training epoch 1: 100%|████████████████████████████████████████████████████████████████| 70/70 [00:07<00:00,  8.89it/s]\n",
      "validation epoch 1: 100%|██████████████████████████████████████████████████████████████| 18/18 [00:00<00:00, 23.49it/s]\n"
     ]
    },
    {
     "name": "stdout",
     "output_type": "stream",
     "text": [
      "epoch: 1, loss: 0.17291, train: 0.86246, valid: 0.94260\n",
      "Valid metrics improved (0.000000 --> 0.942601).  Saving model ...\n",
      "=========================================\n"
     ]
    },
    {
     "name": "stderr",
     "output_type": "stream",
     "text": [
      "training epoch 2: 100%|████████████████████████████████████████████████████████████████| 70/70 [00:07<00:00,  9.01it/s]\n",
      "validation epoch 2: 100%|██████████████████████████████████████████████████████████████| 18/18 [00:00<00:00, 23.38it/s]\n"
     ]
    },
    {
     "name": "stdout",
     "output_type": "stream",
     "text": [
      "epoch: 2, loss: 0.00112, train: 0.97891, valid: 0.93812\n"
     ]
    },
    {
     "name": "stderr",
     "output_type": "stream",
     "text": [
      "training epoch 3: 100%|████████████████████████████████████████████████████████████████| 70/70 [00:07<00:00,  8.96it/s]\n",
      "validation epoch 3: 100%|██████████████████████████████████████████████████████████████| 18/18 [00:00<00:00, 23.28it/s]\n"
     ]
    },
    {
     "name": "stdout",
     "output_type": "stream",
     "text": [
      "epoch: 3, loss: 0.02106, train: 0.99304, valid: 0.98117\n",
      "Valid metrics improved (0.942601 --> 0.981166).  Saving model ...\n",
      "=========================================\n"
     ]
    },
    {
     "name": "stderr",
     "output_type": "stream",
     "text": [
      "training epoch 4: 100%|████████████████████████████████████████████████████████████████| 70/70 [00:07<00:00,  8.95it/s]\n",
      "validation epoch 4: 100%|██████████████████████████████████████████████████████████████| 18/18 [00:00<00:00, 23.26it/s]\n"
     ]
    },
    {
     "name": "stdout",
     "output_type": "stream",
     "text": [
      "epoch: 4, loss: 0.00099, train: 0.99147, valid: 0.98475\n",
      "Valid metrics improved (0.981166 --> 0.984753).  Saving model ...\n",
      "=========================================\n"
     ]
    },
    {
     "name": "stderr",
     "output_type": "stream",
     "text": [
      "training epoch 5: 100%|████████████████████████████████████████████████████████████████| 70/70 [00:07<00:00,  8.95it/s]\n",
      "validation epoch 5: 100%|██████████████████████████████████████████████████████████████| 18/18 [00:00<00:00, 23.25it/s]\n"
     ]
    },
    {
     "name": "stdout",
     "output_type": "stream",
     "text": [
      "epoch: 5, loss: 0.00020, train: 0.99843, valid: 0.97668\n"
     ]
    },
    {
     "name": "stderr",
     "output_type": "stream",
     "text": [
      "training epoch 6: 100%|████████████████████████████████████████████████████████████████| 70/70 [00:07<00:00,  8.94it/s]\n",
      "validation epoch 6: 100%|██████████████████████████████████████████████████████████████| 18/18 [00:00<00:00, 23.28it/s]\n"
     ]
    },
    {
     "name": "stdout",
     "output_type": "stream",
     "text": [
      "epoch: 6, loss: 0.00052, train: 0.99663, valid: 0.96951\n"
     ]
    },
    {
     "name": "stderr",
     "output_type": "stream",
     "text": [
      "training epoch 7: 100%|████████████████████████████████████████████████████████████████| 70/70 [00:07<00:00,  8.93it/s]\n",
      "validation epoch 7: 100%|██████████████████████████████████████████████████████████████| 18/18 [00:00<00:00, 23.31it/s]\n"
     ]
    },
    {
     "name": "stdout",
     "output_type": "stream",
     "text": [
      "epoch: 7, loss: 0.00003, train: 0.99663, valid: 0.98565\n",
      "Valid metrics improved (0.984753 --> 0.985650).  Saving model ...\n",
      "=========================================\n"
     ]
    },
    {
     "name": "stderr",
     "output_type": "stream",
     "text": [
      "training epoch 8: 100%|████████████████████████████████████████████████████████████████| 70/70 [00:07<00:00,  8.95it/s]\n",
      "validation epoch 8: 100%|██████████████████████████████████████████████████████████████| 18/18 [00:00<00:00, 23.34it/s]\n"
     ]
    },
    {
     "name": "stdout",
     "output_type": "stream",
     "text": [
      "epoch: 8, loss: 0.00002, train: 0.99978, valid: 0.98565\n",
      "Valid metrics improved (0.985650 --> 0.985650).  Saving model ...\n",
      "=========================================\n"
     ]
    },
    {
     "name": "stderr",
     "output_type": "stream",
     "text": [
      "training epoch 9: 100%|████████████████████████████████████████████████████████████████| 70/70 [00:07<00:00,  8.94it/s]\n",
      "validation epoch 9: 100%|██████████████████████████████████████████████████████████████| 18/18 [00:00<00:00, 22.57it/s]\n"
     ]
    },
    {
     "name": "stdout",
     "output_type": "stream",
     "text": [
      "epoch: 9, loss: 0.00001, train: 0.99978, valid: 0.98655\n",
      "Valid metrics improved (0.985650 --> 0.986547).  Saving model ...\n",
      "=========================================\n"
     ]
    },
    {
     "name": "stderr",
     "output_type": "stream",
     "text": [
      "training epoch 10: 100%|███████████████████████████████████████████████████████████████| 70/70 [00:07<00:00,  8.91it/s]\n",
      "validation epoch 10: 100%|█████████████████████████████████████████████████████████████| 18/18 [00:00<00:00, 23.03it/s]\n"
     ]
    },
    {
     "name": "stdout",
     "output_type": "stream",
     "text": [
      "epoch: 10, loss: 0.00000, train: 0.99978, valid: 0.98655\n",
      "Valid metrics improved (0.986547 --> 0.986547).  Saving model ...\n",
      "=========================================\n"
     ]
    },
    {
     "name": "stderr",
     "output_type": "stream",
     "text": [
      "training epoch 11: 100%|███████████████████████████████████████████████████████████████| 70/70 [00:07<00:00,  8.93it/s]\n",
      "validation epoch 11: 100%|█████████████████████████████████████████████████████████████| 18/18 [00:00<00:00, 23.26it/s]\n"
     ]
    },
    {
     "name": "stdout",
     "output_type": "stream",
     "text": [
      "epoch: 11, loss: 0.00000, train: 0.99978, valid: 0.98655\n",
      "Valid metrics improved (0.986547 --> 0.986547).  Saving model ...\n",
      "=========================================\n"
     ]
    },
    {
     "name": "stderr",
     "output_type": "stream",
     "text": [
      "training epoch 12: 100%|███████████████████████████████████████████████████████████████| 70/70 [00:07<00:00,  8.95it/s]\n",
      "validation epoch 12: 100%|█████████████████████████████████████████████████████████████| 18/18 [00:00<00:00, 23.19it/s]\n"
     ]
    },
    {
     "name": "stdout",
     "output_type": "stream",
     "text": [
      "epoch: 12, loss: 0.00001, train: 0.99978, valid: 0.98655\n",
      "Valid metrics improved (0.986547 --> 0.986547).  Saving model ...\n",
      "=========================================\n"
     ]
    },
    {
     "name": "stderr",
     "output_type": "stream",
     "text": [
      "training epoch 13: 100%|███████████████████████████████████████████████████████████████| 70/70 [00:07<00:00,  8.96it/s]\n",
      "validation epoch 13: 100%|█████████████████████████████████████████████████████████████| 18/18 [00:00<00:00, 23.28it/s]\n"
     ]
    },
    {
     "name": "stdout",
     "output_type": "stream",
     "text": [
      "epoch: 13, loss: 0.00001, train: 0.99978, valid: 0.98655\n",
      "Valid metrics improved (0.986547 --> 0.986547).  Saving model ...\n",
      "=========================================\n"
     ]
    },
    {
     "name": "stderr",
     "output_type": "stream",
     "text": [
      "training epoch 14:  43%|███████████████████████████                                    | 30/70 [00:03<00:04,  8.65it/s]\n"
     ]
    },
    {
     "ename": "KeyboardInterrupt",
     "evalue": "",
     "output_type": "error",
     "traceback": [
      "\u001b[1;31m---------------------------------------------------------------------------\u001b[0m",
      "\u001b[1;31mKeyboardInterrupt\u001b[0m                         Traceback (most recent call last)",
      "\u001b[1;32m~\\AppData\\Local\\Temp\\ipykernel_8096\\3444586270.py\u001b[0m in \u001b[0;36m<module>\u001b[1;34m\u001b[0m\n\u001b[0;32m     15\u001b[0m \u001b[1;33m\u001b[0m\u001b[0m\n\u001b[0;32m     16\u001b[0m         \u001b[0moptimizer\u001b[0m\u001b[1;33m.\u001b[0m\u001b[0mzero_grad\u001b[0m\u001b[1;33m(\u001b[0m\u001b[1;33m)\u001b[0m\u001b[1;33m\u001b[0m\u001b[1;33m\u001b[0m\u001b[0m\n\u001b[1;32m---> 17\u001b[1;33m         \u001b[0mloss\u001b[0m\u001b[1;33m.\u001b[0m\u001b[0mbackward\u001b[0m\u001b[1;33m(\u001b[0m\u001b[1;33m)\u001b[0m\u001b[1;33m\u001b[0m\u001b[1;33m\u001b[0m\u001b[0m\n\u001b[0m\u001b[0;32m     18\u001b[0m         \u001b[0moptimizer\u001b[0m\u001b[1;33m.\u001b[0m\u001b[0mstep\u001b[0m\u001b[1;33m(\u001b[0m\u001b[1;33m)\u001b[0m\u001b[1;33m\u001b[0m\u001b[1;33m\u001b[0m\u001b[0m\n\u001b[0;32m     19\u001b[0m \u001b[1;33m\u001b[0m\u001b[0m\n",
      "\u001b[1;32m~\\anaconda3\\lib\\site-packages\\torch\\_tensor.py\u001b[0m in \u001b[0;36mbackward\u001b[1;34m(self, gradient, retain_graph, create_graph, inputs)\u001b[0m\n\u001b[0;32m    485\u001b[0m                 \u001b[0minputs\u001b[0m\u001b[1;33m=\u001b[0m\u001b[0minputs\u001b[0m\u001b[1;33m,\u001b[0m\u001b[1;33m\u001b[0m\u001b[1;33m\u001b[0m\u001b[0m\n\u001b[0;32m    486\u001b[0m             )\n\u001b[1;32m--> 487\u001b[1;33m         torch.autograd.backward(\n\u001b[0m\u001b[0;32m    488\u001b[0m             \u001b[0mself\u001b[0m\u001b[1;33m,\u001b[0m \u001b[0mgradient\u001b[0m\u001b[1;33m,\u001b[0m \u001b[0mretain_graph\u001b[0m\u001b[1;33m,\u001b[0m \u001b[0mcreate_graph\u001b[0m\u001b[1;33m,\u001b[0m \u001b[0minputs\u001b[0m\u001b[1;33m=\u001b[0m\u001b[0minputs\u001b[0m\u001b[1;33m\u001b[0m\u001b[1;33m\u001b[0m\u001b[0m\n\u001b[0;32m    489\u001b[0m         )\n",
      "\u001b[1;32m~\\anaconda3\\lib\\site-packages\\torch\\autograd\\__init__.py\u001b[0m in \u001b[0;36mbackward\u001b[1;34m(tensors, grad_tensors, retain_graph, create_graph, grad_variables, inputs)\u001b[0m\n\u001b[0;32m    195\u001b[0m     \u001b[1;31m# some Python versions print out the first line of a multi-line function\u001b[0m\u001b[1;33m\u001b[0m\u001b[1;33m\u001b[0m\u001b[0m\n\u001b[0;32m    196\u001b[0m     \u001b[1;31m# calls in the traceback and some print out the last line\u001b[0m\u001b[1;33m\u001b[0m\u001b[1;33m\u001b[0m\u001b[0m\n\u001b[1;32m--> 197\u001b[1;33m     Variable._execution_engine.run_backward(  # Calls into the C++ engine to run the backward pass\n\u001b[0m\u001b[0;32m    198\u001b[0m         \u001b[0mtensors\u001b[0m\u001b[1;33m,\u001b[0m \u001b[0mgrad_tensors_\u001b[0m\u001b[1;33m,\u001b[0m \u001b[0mretain_graph\u001b[0m\u001b[1;33m,\u001b[0m \u001b[0mcreate_graph\u001b[0m\u001b[1;33m,\u001b[0m \u001b[0minputs\u001b[0m\u001b[1;33m,\u001b[0m\u001b[1;33m\u001b[0m\u001b[1;33m\u001b[0m\u001b[0m\n\u001b[0;32m    199\u001b[0m         allow_unreachable=True, accumulate_grad=True)  # Calls into the C++ engine to run the backward pass\n",
      "\u001b[1;31mKeyboardInterrupt\u001b[0m: "
     ]
    }
   ],
   "source": [
    "# Training\n",
    "EPOCHS = 50\n",
    "valid_accuracy_min = 0\n",
    "for epoch in range(EPOCHS):\n",
    "    model.train()\n",
    "    train_predictions = []\n",
    "    for x_batch, y_batch in tqdm.tqdm(loader_training, desc=f\"training epoch {epoch+1}\"):\n",
    "        \n",
    "        x = x_batch.type(torch.LongTensor).to(device)\n",
    "        y = y_batch.type(torch.FloatTensor).to(device)\n",
    "        \n",
    "        y_pred = model(x)\n",
    "        \n",
    "        loss = criterion(y_pred, y)\n",
    "        \n",
    "        optimizer.zero_grad()\n",
    "        loss.backward()\n",
    "        optimizer.step()\n",
    "        \n",
    "        # Save predictions for metrics calculation\n",
    "        train_predictions += list(y_pred.squeeze().cpu().detach().numpy())\n",
    "    \n",
    "    # Evaluation\n",
    "    with torch.no_grad():\n",
    "        model.eval()\n",
    "        valid_predictions = []\n",
    "        for x_batch, y_batch in tqdm.tqdm(loader_valid, desc=f\"validation epoch {epoch+1}\"):\n",
    "            x = x_batch.type(torch.LongTensor).to(device)\n",
    "            y = y_batch.type(torch.FloatTensor).to(device)\n",
    "            \n",
    "            y_pred = model(x)\n",
    "            # Save predictions for metrics calculation\n",
    "            valid_predictions += list(y_pred.squeeze().cpu().detach().numpy())\n",
    "\n",
    "    train_accuracy = calculate_accuracy_with_selected_threshold(y_train, train_predictions)[0]\n",
    "    valid_accuracy = calculate_accuracy_with_selected_threshold(y_valid, valid_predictions)[0]\n",
    "    print(f\"epoch: {epoch+1}, loss: {loss.item():.5f}, train: {train_accuracy:.5f}, valid: {valid_accuracy:.5f}\")\n",
    "    if valid_accuracy >= valid_accuracy_min:\n",
    "        print('Valid metrics improved ({:.6f} --> {:.6f}).  Saving model ...'.format(valid_accuracy_min,valid_accuracy))\n",
    "        # change the name, for saving multiple files\n",
    "        torch.save(model.state_dict(), 'text_clf.pt')\n",
    "        valid_accuracy_min = valid_accuracy\n",
    "        print(\"=========================================\")"
   ]
  },
  {
   "cell_type": "code",
   "execution_count": 34,
   "id": "e3a0a08d",
   "metadata": {
    "execution": {
     "iopub.execute_input": "2022-03-05T23:37:07.196308Z",
     "iopub.status.busy": "2022-03-05T23:37:07.195495Z",
     "iopub.status.idle": "2022-03-05T23:37:16.643896Z",
     "shell.execute_reply": "2022-03-05T23:37:16.644314Z",
     "shell.execute_reply.started": "2022-03-05T23:21:09.145194Z"
    },
    "papermill": {
     "duration": 9.465388,
     "end_time": "2022-03-05T23:37:16.644460",
     "exception": false,
     "start_time": "2022-03-05T23:37:07.179072",
     "status": "completed"
    },
    "tags": []
   },
   "outputs": [
    {
     "data": {
      "text/plain": [
       "<All keys matched successfully>"
      ]
     },
     "execution_count": 34,
     "metadata": {},
     "output_type": "execute_result"
    }
   ],
   "source": [
    "model.load_state_dict(torch.load('text_clf.pt'))"
   ]
  },
  {
   "cell_type": "code",
   "execution_count": 35,
   "id": "1a846dc0",
   "metadata": {},
   "outputs": [
    {
     "name": "stdout",
     "output_type": "stream",
     "text": [
      "valid accuracy: 0.98655, threshold 0.11150852590799332\n"
     ]
    }
   ],
   "source": [
    "from sklearn.metrics import confusion_matrix\n",
    "with torch.no_grad():\n",
    "    model.eval()\n",
    "    valid_predictions = []\n",
    "    y_true = []\n",
    "    for x_batch, y_batch in loader_valid:\n",
    "        x = x_batch.type(torch.LongTensor).to(device)\n",
    "        y = y_batch.type(torch.FloatTensor).to(device)\n",
    "\n",
    "        y_pred = model(x)\n",
    "        # Save predictions for metrics calculation\n",
    "        y_true += list(y.squeeze().cpu().detach().numpy())\n",
    "        valid_predictions += list(y_pred.squeeze().cpu().detach().numpy())\n",
    "        \n",
    "    valid_accuracy, threhold = calculate_accuracy_with_selected_threshold(y_valid, valid_predictions)\n",
    "    print(f\"valid accuracy: {valid_accuracy:.5f}, threshold {threhold}\")"
   ]
  },
  {
   "cell_type": "code",
   "execution_count": 36,
   "id": "4499749f",
   "metadata": {},
   "outputs": [
    {
     "data": {
      "text/plain": [
       "array([[961,   5],\n",
       "       [ 10, 139]], dtype=int64)"
      ]
     },
     "execution_count": 36,
     "metadata": {},
     "output_type": "execute_result"
    }
   ],
   "source": [
    "predictions = (np.array(valid_predictions) > threhold).astype('int64').tolist()\n",
    "confusion_matrix(y_true, predictions)"
   ]
  },
  {
   "cell_type": "code",
   "execution_count": 37,
   "id": "29d0d26e",
   "metadata": {},
   "outputs": [
    {
     "data": {
      "text/plain": [
       "<AxesSubplot:xlabel='fpr'>"
      ]
     },
     "execution_count": 37,
     "metadata": {},
     "output_type": "execute_result"
    },
    {
     "data": {
      "image/png": "[encoded data removed]",
      "text/plain": [
       "<Figure size 600x400 with 1 Axes>"
      ]
     },
     "metadata": {},
     "output_type": "display_data"
    }
   ],
   "source": [
    "fpr, tpr, thr = roc_curve(y_valid, valid_predictions)\n",
    "roc = pd.DataFrame({'fpr':fpr, 'tpr':tpr, 'thr':thr});\n",
    "roc['random'] = roc['fpr'].copy()\n",
    "roc['diff'] = roc['tpr'] - roc['fpr']\n",
    "roc.plot(x='fpr', y=['tpr','random'], figsize=(6,4), grid=True)"
   ]
  },
  {
   "cell_type": "code",
   "execution_count": 38,
   "id": "96985fdd",
   "metadata": {},
   "outputs": [],
   "source": [
    "roc = roc.sort_values('diff', ascending=False).reset_index().drop('index', axis=1)"
   ]
  },
  {
   "cell_type": "code",
   "execution_count": 39,
   "id": "e451bcd6",
   "metadata": {},
   "outputs": [
    {
     "data": {
      "text/html": [
       "<div>\n",
       "<style scoped>\n",
       "    .dataframe tbody tr th:only-of-type {\n",
       "        vertical-align: middle;\n",
       "    }\n",
       "\n",
       "    .dataframe tbody tr th {\n",
       "        vertical-align: top;\n",
       "    }\n",
       "\n",
       "    .dataframe thead th {\n",
       "        text-align: right;\n",
       "    }\n",
       "</style>\n",
       "<table border=\"1\" class=\"dataframe\">\n",
       "  <thead>\n",
       "    <tr style=\"text-align: right;\">\n",
       "      <th></th>\n",
       "      <th>fpr</th>\n",
       "      <th>tpr</th>\n",
       "      <th>thr</th>\n",
       "      <th>random</th>\n",
       "      <th>diff</th>\n",
       "    </tr>\n",
       "  </thead>\n",
       "  <tbody>\n",
       "    <tr>\n",
       "      <th>0</th>\n",
       "      <td>0.005176</td>\n",
       "      <td>0.939597</td>\n",
       "      <td>1.115085e-01</td>\n",
       "      <td>0.005176</td>\n",
       "      <td>0.934421</td>\n",
       "    </tr>\n",
       "    <tr>\n",
       "      <th>1</th>\n",
       "      <td>0.002070</td>\n",
       "      <td>0.932886</td>\n",
       "      <td>2.742479e-01</td>\n",
       "      <td>0.002070</td>\n",
       "      <td>0.930816</td>\n",
       "    </tr>\n",
       "    <tr>\n",
       "      <th>2</th>\n",
       "      <td>0.003106</td>\n",
       "      <td>0.932886</td>\n",
       "      <td>2.466184e-01</td>\n",
       "      <td>0.003106</td>\n",
       "      <td>0.929780</td>\n",
       "    </tr>\n",
       "    <tr>\n",
       "      <th>3</th>\n",
       "      <td>0.005176</td>\n",
       "      <td>0.932886</td>\n",
       "      <td>2.395226e-01</td>\n",
       "      <td>0.005176</td>\n",
       "      <td>0.927710</td>\n",
       "    </tr>\n",
       "    <tr>\n",
       "      <th>4</th>\n",
       "      <td>0.020704</td>\n",
       "      <td>0.946309</td>\n",
       "      <td>3.761981e-03</td>\n",
       "      <td>0.020704</td>\n",
       "      <td>0.925605</td>\n",
       "    </tr>\n",
       "    <tr>\n",
       "      <th>...</th>\n",
       "      <td>...</td>\n",
       "      <td>...</td>\n",
       "      <td>...</td>\n",
       "      <td>...</td>\n",
       "      <td>...</td>\n",
       "    </tr>\n",
       "    <tr>\n",
       "      <th>71</th>\n",
       "      <td>0.921325</td>\n",
       "      <td>1.000000</td>\n",
       "      <td>9.186552e-12</td>\n",
       "      <td>0.921325</td>\n",
       "      <td>0.078675</td>\n",
       "    </tr>\n",
       "    <tr>\n",
       "      <th>72</th>\n",
       "      <td>0.955487</td>\n",
       "      <td>1.000000</td>\n",
       "      <td>3.256255e-12</td>\n",
       "      <td>0.955487</td>\n",
       "      <td>0.044513</td>\n",
       "    </tr>\n",
       "    <tr>\n",
       "      <th>73</th>\n",
       "      <td>0.957557</td>\n",
       "      <td>1.000000</td>\n",
       "      <td>3.246030e-12</td>\n",
       "      <td>0.957557</td>\n",
       "      <td>0.042443</td>\n",
       "    </tr>\n",
       "    <tr>\n",
       "      <th>74</th>\n",
       "      <td>0.000000</td>\n",
       "      <td>0.000000</td>\n",
       "      <td>2.000000e+00</td>\n",
       "      <td>0.000000</td>\n",
       "      <td>0.000000</td>\n",
       "    </tr>\n",
       "    <tr>\n",
       "      <th>75</th>\n",
       "      <td>1.000000</td>\n",
       "      <td>1.000000</td>\n",
       "      <td>1.294576e-14</td>\n",
       "      <td>1.000000</td>\n",
       "      <td>0.000000</td>\n",
       "    </tr>\n",
       "  </tbody>\n",
       "</table>\n",
       "<p>76 rows × 5 columns</p>\n",
       "</div>"
      ],
      "text/plain": [
       "         fpr       tpr           thr    random      diff\n",
       "0   0.005176  0.939597  1.115085e-01  0.005176  0.934421\n",
       "1   0.002070  0.932886  2.742479e-01  0.002070  0.930816\n",
       "2   0.003106  0.932886  2.466184e-01  0.003106  0.929780\n",
       "3   0.005176  0.932886  2.395226e-01  0.005176  0.927710\n",
       "4   0.020704  0.946309  3.761981e-03  0.020704  0.925605\n",
       "..       ...       ...           ...       ...       ...\n",
       "71  0.921325  1.000000  9.186552e-12  0.921325  0.078675\n",
       "72  0.955487  1.000000  3.256255e-12  0.955487  0.044513\n",
       "73  0.957557  1.000000  3.246030e-12  0.957557  0.042443\n",
       "74  0.000000  0.000000  2.000000e+00  0.000000  0.000000\n",
       "75  1.000000  1.000000  1.294576e-14  1.000000  0.000000\n",
       "\n",
       "[76 rows x 5 columns]"
      ]
     },
     "execution_count": 39,
     "metadata": {},
     "output_type": "execute_result"
    }
   ],
   "source": [
    "roc"
   ]
  },
  {
   "cell_type": "code",
   "execution_count": 40,
   "id": "e360aba3",
   "metadata": {},
   "outputs": [
    {
     "data": {
      "text/plain": [
       "0.111508526"
      ]
     },
     "execution_count": 40,
     "metadata": {},
     "output_type": "execute_result"
    }
   ],
   "source": [
    "roc.loc[0,'thr']"
   ]
  },
  {
   "cell_type": "code",
   "execution_count": null,
   "id": "9240ae1e",
   "metadata": {},
   "outputs": [],
   "source": []
  }
 ],
 "metadata": {
  "kernelspec": {
   "display_name": "Python 3 (ipykernel)",
   "language": "python",
   "name": "python3"
  },
  "language_info": {
   "codemirror_mode": {
    "name": "ipython",
    "version": 3
   },
   "file_extension": ".py",
   "mimetype": "text/x-python",
   "name": "python",
   "nbconvert_exporter": "python",
   "pygments_lexer": "ipython3",
   "version": "3.9.13"
  },
  "papermill": {
   "default_parameters": {},
   "duration": 39.330232,
   "end_time": "2022-03-05T23:37:18.820869",
   "environment_variables": {},
   "exception": null,
   "input_path": "__notebook__.ipynb",
   "output_path": "__notebook__.ipynb",
   "parameters": {},
   "start_time": "2022-03-05T23:36:39.490637",
   "version": "2.3.3"
  }
 },
 "nbformat": 4,
 "nbformat_minor": 5
}
