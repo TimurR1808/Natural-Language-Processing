{
 "cells": [
  {
   "cell_type": "markdown",
   "metadata": {
    "id": "o7mDl_63X9XI"
   },
   "source": [
    "# Installations\n"
   ]
  },
  {
   "cell_type": "code",
   "execution_count": 1,
   "metadata": {
    "execution": {
     "iopub.execute_input": "2022-11-14T07:56:17.037921Z",
     "iopub.status.busy": "2022-11-14T07:56:17.037120Z",
     "iopub.status.idle": "2022-11-14T07:58:03.431504Z",
     "shell.execute_reply": "2022-11-14T07:58:03.430087Z",
     "shell.execute_reply.started": "2022-11-14T07:56:17.037828Z"
    },
    "id": "sZxV55_pjxWi",
    "outputId": "6e3d5c06-f75e-4f62-ee1c-019add483472"
   },
   "outputs": [
    {
     "name": "stderr",
     "output_type": "stream",
     "text": [
      "wandb: Appending key for api.wandb.ai to your netrc file: C:\\Users\\TimurRashitov/.netrc\n"
     ]
    }
   ],
   "source": [
    "# my login - timakaznet, hust regirster wanbd account and u'll take trial period which is enough\n",
    "! wandb login 09c020c5c07d53e4cc16349e5e67d04db9673006"
   ]
  },
  {
   "cell_type": "code",
   "execution_count": 2,
   "metadata": {
    "execution": {
     "iopub.execute_input": "2022-11-14T07:58:16.772885Z",
     "iopub.status.busy": "2022-11-14T07:58:16.771878Z",
     "iopub.status.idle": "2022-11-14T07:58:16.780176Z",
     "shell.execute_reply": "2022-11-14T07:58:16.778998Z",
     "shell.execute_reply.started": "2022-11-14T07:58:16.772835Z"
    },
    "id": "JxRgIgQlC0UU"
   },
   "outputs": [],
   "source": [
    "import os, sys\n",
    "\n",
    "class HiddenPrints:\n",
    "    def __enter__(self):\n",
    "        self._original_stdout = sys.stdout\n",
    "        sys.stdout = open(os.devnull, 'w')\n",
    "\n",
    "    def __exit__(self, exc_type, exc_val, exc_tb):\n",
    "        sys.stdout.close()\n",
    "        sys.stdout = self._original_stdout"
   ]
  },
  {
   "cell_type": "markdown",
   "metadata": {
    "id": "pfkBIxffVenq"
   },
   "source": [
    "# Dataset Imports\n"
   ]
  },
  {
   "cell_type": "code",
   "execution_count": 3,
   "metadata": {
    "execution": {
     "iopub.execute_input": "2022-11-14T07:58:16.783608Z",
     "iopub.status.busy": "2022-11-14T07:58:16.782833Z",
     "iopub.status.idle": "2022-11-14T07:58:20.644148Z",
     "shell.execute_reply": "2022-11-14T07:58:20.642736Z",
     "shell.execute_reply.started": "2022-11-14T07:58:16.783566Z"
    },
    "id": "rBoDXeB0Vavb",
    "outputId": "434bd344-8366-4a8e-9161-b1d5335df245"
   },
   "outputs": [
    {
     "name": "stderr",
     "output_type": "stream",
     "text": [
      "[nltk_data] Downloading package punkt to\n",
      "[nltk_data]     C:\\Users\\TimurRashitov\\AppData\\Roaming\\nltk_data...\n",
      "[nltk_data]   Package punkt is already up-to-date!\n",
      "[nltk_data] Downloading package wordnet to\n",
      "[nltk_data]     C:\\Users\\TimurRashitov\\AppData\\Roaming\\nltk_data...\n",
      "[nltk_data]   Package wordnet is already up-to-date!\n",
      "[nltk_data] Downloading package stopwords to\n",
      "[nltk_data]     C:\\Users\\TimurRashitov\\AppData\\Roaming\\nltk_data...\n",
      "[nltk_data]   Package stopwords is already up-to-date!\n"
     ]
    }
   ],
   "source": [
    "import transformers\n",
    "from torch.utils import data\n",
    "import pandas as pd\n",
    "import seaborn as sns\n",
    "import matplotlib.pyplot as plt\n",
    "import numpy as np\n",
    "import torch\n",
    "\n",
    "# data processing\n",
    "import re, string\n",
    "import emoji\n",
    "import nltk\n",
    "\n",
    "# dataset\n",
    "from sklearn.model_selection import train_test_split\n",
    "import datasets\n",
    "from datasets import Dataset , Sequence , Value , Features , ClassLabel , DatasetDict\n",
    "\n",
    "# preprocessing\n",
    "import nltk\n",
    "nltk.download('punkt')\n",
    "nltk.download('wordnet')\n",
    "nltk.download('stopwords')\n",
    "\n",
    "from nltk import word_tokenize\n",
    "from nltk.corpus import stopwords\n",
    "from nltk.tokenize import RegexpTokenizer\n",
    "import re, string\n",
    "\n",
    "from tqdm import tqdm\n",
    "from collections import defaultdict\n",
    "\n",
    "from nltk.stem import WordNetLemmatizer \n",
    "lemmatizer = WordNetLemmatizer()\n",
    "\n",
    "RANDOM_SEED = 42\n",
    "np.random.seed(RANDOM_SEED)\n",
    "torch.manual_seed(RANDOM_SEED)\n",
    "\n",
    "device = torch.device(\"cuda\" if torch.cuda.is_available() else \"cpu\")"
   ]
  },
  {
   "cell_type": "code",
   "execution_count": 4,
   "metadata": {
    "execution": {
     "iopub.execute_input": "2022-11-14T07:58:20.646439Z",
     "iopub.status.busy": "2022-11-14T07:58:20.645798Z",
     "iopub.status.idle": "2022-11-14T07:58:20.652282Z",
     "shell.execute_reply": "2022-11-14T07:58:20.650518Z",
     "shell.execute_reply.started": "2022-11-14T07:58:20.646407Z"
    },
    "id": "gQdwx6tJ6RQn"
   },
   "outputs": [],
   "source": [
    "# list of pretrained models: https://huggingface.co/transformers/v3.3.1/pretrained_models.html\n",
    "models = [\"distilbert-base-uncased\", \"bert-base-uncased\", \"bert-base-cased\"]\n",
    "modelName = models[2] "
   ]
  },
  {
   "cell_type": "code",
   "execution_count": 5,
   "metadata": {
    "execution": {
     "iopub.execute_input": "2022-11-14T07:58:20.654836Z",
     "iopub.status.busy": "2022-11-14T07:58:20.654099Z",
     "iopub.status.idle": "2022-11-14T07:58:20.697913Z",
     "shell.execute_reply": "2022-11-14T07:58:20.696651Z",
     "shell.execute_reply.started": "2022-11-14T07:58:20.654797Z"
    },
    "id": "T3XoCVTIVS8Q",
    "outputId": "30515e8c-3745-4c98-dbb7-4f19d0e27a9a"
   },
   "outputs": [],
   "source": [
    "# We define utility functions for text processing.\n",
    "\n",
    "def removePunctuation(text):\n",
    "    \"\"\"\n",
    "    Remove punctuation symbols and convert text to lowercase\n",
    "    \"\"\"\n",
    "    return text.lower().translate(str.maketrans('', '', string.punctuation))\n",
    "\n",
    "def removeStopWords(text):\n",
    "    \"\"\"\n",
    "    Filter words that are not found in stop words\n",
    "    \"\"\"\n",
    "    return \" \".join([word for word in text.split() if word not in stopwords.words(\"english\")])\n",
    "\n",
    "def buildDictionary(texts):\n",
    "    \"\"\"\n",
    "    Build the dictionary of words where key is the word and value is the index.\n",
    "    \"\"\"\n",
    "    hashmap = {}\n",
    "    for text in texts:\n",
    "        for word in text.split():\n",
    "            hashmap[word] = hashmap.get(word, 0) + 1\n",
    "    return {w:i+1 for i, w in enumerate(list(hashmap.keys()))}\n",
    "\n",
    "def calculateMaxSeqLen(texts):\n",
    "    \"\"\"\n",
    "    Calculates the maximum sequence length found in the corpus\n",
    "    \"\"\"\n",
    "    max_len = float('-inf')\n",
    "    for text in texts:\n",
    "        if len(text.split()) > max_len:\n",
    "            max_len = len(text.split())\n",
    "            \n",
    "    return max_len\n",
    "\n",
    "def lemmatize(text):\n",
    "    \"\"\"\n",
    "    Filter words that are not found in stop words\n",
    "    \"\"\"\n",
    "    return \" \".join([lemmatizer.lemmatize(word) for word in text.split()])\n",
    "\n",
    "def remove_certain_numbers(text):\n",
    "    return text.replace('20', ' ')\n",
    "\n",
    "def remove_non_dictionary_words(text):\n",
    "    return \" \".join([word for word in text.split() if word in fast_text_dictionary])"
   ]
  },
  {
   "cell_type": "code",
   "execution_count": 6,
   "metadata": {
    "execution": {
     "iopub.execute_input": "2022-11-14T07:58:20.654836Z",
     "iopub.status.busy": "2022-11-14T07:58:20.654099Z",
     "iopub.status.idle": "2022-11-14T07:58:20.697913Z",
     "shell.execute_reply": "2022-11-14T07:58:20.696651Z",
     "shell.execute_reply.started": "2022-11-14T07:58:20.654797Z"
    },
    "id": "T3XoCVTIVS8Q",
    "outputId": "30515e8c-3745-4c98-dbb7-4f19d0e27a9a"
   },
   "outputs": [],
   "source": [
    "data = pd.read_csv(\"C:/datasets/SMS/spam.csv\")"
   ]
  },
  {
   "cell_type": "code",
   "execution_count": 10,
   "metadata": {
    "execution": {
     "iopub.execute_input": "2022-11-14T07:58:20.700144Z",
     "iopub.status.busy": "2022-11-14T07:58:20.699632Z",
     "iopub.status.idle": "2022-11-14T07:58:20.729944Z",
     "shell.execute_reply": "2022-11-14T07:58:20.728740Z",
     "shell.execute_reply.started": "2022-11-14T07:58:20.700104Z"
    },
    "id": "0ZlxeRGhVfe6",
    "outputId": "d9109718-12ec-4ee7-c53e-05a1d45a53f6"
   },
   "outputs": [],
   "source": [
    "data[\"target\"] = data[\"target\"].replace(\"ham\", 0)\n",
    "data[\"target\"] = data[\"target\"].replace(\"spam\", 1)"
   ]
  },
  {
   "cell_type": "code",
   "execution_count": 11,
   "metadata": {
    "execution": {
     "iopub.execute_input": "2022-11-14T07:58:20.700144Z",
     "iopub.status.busy": "2022-11-14T07:58:20.699632Z",
     "iopub.status.idle": "2022-11-14T07:58:20.729944Z",
     "shell.execute_reply": "2022-11-14T07:58:20.728740Z",
     "shell.execute_reply.started": "2022-11-14T07:58:20.700104Z"
    },
    "id": "0ZlxeRGhVfe6",
    "outputId": "d9109718-12ec-4ee7-c53e-05a1d45a53f6"
   },
   "outputs": [
    {
     "data": {
      "text/plain": [
       "0    4825\n",
       "1     747\n",
       "Name: target, dtype: int64"
      ]
     },
     "execution_count": 11,
     "metadata": {},
     "output_type": "execute_result"
    }
   ],
   "source": [
    "data[\"target\"].value_counts()"
   ]
  },
  {
   "cell_type": "code",
   "execution_count": 18,
   "metadata": {
    "execution": {
     "iopub.execute_input": "2022-11-14T07:58:20.700144Z",
     "iopub.status.busy": "2022-11-14T07:58:20.699632Z",
     "iopub.status.idle": "2022-11-14T07:58:20.729944Z",
     "shell.execute_reply": "2022-11-14T07:58:20.728740Z",
     "shell.execute_reply.started": "2022-11-14T07:58:20.700104Z"
    },
    "id": "0ZlxeRGhVfe6",
    "outputId": "d9109718-12ec-4ee7-c53e-05a1d45a53f6"
   },
   "outputs": [],
   "source": [
    "data[\"text\"] = data[\"text\"].astype('str')"
   ]
  },
  {
   "cell_type": "code",
   "execution_count": 19,
   "metadata": {
    "execution": {
     "iopub.execute_input": "2022-11-14T07:58:20.700144Z",
     "iopub.status.busy": "2022-11-14T07:58:20.699632Z",
     "iopub.status.idle": "2022-11-14T07:58:20.729944Z",
     "shell.execute_reply": "2022-11-14T07:58:20.728740Z",
     "shell.execute_reply.started": "2022-11-14T07:58:20.700104Z"
    },
    "id": "0ZlxeRGhVfe6",
    "outputId": "d9109718-12ec-4ee7-c53e-05a1d45a53f6"
   },
   "outputs": [
    {
     "data": {
      "text/plain": [
       "0.0"
      ]
     },
     "execution_count": 19,
     "metadata": {},
     "output_type": "execute_result"
    }
   ],
   "source": [
    "(data[\"text\"].isna().sum() / data[\"text\"].shape[0])"
   ]
  },
  {
   "cell_type": "code",
   "execution_count": 20,
   "metadata": {
    "execution": {
     "iopub.execute_input": "2022-11-14T07:58:20.700144Z",
     "iopub.status.busy": "2022-11-14T07:58:20.699632Z",
     "iopub.status.idle": "2022-11-14T07:58:20.729944Z",
     "shell.execute_reply": "2022-11-14T07:58:20.728740Z",
     "shell.execute_reply.started": "2022-11-14T07:58:20.700104Z"
    },
    "id": "0ZlxeRGhVfe6",
    "outputId": "d9109718-12ec-4ee7-c53e-05a1d45a53f6"
   },
   "outputs": [
    {
     "data": {
      "text/plain": [
       "'ok lar joking wif u oni'"
      ]
     },
     "execution_count": 20,
     "metadata": {},
     "output_type": "execute_result"
    }
   ],
   "source": [
    "data[\"text\"].loc[1]"
   ]
  },
  {
   "cell_type": "code",
   "execution_count": 21,
   "metadata": {
    "execution": {
     "iopub.execute_input": "2022-11-14T07:58:20.700144Z",
     "iopub.status.busy": "2022-11-14T07:58:20.699632Z",
     "iopub.status.idle": "2022-11-14T07:58:20.729944Z",
     "shell.execute_reply": "2022-11-14T07:58:20.728740Z",
     "shell.execute_reply.started": "2022-11-14T07:58:20.700104Z"
    },
    "id": "0ZlxeRGhVfe6",
    "outputId": "d9109718-12ec-4ee7-c53e-05a1d45a53f6"
   },
   "outputs": [],
   "source": [
    "# Text preprocessing. Remove punctuation symbols and stop words:\n",
    "data[\"text\"] = data[\"text\"].apply(lambda x: removePunctuation(x))\n",
    "data[\"text\"] = data[\"text\"].apply(lambda x: removeStopWords(x))\n",
    "data[\"text\"] = data[\"text\"].apply(lambda x: lemmatize(x))"
   ]
  },
  {
   "cell_type": "code",
   "execution_count": 22,
   "metadata": {
    "execution": {
     "iopub.execute_input": "2022-11-14T07:58:20.700144Z",
     "iopub.status.busy": "2022-11-14T07:58:20.699632Z",
     "iopub.status.idle": "2022-11-14T07:58:20.729944Z",
     "shell.execute_reply": "2022-11-14T07:58:20.728740Z",
     "shell.execute_reply.started": "2022-11-14T07:58:20.700104Z"
    },
    "id": "0ZlxeRGhVfe6",
    "outputId": "d9109718-12ec-4ee7-c53e-05a1d45a53f6"
   },
   "outputs": [
    {
     "data": {
      "text/plain": [
       "'ok lar joking wif u oni'"
      ]
     },
     "execution_count": 22,
     "metadata": {},
     "output_type": "execute_result"
    }
   ],
   "source": [
    "data[\"text\"].loc[1]"
   ]
  },
  {
   "cell_type": "code",
   "execution_count": 23,
   "metadata": {
    "execution": {
     "iopub.execute_input": "2022-11-14T07:58:20.700144Z",
     "iopub.status.busy": "2022-11-14T07:58:20.699632Z",
     "iopub.status.idle": "2022-11-14T07:58:20.729944Z",
     "shell.execute_reply": "2022-11-14T07:58:20.728740Z",
     "shell.execute_reply.started": "2022-11-14T07:58:20.700104Z"
    },
    "id": "0ZlxeRGhVfe6",
    "outputId": "d9109718-12ec-4ee7-c53e-05a1d45a53f6"
   },
   "outputs": [
    {
     "name": "stdout",
     "output_type": "stream",
     "text": [
      "<class 'pandas.core.frame.DataFrame'>\n",
      "RangeIndex: 5572 entries, 0 to 5571\n",
      "Data columns (total 2 columns):\n",
      " #   Column  Non-Null Count  Dtype \n",
      "---  ------  --------------  ----- \n",
      " 0   text    5572 non-null   object\n",
      " 1   target  5572 non-null   int64 \n",
      "dtypes: int64(1), object(1)\n",
      "memory usage: 87.2+ KB\n"
     ]
    }
   ],
   "source": [
    "data = data[[\"text\", \"target\"]]\n",
    "data.info()"
   ]
  },
  {
   "cell_type": "code",
   "execution_count": 25,
   "metadata": {
    "execution": {
     "iopub.execute_input": "2022-11-14T07:58:20.732379Z",
     "iopub.status.busy": "2022-11-14T07:58:20.731622Z",
     "iopub.status.idle": "2022-11-14T07:58:20.757534Z",
     "shell.execute_reply": "2022-11-14T07:58:20.756361Z",
     "shell.execute_reply.started": "2022-11-14T07:58:20.732324Z"
    },
    "id": "OddgK8oTVkj2",
    "outputId": "ad598be0-a927-4c21-a00a-2f560443d853"
   },
   "outputs": [
    {
     "data": {
      "text/html": [
       "<div>\n",
       "<style scoped>\n",
       "    .dataframe tbody tr th:only-of-type {\n",
       "        vertical-align: middle;\n",
       "    }\n",
       "\n",
       "    .dataframe tbody tr th {\n",
       "        vertical-align: top;\n",
       "    }\n",
       "\n",
       "    .dataframe thead th {\n",
       "        text-align: right;\n",
       "    }\n",
       "</style>\n",
       "<table border=\"1\" class=\"dataframe\">\n",
       "  <thead>\n",
       "    <tr style=\"text-align: right;\">\n",
       "      <th></th>\n",
       "      <th>text</th>\n",
       "      <th>target</th>\n",
       "    </tr>\n",
       "  </thead>\n",
       "  <tbody>\n",
       "    <tr>\n",
       "      <th>0</th>\n",
       "      <td>go jurong point crazy available bugis n great ...</td>\n",
       "      <td>0</td>\n",
       "    </tr>\n",
       "    <tr>\n",
       "      <th>1</th>\n",
       "      <td>ok lar joking wif u oni</td>\n",
       "      <td>0</td>\n",
       "    </tr>\n",
       "    <tr>\n",
       "      <th>2</th>\n",
       "      <td>free entry 2 wkly comp win fa cup final tkts 2...</td>\n",
       "      <td>1</td>\n",
       "    </tr>\n",
       "    <tr>\n",
       "      <th>3</th>\n",
       "      <td>u dun say early hor u c already say</td>\n",
       "      <td>0</td>\n",
       "    </tr>\n",
       "    <tr>\n",
       "      <th>4</th>\n",
       "      <td>nah dont think go usf life around though</td>\n",
       "      <td>0</td>\n",
       "    </tr>\n",
       "  </tbody>\n",
       "</table>\n",
       "</div>"
      ],
      "text/plain": [
       "                                                text  target\n",
       "0  go jurong point crazy available bugis n great ...       0\n",
       "1                            ok lar joking wif u oni       0\n",
       "2  free entry 2 wkly comp win fa cup final tkts 2...       1\n",
       "3                u dun say early hor u c already say       0\n",
       "4           nah dont think go usf life around though       0"
      ]
     },
     "execution_count": 25,
     "metadata": {},
     "output_type": "execute_result"
    }
   ],
   "source": [
    "data.drop_duplicates(subset='text',inplace=True)\n",
    "data = data.reset_index(drop=True)\n",
    "data.head()"
   ]
  },
  {
   "cell_type": "code",
   "execution_count": 26,
   "metadata": {
    "execution": {
     "iopub.execute_input": "2022-11-14T07:58:20.759622Z",
     "iopub.status.busy": "2022-11-14T07:58:20.759130Z",
     "iopub.status.idle": "2022-11-14T07:58:20.769318Z",
     "shell.execute_reply": "2022-11-14T07:58:20.768121Z",
     "shell.execute_reply.started": "2022-11-14T07:58:20.759582Z"
    },
    "id": "knXzfGZY2Lax",
    "outputId": "a5703d83-1f5f-4a37-ee51-b36705674b69"
   },
   "outputs": [
    {
     "data": {
      "text/plain": [
       "text      0\n",
       "target    0\n",
       "dtype: int64"
      ]
     },
     "execution_count": 26,
     "metadata": {},
     "output_type": "execute_result"
    }
   ],
   "source": [
    "data.isnull().sum()"
   ]
  },
  {
   "cell_type": "code",
   "execution_count": 27,
   "metadata": {
    "execution": {
     "iopub.execute_input": "2022-11-14T07:58:20.776459Z",
     "iopub.status.busy": "2022-11-14T07:58:20.775574Z",
     "iopub.status.idle": "2022-11-14T07:58:20.786648Z",
     "shell.execute_reply": "2022-11-14T07:58:20.785311Z",
     "shell.execute_reply.started": "2022-11-14T07:58:20.776417Z"
    },
    "id": "iUjvtSLuWDY5",
    "outputId": "6ce540a0-d0df-4b9d-a50a-678093678e0b"
   },
   "outputs": [
    {
     "data": {
      "text/plain": [
       "0    4484\n",
       "1     631\n",
       "Name: target, dtype: int64"
      ]
     },
     "execution_count": 27,
     "metadata": {},
     "output_type": "execute_result"
    }
   ],
   "source": [
    "data[\"target\"].value_counts()"
   ]
  },
  {
   "cell_type": "code",
   "execution_count": 28,
   "metadata": {
    "execution": {
     "iopub.execute_input": "2022-11-14T07:58:20.789069Z",
     "iopub.status.busy": "2022-11-14T07:58:20.787987Z",
     "iopub.status.idle": "2022-11-14T07:58:20.807601Z",
     "shell.execute_reply": "2022-11-14T07:58:20.805885Z",
     "shell.execute_reply.started": "2022-11-14T07:58:20.789000Z"
    },
    "id": "-jQ6YcPm2xJ7",
    "outputId": "e281b011-a7c9-4f36-ad77-dc028069d79b"
   },
   "outputs": [
    {
     "name": "stdout",
     "output_type": "stream",
     "text": [
      "1 80\n"
     ]
    }
   ],
   "source": [
    "# word tokenizer\n",
    "data['text_len_by_words'] = data['text'].apply(lambda t: len(t.split()))\n",
    "min_len_word, max_len_word = data['text_len_by_words'].min(), data['text_len_by_words'].max()\n",
    "print(min_len_word, max_len_word)"
   ]
  },
  {
   "cell_type": "code",
   "execution_count": 29,
   "metadata": {
    "execution": {
     "iopub.execute_input": "2022-11-14T07:58:20.811810Z",
     "iopub.status.busy": "2022-11-14T07:58:20.809592Z",
     "iopub.status.idle": "2022-11-14T07:58:21.168572Z",
     "shell.execute_reply": "2022-11-14T07:58:21.167513Z",
     "shell.execute_reply.started": "2022-11-14T07:58:20.811763Z"
    },
    "id": "R4h0ugYI4sdy",
    "outputId": "0e6d554c-e125-4184-d7dd-3df0e4326235"
   },
   "outputs": [
    {
     "data": {
      "text/plain": [
       "<AxesSubplot:xlabel='text_len_by_words', ylabel='Count'>"
      ]
     },
     "execution_count": 29,
     "metadata": {},
     "output_type": "execute_result"
    },
    {
     "data": {
      "image/png": "[encoded data removed]",
      "text/plain": [
       "<Figure size 640x480 with 1 Axes>"
      ]
     },
     "metadata": {},
     "output_type": "display_data"
    }
   ],
   "source": [
    "sns.histplot(data['text_len_by_words'])\n",
    "\n",
    "# padding is based on the token lengths not the word lengths > MAX_LEN=64"
   ]
  },
  {
   "cell_type": "code",
   "execution_count": 30,
   "metadata": {
    "execution": {
     "iopub.execute_input": "2022-11-14T07:58:21.208022Z",
     "iopub.status.busy": "2022-11-14T07:58:21.207332Z",
     "iopub.status.idle": "2022-11-14T07:58:21.416226Z",
     "shell.execute_reply": "2022-11-14T07:58:21.415001Z",
     "shell.execute_reply.started": "2022-11-14T07:58:21.207977Z"
    },
    "id": "YlMacG4PjhFa",
    "outputId": "5cc83256-5c7a-4bf1-8310-b7cd3c106b4a"
   },
   "outputs": [
    {
     "data": {
      "text/plain": [
       "[Text(0, 0, 'ham'), Text(1, 0, 'spam')]"
      ]
     },
     "execution_count": 30,
     "metadata": {},
     "output_type": "execute_result"
    },
    {
     "data": {
      "image/png": "[encoded data removed]",
      "text/plain": [
       "<Figure size 640x480 with 1 Axes>"
      ]
     },
     "metadata": {},
     "output_type": "display_data"
    }
   ],
   "source": [
    "class_names = [\"ham\", \"spam\"]\n",
    "ax = sns.countplot(x='target', data=data)\n",
    "ax.set_xticklabels(class_names)"
   ]
  },
  {
   "cell_type": "code",
   "execution_count": 31,
   "metadata": {
    "execution": {
     "iopub.execute_input": "2022-11-14T07:58:21.457411Z",
     "iopub.status.busy": "2022-11-14T07:58:21.456551Z",
     "iopub.status.idle": "2022-11-14T07:58:21.465936Z",
     "shell.execute_reply": "2022-11-14T07:58:21.465100Z",
     "shell.execute_reply.started": "2022-11-14T07:58:21.457370Z"
    },
    "id": "OhM3jcs2XLzA"
   },
   "outputs": [
    {
     "data": {
      "text/html": [
       "<div>\n",
       "<style scoped>\n",
       "    .dataframe tbody tr th:only-of-type {\n",
       "        vertical-align: middle;\n",
       "    }\n",
       "\n",
       "    .dataframe tbody tr th {\n",
       "        vertical-align: top;\n",
       "    }\n",
       "\n",
       "    .dataframe thead th {\n",
       "        text-align: right;\n",
       "    }\n",
       "</style>\n",
       "<table border=\"1\" class=\"dataframe\">\n",
       "  <thead>\n",
       "    <tr style=\"text-align: right;\">\n",
       "      <th></th>\n",
       "      <th>text</th>\n",
       "      <th>target</th>\n",
       "      <th>text_len_by_words</th>\n",
       "    </tr>\n",
       "  </thead>\n",
       "  <tbody>\n",
       "    <tr>\n",
       "      <th>0</th>\n",
       "      <td>go jurong point crazy available bugis n great ...</td>\n",
       "      <td>0</td>\n",
       "      <td>16</td>\n",
       "    </tr>\n",
       "    <tr>\n",
       "      <th>1</th>\n",
       "      <td>ok lar joking wif u oni</td>\n",
       "      <td>0</td>\n",
       "      <td>6</td>\n",
       "    </tr>\n",
       "    <tr>\n",
       "      <th>2</th>\n",
       "      <td>free entry 2 wkly comp win fa cup final tkts 2...</td>\n",
       "      <td>1</td>\n",
       "      <td>23</td>\n",
       "    </tr>\n",
       "    <tr>\n",
       "      <th>3</th>\n",
       "      <td>u dun say early hor u c already say</td>\n",
       "      <td>0</td>\n",
       "      <td>9</td>\n",
       "    </tr>\n",
       "    <tr>\n",
       "      <th>4</th>\n",
       "      <td>nah dont think go usf life around though</td>\n",
       "      <td>0</td>\n",
       "      <td>8</td>\n",
       "    </tr>\n",
       "    <tr>\n",
       "      <th>...</th>\n",
       "      <td>...</td>\n",
       "      <td>...</td>\n",
       "      <td>...</td>\n",
       "    </tr>\n",
       "    <tr>\n",
       "      <th>5110</th>\n",
       "      <td>2nd time tried 2 contact u u å£750 pound prize...</td>\n",
       "      <td>1</td>\n",
       "      <td>20</td>\n",
       "    </tr>\n",
       "    <tr>\n",
       "      <th>5111</th>\n",
       "      <td>ì b going esplanade fr home</td>\n",
       "      <td>0</td>\n",
       "      <td>6</td>\n",
       "    </tr>\n",
       "    <tr>\n",
       "      <th>5112</th>\n",
       "      <td>pity mood soany suggestion</td>\n",
       "      <td>0</td>\n",
       "      <td>4</td>\n",
       "    </tr>\n",
       "    <tr>\n",
       "      <th>5113</th>\n",
       "      <td>guy bitching acted like id interested buying s...</td>\n",
       "      <td>0</td>\n",
       "      <td>14</td>\n",
       "    </tr>\n",
       "    <tr>\n",
       "      <th>5114</th>\n",
       "      <td>rofl true name</td>\n",
       "      <td>0</td>\n",
       "      <td>3</td>\n",
       "    </tr>\n",
       "  </tbody>\n",
       "</table>\n",
       "<p>5115 rows × 3 columns</p>\n",
       "</div>"
      ],
      "text/plain": [
       "                                                   text  target  \\\n",
       "0     go jurong point crazy available bugis n great ...       0   \n",
       "1                               ok lar joking wif u oni       0   \n",
       "2     free entry 2 wkly comp win fa cup final tkts 2...       1   \n",
       "3                   u dun say early hor u c already say       0   \n",
       "4              nah dont think go usf life around though       0   \n",
       "...                                                 ...     ...   \n",
       "5110  2nd time tried 2 contact u u å£750 pound prize...       1   \n",
       "5111                        ì b going esplanade fr home       0   \n",
       "5112                         pity mood soany suggestion       0   \n",
       "5113  guy bitching acted like id interested buying s...       0   \n",
       "5114                                     rofl true name       0   \n",
       "\n",
       "      text_len_by_words  \n",
       "0                    16  \n",
       "1                     6  \n",
       "2                    23  \n",
       "3                     9  \n",
       "4                     8  \n",
       "...                 ...  \n",
       "5110                 20  \n",
       "5111                  6  \n",
       "5112                  4  \n",
       "5113                 14  \n",
       "5114                  3  \n",
       "\n",
       "[5115 rows x 3 columns]"
      ]
     },
     "execution_count": 31,
     "metadata": {},
     "output_type": "execute_result"
    }
   ],
   "source": [
    "data"
   ]
  },
  {
   "cell_type": "code",
   "execution_count": 32,
   "metadata": {
    "execution": {
     "iopub.execute_input": "2022-11-14T07:58:21.457411Z",
     "iopub.status.busy": "2022-11-14T07:58:21.456551Z",
     "iopub.status.idle": "2022-11-14T07:58:21.465936Z",
     "shell.execute_reply": "2022-11-14T07:58:21.465100Z",
     "shell.execute_reply.started": "2022-11-14T07:58:21.457370Z"
    },
    "id": "OhM3jcs2XLzA"
   },
   "outputs": [],
   "source": [
    "# Split data into training and testing\n",
    "x_train, x_valid, y_train, y_valid = train_test_split(data[\"text\"], data[\"target\"], test_size=0.2, stratify=data[\"target\"], random_state=42)\n",
    "\n",
    "data = pd.concat((x_train, y_train), axis=1).reset_index(drop=True)\n",
    "valid = pd.concat((x_valid, y_valid), axis=1).reset_index(drop=True)"
   ]
  },
  {
   "cell_type": "code",
   "execution_count": 36,
   "metadata": {
    "execution": {
     "iopub.execute_input": "2022-11-14T07:58:21.457411Z",
     "iopub.status.busy": "2022-11-14T07:58:21.456551Z",
     "iopub.status.idle": "2022-11-14T07:58:21.465936Z",
     "shell.execute_reply": "2022-11-14T07:58:21.465100Z",
     "shell.execute_reply.started": "2022-11-14T07:58:21.457370Z"
    },
    "id": "OhM3jcs2XLzA"
   },
   "outputs": [],
   "source": [
    "def createDataset(df, textCol, labelCol, num_classes):\n",
    "    dataset_dict = {\n",
    "      'text' : df[textCol],\n",
    "      'labels' : df[labelCol],\n",
    "  }\n",
    "    sent_tags = ClassLabel(num_classes=num_classes , names=['ham', 'spam'])\n",
    "\n",
    "    return Dataset.from_dict(\n",
    "      mapping = dataset_dict,\n",
    "      features = Features({'text' : Value(dtype='string') , 'labels' :sent_tags})\n",
    "  )"
   ]
  },
  {
   "cell_type": "code",
   "execution_count": 37,
   "metadata": {
    "execution": {
     "iopub.execute_input": "2022-11-14T07:58:21.468756Z",
     "iopub.status.busy": "2022-11-14T07:58:21.467617Z",
     "iopub.status.idle": "2022-11-14T07:58:21.554360Z",
     "shell.execute_reply": "2022-11-14T07:58:21.553087Z",
     "shell.execute_reply.started": "2022-11-14T07:58:21.468716Z"
    },
    "id": "wBSVWAF6XX4Q",
    "outputId": "72ed464d-0de5-497d-859a-74943c3c5435"
   },
   "outputs": [
    {
     "data": {
      "text/plain": [
       "DatasetDict({\n",
       "    train: Dataset({\n",
       "        features: ['text', 'labels'],\n",
       "        num_rows: 4092\n",
       "    })\n",
       "    val: Dataset({\n",
       "        features: ['text', 'labels'],\n",
       "        num_rows: 1023\n",
       "    })\n",
       "    test: Dataset({\n",
       "        features: ['text', 'labels'],\n",
       "        num_rows: 1023\n",
       "    })\n",
       "})"
      ]
     },
     "execution_count": 37,
     "metadata": {},
     "output_type": "execute_result"
    }
   ],
   "source": [
    "num_classes = 2\n",
    "dataset_train = createDataset(data,\"text\",\"target\", num_classes)\n",
    "dataset_val = createDataset(valid,\"text\",\"target\", num_classes)\n",
    "dataset_test = createDataset(valid,\"text\",\"target\", num_classes)\n",
    "\n",
    "dataset_sentAnalysis = DatasetDict()\n",
    "dataset_sentAnalysis[\"train\"] = dataset_train\n",
    "dataset_sentAnalysis[\"val\"] = dataset_val\n",
    "dataset_sentAnalysis[\"test\"] = dataset_test\n",
    "\n",
    "dataset_sentAnalysis"
   ]
  },
  {
   "cell_type": "markdown",
   "metadata": {
    "id": "ERcNjHOuXp8y"
   },
   "source": [
    "# Data Preprocessing"
   ]
  },
  {
   "cell_type": "code",
   "execution_count": 38,
   "metadata": {
    "execution": {
     "iopub.execute_input": "2022-11-14T07:58:21.558098Z",
     "iopub.status.busy": "2022-11-14T07:58:21.557258Z",
     "iopub.status.idle": "2022-11-14T07:58:21.572487Z",
     "shell.execute_reply": "2022-11-14T07:58:21.571261Z",
     "shell.execute_reply.started": "2022-11-14T07:58:21.558033Z"
    },
    "id": "LWNapcfRXsDC"
   },
   "outputs": [],
   "source": [
    "def convert_to_lower(text):\n",
    "    return text.lower()\n",
    "\n",
    "def remove_emojis(text):\n",
    "    text = re.sub(r\"(?:\\@|https?\\://)\\S+\", \"\", text) #remove links and mentions\n",
    "    text = re.sub(r\"<.*?>\",\"\",text)\n",
    "\n",
    "    wierd_pattern = re.compile(\"[\"\n",
    "        u\"\\U0001F600-\\U0001F64F\"  # emoticons\n",
    "        u\"\\U0001F300-\\U0001F5FF\"  # symbols & pictographs\n",
    "        u\"\\U0001F680-\\U0001F6FF\"  # transport & map symbols\n",
    "        u\"\\U0001F1E0-\\U0001F1FF\"  # flags (iOS)\n",
    "        u\"\\U00002702-\\U000027B0\"\n",
    "        u\"\\U000024C2-\\U0001F251\"\n",
    "        u\"\\U0001f926-\\U0001f937\"\n",
    "        u'\\U00010000-\\U0010ffff'\n",
    "        u\"\\u200d\"\n",
    "        u\"\\u2640-\\u2642\"\n",
    "        u\"\\u2600-\\u2B55\"\n",
    "        u\"\\u23cf\"\n",
    "        u\"\\u23e9\"\n",
    "        u\"\\u231a\"\n",
    "        u\"\\u3030\"\n",
    "        u\"\\ufe0f\"\n",
    "        u\"\\u2069\"\n",
    "        u\"\\u2066\"\n",
    "        # u\"\\u200c\"\n",
    "        u\"\\u2068\"\n",
    "        u\"\\u2067\"\n",
    "        \"]+\", flags=re.UNICODE)\n",
    "    \n",
    "    return wierd_pattern.sub(r'', text)\n",
    "\n",
    "def remove_numbers(text):\n",
    "    number_pattern = r'\\d+'\n",
    "    without_number = re.sub(pattern=number_pattern, repl=\" \", string=text)\n",
    "    return without_number\n",
    "\n",
    "def lemmatizing(text):\n",
    "    lemmatizer = WordNetLemmatizer()\n",
    "    tokens = word_tokenize(text)\n",
    "    for i in range(len(tokens)):\n",
    "        lemma_word = lemmatizer.lemmatize(tokens[i])\n",
    "        tokens[i] = lemma_word\n",
    "    return \" \".join(tokens)\n",
    "\n",
    "def remove_punctuation(text):\n",
    "    return text.translate(str.maketrans('', '', string.punctuation))\n",
    "\n",
    "def remove_stopwords(text):\n",
    "    removed = []\n",
    "    stop_words = list(stopwords.words(\"english\"))\n",
    "    tokens = word_tokenize(text)\n",
    "    for i in range(len(tokens)):\n",
    "        if tokens[i] not in stop_words:\n",
    "            removed.append(tokens[i])\n",
    "    return \" \".join(removed)\n",
    "\n",
    "def remove_extra_white_spaces(text):\n",
    "    single_char_pattern = r'\\s+[a-zA-Z]\\s+'\n",
    "    without_sc = re.sub(pattern=single_char_pattern, repl=\" \", string=text)\n",
    "    return without_sc\n",
    "\n",
    "def preprocessText(text):\n",
    "  return remove_extra_white_spaces(remove_stopwords(remove_punctuation(remove_numbers(remove_emojis(convert_to_lower(text))))))\n",
    "\n",
    "def preprocessBatch(batch):\n",
    "  new_list = []\n",
    "  for i in batch[\"text\"]:\n",
    "    new_list.append(remove_extra_white_spaces(remove_stopwords(remove_punctuation(remove_numbers(remove_emojis(convert_to_lower(i)))))))\n",
    "  batch[\"text\"] = new_list\n",
    "  return batch"
   ]
  },
  {
   "cell_type": "code",
   "execution_count": 39,
   "metadata": {
    "execution": {
     "iopub.execute_input": "2022-11-14T07:58:21.574723Z",
     "iopub.status.busy": "2022-11-14T07:58:21.574302Z",
     "iopub.status.idle": "2022-11-14T07:58:25.835049Z",
     "shell.execute_reply": "2022-11-14T07:58:25.833954Z",
     "shell.execute_reply.started": "2022-11-14T07:58:21.574680Z"
    },
    "id": "xsfcbkVdXr-I",
    "outputId": "44f59133-e840-4e1a-9341-21e4f3a6a7b6"
   },
   "outputs": [
    {
     "data": {
      "application/vnd.jupyter.widget-view+json": {
       "model_id": "90153c15d7d24a188aa04ae83c56a217",
       "version_major": 2,
       "version_minor": 0
      },
      "text/plain": [
       "  0%|          | 0/128 [00:00<?, ?ba/s]"
      ]
     },
     "metadata": {},
     "output_type": "display_data"
    },
    {
     "data": {
      "application/vnd.jupyter.widget-view+json": {
       "model_id": "dbe9d4b32e01422ab19e9fe7b10c6425",
       "version_major": 2,
       "version_minor": 0
      },
      "text/plain": [
       "  0%|          | 0/32 [00:00<?, ?ba/s]"
      ]
     },
     "metadata": {},
     "output_type": "display_data"
    },
    {
     "data": {
      "application/vnd.jupyter.widget-view+json": {
       "model_id": "8c9aa06e7789427891a3a4d6b56d1a8b",
       "version_major": 2,
       "version_minor": 0
      },
      "text/plain": [
       "  0%|          | 0/32 [00:00<?, ?ba/s]"
      ]
     },
     "metadata": {},
     "output_type": "display_data"
    }
   ],
   "source": [
    "dataset_sentAnalysis_preprocessed = dataset_sentAnalysis.map(preprocessBatch, batched=True, batch_size=32)"
   ]
  },
  {
   "cell_type": "code",
   "execution_count": 40,
   "metadata": {
    "execution": {
     "iopub.execute_input": "2022-11-14T07:58:25.837741Z",
     "iopub.status.busy": "2022-11-14T07:58:25.836567Z",
     "iopub.status.idle": "2022-11-14T07:58:25.846299Z",
     "shell.execute_reply": "2022-11-14T07:58:25.845088Z",
     "shell.execute_reply.started": "2022-11-14T07:58:25.837699Z"
    },
    "id": "aR6oY9BfZezh",
    "outputId": "d05e446e-7c08-433d-c7e5-361d9dd2e98c"
   },
   "outputs": [
    {
     "data": {
      "text/plain": [
       "{'text': 'call time job today ok umma ask speed', 'labels': 0}"
      ]
     },
     "execution_count": 40,
     "metadata": {},
     "output_type": "execute_result"
    }
   ],
   "source": [
    "dataset_sentAnalysis[\"train\"][10]"
   ]
  },
  {
   "cell_type": "code",
   "execution_count": 41,
   "metadata": {
    "execution": {
     "iopub.execute_input": "2022-11-14T07:58:25.849071Z",
     "iopub.status.busy": "2022-11-14T07:58:25.847910Z",
     "iopub.status.idle": "2022-11-14T07:58:25.858088Z",
     "shell.execute_reply": "2022-11-14T07:58:25.856753Z",
     "shell.execute_reply.started": "2022-11-14T07:58:25.848991Z"
    },
    "id": "O78y7VLxXr7w",
    "outputId": "fa6bc0d7-c038-4d17-988d-4c0f5677a0a7"
   },
   "outputs": [
    {
     "data": {
      "text/plain": [
       "{'text': 'call time job today ok umma ask speed', 'labels': 0}"
      ]
     },
     "execution_count": 41,
     "metadata": {},
     "output_type": "execute_result"
    }
   ],
   "source": [
    "dataset_sentAnalysis_preprocessed[\"train\"][10]"
   ]
  },
  {
   "cell_type": "markdown",
   "metadata": {
    "id": "hlgcZxI2lxsP"
   },
   "source": [
    "# Tokenizer\n"
   ]
  },
  {
   "cell_type": "code",
   "execution_count": 42,
   "metadata": {
    "execution": {
     "iopub.execute_input": "2022-11-14T07:58:25.861197Z",
     "iopub.status.busy": "2022-11-14T07:58:25.859791Z",
     "iopub.status.idle": "2022-11-14T07:58:27.814577Z",
     "shell.execute_reply": "2022-11-14T07:58:27.813422Z",
     "shell.execute_reply.started": "2022-11-14T07:58:25.861167Z"
    },
    "id": "-gdT0dwfY9Sd",
    "outputId": "76e57608-a27b-44f4-c1e1-c8422689f0ce"
   },
   "outputs": [],
   "source": [
    "from transformers import AutoTokenizer\n",
    "tokenizer = AutoTokenizer.from_pretrained(modelName)"
   ]
  },
  {
   "cell_type": "code",
   "execution_count": 43,
   "metadata": {
    "execution": {
     "iopub.execute_input": "2022-11-14T07:58:27.816724Z",
     "iopub.status.busy": "2022-11-14T07:58:27.816305Z",
     "iopub.status.idle": "2022-11-14T07:58:27.824946Z",
     "shell.execute_reply": "2022-11-14T07:58:27.823708Z",
     "shell.execute_reply.started": "2022-11-14T07:58:27.816667Z"
    },
    "id": "VZ6krEv8UQ8n"
   },
   "outputs": [],
   "source": [
    "max_len = 128\n",
    "def tokenize(batch):\n",
    "    return tokenizer(batch[\"text\"], padding=True, truncation=True, max_length=max_len)"
   ]
  },
  {
   "cell_type": "code",
   "execution_count": 44,
   "metadata": {
    "execution": {
     "iopub.execute_input": "2022-11-14T07:58:27.827688Z",
     "iopub.status.busy": "2022-11-14T07:58:27.826471Z",
     "iopub.status.idle": "2022-11-14T07:58:27.846903Z",
     "shell.execute_reply": "2022-11-14T07:58:27.845813Z",
     "shell.execute_reply.started": "2022-11-14T07:58:27.827649Z"
    },
    "id": "ZOXsbUFKhp30",
    "outputId": "b2cbb046-2802-4e2f-9ae0-271d23dcf7cf"
   },
   "outputs": [
    {
     "name": "stdout",
     "output_type": "stream",
     "text": [
      "19 ['What', 'is', 'going', 'on', '@', 'rest', '##ura', '##nt', '.', ':', '(', 'It', 'makes', 'Me', 'Feel', 'Up', '##set', '.', '[UNK]']\n",
      "19 [1327, 1110, 1280, 1113, 137, 1832, 4084, 2227, 119, 131, 113, 1135, 2228, 2508, 14425, 3725, 9388, 119, 100]\n",
      "{'input_ids': [101, 1327, 1110, 1280, 1113, 137, 1832, 4084, 2227, 119, 131, 113, 1135, 2228, 2508, 14425, 3725, 9388, 119, 100, 102], 'token_type_ids': [0, 0, 0, 0, 0, 0, 0, 0, 0, 0, 0, 0, 0, 0, 0, 0, 0, 0, 0, 0, 0], 'attention_mask': [1, 1, 1, 1, 1, 1, 1, 1, 1, 1, 1, 1, 1, 1, 1, 1, 1, 1, 1, 1, 1]}\n",
      "21\n",
      "['[CLS]', 'What', 'is', 'going', 'on', '@', 'rest', '##ura', '##nt', '.', ':', '(', 'It', 'makes', 'Me', 'Feel', 'Up', '##set', '.', '[UNK]', '[SEP]']\n",
      "[101, 1327, 1110, 1280, 1113, 137, 1832, 4084, 2227, 119, 131, 113, 1135, 2228, 2508, 14425, 3725, 9388, 119, 100, 102]\n"
     ]
    }
   ],
   "source": [
    "sample_text = \"What is  going on @resturant.:( It makes   Me Feel Upset.😞\"\n",
    "tokens = tokenizer.tokenize(sample_text)\n",
    "print(len(tokens), tokens)\n",
    "token_ids = tokenizer.convert_tokens_to_ids(tokens)\n",
    "print(len(token_ids), token_ids)\n",
    "\n",
    "token_dictionary = tokenizer(sample_text)\n",
    "print(token_dictionary)\n",
    "print(len(token_dictionary.input_ids)) # automatically added cls, sep\n",
    "\n",
    "tokens = tokenizer.convert_ids_to_tokens(token_dictionary['input_ids'])\n",
    "print(tokens)\n",
    "\n",
    "token_encode = tokenizer.encode(sample_text) #convert to tokens ids but with cls+sep\n",
    "print(token_encode)"
   ]
  },
  {
   "cell_type": "code",
   "execution_count": 45,
   "metadata": {
    "execution": {
     "iopub.execute_input": "2022-11-14T07:58:27.848347Z",
     "iopub.status.busy": "2022-11-14T07:58:27.847953Z",
     "iopub.status.idle": "2022-11-14T07:58:27.855383Z",
     "shell.execute_reply": "2022-11-14T07:58:27.854245Z",
     "shell.execute_reply.started": "2022-11-14T07:58:27.848309Z"
    },
    "id": "0a0ZoTn3m3u3",
    "outputId": "2ffdda50-fb68-42ac-b0dc-73884f6e9b7b"
   },
   "outputs": [
    {
     "name": "stdout",
     "output_type": "stream",
     "text": [
      "PreTrainedTokenizerFast(name_or_path='bert-base-cased', vocab_size=28996, model_max_len=512, is_fast=True, padding_side='right', truncation_side='right', special_tokens={'unk_token': '[UNK]', 'sep_token': '[SEP]', 'pad_token': '[PAD]', 'cls_token': '[CLS]', 'mask_token': '[MASK]'})\n",
      "[SEP] 102\n",
      "[CLS] 101\n",
      "[PAD] 0\n",
      "[UNK] 100\n"
     ]
    }
   ],
   "source": [
    "# we use special tokens to separate the sentences. How bert works\n",
    "print(tokenizer)\n",
    "print(tokenizer.sep_token, tokenizer.sep_token_id)\n",
    "print(tokenizer.cls_token, tokenizer.cls_token_id)\n",
    "print(tokenizer.pad_token, tokenizer.pad_token_id)\n",
    "print(tokenizer.unk_token, tokenizer.unk_token_id)"
   ]
  },
  {
   "cell_type": "code",
   "execution_count": 46,
   "metadata": {
    "execution": {
     "iopub.execute_input": "2022-11-14T07:58:27.864599Z",
     "iopub.status.busy": "2022-11-14T07:58:27.863647Z",
     "iopub.status.idle": "2022-11-14T07:58:27.880832Z",
     "shell.execute_reply": "2022-11-14T07:58:27.879520Z",
     "shell.execute_reply.started": "2022-11-14T07:58:27.864557Z"
    },
    "id": "0oe9F7oMoGdT",
    "outputId": "467b541d-612b-4235-cc5b-6f0ee7b65138"
   },
   "outputs": [
    {
     "name": "stderr",
     "output_type": "stream",
     "text": [
      "Truncation was not explicitly activated but `max_length` is provided a specific value, please use `truncation=True` to explicitly truncate examples to max length. Defaulting to 'longest_first' truncation strategy. If you encode pairs of sequences (GLUE-style) with the tokenizer you can select this strategy more precisely by providing a specific strategy to `truncation`.\n",
      "C:\\Users\\TimurRashitov\\anaconda3\\lib\\site-packages\\transformers\\tokenization_utils_base.py:2304: FutureWarning: The `pad_to_max_length` argument is deprecated and will be removed in a future version, use `padding=True` or `padding='longest'` to pad to the longest sequence in the batch, or use `padding='max_length'` to pad to a max length. In this case, you can give a specific length with `max_length` (e.g. `max_length=45`) or leave max_length to None to pad to the maximal input size of the model (e.g. 512 for Bert).\n",
      "  warnings.warn(\n"
     ]
    },
    {
     "data": {
      "text/plain": [
       "{'input_ids': tensor([[  101,  1327,  1110,  1280,  1113,   137,  1832,  4084,  2227,   119,\n",
       "           131,   113,  1135,  2228,  2508, 14425,  3725,  9388,   119,   100,\n",
       "           102,     0,     0,     0,     0,     0,     0,     0,     0,     0,\n",
       "             0,     0,     0,     0,     0,     0,     0,     0,     0,     0,\n",
       "             0,     0,     0,     0,     0,     0,     0,     0,     0,     0,\n",
       "             0,     0,     0,     0,     0,     0,     0,     0,     0,     0,\n",
       "             0,     0,     0,     0,     0,     0,     0,     0,     0,     0,\n",
       "             0,     0,     0,     0,     0,     0,     0,     0,     0,     0,\n",
       "             0,     0,     0,     0,     0,     0,     0,     0,     0,     0,\n",
       "             0,     0,     0,     0,     0,     0,     0,     0,     0,     0,\n",
       "             0,     0,     0,     0,     0,     0,     0,     0,     0,     0,\n",
       "             0,     0,     0,     0,     0,     0,     0,     0,     0,     0,\n",
       "             0,     0,     0,     0,     0,     0,     0,     0]]), 'attention_mask': tensor([[1, 1, 1, 1, 1, 1, 1, 1, 1, 1, 1, 1, 1, 1, 1, 1, 1, 1, 1, 1, 1, 0, 0, 0,\n",
       "         0, 0, 0, 0, 0, 0, 0, 0, 0, 0, 0, 0, 0, 0, 0, 0, 0, 0, 0, 0, 0, 0, 0, 0,\n",
       "         0, 0, 0, 0, 0, 0, 0, 0, 0, 0, 0, 0, 0, 0, 0, 0, 0, 0, 0, 0, 0, 0, 0, 0,\n",
       "         0, 0, 0, 0, 0, 0, 0, 0, 0, 0, 0, 0, 0, 0, 0, 0, 0, 0, 0, 0, 0, 0, 0, 0,\n",
       "         0, 0, 0, 0, 0, 0, 0, 0, 0, 0, 0, 0, 0, 0, 0, 0, 0, 0, 0, 0, 0, 0, 0, 0,\n",
       "         0, 0, 0, 0, 0, 0, 0, 0]])}"
      ]
     },
     "execution_count": 46,
     "metadata": {},
     "output_type": "execute_result"
    }
   ],
   "source": [
    "# the inputs same as distilbert_tokenizer()\n",
    "encoding = tokenizer.encode_plus(\n",
    "    sample_text,\n",
    "    max_length=max_len,\n",
    "    add_special_tokens=True,\n",
    "    pad_to_max_length=True,\n",
    "    return_attention_mask=True,\n",
    "    return_token_type_ids=False,\n",
    "    return_tensors=\"pt\"\n",
    ")\n",
    "encoding"
   ]
  },
  {
   "cell_type": "code",
   "execution_count": 47,
   "metadata": {
    "execution": {
     "iopub.execute_input": "2022-11-14T07:58:27.883399Z",
     "iopub.status.busy": "2022-11-14T07:58:27.882257Z",
     "iopub.status.idle": "2022-11-14T07:58:29.333553Z",
     "shell.execute_reply": "2022-11-14T07:58:29.332355Z",
     "shell.execute_reply.started": "2022-11-14T07:58:27.883360Z"
    },
    "id": "nSHRM9gCboFX",
    "outputId": "9341b61d-b4b1-4d56-ade6-1ffe4afad264"
   },
   "outputs": [
    {
     "data": {
      "application/vnd.jupyter.widget-view+json": {
       "model_id": "21f4beea12c24e5aa37e3e26be783089",
       "version_major": 2,
       "version_minor": 0
      },
      "text/plain": [
       "  0%|          | 0/128 [00:00<?, ?ba/s]"
      ]
     },
     "metadata": {},
     "output_type": "display_data"
    },
    {
     "data": {
      "application/vnd.jupyter.widget-view+json": {
       "model_id": "69bbe29183164cf9ab4fd189833d76ee",
       "version_major": 2,
       "version_minor": 0
      },
      "text/plain": [
       "  0%|          | 0/32 [00:00<?, ?ba/s]"
      ]
     },
     "metadata": {},
     "output_type": "display_data"
    },
    {
     "data": {
      "application/vnd.jupyter.widget-view+json": {
       "model_id": "70af8c7ce6de44608ed5fb2bc6649356",
       "version_major": 2,
       "version_minor": 0
      },
      "text/plain": [
       "  0%|          | 0/32 [00:00<?, ?ba/s]"
      ]
     },
     "metadata": {},
     "output_type": "display_data"
    }
   ],
   "source": [
    "dataset_sentAnalysis_encoded = dataset_sentAnalysis_preprocessed.map(tokenize, batched=True, batch_size=32)"
   ]
  },
  {
   "cell_type": "code",
   "execution_count": 48,
   "metadata": {
    "execution": {
     "iopub.execute_input": "2022-11-14T07:58:29.336232Z",
     "iopub.status.busy": "2022-11-14T07:58:29.335461Z",
     "iopub.status.idle": "2022-11-14T07:58:29.344421Z",
     "shell.execute_reply": "2022-11-14T07:58:29.343219Z",
     "shell.execute_reply.started": "2022-11-14T07:58:29.336182Z"
    },
    "id": "Qif6d60IboBu",
    "outputId": "8760da3c-80fd-4c05-9a96-04961ecab3e9"
   },
   "outputs": [
    {
     "data": {
      "text/plain": [
       "DatasetDict({\n",
       "    train: Dataset({\n",
       "        features: ['text', 'labels', 'input_ids', 'token_type_ids', 'attention_mask'],\n",
       "        num_rows: 4092\n",
       "    })\n",
       "    val: Dataset({\n",
       "        features: ['text', 'labels', 'input_ids', 'token_type_ids', 'attention_mask'],\n",
       "        num_rows: 1023\n",
       "    })\n",
       "    test: Dataset({\n",
       "        features: ['text', 'labels', 'input_ids', 'token_type_ids', 'attention_mask'],\n",
       "        num_rows: 1023\n",
       "    })\n",
       "})"
      ]
     },
     "execution_count": 48,
     "metadata": {},
     "output_type": "execute_result"
    }
   ],
   "source": [
    "dataset_sentAnalysis_encoded"
   ]
  },
  {
   "cell_type": "markdown",
   "metadata": {
    "id": "d7JMLhMXcAMQ"
   },
   "source": [
    "# Add Classification head manually for Model\n"
   ]
  },
  {
   "cell_type": "code",
   "execution_count": 49,
   "metadata": {
    "execution": {
     "iopub.execute_input": "2022-11-14T08:39:25.208727Z",
     "iopub.status.busy": "2022-11-14T08:39:25.208304Z",
     "iopub.status.idle": "2022-11-14T08:39:25.220602Z",
     "shell.execute_reply": "2022-11-14T08:39:25.219342Z",
     "shell.execute_reply.started": "2022-11-14T08:39:25.208687Z"
    },
    "id": "laSoZEIlAMzw"
   },
   "outputs": [],
   "source": [
    "from transformers import BertConfig\n",
    "from transformers.models.bert.modeling_bert import BertModel, BertPreTrainedModel\n",
    "from transformers.modeling_outputs import SequenceClassifierOutput\n",
    "import torch.nn as nn\n",
    "\n",
    "class BertForClassification(BertPreTrainedModel):\n",
    "\n",
    "    def __init__(self, config):\n",
    "        super().__init__(config)\n",
    "        self.num_labels = config.num_labels\n",
    "        self.config = config\n",
    "\n",
    "        # Load model body > return all og the HS\n",
    "        self.bert = BertModel(config)\n",
    "        # Set up token classification head\n",
    "        self.dropout = nn.Dropout(config.hidden_dropout_prob)\n",
    "        self.classifier = nn.Linear(config.hidden_size, config.num_labels)\n",
    "\n",
    "        # Initialize weights and apply final processing\n",
    "        self.post_init()\n",
    "\n",
    "\n",
    "    def forward(self, input_ids=None, attention_mask=None, token_type_ids=None, \n",
    "                labels=None, **kwargs):\n",
    "        # Use model body to get encoder representations\n",
    "        outputs = self.bert(input_ids, attention_mask=attention_mask,\n",
    "                               token_type_ids=token_type_ids, **kwargs)\n",
    "\n",
    "        # Apply classifier to encoder representation > [cls]\n",
    "        sequence_output = self.dropout(outputs[1])\n",
    "        logits = self.classifier(sequence_output)\n",
    "\n",
    "        # Calculate losses\n",
    "        loss = None\n",
    "        if labels is not None:\n",
    "            loss_fct = nn.CrossEntropyLoss()\n",
    "            loss = loss_fct(logits.view(-1, self.num_labels), labels.view(-1))\n",
    "        # Return model output object\n",
    "        return SequenceClassifierOutput(\n",
    "            loss=loss,\n",
    "            logits=logits,\n",
    "            hidden_states=outputs.hidden_states,\n",
    "            attentions=outputs.attentions,\n",
    "        )"
   ]
  },
  {
   "cell_type": "code",
   "execution_count": 51,
   "metadata": {
    "execution": {
     "iopub.execute_input": "2022-11-14T08:39:25.575168Z",
     "iopub.status.busy": "2022-11-14T08:39:25.574760Z",
     "iopub.status.idle": "2022-11-14T08:39:25.682262Z",
     "shell.execute_reply": "2022-11-14T08:39:25.681158Z",
     "shell.execute_reply.started": "2022-11-14T08:39:25.575131Z"
    },
    "id": "vH6Gmm_oAQZg"
   },
   "outputs": [],
   "source": [
    "from transformers import AutoConfig\n",
    "\n",
    "id2label = {\n",
    "    0: 'ham',\n",
    "    1: 'spam'\n",
    "}\n",
    "\n",
    "label2id = { v:k for (k,v) in id2label.items()}\n",
    "\n",
    "bert_config = AutoConfig.from_pretrained(modelName, \n",
    "                                         num_labels=2,\n",
    "                                         id2label=id2label, label2id=label2id)"
   ]
  },
  {
   "cell_type": "code",
   "execution_count": 52,
   "metadata": {
    "execution": {
     "iopub.execute_input": "2022-11-14T08:39:25.945355Z",
     "iopub.status.busy": "2022-11-14T08:39:25.943723Z",
     "iopub.status.idle": "2022-11-14T08:39:28.293964Z",
     "shell.execute_reply": "2022-11-14T08:39:28.292291Z",
     "shell.execute_reply.started": "2022-11-14T08:39:25.945303Z"
    },
    "id": "zeNPtRNSAQRI",
    "outputId": "16d504a8-35e4-4566-ddb4-515981efe269"
   },
   "outputs": [
    {
     "name": "stderr",
     "output_type": "stream",
     "text": [
      "Some weights of the model checkpoint at bert-base-cased were not used when initializing BertForClassification: ['cls.predictions.bias', 'cls.seq_relationship.weight', 'cls.predictions.transform.LayerNorm.weight', 'cls.predictions.decoder.weight', 'cls.seq_relationship.bias', 'cls.predictions.transform.LayerNorm.bias', 'cls.predictions.transform.dense.bias', 'cls.predictions.transform.dense.weight']\n",
      "- This IS expected if you are initializing BertForClassification from the checkpoint of a model trained on another task or with another architecture (e.g. initializing a BertForSequenceClassification model from a BertForPreTraining model).\n",
      "- This IS NOT expected if you are initializing BertForClassification from the checkpoint of a model that you expect to be exactly identical (initializing a BertForSequenceClassification model from a BertForSequenceClassification model).\n",
      "Some weights of BertForClassification were not initialized from the model checkpoint at bert-base-cased and are newly initialized: ['classifier.weight', 'classifier.bias']\n",
      "You should probably TRAIN this model on a down-stream task to be able to use it for predictions and inference.\n"
     ]
    }
   ],
   "source": [
    "bert_model = (BertForClassification\n",
    "              .from_pretrained(modelName, config=bert_config)\n",
    "              .to(device))"
   ]
  },
  {
   "cell_type": "markdown",
   "metadata": {
    "id": "s4XiXF_wcnw1"
   },
   "source": [
    "# Training Arguments"
   ]
  },
  {
   "cell_type": "code",
   "execution_count": 53,
   "metadata": {
    "execution": {
     "iopub.execute_input": "2022-11-14T08:39:28.300071Z",
     "iopub.status.busy": "2022-11-14T08:39:28.297107Z",
     "iopub.status.idle": "2022-11-14T08:39:38.088539Z",
     "shell.execute_reply": "2022-11-14T08:39:38.087482Z",
     "shell.execute_reply.started": "2022-11-14T08:39:28.300003Z"
    },
    "id": "ozCQ9-qwbnuo",
    "outputId": "09546bea-5484-4ff2-f8ed-1766bbbc313e"
   },
   "outputs": [
    {
     "name": "stderr",
     "output_type": "stream",
     "text": [
      "\u001b[34m\u001b[1mwandb\u001b[0m: Currently logged in as: \u001b[33mtimurchik\u001b[0m (\u001b[33mtimka\u001b[0m). Use \u001b[1m`wandb login --relogin`\u001b[0m to force relogin\n"
     ]
    },
    {
     "data": {
      "application/vnd.jupyter.widget-view+json": {
       "model_id": "db03462b5ea048cf81a93c8123913eb0",
       "version_major": 2,
       "version_minor": 0
      },
      "text/plain": [
       "VBox(children=(Label(value='Waiting for wandb.init()...\\r'), FloatProgress(value=0.016666666666666666, max=1.0…"
      ]
     },
     "metadata": {},
     "output_type": "display_data"
    },
    {
     "data": {
      "text/html": [
       "Tracking run with wandb version 0.13.5"
      ],
      "text/plain": [
       "<IPython.core.display.HTML object>"
      ]
     },
     "metadata": {},
     "output_type": "display_data"
    },
    {
     "data": {
      "text/html": [
       "Run data is saved locally in <code>C:\\Users\\TimurRashitov\\wandb\\run-20221115_141244-3tqis4dm</code>"
      ],
      "text/plain": [
       "<IPython.core.display.HTML object>"
      ]
     },
     "metadata": {},
     "output_type": "display_data"
    },
    {
     "data": {
      "text/html": [
       "Syncing run <strong><a href=\"https://wandb.ai/timka/bert-for-english-classification/runs/3tqis4dm\" target=\"_blank\">usual-cloud-27</a></strong> to <a href=\"https://wandb.ai/timka/bert-for-english-classification\" target=\"_blank\">Weights & Biases</a> (<a href=\"https://wandb.me/run\" target=\"_blank\">docs</a>)<br/>"
      ],
      "text/plain": [
       "<IPython.core.display.HTML object>"
      ]
     },
     "metadata": {},
     "output_type": "display_data"
    }
   ],
   "source": [
    "from transformers import Trainer, TrainingArguments\n",
    "import wandb\n",
    "wandb.login()\n",
    "\n",
    "wandb.init(project=\"bert-for-english-classification\")\n",
    "\n",
    "num_epochs = 6\n",
    "batch_size = 32\n",
    "logging_steps = len(dataset_sentAnalysis_encoded[\"train\"]) // batch_size\n",
    "model_name = f\"{modelName}-finetuned-sentimentAnalysis-bert\"\n",
    "training_args = TrainingArguments(output_dir=model_name,\n",
    "                                  num_train_epochs=num_epochs,\n",
    "                                  per_device_train_batch_size=batch_size,\n",
    "                                  per_device_eval_batch_size=batch_size,\n",
    "                                  weight_decay=0.01,\n",
    "                                  evaluation_strategy=\"epoch\",\n",
    "                                  save_strategy=\"epoch\",\n",
    "                                  save_steps=1e6,\n",
    "                                  disable_tqdm=False,\n",
    "                                  logging_steps=logging_steps,\n",
    "                                  push_to_hub=False, \n",
    "                                  log_level=\"error\",\n",
    "                                  report_to=\"wandb\",\n",
    "                                  run_name=\"bert-sent-analysis\",\n",
    "                                  save_total_limit = 5,\n",
    "                                  load_best_model_at_end=True\n",
    "                                 )"
   ]
  },
  {
   "cell_type": "code",
   "execution_count": 54,
   "metadata": {
    "execution": {
     "iopub.execute_input": "2022-11-14T08:39:38.096558Z",
     "iopub.status.busy": "2022-11-14T08:39:38.093933Z",
     "iopub.status.idle": "2022-11-14T08:39:38.107408Z",
     "shell.execute_reply": "2022-11-14T08:39:38.105919Z",
     "shell.execute_reply.started": "2022-11-14T08:39:38.096497Z"
    },
    "id": "UhG6LJikcggo"
   },
   "outputs": [],
   "source": [
    "from sklearn.metrics import accuracy_score, f1_score\n",
    "\n",
    "def compute_metrics(pred):\n",
    "    labels = pred.label_ids\n",
    "    preds = pred.predictions.argmax(-1)\n",
    "    f1 = f1_score(labels, preds, average=\"weighted\")\n",
    "    acc = accuracy_score(labels, preds)\n",
    "    return {\"accuracy\": acc, \"f1\": f1}"
   ]
  },
  {
   "cell_type": "code",
   "execution_count": 55,
   "metadata": {
    "execution": {
     "iopub.execute_input": "2022-11-14T08:39:51.525481Z",
     "iopub.status.busy": "2022-11-14T08:39:51.524986Z",
     "iopub.status.idle": "2022-11-14T08:42:57.352812Z",
     "shell.execute_reply": "2022-11-14T08:42:57.351614Z",
     "shell.execute_reply.started": "2022-11-14T08:39:51.525437Z"
    },
    "id": "kr3N0zgmcsIB",
    "outputId": "63489d59-580e-41ae-f596-d209d26255e4"
   },
   "outputs": [],
   "source": [
    "from torch.optim import AdamW\n",
    "from transformers import get_scheduler\n",
    "\n",
    "optimizer = AdamW(bert_model.parameters(), lr=2e-5)"
   ]
  },
  {
   "cell_type": "code",
   "execution_count": 56,
   "metadata": {
    "execution": {
     "iopub.execute_input": "2022-11-14T08:39:51.525481Z",
     "iopub.status.busy": "2022-11-14T08:39:51.524986Z",
     "iopub.status.idle": "2022-11-14T08:42:57.352812Z",
     "shell.execute_reply": "2022-11-14T08:42:57.351614Z",
     "shell.execute_reply.started": "2022-11-14T08:39:51.525437Z"
    },
    "id": "kr3N0zgmcsIB",
    "outputId": "63489d59-580e-41ae-f596-d209d26255e4"
   },
   "outputs": [
    {
     "data": {
      "text/html": [
       "\n",
       "    <div>\n",
       "      \n",
       "      <progress value='768' max='768' style='width:300px; height:20px; vertical-align: middle;'></progress>\n",
       "      [768/768 08:24, Epoch 6/6]\n",
       "    </div>\n",
       "    <table border=\"1\" class=\"dataframe\">\n",
       "  <thead>\n",
       " <tr style=\"text-align: left;\">\n",
       "      <th>Epoch</th>\n",
       "      <th>Training Loss</th>\n",
       "      <th>Validation Loss</th>\n",
       "      <th>Accuracy</th>\n",
       "      <th>F1</th>\n",
       "    </tr>\n",
       "  </thead>\n",
       "  <tbody>\n",
       "    <tr>\n",
       "      <td>1</td>\n",
       "      <td>0.130100</td>\n",
       "      <td>0.084829</td>\n",
       "      <td>0.978495</td>\n",
       "      <td>0.978911</td>\n",
       "    </tr>\n",
       "    <tr>\n",
       "      <td>2</td>\n",
       "      <td>0.040200</td>\n",
       "      <td>0.066496</td>\n",
       "      <td>0.982405</td>\n",
       "      <td>0.982464</td>\n",
       "    </tr>\n",
       "    <tr>\n",
       "      <td>3</td>\n",
       "      <td>0.018200</td>\n",
       "      <td>0.071605</td>\n",
       "      <td>0.983382</td>\n",
       "      <td>0.983354</td>\n",
       "    </tr>\n",
       "    <tr>\n",
       "      <td>4</td>\n",
       "      <td>0.013200</td>\n",
       "      <td>0.087994</td>\n",
       "      <td>0.982405</td>\n",
       "      <td>0.982522</td>\n",
       "    </tr>\n",
       "    <tr>\n",
       "      <td>5</td>\n",
       "      <td>0.005800</td>\n",
       "      <td>0.079342</td>\n",
       "      <td>0.985337</td>\n",
       "      <td>0.985312</td>\n",
       "    </tr>\n",
       "    <tr>\n",
       "      <td>6</td>\n",
       "      <td>0.004900</td>\n",
       "      <td>0.083041</td>\n",
       "      <td>0.985337</td>\n",
       "      <td>0.985312</td>\n",
       "    </tr>\n",
       "  </tbody>\n",
       "</table><p>"
      ],
      "text/plain": [
       "<IPython.core.display.HTML object>"
      ]
     },
     "metadata": {},
     "output_type": "display_data"
    },
    {
     "data": {
      "text/plain": [
       "TrainOutput(global_step=768, training_loss=0.03517368835794817, metrics={'train_runtime': 509.2879, 'train_samples_per_second': 48.208, 'train_steps_per_second': 1.508, 'total_flos': 1193475858223200.0, 'train_loss': 0.03517368835794817, 'epoch': 6.0})"
      ]
     },
     "execution_count": 56,
     "metadata": {},
     "output_type": "execute_result"
    }
   ],
   "source": [
    "num_training_steps = num_epochs * logging_steps\n",
    "lr_scheduler = get_scheduler(\n",
    "    name=\"linear\", optimizer=optimizer, num_warmup_steps=0, num_training_steps=num_training_steps\n",
    ")\n",
    "\n",
    "trainer_preprocessed_lr = Trainer(model=bert_model, args=training_args,\n",
    "                                  compute_metrics=compute_metrics,\n",
    "                                  train_dataset=dataset_sentAnalysis_encoded[\"train\"],\n",
    "                                  eval_dataset=dataset_sentAnalysis_encoded[\"val\"],\n",
    "                                  tokenizer=tokenizer,\n",
    "                                  optimizers=(optimizer,lr_scheduler))\n",
    "\n",
    "trainer_preprocessed_lr.train()"
   ]
  },
  {
   "cell_type": "markdown",
   "metadata": {
    "id": "FyM5mlQcc9Ge"
   },
   "source": [
    "# Evaluation\n",
    "\n"
   ]
  },
  {
   "cell_type": "code",
   "execution_count": 50,
   "metadata": {
    "execution": {
     "iopub.execute_input": "2022-11-14T08:27:52.306629Z",
     "iopub.status.busy": "2022-11-14T08:27:52.306149Z",
     "iopub.status.idle": "2022-11-14T08:27:55.177386Z",
     "shell.execute_reply": "2022-11-14T08:27:55.176110Z",
     "shell.execute_reply.started": "2022-11-14T08:27:52.306585Z"
    },
    "id": "Wk5KoTCsdAgd",
    "outputId": "f0bfd5a6-433e-46ee-aca9-91d996952339"
   },
   "outputs": [
    {
     "data": {
      "text/plain": [
       "Dataset({\n",
       "    features: ['text', 'labels', 'input_ids', 'token_type_ids', 'attention_mask'],\n",
       "    num_rows: 2861\n",
       "})"
      ]
     },
     "execution_count": 50,
     "metadata": {},
     "output_type": "execute_result"
    }
   ],
   "source": [
    "dataset_sentAnalysis_encoded[\"test\"]"
   ]
  },
  {
   "cell_type": "code",
   "execution_count": 60,
   "metadata": {
    "execution": {
     "iopub.execute_input": "2022-11-14T08:27:52.306629Z",
     "iopub.status.busy": "2022-11-14T08:27:52.306149Z",
     "iopub.status.idle": "2022-11-14T08:27:55.177386Z",
     "shell.execute_reply": "2022-11-14T08:27:55.176110Z",
     "shell.execute_reply.started": "2022-11-14T08:27:52.306585Z"
    },
    "id": "Wk5KoTCsdAgd",
    "outputId": "f0bfd5a6-433e-46ee-aca9-91d996952339"
   },
   "outputs": [
    {
     "data": {
      "text/html": [],
      "text/plain": [
       "<IPython.core.display.HTML object>"
      ]
     },
     "metadata": {},
     "output_type": "display_data"
    },
    {
     "data": {
      "text/html": [
       "<div>\n",
       "<style scoped>\n",
       "    .dataframe tbody tr th:only-of-type {\n",
       "        vertical-align: middle;\n",
       "    }\n",
       "\n",
       "    .dataframe tbody tr th {\n",
       "        vertical-align: top;\n",
       "    }\n",
       "\n",
       "    .dataframe thead th {\n",
       "        text-align: right;\n",
       "    }\n",
       "</style>\n",
       "<table border=\"1\" class=\"dataframe\">\n",
       "  <thead>\n",
       "    <tr style=\"text-align: right;\">\n",
       "      <th></th>\n",
       "      <th>0</th>\n",
       "      <th>1</th>\n",
       "      <th>2</th>\n",
       "      <th>3</th>\n",
       "      <th>4</th>\n",
       "      <th>5</th>\n",
       "    </tr>\n",
       "  </thead>\n",
       "  <tbody>\n",
       "    <tr>\n",
       "      <th>0</th>\n",
       "      <td>test_loss</td>\n",
       "      <td>test_accuracy</td>\n",
       "      <td>test_f1</td>\n",
       "      <td>test_runtime</td>\n",
       "      <td>test_samples_per_second</td>\n",
       "      <td>test_steps_per_second</td>\n",
       "    </tr>\n",
       "    <tr>\n",
       "      <th>1</th>\n",
       "      <td>0.066496</td>\n",
       "      <td>0.982405</td>\n",
       "      <td>0.982464</td>\n",
       "      <td>3.8017</td>\n",
       "      <td>269.092</td>\n",
       "      <td>8.417</td>\n",
       "    </tr>\n",
       "  </tbody>\n",
       "</table>\n",
       "</div>"
      ],
      "text/plain": [
       "           0              1         2             3                        4  \\\n",
       "0  test_loss  test_accuracy   test_f1  test_runtime  test_samples_per_second   \n",
       "1   0.066496       0.982405  0.982464        3.8017                  269.092   \n",
       "\n",
       "                       5  \n",
       "0  test_steps_per_second  \n",
       "1                  8.417  "
      ]
     },
     "execution_count": 60,
     "metadata": {},
     "output_type": "execute_result"
    }
   ],
   "source": [
    "model = bert_model\n",
    "model.eval()\n",
    "preds_output = trainer_preprocessed_lr.predict(dataset_sentAnalysis_encoded[\"test\"])\n",
    "pd.DataFrame(list(preds_output.metrics.items())).T"
   ]
  },
  {
   "cell_type": "code",
   "execution_count": 61,
   "metadata": {
    "execution": {
     "iopub.execute_input": "2022-11-14T08:06:50.952443Z",
     "iopub.status.busy": "2022-11-14T08:06:50.949786Z",
     "iopub.status.idle": "2022-11-14T08:06:50.962718Z",
     "shell.execute_reply": "2022-11-14T08:06:50.961278Z",
     "shell.execute_reply.started": "2022-11-14T08:06:50.952395Z"
    },
    "id": "JhQ2csktdAab"
   },
   "outputs": [],
   "source": [
    "import matplotlib.pyplot as plt\n",
    "from sklearn.metrics import ConfusionMatrixDisplay, confusion_matrix\n",
    "\n",
    "def plot_confusion_matrix(y_preds, y_true, labels):\n",
    "    cm = confusion_matrix(y_true, y_preds, normalize=\"true\")\n",
    "    fig, ax = plt.subplots(figsize=(6, 6))\n",
    "    disp = ConfusionMatrixDisplay(confusion_matrix=cm, display_labels=labels)\n",
    "    disp.plot(cmap=\"Blues\", values_format=\".2f\", ax=ax, colorbar=False)\n",
    "    plt.title(\"Normalized confusion matrix\")\n",
    "    plt.show()"
   ]
  },
  {
   "cell_type": "code",
   "execution_count": 62,
   "metadata": {
    "execution": {
     "iopub.execute_input": "2022-11-13T19:16:30.038399Z",
     "iopub.status.busy": "2022-11-13T19:16:30.037395Z",
     "iopub.status.idle": "2022-11-13T19:16:30.265387Z",
     "shell.execute_reply": "2022-11-13T19:16:30.264037Z",
     "shell.execute_reply.started": "2022-11-13T19:16:30.038354Z"
    },
    "id": "_dzC3c50dAWs",
    "outputId": "a53fe85e-cf2d-4f6d-a3df-617c22c824ef"
   },
   "outputs": [],
   "source": [
    "y_preds = np.argmax(preds_output.predictions, axis=1)"
   ]
  },
  {
   "cell_type": "code",
   "execution_count": 63,
   "metadata": {
    "execution": {
     "iopub.execute_input": "2022-11-13T19:16:30.038399Z",
     "iopub.status.busy": "2022-11-13T19:16:30.037395Z",
     "iopub.status.idle": "2022-11-13T19:16:30.265387Z",
     "shell.execute_reply": "2022-11-13T19:16:30.264037Z",
     "shell.execute_reply.started": "2022-11-13T19:16:30.038354Z"
    },
    "id": "_dzC3c50dAWs",
    "outputId": "a53fe85e-cf2d-4f6d-a3df-617c22c824ef"
   },
   "outputs": [
    {
     "data": {
      "text/plain": [
       "['ham', 'spam']"
      ]
     },
     "execution_count": 63,
     "metadata": {},
     "output_type": "execute_result"
    }
   ],
   "source": [
    "labels"
   ]
  },
  {
   "cell_type": "code",
   "execution_count": 64,
   "metadata": {
    "execution": {
     "iopub.execute_input": "2022-11-13T19:16:30.038399Z",
     "iopub.status.busy": "2022-11-13T19:16:30.037395Z",
     "iopub.status.idle": "2022-11-13T19:16:30.265387Z",
     "shell.execute_reply": "2022-11-13T19:16:30.264037Z",
     "shell.execute_reply.started": "2022-11-13T19:16:30.038354Z"
    },
    "id": "_dzC3c50dAWs",
    "outputId": "a53fe85e-cf2d-4f6d-a3df-617c22c824ef"
   },
   "outputs": [
    {
     "data": {
      "image/png": "[encoded data removed]",
      "text/plain": [
       "<Figure size 600x600 with 1 Axes>"
      ]
     },
     "metadata": {},
     "output_type": "display_data"
    }
   ],
   "source": [
    "y_test = np.array(dataset_sentAnalysis_encoded[\"test\"][\"labels\"])\n",
    "labels = dataset_sentAnalysis_encoded[\"train\"].features[\"labels\"].names\n",
    "plot_confusion_matrix(y_preds, y_test, labels)"
   ]
  },
  {
   "cell_type": "code",
   "execution_count": 65,
   "metadata": {
    "execution": {
     "iopub.execute_input": "2022-11-13T19:16:30.267423Z",
     "iopub.status.busy": "2022-11-13T19:16:30.266810Z",
     "iopub.status.idle": "2022-11-13T19:16:30.286294Z",
     "shell.execute_reply": "2022-11-13T19:16:30.285446Z",
     "shell.execute_reply.started": "2022-11-13T19:16:30.267382Z"
    },
    "id": "cFp_5XgPdAT2",
    "outputId": "54295023-33be-4c0c-9395-fbd0322b3d69"
   },
   "outputs": [
    {
     "name": "stdout",
     "output_type": "stream",
     "text": [
      "              precision    recall  f1-score   support\n",
      "\n",
      "         ham       0.99      0.99      0.99       897\n",
      "        spam       0.92      0.94      0.93       126\n",
      "\n",
      "    accuracy                           0.98      1023\n",
      "   macro avg       0.96      0.96      0.96      1023\n",
      "weighted avg       0.98      0.98      0.98      1023\n",
      "\n"
     ]
    }
   ],
   "source": [
    "from sklearn.metrics import confusion_matrix, classification_report\n",
    "\n",
    "class_names = ['ham', 'spam']\n",
    "print(classification_report(y_test, y_preds, target_names=class_names))"
   ]
  },
  {
   "cell_type": "markdown",
   "metadata": {
    "id": "Mj3Kx_9_d2jw"
   },
   "source": [
    "# Predict one input"
   ]
  },
  {
   "cell_type": "code",
   "execution_count": 66,
   "metadata": {
    "execution": {
     "iopub.execute_input": "2022-11-13T19:16:30.297050Z",
     "iopub.status.busy": "2022-11-13T19:16:30.295883Z",
     "iopub.status.idle": "2022-11-13T19:16:30.306899Z",
     "shell.execute_reply": "2022-11-13T19:16:30.306261Z",
     "shell.execute_reply.started": "2022-11-13T19:16:30.297005Z"
    },
    "id": "YWYBPCyseB_5"
   },
   "outputs": [],
   "source": [
    "import numpy as np\n",
    "import torch.nn.functional as F\n",
    "\n",
    "def predict_text(model,text):\n",
    "    inputs = tokenizer(text, return_tensors=\"pt\", padding=True, truncation=True, max_length=max_len)\n",
    "    inputs = {k:v.to(device) for k,v in inputs.items()}\n",
    "    with torch.no_grad():\n",
    "        outputs = model(**inputs)\n",
    "    out = F.softmax(outputs.logits,dim=1)\n",
    "    y_out = np.argmax(out.cpu(),axis=1)\n",
    "    return out, y_out"
   ]
  },
  {
   "cell_type": "code",
   "execution_count": 69,
   "metadata": {
    "execution": {
     "iopub.execute_input": "2022-11-13T19:16:30.308953Z",
     "iopub.status.busy": "2022-11-13T19:16:30.308161Z",
     "iopub.status.idle": "2022-11-13T19:16:30.331354Z",
     "shell.execute_reply": "2022-11-13T19:16:30.330655Z",
     "shell.execute_reply.started": "2022-11-13T19:16:30.308917Z"
    },
    "id": "WGbwmUX5eiyq",
    "outputId": "6e079531-ed13-4fa2-f215-9ab8c7b34f6a"
   },
   "outputs": [
    {
     "data": {
      "text/plain": [
       "(tensor([[0.1787, 0.8213]], device='cuda:0'), 'spam')"
      ]
     },
     "execution_count": 69,
     "metadata": {},
     "output_type": "execute_result"
    }
   ],
   "source": [
    "sample_text = \"increase your benefit by buying a new stuff on www.sell.com\"\n",
    "out, y_out = predict_text(model,sample_text)\n",
    "out, id2label[y_out.item()]"
   ]
  },
  {
   "cell_type": "code",
   "execution_count": 70,
   "metadata": {
    "execution": {
     "iopub.execute_input": "2022-11-13T19:16:30.333626Z",
     "iopub.status.busy": "2022-11-13T19:16:30.332991Z",
     "iopub.status.idle": "2022-11-13T19:16:30.345946Z",
     "shell.execute_reply": "2022-11-13T19:16:30.344719Z",
     "shell.execute_reply.started": "2022-11-13T19:16:30.333589Z"
    },
    "id": "I3l86_XAN_oE",
    "outputId": "b313d08f-bf52-462c-a0be-c88f8b8f94af"
   },
   "outputs": [
    {
     "name": "stderr",
     "output_type": "stream",
     "text": [
      "C:\\Users\\TimurRashitov\\AppData\\Local\\Temp\\ipykernel_1176\\1348095419.py:1: FutureWarning: Passing a negative integer is deprecated in version 1.0 and will not be supported in future version. Instead, use None to not limit the column width.\n",
      "  pd.set_option('display.max_colwidth', -1)\n"
     ]
    },
    {
     "data": {
      "text/html": [
       "<div>\n",
       "<style scoped>\n",
       "    .dataframe tbody tr th:only-of-type {\n",
       "        vertical-align: middle;\n",
       "    }\n",
       "\n",
       "    .dataframe tbody tr th {\n",
       "        vertical-align: top;\n",
       "    }\n",
       "\n",
       "    .dataframe thead th {\n",
       "        text-align: right;\n",
       "    }\n",
       "</style>\n",
       "<table border=\"1\" class=\"dataframe\">\n",
       "  <thead>\n",
       "    <tr style=\"text-align: right;\">\n",
       "      <th></th>\n",
       "      <th>0</th>\n",
       "    </tr>\n",
       "  </thead>\n",
       "  <tbody>\n",
       "    <tr>\n",
       "      <th>Text</th>\n",
       "      <td>increase your benefit by buying a new stuff on www.sell.com</td>\n",
       "    </tr>\n",
       "    <tr>\n",
       "      <th>Sentiment</th>\n",
       "      <td>spam</td>\n",
       "    </tr>\n",
       "  </tbody>\n",
       "</table>\n",
       "</div>"
      ],
      "text/plain": [
       "                                                                     0\n",
       "Text       increase your benefit by buying a new stuff on www.sell.com\n",
       "Sentiment  spam                                                       "
      ]
     },
     "execution_count": 70,
     "metadata": {},
     "output_type": "execute_result"
    }
   ],
   "source": [
    "pd.set_option('display.max_colwidth', -1)\n",
    "pd.DataFrame({\n",
    "    \"Text\": sample_text,\n",
    "    \"Sentiment\": class_names[y_out.item()]\n",
    "},index=[0]).T"
   ]
  }
 ],
 "metadata": {
  "kernelspec": {
   "display_name": "Python 3 (ipykernel)",
   "language": "python",
   "name": "python3"
  },
  "language_info": {
   "codemirror_mode": {
    "name": "ipython",
    "version": 3
   },
   "file_extension": ".py",
   "mimetype": "text/x-python",
   "name": "python",
   "nbconvert_exporter": "python",
   "pygments_lexer": "ipython3",
   "version": "3.9.13"
  }
 },
 "nbformat": 4,
 "nbformat_minor": 4
}
